{
 "cells": [
  {
   "cell_type": "markdown",
   "metadata": {},
   "source": [
    "#### Visualization of Xenium healthy gut data after the labels transer \n",
    "- **Developed by:** Anna Maguza\n",
    "- **Place:** Wuerzburg Institute for System Immunology\n",
    "- **Date:** 30th January 2024"
   ]
  },
  {
   "cell_type": "markdown",
   "metadata": {},
   "source": [
    "+ Import Packages"
   ]
  },
  {
   "cell_type": "code",
   "execution_count": null,
   "metadata": {},
   "outputs": [],
   "source": [
    "import anndata as ad\n",
    "import scanpy as sc\n",
    "import squidpy as sq\n",
    "import pandas as pd\n",
    "from scipy.io import mmread\n",
    "import matplotlib.pyplot as plt\n",
    "import numpy as np\n",
    "import scipy as sci\n",
    "from scipy.sparse import coo_matrix\n",
    "from PIL import Image"
   ]
  },
  {
   "cell_type": "code",
   "execution_count": null,
   "metadata": {},
   "outputs": [],
   "source": [
    "from libtiff import TIFF"
   ]
  },
  {
   "cell_type": "markdown",
   "metadata": {},
   "source": [
    "+ Upload anndata objects"
   ]
  },
  {
   "cell_type": "code",
   "execution_count": null,
   "metadata": {},
   "outputs": [],
   "source": [
    "# upload h5 object\n",
    "adata_xenium = sc.read_10x_h5('/mnt/LaCIE/annaM/gut_project/raw_data/Xenium_10X_datasets/Gut_samples/Non-diseased_pre-designed_pallet/outs/cell_feature_matrix.h5')"
   ]
  },
  {
   "cell_type": "code",
   "execution_count": null,
   "metadata": {},
   "outputs": [],
   "source": [
    "input = '/mnt/LaCIE/annaM/gut_project/Processed_data/Gut_data/10X_Xenium_data/epithelial_scRNA_and_Xenium_data_scANVI.h5ad'\n",
    "adata = sc.read_h5ad(input)"
   ]
  },
  {
   "cell_type": "code",
   "execution_count": null,
   "metadata": {},
   "outputs": [],
   "source": [
    "input = '/mnt/LaCIE/annaM/gut_project/Processed_data/Gut_data/10X_Xenium_data/scRNA_and_Xenium_data_scANVI.h5ad'\n",
    "adata_full = sc.read_h5ad(input)"
   ]
  },
  {
   "cell_type": "markdown",
   "metadata": {},
   "source": [
    "+ Upload images"
   ]
  },
  {
   "cell_type": "code",
   "execution_count": null,
   "metadata": {},
   "outputs": [],
   "source": [
    "tif = TIFF.open('/mnt/LaCIE/annaM/gut_project/raw_data/Xenium_10X_datasets/Gut_samples/Non-diseased_pre-designed_pallet/Xenium_V1_hColon_Non_diseased_Base_FFPE_he_image.ome.tif')"
   ]
  },
  {
   "cell_type": "code",
   "execution_count": null,
   "metadata": {},
   "outputs": [],
   "source": [
    "image = tif.read_image()"
   ]
  },
  {
   "cell_type": "markdown",
   "metadata": {},
   "source": [
    "+ Upload coordinates"
   ]
  },
  {
   "cell_type": "code",
   "execution_count": null,
   "metadata": {},
   "outputs": [],
   "source": [
    "coords = pd.read_csv(\n",
    "        \"/mnt/LaCIE/annaM/gut_project/raw_data/Xenium_10X_datasets/Gut_samples/Non-diseased_pre-designed_pallet/outs/cells.csv\",\n",
    "        header=0)"
   ]
  },
  {
   "cell_type": "code",
   "execution_count": null,
   "metadata": {},
   "outputs": [],
   "source": [
    "# rename index column in adata_xenium to 'cell_id'\n",
    "adata_xenium.obs.index.name = 'cell_id'"
   ]
  },
  {
   "cell_type": "code",
   "execution_count": null,
   "metadata": {},
   "outputs": [],
   "source": [
    "adata_xenium.obs = adata_xenium.obs.merge(coords, on='cell_id', how='left')"
   ]
  },
  {
   "cell_type": "code",
   "execution_count": null,
   "metadata": {},
   "outputs": [],
   "source": [
    "adata_xenium.obs"
   ]
  },
  {
   "cell_type": "code",
   "execution_count": null,
   "metadata": {},
   "outputs": [],
   "source": [
    "adata_xenium.obsm[\"spatial\"] = adata_xenium.obs[[\"x_centroid\", \"y_centroid\"]].copy().to_numpy()"
   ]
  },
  {
   "cell_type": "code",
   "execution_count": null,
   "metadata": {},
   "outputs": [],
   "source": [
    "nucleus_boundaries = pd.read_csv(\n",
    "        \"/mnt/LaCIE/annaM/gut_project/raw_data/Xenium_10X_datasets/Gut_samples/Non-diseased_pre-designed_pallet/outs/nucleus_boundaries.csv\",\n",
    "        header=0)"
   ]
  },
  {
   "cell_type": "code",
   "execution_count": null,
   "metadata": {},
   "outputs": [],
   "source": [
    "spatial_key = \"spatial\"\n",
    "library_id = \"tissue42\"\n",
    "adata_xenium.uns[spatial_key] = {library_id: {}}\n",
    "adata_xenium.uns[spatial_key][library_id][\"images\"] = {}\n",
    "adata_xenium.uns[spatial_key][library_id][\"images\"] = {\"image\": image}"
   ]
  },
  {
   "cell_type": "markdown",
   "metadata": {},
   "source": [
    "+ Add predicted cell types and cell states to adata_xenium"
   ]
  },
  {
   "cell_type": "code",
   "execution_count": null,
   "metadata": {},
   "outputs": [],
   "source": [
    "adata.obs.index.name = 'cell_id'"
   ]
  },
  {
   "cell_type": "code",
   "execution_count": null,
   "metadata": {},
   "outputs": [],
   "source": [
    "adata_full.obs.index.name = 'cell_id'"
   ]
  },
  {
   "cell_type": "code",
   "execution_count": null,
   "metadata": {},
   "outputs": [],
   "source": [
    "adata_xenium.obs = adata_xenium.obs.merge(adata_full.obs['C_scANVI'], on='cell_id', how='left')"
   ]
  },
  {
   "cell_type": "code",
   "execution_count": null,
   "metadata": {},
   "outputs": [],
   "source": [
    "# rename adata_xenium.obs['C_scANVI'] to 'Cell_Type'\n",
    "adata_xenium.obs.rename(columns={'C_scANVI': 'Cell_Type'}, inplace=True)"
   ]
  },
  {
   "cell_type": "code",
   "execution_count": null,
   "metadata": {},
   "outputs": [],
   "source": [
    "adata_xenium.obs = adata_xenium.obs.merge(adata.obs['C_scANVI'], on='cell_id', how='left')"
   ]
  },
  {
   "cell_type": "code",
   "execution_count": null,
   "metadata": {},
   "outputs": [],
   "source": [
    "adata_xenium.obs.rename(columns={'C_scANVI': 'Cell_States'}, inplace=True)"
   ]
  },
  {
   "cell_type": "markdown",
   "metadata": {},
   "source": [
    "+ Write anndata"
   ]
  },
  {
   "cell_type": "code",
   "execution_count": null,
   "metadata": {},
   "outputs": [],
   "source": [
    "adata_xenium.write_h5ad('/mnt/LaCIE/annaM/gut_project/Processed_data/Gut_data/10X_Xenium_data/Xenium_Non-diseased_pre-designed_pallet_with_predicted_epi_labels.h5ad')"
   ]
  },
  {
   "cell_type": "code",
   "execution_count": null,
   "metadata": {},
   "outputs": [],
   "source": [
    "sc.set_figure_params(dpi=300, figsize=(10, 10))\n",
    "sq.pl.spatial_scatter(\n",
    "    adata_xenium,\n",
    "    library_id=\"spatial\",\n",
    "    shape=None,\n",
    "    color=[\n",
    "        \"Cell_Type\",\n",
    "    ],\n",
    "    wspace=0.4,\n",
    ")"
   ]
  },
  {
   "cell_type": "code",
   "execution_count": null,
   "metadata": {},
   "outputs": [],
   "source": [
    "sc.set_figure_params(dpi=300, figsize=(10, 10))\n",
    "sq.pl.spatial_scatter(\n",
    "    adata_xenium,\n",
    "    library_id=\"spatial\",\n",
    "    shape=None,\n",
    "    color=[\n",
    "        \"Cell_States\",\n",
    "    ],\n",
    "    wspace=0.4,\n",
    ")"
   ]
  },
  {
   "cell_type": "markdown",
   "metadata": {},
   "source": [
    "+ Visualize stem cells"
   ]
  },
  {
   "cell_type": "code",
   "execution_count": null,
   "metadata": {},
   "outputs": [],
   "source": [
    "input = '/mnt/LaCIE/annaM/gut_project/Processed_data/Gut_data/10X_Xenium_data/Xenium_Non-diseased_pre-designed_pallet_with_predicted_epi_and_SC_labels.h5ad'\n",
    "adata_xenium = sc.read_h5ad(input)"
   ]
  },
  {
   "cell_type": "code",
   "execution_count": null,
   "metadata": {},
   "outputs": [],
   "source": [
    "adata_xenium.obs"
   ]
  },
  {
   "cell_type": "code",
   "execution_count": null,
   "metadata": {},
   "outputs": [],
   "source": [
    "import matplotlib.pyplot as plt\n",
    "\n",
    "plt.figure(figsize=(10, 10), dpi=300)\n",
    "plt.imshow(image)  \n",
    "plt.axis('off')  "
   ]
  },
  {
   "cell_type": "code",
   "execution_count": null,
   "metadata": {},
   "outputs": [],
   "source": [
    "adata_xenium.obs['stem_cell_type'] = adata_xenium.obs['stem_cell_type'].cat.add_categories(['Not_SC'])\n",
    "\n",
    "adata_xenium.obs['stem_cell_type'] = adata_xenium.obs['stem_cell_type'].fillna('Not_SC')"
   ]
  },
  {
   "cell_type": "markdown",
   "metadata": {},
   "source": [
    "+ Normalize and log transform the dataset"
   ]
  },
  {
   "cell_type": "code",
   "execution_count": null,
   "metadata": {},
   "outputs": [],
   "source": [
    "sc.pp.normalize_total(adata_xenium, target_sum = 1e6, exclude_highly_expressed = True)\n",
    "sc.pp.log1p(adata_xenium)"
   ]
  },
  {
   "cell_type": "markdown",
   "metadata": {},
   "source": [
    "+ Identify top 10 differentially expressed genes"
   ]
  },
  {
   "cell_type": "code",
   "execution_count": null,
   "metadata": {},
   "outputs": [],
   "source": [
    "sc.tl.rank_genes_groups(adata_xenium, groupby='stem_cell_type', method='wilcoxon')"
   ]
  },
  {
   "cell_type": "code",
   "execution_count": null,
   "metadata": {},
   "outputs": [],
   "source": [
    "sc.pl.rank_genes_groups(adata_xenium, n_genes=25, sharey=False)"
   ]
  },
  {
   "cell_type": "code",
   "execution_count": null,
   "metadata": {},
   "outputs": [],
   "source": [
    "adata_xenium.obs['Cell_States'] = adata_xenium.obs['Cell_States'].cat.add_categories(['Not_epithelial'])\n",
    "\n",
    "adata_xenium.obs['Cell_States'] = adata_xenium.obs['Cell_States'].fillna('Not_epithelial')"
   ]
  },
  {
   "cell_type": "code",
   "execution_count": null,
   "metadata": {},
   "outputs": [],
   "source": [
    "sc.tl.rank_genes_groups(adata_xenium, groupby='Cell_States', method='wilcoxon')"
   ]
  },
  {
   "cell_type": "code",
   "execution_count": null,
   "metadata": {},
   "outputs": [],
   "source": [
    "sc.pl.rank_genes_groups(adata_xenium, n_genes=25, sharey=False)"
   ]
  },
  {
   "cell_type": "markdown",
   "metadata": {},
   "source": [
    "+ Visualize markers"
   ]
  },
  {
   "cell_type": "code",
   "execution_count": null,
   "metadata": {},
   "outputs": [],
   "source": [
    "adata_xenium.var"
   ]
  },
  {
   "cell_type": "code",
   "execution_count": null,
   "metadata": {},
   "outputs": [],
   "source": [
    "# Check if DEFA1 is in var_names \n",
    "'MUC4' in adata_xenium.var_names"
   ]
  },
  {
   "cell_type": "code",
   "execution_count": null,
   "metadata": {},
   "outputs": [],
   "source": [
    "sc.set_figure_params(dpi=300, figsize=(10, 10))\n",
    "sq.pl.spatial_scatter(\n",
    "    adata_xenium,\n",
    "    library_id=\"spatial\",\n",
    "    shape=None,\n",
    "    color=[\n",
    "        \"Cell_States\", 'SPDEF', 'BCAS1', 'CLCA1', \n",
    "    ],\n",
    "    wspace=0.4,\n",
    ")"
   ]
  }
 ],
 "metadata": {
  "kernelspec": {
   "display_name": "Python (squidpy_env)",
   "language": "python",
   "name": "squidpy_env"
  },
  "language_info": {
   "codemirror_mode": {
    "name": "ipython",
    "version": 3
   },
   "file_extension": ".py",
   "mimetype": "text/x-python",
   "name": "python",
   "nbconvert_exporter": "python",
   "pygments_lexer": "ipython3",
   "version": "3.9.18"
  }
 },
 "nbformat": 4,
 "nbformat_minor": 2
}
