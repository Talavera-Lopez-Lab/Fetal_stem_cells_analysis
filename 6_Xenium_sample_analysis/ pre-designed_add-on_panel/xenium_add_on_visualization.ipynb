{
 "cells": [
  {
   "cell_type": "markdown",
   "metadata": {},
   "source": [
    "#### Visualization of Xenium add-on panel healthy gut data after the labels transer \n",
    "- **Developed by:** Anna Maguza\n",
    "- **Place:** Wuerzburg Institute for System Immunology\n",
    "- **Date:** 20th March 2024"
   ]
  },
  {
   "cell_type": "markdown",
   "metadata": {},
   "source": [
    "##### Import packages"
   ]
  },
  {
   "cell_type": "code",
   "execution_count": null,
   "metadata": {},
   "outputs": [],
   "source": [
    "import anndata as ad\n",
    "import scanpy as sc\n",
    "import squidpy as sq\n",
    "import pandas as pd\n",
    "from scipy.io import mmread\n",
    "import matplotlib.pyplot as plt\n",
    "import numpy as np\n",
    "import scipy as sci\n",
    "from scipy.sparse import coo_matrix"
   ]
  },
  {
   "cell_type": "markdown",
   "metadata": {},
   "source": [
    "#### Set up working environment"
   ]
  },
  {
   "cell_type": "code",
   "execution_count": null,
   "metadata": {},
   "outputs": [],
   "source": [
    "sc.settings.verbosity = 3\n",
    "sc.logging.print_versions()\n",
    "sc.settings.set_figure_params(dpi = 180, color_map = 'magma_r', dpi_save = 300, vector_friendly = True, format = 'svg')"
   ]
  },
  {
   "cell_type": "markdown",
   "metadata": {},
   "source": [
    "#### Data upload"
   ]
  },
  {
   "cell_type": "markdown",
   "metadata": {},
   "source": [
    "+ Load h5ad object"
   ]
  },
  {
   "cell_type": "code",
   "execution_count": null,
   "metadata": {},
   "outputs": [],
   "source": [
    "adata_xenium = sc.read_h5ad('/mnt/LaCIE/annaM/gut_project/Processed_data/Gut_data/10X_Xenium_data/10X_Xenium_add-on_without_image.h5ad')"
   ]
  },
  {
   "cell_type": "markdown",
   "metadata": {},
   "source": [
    "#### Visualise predicted cell types - after cell types + Stem cells labels transfer"
   ]
  },
  {
   "cell_type": "markdown",
   "metadata": {},
   "source": [
    "+ Upload the object with cell types"
   ]
  },
  {
   "cell_type": "code",
   "execution_count": null,
   "metadata": {},
   "outputs": [],
   "source": [
    "adata_full = sc.read_h5ad('/mnt/LaCIE/annaM/gut_project/Processed_data/Gut_data/10X_Xenium_data/Xenium_add_on_data_scANVI_cell_type_and_stem_cells.h5ad')"
   ]
  },
  {
   "cell_type": "code",
   "execution_count": null,
   "metadata": {},
   "outputs": [],
   "source": [
    "adata_full.obs.index.name = 'cell_id'"
   ]
  },
  {
   "cell_type": "code",
   "execution_count": null,
   "metadata": {},
   "outputs": [],
   "source": [
    "adata_xenium.obs.index.name = 'cell_id'"
   ]
  },
  {
   "cell_type": "code",
   "execution_count": null,
   "metadata": {},
   "outputs": [],
   "source": [
    "del adata_xenium.obs['cell_id']"
   ]
  },
  {
   "cell_type": "code",
   "execution_count": null,
   "metadata": {},
   "outputs": [],
   "source": [
    "adata_xenium.obs = adata_xenium.obs.merge(adata_full.obs[['C_scANVI']], on='cell_id', how='left')"
   ]
  },
  {
   "cell_type": "code",
   "execution_count": null,
   "metadata": {},
   "outputs": [],
   "source": [
    "adata_xenium.obs.rename(columns={'C_scANVI':'Cell_Type'}, inplace=True)"
   ]
  },
  {
   "cell_type": "markdown",
   "metadata": {},
   "source": [
    "+ Visualize the cell types with standard color pallet"
   ]
  },
  {
   "cell_type": "code",
   "execution_count": null,
   "metadata": {},
   "outputs": [],
   "source": [
    "sc.set_figure_params(scanpy=True, dpi=300, figsize=(10, 10))\n",
    "sq.pl.spatial_scatter(\n",
    "    adata_xenium,\n",
    "    library_id=\"spatial\",\n",
    "    img=True, img_res_key='lowres',\n",
    "    shape=None,\n",
    "    color=[\n",
    "        \"Cell_Type\",\n",
    "    ],\n",
    "    size=0.1,\n",
    "    alpha=1\n",
    ")"
   ]
  },
  {
   "cell_type": "code",
   "execution_count": null,
   "metadata": {},
   "outputs": [],
   "source": [
    "adata_xenium.uns['Cell_Type_colors']"
   ]
  },
  {
   "cell_type": "markdown",
   "metadata": {},
   "source": [
    "+ Change the color pallet to highlight stem cells"
   ]
  },
  {
   "cell_type": "code",
   "execution_count": null,
   "metadata": {},
   "outputs": [],
   "source": [
    "# Define your custom color palette\n",
    "custom_colors = [\n",
    "    \"#41729F\",  # B cells\n",
    "    \"#A16AE8\",  # Endothelial\n",
    "    \"#B6E5D8\",  # Epithelial\n",
    "    \"#EC9EC0\",  # Mesenchymal + \n",
    "    \"#FBE5C8\",  # Myeloid + \n",
    "    \"#4D5D53\",  # Neuronal + \n",
    "    \"#870052\",  # Plasma cells + \n",
    "    \"#FF0000FF\",  # Stem cells + \n",
    "    \"#ffde17\"   # T cells +\n",
    "]\n",
    "\n",
    "# Update the color codes in the AnnData object\n",
    "adata_xenium.uns['Cell_Type_colors'] = custom_colors\n",
    "\n",
    "# Now, when you plot using sq.pl.spatial_scatter, it should use your updated custom colors\n",
    "sq.pl.spatial_scatter(\n",
    "    adata_xenium,\n",
    "    library_id=\"spatial\",\n",
    "    img=True,\n",
    "    img_res_key='lowres',\n",
    "    shape=None,\n",
    "    color=\"Cell_Type\",\n",
    "    size=0.1,\n",
    "    alpha=1\n",
    ")"
   ]
  },
  {
   "cell_type": "markdown",
   "metadata": {},
   "source": [
    "+ Add stem cells types"
   ]
  },
  {
   "cell_type": "code",
   "execution_count": null,
   "metadata": {},
   "outputs": [],
   "source": [
    "adata_stem_cells = sc.read_h5ad('/mnt/LaCIE/annaM/gut_project/Processed_data/Gut_data/10X_Xenium_data/Stem_cells_scRNA_and_Xenium_add_on_scANVI_7K_cells.h5ad')"
   ]
  },
  {
   "cell_type": "code",
   "execution_count": null,
   "metadata": {},
   "outputs": [],
   "source": [
    "adata_stem_cells = adata_stem_cells[adata_stem_cells.obs['Study_name'] == '10X_Xenium_gut_data']"
   ]
  },
  {
   "cell_type": "code",
   "execution_count": null,
   "metadata": {},
   "outputs": [],
   "source": [
    "adata_stem_cells = adata_stem_cells[adata_stem_cells.obs.index.isin(adata_xenium.obs.index)]"
   ]
  },
  {
   "cell_type": "code",
   "execution_count": null,
   "metadata": {},
   "outputs": [],
   "source": [
    "adata_xenium.obs['Stem_cells'] = 'Unknown'\n",
    "adata_xenium.obs.loc[adata_stem_cells.obs.index, 'Stem_cells'] = adata_stem_cells.obs['C_scANVI']"
   ]
  },
  {
   "cell_type": "code",
   "execution_count": null,
   "metadata": {},
   "outputs": [],
   "source": [
    "adata_xenium.obs['CellType2'] = adata_xenium.obs['Cell_Type'].copy()\n",
    "adata_xenium.obs['CellType2'] = adata_xenium.obs['CellType2'].cat.add_categories(['MTRNR2L12+ASS1+_SC',\n",
    "                                                                                  'RPS10+_RPS17+_SC',\n",
    "                                                                                  'FXYD3+_CKB+_SC'])\n",
    "\n",
    "adata_xenium.obs.loc[(adata_xenium.obs['Stem_cells'] == 'MTRNR2L12+ASS1+_SC'), 'CellType2'] = 'MTRNR2L12+ASS1+_SC'\n",
    "adata_xenium.obs.loc[(adata_xenium.obs['Stem_cells'] == 'RPS10+_RPS17+_SC'), 'CellType2'] = 'RPS10+_RPS17+_SC'\n",
    "adata_xenium.obs.loc[(adata_xenium.obs['Stem_cells'] == 'FXYD3+_CKB+_SC'), 'CellType2'] = 'FXYD3+_CKB+_SC'"
   ]
  },
  {
   "cell_type": "code",
   "execution_count": null,
   "metadata": {},
   "outputs": [],
   "source": [
    "adata_xenium.obs['CellType2'] = adata_xenium.obs['CellType2'].cat.remove_unused_categories()"
   ]
  },
  {
   "cell_type": "markdown",
   "metadata": {},
   "source": [
    "+ Visualize cell types + stem cells populations with the standard color pallet"
   ]
  },
  {
   "cell_type": "code",
   "execution_count": null,
   "metadata": {},
   "outputs": [],
   "source": [
    "sc.set_figure_params(scanpy=True, dpi=300, figsize=(10, 10))\n",
    "sq.pl.spatial_scatter(\n",
    "    adata_xenium,\n",
    "    library_id=\"spatial\",\n",
    "    img=True, img_res_key='lowres',\n",
    "    shape=None,\n",
    "    color=[\n",
    "        \"CellType2\",\n",
    "    ],\n",
    "    size=0.1,\n",
    "    alpha=1\n",
    ")"
   ]
  },
  {
   "cell_type": "markdown",
   "metadata": {},
   "source": [
    "+ Change color pallete"
   ]
  },
  {
   "cell_type": "code",
   "execution_count": null,
   "metadata": {},
   "outputs": [],
   "source": [
    "# Define your custom color palette\n",
    "custom_colors = [\n",
    "    \"#41729F\",  # B cells\n",
    "    \"#A16AE8\",  # Endothelial\n",
    "    \"#B6E5D8\",  # Epithelial\n",
    "    \"#EC9EC0\",  # Mesenchymal + \n",
    "    \"#FBE5C8\",  # Myeloid + \n",
    "    \"#4D5D53\",  # Neuronal + \n",
    "    \"#870052\",  # Plasma cells +  \n",
    "    \"#ffde17\",   # T cells +\n",
    "    \"#00B1B0\",  # Stem cells MTRN\n",
    "    \"#508FF7\",  # Stem cells RPS\n",
    "    \"#FF0000FF\"  # Stem cells FXYD\n",
    "]\n",
    "\n",
    "# Update the color codes in the AnnData object\n",
    "adata_xenium.uns['CellType2_colors'] = custom_colors\n",
    "\n",
    "# Now, when you plot using sq.pl.spatial_scatter, it should use your updated custom colors\n",
    "sq.pl.spatial_scatter(\n",
    "    adata_xenium,\n",
    "    library_id=\"spatial\",\n",
    "    img=True,\n",
    "    img_res_key='lowres',\n",
    "    shape=None,\n",
    "    color=\"CellType2\",\n",
    "    size=0.1,\n",
    "    alpha=1\n",
    ")"
   ]
  },
  {
   "cell_type": "code",
   "execution_count": null,
   "metadata": {},
   "outputs": [],
   "source": [
    "adata_xenium.write_h5ad('/mnt/LaCIE/annaM/gut_project/Processed_data/Gut_data/10X_Xenium_data/Xenium_add_on_celltypes_and_stem_cells_types_without_image.h5ad')"
   ]
  },
  {
   "cell_type": "markdown",
   "metadata": {},
   "source": [
    "+ Visualise only Stem cells"
   ]
  },
  {
   "cell_type": "code",
   "execution_count": null,
   "metadata": {},
   "outputs": [],
   "source": [
    "custom_colors = [\n",
    "    \"#41729F\",  # B cells\n",
    "    \"#A16AE8\",  # Endothelial\n",
    "    \"#B6E5D8\",  # Epithelial\n",
    "    \"#EC9EC0\",  # Mesenchymal + \n",
    "    \"#FBE5C8\",  # Myeloid + \n",
    "    \"#4D5D53\",  # Neuronal + \n",
    "    \"#870052\",  # Plasma cells +  \n",
    "    \"#ffde17\",   # T cells +\n",
    "    \"#00B1B0\",  # Stem cells MTRN\n",
    "    '#FFDB15',  # Stem cells RPS\n",
    "    \"#FF0000FF\"  # Stem cells FXYD\n",
    "]\n",
    "\n",
    "# Update the color codes in the AnnData object\n",
    "adata_xenium.uns['CellType2_colors'] = custom_colors"
   ]
  },
  {
   "cell_type": "code",
   "execution_count": null,
   "metadata": {},
   "outputs": [],
   "source": [
    "sc.set_figure_params(scanpy=True, dpi=300, figsize=(20, 10))\n",
    "\n",
    "cell_types_of_interest = ['MTRNR2L12+ASS1+_SC', 'RPS10+_RPS17+_SC', 'FXYD3+_CKB+_SC']\n",
    "\n",
    "stem_cells_mask = adata_xenium.obs['CellType2'].isin(cell_types_of_interest)"
   ]
  },
  {
   "cell_type": "code",
   "execution_count": null,
   "metadata": {},
   "outputs": [],
   "source": [
    "adata_stem_cells = adata_xenium[stem_cells_mask, :]"
   ]
  },
  {
   "cell_type": "code",
   "execution_count": null,
   "metadata": {},
   "outputs": [],
   "source": [
    "sq.pl.spatial_scatter(\n",
    "    adata_stem_cells,  # Use the filtered AnnData object.\n",
    "    library_id=\"spatial\",\n",
    "    img=True,\n",
    "    shape=None,  # Assuming you want the default shape.\n",
    "    color=\"CellType2\",  # This will now only show 'Stem cells'.\n",
    "    size=0.1,\n",
    "    alpha=1\n",
    ")"
   ]
  }
 ],
 "metadata": {
  "kernelspec": {
   "display_name": "Python (squidpy_env)",
   "language": "python",
   "name": "squidpy_env"
  },
  "language_info": {
   "codemirror_mode": {
    "name": "ipython",
    "version": 3
   },
   "file_extension": ".py",
   "mimetype": "text/x-python",
   "name": "python",
   "nbconvert_exporter": "python",
   "pygments_lexer": "ipython3",
   "version": "3.9.18"
  }
 },
 "nbformat": 4,
 "nbformat_minor": 2
}
