{
 "cells": [
  {
   "cell_type": "markdown",
   "metadata": {},
   "source": [
    "#### Notebook for creation of anndata object and adding the images and spatial coordinates to of Xenium add-on panel healthy gut data\n",
    "- **Developed by:** Anna Maguza\n",
    "- **Place:** Wuerzburg Institute for System Immunology\n",
    "- **Date:** 25th March 2024"
   ]
  },
  {
   "cell_type": "markdown",
   "metadata": {},
   "source": [
    "##### Import packages"
   ]
  },
  {
   "cell_type": "code",
   "execution_count": 1,
   "metadata": {},
   "outputs": [],
   "source": [
    "import anndata as ad\n",
    "import scanpy as sc\n",
    "import squidpy as sq\n",
    "import pandas as pd\n",
    "from scipy.io import mmread\n",
    "import matplotlib.pyplot as plt\n",
    "import numpy as np\n",
    "import scipy as sci\n",
    "from scipy.sparse import coo_matrix"
   ]
  },
  {
   "cell_type": "code",
   "execution_count": 2,
   "metadata": {},
   "outputs": [],
   "source": [
    "import tifffile as tf\n",
    "from PIL import Image, ImageFile"
   ]
  },
  {
   "cell_type": "markdown",
   "metadata": {},
   "source": [
    "#### Set up working environment"
   ]
  },
  {
   "cell_type": "code",
   "execution_count": 3,
   "metadata": {},
   "outputs": [
    {
     "name": "stdout",
     "output_type": "stream",
     "text": [
      "-----\n",
      "anndata     0.10.5.post1\n",
      "scanpy      1.9.8\n",
      "-----\n",
      "PIL                         10.2.0\n",
      "anyio                       NA\n",
      "arrow                       1.3.0\n",
      "asciitree                   NA\n",
      "asttokens                   NA\n",
      "attr                        23.2.0\n",
      "attrs                       23.2.0\n",
      "babel                       2.14.0\n",
      "backcall                    0.2.0\n",
      "beta_ufunc                  NA\n",
      "binom_ufunc                 NA\n",
      "brotli                      1.1.0\n",
      "certifi                     2023.11.17\n",
      "cffi                        1.16.0\n",
      "charset_normalizer          3.3.2\n",
      "cloudpickle                 3.0.0\n",
      "comm                        0.2.1\n",
      "cycler                      0.12.1\n",
      "cython_runtime              NA\n",
      "dask                        2024.1.1\n",
      "dask_image                  2023.08.1\n",
      "datashader                  0.16.0\n",
      "datatree                    0.0.13\n",
      "dateutil                    2.8.2\n",
      "debugpy                     1.8.0\n",
      "decorator                   5.1.1\n",
      "defusedxml                  0.7.1\n",
      "docrep                      0.3.2\n",
      "exceptiongroup              1.2.0\n",
      "executing                   2.0.1\n",
      "fasteners                   0.19\n",
      "fastjsonschema              NA\n",
      "fqdn                        NA\n",
      "fsspec                      2023.6.0\n",
      "geopandas                   0.14.3\n",
      "h5py                        3.10.0\n",
      "hypergeom_ufunc             NA\n",
      "idna                        3.6\n",
      "igraph                      0.11.3\n",
      "imagecodecs                 2024.1.1\n",
      "imageio                     2.33.1\n",
      "importlib_resources         NA\n",
      "ipykernel                   6.29.0\n",
      "isoduration                 NA\n",
      "jedi                        0.19.1\n",
      "jinja2                      3.1.3\n",
      "joblib                      1.3.2\n",
      "json5                       NA\n",
      "jsonpointer                 2.4\n",
      "jsonschema                  4.21.1\n",
      "jsonschema_specifications   NA\n",
      "jupyter_events              0.9.0\n",
      "jupyter_server              2.12.5\n",
      "jupyterlab_server           2.25.2\n",
      "kiwisolver                  1.4.5\n",
      "lazy_loader                 NA\n",
      "leidenalg                   0.10.2\n",
      "llvmlite                    0.42.0\n",
      "markupsafe                  2.1.4\n",
      "matplotlib                  3.8.2\n",
      "matplotlib_scalebar         0.8.1\n",
      "mpl_toolkits                NA\n",
      "msgpack                     1.0.7\n",
      "multipledispatch            0.6.0\n",
      "multiscale_spatial_image    0.11.2\n",
      "natsort                     8.4.0\n",
      "nbformat                    5.9.2\n",
      "nbinom_ufunc                NA\n",
      "ncf_ufunc                   NA\n",
      "networkx                    3.2.1\n",
      "numba                       0.59.0\n",
      "numcodecs                   0.12.1\n",
      "numpy                       1.23.4\n",
      "ome_zarr                    NA\n",
      "overrides                   NA\n",
      "packaging                   23.2\n",
      "pandas                      2.2.0\n",
      "param                       2.0.2\n",
      "parso                       0.8.3\n",
      "patsy                       0.5.6\n",
      "pexpect                     4.9.0\n",
      "pickleshare                 0.7.5\n",
      "pkg_resources               NA\n",
      "platformdirs                4.2.0\n",
      "prometheus_client           NA\n",
      "prompt_toolkit              3.0.42\n",
      "psutil                      5.9.8\n",
      "ptyprocess                  0.7.0\n",
      "pure_eval                   0.2.2\n",
      "pyarrow                     15.0.0\n",
      "pycparser                   2.21\n",
      "pyct                        0.5.0\n",
      "pydev_ipython               NA\n",
      "pydevconsole                NA\n",
      "pydevd                      2.9.5\n",
      "pydevd_file_utils           NA\n",
      "pydevd_plugins              NA\n",
      "pydevd_tracing              NA\n",
      "pygeos                      0.14\n",
      "pygments                    2.17.2\n",
      "pyparsing                   3.1.1\n",
      "pyproj                      3.6.1\n",
      "pythonjsonlogger            NA\n",
      "pytz                        2023.4\n",
      "pywt                        1.5.0\n",
      "referencing                 NA\n",
      "requests                    2.31.0\n",
      "rfc3339_validator           0.1.4\n",
      "rfc3986_validator           0.1.1\n",
      "rich                        NA\n",
      "rpds                        NA\n",
      "scipy                       1.9.1\n",
      "seaborn                     0.13.2\n",
      "send2trash                  NA\n",
      "session_info                1.0.0\n",
      "setuptools                  69.0.3\n",
      "shapely                     2.0.2\n",
      "six                         1.16.0\n",
      "skimage                     0.20.0\n",
      "sklearn                     1.4.0\n",
      "sniffio                     1.3.0\n",
      "socks                       1.7.1\n",
      "spatial_image               0.3.0\n",
      "spatialdata                 0.0.15\n",
      "squidpy                     1.3.1\n",
      "stack_data                  0.6.2\n",
      "statsmodels                 0.14.1\n",
      "tblib                       3.0.0\n",
      "texttable                   1.7.0\n",
      "threadpoolctl               3.2.0\n",
      "tifffile                    2024.1.30\n",
      "tlz                         0.12.1\n",
      "toolz                       0.12.1\n",
      "tornado                     6.3.3\n",
      "tqdm                        4.66.1\n",
      "traitlets                   5.14.1\n",
      "typing_extensions           NA\n",
      "uri_template                NA\n",
      "urllib3                     1.26.18\n",
      "validators                  0.22.0\n",
      "vscode                      NA\n",
      "wcwidth                     0.2.13\n",
      "webcolors                   1.13\n",
      "websocket                   1.7.0\n",
      "xarray                      2023.12.0\n",
      "xarray_dataclasses          1.7.0\n",
      "xarray_schema               0.0.3\n",
      "xrspatial                   0.3.7\n",
      "yaml                        6.0.1\n",
      "zarr                        2.16.1\n",
      "zipp                        NA\n",
      "zmq                         25.1.2\n",
      "zoneinfo                    NA\n",
      "-----\n",
      "IPython             8.12.0\n",
      "jupyter_client      8.6.0\n",
      "jupyter_core        5.7.1\n",
      "jupyterlab          4.0.12\n",
      "notebook            7.0.7\n",
      "-----\n",
      "Python 3.9.18 | packaged by conda-forge | (main, Dec 23 2023, 16:33:10) [GCC 12.3.0]\n",
      "Linux-6.6.14-100.fc38.x86_64-x86_64-with-glibc2.37\n",
      "-----\n",
      "Session information updated at 2024-03-25 13:09\n"
     ]
    }
   ],
   "source": [
    "sc.settings.verbosity = 3\n",
    "sc.logging.print_versions()\n",
    "sc.settings.set_figure_params(dpi = 180, color_map = 'magma_r', dpi_save = 300, vector_friendly = True, format = 'svg')"
   ]
  },
  {
   "cell_type": "markdown",
   "metadata": {},
   "source": [
    "#### Data upload"
   ]
  },
  {
   "cell_type": "markdown",
   "metadata": {},
   "source": [
    "+ Load h5ad object"
   ]
  },
  {
   "cell_type": "code",
   "execution_count": 4,
   "metadata": {},
   "outputs": [
    {
     "name": "stdout",
     "output_type": "stream",
     "text": [
      "reading /mnt/LaCIE/annaM/gut_project/raw_data/Xenium_10X_datasets/Gut_samples/Non-diseased_pre-designed_and_add-on_panel/outs/cell_feature_matrix.h5\n",
      " (0:00:00)\n"
     ]
    }
   ],
   "source": [
    "adata_xenium = sc.read_10x_h5('/../.././../raw_data/Xenium_10X_datasets/Gut_samples/Non-diseased_pre-designed_and_add-on_panel/outs/cell_feature_matrix.h5')"
   ]
  },
  {
   "cell_type": "markdown",
   "metadata": {},
   "source": [
    "+ Load image and convert it from tiff to png"
   ]
  },
  {
   "cell_type": "code",
   "execution_count": null,
   "metadata": {},
   "outputs": [],
   "source": [
    "ome_tiff_path = '/../../../../raw_data/Xenium_10X_datasets/Gut_samples/Non-diseased_pre-designed_pallet/Xenium_V1_hColon_Non_diseased_Base_FFPE_he_image.ome.tif'"
   ]
  },
  {
   "cell_type": "code",
   "execution_count": null,
   "metadata": {},
   "outputs": [],
   "source": [
    "png_path = '/../../../../raw_data/Xenium_10X_datasets/Gut_samples/Non-diseased_pre-designed_and_add-on_panel/Xenium_V1_hColon_Non_diseased_Base_FFPE_he_image.png'\n",
    "\n",
    "img = tf.imread(ome_tiff_path)\n",
    "\n",
    "\n",
    "if img.dtype != np.uint8:\n",
    "    img = (255 * (img - img.min()) / (img.ptp())).astype(np.uint8)\n",
    "\n",
    "Image.fromarray(img).save(png_path)\n",
    "\n",
    "print(f\"Converted {ome_tiff_path} to {png_path}\")"
   ]
  },
  {
   "cell_type": "markdown",
   "metadata": {},
   "source": [
    "+ Upload image"
   ]
  },
  {
   "cell_type": "code",
   "execution_count": 5,
   "metadata": {},
   "outputs": [],
   "source": [
    "Image.MAX_IMAGE_PIXELS = None\n",
    "hires = np.asarray(Image.open('/../../../../raw_data/Xenium_10X_datasets/Gut_samples/Xenium_rotated_image.png'))"
   ]
  },
  {
   "cell_type": "markdown",
   "metadata": {},
   "source": [
    "+ Rotate image"
   ]
  },
  {
   "cell_type": "code",
   "execution_count": null,
   "metadata": {},
   "outputs": [],
   "source": [
    "original_image_path = '/../../../../raw_data/Xenium_10X_datasets/Gut_samples/Non-diseased_pre-designed_and_add-on_panel/Xenium_V1_hColon_Non_diseased_Base_FFPE_he_image.png'\n",
    "rotated_image_path = '/../../../../raw_data/Xenium_10X_datasets/Gut_samples/Xenium_rotated_image.png'"
   ]
  },
  {
   "cell_type": "code",
   "execution_count": null,
   "metadata": {},
   "outputs": [],
   "source": [
    "!magick convert original_image_path -rotate -90 rotated_image_path"
   ]
  },
  {
   "cell_type": "markdown",
   "metadata": {},
   "source": [
    "+ Reduce image size"
   ]
  },
  {
   "cell_type": "code",
   "execution_count": null,
   "metadata": {},
   "outputs": [],
   "source": [
    "import io\n",
    "\n",
    "hires_image = Image.fromarray(hires)\n",
    "\n",
    "buf = io.BytesIO()\n",
    "hires_image.save(buf, format=\"PNG\", quality=40) \n",
    "buf.seek(0)\n",
    "\n",
    "# Load the image back from the buffer\n",
    "compressed_image = Image.open(buf)\n"
   ]
  },
  {
   "cell_type": "code",
   "execution_count": null,
   "metadata": {},
   "outputs": [],
   "source": [
    "# Specify the path where you want to save the compressed image\n",
    "compressed_image_path = '/../../../../raw_data/Xenium_10X_datasets/Gut_samples/Xenium_rotated_and_compressed_image.png'  \n",
    "\n",
    "# Save the compressed image to the specified path\n",
    "compressed_image.save(compressed_image_path)"
   ]
  },
  {
   "cell_type": "markdown",
   "metadata": {},
   "source": [
    "+ Upload low resolution image"
   ]
  },
  {
   "cell_type": "code",
   "execution_count": 6,
   "metadata": {},
   "outputs": [],
   "source": [
    "Image.MAX_IMAGE_PIXELS = None\n",
    "lowres = np.asarray(Image.open('/mnt/LaCIE/annaM/gut_project/raw_data/Xenium_10X_datasets/Gut_samples/Xenium_rotated_and_compressed_image.png'))"
   ]
  },
  {
   "cell_type": "markdown",
   "metadata": {},
   "source": [
    "+ Upload coordinates"
   ]
  },
  {
   "cell_type": "code",
   "execution_count": null,
   "metadata": {},
   "outputs": [],
   "source": [
    "coords = pd.read_csv(\n",
    "        \"/../../../../raw_data/Xenium_10X_datasets/Gut_samples/Non-diseased_pre-designed_and_add-on_panel/outs/cells.csv\",\n",
    "        header=0)"
   ]
  },
  {
   "cell_type": "code",
   "execution_count": 9,
   "metadata": {},
   "outputs": [],
   "source": [
    "# rename index column in adata_xenium to 'cell_id'\n",
    "adata_xenium.obs.index.name = 'cell_id'"
   ]
  },
  {
   "cell_type": "code",
   "execution_count": 10,
   "metadata": {},
   "outputs": [],
   "source": [
    "adata_xenium.obs = adata_xenium.obs.merge(coords, on='cell_id', how='left')"
   ]
  },
  {
   "cell_type": "code",
   "execution_count": 11,
   "metadata": {},
   "outputs": [],
   "source": [
    "adata_xenium.obsm[\"spatial\"] = adata_xenium.obs[[\"x_centroid\", \"y_centroid\"]].copy().to_numpy()"
   ]
  },
  {
   "cell_type": "code",
   "execution_count": null,
   "metadata": {},
   "outputs": [],
   "source": [
    "nucleus_boundaries = pd.read_csv(\n",
    "        \"/../../../../raw_data/Xenium_10X_datasets/Gut_samples/Non-diseased_pre-designed_and_add-on_panel/outs/nucleus_boundaries.csv\",\n",
    "        header=0)"
   ]
  },
  {
   "cell_type": "code",
   "execution_count": 15,
   "metadata": {},
   "outputs": [],
   "source": [
    "spatial_key = \"spatial\"\n",
    "library_id = \"tissue42\"\n",
    "adata_xenium.uns[spatial_key] = {library_id: {}}\n",
    "adata_xenium.uns[spatial_key][library_id][\"images\"] = {}\n",
    "adata_xenium.uns[spatial_key][library_id][\"images\"] = {\"hires\": hires}"
   ]
  },
  {
   "cell_type": "code",
   "execution_count": 16,
   "metadata": {},
   "outputs": [],
   "source": [
    "adata_xenium.uns[spatial_key][library_id][\"images\"] = {\"lowres\": lowres}"
   ]
  },
  {
   "cell_type": "code",
   "execution_count": 17,
   "metadata": {},
   "outputs": [
    {
     "data": {
      "text/plain": [
       "AnnData object with n_obs × n_vars = 275822 × 425\n",
       "    obs: 'cell_id', 'x_centroid', 'y_centroid', 'transcript_counts', 'control_probe_counts', 'control_codeword_counts', 'unassigned_codeword_counts', 'deprecated_codeword_counts', 'total_counts', 'cell_area', 'nucleus_area'\n",
       "    var: 'gene_ids', 'feature_types', 'genome'\n",
       "    uns: 'spatial'\n",
       "    obsm: 'spatial'"
      ]
     },
     "execution_count": 17,
     "metadata": {},
     "output_type": "execute_result"
    }
   ],
   "source": [
    "adata_xenium"
   ]
  },
  {
   "cell_type": "code",
   "execution_count": 20,
   "metadata": {},
   "outputs": [
    {
     "data": {
      "text/plain": [
       "{'images': {'lowres': array([[[237, 237, 239],\n",
       "          [237, 237, 239],\n",
       "          [237, 237, 239],\n",
       "          ...,\n",
       "          [228, 228, 228],\n",
       "          [230, 230, 230],\n",
       "          [233, 233, 233]],\n",
       "  \n",
       "         [[236, 236, 238],\n",
       "          [236, 236, 238],\n",
       "          [236, 236, 238],\n",
       "          ...,\n",
       "          [231, 231, 231],\n",
       "          [226, 226, 226],\n",
       "          [230, 230, 230]],\n",
       "  \n",
       "         [[237, 238, 242],\n",
       "          [234, 235, 239],\n",
       "          [235, 236, 240],\n",
       "          ...,\n",
       "          [232, 232, 232],\n",
       "          [229, 229, 229],\n",
       "          [229, 229, 229]],\n",
       "  \n",
       "         ...,\n",
       "  \n",
       "         [[234, 234, 234],\n",
       "          [238, 238, 238],\n",
       "          [239, 239, 239],\n",
       "          ...,\n",
       "          [231, 231, 233],\n",
       "          [232, 232, 234],\n",
       "          [231, 231, 233]],\n",
       "  \n",
       "         [[236, 236, 236],\n",
       "          [238, 238, 238],\n",
       "          [238, 238, 238],\n",
       "          ...,\n",
       "          [233, 233, 235],\n",
       "          [232, 232, 234],\n",
       "          [231, 231, 231]],\n",
       "  \n",
       "         [[238, 238, 238],\n",
       "          [238, 238, 238],\n",
       "          [237, 237, 237],\n",
       "          ...,\n",
       "          [232, 232, 234],\n",
       "          [232, 232, 234],\n",
       "          [231, 231, 231]]], dtype=uint8)}}"
      ]
     },
     "execution_count": 20,
     "metadata": {},
     "output_type": "execute_result"
    }
   ],
   "source": [
    "adata_xenium.uns[spatial_key][library_id]"
   ]
  },
  {
   "cell_type": "code",
   "execution_count": 21,
   "metadata": {},
   "outputs": [],
   "source": [
    "adata_xenium.write_h5ad('/../../../../Processed_data/Gut_data/10X_Xenium_data/10X_Xenium_add-on_with_image.h5ad')"
   ]
  }
 ],
 "metadata": {
  "kernelspec": {
   "display_name": "Python (squidpy_env)",
   "language": "python",
   "name": "squidpy_env"
  },
  "language_info": {
   "codemirror_mode": {
    "name": "ipython",
    "version": 3
   },
   "file_extension": ".py",
   "mimetype": "text/x-python",
   "name": "python",
   "nbconvert_exporter": "python",
   "pygments_lexer": "ipython3",
   "version": "3.9.18"
  }
 },
 "nbformat": 4,
 "nbformat_minor": 2
}
