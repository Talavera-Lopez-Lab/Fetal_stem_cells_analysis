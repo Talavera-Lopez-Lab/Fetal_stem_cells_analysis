{
 "cells": [
  {
   "cell_type": "markdown",
   "metadata": {},
   "source": [
    "#### Analysis of stem cells niches in Xenium add-on panel healthy gut data with `NicheCompass`\n",
    "- **Developed by:** Anna Maguza\n",
    "- **Place:** Wuerzburg Institute for System Immunology\n",
    "- **Date:** 25th March 2024"
   ]
  },
  {
   "cell_type": "markdown",
   "metadata": {},
   "source": [
    "#### Import Libraries"
   ]
  },
  {
   "cell_type": "code",
   "execution_count": 1,
   "metadata": {},
   "outputs": [],
   "source": [
    "%load_ext autoreload\n",
    "%autoreload 2"
   ]
  },
  {
   "cell_type": "code",
   "execution_count": 2,
   "metadata": {},
   "outputs": [],
   "source": [
    "import os\n",
    "import random\n",
    "import warnings\n",
    "from datetime import datetime\n",
    "#import gdown\n",
    "\n",
    "import matplotlib.pyplot as plt\n",
    "import pandas as pd\n",
    "import scanpy as sc\n",
    "import seaborn as sns\n",
    "import squidpy as sq\n",
    "from matplotlib import gridspec\n",
    "from sklearn.preprocessing import MinMaxScaler\n",
    "\n",
    "from nichecompass.models import NicheCompass\n",
    "from nichecompass.utils import (add_gps_from_gp_dict_to_adata,\n",
    "                                compute_communication_gp_network,\n",
    "                                visualize_communication_gp_network,\n",
    "                                create_new_color_dict,\n",
    "                                extract_gp_dict_from_mebocost_es_interactions,\n",
    "                                extract_gp_dict_from_nichenet_lrt_interactions,\n",
    "                                extract_gp_dict_from_omnipath_lr_interactions,\n",
    "                                filter_and_combine_gp_dict_gps,\n",
    "                                generate_enriched_gp_info_plots)"
   ]
  },
  {
   "cell_type": "markdown",
   "metadata": {},
   "source": [
    "#### Define Parameters"
   ]
  },
  {
   "cell_type": "code",
   "execution_count": 22,
   "metadata": {},
   "outputs": [],
   "source": [
    "### Dataset ###\n",
    "dataset = \"human_intestine\"\n",
    "species = \"human\"\n",
    "spatial_key = \"spatial\"\n",
    "n_neighbors = 4\n",
    "\n",
    "### Model ###\n",
    "# AnnData Keys\n",
    "counts_key = \"counts\"\n",
    "adj_key = \"spatial_connectivities\"\n",
    "gp_names_key = \"nichecompass_gp_names\"\n",
    "active_gp_names_key = \"nichecompass_active_gp_names\"\n",
    "gp_targets_mask_key = \"nichecompass_gp_targets\"\n",
    "gp_targets_categories_mask_key = \"nichecompass_gp_targets_categories\"\n",
    "gp_sources_mask_key = \"nichecompass_gp_sources\"\n",
    "gp_sources_categories_mask_key = \"nichecompass_gp_sources_categories\"\n",
    "latent_key = \"nichecompass_latent\"\n",
    "\n",
    "# Architecture\n",
    "conv_layer_encoder = \"gcnconv\" # change to \"gatv2conv\" if enough compute and memory\n",
    "active_gp_thresh_ratio = 0.01\n",
    "\n",
    "# Trainer\n",
    "n_epochs = 400\n",
    "n_epochs_all_gps = 25\n",
    "lr = 0.001\n",
    "lambda_edge_recon = 500000.\n",
    "lambda_gene_expr_recon = 300.\n",
    "lambda_l1_masked = 0. # increase if gene selection desired\n",
    "lambda_l1_addon = 100.\n",
    "edge_batch_size = 1024 # increase if more memory available\n",
    "n_sampled_neighbors = 4\n",
    "use_cuda_if_available = True\n",
    "\n",
    "### Analysis ###\n",
    "cell_type_key = \"CellType2\"\n",
    "latent_leiden_resolution = 0.4\n",
    "latent_cluster_key = f\"latent_leiden_{str(latent_leiden_resolution)}\"\n",
    "sample_key = \"batch\"\n",
    "spot_size = 0.2\n",
    "differential_gp_test_results_key = \"nichecompass_differential_gp_test_results\""
   ]
  },
  {
   "cell_type": "markdown",
   "metadata": {},
   "source": [
    "#### Run Notebook Setup"
   ]
  },
  {
   "cell_type": "code",
   "execution_count": 4,
   "metadata": {},
   "outputs": [],
   "source": [
    "warnings.filterwarnings(\"ignore\")"
   ]
  },
  {
   "cell_type": "code",
   "execution_count": 5,
   "metadata": {},
   "outputs": [],
   "source": [
    "# Get time of notebook execution for timestamping saved artifacts\n",
    "now = datetime.now()\n",
    "current_timestamp = now.strftime(\"%d%m%Y_%H%M%S\")"
   ]
  },
  {
   "cell_type": "markdown",
   "metadata": {},
   "source": [
    "#### Configure Paths"
   ]
  },
  {
   "cell_type": "code",
   "execution_count": 6,
   "metadata": {},
   "outputs": [
    {
     "name": "stdout",
     "output_type": "stream",
     "text": [
      "/home/amaguza\n"
     ]
    }
   ],
   "source": [
    "!pwd"
   ]
  },
  {
   "cell_type": "code",
   "execution_count": 7,
   "metadata": {},
   "outputs": [],
   "source": [
    "# Define paths\n",
    "ga_data_folder_path = \"/home/amaguza/NicheCompass/data/gene_annotations\"\n",
    "gp_data_folder_path = \"/home/amaguza/NicheCompass/data/gene_programs\"\n",
    "so_data_folder_path = \"/home/amaguza/NicheCompass/data/spatial_omics\"\n",
    "omnipath_lr_network_file_path = f\"{gp_data_folder_path}/omnipath_lr_network.csv\"\n",
    "collectri_tf_network_file_path = f\"{gp_data_folder_path}/collectri_tf_network_{species}.csv\"\n",
    "nichenet_lr_network_file_path = f\"{gp_data_folder_path}/nichenet_lr_network_v2_{species}.csv\"\n",
    "nichenet_ligand_target_matrix_file_path = f\"{gp_data_folder_path}/nichenet_ligand_target_matrix_v2_{species}.csv\"\n",
    "mebocost_enzyme_sensor_interactions_folder_path = f\"{gp_data_folder_path}/metabolite_enzyme_sensor_gps\"\n",
    "gene_orthologs_mapping_file_path = f\"{ga_data_folder_path}/human_mouse_gene_orthologs.csv\"\n",
    "artifacts_folder_path = f\"/home/amaguza/NicheCompass/artifacts\"\n",
    "model_folder_path = f\"{artifacts_folder_path}/single_sample/{current_timestamp}/model\"\n",
    "figure_folder_path = f\"{artifacts_folder_path}/single_sample/{current_timestamp}/figures\""
   ]
  },
  {
   "cell_type": "markdown",
   "metadata": {},
   "source": [
    "#### Create Directories"
   ]
  },
  {
   "cell_type": "code",
   "execution_count": 8,
   "metadata": {},
   "outputs": [],
   "source": [
    "import os\n",
    "os.makedirs(model_folder_path, exist_ok=True)\n",
    "os.makedirs(figure_folder_path, exist_ok=True)\n",
    "os.makedirs(so_data_folder_path, exist_ok=True)"
   ]
  },
  {
   "cell_type": "markdown",
   "metadata": {},
   "source": [
    "#### Upload the anndata file"
   ]
  },
  {
   "cell_type": "code",
   "execution_count": 9,
   "metadata": {},
   "outputs": [],
   "source": [
    "adata = sc.read_h5ad('/mnt/LaCIE/annaM/gut_project/Processed_data/Gut_data/10X_Xenium_data/Xenium_add_on_celltypes_and_stem_cells_types.h5ad')"
   ]
  },
  {
   "cell_type": "markdown",
   "metadata": {},
   "source": [
    "#### Prepare Model Training"
   ]
  },
  {
   "cell_type": "markdown",
   "metadata": {},
   "source": [
    "+ Create Prior Knowledge Gene Program (GP) Mask"
   ]
  },
  {
   "cell_type": "code",
   "execution_count": 10,
   "metadata": {},
   "outputs": [
    {
     "data": {
      "application/vnd.jupyter.widget-view+json": {
       "model_id": "cc4985559cfd449687bea7eaadbd0c1f",
       "version_major": 2,
       "version_minor": 0
      },
      "text/plain": [
       "0.00B [00:00, ?B/s]"
      ]
     },
     "metadata": {},
     "output_type": "display_data"
    },
    {
     "data": {
      "application/vnd.jupyter.widget-view+json": {
       "model_id": "273a262179ce430cbf1e74c859d97d71",
       "version_major": 2,
       "version_minor": 0
      },
      "text/plain": [
       "0.00B [00:00, ?B/s]"
      ]
     },
     "metadata": {},
     "output_type": "display_data"
    },
    {
     "data": {
      "application/vnd.jupyter.widget-view+json": {
       "model_id": "7687f9fc0c7b448687f8fd331010af72",
       "version_major": 2,
       "version_minor": 0
      },
      "text/plain": [
       "0.00B [00:00, ?B/s]"
      ]
     },
     "metadata": {},
     "output_type": "display_data"
    },
    {
     "data": {
      "image/png": "[encoded data removed]",
      "text/plain": [
       "<Figure size 1000x500 with 2 Axes>"
      ]
     },
     "metadata": {},
     "output_type": "display_data"
    }
   ],
   "source": [
    "# Retrieve OmniPath GPs (source: ligand genes; target: receptor genes)\n",
    "omnipath_gp_dict = extract_gp_dict_from_omnipath_lr_interactions(\n",
    "    species=species,\n",
    "    min_curation_effort=0,\n",
    "    load_from_disk=False,\n",
    "    save_to_disk=True,\n",
    "    lr_network_file_path=omnipath_lr_network_file_path,\n",
    "    gene_orthologs_mapping_file_path=gene_orthologs_mapping_file_path,\n",
    "    plot_gp_gene_count_distributions=True,\n",
    "    gp_gene_count_distributions_save_path=f\"{figure_folder_path}\" \\\n",
    "                                           \"/omnipath_gp_gene_count_distributions.svg\")"
   ]
  },
  {
   "cell_type": "code",
   "execution_count": 11,
   "metadata": {},
   "outputs": [
    {
     "name": "stdout",
     "output_type": "stream",
     "text": [
      "PYY_ligand_receptor_GP: {'sources': ['PYY'], 'targets': ['MAPK3'], 'sources_categories': ['ligand'], 'targets_categories': ['receptor']}\n"
     ]
    }
   ],
   "source": [
    "# Display example OmniPath GP\n",
    "omnipath_gp_names = list(omnipath_gp_dict.keys())\n",
    "random.shuffle(omnipath_gp_names)\n",
    "omnipath_gp_name = omnipath_gp_names[0]\n",
    "print(f\"{omnipath_gp_name}: {omnipath_gp_dict[omnipath_gp_name]}\")"
   ]
  },
  {
   "cell_type": "code",
   "execution_count": 12,
   "metadata": {},
   "outputs": [
    {
     "data": {
      "image/png": "[encoded data removed]",
      "text/plain": [
       "<Figure size 1000x500 with 2 Axes>"
      ]
     },
     "metadata": {},
     "output_type": "display_data"
    }
   ],
   "source": [
    "# Retrieve MEBOCOST GPs (source: enzyme genes; target: sensor genes)\n",
    "mebocost_gp_dict = extract_gp_dict_from_mebocost_es_interactions(\n",
    "    dir_path=mebocost_enzyme_sensor_interactions_folder_path,\n",
    "    species=species,\n",
    "    plot_gp_gene_count_distributions=True)"
   ]
  },
  {
   "cell_type": "code",
   "execution_count": 13,
   "metadata": {},
   "outputs": [
    {
     "name": "stdout",
     "output_type": "stream",
     "text": [
      "D-Glucose_metabolite_enzyme_sensor_GP: {'sources': ['ADPGK', 'B4GALT1', 'B4GALT2', 'G6PC', 'G6PC2', 'G6PC3', 'GAA', 'GALM', 'GANAB', 'GANC', 'GBA', 'GBA2', 'GBA3', 'GCK', 'GLA', 'H6PD', 'HK1', 'HK2', 'HK3', 'HKDC1', 'LALBA', 'LCT', 'MGAM', 'MOGS', 'SI', 'TREH', 'UGT1A1'], 'sources_categories': ['enzyme', 'enzyme', 'enzyme', 'enzyme', 'enzyme', 'enzyme', 'enzyme', 'enzyme', 'enzyme', 'enzyme', 'enzyme', 'enzyme', 'enzyme', 'enzyme', 'enzyme', 'enzyme', 'enzyme', 'enzyme', 'enzyme', 'enzyme', 'enzyme', 'enzyme', 'enzyme', 'enzyme', 'enzyme', 'enzyme', 'enzyme'], 'targets': ['SLC2A1', 'SLC2A10', 'SLC2A12', 'SLC2A2', 'SLC2A3', 'SLC2A4', 'SLC2A6', 'SLC2A7', 'SLC2A8', 'SLC2A9'], 'targets_categories': ['sensor', 'sensor', 'sensor', 'sensor', 'sensor', 'sensor', 'sensor', 'sensor', 'sensor', 'sensor']}\n"
     ]
    }
   ],
   "source": [
    "# Display example MEBOCOST GP\n",
    "mebocost_gp_names = list(mebocost_gp_dict.keys())\n",
    "random.shuffle(mebocost_gp_names)\n",
    "mebocost_gp_name = mebocost_gp_names[0]\n",
    "print(f\"{mebocost_gp_name}: {mebocost_gp_dict[mebocost_gp_name]}\")"
   ]
  },
  {
   "cell_type": "code",
   "execution_count": 14,
   "metadata": {},
   "outputs": [
    {
     "name": "stdout",
     "output_type": "stream",
     "text": [
      "Downloading NicheNet ligand receptor network 'v2' from the web...\n",
      "Downloading NicheNet ligand target matrix 'v2' from the web. This might take a while...\n"
     ]
    },
    {
     "data": {
      "image/png": "[encoded data removed]",
      "text/plain": [
       "<Figure size 1000x500 with 2 Axes>"
      ]
     },
     "metadata": {},
     "output_type": "display_data"
    }
   ],
   "source": [
    "# Retrieve NicheNet GPs (source: ligand genes; target: receptor genes, target genes)\n",
    "nichenet_gp_dict = extract_gp_dict_from_nichenet_lrt_interactions(\n",
    "    species=species,\n",
    "    version=\"v2\",\n",
    "    keep_target_genes_ratio=1.,\n",
    "    max_n_target_genes_per_gp=250,\n",
    "    load_from_disk=False,\n",
    "    save_to_disk=True,\n",
    "    lr_network_file_path=nichenet_lr_network_file_path,\n",
    "    ligand_target_matrix_file_path=nichenet_ligand_target_matrix_file_path,\n",
    "    gene_orthologs_mapping_file_path=gene_orthologs_mapping_file_path,\n",
    "    plot_gp_gene_count_distributions=True)"
   ]
  },
  {
   "cell_type": "code",
   "execution_count": 15,
   "metadata": {},
   "outputs": [
    {
     "name": "stdout",
     "output_type": "stream",
     "text": [
      "BTN1A1_ligand_receptor_target_gene_GP: {'sources': ['BTN1A1'], 'targets': ['NEGR1', 'JAML', 'TARM1', 'ADM', 'AFF3', 'AHR', 'AJUBA', 'AKT1', 'AMOTL2', 'ANGPTL4', 'ANKRD1', 'APOB', 'APOC3', 'AR', 'ARHGEF3', 'ARID1A', 'ATF3', 'ATP1B1', 'BAMBI', 'BAX', 'BBC3', 'BCAT1', 'BCL2', 'BCL2L1', 'BCL6', 'BDNF', 'BHLHE40', 'BIRC5', 'BMP4', 'BRCA1', 'BTG2', 'C3', 'CAV1', 'CBX5', 'CCL2', 'CCN1', 'CCN2', 'CCNA2', 'CCNB1', 'CCND1', 'CCND2', 'CD44', 'CDH1', 'CDK6', 'CDKN1A', 'CDKN2B', 'CEBPA', 'CEBPB', 'CFLAR', 'CITED2', 'CKS1B', 'CLDN1', 'COL18A1', 'COL2A1', 'CSF2', 'CTNNB1', 'CXADR', 'CXCL2', 'CXCL8', 'CXCR4', 'CYP1A1', 'CYP1B1', 'CYP2C8', 'DDIT3', 'DDIT4', 'DHRS3', 'DKK1', 'DLK1', 'DTL', 'DUSP1', 'DUSP5', 'DUSP6', 'EDN1', 'EEF1A1', 'EFNA1', 'EGFR', 'EGR1', 'EMP1', 'ENC1', 'EPHA2', 'EPO', 'ERBB3', 'ERRFI1', 'ESR1', 'ETFB', 'ETS1', 'ETV4', 'EZH2', 'FAS', 'FASN', 'FKBP5', 'FN1', 'FOS', 'FOXA1', 'FOXO3', 'FST', 'FZD2', 'G6PC1', 'GADD45A', 'GADD45B', 'GAPDH', 'GDF15', 'GJA1', 'GPR39', 'GPX2', 'GRHL3', 'GSC', 'H1-2', 'H2AC6', 'H2BC21', 'HES1', 'HMOX1', 'HNRNPF', 'HNRNPR', 'HOXA10', 'HSPE1', 'ICAM1', 'ID1', 'ID2', 'ID3', 'IER3', 'IFIT3', 'IFNG', 'IGF1R', 'IGFBP3', 'IL10', 'IL1B', 'IL6', 'IRF2BP2', 'JADE1', 'JAG1', 'JARID2', 'JMJD1C', 'JUN', 'JUNB', 'KHDRBS3', 'KLF10', 'KMT2E', 'LAMC2', 'LCOR', 'LEF1', 'LMNA', 'LPIN1', 'LPP', 'LTBP1', 'MAF', 'MALAT1', 'MBNL1', 'MCL1', 'MDM2', 'MEF2C', 'MEIS2', 'MET', 'MIA2', 'MICAL2', 'MITF', 'MMP2', 'MMP9', 'MXI1', 'MYB', 'MYC', 'NDRG1', 'NEDD9', 'NEK2', 'NEK6', 'NFE2L2', 'NFIA', 'NFKB1', 'NFKBIA', 'NIBAN1', 'NR1D1', 'NR2F1', 'NRP1', 'NTRK3', 'ODC1', 'OTX2', 'PCK1', 'PCK2', 'PCNA', 'PDE4DIP', 'PDE8A', 'PDGFRA', 'PER1', 'PIK3R1', 'PIM1', 'PLCG2', 'PLEC', 'PMAIP1', 'PMEPA1', 'POR', 'POU2F1', 'PPARG', 'PPARGC1A', 'PPP2R2B', 'PTEN', 'PTGS2', 'PTHLH', 'PTMA', 'RARA', 'RBMS1', 'RBPJ', 'RCC1', 'RNF19A', 'RNF38', 'RTN4', 'RUNX1', 'SAT1', 'SCAF11', 'SELENOP', 'SERPINE1', 'SGK1', 'SIRT1', 'SKIL', 'SLC20A1', 'SLC2A1', 'SMAD3', 'SMAD6', 'SMAD7', 'SNAI2', 'SOCS2', 'SOCS3', 'SOX5', 'SPP1', 'SSBP3', 'STMN1', 'SULF2', 'TBPL1', 'TCF7L2', 'TEAD1', 'TGFB1', 'TGFBI', 'TGFBR1', 'TGFBR2', 'TGIF1', 'THBS1', 'TIMP1', 'TNC', 'TNF', 'TNFRSF11B', 'TP53', 'TRIB1', 'TSKU', 'TXNIP', 'UCP2', 'VCAN', 'VEGFA', 'VIM', 'YARS1', 'ZFP36', 'ZFP36L1', 'ZFP36L2', 'ZMIZ1', 'ZMYND8'], 'sources_categories': ['ligand'], 'targets_categories': ['receptor', 'receptor', 'receptor', 'target_gene', 'target_gene', 'target_gene', 'target_gene', 'target_gene', 'target_gene', 'target_gene', 'target_gene', 'target_gene', 'target_gene', 'target_gene', 'target_gene', 'target_gene', 'target_gene', 'target_gene', 'target_gene', 'target_gene', 'target_gene', 'target_gene', 'target_gene', 'target_gene', 'target_gene', 'target_gene', 'target_gene', 'target_gene', 'target_gene', 'target_gene', 'target_gene', 'target_gene', 'target_gene', 'target_gene', 'target_gene', 'target_gene', 'target_gene', 'target_gene', 'target_gene', 'target_gene', 'target_gene', 'target_gene', 'target_gene', 'target_gene', 'target_gene', 'target_gene', 'target_gene', 'target_gene', 'target_gene', 'target_gene', 'target_gene', 'target_gene', 'target_gene', 'target_gene', 'target_gene', 'target_gene', 'target_gene', 'target_gene', 'target_gene', 'target_gene', 'target_gene', 'target_gene', 'target_gene', 'target_gene', 'target_gene', 'target_gene', 'target_gene', 'target_gene', 'target_gene', 'target_gene', 'target_gene', 'target_gene', 'target_gene', 'target_gene', 'target_gene', 'target_gene', 'target_gene', 'target_gene', 'target_gene', 'target_gene', 'target_gene', 'target_gene', 'target_gene', 'target_gene', 'target_gene', 'target_gene', 'target_gene', 'target_gene', 'target_gene', 'target_gene', 'target_gene', 'target_gene', 'target_gene', 'target_gene', 'target_gene', 'target_gene', 'target_gene', 'target_gene', 'target_gene', 'target_gene', 'target_gene', 'target_gene', 'target_gene', 'target_gene', 'target_gene', 'target_gene', 'target_gene', 'target_gene', 'target_gene', 'target_gene', 'target_gene', 'target_gene', 'target_gene', 'target_gene', 'target_gene', 'target_gene', 'target_gene', 'target_gene', 'target_gene', 'target_gene', 'target_gene', 'target_gene', 'target_gene', 'target_gene', 'target_gene', 'target_gene', 'target_gene', 'target_gene', 'target_gene', 'target_gene', 'target_gene', 'target_gene', 'target_gene', 'target_gene', 'target_gene', 'target_gene', 'target_gene', 'target_gene', 'target_gene', 'target_gene', 'target_gene', 'target_gene', 'target_gene', 'target_gene', 'target_gene', 'target_gene', 'target_gene', 'target_gene', 'target_gene', 'target_gene', 'target_gene', 'target_gene', 'target_gene', 'target_gene', 'target_gene', 'target_gene', 'target_gene', 'target_gene', 'target_gene', 'target_gene', 'target_gene', 'target_gene', 'target_gene', 'target_gene', 'target_gene', 'target_gene', 'target_gene', 'target_gene', 'target_gene', 'target_gene', 'target_gene', 'target_gene', 'target_gene', 'target_gene', 'target_gene', 'target_gene', 'target_gene', 'target_gene', 'target_gene', 'target_gene', 'target_gene', 'target_gene', 'target_gene', 'target_gene', 'target_gene', 'target_gene', 'target_gene', 'target_gene', 'target_gene', 'target_gene', 'target_gene', 'target_gene', 'target_gene', 'target_gene', 'target_gene', 'target_gene', 'target_gene', 'target_gene', 'target_gene', 'target_gene', 'target_gene', 'target_gene', 'target_gene', 'target_gene', 'target_gene', 'target_gene', 'target_gene', 'target_gene', 'target_gene', 'target_gene', 'target_gene', 'target_gene', 'target_gene', 'target_gene', 'target_gene', 'target_gene', 'target_gene', 'target_gene', 'target_gene', 'target_gene', 'target_gene', 'target_gene', 'target_gene', 'target_gene', 'target_gene', 'target_gene', 'target_gene', 'target_gene', 'target_gene', 'target_gene', 'target_gene', 'target_gene', 'target_gene', 'target_gene', 'target_gene', 'target_gene', 'target_gene', 'target_gene', 'target_gene', 'target_gene', 'target_gene', 'target_gene', 'target_gene', 'target_gene', 'target_gene', 'target_gene', 'target_gene', 'target_gene', 'target_gene', 'target_gene', 'target_gene', 'target_gene', 'target_gene']}\n"
     ]
    }
   ],
   "source": [
    "# Display example NicheNet GP\n",
    "nichenet_gp_names = list(nichenet_gp_dict.keys())\n",
    "random.shuffle(nichenet_gp_names)\n",
    "nichenet_gp_name = nichenet_gp_names[0]\n",
    "print(f\"{nichenet_gp_name}: {nichenet_gp_dict[nichenet_gp_name]}\")"
   ]
  },
  {
   "cell_type": "code",
   "execution_count": 16,
   "metadata": {},
   "outputs": [],
   "source": [
    "# Add GPs into one combined dictionary for model training\n",
    "combined_gp_dict = dict(omnipath_gp_dict)\n",
    "combined_gp_dict.update(mebocost_gp_dict)\n",
    "combined_gp_dict.update(nichenet_gp_dict)"
   ]
  },
  {
   "cell_type": "code",
   "execution_count": 17,
   "metadata": {},
   "outputs": [
    {
     "name": "stdout",
     "output_type": "stream",
     "text": [
      "Number of gene programs before filtering and combining: 2406.\n",
      "Number of gene programs after filtering and combining: 1987.\n"
     ]
    }
   ],
   "source": [
    "# Filter and combine GPs to avoid overlaps\n",
    "combined_new_gp_dict = filter_and_combine_gp_dict_gps(\n",
    "    gp_dict=combined_gp_dict,\n",
    "    gp_filter_mode=\"subset\",\n",
    "    combine_overlap_gps=True,\n",
    "    overlap_thresh_source_genes=0.9,\n",
    "    overlap_thresh_target_genes=0.9,\n",
    "    overlap_thresh_genes=0.9)\n",
    "\n",
    "print(\"Number of gene programs before filtering and combining: \"\n",
    "      f\"{len(combined_gp_dict)}.\")\n",
    "print(f\"Number of gene programs after filtering and combining: \"\n",
    "      f\"{len(combined_new_gp_dict)}.\")"
   ]
  },
  {
   "cell_type": "markdown",
   "metadata": {},
   "source": [
    "#### Compute Spatial Neighbor Graph for adata"
   ]
  },
  {
   "cell_type": "code",
   "execution_count": 18,
   "metadata": {},
   "outputs": [
    {
     "data": {
      "text/html": [
       "<div>\n",
       "<style scoped>\n",
       "    .dataframe tbody tr th:only-of-type {\n",
       "        vertical-align: middle;\n",
       "    }\n",
       "\n",
       "    .dataframe tbody tr th {\n",
       "        vertical-align: top;\n",
       "    }\n",
       "\n",
       "    .dataframe thead th {\n",
       "        text-align: right;\n",
       "    }\n",
       "</style>\n",
       "<table border=\"1\" class=\"dataframe\">\n",
       "  <thead>\n",
       "    <tr style=\"text-align: right;\">\n",
       "      <th></th>\n",
       "      <th>x_centroid</th>\n",
       "      <th>y_centroid</th>\n",
       "      <th>transcript_counts</th>\n",
       "      <th>control_probe_counts</th>\n",
       "      <th>control_codeword_counts</th>\n",
       "      <th>unassigned_codeword_counts</th>\n",
       "      <th>deprecated_codeword_counts</th>\n",
       "      <th>total_counts</th>\n",
       "      <th>cell_area</th>\n",
       "      <th>nucleus_area</th>\n",
       "      <th>Cell_Type</th>\n",
       "      <th>Stem_cells</th>\n",
       "      <th>CellType2</th>\n",
       "    </tr>\n",
       "    <tr>\n",
       "      <th>cell_id</th>\n",
       "      <th></th>\n",
       "      <th></th>\n",
       "      <th></th>\n",
       "      <th></th>\n",
       "      <th></th>\n",
       "      <th></th>\n",
       "      <th></th>\n",
       "      <th></th>\n",
       "      <th></th>\n",
       "      <th></th>\n",
       "      <th></th>\n",
       "      <th></th>\n",
       "      <th></th>\n",
       "    </tr>\n",
       "  </thead>\n",
       "  <tbody>\n",
       "    <tr>\n",
       "      <th>aaaagkoa-1</th>\n",
       "      <td>830.147217</td>\n",
       "      <td>836.563416</td>\n",
       "      <td>284</td>\n",
       "      <td>0</td>\n",
       "      <td>0</td>\n",
       "      <td>0</td>\n",
       "      <td>0</td>\n",
       "      <td>284</td>\n",
       "      <td>653.365805</td>\n",
       "      <td>23.120001</td>\n",
       "      <td>Mesenchymal</td>\n",
       "      <td>Unknown</td>\n",
       "      <td>Mesenchymal</td>\n",
       "    </tr>\n",
       "    <tr>\n",
       "      <th>aaablbol-1</th>\n",
       "      <td>735.468018</td>\n",
       "      <td>854.389282</td>\n",
       "      <td>116</td>\n",
       "      <td>0</td>\n",
       "      <td>0</td>\n",
       "      <td>0</td>\n",
       "      <td>0</td>\n",
       "      <td>116</td>\n",
       "      <td>651.243461</td>\n",
       "      <td>12.643750</td>\n",
       "      <td>Mesenchymal</td>\n",
       "      <td>Unknown</td>\n",
       "      <td>Mesenchymal</td>\n",
       "    </tr>\n",
       "    <tr>\n",
       "      <th>aaabogma-1</th>\n",
       "      <td>847.423462</td>\n",
       "      <td>846.633240</td>\n",
       "      <td>170</td>\n",
       "      <td>0</td>\n",
       "      <td>0</td>\n",
       "      <td>0</td>\n",
       "      <td>0</td>\n",
       "      <td>170</td>\n",
       "      <td>674.544087</td>\n",
       "      <td>18.152813</td>\n",
       "      <td>Mesenchymal</td>\n",
       "      <td>Unknown</td>\n",
       "      <td>Mesenchymal</td>\n",
       "    </tr>\n",
       "    <tr>\n",
       "      <th>aaabpdim-1</th>\n",
       "      <td>1543.696045</td>\n",
       "      <td>4223.798340</td>\n",
       "      <td>61</td>\n",
       "      <td>0</td>\n",
       "      <td>0</td>\n",
       "      <td>0</td>\n",
       "      <td>0</td>\n",
       "      <td>61</td>\n",
       "      <td>172.406569</td>\n",
       "      <td>11.379375</td>\n",
       "      <td>Mesenchymal</td>\n",
       "      <td>Unknown</td>\n",
       "      <td>Mesenchymal</td>\n",
       "    </tr>\n",
       "    <tr>\n",
       "      <th>aaabpfoj-1</th>\n",
       "      <td>1551.099121</td>\n",
       "      <td>4220.062988</td>\n",
       "      <td>105</td>\n",
       "      <td>0</td>\n",
       "      <td>0</td>\n",
       "      <td>0</td>\n",
       "      <td>0</td>\n",
       "      <td>105</td>\n",
       "      <td>283.490948</td>\n",
       "      <td>56.806565</td>\n",
       "      <td>Mesenchymal</td>\n",
       "      <td>Unknown</td>\n",
       "      <td>Mesenchymal</td>\n",
       "    </tr>\n",
       "    <tr>\n",
       "      <th>...</th>\n",
       "      <td>...</td>\n",
       "      <td>...</td>\n",
       "      <td>...</td>\n",
       "      <td>...</td>\n",
       "      <td>...</td>\n",
       "      <td>...</td>\n",
       "      <td>...</td>\n",
       "      <td>...</td>\n",
       "      <td>...</td>\n",
       "      <td>...</td>\n",
       "      <td>...</td>\n",
       "      <td>...</td>\n",
       "      <td>...</td>\n",
       "    </tr>\n",
       "    <tr>\n",
       "      <th>oikabfkp-1</th>\n",
       "      <td>8284.036133</td>\n",
       "      <td>3061.574951</td>\n",
       "      <td>219</td>\n",
       "      <td>0</td>\n",
       "      <td>0</td>\n",
       "      <td>0</td>\n",
       "      <td>0</td>\n",
       "      <td>219</td>\n",
       "      <td>70.308284</td>\n",
       "      <td>38.563439</td>\n",
       "      <td>Epithelial</td>\n",
       "      <td>Unknown</td>\n",
       "      <td>Epithelial</td>\n",
       "    </tr>\n",
       "    <tr>\n",
       "      <th>oikalpjm-1</th>\n",
       "      <td>8267.514648</td>\n",
       "      <td>3067.372314</td>\n",
       "      <td>173</td>\n",
       "      <td>0</td>\n",
       "      <td>0</td>\n",
       "      <td>0</td>\n",
       "      <td>0</td>\n",
       "      <td>173</td>\n",
       "      <td>45.743283</td>\n",
       "      <td>11.334219</td>\n",
       "      <td>Epithelial</td>\n",
       "      <td>Unknown</td>\n",
       "      <td>Epithelial</td>\n",
       "    </tr>\n",
       "    <tr>\n",
       "      <th>oikamhom-1</th>\n",
       "      <td>8260.333984</td>\n",
       "      <td>3068.529053</td>\n",
       "      <td>369</td>\n",
       "      <td>0</td>\n",
       "      <td>0</td>\n",
       "      <td>0</td>\n",
       "      <td>0</td>\n",
       "      <td>369</td>\n",
       "      <td>104.040004</td>\n",
       "      <td>46.691564</td>\n",
       "      <td>Epithelial</td>\n",
       "      <td>Unknown</td>\n",
       "      <td>Epithelial</td>\n",
       "    </tr>\n",
       "    <tr>\n",
       "      <th>oikaoaef-1</th>\n",
       "      <td>8281.400391</td>\n",
       "      <td>3071.849365</td>\n",
       "      <td>176</td>\n",
       "      <td>0</td>\n",
       "      <td>0</td>\n",
       "      <td>0</td>\n",
       "      <td>0</td>\n",
       "      <td>176</td>\n",
       "      <td>59.696565</td>\n",
       "      <td>13.275938</td>\n",
       "      <td>Epithelial</td>\n",
       "      <td>Unknown</td>\n",
       "      <td>Epithelial</td>\n",
       "    </tr>\n",
       "    <tr>\n",
       "      <th>oikbglfb-1</th>\n",
       "      <td>8269.384766</td>\n",
       "      <td>3080.892090</td>\n",
       "      <td>882</td>\n",
       "      <td>0</td>\n",
       "      <td>0</td>\n",
       "      <td>0</td>\n",
       "      <td>0</td>\n",
       "      <td>882</td>\n",
       "      <td>368.429857</td>\n",
       "      <td>28.719376</td>\n",
       "      <td>Epithelial</td>\n",
       "      <td>Unknown</td>\n",
       "      <td>Epithelial</td>\n",
       "    </tr>\n",
       "  </tbody>\n",
       "</table>\n",
       "<p>275822 rows × 13 columns</p>\n",
       "</div>"
      ],
      "text/plain": [
       "             x_centroid   y_centroid  transcript_counts  control_probe_counts  \\\n",
       "cell_id                                                                         \n",
       "aaaagkoa-1   830.147217   836.563416                284                     0   \n",
       "aaablbol-1   735.468018   854.389282                116                     0   \n",
       "aaabogma-1   847.423462   846.633240                170                     0   \n",
       "aaabpdim-1  1543.696045  4223.798340                 61                     0   \n",
       "aaabpfoj-1  1551.099121  4220.062988                105                     0   \n",
       "...                 ...          ...                ...                   ...   \n",
       "oikabfkp-1  8284.036133  3061.574951                219                     0   \n",
       "oikalpjm-1  8267.514648  3067.372314                173                     0   \n",
       "oikamhom-1  8260.333984  3068.529053                369                     0   \n",
       "oikaoaef-1  8281.400391  3071.849365                176                     0   \n",
       "oikbglfb-1  8269.384766  3080.892090                882                     0   \n",
       "\n",
       "            control_codeword_counts  unassigned_codeword_counts  \\\n",
       "cell_id                                                           \n",
       "aaaagkoa-1                        0                           0   \n",
       "aaablbol-1                        0                           0   \n",
       "aaabogma-1                        0                           0   \n",
       "aaabpdim-1                        0                           0   \n",
       "aaabpfoj-1                        0                           0   \n",
       "...                             ...                         ...   \n",
       "oikabfkp-1                        0                           0   \n",
       "oikalpjm-1                        0                           0   \n",
       "oikamhom-1                        0                           0   \n",
       "oikaoaef-1                        0                           0   \n",
       "oikbglfb-1                        0                           0   \n",
       "\n",
       "            deprecated_codeword_counts  total_counts   cell_area  \\\n",
       "cell_id                                                            \n",
       "aaaagkoa-1                           0           284  653.365805   \n",
       "aaablbol-1                           0           116  651.243461   \n",
       "aaabogma-1                           0           170  674.544087   \n",
       "aaabpdim-1                           0            61  172.406569   \n",
       "aaabpfoj-1                           0           105  283.490948   \n",
       "...                                ...           ...         ...   \n",
       "oikabfkp-1                           0           219   70.308284   \n",
       "oikalpjm-1                           0           173   45.743283   \n",
       "oikamhom-1                           0           369  104.040004   \n",
       "oikaoaef-1                           0           176   59.696565   \n",
       "oikbglfb-1                           0           882  368.429857   \n",
       "\n",
       "            nucleus_area    Cell_Type Stem_cells    CellType2  \n",
       "cell_id                                                        \n",
       "aaaagkoa-1     23.120001  Mesenchymal    Unknown  Mesenchymal  \n",
       "aaablbol-1     12.643750  Mesenchymal    Unknown  Mesenchymal  \n",
       "aaabogma-1     18.152813  Mesenchymal    Unknown  Mesenchymal  \n",
       "aaabpdim-1     11.379375  Mesenchymal    Unknown  Mesenchymal  \n",
       "aaabpfoj-1     56.806565  Mesenchymal    Unknown  Mesenchymal  \n",
       "...                  ...          ...        ...          ...  \n",
       "oikabfkp-1     38.563439   Epithelial    Unknown   Epithelial  \n",
       "oikalpjm-1     11.334219   Epithelial    Unknown   Epithelial  \n",
       "oikamhom-1     46.691564   Epithelial    Unknown   Epithelial  \n",
       "oikaoaef-1     13.275938   Epithelial    Unknown   Epithelial  \n",
       "oikbglfb-1     28.719376   Epithelial    Unknown   Epithelial  \n",
       "\n",
       "[275822 rows x 13 columns]"
      ]
     },
     "execution_count": 18,
     "metadata": {},
     "output_type": "execute_result"
    }
   ],
   "source": [
    "adata.obs"
   ]
  },
  {
   "cell_type": "code",
   "execution_count": 19,
   "metadata": {},
   "outputs": [],
   "source": [
    "# Compute spatial neighborhood\n",
    "sq.gr.spatial_neighbors(adata,\n",
    "                        coord_type=\"generic\",\n",
    "                        spatial_key=spatial_key,\n",
    "                        n_neighs=n_neighbors)\n",
    "\n",
    "# Make adjacency matrix symmetric\n",
    "adata.obsp[adj_key] = (\n",
    "    adata.obsp[adj_key].maximum(\n",
    "        adata.obsp[adj_key].T))"
   ]
  },
  {
   "cell_type": "markdown",
   "metadata": {},
   "source": [
    "+ Add GP Mask to Data"
   ]
  },
  {
   "cell_type": "code",
   "execution_count": 20,
   "metadata": {},
   "outputs": [],
   "source": [
    "# Add the GP dictionary as binary masks to the adata\n",
    "add_gps_from_gp_dict_to_adata(\n",
    "    gp_dict=combined_new_gp_dict,\n",
    "    adata=adata,\n",
    "    gp_targets_mask_key=gp_targets_mask_key,\n",
    "    gp_targets_categories_mask_key=gp_targets_categories_mask_key,\n",
    "    gp_sources_mask_key=gp_sources_mask_key,\n",
    "    gp_sources_categories_mask_key=gp_sources_categories_mask_key,\n",
    "    gp_names_key=gp_names_key,\n",
    "    min_genes_per_gp=2,\n",
    "    min_source_genes_per_gp=1,\n",
    "    min_target_genes_per_gp=1,\n",
    "    max_genes_per_gp=None,\n",
    "    max_source_genes_per_gp=None,\n",
    "    max_target_genes_per_gp=None)"
   ]
  },
  {
   "cell_type": "markdown",
   "metadata": {},
   "source": [
    "+ Explore Data"
   ]
  },
  {
   "cell_type": "code",
   "execution_count": 23,
   "metadata": {},
   "outputs": [],
   "source": [
    "cell_type_colors = create_new_color_dict(\n",
    "    adata=adata,\n",
    "    cat_key=cell_type_key)"
   ]
  },
  {
   "cell_type": "code",
   "execution_count": 26,
   "metadata": {},
   "outputs": [],
   "source": [
    "adata.layers['counts'] = adata.X.copy()"
   ]
  },
  {
   "cell_type": "code",
   "execution_count": 27,
   "metadata": {},
   "outputs": [
    {
     "name": "stdout",
     "output_type": "stream",
     "text": [
      "Number of nodes (observations): 275822\n",
      "Number of node features (genes): 425\n"
     ]
    }
   ],
   "source": [
    "print(f\"Number of nodes (observations): {adata.layers['counts'].shape[0]}\")\n",
    "print(f\"Number of node features (genes): {adata.layers['counts'].shape[1]}\")"
   ]
  },
  {
   "cell_type": "code",
   "execution_count": 28,
   "metadata": {},
   "outputs": [
    {
     "ename": "KeyError",
     "evalue": "'scalefactors'",
     "output_type": "error",
     "traceback": [
      "\u001b[0;31m---------------------------------------------------------------------------\u001b[0m",
      "\u001b[0;31mKeyError\u001b[0m                                  Traceback (most recent call last)",
      "Cell \u001b[0;32mIn[28], line 1\u001b[0m\n\u001b[0;32m----> 1\u001b[0m \u001b[43msc\u001b[49m\u001b[38;5;241;43m.\u001b[39;49m\u001b[43mpl\u001b[49m\u001b[38;5;241;43m.\u001b[39;49m\u001b[43mspatial\u001b[49m\u001b[43m(\u001b[49m\u001b[43madata\u001b[49m\u001b[43m,\u001b[49m\n\u001b[1;32m      2\u001b[0m \u001b[43m              \u001b[49m\u001b[43mcolor\u001b[49m\u001b[38;5;241;43m=\u001b[39;49m\u001b[43mcell_type_key\u001b[49m\u001b[43m,\u001b[49m\n\u001b[1;32m      3\u001b[0m \u001b[43m              \u001b[49m\u001b[43mpalette\u001b[49m\u001b[38;5;241;43m=\u001b[39;49m\u001b[43mcell_type_colors\u001b[49m\u001b[43m,\u001b[49m\n\u001b[1;32m      4\u001b[0m \u001b[43m              \u001b[49m\u001b[43mspot_size\u001b[49m\u001b[38;5;241;43m=\u001b[39;49m\u001b[43mspot_size\u001b[49m\u001b[43m)\u001b[49m        \n",
      "File \u001b[0;32m~/miniforge3/envs/NicheCompass_env/lib/python3.9/site-packages/scanpy/plotting/_tools/scatterplots.py:997\u001b[0m, in \u001b[0;36mspatial\u001b[0;34m(adata, basis, img, img_key, library_id, crop_coord, alpha_img, bw, size, scale_factor, spot_size, na_color, show, return_fig, save, **kwargs)\u001b[0m\n\u001b[1;32m    995\u001b[0m img, img_key \u001b[38;5;241m=\u001b[39m _check_img(spatial_data, img, img_key, bw\u001b[38;5;241m=\u001b[39mbw)\n\u001b[1;32m    996\u001b[0m spot_size \u001b[38;5;241m=\u001b[39m _check_spot_size(spatial_data, spot_size)\n\u001b[0;32m--> 997\u001b[0m scale_factor \u001b[38;5;241m=\u001b[39m \u001b[43m_check_scale_factor\u001b[49m\u001b[43m(\u001b[49m\n\u001b[1;32m    998\u001b[0m \u001b[43m    \u001b[49m\u001b[43mspatial_data\u001b[49m\u001b[43m,\u001b[49m\u001b[43m \u001b[49m\u001b[43mimg_key\u001b[49m\u001b[38;5;241;43m=\u001b[39;49m\u001b[43mimg_key\u001b[49m\u001b[43m,\u001b[49m\u001b[43m \u001b[49m\u001b[43mscale_factor\u001b[49m\u001b[38;5;241;43m=\u001b[39;49m\u001b[43mscale_factor\u001b[49m\n\u001b[1;32m    999\u001b[0m \u001b[43m\u001b[49m\u001b[43m)\u001b[49m\n\u001b[1;32m   1000\u001b[0m crop_coord \u001b[38;5;241m=\u001b[39m _check_crop_coord(crop_coord, scale_factor)\n\u001b[1;32m   1001\u001b[0m na_color \u001b[38;5;241m=\u001b[39m _check_na_color(na_color, img\u001b[38;5;241m=\u001b[39mimg)\n",
      "File \u001b[0;32m~/miniforge3/envs/NicheCompass_env/lib/python3.9/site-packages/scanpy/plotting/_tools/scatterplots.py:1292\u001b[0m, in \u001b[0;36m_check_scale_factor\u001b[0;34m(spatial_data, img_key, scale_factor)\u001b[0m\n\u001b[1;32m   1290\u001b[0m     \u001b[38;5;28;01mreturn\u001b[39;00m scale_factor\n\u001b[1;32m   1291\u001b[0m \u001b[38;5;28;01melif\u001b[39;00m spatial_data \u001b[38;5;129;01mis\u001b[39;00m \u001b[38;5;129;01mnot\u001b[39;00m \u001b[38;5;28;01mNone\u001b[39;00m \u001b[38;5;129;01mand\u001b[39;00m img_key \u001b[38;5;129;01mis\u001b[39;00m \u001b[38;5;129;01mnot\u001b[39;00m \u001b[38;5;28;01mNone\u001b[39;00m:\n\u001b[0;32m-> 1292\u001b[0m     \u001b[38;5;28;01mreturn\u001b[39;00m \u001b[43mspatial_data\u001b[49m\u001b[43m[\u001b[49m\u001b[38;5;124;43m'\u001b[39;49m\u001b[38;5;124;43mscalefactors\u001b[39;49m\u001b[38;5;124;43m'\u001b[39;49m\u001b[43m]\u001b[49m[\u001b[38;5;124mf\u001b[39m\u001b[38;5;124m\"\u001b[39m\u001b[38;5;124mtissue_\u001b[39m\u001b[38;5;132;01m{\u001b[39;00mimg_key\u001b[38;5;132;01m}\u001b[39;00m\u001b[38;5;124m_scalef\u001b[39m\u001b[38;5;124m\"\u001b[39m]\n\u001b[1;32m   1293\u001b[0m \u001b[38;5;28;01melse\u001b[39;00m:\n\u001b[1;32m   1294\u001b[0m     \u001b[38;5;28;01mreturn\u001b[39;00m \u001b[38;5;241m1.0\u001b[39m\n",
      "\u001b[0;31mKeyError\u001b[0m: 'scalefactors'"
     ]
    }
   ],
   "source": [
    "sc.pl.spatial(adata,\n",
    "              color=cell_type_key,\n",
    "              palette=cell_type_colors,\n",
    "              spot_size=spot_size)        "
   ]
  }
 ],
 "metadata": {
  "kernelspec": {
   "display_name": "Python (NicheCompass_env)",
   "language": "python",
   "name": "nichecompass_env"
  },
  "language_info": {
   "codemirror_mode": {
    "name": "ipython",
    "version": 3
   },
   "file_extension": ".py",
   "mimetype": "text/x-python",
   "name": "python",
   "nbconvert_exporter": "python",
   "pygments_lexer": "ipython3",
   "version": "3.9.19"
  }
 },
 "nbformat": 4,
 "nbformat_minor": 2
}
