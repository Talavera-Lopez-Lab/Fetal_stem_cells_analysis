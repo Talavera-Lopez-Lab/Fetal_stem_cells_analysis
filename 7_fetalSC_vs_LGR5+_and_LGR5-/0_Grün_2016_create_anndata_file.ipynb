{
 "cells": [
  {
   "cell_type": "markdown",
   "metadata": {},
   "source": [
    "### Create anndata object for Grün, 2016 stem cells\n",
    "\n",
    "- **Developed by:** Anna Maguza\n",
    "- **Affilation:** Faculty of Medicine, Würzburg University\n",
    "- **Date of creation:** 10th September 2024\n",
    "- **Last modified date:** 10th September 2024"
   ]
  },
  {
   "cell_type": "code",
   "execution_count": 9,
   "metadata": {},
   "outputs": [],
   "source": [
    "import pandas as pd\n",
    "import anndata as ad\n",
    "import glob\n",
    "import os"
   ]
  },
  {
   "cell_type": "code",
   "execution_count": 10,
   "metadata": {},
   "outputs": [],
   "source": [
    "path = \"data/Grun_2016\""
   ]
  },
  {
   "cell_type": "code",
   "execution_count": 11,
   "metadata": {},
   "outputs": [],
   "source": [
    "csv_files = glob.glob(os.path.join(path, \"*.csv\"))"
   ]
  },
  {
   "cell_type": "code",
   "execution_count": 12,
   "metadata": {},
   "outputs": [],
   "source": [
    "data_list = []\n",
    "file_names = []\n",
    "\n",
    "for file in csv_files:\n",
    "    file_name = os.path.basename(file).replace(\".gene.coutt.csv\", \"\")\n",
    "    file_names.append(file_name)\n",
    "    \n",
    "    df = pd.read_csv(file, index_col=\"GENEID\", sep='\\t')\n",
    "    \n",
    "    df.columns = [f\"{file_name}_{i+1}\" for i in range(len(df.columns))]\n",
    "    \n",
    "    data_list.append(df)"
   ]
  },
  {
   "cell_type": "code",
   "execution_count": 13,
   "metadata": {},
   "outputs": [],
   "source": [
    "combined_data = pd.concat(data_list, axis=1)"
   ]
  },
  {
   "cell_type": "code",
   "execution_count": 14,
   "metadata": {},
   "outputs": [],
   "source": [
    "adata = ad.AnnData(X=combined_data.T)"
   ]
  },
  {
   "cell_type": "code",
   "execution_count": 15,
   "metadata": {},
   "outputs": [],
   "source": [
    "adata.var_names = combined_data.index"
   ]
  },
  {
   "cell_type": "code",
   "execution_count": 16,
   "metadata": {},
   "outputs": [],
   "source": [
    "adata.obs[\"file_name\"] = [name for name in file_names for _ in range(len(data_list[0].columns))]"
   ]
  },
  {
   "cell_type": "code",
   "execution_count": 24,
   "metadata": {},
   "outputs": [],
   "source": [
    "adata.obs[\"GSM_number\"] = adata.obs[\"file_name\"].apply(lambda x: x.split(\"_\")[0])"
   ]
  },
  {
   "cell_type": "code",
   "execution_count": 25,
   "metadata": {},
   "outputs": [],
   "source": [
    "gsm_descriptions = {\n",
    "    \"GSM1987570\": \"Extracted RNA 5-day traced Lgr5+ cells replicate 1\",\n",
    "    \"GSM1987571\": \"Extracted RNA 5-day traced Lgr5+ cells replicate 2\",\n",
    "    \"GSM1987573\": \"Extracted RNA 5-day traced Lgr5+ cells replicate 3\",\n",
    "    \"GSM1987574\": \"Extracted RNA 5-day traced Lgr5+ cells replicate 4\",\n",
    "    \"GSM1987575\": \"Extracted RNA 5-day traced Lgr5+ cells replicate 5\",\n",
    "    \"GSM1987576\": \"Extracted RNA 3-week traced Lgr5+ cells, CD24+ fraction\",\n",
    "    \"GSM1987577\": \"Extracted RNA 3-week CD24+ control cells, non-traced\",\n",
    "    \"GSM1987578\": \"Extracted RNA 8-week traced Lgr5+ cells, CD24+ fraction replicate 1\",\n",
    "    \"GSM1987579\": \"Extracted RNA 8-week traced Lgr5+ cells\",\n",
    "    \"GSM1987581\": \"Extracted RNA 8-week traced Lgr5+ cells, CD24+ fraction replicate 2\",\n",
    "    \"GSM1987582\": \"Extracted RNA 8-week traced Lgr5+ cells, CD24+ fraction replicate 3\",\n",
    "    \"GSM1987583\": \"Extracted RNA 8-week CD24+ control cells, non-traced replicate 1\",\n",
    "    \"GSM1987584\": \"Extracted RNA 8-week CD24+ control cells, non-traced replicate 2\"\n",
    "}"
   ]
  },
  {
   "cell_type": "code",
   "execution_count": 26,
   "metadata": {},
   "outputs": [],
   "source": [
    "adata.obs[\"gsm_description\"] = adata.obs[\"GSM_number\"].map(gsm_descriptions)"
   ]
  },
  {
   "cell_type": "code",
   "execution_count": 28,
   "metadata": {},
   "outputs": [],
   "source": [
    "adata.write_h5ad(\"data/Grun_2016/Grün_2016_all_cells.h5ad\")"
   ]
  }
 ],
 "metadata": {
  "kernelspec": {
   "display_name": "Scanpy",
   "language": "python",
   "name": "scnapy-server"
  },
  "language_info": {
   "codemirror_mode": {
    "name": "ipython",
    "version": 3
   },
   "file_extension": ".py",
   "mimetype": "text/x-python",
   "name": "python",
   "nbconvert_exporter": "python",
   "pygments_lexer": "ipython3",
   "version": "3.11.5"
  }
 },
 "nbformat": 4,
 "nbformat_minor": 2
}
