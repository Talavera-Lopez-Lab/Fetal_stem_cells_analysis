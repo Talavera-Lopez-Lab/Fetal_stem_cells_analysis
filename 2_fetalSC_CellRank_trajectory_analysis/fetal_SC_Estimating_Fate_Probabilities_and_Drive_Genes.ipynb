{
 "cells": [
  {
   "cell_type": "markdown",
   "metadata": {},
   "source": [
    "### Notebook for the fetal stem cells identification of fate probabilities and driver genes with CellRank\n",
    "- **Developed by:** Anna Maguza\n",
    "- **Place:** Wuerzburg Institute for System Immunology\n",
    "- **Date:** 13th November 2023"
   ]
  },
  {
   "cell_type": "markdown",
   "metadata": {},
   "source": [
    "### Import packages"
   ]
  },
  {
   "cell_type": "code",
   "execution_count": 1,
   "metadata": {},
   "outputs": [],
   "source": [
    "import numpy as np\n",
    "import pandas as pd\n",
    "\n",
    "import cellrank as cr\n",
    "import scanpy as sc\n",
    "from cellrank.kernels import RealTimeKernel\n",
    "\n",
    "from moscot.problems.time import TemporalProblem\n"
   ]
  },
  {
   "cell_type": "code",
   "execution_count": 2,
   "metadata": {},
   "outputs": [],
   "source": [
    "import matplotlib.pyplot as plt"
   ]
  },
  {
   "cell_type": "markdown",
   "metadata": {},
   "source": [
    "### Set up the cells"
   ]
  },
  {
   "cell_type": "code",
   "execution_count": 3,
   "metadata": {},
   "outputs": [],
   "source": [
    "%matplotlib inline"
   ]
  },
  {
   "cell_type": "code",
   "execution_count": 4,
   "metadata": {},
   "outputs": [
    {
     "name": "stdout",
     "output_type": "stream",
     "text": [
      "-----\n",
      "anndata     0.10.3\n",
      "scanpy      1.9.5\n",
      "-----\n",
      "PIL                         10.1.0\n",
      "absl                        NA\n",
      "anyio                       NA\n",
      "arrow                       1.3.0\n",
      "asttokens                   NA\n",
      "attr                        23.1.0\n",
      "attrs                       23.1.0\n",
      "babel                       2.13.1\n",
      "brotli                      1.1.0\n",
      "cellrank                    2.0.0\n",
      "certifi                     2023.07.22\n",
      "cffi                        1.16.0\n",
      "charset_normalizer          3.3.2\n",
      "chex                        0.1.83\n",
      "cloudpickle                 3.0.0\n",
      "colorama                    0.4.6\n",
      "comm                        0.1.4\n",
      "cycler                      0.12.1\n",
      "cython_runtime              NA\n",
      "dateutil                    2.8.2\n",
      "debugpy                     1.8.0\n",
      "decorator                   5.1.1\n",
      "defusedxml                  0.7.1\n",
      "docrep                      0.3.2\n",
      "executing                   2.0.1\n",
      "fastjsonschema              NA\n",
      "flax                        0.6.1\n",
      "fqdn                        NA\n",
      "gmpy2                       2.1.2\n",
      "h5py                        3.10.0\n",
      "idna                        3.4\n",
      "igraph                      0.10.8\n",
      "ipykernel                   6.26.0\n",
      "isoduration                 NA\n",
      "jax                         0.4.13\n",
      "jaxlib                      0.4.12\n",
      "jaxopt                      NA\n",
      "jedi                        0.19.1\n",
      "jinja2                      3.1.2\n",
      "joblib                      1.3.2\n",
      "json5                       NA\n",
      "jsonpointer                 2.4\n",
      "jsonschema                  4.19.2\n",
      "jsonschema_specifications   NA\n",
      "jupyter_events              0.8.0\n",
      "jupyter_server              2.9.1\n",
      "jupyterlab_server           2.25.0\n",
      "kiwisolver                  1.4.5\n",
      "leidenalg                   0.10.1\n",
      "llvmlite                    0.40.1\n",
      "markupsafe                  2.1.3\n",
      "matplotlib                  3.8.1\n",
      "matplotlib_inline           0.1.6\n",
      "ml_dtypes                   0.3.1\n",
      "moscot                      0.3.3\n",
      "mpl_toolkits                NA\n",
      "mpmath                      1.3.0\n",
      "msgpack                     1.0.6\n",
      "natsort                     8.4.0\n",
      "nbformat                    5.9.2\n",
      "networkx                    3.2.1\n",
      "numba                       0.57.1\n",
      "numpy                       1.24.4\n",
      "opt_einsum                  v3.3.0\n",
      "optax                       0.1.7\n",
      "ott                         0.4.4\n",
      "overrides                   NA\n",
      "packaging                   23.2\n",
      "pandas                      2.1.3\n",
      "parso                       0.8.3\n",
      "patsy                       0.5.3\n",
      "petsc4py                    3.19.0\n",
      "pexpect                     4.8.0\n",
      "pickleshare                 0.7.5\n",
      "platformdirs                3.11.0\n",
      "progressbar                 4.2.0\n",
      "prometheus_client           NA\n",
      "prompt_toolkit              3.0.39\n",
      "psutil                      5.9.5\n",
      "ptyprocess                  0.7.0\n",
      "pure_eval                   0.2.2\n",
      "pydev_ipython               NA\n",
      "pydevconsole                NA\n",
      "pydevd                      2.9.5\n",
      "pydevd_file_utils           NA\n",
      "pydevd_plugins              NA\n",
      "pydevd_tracing              NA\n",
      "pygam                       0.8.0\n",
      "pygments                    2.16.1\n",
      "pygpcca                     1.0.4\n",
      "pyparsing                   3.1.1\n",
      "python_utils                NA\n",
      "pythonjsonlogger            NA\n",
      "pytz                        2023.3.post1\n",
      "referencing                 NA\n",
      "requests                    2.31.0\n",
      "rfc3339_validator           0.1.4\n",
      "rfc3986_validator           0.1.1\n",
      "rich                        NA\n",
      "rpds                        NA\n",
      "scipy                       1.11.3\n",
      "scvelo                      0.2.5\n",
      "seaborn                     0.13.0\n",
      "send2trash                  NA\n",
      "session_info                1.0.0\n",
      "six                         1.16.0\n",
      "sklearn                     1.3.2\n",
      "slepc4py                    3.19.2\n",
      "sniffio                     1.3.0\n",
      "socks                       1.7.1\n",
      "stack_data                  0.6.2\n",
      "statsmodels                 0.14.0\n",
      "sympy                       1.12\n",
      "texttable                   1.7.0\n",
      "threadpoolctl               3.2.0\n",
      "toolz                       0.12.0\n",
      "torch                       2.0.0\n",
      "tornado                     6.3.3\n",
      "tqdm                        4.66.1\n",
      "traitlets                   5.13.0\n",
      "typing_extensions           NA\n",
      "uri_template                NA\n",
      "urllib3                     2.0.7\n",
      "wcwidth                     0.2.9\n",
      "webcolors                   1.13\n",
      "websocket                   1.6.4\n",
      "wrapt                       1.15.0\n",
      "yaml                        6.0.1\n",
      "zipp                        NA\n",
      "zmq                         25.1.1\n",
      "zoneinfo                    NA\n",
      "-----\n",
      "IPython             8.17.2\n",
      "jupyter_client      8.5.0\n",
      "jupyter_core        5.5.0\n",
      "jupyterlab          4.0.8\n",
      "notebook            7.0.6\n",
      "-----\n",
      "Python 3.11.6 | packaged by conda-forge | (main, Oct  3 2023, 10:40:35) [GCC 12.3.0]\n",
      "Linux-6.5.10-200.fc38.x86_64-x86_64-with-glibc2.37\n",
      "-----\n",
      "Session information updated at 2023-11-14 16:07\n"
     ]
    }
   ],
   "source": [
    "sc.settings.verbosity = 3\n",
    "sc.logging.print_versions()\n",
    "\n",
    "sc.settings.set_figure_params(frameon=False, dpi=100)\n",
    "cr.settings.verbosity = 2"
   ]
  },
  {
   "cell_type": "code",
   "execution_count": 5,
   "metadata": {},
   "outputs": [],
   "source": [
    "import warnings\n",
    "\n",
    "warnings.simplefilter(\"ignore\", category=UserWarning)"
   ]
  },
  {
   "cell_type": "markdown",
   "metadata": {},
   "source": [
    "### Data Upload"
   ]
  },
  {
   "cell_type": "code",
   "execution_count": 6,
   "metadata": {},
   "outputs": [],
   "source": [
    "# upload anndata file\n",
    "input = 'FetalSC_data/Fetal_healthy_stem_cells_CellRank_experimental_time.h5ad'\n",
    "adata = sc.read_h5ad(input)"
   ]
  },
  {
   "cell_type": "markdown",
   "metadata": {},
   "source": [
    "### Initialize an estimator"
   ]
  },
  {
   "cell_type": "code",
   "execution_count": 7,
   "metadata": {},
   "outputs": [],
   "source": [
    "vk = cr.kernels.RealTimeKernel.from_adata(adata, key=\"T_fwd\")"
   ]
  },
  {
   "cell_type": "code",
   "execution_count": 8,
   "metadata": {},
   "outputs": [
    {
     "name": "stdout",
     "output_type": "stream",
     "text": [
      "GPCCA[kernel=RealTimeKernel[n=7817], initial_states=None, terminal_states=None]\n"
     ]
    }
   ],
   "source": [
    "g = cr.estimators.GPCCA(vk)\n",
    "print(g)"
   ]
  },
  {
   "cell_type": "code",
   "execution_count": 9,
   "metadata": {},
   "outputs": [
    {
     "name": "stdout",
     "output_type": "stream",
     "text": [
      "Computing Schur decomposition\n",
      "Adding `adata.uns['eigendecomposition_fwd']`\n",
      "       `.schur_vectors`\n",
      "       `.schur_matrix`\n",
      "       `.eigendecomposition`\n",
      "    Finish (0:00:00)\n",
      "Calculating minChi criterion in interval `[4, 12]`\n",
      "Computing `6` macrostates\n",
      "Adding `.macrostates`\n",
      "       `.macrostates_memberships`\n",
      "       `.coarse_T`\n",
      "       `.coarse_initial_distribution\n",
      "       `.coarse_stationary_distribution`\n",
      "       `.schur_vectors`\n",
      "       `.schur_matrix`\n",
      "       `.eigendecomposition`\n",
      "    Finish (0:00:00)\n"
     ]
    },
    {
     "data": {
      "text/plain": [
       "GPCCA[kernel=RealTimeKernel[n=7817], initial_states=None, terminal_states=None]"
      ]
     },
     "execution_count": 9,
     "metadata": {},
     "output_type": "execute_result"
    }
   ],
   "source": [
    "g.fit(cluster_key=\"cluster\", n_states=[4, 12])"
   ]
  },
  {
   "cell_type": "code",
   "execution_count": 10,
   "metadata": {},
   "outputs": [
    {
     "name": "stdout",
     "output_type": "stream",
     "text": [
      "Adding `adata.obs['term_states_fwd']`\n",
      "       `adata.obs['term_states_fwd_probs']`\n",
      "       `.terminal_states`\n",
      "       `.terminal_states_probabilities`\n",
      "       `.terminal_states_memberships\n",
      "    Finish`\n"
     ]
    },
    {
     "data": {
      "text/plain": [
       "GPCCA[kernel=RealTimeKernel[n=7817], initial_states=None, terminal_states=['ASS1+_SLC40A1+_SC_1', 'ASS1+_SLC40A1+_SC_3', 'RPS10+_RPS17+_SC_2']]"
      ]
     },
     "execution_count": 10,
     "metadata": {},
     "output_type": "execute_result"
    }
   ],
   "source": [
    "g.predict_terminal_states()"
   ]
  },
  {
   "cell_type": "code",
   "execution_count": 11,
   "metadata": {},
   "outputs": [
    {
     "name": "stdout",
     "output_type": "stream",
     "text": [
      "Adding `adata.obs['init_states_fwd']`\n",
      "       `adata.obs['init_states_fwd_probs']`\n",
      "       `.initial_states`\n",
      "       `.initial_states_probabilities`\n",
      "       `.initial_states_memberships\n",
      "    Finish`\n"
     ]
    },
    {
     "data": {
      "text/plain": [
       "GPCCA[kernel=RealTimeKernel[n=7817], initial_states=['ASS1+_SLC40A1+_SC_4'], terminal_states=['ASS1+_SLC40A1+_SC_1', 'ASS1+_SLC40A1+_SC_3', 'RPS10+_RPS17+_SC_2']]"
      ]
     },
     "execution_count": 11,
     "metadata": {},
     "output_type": "execute_result"
    }
   ],
   "source": [
    "g.predict_initial_states(allow_overlap=True)"
   ]
  },
  {
   "cell_type": "code",
   "execution_count": 12,
   "metadata": {},
   "outputs": [
    {
     "data": {
      "text/plain": [
       "GPCCA[kernel=RealTimeKernel[n=7817], initial_states=['ASS1+_SLC40A1+_SC_4'], terminal_states=['ASS1+_SLC40A1+_SC_1', 'ASS1+_SLC40A1+_SC_3', 'RPS10+_RPS17+_SC_2']]"
      ]
     },
     "execution_count": 12,
     "metadata": {},
     "output_type": "execute_result"
    }
   ],
   "source": [
    "#print the estimator\n",
    "g"
   ]
  },
  {
   "cell_type": "markdown",
   "metadata": {},
   "source": [
    "### Compute fate probabilities"
   ]
  },
  {
   "cell_type": "code",
   "execution_count": 13,
   "metadata": {},
   "outputs": [
    {
     "name": "stdout",
     "output_type": "stream",
     "text": [
      "Computing fate probabilities\n"
     ]
    },
    {
     "name": "stderr",
     "output_type": "stream",
     "text": [
      "100%|█████████████████████████████████████████████████████████████████████████████████████████████████████████████████████████████████████████████████████████████████████| 3/3 [00:00<00:00, 35.29/s]"
     ]
    },
    {
     "name": "stdout",
     "output_type": "stream",
     "text": [
      "Adding `adata.obsm['lineages_fwd']`\n",
      "       `.fate_probabilities`\n",
      "    Finish (0:00:00)\n"
     ]
    },
    {
     "name": "stderr",
     "output_type": "stream",
     "text": [
      "\n",
      "[0]PETSC ERROR: ------------------------------------------------------------------------\n",
      "[0]PETSC ERROR: Caught signal number 13 Broken Pipe: Likely while reading or writing to a socket\n",
      "[0]PETSC ERROR: Try option -start_in_debugger or -on_error_attach_debugger\n",
      "[0]PETSC ERROR: or see https://petsc.org/release/faq/#valgrind and https://petsc.org/release/faq/\n",
      "[0]PETSC ERROR: configure using --with-debugging=yes, recompile, link, and run \n",
      "[0]PETSC ERROR: to get more information on the crash.\n",
      "Abort(59) on node 0 (rank 0 in comm 0): application called MPI_Abort(MPI_COMM_WORLD, 59) - process 0\n"
     ]
    }
   ],
   "source": [
    "#Compute terminal states\n",
    "g.compute_fate_probabilities()"
   ]
  },
  {
   "cell_type": "code",
   "execution_count": null,
   "metadata": {},
   "outputs": [],
   "source": [
    "g.plot_fate_probabilities(same_plot=True)"
   ]
  },
  {
   "cell_type": "code",
   "execution_count": 15,
   "metadata": {},
   "outputs": [
    {
     "data": {
      "text/plain": [
       "AnnData object with n_obs × n_vars = 7817 × 19868\n",
       "    obs: 'Sample_ID', 'Cell Type', 'Study_name', 'Donor_ID', 'Diagnosis', 'Age', 'Region code', 'Fraction', 'Sex', 'Library_Preparation_Protocol', 'batch', 'Age_group', 'Location', 'Cell States', 'Cell States GCA', 'Chem', 'Layer', 'Cell States Kong', 'dataset', 'n_genes_by_counts', 'total_counts', 'total_counts_mito', 'pct_counts_mito', 'total_counts_ribo', 'pct_counts_ribo', 'Cell_ID', '_scvi_batch', '_scvi_labels', 'n_genes', 'n_counts', 'leiden', 'cluster', 'Development_Week', 'Development_Day', 'proliferation', 'apoptosis', 'macrostates_fwd', 'term_states_fwd', 'term_states_fwd_probs', 'init_states_fwd', 'init_states_fwd_probs', 'clusters_gradients'\n",
       "    var: 'feature_types-0-0-0', 'gene_name-1-0-0', 'gene_id-0-0', 'GENE-1-0', 'n_counts', 'n_cells'\n",
       "    uns: 'Age_colors', 'Age_group_colors', 'Donor_ID_colors', 'Library_Preparation_Protocol_colors', 'Sample_ID_colors', 'Sex_colors', 'T_fwd_params', '_scvi_manager_uuid', '_scvi_uuid', 'cluster_colors', 'hvg', 'leiden', 'leiden_colors', 'log1p', 'neighbors', 'pca', 'rank_genes_groups', 'umap', 'schur_matrix_fwd', 'eigendecomposition_fwd', 'macrostates_fwd_colors', 'coarse_fwd', 'term_states_fwd_colors', 'init_states_fwd_colors', 'clusters_gradients_colors'\n",
       "    obsm: 'X_pca', 'X_scVI', 'X_umap', '_scvi_extra_categorical_covs', '_scvi_extra_continuous_covs', 'schur_vectors_fwd', 'macrostates_fwd_memberships', 'term_states_fwd_memberships', 'init_states_fwd_memberships', 'lineages_fwd'\n",
       "    varm: 'PCs'\n",
       "    obsp: 'T_fwd', 'connectivities', 'distances'"
      ]
     },
     "execution_count": 15,
     "metadata": {},
     "output_type": "execute_result"
    }
   ],
   "source": [
    "adata"
   ]
  },
  {
   "cell_type": "code",
   "execution_count": 16,
   "metadata": {},
   "outputs": [
    {
     "data": {
      "text/plain": [
       "term_states_fwd\n",
       "ASS1+_SLC40A1+_SC_1    30\n",
       "ASS1+_SLC40A1+_SC_3    30\n",
       "RPS10+_RPS17+_SC_2     30\n",
       "Name: count, dtype: int64"
      ]
     },
     "execution_count": 16,
     "metadata": {},
     "output_type": "execute_result"
    }
   ],
   "source": [
    "adata.obs['term_states_fwd'].value_counts()"
   ]
  },
  {
   "cell_type": "code",
   "execution_count": 20,
   "metadata": {},
   "outputs": [],
   "source": [
    "adata.obs[\"fate_probabilities_ASS1_SLC40A1_1\"] = g.fate_probabilities[\"ASS1+_SLC40A1+_SC_1\"].X.flatten()\n",
    "adata.obs[\"fate_probabilities_ASS1_SLC40A1_3\"] = g.fate_probabilities[\"ASS1+_SLC40A1+_SC_3\"].X.flatten()\n",
    "adata.obs[\"fate_probabilities_RPS10_RPS17_2\"] = g.fate_probabilities[\"RPS10+_RPS17+_SC_2\"].X.flatten()"
   ]
  },
  {
   "cell_type": "code",
   "execution_count": null,
   "metadata": {},
   "outputs": [],
   "source": [
    "sc.pl.embedding(\n",
    "    adata,\n",
    "    basis=\"umap\",\n",
    "    color=[\"fate_probabilities_ASS1_SLC40A1_1\", 'fate_probabilities_ASS1_SLC40A1_3', 'fate_probabilities_RPS10_RPS17_2'],\n",
    "    color_map=\"magma_r\",\n",
    "    s=50,\n",
    "    ncols=3,\n",
    "    vmax=\"p96\",\n",
    ")"
   ]
  },
  {
   "cell_type": "code",
   "execution_count": null,
   "metadata": {},
   "outputs": [],
   "source": [
    "cr.pl.circular_projection(adata, keys=[\"cluster\"], legend_loc=\"right\")"
   ]
  },
  {
   "cell_type": "markdown",
   "metadata": {},
   "source": [
    "# Uncover driver genes"
   ]
  },
  {
   "cell_type": "markdown",
   "metadata": {},
   "source": [
    "### Correlate fate probabilities with gene expression\n",
    "If a gene is systematically higher or lower expressed in cells that are more or less likely to differentiate towards a given terminal states, respectively, then we call this gene a putative driver gene."
   ]
  },
  {
   "cell_type": "markdown",
   "metadata": {},
   "source": [
    "### Stem cells ASS1 SLC40A1_1"
   ]
  },
  {
   "cell_type": "code",
   "execution_count": 25,
   "metadata": {},
   "outputs": [
    {
     "data": {
      "text/plain": [
       "GPCCA[kernel=RealTimeKernel[n=7817], initial_states=['ASS1+_SLC40A1+_SC_4'], terminal_states=['ASS1+_SLC40A1+_SC_1', 'ASS1+_SLC40A1+_SC_3', 'RPS10+_RPS17+_SC_2']]"
      ]
     },
     "execution_count": 25,
     "metadata": {},
     "output_type": "execute_result"
    }
   ],
   "source": [
    "#print the estimator\n",
    "g"
   ]
  },
  {
   "cell_type": "code",
   "execution_count": 26,
   "metadata": {},
   "outputs": [
    {
     "data": {
      "text/plain": [
       "clusters_gradients\n",
       "ASS1+_SLC40A1+_SC_1    7349\n",
       "RPS10+_RPS17+_SC_2      438\n",
       "ASS1+_SLC40A1+_SC_3      30\n",
       "Name: count, dtype: int64"
      ]
     },
     "execution_count": 26,
     "metadata": {},
     "output_type": "execute_result"
    }
   ],
   "source": [
    "adata.obs['clusters_gradients'].value_counts()"
   ]
  },
  {
   "cell_type": "code",
   "execution_count": 29,
   "metadata": {},
   "outputs": [
    {
     "data": {
      "text/plain": [
       "macrostates_fwd\n",
       "ASS1+_SLC40A1+_SC_1    30\n",
       "RPS10+_RPS17+_SC_1     30\n",
       "ASS1+_SLC40A1+_SC_2    30\n",
       "ASS1+_SLC40A1+_SC_3    30\n",
       "ASS1+_SLC40A1+_SC_4    30\n",
       "RPS10+_RPS17+_SC_2     30\n",
       "Name: count, dtype: int64"
      ]
     },
     "execution_count": 29,
     "metadata": {},
     "output_type": "execute_result"
    }
   ],
   "source": [
    "adata.obs['macrostates_fwd'].value_counts()"
   ]
  },
  {
   "cell_type": "code",
   "execution_count": 30,
   "metadata": {},
   "outputs": [
    {
     "name": "stdout",
     "output_type": "stream",
     "text": [
      "Adding `adata.varm['terminal_lineage_drivers']`\n",
      "       `.lineage_drivers`\n",
      "    Finish (0:00:00)\n"
     ]
    },
    {
     "data": {
      "text/html": [
       "<div>\n",
       "<style scoped>\n",
       "    .dataframe tbody tr th:only-of-type {\n",
       "        vertical-align: middle;\n",
       "    }\n",
       "\n",
       "    .dataframe tbody tr th {\n",
       "        vertical-align: top;\n",
       "    }\n",
       "\n",
       "    .dataframe thead th {\n",
       "        text-align: right;\n",
       "    }\n",
       "</style>\n",
       "<table border=\"1\" class=\"dataframe\">\n",
       "  <thead>\n",
       "    <tr style=\"text-align: right;\">\n",
       "      <th></th>\n",
       "      <th>ASS1+_SLC40A1+_SC_1_corr</th>\n",
       "      <th>ASS1+_SLC40A1+_SC_1_pval</th>\n",
       "      <th>ASS1+_SLC40A1+_SC_1_qval</th>\n",
       "      <th>ASS1+_SLC40A1+_SC_1_ci_low</th>\n",
       "      <th>ASS1+_SLC40A1+_SC_1_ci_high</th>\n",
       "    </tr>\n",
       "    <tr>\n",
       "      <th>gene_name</th>\n",
       "      <th></th>\n",
       "      <th></th>\n",
       "      <th></th>\n",
       "      <th></th>\n",
       "      <th></th>\n",
       "    </tr>\n",
       "  </thead>\n",
       "  <tbody>\n",
       "    <tr>\n",
       "      <th>MT-ND5</th>\n",
       "      <td>0.911091</td>\n",
       "      <td>1.969001e-46</td>\n",
       "      <td>2.786727e-42</td>\n",
       "      <td>0.867720</td>\n",
       "      <td>0.940693</td>\n",
       "    </tr>\n",
       "    <tr>\n",
       "      <th>MT-CO2</th>\n",
       "      <td>0.892919</td>\n",
       "      <td>6.425274e-41</td>\n",
       "      <td>3.031230e-37</td>\n",
       "      <td>0.841420</td>\n",
       "      <td>0.928345</td>\n",
       "    </tr>\n",
       "    <tr>\n",
       "      <th>MT-CO1</th>\n",
       "      <td>0.866685</td>\n",
       "      <td>8.157761e-35</td>\n",
       "      <td>1.649383e-31</td>\n",
       "      <td>0.803876</td>\n",
       "      <td>0.910379</td>\n",
       "    </tr>\n",
       "    <tr>\n",
       "      <th>MT-CYB</th>\n",
       "      <td>0.864009</td>\n",
       "      <td>2.781182e-34</td>\n",
       "      <td>4.920259e-31</td>\n",
       "      <td>0.800074</td>\n",
       "      <td>0.908537</td>\n",
       "    </tr>\n",
       "    <tr>\n",
       "      <th>MT-CO3</th>\n",
       "      <td>0.852878</td>\n",
       "      <td>3.296628e-32</td>\n",
       "      <td>3.888098e-29</td>\n",
       "      <td>0.784315</td>\n",
       "      <td>0.900856</td>\n",
       "    </tr>\n",
       "    <tr>\n",
       "      <th>MT-ATP6</th>\n",
       "      <td>0.852676</td>\n",
       "      <td>3.577832e-32</td>\n",
       "      <td>3.895158e-29</td>\n",
       "      <td>0.784031</td>\n",
       "      <td>0.900717</td>\n",
       "    </tr>\n",
       "    <tr>\n",
       "      <th>MT-ND3</th>\n",
       "      <td>0.852416</td>\n",
       "      <td>3.976236e-32</td>\n",
       "      <td>4.019691e-29</td>\n",
       "      <td>0.783664</td>\n",
       "      <td>0.900537</td>\n",
       "    </tr>\n",
       "    <tr>\n",
       "      <th>MT-ND1</th>\n",
       "      <td>0.823539</td>\n",
       "      <td>1.262093e-27</td>\n",
       "      <td>7.442668e-25</td>\n",
       "      <td>0.743198</td>\n",
       "      <td>0.880468</td>\n",
       "    </tr>\n",
       "    <tr>\n",
       "      <th>MT-ND4L</th>\n",
       "      <td>0.769449</td>\n",
       "      <td>2.012378e-21</td>\n",
       "      <td>5.933581e-19</td>\n",
       "      <td>0.668953</td>\n",
       "      <td>0.842320</td>\n",
       "    </tr>\n",
       "    <tr>\n",
       "      <th>MT-ND4</th>\n",
       "      <td>0.724257</td>\n",
       "      <td>1.242327e-17</td>\n",
       "      <td>2.919169e-15</td>\n",
       "      <td>0.608422</td>\n",
       "      <td>0.809877</td>\n",
       "    </tr>\n",
       "  </tbody>\n",
       "</table>\n",
       "</div>"
      ],
      "text/plain": [
       "           ASS1+_SLC40A1+_SC_1_corr  ASS1+_SLC40A1+_SC_1_pval  \\\n",
       "gene_name                                                       \n",
       "MT-ND5                     0.911091              1.969001e-46   \n",
       "MT-CO2                     0.892919              6.425274e-41   \n",
       "MT-CO1                     0.866685              8.157761e-35   \n",
       "MT-CYB                     0.864009              2.781182e-34   \n",
       "MT-CO3                     0.852878              3.296628e-32   \n",
       "MT-ATP6                    0.852676              3.577832e-32   \n",
       "MT-ND3                     0.852416              3.976236e-32   \n",
       "MT-ND1                     0.823539              1.262093e-27   \n",
       "MT-ND4L                    0.769449              2.012378e-21   \n",
       "MT-ND4                     0.724257              1.242327e-17   \n",
       "\n",
       "           ASS1+_SLC40A1+_SC_1_qval  ASS1+_SLC40A1+_SC_1_ci_low  \\\n",
       "gene_name                                                         \n",
       "MT-ND5                 2.786727e-42                    0.867720   \n",
       "MT-CO2                 3.031230e-37                    0.841420   \n",
       "MT-CO1                 1.649383e-31                    0.803876   \n",
       "MT-CYB                 4.920259e-31                    0.800074   \n",
       "MT-CO3                 3.888098e-29                    0.784315   \n",
       "MT-ATP6                3.895158e-29                    0.784031   \n",
       "MT-ND3                 4.019691e-29                    0.783664   \n",
       "MT-ND1                 7.442668e-25                    0.743198   \n",
       "MT-ND4L                5.933581e-19                    0.668953   \n",
       "MT-ND4                 2.919169e-15                    0.608422   \n",
       "\n",
       "           ASS1+_SLC40A1+_SC_1_ci_high  \n",
       "gene_name                               \n",
       "MT-ND5                        0.940693  \n",
       "MT-CO2                        0.928345  \n",
       "MT-CO1                        0.910379  \n",
       "MT-CYB                        0.908537  \n",
       "MT-CO3                        0.900856  \n",
       "MT-ATP6                       0.900717  \n",
       "MT-ND3                        0.900537  \n",
       "MT-ND1                        0.880468  \n",
       "MT-ND4L                       0.842320  \n",
       "MT-ND4                        0.809877  "
      ]
     },
     "execution_count": 30,
     "metadata": {},
     "output_type": "execute_result"
    }
   ],
   "source": [
    "driver_clusters = [\"RPS10+_RPS17+_SC_1\", \"ASS1+_SLC40A1+_SC_2\", 'ASS1+_SLC40A1+_SC_4']\n",
    "\n",
    "ASS1_SLC40A1_1_df = g.compute_lineage_drivers(\n",
    "    lineages=[\"ASS1+_SLC40A1+_SC_1\"], cluster_key=\"macrostates_fwd\", clusters=driver_clusters)\n",
    "\n",
    "ASS1_SLC40A1_1_df.head(10)\n"
   ]
  },
  {
   "cell_type": "code",
   "execution_count": null,
   "metadata": {},
   "outputs": [],
   "source": [
    "sc.pl.embedding(\n",
    "    adata,\n",
    "    basis=\"umap\",\n",
    "    color=[\"fate_probabilities_ASS1_SLC40A1_1\"] + list(ASS1_SLC40A1_1_df.index[:20]),\n",
    "    color_map=\"magma_r\",\n",
    "    s=50,\n",
    "    ncols=5,\n",
    "    vmax=\"p96\",\n",
    ")\n"
   ]
  },
  {
   "cell_type": "markdown",
   "metadata": {},
   "source": [
    "### Stem cells ASS1 SLC40A1_3"
   ]
  },
  {
   "cell_type": "code",
   "execution_count": 36,
   "metadata": {},
   "outputs": [
    {
     "name": "stdout",
     "output_type": "stream",
     "text": [
      "Adding `adata.varm['terminal_lineage_drivers']`\n",
      "       `.lineage_drivers`\n",
      "    Finish (0:00:00)\n"
     ]
    },
    {
     "data": {
      "text/html": [
       "<div>\n",
       "<style scoped>\n",
       "    .dataframe tbody tr th:only-of-type {\n",
       "        vertical-align: middle;\n",
       "    }\n",
       "\n",
       "    .dataframe tbody tr th {\n",
       "        vertical-align: top;\n",
       "    }\n",
       "\n",
       "    .dataframe thead th {\n",
       "        text-align: right;\n",
       "    }\n",
       "</style>\n",
       "<table border=\"1\" class=\"dataframe\">\n",
       "  <thead>\n",
       "    <tr style=\"text-align: right;\">\n",
       "      <th></th>\n",
       "      <th>ASS1+_SLC40A1+_SC_3_corr</th>\n",
       "      <th>ASS1+_SLC40A1+_SC_3_pval</th>\n",
       "      <th>ASS1+_SLC40A1+_SC_3_qval</th>\n",
       "      <th>ASS1+_SLC40A1+_SC_3_ci_low</th>\n",
       "      <th>ASS1+_SLC40A1+_SC_3_ci_high</th>\n",
       "    </tr>\n",
       "    <tr>\n",
       "      <th>gene_name</th>\n",
       "      <th></th>\n",
       "      <th></th>\n",
       "      <th></th>\n",
       "      <th></th>\n",
       "      <th></th>\n",
       "    </tr>\n",
       "  </thead>\n",
       "  <tbody>\n",
       "    <tr>\n",
       "      <th>RAB23</th>\n",
       "      <td>0.860392</td>\n",
       "      <td>1.387597e-33</td>\n",
       "      <td>1.963867e-29</td>\n",
       "      <td>0.794943</td>\n",
       "      <td>0.906044</td>\n",
       "    </tr>\n",
       "    <tr>\n",
       "      <th>SH3BP5L</th>\n",
       "      <td>0.759671</td>\n",
       "      <td>1.619817e-20</td>\n",
       "      <td>1.718801e-17</td>\n",
       "      <td>0.655742</td>\n",
       "      <td>0.835345</td>\n",
       "    </tr>\n",
       "    <tr>\n",
       "      <th>MAP3K5</th>\n",
       "      <td>0.758496</td>\n",
       "      <td>2.064552e-20</td>\n",
       "      <td>1.718801e-17</td>\n",
       "      <td>0.654158</td>\n",
       "      <td>0.834505</td>\n",
       "    </tr>\n",
       "    <tr>\n",
       "      <th>NANOG</th>\n",
       "      <td>0.758496</td>\n",
       "      <td>2.064552e-20</td>\n",
       "      <td>1.718801e-17</td>\n",
       "      <td>0.654158</td>\n",
       "      <td>0.834505</td>\n",
       "    </tr>\n",
       "    <tr>\n",
       "      <th>TPBG</th>\n",
       "      <td>0.758496</td>\n",
       "      <td>2.064552e-20</td>\n",
       "      <td>1.718801e-17</td>\n",
       "      <td>0.654158</td>\n",
       "      <td>0.834505</td>\n",
       "    </tr>\n",
       "    <tr>\n",
       "      <th>KCNS3</th>\n",
       "      <td>0.758496</td>\n",
       "      <td>2.064552e-20</td>\n",
       "      <td>1.718801e-17</td>\n",
       "      <td>0.654158</td>\n",
       "      <td>0.834505</td>\n",
       "    </tr>\n",
       "    <tr>\n",
       "      <th>SNHG22</th>\n",
       "      <td>0.758496</td>\n",
       "      <td>2.064552e-20</td>\n",
       "      <td>1.718801e-17</td>\n",
       "      <td>0.654158</td>\n",
       "      <td>0.834505</td>\n",
       "    </tr>\n",
       "    <tr>\n",
       "      <th>C16orf86</th>\n",
       "      <td>0.758496</td>\n",
       "      <td>2.064552e-20</td>\n",
       "      <td>1.718801e-17</td>\n",
       "      <td>0.654158</td>\n",
       "      <td>0.834505</td>\n",
       "    </tr>\n",
       "    <tr>\n",
       "      <th>RNF166</th>\n",
       "      <td>0.758496</td>\n",
       "      <td>2.064552e-20</td>\n",
       "      <td>1.718801e-17</td>\n",
       "      <td>0.654158</td>\n",
       "      <td>0.834505</td>\n",
       "    </tr>\n",
       "    <tr>\n",
       "      <th>AL355922.2</th>\n",
       "      <td>0.758496</td>\n",
       "      <td>2.064552e-20</td>\n",
       "      <td>1.718801e-17</td>\n",
       "      <td>0.654158</td>\n",
       "      <td>0.834505</td>\n",
       "    </tr>\n",
       "  </tbody>\n",
       "</table>\n",
       "</div>"
      ],
      "text/plain": [
       "            ASS1+_SLC40A1+_SC_3_corr  ASS1+_SLC40A1+_SC_3_pval  \\\n",
       "gene_name                                                        \n",
       "RAB23                       0.860392              1.387597e-33   \n",
       "SH3BP5L                     0.759671              1.619817e-20   \n",
       "MAP3K5                      0.758496              2.064552e-20   \n",
       "NANOG                       0.758496              2.064552e-20   \n",
       "TPBG                        0.758496              2.064552e-20   \n",
       "KCNS3                       0.758496              2.064552e-20   \n",
       "SNHG22                      0.758496              2.064552e-20   \n",
       "C16orf86                    0.758496              2.064552e-20   \n",
       "RNF166                      0.758496              2.064552e-20   \n",
       "AL355922.2                  0.758496              2.064552e-20   \n",
       "\n",
       "            ASS1+_SLC40A1+_SC_3_qval  ASS1+_SLC40A1+_SC_3_ci_low  \\\n",
       "gene_name                                                          \n",
       "RAB23                   1.963867e-29                    0.794943   \n",
       "SH3BP5L                 1.718801e-17                    0.655742   \n",
       "MAP3K5                  1.718801e-17                    0.654158   \n",
       "NANOG                   1.718801e-17                    0.654158   \n",
       "TPBG                    1.718801e-17                    0.654158   \n",
       "KCNS3                   1.718801e-17                    0.654158   \n",
       "SNHG22                  1.718801e-17                    0.654158   \n",
       "C16orf86                1.718801e-17                    0.654158   \n",
       "RNF166                  1.718801e-17                    0.654158   \n",
       "AL355922.2              1.718801e-17                    0.654158   \n",
       "\n",
       "            ASS1+_SLC40A1+_SC_3_ci_high  \n",
       "gene_name                                \n",
       "RAB23                          0.906044  \n",
       "SH3BP5L                        0.835345  \n",
       "MAP3K5                         0.834505  \n",
       "NANOG                          0.834505  \n",
       "TPBG                           0.834505  \n",
       "KCNS3                          0.834505  \n",
       "SNHG22                         0.834505  \n",
       "C16orf86                       0.834505  \n",
       "RNF166                         0.834505  \n",
       "AL355922.2                     0.834505  "
      ]
     },
     "execution_count": 36,
     "metadata": {},
     "output_type": "execute_result"
    }
   ],
   "source": [
    "driver_clusters = [\"RPS10+_RPS17+_SC_1\", \"ASS1+_SLC40A1+_SC_2\", 'ASS1+_SLC40A1+_SC_4']\n",
    "\n",
    "ASS1_SLC40A1_3_df = g.compute_lineage_drivers(\n",
    "    lineages=[\"ASS1+_SLC40A1+_SC_3\"], cluster_key=\"macrostates_fwd\", clusters=driver_clusters)\n",
    "\n",
    "ASS1_SLC40A1_3_df.head(10)\n"
   ]
  },
  {
   "cell_type": "code",
   "execution_count": null,
   "metadata": {},
   "outputs": [],
   "source": [
    "sc.pl.embedding(\n",
    "    adata,\n",
    "    basis=\"umap\",\n",
    "    color=[\"fate_probabilities_ASS1_SLC40A1_3\"] + list(ASS1_SLC40A1_3_df.index[:20]),\n",
    "    color_map=\"magma_r\",\n",
    "    s=50,\n",
    "    ncols=5,\n",
    "    vmax=\"p96\",\n",
    ")"
   ]
  },
  {
   "cell_type": "markdown",
   "metadata": {},
   "source": [
    "### Stem cells RPS10 RPS17_2"
   ]
  },
  {
   "cell_type": "code",
   "execution_count": 39,
   "metadata": {},
   "outputs": [
    {
     "name": "stdout",
     "output_type": "stream",
     "text": [
      "Adding `adata.varm['terminal_lineage_drivers']`\n",
      "       `.lineage_drivers`\n",
      "    Finish (0:00:00)\n"
     ]
    },
    {
     "data": {
      "text/html": [
       "<div>\n",
       "<style scoped>\n",
       "    .dataframe tbody tr th:only-of-type {\n",
       "        vertical-align: middle;\n",
       "    }\n",
       "\n",
       "    .dataframe tbody tr th {\n",
       "        vertical-align: top;\n",
       "    }\n",
       "\n",
       "    .dataframe thead th {\n",
       "        text-align: right;\n",
       "    }\n",
       "</style>\n",
       "<table border=\"1\" class=\"dataframe\">\n",
       "  <thead>\n",
       "    <tr style=\"text-align: right;\">\n",
       "      <th></th>\n",
       "      <th>RPS10+_RPS17+_SC_2_corr</th>\n",
       "      <th>RPS10+_RPS17+_SC_2_pval</th>\n",
       "      <th>RPS10+_RPS17+_SC_2_qval</th>\n",
       "      <th>RPS10+_RPS17+_SC_2_ci_low</th>\n",
       "      <th>RPS10+_RPS17+_SC_2_ci_high</th>\n",
       "    </tr>\n",
       "    <tr>\n",
       "      <th>gene_name</th>\n",
       "      <th></th>\n",
       "      <th></th>\n",
       "      <th></th>\n",
       "      <th></th>\n",
       "      <th></th>\n",
       "    </tr>\n",
       "  </thead>\n",
       "  <tbody>\n",
       "    <tr>\n",
       "      <th>RPS6</th>\n",
       "      <td>0.906815</td>\n",
       "      <td>5.198548e-45</td>\n",
       "      <td>3.678753e-41</td>\n",
       "      <td>0.861510</td>\n",
       "      <td>0.937795</td>\n",
       "    </tr>\n",
       "    <tr>\n",
       "      <th>RPLP1</th>\n",
       "      <td>0.888282</td>\n",
       "      <td>1.051759e-39</td>\n",
       "      <td>3.721388e-36</td>\n",
       "      <td>0.834747</td>\n",
       "      <td>0.925181</td>\n",
       "    </tr>\n",
       "    <tr>\n",
       "      <th>RPS24</th>\n",
       "      <td>0.887407</td>\n",
       "      <td>1.752253e-39</td>\n",
       "      <td>4.263013e-36</td>\n",
       "      <td>0.833490</td>\n",
       "      <td>0.924584</td>\n",
       "    </tr>\n",
       "    <tr>\n",
       "      <th>RPL10</th>\n",
       "      <td>0.887354</td>\n",
       "      <td>1.807255e-39</td>\n",
       "      <td>4.263013e-36</td>\n",
       "      <td>0.833413</td>\n",
       "      <td>0.924547</td>\n",
       "    </tr>\n",
       "    <tr>\n",
       "      <th>RPS27A</th>\n",
       "      <td>0.859903</td>\n",
       "      <td>1.717139e-33</td>\n",
       "      <td>2.700297e-30</td>\n",
       "      <td>0.794250</td>\n",
       "      <td>0.905707</td>\n",
       "    </tr>\n",
       "    <tr>\n",
       "      <th>RPL10A</th>\n",
       "      <td>0.858495</td>\n",
       "      <td>3.152881e-33</td>\n",
       "      <td>4.462273e-30</td>\n",
       "      <td>0.792257</td>\n",
       "      <td>0.904736</td>\n",
       "    </tr>\n",
       "    <tr>\n",
       "      <th>RPS3A</th>\n",
       "      <td>0.857942</td>\n",
       "      <td>3.994759e-33</td>\n",
       "      <td>5.139802e-30</td>\n",
       "      <td>0.791474</td>\n",
       "      <td>0.904354</td>\n",
       "    </tr>\n",
       "    <tr>\n",
       "      <th>RPS13</th>\n",
       "      <td>0.847495</td>\n",
       "      <td>2.798851e-31</td>\n",
       "      <td>2.640809e-28</td>\n",
       "      <td>0.776726</td>\n",
       "      <td>0.897132</td>\n",
       "    </tr>\n",
       "    <tr>\n",
       "      <th>RPS14</th>\n",
       "      <td>0.845366</td>\n",
       "      <td>6.343070e-31</td>\n",
       "      <td>5.610842e-28</td>\n",
       "      <td>0.773730</td>\n",
       "      <td>0.895657</td>\n",
       "    </tr>\n",
       "    <tr>\n",
       "      <th>RPS8</th>\n",
       "      <td>0.836484</td>\n",
       "      <td>1.646682e-29</td>\n",
       "      <td>1.370911e-26</td>\n",
       "      <td>0.761265</td>\n",
       "      <td>0.889490</td>\n",
       "    </tr>\n",
       "  </tbody>\n",
       "</table>\n",
       "</div>"
      ],
      "text/plain": [
       "           RPS10+_RPS17+_SC_2_corr  RPS10+_RPS17+_SC_2_pval  \\\n",
       "gene_name                                                     \n",
       "RPS6                      0.906815             5.198548e-45   \n",
       "RPLP1                     0.888282             1.051759e-39   \n",
       "RPS24                     0.887407             1.752253e-39   \n",
       "RPL10                     0.887354             1.807255e-39   \n",
       "RPS27A                    0.859903             1.717139e-33   \n",
       "RPL10A                    0.858495             3.152881e-33   \n",
       "RPS3A                     0.857942             3.994759e-33   \n",
       "RPS13                     0.847495             2.798851e-31   \n",
       "RPS14                     0.845366             6.343070e-31   \n",
       "RPS8                      0.836484             1.646682e-29   \n",
       "\n",
       "           RPS10+_RPS17+_SC_2_qval  RPS10+_RPS17+_SC_2_ci_low  \\\n",
       "gene_name                                                       \n",
       "RPS6                  3.678753e-41                   0.861510   \n",
       "RPLP1                 3.721388e-36                   0.834747   \n",
       "RPS24                 4.263013e-36                   0.833490   \n",
       "RPL10                 4.263013e-36                   0.833413   \n",
       "RPS27A                2.700297e-30                   0.794250   \n",
       "RPL10A                4.462273e-30                   0.792257   \n",
       "RPS3A                 5.139802e-30                   0.791474   \n",
       "RPS13                 2.640809e-28                   0.776726   \n",
       "RPS14                 5.610842e-28                   0.773730   \n",
       "RPS8                  1.370911e-26                   0.761265   \n",
       "\n",
       "           RPS10+_RPS17+_SC_2_ci_high  \n",
       "gene_name                              \n",
       "RPS6                         0.937795  \n",
       "RPLP1                        0.925181  \n",
       "RPS24                        0.924584  \n",
       "RPL10                        0.924547  \n",
       "RPS27A                       0.905707  \n",
       "RPL10A                       0.904736  \n",
       "RPS3A                        0.904354  \n",
       "RPS13                        0.897132  \n",
       "RPS14                        0.895657  \n",
       "RPS8                         0.889490  "
      ]
     },
     "execution_count": 39,
     "metadata": {},
     "output_type": "execute_result"
    }
   ],
   "source": [
    "driver_clusters = [\"RPS10+_RPS17+_SC_1\", \"ASS1+_SLC40A1+_SC_2\", 'ASS1+_SLC40A1+_SC_4']\n",
    "\n",
    "RPS10_RPS17_2_df = g.compute_lineage_drivers(\n",
    "    lineages=[\"RPS10+_RPS17+_SC_2\"], cluster_key=\"macrostates_fwd\", clusters=driver_clusters)\n",
    "\n",
    "RPS10_RPS17_2_df.head(10)"
   ]
  },
  {
   "cell_type": "code",
   "execution_count": null,
   "metadata": {},
   "outputs": [],
   "source": [
    "sc.pl.embedding(\n",
    "    adata,\n",
    "    basis=\"umap\",\n",
    "    color=[\"fate_probabilities_RPS10_RPS17_2\"] + list(RPS10_RPS17_2_df.index[:20]),\n",
    "    color_map=\"magma_r\",\n",
    "    s=50,\n",
    "    ncols=5,\n",
    "    vmax=\"p96\",\n",
    ")\n"
   ]
  },
  {
   "cell_type": "code",
   "execution_count": 41,
   "metadata": {},
   "outputs": [
    {
     "data": {
      "text/plain": [
       "AnnData object with n_obs × n_vars = 7817 × 19868\n",
       "    obs: 'Sample_ID', 'Cell Type', 'Study_name', 'Donor_ID', 'Diagnosis', 'Age', 'Region code', 'Fraction', 'Sex', 'Library_Preparation_Protocol', 'batch', 'Age_group', 'Location', 'Cell States', 'Cell States GCA', 'Chem', 'Layer', 'Cell States Kong', 'dataset', 'n_genes_by_counts', 'total_counts', 'total_counts_mito', 'pct_counts_mito', 'total_counts_ribo', 'pct_counts_ribo', 'Cell_ID', '_scvi_batch', '_scvi_labels', 'n_genes', 'n_counts', 'leiden', 'cluster', 'Development_Week', 'Development_Day', 'proliferation', 'apoptosis', 'macrostates_fwd', 'term_states_fwd', 'term_states_fwd_probs', 'init_states_fwd', 'init_states_fwd_probs', 'clusters_gradients', 'fate_probabilities_ASS1_SLC40A1_1', 'fate_probabilities_ASS1_SLC40A1_3', 'fate_probabilities_RPS10+_RPS17+_2', 'fate_probabilities_RPS10_RPS17_2'\n",
       "    var: 'feature_types-0-0-0', 'gene_name-1-0-0', 'gene_id-0-0', 'GENE-1-0', 'n_counts', 'n_cells'\n",
       "    uns: 'Age_colors', 'Age_group_colors', 'Donor_ID_colors', 'Library_Preparation_Protocol_colors', 'Sample_ID_colors', 'Sex_colors', 'T_fwd_params', '_scvi_manager_uuid', '_scvi_uuid', 'cluster_colors', 'hvg', 'leiden', 'leiden_colors', 'log1p', 'neighbors', 'pca', 'rank_genes_groups', 'umap', 'schur_matrix_fwd', 'eigendecomposition_fwd', 'macrostates_fwd_colors', 'coarse_fwd', 'term_states_fwd_colors', 'init_states_fwd_colors', 'clusters_gradients_colors'\n",
       "    obsm: 'X_pca', 'X_scVI', 'X_umap', '_scvi_extra_categorical_covs', '_scvi_extra_continuous_covs', 'schur_vectors_fwd', 'macrostates_fwd_memberships', 'term_states_fwd_memberships', 'init_states_fwd_memberships', 'lineages_fwd', 'X_fate_simplex_fwd'\n",
       "    varm: 'PCs', 'terminal_lineage_drivers'\n",
       "    obsp: 'T_fwd', 'connectivities', 'distances'"
      ]
     },
     "execution_count": 41,
     "metadata": {},
     "output_type": "execute_result"
    }
   ],
   "source": [
    "adata"
   ]
  },
  {
   "cell_type": "code",
   "execution_count": null,
   "metadata": {},
   "outputs": [],
   "source": [
    "# Save adata\n",
    "output = 'FetalSC_data/Fetal_healthy_stem_cells_CellRank_experimental_time.h5ad'\n",
    "adata.write(output)"
   ]
  }
 ],
 "metadata": {
  "kernelspec": {
   "display_name": "Python (CellRank)",
   "language": "python",
   "name": "cellrank"
  },
  "language_info": {
   "codemirror_mode": {
    "name": "ipython",
    "version": 3
   },
   "file_extension": ".py",
   "mimetype": "text/x-python",
   "name": "python",
   "nbconvert_exporter": "python",
   "pygments_lexer": "ipython3",
   "version": "3.11.6"
  }
 },
 "nbformat": 4,
 "nbformat_minor": 2
}
