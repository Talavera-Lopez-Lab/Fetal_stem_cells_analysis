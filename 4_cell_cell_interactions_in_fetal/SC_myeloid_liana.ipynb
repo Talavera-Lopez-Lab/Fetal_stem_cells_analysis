{
 "cells": [
  {
   "cell_type": "markdown",
   "metadata": {},
   "source": [
    "# Notebook for the cell-cell interaction research of fetal stem cells with myeloid cells using liana package\n",
    "- **Developed by:** Anna Maguza\n",
    "- **Place:** Wuerzburg Institute for System Immunology\n",
    "- **Date:** 20th November 2023"
   ]
  },
  {
   "cell_type": "markdown",
   "metadata": {},
   "source": [
    "### Import required modules"
   ]
  },
  {
   "cell_type": "code",
   "execution_count": null,
   "metadata": {},
   "outputs": [],
   "source": [
    "import scanpy as sc\n",
    "import numpy as np\n",
    "import pandas as pd\n",
    "import matplotlib.pyplot as plt\n",
    "import seaborn as sns\n",
    "import liana as li\n",
    "import anndata as ad"
   ]
  },
  {
   "cell_type": "markdown",
   "metadata": {},
   "source": [
    "### Set up working environment"
   ]
  },
  {
   "cell_type": "code",
   "execution_count": null,
   "metadata": {},
   "outputs": [],
   "source": [
    "%matplotlib inline"
   ]
  },
  {
   "cell_type": "code",
   "execution_count": null,
   "metadata": {},
   "outputs": [],
   "source": [
    "sc.settings.verbosity = 3\n",
    "sc.logging.print_versions()\n",
    "sc.settings.set_figure_params(dpi = 180, color_map = 'magma_r', dpi_save = 300, vector_friendly = True, format = 'svg')"
   ]
  },
  {
   "cell_type": "code",
   "execution_count": null,
   "metadata": {},
   "outputs": [],
   "source": [
    "def X_is_raw(adata):\n",
    "    return np.array_equal(adata.X.sum(axis=0).astype(int), adata.X.sum(axis=0))"
   ]
  },
  {
   "cell_type": "markdown",
   "metadata": {},
   "source": [
    "### Data Upload"
   ]
  },
  {
   "cell_type": "code",
   "execution_count": null,
   "metadata": {},
   "outputs": [],
   "source": [
    "input_path = 'FetalSC_data/FetalSC_and_other_fetal_cells/FetalSC_and_myeloid_cells_raw.h5ad'\n",
    "adata = sc.read_h5ad(input_path)"
   ]
  },
  {
   "cell_type": "code",
   "execution_count": null,
   "metadata": {},
   "outputs": [],
   "source": [
    "# Extract the raw counts\n",
    "adata = adata.raw.to_adata()\n",
    "adata"
   ]
  },
  {
   "cell_type": "code",
   "execution_count": null,
   "metadata": {},
   "outputs": [],
   "source": [
    "X_is_raw(adata)"
   ]
  },
  {
   "cell_type": "code",
   "execution_count": null,
   "metadata": {},
   "outputs": [],
   "source": [
    "# Save raw counts in raw\n",
    "adata.raw = adata"
   ]
  },
  {
   "cell_type": "markdown",
   "metadata": {},
   "source": [
    "### Preprocess data"
   ]
  },
  {
   "cell_type": "code",
   "execution_count": null,
   "metadata": {},
   "outputs": [],
   "source": [
    "sc.pp.normalize_total(adata, target_sum = 1e6, exclude_highly_expressed = True)\n",
    "sc.pp.log1p(adata)"
   ]
  },
  {
   "cell_type": "markdown",
   "metadata": {},
   "source": [
    "### Liana Run"
   ]
  },
  {
   "cell_type": "code",
   "execution_count": null,
   "metadata": {},
   "outputs": [],
   "source": [
    "# import all individual methods\n",
    "import liana \n",
    "from liana.method import singlecellsignalr, connectome, cellphonedb, natmi, logfc, cellchat, geometric_mean"
   ]
  },
  {
   "cell_type": "code",
   "execution_count": null,
   "metadata": {},
   "outputs": [],
   "source": [
    "# Run rank_aggregate\n",
    "li.mt.rank_aggregate(adata, groupby='Cell States', expr_prop=0, verbose=True)"
   ]
  },
  {
   "cell_type": "code",
   "execution_count": null,
   "metadata": {},
   "outputs": [],
   "source": [
    "adata.uns['liana_res'].head()"
   ]
  },
  {
   "cell_type": "code",
   "execution_count": null,
   "metadata": {},
   "outputs": [],
   "source": [
    "#Write anndata object to file\n",
    "adata.write('FetalSC_data/FetalSC_and_other_fetal_cells/FetalSC_and_myeloid_liana_aggregated.h5ad')"
   ]
  },
  {
   "cell_type": "code",
   "execution_count": null,
   "metadata": {},
   "outputs": [],
   "source": [
    "adata.obs['Cell States'].value_counts()"
   ]
  },
  {
   "cell_type": "code",
   "execution_count": null,
   "metadata": {},
   "outputs": [],
   "source": [
    "# Extract all values from neuronal.obs['Cell States'] into list\n",
    "cell_states = []\n",
    "for i in adata.obs['Cell States']:\n",
    "    cell_states.append(i)\n",
    "\n",
    "\n",
    "# Conver cell_states to a list\n",
    "cell_states = list(cell_states)\n",
    "\n",
    "# Delete 'MMP9+ Inflammatory macrophage' from cell_states\n",
    "cell_states.remove('MMP9+ Inflammatory macrophage')\n",
    "cell_states.remove('MMP9+ Inflammatory macrophage')\n",
    "cell_states.remove('MMP9+ Inflammatory macrophage')\n",
    "cell_states.remove('MMP9+ Inflammatory macrophage')"
   ]
  },
  {
   "cell_type": "markdown",
   "metadata": {},
   "source": [
    "#### Stem cells are sources\n"
   ]
  },
  {
   "cell_type": "markdown",
   "metadata": {},
   "source": [
    "+ FXYD3+_CKB+_SC"
   ]
  },
  {
   "cell_type": "code",
   "execution_count": null,
   "metadata": {},
   "outputs": [],
   "source": [
    "li.pl.dotplot(adata = adata,\n",
    "              colour='magnitude_rank',\n",
    "              size='specificity_rank',\n",
    "              inverse_size=True,\n",
    "              inverse_colour=True,\n",
    "              source_labels=['FXYD3+_CKB+_SC'],\n",
    "              target_labels=cell_states,\n",
    "              top_n=10,\n",
    "              orderby='magnitude_rank',\n",
    "              orderby_ascending=True,\n",
    "              figure_size=(8, 7)\n",
    "             )"
   ]
  },
  {
   "cell_type": "markdown",
   "metadata": {},
   "source": [
    "+ MTRNR2L12+ASS1+_SC"
   ]
  },
  {
   "cell_type": "code",
   "execution_count": null,
   "metadata": {},
   "outputs": [],
   "source": [
    "li.pl.dotplot(adata = adata,\n",
    "              colour='magnitude_rank',\n",
    "              size='specificity_rank',\n",
    "              inverse_size=True,\n",
    "              inverse_colour=True,\n",
    "              source_labels=['MTRNR2L12+ASS1+_SC'],\n",
    "              target_labels=cell_states,\n",
    "              top_n=10,\n",
    "              orderby='magnitude_rank',\n",
    "              orderby_ascending=True,\n",
    "              figure_size=(8, 7)\n",
    "             )"
   ]
  },
  {
   "cell_type": "markdown",
   "metadata": {},
   "source": [
    "+ RPS10+_RPS17+_SC"
   ]
  },
  {
   "cell_type": "code",
   "execution_count": null,
   "metadata": {},
   "outputs": [],
   "source": [
    "li.pl.dotplot(adata = adata,\n",
    "              colour='magnitude_rank',\n",
    "              size='specificity_rank',\n",
    "              inverse_size=True,\n",
    "              inverse_colour=True,\n",
    "              source_labels=['RPS10+_RPS17+_SC'],\n",
    "              target_labels=cell_states,\n",
    "              top_n=10,\n",
    "              orderby='magnitude_rank',\n",
    "              orderby_ascending=True,\n",
    "              figure_size=(8, 7)\n",
    "             )"
   ]
  },
  {
   "cell_type": "markdown",
   "metadata": {},
   "source": [
    "#### Stem cells are targets\n"
   ]
  },
  {
   "cell_type": "markdown",
   "metadata": {},
   "source": [
    "+ Stem cells and macrophages"
   ]
  },
  {
   "cell_type": "code",
   "execution_count": null,
   "metadata": {},
   "outputs": [],
   "source": [
    "li.pl.dotplot(adata = adata,\n",
    "              colour='magnitude_rank',\n",
    "              size='specificity_rank',\n",
    "              inverse_size=True,\n",
    "              inverse_colour=True,\n",
    "              source_labels=['Macrophages', 'LYVE1+ Macrophage'],\n",
    "              target_labels=['RPS10+_RPS17+_SC', 'MTRNR2L12+ASS1+_SC', 'FXYD3+_CKB+_SC'],\n",
    "              top_n=20,\n",
    "              orderby='magnitude_rank',\n",
    "              orderby_ascending=True,\n",
    "              figure_size=(15, 10)\n",
    "             )"
   ]
  },
  {
   "cell_type": "markdown",
   "metadata": {},
   "source": [
    "+ Stem cells and dendritic cells"
   ]
  },
  {
   "cell_type": "code",
   "execution_count": null,
   "metadata": {},
   "outputs": [],
   "source": [
    "li.pl.dotplot(adata = adata,\n",
    "              colour='magnitude_rank',\n",
    "              size='specificity_rank',\n",
    "              inverse_size=True,\n",
    "              inverse_colour=True,\n",
    "              source_labels=['cDC1', 'cDC2', 'Lymphoid DC', 'pDC'],\n",
    "              target_labels=['RPS10+_RPS17+_SC', 'MTRNR2L12+ASS1+_SC', 'FXYD3+_CKB+_SC'],\n",
    "              top_n=20,\n",
    "              orderby='magnitude_rank',\n",
    "              orderby_ascending=True,\n",
    "              figure_size=(15, 10)\n",
    "             )"
   ]
  },
  {
   "cell_type": "markdown",
   "metadata": {},
   "source": [
    "+ Stem cells and monocytes"
   ]
  },
  {
   "cell_type": "code",
   "execution_count": null,
   "metadata": {},
   "outputs": [],
   "source": [
    "li.pl.dotplot(adata = adata,\n",
    "              colour='magnitude_rank',\n",
    "              size='specificity_rank',\n",
    "              inverse_size=True,\n",
    "              inverse_colour=True,\n",
    "              source_labels=['Monocytes', 'MPO+ mono-neutrophil'],\n",
    "              target_labels=['RPS10+_RPS17+_SC', 'MTRNR2L12+ASS1+_SC', 'FXYD3+_CKB+_SC'],\n",
    "              top_n=20,\n",
    "              orderby='magnitude_rank',\n",
    "              orderby_ascending=True,\n",
    "              figure_size=(10, 10)\n",
    "             )"
   ]
  },
  {
   "cell_type": "markdown",
   "metadata": {},
   "source": [
    "+ Stem cells and Mast cells"
   ]
  },
  {
   "cell_type": "code",
   "execution_count": null,
   "metadata": {},
   "outputs": [],
   "source": [
    "li.pl.dotplot(adata = adata,\n",
    "              colour='magnitude_rank',\n",
    "              size='specificity_rank',\n",
    "              inverse_size=True,\n",
    "              inverse_colour=True,\n",
    "              source_labels=['Mast cell', 'CLC+ Mast cell'],\n",
    "              target_labels=['RPS10+_RPS17+_SC', 'MTRNR2L12+ASS1+_SC', 'FXYD3+_CKB+_SC'],\n",
    "              top_n=20,\n",
    "              orderby='magnitude_rank',\n",
    "              orderby_ascending=True,\n",
    "              figure_size=(10, 10)\n",
    "             )"
   ]
  },
  {
   "cell_type": "markdown",
   "metadata": {},
   "source": [
    "+ Stem cells and Megakaryocytes"
   ]
  },
  {
   "cell_type": "code",
   "execution_count": null,
   "metadata": {},
   "outputs": [],
   "source": [
    "li.pl.dotplot(adata = adata,\n",
    "              colour='magnitude_rank',\n",
    "              size='specificity_rank',\n",
    "              inverse_size=True,\n",
    "              inverse_colour=True,\n",
    "              source_labels=['Megakaryocyte'],\n",
    "              target_labels=['RPS10+_RPS17+_SC', 'MTRNR2L12+ASS1+_SC', 'FXYD3+_CKB+_SC'],\n",
    "              top_n=20,\n",
    "              orderby='magnitude_rank',\n",
    "              orderby_ascending=True,\n",
    "              figure_size=(5, 10)\n",
    "             )"
   ]
  }
 ],
 "metadata": {
  "kernelspec": {
   "display_name": "Python (liana_env)",
   "language": "python",
   "name": "liana_env"
  },
  "language_info": {
   "codemirror_mode": {
    "name": "ipython",
    "version": 3
   },
   "file_extension": ".py",
   "mimetype": "text/x-python",
   "name": "python",
   "nbconvert_exporter": "python",
   "pygments_lexer": "ipython3",
   "version": "3.9.18"
  }
 },
 "nbformat": 4,
 "nbformat_minor": 2
}
