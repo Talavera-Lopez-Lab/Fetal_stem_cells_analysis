{
 "cells": [
  {
   "cell_type": "markdown",
   "metadata": {},
   "source": [
    "### Notebook for the hashtags demultiplexing of Fetal Gut data from Fawkner-Corbett study\n",
    "- **Developed by:** Anna Maguza\n",
    "- **Place:** Wuerzburg Institute for System Immunology\n",
    "- **Date:** 12th March 2024"
   ]
  },
  {
   "cell_type": "markdown",
   "metadata": {},
   "source": [
    "### Import packages"
   ]
  },
  {
   "cell_type": "code",
   "execution_count": 55,
   "metadata": {},
   "outputs": [],
   "source": [
    "import scanpy as sc\n",
    "import pandas as pd\n",
    "import numpy as np\n",
    "import matplotlib.pyplot as plt\n",
    "import os\n",
    "import anndata\n",
    "\n",
    "from scipy import sparse"
   ]
  },
  {
   "cell_type": "markdown",
   "metadata": {},
   "source": [
    "### Set up the cells"
   ]
  },
  {
   "cell_type": "code",
   "execution_count": 56,
   "metadata": {},
   "outputs": [],
   "source": [
    "%matplotlib inline"
   ]
  },
  {
   "cell_type": "code",
   "execution_count": 57,
   "metadata": {},
   "outputs": [
    {
     "name": "stdout",
     "output_type": "stream",
     "text": [
      "-----\n",
      "anndata     0.9.2\n",
      "scanpy      1.9.5\n",
      "-----\n",
      "PIL                         10.0.1\n",
      "anyio                       NA\n",
      "arrow                       1.3.0\n",
      "asttokens                   NA\n",
      "attr                        23.1.0\n",
      "attrs                       23.1.0\n",
      "babel                       2.13.0\n",
      "backcall                    0.2.0\n",
      "certifi                     2023.07.22\n",
      "cffi                        1.16.0\n",
      "charset_normalizer          3.3.0\n",
      "colorama                    0.4.6\n",
      "comm                        0.1.4\n",
      "cycler                      0.10.0\n",
      "cython_runtime              NA\n",
      "dateutil                    2.8.2\n",
      "debugpy                     1.8.0\n",
      "decorator                   5.1.1\n",
      "defusedxml                  0.7.1\n",
      "executing                   2.0.0\n",
      "fastjsonschema              NA\n",
      "fqdn                        NA\n",
      "h5py                        3.9.0\n",
      "idna                        3.4\n",
      "igraph                      0.11.2\n",
      "ipykernel                   6.25.2\n",
      "ipywidgets                  8.1.1\n",
      "isoduration                 NA\n",
      "jedi                        0.19.1\n",
      "jinja2                      3.1.2\n",
      "joblib                      1.3.2\n",
      "json5                       NA\n",
      "jsonpointer                 2.4\n",
      "jsonschema                  4.19.1\n",
      "jsonschema_specifications   NA\n",
      "jupyter_events              0.7.0\n",
      "jupyter_server              2.7.3\n",
      "jupyterlab_server           2.25.0\n",
      "kiwisolver                  1.4.5\n",
      "leidenalg                   0.10.1\n",
      "llvmlite                    0.40.1\n",
      "markupsafe                  2.1.3\n",
      "matplotlib                  3.8.0\n",
      "matplotlib_inline           0.1.6\n",
      "mpl_toolkits                NA\n",
      "natsort                     8.4.0\n",
      "nbformat                    5.9.2\n",
      "numba                       0.57.1\n",
      "numpy                       1.24.4\n",
      "overrides                   NA\n",
      "packaging                   23.2\n",
      "pandas                      2.1.1\n",
      "parso                       0.8.3\n",
      "pexpect                     4.8.0\n",
      "pickleshare                 0.7.5\n",
      "platformdirs                3.11.0\n",
      "prometheus_client           NA\n",
      "prompt_toolkit              3.0.39\n",
      "psutil                      5.9.5\n",
      "ptyprocess                  0.7.0\n",
      "pure_eval                   0.2.2\n",
      "pydev_ipython               NA\n",
      "pydevconsole                NA\n",
      "pydevd                      2.9.5\n",
      "pydevd_file_utils           NA\n",
      "pydevd_plugins              NA\n",
      "pydevd_tracing              NA\n",
      "pygments                    2.16.1\n",
      "pyparsing                   3.1.1\n",
      "pythonjsonlogger            NA\n",
      "pytz                        2023.3.post1\n",
      "referencing                 NA\n",
      "requests                    2.31.0\n",
      "rfc3339_validator           0.1.4\n",
      "rfc3986_validator           0.1.1\n",
      "rpds                        NA\n",
      "scipy                       1.11.3\n",
      "send2trash                  NA\n",
      "session_info                1.0.0\n",
      "six                         1.16.0\n",
      "sklearn                     1.3.1\n",
      "sniffio                     1.3.0\n",
      "stack_data                  0.6.3\n",
      "texttable                   1.7.0\n",
      "threadpoolctl               3.2.0\n",
      "tornado                     6.3.3\n",
      "traitlets                   5.11.2\n",
      "typing_extensions           NA\n",
      "uri_template                NA\n",
      "urllib3                     2.0.6\n",
      "vscode                      NA\n",
      "wcwidth                     0.2.8\n",
      "webcolors                   1.13\n",
      "websocket                   1.6.4\n",
      "yaml                        6.0.1\n",
      "zmq                         25.1.1\n",
      "zoneinfo                    NA\n",
      "zope                        NA\n",
      "-----\n",
      "IPython             8.16.1\n",
      "jupyter_client      8.3.1\n",
      "jupyter_core        5.3.2\n",
      "jupyterlab          4.0.6\n",
      "notebook            7.0.4\n",
      "-----\n",
      "Python 3.11.5 | packaged by conda-forge | (main, Aug 27 2023, 03:34:09) [GCC 12.3.0]\n",
      "Linux-6.6.14-100.fc38.x86_64-x86_64-with-glibc2.37\n",
      "-----\n",
      "Session information updated at 2024-03-12 17:09\n"
     ]
    }
   ],
   "source": [
    "sc.settings.verbosity = 3\n",
    "sc.logging.print_versions()\n",
    "sc.settings.set_figure_params(dpi = 180, color_map = 'magma_r', dpi_save = 300, vector_friendly = True, format = 'svg')"
   ]
  },
  {
   "cell_type": "code",
   "execution_count": 58,
   "metadata": {},
   "outputs": [],
   "source": [
    "def X_is_raw(adata):\n",
    "    return np.array_equal(adata.X.sum(axis=0).astype(int), adata.X.sum(axis=0))"
   ]
  },
  {
   "cell_type": "markdown",
   "metadata": {},
   "source": [
    "+ Unzip data"
   ]
  },
  {
   "cell_type": "code",
   "execution_count": null,
   "metadata": {},
   "outputs": [],
   "source": [
    "import os\n",
    "import tarfile\n",
    "\n",
    "def unzip_tar_gz_files(folder_path):\n",
    "    # Iterate over all files in the folder\n",
    "    for file_name in os.listdir(folder_path):\n",
    "        # Check if the file is a .tar.gz file\n",
    "        if file_name.endswith('.tar.gz'):\n",
    "            # Construct the path to the file\n",
    "            file_path = os.path.join(folder_path, file_name)\n",
    "            # Remove the .tar.gz extension to get the directory name\n",
    "            dir_name = file_name[:-7]\n",
    "            # Construct the path for the new directory\n",
    "            dir_path = os.path.join(folder_path, dir_name)\n",
    "            # Create the directory\n",
    "            if not os.path.exists(dir_path):\n",
    "                os.makedirs(dir_path)\n",
    "            # Open the .tar.gz file\n",
    "            with tarfile.open(file_path, 'r:gz') as tar:\n",
    "                # Extract its contents into the directory\n",
    "                tar.extractall(path=dir_path)\n",
    "            print(f'Extracted {file_name} into {dir_path}')"
   ]
  },
  {
   "cell_type": "code",
   "execution_count": null,
   "metadata": {},
   "outputs": [],
   "source": [
    "folder_path = '/mnt/LaCIE/annaM/gut_project/raw_data/Fawkner-Corbett_2021/scRNA_seq_data/GSE158702_RAW_2' \n",
    "unzip_tar_gz_files(folder_path)"
   ]
  },
  {
   "cell_type": "code",
   "execution_count": null,
   "metadata": {},
   "outputs": [],
   "source": [
    "import gzip\n",
    "import shutil"
   ]
  },
  {
   "cell_type": "code",
   "execution_count": null,
   "metadata": {},
   "outputs": [],
   "source": [
    "def unzip_and_delete(file_path):\n",
    "    \"\"\"Unzip a .gz file and then delete the original .gz file.\"\"\"\n",
    "    with gzip.open(file_path, 'rb') as f_in:\n",
    "        with open(file_path[:-3], 'wb') as f_out:\n",
    "            shutil.copyfileobj(f_in, f_out)\n",
    "    os.remove(file_path)"
   ]
  },
  {
   "cell_type": "code",
   "execution_count": null,
   "metadata": {},
   "outputs": [],
   "source": [
    "def process_folders(list_file_path, base_path):\n",
    "    \"\"\"Process each folder listed in the provided file, given a base path.\"\"\"\n",
    "    with open(list_file_path, 'r') as file:\n",
    "        for line in file:\n",
    "            relative_folder_path = line.strip()\n",
    "            # Construct the full folder path\n",
    "            full_folder_path = os.path.join(base_path, relative_folder_path)\n",
    "            \n",
    "            # Navigate two levels deep, assuming there's only one folder at each level\n",
    "            try:\n",
    "                first_level = os.listdir(full_folder_path)[0]\n",
    "                second_level_path = os.path.join(full_folder_path, first_level)\n",
    "                if os.path.isdir(second_level_path):\n",
    "                    second_level = os.listdir(second_level_path)[0]\n",
    "                    final_folder_path = os.path.join(second_level_path, second_level)\n",
    "                    \n",
    "                    # Check and unzip files if they exist\n",
    "                    for file_name in ['barcodes.tsv.gz', 'features.tsv.gz', 'matrix.mtx.gz']:\n",
    "                        file_path = os.path.join(final_folder_path, file_name)\n",
    "                        if os.path.exists(file_path):\n",
    "                            unzip_and_delete(file_path)\n",
    "                            print(f\"Unzipped and deleted {file_path}\")\n",
    "                        else:\n",
    "                            print(f\"File {file_name} not found in {final_folder_path}\")\n",
    "            except Exception as e:\n",
    "                print(f\"Error processing {full_folder_path}: {e}\")"
   ]
  },
  {
   "cell_type": "code",
   "execution_count": null,
   "metadata": {},
   "outputs": [],
   "source": [
    "# Base path where the folders from files_1.txt are located\n",
    "base_path = '/mnt/LaCIE/annaM/gut_project/raw_data/Fawkner-Corbett_2021/scRNA_seq_data/GSE158702_RAW_2'\n",
    "\n",
    "# Path to the file containing the list of folders\n",
    "list_file_path = '/mnt/LaCIE/annaM/gut_project/raw_data/Fawkner-Corbett_2021/scRNA_seq_data/GSE158702_RAW_2/files_1.txt'\n",
    "\n",
    "# Process the folders\n",
    "process_folders(list_file_path, base_path)"
   ]
  },
  {
   "cell_type": "markdown",
   "metadata": {},
   "source": [
    "### Process HTO data"
   ]
  },
  {
   "cell_type": "markdown",
   "metadata": {},
   "source": [
    "+ Samples GSM4808349_HTO1"
   ]
  },
  {
   "cell_type": "code",
   "execution_count": 59,
   "metadata": {},
   "outputs": [],
   "source": [
    "barcodes = pd.read_csv('/mnt/LaCIE/annaM/gut_project/raw_data/Fawkner-Corbett_2021/scRNA_seq_data/GSE158702_RAW_2/GSM4808349_HTO1/HTO1/umi_count/barcodes.tsv', sep='\\t', header=None)\n",
    "features = pd.read_csv('/mnt/LaCIE/annaM/gut_project/raw_data/Fawkner-Corbett_2021/scRNA_seq_data/GSE158702_RAW_2/GSM4808349_HTO1/HTO1/umi_count/features.tsv', sep='\\t', header=None)\n",
    "matrix = sc.read_mtx('/mnt/LaCIE/annaM/gut_project/raw_data/Fawkner-Corbett_2021/scRNA_seq_data/GSE158702_RAW_2/GSM4808349_HTO1/HTO1/umi_count/matrix.mtx')"
   ]
  },
  {
   "cell_type": "markdown",
   "metadata": {},
   "source": [
    "Matrix has one extra row filled with zeros, it is easier to delete it from ready anndata object than from matrix. Therefore, we need to modify features firstly, so we could create anndata object. We are adding last row to features with value 'extra'"
   ]
  },
  {
   "cell_type": "code",
   "execution_count": 60,
   "metadata": {},
   "outputs": [],
   "source": [
    "features.loc[9] = ['extra']"
   ]
  },
  {
   "cell_type": "markdown",
   "metadata": {},
   "source": [
    "+ create anndata object"
   ]
  },
  {
   "cell_type": "code",
   "execution_count": 61,
   "metadata": {},
   "outputs": [
    {
     "name": "stderr",
     "output_type": "stream",
     "text": [
      "/home/amaguza/miniforge3/envs/scanpy_env/lib/python3.11/site-packages/anndata/_core/anndata.py:121: ImplicitModificationWarning: Transforming to str index.\n",
      "  warnings.warn(\"Transforming to str index.\", ImplicitModificationWarning)\n",
      "/home/amaguza/miniforge3/envs/scanpy_env/lib/python3.11/site-packages/anndata/_core/anndata.py:121: ImplicitModificationWarning: Transforming to str index.\n",
      "  warnings.warn(\"Transforming to str index.\", ImplicitModificationWarning)\n"
     ]
    }
   ],
   "source": [
    "adata49 = sc.AnnData(X=np.transpose(matrix.X), obs=barcodes, var=features)"
   ]
  },
  {
   "cell_type": "markdown",
   "metadata": {},
   "source": [
    "+ Delete extra row from matrix"
   ]
  },
  {
   "cell_type": "code",
   "execution_count": 62,
   "metadata": {},
   "outputs": [],
   "source": [
    "# Calculate the total counts for each gene (var)\n",
    "total_counts = np.array(adata49.X.sum(axis=0)).flatten()\n",
    "\n",
    "# Add these total counts to adata.var\n",
    "adata49.var['total_counts'] = total_counts"
   ]
  },
  {
   "cell_type": "code",
   "execution_count": 63,
   "metadata": {},
   "outputs": [
    {
     "name": "stderr",
     "output_type": "stream",
     "text": [
      "/home/amaguza/miniforge3/envs/scanpy_env/lib/python3.11/site-packages/anndata/_core/anndata.py:1113: FutureWarning: is_categorical_dtype is deprecated and will be removed in a future version. Use isinstance(dtype, CategoricalDtype) instead\n",
      "  if not is_categorical_dtype(df_full[k]):\n"
     ]
    }
   ],
   "source": [
    "# if adata.var['total_counts'] is equal zero then remove the row\n",
    "adata49 = adata49[:, adata49.var['total_counts'] > 0]"
   ]
  },
  {
   "cell_type": "code",
   "execution_count": 64,
   "metadata": {},
   "outputs": [],
   "source": [
    "adata49.obs.index = adata49.obs[0]\n",
    "\n",
    "adata49.obs.index.name = 'barcodes'"
   ]
  },
  {
   "cell_type": "markdown",
   "metadata": {},
   "source": [
    "+ Calculate HTO expression to find the sample with scanpy"
   ]
  },
  {
   "cell_type": "code",
   "execution_count": 71,
   "metadata": {},
   "outputs": [],
   "source": [
    "adata49.var[['HTO_tag', 'HTO_sequence']] = adata49.var[0].str.split('-', expand=True)\n",
    "\n",
    "adata49.var.index = adata49.var['HTO_tag']\n",
    "\n",
    "adata49.var['Tag_type'] = 'TotalSeq-tag'"
   ]
  },
  {
   "cell_type": "code",
   "execution_count": 72,
   "metadata": {},
   "outputs": [
    {
     "data": {
      "text/html": [
       "<div>\n",
       "<style scoped>\n",
       "    .dataframe tbody tr th:only-of-type {\n",
       "        vertical-align: middle;\n",
       "    }\n",
       "\n",
       "    .dataframe tbody tr th {\n",
       "        vertical-align: top;\n",
       "    }\n",
       "\n",
       "    .dataframe thead th {\n",
       "        text-align: right;\n",
       "    }\n",
       "</style>\n",
       "<table border=\"1\" class=\"dataframe\">\n",
       "  <thead>\n",
       "    <tr style=\"text-align: right;\">\n",
       "      <th></th>\n",
       "      <th>0</th>\n",
       "      <th>total_counts</th>\n",
       "      <th>HTO_tag</th>\n",
       "      <th>HTO_sequence</th>\n",
       "      <th>Tag_type</th>\n",
       "    </tr>\n",
       "    <tr>\n",
       "      <th>HTO_tag</th>\n",
       "      <th></th>\n",
       "      <th></th>\n",
       "      <th></th>\n",
       "      <th></th>\n",
       "      <th></th>\n",
       "    </tr>\n",
       "  </thead>\n",
       "  <tbody>\n",
       "    <tr>\n",
       "      <th>HTO1</th>\n",
       "      <td>HTO1-GTCAACTCTTTAGCG</td>\n",
       "      <td>10393083.0</td>\n",
       "      <td>HTO1</td>\n",
       "      <td>GTCAACTCTTTAGCG</td>\n",
       "      <td>TotalSeq-tag</td>\n",
       "    </tr>\n",
       "    <tr>\n",
       "      <th>HTO2</th>\n",
       "      <td>HTO2-TGATGGCCTATTGGG</td>\n",
       "      <td>37856464.0</td>\n",
       "      <td>HTO2</td>\n",
       "      <td>TGATGGCCTATTGGG</td>\n",
       "      <td>TotalSeq-tag</td>\n",
       "    </tr>\n",
       "    <tr>\n",
       "      <th>HTO3</th>\n",
       "      <td>HTO3-TTCCGCCTCTCTTTG</td>\n",
       "      <td>3438823.0</td>\n",
       "      <td>HTO3</td>\n",
       "      <td>TTCCGCCTCTCTTTG</td>\n",
       "      <td>TotalSeq-tag</td>\n",
       "    </tr>\n",
       "    <tr>\n",
       "      <th>HTO4</th>\n",
       "      <td>HTO4-AGTAAGTTCAGCGTA</td>\n",
       "      <td>4704272.0</td>\n",
       "      <td>HTO4</td>\n",
       "      <td>AGTAAGTTCAGCGTA</td>\n",
       "      <td>TotalSeq-tag</td>\n",
       "    </tr>\n",
       "    <tr>\n",
       "      <th>HTO5</th>\n",
       "      <td>HTO5-AAGTATCGTTTCGCA</td>\n",
       "      <td>1726293.0</td>\n",
       "      <td>HTO5</td>\n",
       "      <td>AAGTATCGTTTCGCA</td>\n",
       "      <td>TotalSeq-tag</td>\n",
       "    </tr>\n",
       "    <tr>\n",
       "      <th>HTO6</th>\n",
       "      <td>HTO6-GGTTGCCAGATGTCA</td>\n",
       "      <td>7342014.0</td>\n",
       "      <td>HTO6</td>\n",
       "      <td>GGTTGCCAGATGTCA</td>\n",
       "      <td>TotalSeq-tag</td>\n",
       "    </tr>\n",
       "    <tr>\n",
       "      <th>HTO7</th>\n",
       "      <td>HTO7-TGTCTTTCCTGCCAG</td>\n",
       "      <td>2151070.0</td>\n",
       "      <td>HTO7</td>\n",
       "      <td>TGTCTTTCCTGCCAG</td>\n",
       "      <td>TotalSeq-tag</td>\n",
       "    </tr>\n",
       "    <tr>\n",
       "      <th>HTO8</th>\n",
       "      <td>HTO8-CTCCTCTGCAATTAC</td>\n",
       "      <td>4702289.0</td>\n",
       "      <td>HTO8</td>\n",
       "      <td>CTCCTCTGCAATTAC</td>\n",
       "      <td>TotalSeq-tag</td>\n",
       "    </tr>\n",
       "    <tr>\n",
       "      <th>HTO9</th>\n",
       "      <td>HTO9-CAGTAGTCACGGTCA</td>\n",
       "      <td>702110.0</td>\n",
       "      <td>HTO9</td>\n",
       "      <td>CAGTAGTCACGGTCA</td>\n",
       "      <td>TotalSeq-tag</td>\n",
       "    </tr>\n",
       "  </tbody>\n",
       "</table>\n",
       "</div>"
      ],
      "text/plain": [
       "                            0  total_counts HTO_tag     HTO_sequence  \\\n",
       "HTO_tag                                                                \n",
       "HTO1     HTO1-GTCAACTCTTTAGCG    10393083.0    HTO1  GTCAACTCTTTAGCG   \n",
       "HTO2     HTO2-TGATGGCCTATTGGG    37856464.0    HTO2  TGATGGCCTATTGGG   \n",
       "HTO3     HTO3-TTCCGCCTCTCTTTG     3438823.0    HTO3  TTCCGCCTCTCTTTG   \n",
       "HTO4     HTO4-AGTAAGTTCAGCGTA     4704272.0    HTO4  AGTAAGTTCAGCGTA   \n",
       "HTO5     HTO5-AAGTATCGTTTCGCA     1726293.0    HTO5  AAGTATCGTTTCGCA   \n",
       "HTO6     HTO6-GGTTGCCAGATGTCA     7342014.0    HTO6  GGTTGCCAGATGTCA   \n",
       "HTO7     HTO7-TGTCTTTCCTGCCAG     2151070.0    HTO7  TGTCTTTCCTGCCAG   \n",
       "HTO8     HTO8-CTCCTCTGCAATTAC     4702289.0    HTO8  CTCCTCTGCAATTAC   \n",
       "HTO9     HTO9-CAGTAGTCACGGTCA      702110.0    HTO9  CAGTAGTCACGGTCA   \n",
       "\n",
       "             Tag_type  \n",
       "HTO_tag                \n",
       "HTO1     TotalSeq-tag  \n",
       "HTO2     TotalSeq-tag  \n",
       "HTO3     TotalSeq-tag  \n",
       "HTO4     TotalSeq-tag  \n",
       "HTO5     TotalSeq-tag  \n",
       "HTO6     TotalSeq-tag  \n",
       "HTO7     TotalSeq-tag  \n",
       "HTO8     TotalSeq-tag  \n",
       "HTO9     TotalSeq-tag  "
      ]
     },
     "execution_count": 72,
     "metadata": {},
     "output_type": "execute_result"
    }
   ],
   "source": [
    "adata49.var"
   ]
  },
  {
   "cell_type": "code",
   "execution_count": null,
   "metadata": {},
   "outputs": [],
   "source": [
    "adata49.var.index.values"
   ]
  },
  {
   "cell_type": "code",
   "execution_count": 73,
   "metadata": {},
   "outputs": [],
   "source": [
    "# Extracting gene names, assuming they are stored in adata.var_names\n",
    "HTO_id = adata49.var_names\n",
    "\n",
    "# Calculating counts for each gene in each cell\n",
    "# The operation depends on whether the data is stored as a dense matrix or a sparse matrix.\n",
    "if sparse.issparse(adata49.X):\n",
    "    gene_counts = pd.DataFrame(adata49.X.toarray(), index=adata49.obs_names, columns=HTO_id)\n",
    "else:\n",
    "    gene_counts = pd.DataFrame(adata49.X, index=adata49.obs_names, columns=HTO_id)\n",
    "\n",
    "# Because you have only 9 genes, you can add each gene's counts as a separate column in adata.obs directly\n",
    "for HTO in HTO_id:\n",
    "    adata49.obs[HTO] = gene_counts[HTO]"
   ]
  },
  {
   "cell_type": "code",
   "execution_count": 74,
   "metadata": {},
   "outputs": [
    {
     "name": "stdout",
     "output_type": "stream",
     "text": [
      "Please cite HashSolo paper:\n",
      "https://www.cell.com/cell-systems/fulltext/S2405-4712(20)30195-2\n"
     ]
    }
   ],
   "source": [
    "cell_hashing_columns=adata49.var.index.values\n",
    "sc.external.pp.hashsolo(adata49, cell_hashing_columns)"
   ]
  },
  {
   "cell_type": "code",
   "execution_count": 77,
   "metadata": {},
   "outputs": [
    {
     "data": {
      "text/html": [
       "<div>\n",
       "<style scoped>\n",
       "    .dataframe tbody tr th:only-of-type {\n",
       "        vertical-align: middle;\n",
       "    }\n",
       "\n",
       "    .dataframe tbody tr th {\n",
       "        vertical-align: top;\n",
       "    }\n",
       "\n",
       "    .dataframe thead th {\n",
       "        text-align: right;\n",
       "    }\n",
       "</style>\n",
       "<table border=\"1\" class=\"dataframe\">\n",
       "  <thead>\n",
       "    <tr style=\"text-align: right;\">\n",
       "      <th></th>\n",
       "      <th>0</th>\n",
       "      <th>HTO1</th>\n",
       "      <th>HTO2</th>\n",
       "      <th>HTO3</th>\n",
       "      <th>HTO4</th>\n",
       "      <th>HTO5</th>\n",
       "      <th>HTO6</th>\n",
       "      <th>HTO7</th>\n",
       "      <th>HTO8</th>\n",
       "      <th>HTO9</th>\n",
       "      <th>most_likely_hypothesis</th>\n",
       "      <th>cluster_feature</th>\n",
       "      <th>negative_hypothesis_probability</th>\n",
       "      <th>singlet_hypothesis_probability</th>\n",
       "      <th>doublet_hypothesis_probability</th>\n",
       "      <th>Classification</th>\n",
       "      <th>Digestion_Condition</th>\n",
       "      <th>GEO_Accession</th>\n",
       "    </tr>\n",
       "    <tr>\n",
       "      <th>barcodes</th>\n",
       "      <th></th>\n",
       "      <th></th>\n",
       "      <th></th>\n",
       "      <th></th>\n",
       "      <th></th>\n",
       "      <th></th>\n",
       "      <th></th>\n",
       "      <th></th>\n",
       "      <th></th>\n",
       "      <th></th>\n",
       "      <th></th>\n",
       "      <th></th>\n",
       "      <th></th>\n",
       "      <th></th>\n",
       "      <th></th>\n",
       "      <th></th>\n",
       "      <th></th>\n",
       "      <th></th>\n",
       "    </tr>\n",
       "  </thead>\n",
       "  <tbody>\n",
       "    <tr>\n",
       "      <th>ACAACCAGTCTACAGT</th>\n",
       "      <td>ACAACCAGTCTACAGT</td>\n",
       "      <td>149.0</td>\n",
       "      <td>592.0</td>\n",
       "      <td>30.0</td>\n",
       "      <td>65.0</td>\n",
       "      <td>14.0</td>\n",
       "      <td>36.0</td>\n",
       "      <td>717.0</td>\n",
       "      <td>45.0</td>\n",
       "      <td>4.0</td>\n",
       "      <td>2.0</td>\n",
       "      <td>0.0</td>\n",
       "      <td>6.567185e-28</td>\n",
       "      <td>8.331745e-13</td>\n",
       "      <td>1.000000</td>\n",
       "      <td>Doublet</td>\n",
       "      <td>EPCAM+</td>\n",
       "      <td>GSM4808349</td>\n",
       "    </tr>\n",
       "    <tr>\n",
       "      <th>GAAGCCCAGTAGATCA</th>\n",
       "      <td>GAAGCCCAGTAGATCA</td>\n",
       "      <td>1.0</td>\n",
       "      <td>4.0</td>\n",
       "      <td>0.0</td>\n",
       "      <td>0.0</td>\n",
       "      <td>1.0</td>\n",
       "      <td>0.0</td>\n",
       "      <td>0.0</td>\n",
       "      <td>0.0</td>\n",
       "      <td>0.0</td>\n",
       "      <td>1.0</td>\n",
       "      <td>0.0</td>\n",
       "      <td>2.143123e-02</td>\n",
       "      <td>8.266012e-01</td>\n",
       "      <td>0.151968</td>\n",
       "      <td>HTO2</td>\n",
       "      <td>EPCAM+</td>\n",
       "      <td>GSM4808349</td>\n",
       "    </tr>\n",
       "    <tr>\n",
       "      <th>AGAACCTAGGTAAAGG</th>\n",
       "      <td>AGAACCTAGGTAAAGG</td>\n",
       "      <td>0.0</td>\n",
       "      <td>3.0</td>\n",
       "      <td>0.0</td>\n",
       "      <td>1.0</td>\n",
       "      <td>0.0</td>\n",
       "      <td>1.0</td>\n",
       "      <td>0.0</td>\n",
       "      <td>0.0</td>\n",
       "      <td>0.0</td>\n",
       "      <td>1.0</td>\n",
       "      <td>0.0</td>\n",
       "      <td>2.124669e-02</td>\n",
       "      <td>8.700887e-01</td>\n",
       "      <td>0.108665</td>\n",
       "      <td>HTO2</td>\n",
       "      <td>EPCAM+</td>\n",
       "      <td>GSM4808349</td>\n",
       "    </tr>\n",
       "    <tr>\n",
       "      <th>AAAGGGCGTAGAGCTG</th>\n",
       "      <td>AAAGGGCGTAGAGCTG</td>\n",
       "      <td>0.0</td>\n",
       "      <td>6.0</td>\n",
       "      <td>0.0</td>\n",
       "      <td>0.0</td>\n",
       "      <td>0.0</td>\n",
       "      <td>1.0</td>\n",
       "      <td>0.0</td>\n",
       "      <td>1.0</td>\n",
       "      <td>0.0</td>\n",
       "      <td>1.0</td>\n",
       "      <td>0.0</td>\n",
       "      <td>1.580356e-02</td>\n",
       "      <td>8.390249e-01</td>\n",
       "      <td>0.145172</td>\n",
       "      <td>HTO2</td>\n",
       "      <td>EPCAM+</td>\n",
       "      <td>GSM4808349</td>\n",
       "    </tr>\n",
       "    <tr>\n",
       "      <th>AGCTTCCTCGAGTACT</th>\n",
       "      <td>AGCTTCCTCGAGTACT</td>\n",
       "      <td>145.0</td>\n",
       "      <td>494.0</td>\n",
       "      <td>17.0</td>\n",
       "      <td>35.0</td>\n",
       "      <td>11.0</td>\n",
       "      <td>41.0</td>\n",
       "      <td>19.0</td>\n",
       "      <td>55.0</td>\n",
       "      <td>9.0</td>\n",
       "      <td>1.0</td>\n",
       "      <td>0.0</td>\n",
       "      <td>9.162083e-05</td>\n",
       "      <td>8.721335e-01</td>\n",
       "      <td>0.127775</td>\n",
       "      <td>HTO2</td>\n",
       "      <td>EPCAM+</td>\n",
       "      <td>GSM4808349</td>\n",
       "    </tr>\n",
       "    <tr>\n",
       "      <th>...</th>\n",
       "      <td>...</td>\n",
       "      <td>...</td>\n",
       "      <td>...</td>\n",
       "      <td>...</td>\n",
       "      <td>...</td>\n",
       "      <td>...</td>\n",
       "      <td>...</td>\n",
       "      <td>...</td>\n",
       "      <td>...</td>\n",
       "      <td>...</td>\n",
       "      <td>...</td>\n",
       "      <td>...</td>\n",
       "      <td>...</td>\n",
       "      <td>...</td>\n",
       "      <td>...</td>\n",
       "      <td>...</td>\n",
       "      <td>...</td>\n",
       "      <td>...</td>\n",
       "    </tr>\n",
       "    <tr>\n",
       "      <th>GGAGGTCAGTGGTGAC</th>\n",
       "      <td>GGAGGTCAGTGGTGAC</td>\n",
       "      <td>0.0</td>\n",
       "      <td>0.0</td>\n",
       "      <td>0.0</td>\n",
       "      <td>0.0</td>\n",
       "      <td>0.0</td>\n",
       "      <td>0.0</td>\n",
       "      <td>0.0</td>\n",
       "      <td>18.0</td>\n",
       "      <td>0.0</td>\n",
       "      <td>1.0</td>\n",
       "      <td>0.0</td>\n",
       "      <td>1.199879e-03</td>\n",
       "      <td>9.324116e-01</td>\n",
       "      <td>0.066389</td>\n",
       "      <td>HTO8</td>\n",
       "      <td>EPCAM+</td>\n",
       "      <td>GSM4808349</td>\n",
       "    </tr>\n",
       "    <tr>\n",
       "      <th>GACAGCCAGCGGATCA</th>\n",
       "      <td>GACAGCCAGCGGATCA</td>\n",
       "      <td>0.0</td>\n",
       "      <td>4.0</td>\n",
       "      <td>0.0</td>\n",
       "      <td>0.0</td>\n",
       "      <td>0.0</td>\n",
       "      <td>1.0</td>\n",
       "      <td>0.0</td>\n",
       "      <td>0.0</td>\n",
       "      <td>0.0</td>\n",
       "      <td>1.0</td>\n",
       "      <td>0.0</td>\n",
       "      <td>1.949644e-02</td>\n",
       "      <td>8.716446e-01</td>\n",
       "      <td>0.108859</td>\n",
       "      <td>HTO2</td>\n",
       "      <td>EPCAM+</td>\n",
       "      <td>GSM4808349</td>\n",
       "    </tr>\n",
       "    <tr>\n",
       "      <th>GTATTGGAGGGTTAAT</th>\n",
       "      <td>GTATTGGAGGGTTAAT</td>\n",
       "      <td>0.0</td>\n",
       "      <td>3.0</td>\n",
       "      <td>0.0</td>\n",
       "      <td>0.0</td>\n",
       "      <td>0.0</td>\n",
       "      <td>0.0</td>\n",
       "      <td>0.0</td>\n",
       "      <td>0.0</td>\n",
       "      <td>0.0</td>\n",
       "      <td>1.0</td>\n",
       "      <td>0.0</td>\n",
       "      <td>3.104728e-02</td>\n",
       "      <td>9.045481e-01</td>\n",
       "      <td>0.064405</td>\n",
       "      <td>HTO2</td>\n",
       "      <td>EPCAM+</td>\n",
       "      <td>GSM4808349</td>\n",
       "    </tr>\n",
       "    <tr>\n",
       "      <th>GTAGGAGTCTTGGTCC</th>\n",
       "      <td>GTAGGAGTCTTGGTCC</td>\n",
       "      <td>136.0</td>\n",
       "      <td>577.0</td>\n",
       "      <td>32.0</td>\n",
       "      <td>53.0</td>\n",
       "      <td>26.0</td>\n",
       "      <td>42.0</td>\n",
       "      <td>16.0</td>\n",
       "      <td>46.0</td>\n",
       "      <td>7.0</td>\n",
       "      <td>1.0</td>\n",
       "      <td>0.0</td>\n",
       "      <td>7.015921e-05</td>\n",
       "      <td>8.649408e-01</td>\n",
       "      <td>0.134989</td>\n",
       "      <td>HTO2</td>\n",
       "      <td>EPCAM+</td>\n",
       "      <td>GSM4808349</td>\n",
       "    </tr>\n",
       "    <tr>\n",
       "      <th>GGAGGATCATCACCAA</th>\n",
       "      <td>GGAGGATCATCACCAA</td>\n",
       "      <td>2.0</td>\n",
       "      <td>4.0</td>\n",
       "      <td>0.0</td>\n",
       "      <td>2.0</td>\n",
       "      <td>0.0</td>\n",
       "      <td>1.0</td>\n",
       "      <td>1.0</td>\n",
       "      <td>0.0</td>\n",
       "      <td>0.0</td>\n",
       "      <td>1.0</td>\n",
       "      <td>0.0</td>\n",
       "      <td>1.889874e-02</td>\n",
       "      <td>8.573312e-01</td>\n",
       "      <td>0.123770</td>\n",
       "      <td>HTO2</td>\n",
       "      <td>EPCAM+</td>\n",
       "      <td>GSM4808349</td>\n",
       "    </tr>\n",
       "  </tbody>\n",
       "</table>\n",
       "<p>199844 rows × 18 columns</p>\n",
       "</div>"
      ],
      "text/plain": [
       "                                 0   HTO1   HTO2  HTO3  HTO4  HTO5  HTO6  \\\n",
       "barcodes                                                                   \n",
       "ACAACCAGTCTACAGT  ACAACCAGTCTACAGT  149.0  592.0  30.0  65.0  14.0  36.0   \n",
       "GAAGCCCAGTAGATCA  GAAGCCCAGTAGATCA    1.0    4.0   0.0   0.0   1.0   0.0   \n",
       "AGAACCTAGGTAAAGG  AGAACCTAGGTAAAGG    0.0    3.0   0.0   1.0   0.0   1.0   \n",
       "AAAGGGCGTAGAGCTG  AAAGGGCGTAGAGCTG    0.0    6.0   0.0   0.0   0.0   1.0   \n",
       "AGCTTCCTCGAGTACT  AGCTTCCTCGAGTACT  145.0  494.0  17.0  35.0  11.0  41.0   \n",
       "...                            ...    ...    ...   ...   ...   ...   ...   \n",
       "GGAGGTCAGTGGTGAC  GGAGGTCAGTGGTGAC    0.0    0.0   0.0   0.0   0.0   0.0   \n",
       "GACAGCCAGCGGATCA  GACAGCCAGCGGATCA    0.0    4.0   0.0   0.0   0.0   1.0   \n",
       "GTATTGGAGGGTTAAT  GTATTGGAGGGTTAAT    0.0    3.0   0.0   0.0   0.0   0.0   \n",
       "GTAGGAGTCTTGGTCC  GTAGGAGTCTTGGTCC  136.0  577.0  32.0  53.0  26.0  42.0   \n",
       "GGAGGATCATCACCAA  GGAGGATCATCACCAA    2.0    4.0   0.0   2.0   0.0   1.0   \n",
       "\n",
       "                   HTO7  HTO8  HTO9  most_likely_hypothesis  cluster_feature  \\\n",
       "barcodes                                                                       \n",
       "ACAACCAGTCTACAGT  717.0  45.0   4.0                     2.0              0.0   \n",
       "GAAGCCCAGTAGATCA    0.0   0.0   0.0                     1.0              0.0   \n",
       "AGAACCTAGGTAAAGG    0.0   0.0   0.0                     1.0              0.0   \n",
       "AAAGGGCGTAGAGCTG    0.0   1.0   0.0                     1.0              0.0   \n",
       "AGCTTCCTCGAGTACT   19.0  55.0   9.0                     1.0              0.0   \n",
       "...                 ...   ...   ...                     ...              ...   \n",
       "GGAGGTCAGTGGTGAC    0.0  18.0   0.0                     1.0              0.0   \n",
       "GACAGCCAGCGGATCA    0.0   0.0   0.0                     1.0              0.0   \n",
       "GTATTGGAGGGTTAAT    0.0   0.0   0.0                     1.0              0.0   \n",
       "GTAGGAGTCTTGGTCC   16.0  46.0   7.0                     1.0              0.0   \n",
       "GGAGGATCATCACCAA    1.0   0.0   0.0                     1.0              0.0   \n",
       "\n",
       "                  negative_hypothesis_probability  \\\n",
       "barcodes                                            \n",
       "ACAACCAGTCTACAGT                     6.567185e-28   \n",
       "GAAGCCCAGTAGATCA                     2.143123e-02   \n",
       "AGAACCTAGGTAAAGG                     2.124669e-02   \n",
       "AAAGGGCGTAGAGCTG                     1.580356e-02   \n",
       "AGCTTCCTCGAGTACT                     9.162083e-05   \n",
       "...                                           ...   \n",
       "GGAGGTCAGTGGTGAC                     1.199879e-03   \n",
       "GACAGCCAGCGGATCA                     1.949644e-02   \n",
       "GTATTGGAGGGTTAAT                     3.104728e-02   \n",
       "GTAGGAGTCTTGGTCC                     7.015921e-05   \n",
       "GGAGGATCATCACCAA                     1.889874e-02   \n",
       "\n",
       "                  singlet_hypothesis_probability  \\\n",
       "barcodes                                           \n",
       "ACAACCAGTCTACAGT                    8.331745e-13   \n",
       "GAAGCCCAGTAGATCA                    8.266012e-01   \n",
       "AGAACCTAGGTAAAGG                    8.700887e-01   \n",
       "AAAGGGCGTAGAGCTG                    8.390249e-01   \n",
       "AGCTTCCTCGAGTACT                    8.721335e-01   \n",
       "...                                          ...   \n",
       "GGAGGTCAGTGGTGAC                    9.324116e-01   \n",
       "GACAGCCAGCGGATCA                    8.716446e-01   \n",
       "GTATTGGAGGGTTAAT                    9.045481e-01   \n",
       "GTAGGAGTCTTGGTCC                    8.649408e-01   \n",
       "GGAGGATCATCACCAA                    8.573312e-01   \n",
       "\n",
       "                  doublet_hypothesis_probability Classification  \\\n",
       "barcodes                                                          \n",
       "ACAACCAGTCTACAGT                        1.000000        Doublet   \n",
       "GAAGCCCAGTAGATCA                        0.151968           HTO2   \n",
       "AGAACCTAGGTAAAGG                        0.108665           HTO2   \n",
       "AAAGGGCGTAGAGCTG                        0.145172           HTO2   \n",
       "AGCTTCCTCGAGTACT                        0.127775           HTO2   \n",
       "...                                          ...            ...   \n",
       "GGAGGTCAGTGGTGAC                        0.066389           HTO8   \n",
       "GACAGCCAGCGGATCA                        0.108859           HTO2   \n",
       "GTATTGGAGGGTTAAT                        0.064405           HTO2   \n",
       "GTAGGAGTCTTGGTCC                        0.134989           HTO2   \n",
       "GGAGGATCATCACCAA                        0.123770           HTO2   \n",
       "\n",
       "                 Digestion_Condition GEO_Accession  \n",
       "barcodes                                            \n",
       "ACAACCAGTCTACAGT              EPCAM+    GSM4808349  \n",
       "GAAGCCCAGTAGATCA              EPCAM+    GSM4808349  \n",
       "AGAACCTAGGTAAAGG              EPCAM+    GSM4808349  \n",
       "AAAGGGCGTAGAGCTG              EPCAM+    GSM4808349  \n",
       "AGCTTCCTCGAGTACT              EPCAM+    GSM4808349  \n",
       "...                              ...           ...  \n",
       "GGAGGTCAGTGGTGAC              EPCAM+    GSM4808349  \n",
       "GACAGCCAGCGGATCA              EPCAM+    GSM4808349  \n",
       "GTATTGGAGGGTTAAT              EPCAM+    GSM4808349  \n",
       "GTAGGAGTCTTGGTCC              EPCAM+    GSM4808349  \n",
       "GGAGGATCATCACCAA              EPCAM+    GSM4808349  \n",
       "\n",
       "[199844 rows x 18 columns]"
      ]
     },
     "execution_count": 77,
     "metadata": {},
     "output_type": "execute_result"
    }
   ],
   "source": [
    "adata49.obs"
   ]
  },
  {
   "cell_type": "code",
   "execution_count": 76,
   "metadata": {},
   "outputs": [],
   "source": [
    "adata49.obs['Digestion_Condition'] = 'EPCAM+'\n",
    "adata49.obs['GEO_Accession'] = 'GSM4808349'"
   ]
  },
  {
   "cell_type": "code",
   "execution_count": 79,
   "metadata": {},
   "outputs": [],
   "source": [
    "adata49.var.columns = adata49.var.columns.map(str)\n",
    "adata49.obs.columns = adata49.obs.columns.map(str)"
   ]
  },
  {
   "cell_type": "code",
   "execution_count": 80,
   "metadata": {},
   "outputs": [],
   "source": [
    "adata49.write_h5ad('/mnt/LaCIE/annaM/gut_project/raw_data/Fawkner-Corbett_2021/scRNA_seq_data/GSE158702_RAW_2/GSM4808349_HTO1/GSM4808349_HTO_adata.h5ad')"
   ]
  },
  {
   "cell_type": "markdown",
   "metadata": {},
   "source": [
    "+ Samples GSM4808350_HTO2"
   ]
  },
  {
   "cell_type": "code",
   "execution_count": 81,
   "metadata": {},
   "outputs": [],
   "source": [
    "barcodes = pd.read_csv('/mnt/LaCIE/annaM/gut_project/raw_data/Fawkner-Corbett_2021/scRNA_seq_data/GSE158702_RAW_2/GSM4808350_HTO2/HTO2/umi_count/barcodes.tsv', sep='\\t', header=None)\n",
    "features = pd.read_csv('/mnt/LaCIE/annaM/gut_project/raw_data/Fawkner-Corbett_2021/scRNA_seq_data/GSE158702_RAW_2/GSM4808350_HTO2/HTO2/umi_count/features.tsv', sep='\\t', header=None)\n",
    "matrix = sc.read_mtx('/mnt/LaCIE/annaM/gut_project/raw_data/Fawkner-Corbett_2021/scRNA_seq_data/GSE158702_RAW_2/GSM4808350_HTO2/HTO2/umi_count/matrix.mtx')"
   ]
  },
  {
   "cell_type": "code",
   "execution_count": 82,
   "metadata": {},
   "outputs": [
    {
     "name": "stderr",
     "output_type": "stream",
     "text": [
      "/home/amaguza/miniforge3/envs/scanpy_env/lib/python3.11/site-packages/anndata/_core/anndata.py:121: ImplicitModificationWarning: Transforming to str index.\n",
      "  warnings.warn(\"Transforming to str index.\", ImplicitModificationWarning)\n",
      "/home/amaguza/miniforge3/envs/scanpy_env/lib/python3.11/site-packages/anndata/_core/anndata.py:121: ImplicitModificationWarning: Transforming to str index.\n",
      "  warnings.warn(\"Transforming to str index.\", ImplicitModificationWarning)\n"
     ]
    }
   ],
   "source": [
    "features.loc[9] = ['extra']\n",
    "\n",
    "adata50 = sc.AnnData(X=np.transpose(matrix.X), obs=barcodes, var=features)\n",
    "\n",
    "# Calculate the total counts for each gene (var)\n",
    "total_counts = np.array(adata50.X.sum(axis=0)).flatten()\n",
    "\n",
    "# Add these total counts to adata.var\n",
    "adata50.var['total_counts'] = total_counts"
   ]
  },
  {
   "cell_type": "code",
   "execution_count": 84,
   "metadata": {},
   "outputs": [],
   "source": [
    "# if adata.var['total_counts'] is equal zero then remove the row\n",
    "adata50 = adata50[:, adata50.var['total_counts'] > 0]"
   ]
  },
  {
   "cell_type": "code",
   "execution_count": 87,
   "metadata": {},
   "outputs": [],
   "source": [
    "adata50.obs.index = adata50.obs[0]\n",
    "\n",
    "adata50.obs.index.name = 'barcodes'"
   ]
  },
  {
   "cell_type": "markdown",
   "metadata": {},
   "source": [
    "+ Calculate HTO expression to find the sample with scanpy"
   ]
  },
  {
   "cell_type": "code",
   "execution_count": 89,
   "metadata": {},
   "outputs": [
    {
     "name": "stderr",
     "output_type": "stream",
     "text": [
      "/tmp/ipykernel_1281284/2062063826.py:1: ImplicitModificationWarning: Trying to modify attribute `.var` of view, initializing view as actual.\n",
      "  adata50.var[['HTO_tag', 'HTO_sequence']] = adata50.var[0].str.split('-', expand=True)\n"
     ]
    }
   ],
   "source": [
    "adata50.var[['HTO_tag', 'HTO_sequence']] = adata50.var[0].str.split('-', expand=True)\n",
    "\n",
    "adata50.var.index = adata50.var['HTO_tag']\n",
    "\n",
    "adata50.var['Tag_type'] = 'TotalSeq-tag'"
   ]
  },
  {
   "cell_type": "code",
   "execution_count": 90,
   "metadata": {},
   "outputs": [],
   "source": [
    "# Extracting gene names, assuming they are stored in adata.var_names\n",
    "HTO_id = adata50.var_names\n",
    "\n",
    "# Calculating counts for each gene in each cell\n",
    "# The operation depends on whether the data is stored as a dense matrix or a sparse matrix.\n",
    "if sparse.issparse(adata50.X):\n",
    "    gene_counts = pd.DataFrame(adata50.X.toarray(), index=adata50.obs_names, columns=HTO_id)\n",
    "else:\n",
    "    gene_counts = pd.DataFrame(adata50.X, index=adata50.obs_names, columns=HTO_id)\n",
    "\n",
    "# Because you have only 9 genes, you can add each gene's counts as a separate column in adata.obs directly\n",
    "for HTO in HTO_id:\n",
    "    adata50.obs[HTO] = gene_counts[HTO]"
   ]
  },
  {
   "cell_type": "code",
   "execution_count": 91,
   "metadata": {},
   "outputs": [
    {
     "name": "stdout",
     "output_type": "stream",
     "text": [
      "Please cite HashSolo paper:\n",
      "https://www.cell.com/cell-systems/fulltext/S2405-4712(20)30195-2\n"
     ]
    }
   ],
   "source": [
    "cell_hashing_columns=adata50.var.index.values\n",
    "sc.external.pp.hashsolo(adata50, cell_hashing_columns)"
   ]
  },
  {
   "cell_type": "code",
   "execution_count": 92,
   "metadata": {},
   "outputs": [],
   "source": [
    "adata50.obs['Digestion_Condition'] = 'EPCAM+'\n",
    "adata50.obs['GEO_Accession'] = 'GSM4808350'"
   ]
  },
  {
   "cell_type": "code",
   "execution_count": 93,
   "metadata": {},
   "outputs": [],
   "source": [
    "adata50.var.columns = adata50.var.columns.map(str)\n",
    "adata50.obs.columns = adata50.obs.columns.map(str)"
   ]
  },
  {
   "cell_type": "code",
   "execution_count": 95,
   "metadata": {},
   "outputs": [],
   "source": [
    "adata50.write_h5ad('/mnt/LaCIE/annaM/gut_project/raw_data/Fawkner-Corbett_2021/scRNA_seq_data/GSE158702_RAW_2/GSM4808350_HTO2/GSM4808350_HTO_adata.h5ad')"
   ]
  },
  {
   "cell_type": "markdown",
   "metadata": {},
   "source": [
    "+ Samples GSM4808351_HTO3"
   ]
  },
  {
   "cell_type": "code",
   "execution_count": 96,
   "metadata": {},
   "outputs": [
    {
     "name": "stderr",
     "output_type": "stream",
     "text": [
      "/home/amaguza/miniforge3/envs/scanpy_env/lib/python3.11/site-packages/anndata/_core/anndata.py:121: ImplicitModificationWarning: Transforming to str index.\n",
      "  warnings.warn(\"Transforming to str index.\", ImplicitModificationWarning)\n",
      "/home/amaguza/miniforge3/envs/scanpy_env/lib/python3.11/site-packages/anndata/_core/anndata.py:121: ImplicitModificationWarning: Transforming to str index.\n",
      "  warnings.warn(\"Transforming to str index.\", ImplicitModificationWarning)\n",
      "/home/amaguza/miniforge3/envs/scanpy_env/lib/python3.11/site-packages/anndata/_core/anndata.py:1113: FutureWarning: is_categorical_dtype is deprecated and will be removed in a future version. Use isinstance(dtype, CategoricalDtype) instead\n",
      "  if not is_categorical_dtype(df_full[k]):\n"
     ]
    }
   ],
   "source": [
    "barcodes = pd.read_csv('/mnt/LaCIE/annaM/gut_project/raw_data/Fawkner-Corbett_2021/scRNA_seq_data/GSE158702_RAW_2/GSM4808351_HTO3/HTO3/umi_count/barcodes.tsv', sep='\\t', header=None)\n",
    "features = pd.read_csv('/mnt/LaCIE/annaM/gut_project/raw_data/Fawkner-Corbett_2021/scRNA_seq_data/GSE158702_RAW_2/GSM4808351_HTO3/HTO3/umi_count/features.tsv', sep='\\t', header=None)\n",
    "matrix = sc.read_mtx('/mnt/LaCIE/annaM/gut_project/raw_data/Fawkner-Corbett_2021/scRNA_seq_data/GSE158702_RAW_2/GSM4808351_HTO3/HTO3/umi_count/matrix.mtx')\n",
    "\n",
    "features.loc[9] = ['extra']\n",
    "\n",
    "adata51 = sc.AnnData(X=np.transpose(matrix.X), obs=barcodes, var=features)\n",
    "\n",
    "# Calculate the total counts for each gene (var)\n",
    "total_counts = np.array(adata51.X.sum(axis=0)).flatten()\n",
    "\n",
    "# Add these total counts to adata.var\n",
    "adata51.var['total_counts'] = total_counts\n",
    "\n",
    "# if adata.var['total_counts'] is equal zero then remove the row\n",
    "adata51 = adata51[:, adata51.var['total_counts'] > 0]\n",
    "\n",
    "adata51.obs.index = adata51.obs[0]\n",
    "\n",
    "adata51.obs.index.name = 'barcodes'"
   ]
  },
  {
   "cell_type": "markdown",
   "metadata": {},
   "source": [
    "+ Calculate HTO expression to find the sample with scanpy"
   ]
  },
  {
   "cell_type": "code",
   "execution_count": 98,
   "metadata": {},
   "outputs": [
    {
     "name": "stderr",
     "output_type": "stream",
     "text": [
      "/tmp/ipykernel_1281284/2010323548.py:1: ImplicitModificationWarning: Trying to modify attribute `.var` of view, initializing view as actual.\n",
      "  adata51.var[['HTO_tag', 'HTO_sequence']] = adata51.var[0].str.split('-', expand=True)\n"
     ]
    }
   ],
   "source": [
    "adata51.var[['HTO_tag', 'HTO_sequence']] = adata51.var[0].str.split('-', expand=True)\n",
    "\n",
    "adata51.var.index = adata51.var['HTO_tag']\n",
    "\n",
    "adata51.var['Tag_type'] = 'TotalSeq-tag'"
   ]
  },
  {
   "cell_type": "code",
   "execution_count": 99,
   "metadata": {},
   "outputs": [],
   "source": [
    "# Extracting gene names, assuming they are stored in adata.var_names\n",
    "HTO_id = adata51.var_names\n",
    "\n",
    "# Calculating counts for each gene in each cell\n",
    "# The operation depends on whether the data is stored as a dense matrix or a sparse matrix.\n",
    "if sparse.issparse(adata51.X):\n",
    "    gene_counts = pd.DataFrame(adata51.X.toarray(), index=adata51.obs_names, columns=HTO_id)\n",
    "else:\n",
    "    gene_counts = pd.DataFrame(adata51.X, index=adata51.obs_names, columns=HTO_id)\n",
    "\n",
    "# Because you have only 9 genes, you can add each gene's counts as a separate column in adata.obs directly\n",
    "for HTO in HTO_id:\n",
    "    adata51.obs[HTO] = gene_counts[HTO]"
   ]
  },
  {
   "cell_type": "code",
   "execution_count": 100,
   "metadata": {},
   "outputs": [
    {
     "name": "stdout",
     "output_type": "stream",
     "text": [
      "Please cite HashSolo paper:\n",
      "https://www.cell.com/cell-systems/fulltext/S2405-4712(20)30195-2\n"
     ]
    }
   ],
   "source": [
    "cell_hashing_columns=adata51.var.index.values\n",
    "sc.external.pp.hashsolo(adata51, cell_hashing_columns)"
   ]
  },
  {
   "cell_type": "code",
   "execution_count": 102,
   "metadata": {},
   "outputs": [],
   "source": [
    "adata51.obs['Digestion_Condition'] = 'EPCAM+'\n",
    "adata51.obs['GEO_Accession'] = 'GSM4808351'"
   ]
  },
  {
   "cell_type": "code",
   "execution_count": 103,
   "metadata": {},
   "outputs": [],
   "source": [
    "adata51.var.columns = adata51.var.columns.map(str)\n",
    "adata51.obs.columns = adata51.obs.columns.map(str)"
   ]
  },
  {
   "cell_type": "code",
   "execution_count": 104,
   "metadata": {},
   "outputs": [],
   "source": [
    "adata51.write_h5ad('/mnt/LaCIE/annaM/gut_project/raw_data/Fawkner-Corbett_2021/scRNA_seq_data/GSE158702_RAW_2/GSM4808351_HTO3/GSM4808351_HTO_adata.h5ad')"
   ]
  },
  {
   "cell_type": "code",
   "execution_count": 105,
   "metadata": {},
   "outputs": [],
   "source": [
    "del adata49, adata50, adata51, adata"
   ]
  },
  {
   "cell_type": "markdown",
   "metadata": {},
   "source": [
    "+ Samples GSM4808352_HTO4"
   ]
  },
  {
   "cell_type": "code",
   "execution_count": 106,
   "metadata": {},
   "outputs": [
    {
     "name": "stderr",
     "output_type": "stream",
     "text": [
      "/home/amaguza/miniforge3/envs/scanpy_env/lib/python3.11/site-packages/anndata/_core/anndata.py:121: ImplicitModificationWarning: Transforming to str index.\n",
      "  warnings.warn(\"Transforming to str index.\", ImplicitModificationWarning)\n",
      "/home/amaguza/miniforge3/envs/scanpy_env/lib/python3.11/site-packages/anndata/_core/anndata.py:121: ImplicitModificationWarning: Transforming to str index.\n",
      "  warnings.warn(\"Transforming to str index.\", ImplicitModificationWarning)\n",
      "/home/amaguza/miniforge3/envs/scanpy_env/lib/python3.11/site-packages/anndata/_core/anndata.py:1113: FutureWarning: is_categorical_dtype is deprecated and will be removed in a future version. Use isinstance(dtype, CategoricalDtype) instead\n",
      "  if not is_categorical_dtype(df_full[k]):\n"
     ]
    }
   ],
   "source": [
    "barcodes = pd.read_csv('/mnt/LaCIE/annaM/gut_project/raw_data/Fawkner-Corbett_2021/scRNA_seq_data/GSE158702_RAW_2/GSM4808352_HTO4/HTO4/umi_count/barcodes.tsv', sep='\\t', header=None)\n",
    "features = pd.read_csv('/mnt/LaCIE/annaM/gut_project/raw_data/Fawkner-Corbett_2021/scRNA_seq_data/GSE158702_RAW_2/GSM4808352_HTO4/HTO4/umi_count/features.tsv', sep='\\t', header=None)\n",
    "matrix = sc.read_mtx('/mnt/LaCIE/annaM/gut_project/raw_data/Fawkner-Corbett_2021/scRNA_seq_data/GSE158702_RAW_2/GSM4808352_HTO4/HTO4/umi_count/matrix.mtx')\n",
    "\n",
    "features.loc[9] = ['extra']\n",
    "\n",
    "adata = sc.AnnData(X=np.transpose(matrix.X), obs=barcodes, var=features)\n",
    "\n",
    "# Calculate the total counts for each gene (var)\n",
    "total_counts = np.array(adata.X.sum(axis=0)).flatten()\n",
    "\n",
    "# Add these total counts to adata.var\n",
    "adata.var['total_counts'] = total_counts\n",
    "\n",
    "# if adata.var['total_counts'] is equal zero then remove the row\n",
    "adata = adata[:, adata.var['total_counts'] > 0]\n",
    "\n",
    "adata.obs.index = adata.obs[0]\n",
    "\n",
    "adata.obs.index.name = 'barcodes'"
   ]
  },
  {
   "cell_type": "markdown",
   "metadata": {},
   "source": [
    "+ Calculate HTO expression to find the sample with scanpy"
   ]
  },
  {
   "cell_type": "code",
   "execution_count": 108,
   "metadata": {},
   "outputs": [
    {
     "name": "stderr",
     "output_type": "stream",
     "text": [
      "/tmp/ipykernel_1281284/317738448.py:1: ImplicitModificationWarning: Trying to modify attribute `.var` of view, initializing view as actual.\n",
      "  adata.var[['HTO_tag', 'HTO_sequence']] = adata.var[0].str.split('-', expand=True)\n"
     ]
    }
   ],
   "source": [
    "adata.var[['HTO_tag', 'HTO_sequence']] = adata.var[0].str.split('-', expand=True)\n",
    "\n",
    "adata.var.index = adata.var['HTO_tag']\n",
    "\n",
    "adata.var['Tag_type'] = 'TotalSeq-tag'"
   ]
  },
  {
   "cell_type": "code",
   "execution_count": 109,
   "metadata": {},
   "outputs": [],
   "source": [
    "# Extracting gene names, assuming they are stored in adata.var_names\n",
    "HTO_id = adata.var_names\n",
    "\n",
    "# Calculating counts for each gene in each cell\n",
    "# The operation depends on whether the data is stored as a dense matrix or a sparse matrix.\n",
    "if sparse.issparse(adata.X):\n",
    "    gene_counts = pd.DataFrame(adata.X.toarray(), index=adata.obs_names, columns=HTO_id)\n",
    "else:\n",
    "    gene_counts = pd.DataFrame(adata.X, index=adata.obs_names, columns=HTO_id)\n",
    "\n",
    "# Because you have only 9 genes, you can add each gene's counts as a separate column in adata.obs directly\n",
    "for HTO in HTO_id:\n",
    "    adata.obs[HTO] = gene_counts[HTO]"
   ]
  },
  {
   "cell_type": "code",
   "execution_count": 110,
   "metadata": {},
   "outputs": [
    {
     "name": "stdout",
     "output_type": "stream",
     "text": [
      "Please cite HashSolo paper:\n",
      "https://www.cell.com/cell-systems/fulltext/S2405-4712(20)30195-2\n"
     ]
    }
   ],
   "source": [
    "cell_hashing_columns=adata.var.index.values\n",
    "sc.external.pp.hashsolo(adata, cell_hashing_columns)"
   ]
  },
  {
   "cell_type": "code",
   "execution_count": 111,
   "metadata": {},
   "outputs": [],
   "source": [
    "adata.obs['Digestion_Condition'] = 'EPCAM-'\n",
    "adata.obs['GEO_Accession'] = 'GSM4808352'"
   ]
  },
  {
   "cell_type": "code",
   "execution_count": 112,
   "metadata": {},
   "outputs": [],
   "source": [
    "adata.var.columns = adata.var.columns.map(str)\n",
    "adata.obs.columns = adata.obs.columns.map(str)"
   ]
  },
  {
   "cell_type": "code",
   "execution_count": 113,
   "metadata": {},
   "outputs": [],
   "source": [
    "adata.write_h5ad('/mnt/LaCIE/annaM/gut_project/raw_data/Fawkner-Corbett_2021/scRNA_seq_data/GSE158702_RAW_2/GSM4808352_HTO4/GSM4808352_HTO_adata.h5ad')"
   ]
  },
  {
   "cell_type": "code",
   "execution_count": 114,
   "metadata": {},
   "outputs": [],
   "source": [
    "del adata"
   ]
  },
  {
   "cell_type": "markdown",
   "metadata": {},
   "source": [
    "+ Samples GSM4808353_HTO5"
   ]
  },
  {
   "cell_type": "code",
   "execution_count": 115,
   "metadata": {},
   "outputs": [
    {
     "name": "stderr",
     "output_type": "stream",
     "text": [
      "/home/amaguza/miniforge3/envs/scanpy_env/lib/python3.11/site-packages/anndata/_core/anndata.py:121: ImplicitModificationWarning: Transforming to str index.\n",
      "  warnings.warn(\"Transforming to str index.\", ImplicitModificationWarning)\n",
      "/home/amaguza/miniforge3/envs/scanpy_env/lib/python3.11/site-packages/anndata/_core/anndata.py:121: ImplicitModificationWarning: Transforming to str index.\n",
      "  warnings.warn(\"Transforming to str index.\", ImplicitModificationWarning)\n",
      "/home/amaguza/miniforge3/envs/scanpy_env/lib/python3.11/site-packages/anndata/_core/anndata.py:1113: FutureWarning: is_categorical_dtype is deprecated and will be removed in a future version. Use isinstance(dtype, CategoricalDtype) instead\n",
      "  if not is_categorical_dtype(df_full[k]):\n"
     ]
    }
   ],
   "source": [
    "barcodes = pd.read_csv('/mnt/LaCIE/annaM/gut_project/raw_data/Fawkner-Corbett_2021/scRNA_seq_data/GSE158702_RAW_2/GSM4808353_HTO5/HTO5/umi_count/barcodes.tsv', sep='\\t', header=None)\n",
    "features = pd.read_csv('/mnt/LaCIE/annaM/gut_project/raw_data/Fawkner-Corbett_2021/scRNA_seq_data/GSE158702_RAW_2/GSM4808353_HTO5/HTO5/umi_count/features.tsv', sep='\\t', header=None)\n",
    "matrix = sc.read_mtx('/mnt/LaCIE/annaM/gut_project/raw_data/Fawkner-Corbett_2021/scRNA_seq_data/GSE158702_RAW_2/GSM4808353_HTO5/HTO5/umi_count/matrix.mtx')\n",
    "\n",
    "features.loc[9] = ['extra']\n",
    "\n",
    "adata = sc.AnnData(X=np.transpose(matrix.X), obs=barcodes, var=features)\n",
    "\n",
    "# Calculate the total counts for each gene (var)\n",
    "total_counts = np.array(adata.X.sum(axis=0)).flatten()\n",
    "\n",
    "# Add these total counts to adata.var\n",
    "adata.var['total_counts'] = total_counts\n",
    "\n",
    "# if adata.var['total_counts'] is equal zero then remove the row\n",
    "adata = adata[:, adata.var['total_counts'] > 0]\n",
    "\n",
    "adata.obs.index = adata.obs[0]\n",
    "\n",
    "adata.obs.index.name = 'barcodes'"
   ]
  },
  {
   "cell_type": "markdown",
   "metadata": {},
   "source": [
    "+ Calculate HTO expression to find the sample with scanpy"
   ]
  },
  {
   "cell_type": "code",
   "execution_count": 116,
   "metadata": {},
   "outputs": [
    {
     "name": "stderr",
     "output_type": "stream",
     "text": [
      "/tmp/ipykernel_1281284/317738448.py:1: ImplicitModificationWarning: Trying to modify attribute `.var` of view, initializing view as actual.\n",
      "  adata.var[['HTO_tag', 'HTO_sequence']] = adata.var[0].str.split('-', expand=True)\n"
     ]
    }
   ],
   "source": [
    "adata.var[['HTO_tag', 'HTO_sequence']] = adata.var[0].str.split('-', expand=True)\n",
    "\n",
    "adata.var.index = adata.var['HTO_tag']\n",
    "\n",
    "adata.var['Tag_type'] = 'TotalSeq-tag'"
   ]
  },
  {
   "cell_type": "code",
   "execution_count": 119,
   "metadata": {},
   "outputs": [],
   "source": [
    "# Extracting gene names, assuming they are stored in adata.var_names\n",
    "HTO_id = adata.var_names\n",
    "\n",
    "# Calculating counts for each gene in each cell\n",
    "# The operation depends on whether the data is stored as a dense matrix or a sparse matrix.\n",
    "if sparse.issparse(adata.X):\n",
    "    gene_counts = pd.DataFrame(adata.X.toarray(), index=adata.obs_names, columns=HTO_id)\n",
    "else:\n",
    "    gene_counts = pd.DataFrame(adata.X, index=adata.obs_names, columns=HTO_id)\n",
    "\n",
    "# Because you have only 9 genes, you can add each gene's counts as a separate column in adata.obs directly\n",
    "for HTO in HTO_id:\n",
    "    adata.obs[HTO] = gene_counts[HTO]"
   ]
  },
  {
   "cell_type": "code",
   "execution_count": 120,
   "metadata": {},
   "outputs": [
    {
     "name": "stdout",
     "output_type": "stream",
     "text": [
      "Please cite HashSolo paper:\n",
      "https://www.cell.com/cell-systems/fulltext/S2405-4712(20)30195-2\n"
     ]
    }
   ],
   "source": [
    "cell_hashing_columns=adata.var.index.values\n",
    "sc.external.pp.hashsolo(adata, cell_hashing_columns)"
   ]
  },
  {
   "cell_type": "code",
   "execution_count": 121,
   "metadata": {},
   "outputs": [],
   "source": [
    "adata.obs['Digestion_Condition'] = 'EPCAM-'\n",
    "adata.obs['GEO_Accession'] = 'GSM4808353'"
   ]
  },
  {
   "cell_type": "code",
   "execution_count": 122,
   "metadata": {},
   "outputs": [],
   "source": [
    "adata.var.columns = adata.var.columns.map(str)\n",
    "adata.obs.columns = adata.obs.columns.map(str)"
   ]
  },
  {
   "cell_type": "code",
   "execution_count": 123,
   "metadata": {},
   "outputs": [],
   "source": [
    "adata.write_h5ad('/mnt/LaCIE/annaM/gut_project/raw_data/Fawkner-Corbett_2021/scRNA_seq_data/GSE158702_RAW_2/GSM4808353_HTO5/GSM4808353_HTO_adata.h5ad')"
   ]
  },
  {
   "cell_type": "code",
   "execution_count": 124,
   "metadata": {},
   "outputs": [],
   "source": [
    "del adata"
   ]
  },
  {
   "cell_type": "markdown",
   "metadata": {},
   "source": [
    "+ Samples GSM4808354_HTO6"
   ]
  },
  {
   "cell_type": "code",
   "execution_count": 125,
   "metadata": {},
   "outputs": [
    {
     "name": "stderr",
     "output_type": "stream",
     "text": [
      "/home/amaguza/miniforge3/envs/scanpy_env/lib/python3.11/site-packages/anndata/_core/anndata.py:121: ImplicitModificationWarning: Transforming to str index.\n",
      "  warnings.warn(\"Transforming to str index.\", ImplicitModificationWarning)\n",
      "/home/amaguza/miniforge3/envs/scanpy_env/lib/python3.11/site-packages/anndata/_core/anndata.py:121: ImplicitModificationWarning: Transforming to str index.\n",
      "  warnings.warn(\"Transforming to str index.\", ImplicitModificationWarning)\n",
      "/home/amaguza/miniforge3/envs/scanpy_env/lib/python3.11/site-packages/anndata/_core/anndata.py:1113: FutureWarning: is_categorical_dtype is deprecated and will be removed in a future version. Use isinstance(dtype, CategoricalDtype) instead\n",
      "  if not is_categorical_dtype(df_full[k]):\n"
     ]
    }
   ],
   "source": [
    "barcodes = pd.read_csv('/mnt/LaCIE/annaM/gut_project/raw_data/Fawkner-Corbett_2021/scRNA_seq_data/GSE158702_RAW_2/GSM4808354_HTO6/HTO6/umi_count/barcodes.tsv', sep='\\t', header=None)\n",
    "features = pd.read_csv('/mnt/LaCIE/annaM/gut_project/raw_data/Fawkner-Corbett_2021/scRNA_seq_data/GSE158702_RAW_2/GSM4808354_HTO6/HTO6/umi_count/features.tsv', sep='\\t', header=None)\n",
    "matrix = sc.read_mtx('/mnt/LaCIE/annaM/gut_project/raw_data/Fawkner-Corbett_2021/scRNA_seq_data/GSE158702_RAW_2/GSM4808354_HTO6/HTO6/umi_count/matrix.mtx')\n",
    "\n",
    "features.loc[9] = ['extra']\n",
    "\n",
    "adata = sc.AnnData(X=np.transpose(matrix.X), obs=barcodes, var=features)\n",
    "\n",
    "# Calculate the total counts for each gene (var)\n",
    "total_counts = np.array(adata.X.sum(axis=0)).flatten()\n",
    "\n",
    "# Add these total counts to adata.var\n",
    "adata.var['total_counts'] = total_counts\n",
    "\n",
    "# if adata.var['total_counts'] is equal zero then remove the row\n",
    "adata = adata[:, adata.var['total_counts'] > 0]\n",
    "\n",
    "adata.obs.index = adata.obs[0]\n",
    "\n",
    "adata.obs.index.name = 'barcodes'"
   ]
  },
  {
   "cell_type": "markdown",
   "metadata": {},
   "source": [
    "+ Calculate HTO expression to find the sample with scanpy"
   ]
  },
  {
   "cell_type": "code",
   "execution_count": 126,
   "metadata": {},
   "outputs": [
    {
     "name": "stderr",
     "output_type": "stream",
     "text": [
      "/tmp/ipykernel_1281284/317738448.py:1: ImplicitModificationWarning: Trying to modify attribute `.var` of view, initializing view as actual.\n",
      "  adata.var[['HTO_tag', 'HTO_sequence']] = adata.var[0].str.split('-', expand=True)\n"
     ]
    }
   ],
   "source": [
    "adata.var[['HTO_tag', 'HTO_sequence']] = adata.var[0].str.split('-', expand=True)\n",
    "\n",
    "adata.var.index = adata.var['HTO_tag']\n",
    "\n",
    "adata.var['Tag_type'] = 'TotalSeq-tag'"
   ]
  },
  {
   "cell_type": "code",
   "execution_count": 128,
   "metadata": {},
   "outputs": [],
   "source": [
    "# Extracting gene names, assuming they are stored in adata.var_names\n",
    "HTO_id = adata.var_names\n",
    "\n",
    "# Calculating counts for each gene in each cell\n",
    "# The operation depends on whether the data is stored as a dense matrix or a sparse matrix.\n",
    "if sparse.issparse(adata.X):\n",
    "    gene_counts = pd.DataFrame(adata.X.toarray(), index=adata.obs_names, columns=HTO_id)\n",
    "else:\n",
    "    gene_counts = pd.DataFrame(adata.X, index=adata.obs_names, columns=HTO_id)\n",
    "\n",
    "# Because you have only 9 genes, you can add each gene's counts as a separate column in adata.obs directly\n",
    "for HTO in HTO_id:\n",
    "    adata.obs[HTO] = gene_counts[HTO]"
   ]
  },
  {
   "cell_type": "code",
   "execution_count": 129,
   "metadata": {},
   "outputs": [
    {
     "name": "stdout",
     "output_type": "stream",
     "text": [
      "Please cite HashSolo paper:\n",
      "https://www.cell.com/cell-systems/fulltext/S2405-4712(20)30195-2\n"
     ]
    }
   ],
   "source": [
    "cell_hashing_columns=adata.var.index.values\n",
    "sc.external.pp.hashsolo(adata, cell_hashing_columns)"
   ]
  },
  {
   "cell_type": "code",
   "execution_count": 130,
   "metadata": {},
   "outputs": [],
   "source": [
    "adata.obs['Digestion_Condition'] = 'EPCAM-'\n",
    "adata.obs['GEO_Accession'] = 'GSM4808354'"
   ]
  },
  {
   "cell_type": "code",
   "execution_count": 131,
   "metadata": {},
   "outputs": [],
   "source": [
    "adata.var.columns = adata.var.columns.map(str)\n",
    "adata.obs.columns = adata.obs.columns.map(str)"
   ]
  },
  {
   "cell_type": "code",
   "execution_count": 132,
   "metadata": {},
   "outputs": [],
   "source": [
    "adata.write_h5ad('/mnt/LaCIE/annaM/gut_project/raw_data/Fawkner-Corbett_2021/scRNA_seq_data/GSE158702_RAW_2/GSM4808354_HTO6/GSM4808354_HTO_adata.h5ad')"
   ]
  },
  {
   "cell_type": "code",
   "execution_count": 133,
   "metadata": {},
   "outputs": [],
   "source": [
    "del adata"
   ]
  },
  {
   "cell_type": "markdown",
   "metadata": {},
   "source": [
    "+ Samples GSM4808355_HTO_epi_4"
   ]
  },
  {
   "cell_type": "code",
   "execution_count": 142,
   "metadata": {},
   "outputs": [],
   "source": [
    "tag_file = pd.read_csv('/mnt/LaCIE/annaM/gut_project/raw_data/Fawkner-Corbett_2021/scRNA_seq_data/hto_demultiplexing/tag_file.csv', sep=',', header=None, index_col=0)"
   ]
  },
  {
   "cell_type": "code",
   "execution_count": 149,
   "metadata": {},
   "outputs": [
    {
     "data": {
      "text/html": [
       "<div>\n",
       "<style scoped>\n",
       "    .dataframe tbody tr th:only-of-type {\n",
       "        vertical-align: middle;\n",
       "    }\n",
       "\n",
       "    .dataframe tbody tr th {\n",
       "        vertical-align: top;\n",
       "    }\n",
       "\n",
       "    .dataframe thead th {\n",
       "        text-align: right;\n",
       "    }\n",
       "</style>\n",
       "<table border=\"1\" class=\"dataframe\">\n",
       "  <thead>\n",
       "    <tr style=\"text-align: right;\">\n",
       "      <th></th>\n",
       "      <th>HTO_tag</th>\n",
       "    </tr>\n",
       "    <tr>\n",
       "      <th>HTO_sequence</th>\n",
       "      <th></th>\n",
       "    </tr>\n",
       "  </thead>\n",
       "  <tbody>\n",
       "    <tr>\n",
       "      <th>CATGATTGGCTC</th>\n",
       "      <td>HTO1-in-house-tag</td>\n",
       "    </tr>\n",
       "    <tr>\n",
       "      <th>GAGGCGATTGAT</th>\n",
       "      <td>HTO2-in-house-tag</td>\n",
       "    </tr>\n",
       "    <tr>\n",
       "      <th>TGTCCGGCAATA</th>\n",
       "      <td>HTO3-in-house-tag</td>\n",
       "    </tr>\n",
       "    <tr>\n",
       "      <th>TGGTGAACCTGG</th>\n",
       "      <td>HTO4-in-house-tag</td>\n",
       "    </tr>\n",
       "    <tr>\n",
       "      <th>GATCGTAATACC</th>\n",
       "      <td>HTO5-in-house-tag</td>\n",
       "    </tr>\n",
       "  </tbody>\n",
       "</table>\n",
       "</div>"
      ],
      "text/plain": [
       "                        HTO_tag\n",
       "HTO_sequence                   \n",
       "CATGATTGGCTC  HTO1-in-house-tag\n",
       "GAGGCGATTGAT  HTO2-in-house-tag\n",
       "TGTCCGGCAATA  HTO3-in-house-tag\n",
       "TGGTGAACCTGG  HTO4-in-house-tag\n",
       "GATCGTAATACC  HTO5-in-house-tag"
      ]
     },
     "execution_count": 149,
     "metadata": {},
     "output_type": "execute_result"
    }
   ],
   "source": [
    "tag_file.head()"
   ]
  },
  {
   "cell_type": "code",
   "execution_count": 146,
   "metadata": {},
   "outputs": [],
   "source": [
    "tag_file.columns = ['HTO_tag']\n",
    "\n",
    "tag_file.index.name = 'HTO_sequence'"
   ]
  },
  {
   "cell_type": "code",
   "execution_count": 137,
   "metadata": {},
   "outputs": [
    {
     "name": "stderr",
     "output_type": "stream",
     "text": [
      "/home/amaguza/miniforge3/envs/scanpy_env/lib/python3.11/site-packages/anndata/_core/anndata.py:121: ImplicitModificationWarning: Transforming to str index.\n",
      "  warnings.warn(\"Transforming to str index.\", ImplicitModificationWarning)\n",
      "/home/amaguza/miniforge3/envs/scanpy_env/lib/python3.11/site-packages/anndata/_core/anndata.py:121: ImplicitModificationWarning: Transforming to str index.\n",
      "  warnings.warn(\"Transforming to str index.\", ImplicitModificationWarning)\n",
      "/home/amaguza/miniforge3/envs/scanpy_env/lib/python3.11/site-packages/anndata/_core/anndata.py:1113: FutureWarning: is_categorical_dtype is deprecated and will be removed in a future version. Use isinstance(dtype, CategoricalDtype) instead\n",
      "  if not is_categorical_dtype(df_full[k]):\n"
     ]
    }
   ],
   "source": [
    "barcodes = pd.read_csv('/mnt/LaCIE/annaM/gut_project/raw_data/Fawkner-Corbett_2021/scRNA_seq_data/GSE158702_RAW_2/GSM4808355_HTO_epi_4/HTO_epi_4/umi_count/barcodes.tsv', sep='\\t', header=None)\n",
    "features = pd.read_csv('/mnt/LaCIE/annaM/gut_project/raw_data/Fawkner-Corbett_2021/scRNA_seq_data/GSE158702_RAW_2/GSM4808355_HTO_epi_4/HTO_epi_4/umi_count/features.tsv', sep='\\t', header=None)\n",
    "matrix = sc.read_mtx('/mnt/LaCIE/annaM/gut_project/raw_data/Fawkner-Corbett_2021/scRNA_seq_data/GSE158702_RAW_2/GSM4808355_HTO_epi_4/HTO_epi_4/umi_count/matrix.mtx')\n",
    "\n",
    "features.loc[9] = ['extra']\n",
    "\n",
    "adata = sc.AnnData(X=np.transpose(matrix.X), obs=barcodes, var=features)\n",
    "\n",
    "# Calculate the total counts for each gene (var)\n",
    "total_counts = np.array(adata.X.sum(axis=0)).flatten()\n",
    "\n",
    "# Add these total counts to adata.var\n",
    "adata.var['total_counts'] = total_counts\n",
    "\n",
    "# if adata.var['total_counts'] is equal zero then remove the row\n",
    "adata = adata[:, adata.var['total_counts'] > 0]\n",
    "\n",
    "adata.obs.index = adata.obs[0]\n",
    "\n",
    "adata.obs.index.name = 'barcodes'"
   ]
  },
  {
   "cell_type": "code",
   "execution_count": 157,
   "metadata": {},
   "outputs": [
    {
     "data": {
      "text/html": [
       "<div>\n",
       "<style scoped>\n",
       "    .dataframe tbody tr th:only-of-type {\n",
       "        vertical-align: middle;\n",
       "    }\n",
       "\n",
       "    .dataframe tbody tr th {\n",
       "        vertical-align: top;\n",
       "    }\n",
       "\n",
       "    .dataframe thead th {\n",
       "        text-align: right;\n",
       "    }\n",
       "</style>\n",
       "<table border=\"1\" class=\"dataframe\">\n",
       "  <thead>\n",
       "    <tr style=\"text-align: right;\">\n",
       "      <th></th>\n",
       "      <th>0</th>\n",
       "      <th>total_counts</th>\n",
       "      <th>HTO_info</th>\n",
       "      <th>HTO_sequence</th>\n",
       "      <th>HTO_tag</th>\n",
       "      <th>Tag_type</th>\n",
       "      <th>extra</th>\n",
       "    </tr>\n",
       "  </thead>\n",
       "  <tbody>\n",
       "    <tr>\n",
       "      <th>0</th>\n",
       "      <td>A_Ep_AAU1_10_TI_85-GTCAACTCTTTAGCG</td>\n",
       "      <td>2169415.0</td>\n",
       "      <td>A_Ep_AAU1_10_TI_85</td>\n",
       "      <td>GTCAACTCTTTAGCG</td>\n",
       "      <td>HTO1</td>\n",
       "      <td>TotalSeq</td>\n",
       "      <td>tag</td>\n",
       "    </tr>\n",
       "    <tr>\n",
       "      <th>1</th>\n",
       "      <td>B_Ep_AAU2_10_Proxcolon_76-TGATGGCCTATTGGG</td>\n",
       "      <td>1045143.0</td>\n",
       "      <td>B_Ep_AAU2_10_Proxcolon_76</td>\n",
       "      <td>TGATGGCCTATTGGG</td>\n",
       "      <td>HTO2</td>\n",
       "      <td>TotalSeq</td>\n",
       "      <td>tag</td>\n",
       "    </tr>\n",
       "    <tr>\n",
       "      <th>2</th>\n",
       "      <td>C_Ep_AAU3_10_Distcolon_72-TTCCGCCTCTCTTTG</td>\n",
       "      <td>1636235.0</td>\n",
       "      <td>C_Ep_AAU3_10_Distcolon_72</td>\n",
       "      <td>TTCCGCCTCTCTTTG</td>\n",
       "      <td>HTO3</td>\n",
       "      <td>TotalSeq</td>\n",
       "      <td>tag</td>\n",
       "    </tr>\n",
       "    <tr>\n",
       "      <th>3</th>\n",
       "      <td>D_Ep_AAQ1_15_TI_84-AGTAAGTTCAGCGTA</td>\n",
       "      <td>1125889.0</td>\n",
       "      <td>D_Ep_AAQ1_15_TI_84</td>\n",
       "      <td>AGTAAGTTCAGCGTA</td>\n",
       "      <td>HTO4</td>\n",
       "      <td>TotalSeq</td>\n",
       "      <td>tag</td>\n",
       "    </tr>\n",
       "    <tr>\n",
       "      <th>4</th>\n",
       "      <td>E_Ep_AAQ2_15_Proxcolon_81-AAGTATCGTTTCGCA</td>\n",
       "      <td>516705.0</td>\n",
       "      <td>E_Ep_AAQ2_15_Proxcolon_81</td>\n",
       "      <td>AAGTATCGTTTCGCA</td>\n",
       "      <td>HTO5</td>\n",
       "      <td>TotalSeq</td>\n",
       "      <td>tag</td>\n",
       "    </tr>\n",
       "    <tr>\n",
       "      <th>5</th>\n",
       "      <td>F_Ep_AAQ3_15_Distcolon_92-GGTTGCCAGATGTCA</td>\n",
       "      <td>1015037.0</td>\n",
       "      <td>F_Ep_AAQ3_15_Distcolon_92</td>\n",
       "      <td>GGTTGCCAGATGTCA</td>\n",
       "      <td>HTO6</td>\n",
       "      <td>TotalSeq</td>\n",
       "      <td>tag</td>\n",
       "    </tr>\n",
       "    <tr>\n",
       "      <th>6</th>\n",
       "      <td>G_Ep_AAP1_22_TI_90-TGTCTTTCCTGCCAG</td>\n",
       "      <td>595114.0</td>\n",
       "      <td>G_Ep_AAP1_22_TI_90</td>\n",
       "      <td>TGTCTTTCCTGCCAG</td>\n",
       "      <td>HTO7</td>\n",
       "      <td>TotalSeq</td>\n",
       "      <td>tag</td>\n",
       "    </tr>\n",
       "    <tr>\n",
       "      <th>7</th>\n",
       "      <td>H_Ep_AAP2_22_Proxcolon_83-CTCCTCTGCAATTAC</td>\n",
       "      <td>672856.0</td>\n",
       "      <td>H_Ep_AAP2_22_Proxcolon_83</td>\n",
       "      <td>CTCCTCTGCAATTAC</td>\n",
       "      <td>HTO8</td>\n",
       "      <td>TotalSeq</td>\n",
       "      <td>tag</td>\n",
       "    </tr>\n",
       "    <tr>\n",
       "      <th>8</th>\n",
       "      <td>I_Ep_AAP3_22_Distcolon_87-CAGTAGTCACGGTCA</td>\n",
       "      <td>599292.0</td>\n",
       "      <td>I_Ep_AAP3_22_Distcolon_87</td>\n",
       "      <td>CAGTAGTCACGGTCA</td>\n",
       "      <td>HTO9</td>\n",
       "      <td>TotalSeq</td>\n",
       "      <td>tag</td>\n",
       "    </tr>\n",
       "  </tbody>\n",
       "</table>\n",
       "</div>"
      ],
      "text/plain": [
       "                                           0  total_counts  \\\n",
       "0         A_Ep_AAU1_10_TI_85-GTCAACTCTTTAGCG     2169415.0   \n",
       "1  B_Ep_AAU2_10_Proxcolon_76-TGATGGCCTATTGGG     1045143.0   \n",
       "2  C_Ep_AAU3_10_Distcolon_72-TTCCGCCTCTCTTTG     1636235.0   \n",
       "3         D_Ep_AAQ1_15_TI_84-AGTAAGTTCAGCGTA     1125889.0   \n",
       "4  E_Ep_AAQ2_15_Proxcolon_81-AAGTATCGTTTCGCA      516705.0   \n",
       "5  F_Ep_AAQ3_15_Distcolon_92-GGTTGCCAGATGTCA     1015037.0   \n",
       "6         G_Ep_AAP1_22_TI_90-TGTCTTTCCTGCCAG      595114.0   \n",
       "7  H_Ep_AAP2_22_Proxcolon_83-CTCCTCTGCAATTAC      672856.0   \n",
       "8  I_Ep_AAP3_22_Distcolon_87-CAGTAGTCACGGTCA      599292.0   \n",
       "\n",
       "                    HTO_info     HTO_sequence HTO_tag  Tag_type extra  \n",
       "0         A_Ep_AAU1_10_TI_85  GTCAACTCTTTAGCG    HTO1  TotalSeq   tag  \n",
       "1  B_Ep_AAU2_10_Proxcolon_76  TGATGGCCTATTGGG    HTO2  TotalSeq   tag  \n",
       "2  C_Ep_AAU3_10_Distcolon_72  TTCCGCCTCTCTTTG    HTO3  TotalSeq   tag  \n",
       "3         D_Ep_AAQ1_15_TI_84  AGTAAGTTCAGCGTA    HTO4  TotalSeq   tag  \n",
       "4  E_Ep_AAQ2_15_Proxcolon_81  AAGTATCGTTTCGCA    HTO5  TotalSeq   tag  \n",
       "5  F_Ep_AAQ3_15_Distcolon_92  GGTTGCCAGATGTCA    HTO6  TotalSeq   tag  \n",
       "6         G_Ep_AAP1_22_TI_90  TGTCTTTCCTGCCAG    HTO7  TotalSeq   tag  \n",
       "7  H_Ep_AAP2_22_Proxcolon_83  CTCCTCTGCAATTAC    HTO8  TotalSeq   tag  \n",
       "8  I_Ep_AAP3_22_Distcolon_87  CAGTAGTCACGGTCA    HTO9  TotalSeq   tag  "
      ]
     },
     "execution_count": 157,
     "metadata": {},
     "output_type": "execute_result"
    }
   ],
   "source": [
    "adata.var"
   ]
  },
  {
   "cell_type": "code",
   "execution_count": 151,
   "metadata": {},
   "outputs": [
    {
     "name": "stderr",
     "output_type": "stream",
     "text": [
      "/tmp/ipykernel_1281284/2246665826.py:1: ImplicitModificationWarning: Trying to modify attribute `.var` of view, initializing view as actual.\n",
      "  adata.var[['HTO_info', 'HTO_sequence']] = adata.var[0].str.split('-', expand=True)\n"
     ]
    }
   ],
   "source": [
    "adata.var[['HTO_info', 'HTO_sequence']] = adata.var[0].str.split('-', expand=True)"
   ]
  },
  {
   "cell_type": "code",
   "execution_count": 153,
   "metadata": {},
   "outputs": [],
   "source": [
    "# merge the tag_file with adata.var by HTO_sequence\n",
    "adata.var = adata.var.merge(tag_file, on='HTO_sequence')"
   ]
  },
  {
   "cell_type": "code",
   "execution_count": 156,
   "metadata": {},
   "outputs": [],
   "source": [
    "adata.var[['HTO_tag', 'Tag_type', 'extra']] = adata.var['HTO_tag'].str.split('-', expand=True)"
   ]
  },
  {
   "cell_type": "code",
   "execution_count": 158,
   "metadata": {},
   "outputs": [],
   "source": [
    "del adata.var['extra']"
   ]
  },
  {
   "cell_type": "code",
   "execution_count": 159,
   "metadata": {},
   "outputs": [],
   "source": [
    "adata.var.index = adata.var['HTO_tag']"
   ]
  },
  {
   "cell_type": "markdown",
   "metadata": {},
   "source": [
    "+ Calculate HTO expression to find the sample with scanpy"
   ]
  },
  {
   "cell_type": "code",
   "execution_count": 160,
   "metadata": {},
   "outputs": [
    {
     "data": {
      "text/html": [
       "<div>\n",
       "<style scoped>\n",
       "    .dataframe tbody tr th:only-of-type {\n",
       "        vertical-align: middle;\n",
       "    }\n",
       "\n",
       "    .dataframe tbody tr th {\n",
       "        vertical-align: top;\n",
       "    }\n",
       "\n",
       "    .dataframe thead th {\n",
       "        text-align: right;\n",
       "    }\n",
       "</style>\n",
       "<table border=\"1\" class=\"dataframe\">\n",
       "  <thead>\n",
       "    <tr style=\"text-align: right;\">\n",
       "      <th></th>\n",
       "      <th>0</th>\n",
       "      <th>total_counts</th>\n",
       "      <th>HTO_info</th>\n",
       "      <th>HTO_sequence</th>\n",
       "      <th>HTO_tag</th>\n",
       "      <th>Tag_type</th>\n",
       "    </tr>\n",
       "    <tr>\n",
       "      <th>HTO_tag</th>\n",
       "      <th></th>\n",
       "      <th></th>\n",
       "      <th></th>\n",
       "      <th></th>\n",
       "      <th></th>\n",
       "      <th></th>\n",
       "    </tr>\n",
       "  </thead>\n",
       "  <tbody>\n",
       "    <tr>\n",
       "      <th>HTO1</th>\n",
       "      <td>A_Ep_AAU1_10_TI_85-GTCAACTCTTTAGCG</td>\n",
       "      <td>2169415.0</td>\n",
       "      <td>A_Ep_AAU1_10_TI_85</td>\n",
       "      <td>GTCAACTCTTTAGCG</td>\n",
       "      <td>HTO1</td>\n",
       "      <td>TotalSeq</td>\n",
       "    </tr>\n",
       "    <tr>\n",
       "      <th>HTO2</th>\n",
       "      <td>B_Ep_AAU2_10_Proxcolon_76-TGATGGCCTATTGGG</td>\n",
       "      <td>1045143.0</td>\n",
       "      <td>B_Ep_AAU2_10_Proxcolon_76</td>\n",
       "      <td>TGATGGCCTATTGGG</td>\n",
       "      <td>HTO2</td>\n",
       "      <td>TotalSeq</td>\n",
       "    </tr>\n",
       "    <tr>\n",
       "      <th>HTO3</th>\n",
       "      <td>C_Ep_AAU3_10_Distcolon_72-TTCCGCCTCTCTTTG</td>\n",
       "      <td>1636235.0</td>\n",
       "      <td>C_Ep_AAU3_10_Distcolon_72</td>\n",
       "      <td>TTCCGCCTCTCTTTG</td>\n",
       "      <td>HTO3</td>\n",
       "      <td>TotalSeq</td>\n",
       "    </tr>\n",
       "    <tr>\n",
       "      <th>HTO4</th>\n",
       "      <td>D_Ep_AAQ1_15_TI_84-AGTAAGTTCAGCGTA</td>\n",
       "      <td>1125889.0</td>\n",
       "      <td>D_Ep_AAQ1_15_TI_84</td>\n",
       "      <td>AGTAAGTTCAGCGTA</td>\n",
       "      <td>HTO4</td>\n",
       "      <td>TotalSeq</td>\n",
       "    </tr>\n",
       "    <tr>\n",
       "      <th>HTO5</th>\n",
       "      <td>E_Ep_AAQ2_15_Proxcolon_81-AAGTATCGTTTCGCA</td>\n",
       "      <td>516705.0</td>\n",
       "      <td>E_Ep_AAQ2_15_Proxcolon_81</td>\n",
       "      <td>AAGTATCGTTTCGCA</td>\n",
       "      <td>HTO5</td>\n",
       "      <td>TotalSeq</td>\n",
       "    </tr>\n",
       "    <tr>\n",
       "      <th>HTO6</th>\n",
       "      <td>F_Ep_AAQ3_15_Distcolon_92-GGTTGCCAGATGTCA</td>\n",
       "      <td>1015037.0</td>\n",
       "      <td>F_Ep_AAQ3_15_Distcolon_92</td>\n",
       "      <td>GGTTGCCAGATGTCA</td>\n",
       "      <td>HTO6</td>\n",
       "      <td>TotalSeq</td>\n",
       "    </tr>\n",
       "    <tr>\n",
       "      <th>HTO7</th>\n",
       "      <td>G_Ep_AAP1_22_TI_90-TGTCTTTCCTGCCAG</td>\n",
       "      <td>595114.0</td>\n",
       "      <td>G_Ep_AAP1_22_TI_90</td>\n",
       "      <td>TGTCTTTCCTGCCAG</td>\n",
       "      <td>HTO7</td>\n",
       "      <td>TotalSeq</td>\n",
       "    </tr>\n",
       "    <tr>\n",
       "      <th>HTO8</th>\n",
       "      <td>H_Ep_AAP2_22_Proxcolon_83-CTCCTCTGCAATTAC</td>\n",
       "      <td>672856.0</td>\n",
       "      <td>H_Ep_AAP2_22_Proxcolon_83</td>\n",
       "      <td>CTCCTCTGCAATTAC</td>\n",
       "      <td>HTO8</td>\n",
       "      <td>TotalSeq</td>\n",
       "    </tr>\n",
       "    <tr>\n",
       "      <th>HTO9</th>\n",
       "      <td>I_Ep_AAP3_22_Distcolon_87-CAGTAGTCACGGTCA</td>\n",
       "      <td>599292.0</td>\n",
       "      <td>I_Ep_AAP3_22_Distcolon_87</td>\n",
       "      <td>CAGTAGTCACGGTCA</td>\n",
       "      <td>HTO9</td>\n",
       "      <td>TotalSeq</td>\n",
       "    </tr>\n",
       "  </tbody>\n",
       "</table>\n",
       "</div>"
      ],
      "text/plain": [
       "                                                 0  total_counts  \\\n",
       "HTO_tag                                                            \n",
       "HTO1            A_Ep_AAU1_10_TI_85-GTCAACTCTTTAGCG     2169415.0   \n",
       "HTO2     B_Ep_AAU2_10_Proxcolon_76-TGATGGCCTATTGGG     1045143.0   \n",
       "HTO3     C_Ep_AAU3_10_Distcolon_72-TTCCGCCTCTCTTTG     1636235.0   \n",
       "HTO4            D_Ep_AAQ1_15_TI_84-AGTAAGTTCAGCGTA     1125889.0   \n",
       "HTO5     E_Ep_AAQ2_15_Proxcolon_81-AAGTATCGTTTCGCA      516705.0   \n",
       "HTO6     F_Ep_AAQ3_15_Distcolon_92-GGTTGCCAGATGTCA     1015037.0   \n",
       "HTO7            G_Ep_AAP1_22_TI_90-TGTCTTTCCTGCCAG      595114.0   \n",
       "HTO8     H_Ep_AAP2_22_Proxcolon_83-CTCCTCTGCAATTAC      672856.0   \n",
       "HTO9     I_Ep_AAP3_22_Distcolon_87-CAGTAGTCACGGTCA      599292.0   \n",
       "\n",
       "                          HTO_info     HTO_sequence HTO_tag  Tag_type  \n",
       "HTO_tag                                                                \n",
       "HTO1            A_Ep_AAU1_10_TI_85  GTCAACTCTTTAGCG    HTO1  TotalSeq  \n",
       "HTO2     B_Ep_AAU2_10_Proxcolon_76  TGATGGCCTATTGGG    HTO2  TotalSeq  \n",
       "HTO3     C_Ep_AAU3_10_Distcolon_72  TTCCGCCTCTCTTTG    HTO3  TotalSeq  \n",
       "HTO4            D_Ep_AAQ1_15_TI_84  AGTAAGTTCAGCGTA    HTO4  TotalSeq  \n",
       "HTO5     E_Ep_AAQ2_15_Proxcolon_81  AAGTATCGTTTCGCA    HTO5  TotalSeq  \n",
       "HTO6     F_Ep_AAQ3_15_Distcolon_92  GGTTGCCAGATGTCA    HTO6  TotalSeq  \n",
       "HTO7            G_Ep_AAP1_22_TI_90  TGTCTTTCCTGCCAG    HTO7  TotalSeq  \n",
       "HTO8     H_Ep_AAP2_22_Proxcolon_83  CTCCTCTGCAATTAC    HTO8  TotalSeq  \n",
       "HTO9     I_Ep_AAP3_22_Distcolon_87  CAGTAGTCACGGTCA    HTO9  TotalSeq  "
      ]
     },
     "execution_count": 160,
     "metadata": {},
     "output_type": "execute_result"
    }
   ],
   "source": [
    "adata.var"
   ]
  },
  {
   "cell_type": "code",
   "execution_count": 161,
   "metadata": {},
   "outputs": [],
   "source": [
    "# Extracting gene names, assuming they are stored in adata.var_names\n",
    "HTO_id = adata.var_names\n",
    "\n",
    "# Calculating counts for each gene in each cell\n",
    "# The operation depends on whether the data is stored as a dense matrix or a sparse matrix.\n",
    "if sparse.issparse(adata.X):\n",
    "    gene_counts = pd.DataFrame(adata.X.toarray(), index=adata.obs_names, columns=HTO_id)\n",
    "else:\n",
    "    gene_counts = pd.DataFrame(adata.X, index=adata.obs_names, columns=HTO_id)\n",
    "\n",
    "# Because you have only 9 genes, you can add each gene's counts as a separate column in adata.obs directly\n",
    "for HTO in HTO_id:\n",
    "    adata.obs[HTO] = gene_counts[HTO]"
   ]
  },
  {
   "cell_type": "code",
   "execution_count": 162,
   "metadata": {},
   "outputs": [
    {
     "name": "stdout",
     "output_type": "stream",
     "text": [
      "Please cite HashSolo paper:\n",
      "https://www.cell.com/cell-systems/fulltext/S2405-4712(20)30195-2\n"
     ]
    }
   ],
   "source": [
    "cell_hashing_columns=adata.var.index.values\n",
    "sc.external.pp.hashsolo(adata, cell_hashing_columns)"
   ]
  },
  {
   "cell_type": "code",
   "execution_count": 163,
   "metadata": {},
   "outputs": [],
   "source": [
    "adata.obs['Digestion_Condition'] = 'EPCAM+'\n",
    "adata.obs['GEO_Accession'] = 'GSM4808355'"
   ]
  },
  {
   "cell_type": "code",
   "execution_count": 164,
   "metadata": {},
   "outputs": [],
   "source": [
    "adata.var.columns = adata.var.columns.map(str)\n",
    "adata.obs.columns = adata.obs.columns.map(str)"
   ]
  },
  {
   "cell_type": "code",
   "execution_count": 165,
   "metadata": {},
   "outputs": [],
   "source": [
    "adata.write_h5ad('/mnt/LaCIE/annaM/gut_project/raw_data/Fawkner-Corbett_2021/scRNA_seq_data/GSE158702_RAW_2/GSM4808355_HTO_epi_4/GSM4808355_HTO_adata.h5ad')"
   ]
  },
  {
   "cell_type": "code",
   "execution_count": 166,
   "metadata": {},
   "outputs": [],
   "source": [
    "del adata"
   ]
  },
  {
   "cell_type": "markdown",
   "metadata": {},
   "source": [
    "+ Samples GSM4808356_HTO_stromal_4"
   ]
  },
  {
   "cell_type": "code",
   "execution_count": 167,
   "metadata": {},
   "outputs": [
    {
     "name": "stderr",
     "output_type": "stream",
     "text": [
      "/home/amaguza/miniforge3/envs/scanpy_env/lib/python3.11/site-packages/anndata/_core/anndata.py:121: ImplicitModificationWarning: Transforming to str index.\n",
      "  warnings.warn(\"Transforming to str index.\", ImplicitModificationWarning)\n",
      "/home/amaguza/miniforge3/envs/scanpy_env/lib/python3.11/site-packages/anndata/_core/anndata.py:121: ImplicitModificationWarning: Transforming to str index.\n",
      "  warnings.warn(\"Transforming to str index.\", ImplicitModificationWarning)\n",
      "/home/amaguza/miniforge3/envs/scanpy_env/lib/python3.11/site-packages/anndata/_core/anndata.py:1113: FutureWarning: is_categorical_dtype is deprecated and will be removed in a future version. Use isinstance(dtype, CategoricalDtype) instead\n",
      "  if not is_categorical_dtype(df_full[k]):\n"
     ]
    }
   ],
   "source": [
    "barcodes = pd.read_csv('/mnt/LaCIE/annaM/gut_project/raw_data/Fawkner-Corbett_2021/scRNA_seq_data/GSE158702_RAW_2/GSM4808356_HTO_stromal_4/HTO_stromal_4/umi_count/barcodes.tsv', sep='\\t', header=None)\n",
    "features = pd.read_csv('/mnt/LaCIE/annaM/gut_project/raw_data/Fawkner-Corbett_2021/scRNA_seq_data/GSE158702_RAW_2/GSM4808356_HTO_stromal_4/HTO_stromal_4/umi_count/features.tsv', sep='\\t', header=None)\n",
    "matrix = sc.read_mtx('/mnt/LaCIE/annaM/gut_project/raw_data/Fawkner-Corbett_2021/scRNA_seq_data/GSE158702_RAW_2/GSM4808356_HTO_stromal_4/HTO_stromal_4/umi_count//matrix.mtx')\n",
    "\n",
    "features.loc[9] = ['extra']\n",
    "\n",
    "adata = sc.AnnData(X=np.transpose(matrix.X), obs=barcodes, var=features)\n",
    "\n",
    "# Calculate the total counts for each gene (var)\n",
    "total_counts = np.array(adata.X.sum(axis=0)).flatten()\n",
    "\n",
    "# Add these total counts to adata.var\n",
    "adata.var['total_counts'] = total_counts\n",
    "\n",
    "# if adata.var['total_counts'] is equal zero then remove the row\n",
    "adata = adata[:, adata.var['total_counts'] > 0]\n",
    "\n",
    "adata.obs.index = adata.obs[0]\n",
    "\n",
    "adata.obs.index.name = 'barcodes'"
   ]
  },
  {
   "cell_type": "code",
   "execution_count": 174,
   "metadata": {},
   "outputs": [
    {
     "data": {
      "text/html": [
       "<div>\n",
       "<style scoped>\n",
       "    .dataframe tbody tr th:only-of-type {\n",
       "        vertical-align: middle;\n",
       "    }\n",
       "\n",
       "    .dataframe tbody tr th {\n",
       "        vertical-align: top;\n",
       "    }\n",
       "\n",
       "    .dataframe thead th {\n",
       "        text-align: right;\n",
       "    }\n",
       "</style>\n",
       "<table border=\"1\" class=\"dataframe\">\n",
       "  <thead>\n",
       "    <tr style=\"text-align: right;\">\n",
       "      <th></th>\n",
       "      <th>0</th>\n",
       "      <th>total_counts</th>\n",
       "      <th>HTO_info</th>\n",
       "      <th>HTO_sequence</th>\n",
       "      <th>HTO_tag</th>\n",
       "      <th>Tag_type</th>\n",
       "    </tr>\n",
       "    <tr>\n",
       "      <th>HTO_tag</th>\n",
       "      <th></th>\n",
       "      <th></th>\n",
       "      <th></th>\n",
       "      <th></th>\n",
       "      <th></th>\n",
       "      <th></th>\n",
       "    </tr>\n",
       "  </thead>\n",
       "  <tbody>\n",
       "    <tr>\n",
       "      <th>HTO1</th>\n",
       "      <td>A_St_AAU1_10_TI_78-GTCAACTCTTTAGCG</td>\n",
       "      <td>634211.0</td>\n",
       "      <td>A_St_AAU1_10_TI_78</td>\n",
       "      <td>GTCAACTCTTTAGCG</td>\n",
       "      <td>HTO1</td>\n",
       "      <td>TotalSeq</td>\n",
       "    </tr>\n",
       "    <tr>\n",
       "      <th>HTO2</th>\n",
       "      <td>B_St_AAU2_10_Proxcolon_90-TGATGGCCTATTGGG</td>\n",
       "      <td>20950064.0</td>\n",
       "      <td>B_St_AAU2_10_Proxcolon_90</td>\n",
       "      <td>TGATGGCCTATTGGG</td>\n",
       "      <td>HTO2</td>\n",
       "      <td>TotalSeq</td>\n",
       "    </tr>\n",
       "    <tr>\n",
       "      <th>HTO3</th>\n",
       "      <td>C_St_AAU3_10_Distcolon_79-TTCCGCCTCTCTTTG</td>\n",
       "      <td>1489625.0</td>\n",
       "      <td>C_St_AAU3_10_Distcolon_79</td>\n",
       "      <td>TTCCGCCTCTCTTTG</td>\n",
       "      <td>HTO3</td>\n",
       "      <td>TotalSeq</td>\n",
       "    </tr>\n",
       "    <tr>\n",
       "      <th>HTO4</th>\n",
       "      <td>D_St_AAQ1_15_TI_88-AGTAAGTTCAGCGTA</td>\n",
       "      <td>1105556.0</td>\n",
       "      <td>D_St_AAQ1_15_TI_88</td>\n",
       "      <td>AGTAAGTTCAGCGTA</td>\n",
       "      <td>HTO4</td>\n",
       "      <td>TotalSeq</td>\n",
       "    </tr>\n",
       "    <tr>\n",
       "      <th>HTO5</th>\n",
       "      <td>E_St_AAQ2_15_Proxcolon_82-AAGTATCGTTTCGCA</td>\n",
       "      <td>225692.0</td>\n",
       "      <td>E_St_AAQ2_15_Proxcolon_82</td>\n",
       "      <td>AAGTATCGTTTCGCA</td>\n",
       "      <td>HTO5</td>\n",
       "      <td>TotalSeq</td>\n",
       "    </tr>\n",
       "    <tr>\n",
       "      <th>HTO6</th>\n",
       "      <td>F_St_AAQ3_15_Distcolon_87-GGTTGCCAGATGTCA</td>\n",
       "      <td>328078.0</td>\n",
       "      <td>F_St_AAQ3_15_Distcolon_87</td>\n",
       "      <td>GGTTGCCAGATGTCA</td>\n",
       "      <td>HTO6</td>\n",
       "      <td>TotalSeq</td>\n",
       "    </tr>\n",
       "    <tr>\n",
       "      <th>HTO7</th>\n",
       "      <td>G_St_AAP1_22_TI_92-TGTCTTTCCTGCCAG</td>\n",
       "      <td>249863.0</td>\n",
       "      <td>G_St_AAP1_22_TI_92</td>\n",
       "      <td>TGTCTTTCCTGCCAG</td>\n",
       "      <td>HTO7</td>\n",
       "      <td>TotalSeq</td>\n",
       "    </tr>\n",
       "    <tr>\n",
       "      <th>HTO8</th>\n",
       "      <td>H_St__AAP2_22_Proxcolon_91-CTCCTCTGCAATTAC</td>\n",
       "      <td>624830.0</td>\n",
       "      <td>H_St__AAP2_22_Proxcolon_91</td>\n",
       "      <td>CTCCTCTGCAATTAC</td>\n",
       "      <td>HTO8</td>\n",
       "      <td>TotalSeq</td>\n",
       "    </tr>\n",
       "    <tr>\n",
       "      <th>HTO9</th>\n",
       "      <td>I_St_AAP3_22_Distcolon_94-CAGTAGTCACGGTCA</td>\n",
       "      <td>212123.0</td>\n",
       "      <td>I_St_AAP3_22_Distcolon_94</td>\n",
       "      <td>CAGTAGTCACGGTCA</td>\n",
       "      <td>HTO9</td>\n",
       "      <td>TotalSeq</td>\n",
       "    </tr>\n",
       "  </tbody>\n",
       "</table>\n",
       "</div>"
      ],
      "text/plain": [
       "                                                  0  total_counts  \\\n",
       "HTO_tag                                                             \n",
       "HTO1             A_St_AAU1_10_TI_78-GTCAACTCTTTAGCG      634211.0   \n",
       "HTO2      B_St_AAU2_10_Proxcolon_90-TGATGGCCTATTGGG    20950064.0   \n",
       "HTO3      C_St_AAU3_10_Distcolon_79-TTCCGCCTCTCTTTG     1489625.0   \n",
       "HTO4             D_St_AAQ1_15_TI_88-AGTAAGTTCAGCGTA     1105556.0   \n",
       "HTO5      E_St_AAQ2_15_Proxcolon_82-AAGTATCGTTTCGCA      225692.0   \n",
       "HTO6      F_St_AAQ3_15_Distcolon_87-GGTTGCCAGATGTCA      328078.0   \n",
       "HTO7             G_St_AAP1_22_TI_92-TGTCTTTCCTGCCAG      249863.0   \n",
       "HTO8     H_St__AAP2_22_Proxcolon_91-CTCCTCTGCAATTAC      624830.0   \n",
       "HTO9      I_St_AAP3_22_Distcolon_94-CAGTAGTCACGGTCA      212123.0   \n",
       "\n",
       "                           HTO_info     HTO_sequence HTO_tag  Tag_type  \n",
       "HTO_tag                                                                 \n",
       "HTO1             A_St_AAU1_10_TI_78  GTCAACTCTTTAGCG    HTO1  TotalSeq  \n",
       "HTO2      B_St_AAU2_10_Proxcolon_90  TGATGGCCTATTGGG    HTO2  TotalSeq  \n",
       "HTO3      C_St_AAU3_10_Distcolon_79  TTCCGCCTCTCTTTG    HTO3  TotalSeq  \n",
       "HTO4             D_St_AAQ1_15_TI_88  AGTAAGTTCAGCGTA    HTO4  TotalSeq  \n",
       "HTO5      E_St_AAQ2_15_Proxcolon_82  AAGTATCGTTTCGCA    HTO5  TotalSeq  \n",
       "HTO6      F_St_AAQ3_15_Distcolon_87  GGTTGCCAGATGTCA    HTO6  TotalSeq  \n",
       "HTO7             G_St_AAP1_22_TI_92  TGTCTTTCCTGCCAG    HTO7  TotalSeq  \n",
       "HTO8     H_St__AAP2_22_Proxcolon_91  CTCCTCTGCAATTAC    HTO8  TotalSeq  \n",
       "HTO9      I_St_AAP3_22_Distcolon_94  CAGTAGTCACGGTCA    HTO9  TotalSeq  "
      ]
     },
     "execution_count": 174,
     "metadata": {},
     "output_type": "execute_result"
    }
   ],
   "source": [
    "adata.var"
   ]
  },
  {
   "cell_type": "code",
   "execution_count": 169,
   "metadata": {},
   "outputs": [
    {
     "name": "stderr",
     "output_type": "stream",
     "text": [
      "/tmp/ipykernel_1281284/2246665826.py:1: ImplicitModificationWarning: Trying to modify attribute `.var` of view, initializing view as actual.\n",
      "  adata.var[['HTO_info', 'HTO_sequence']] = adata.var[0].str.split('-', expand=True)\n"
     ]
    }
   ],
   "source": [
    "adata.var[['HTO_info', 'HTO_sequence']] = adata.var[0].str.split('-', expand=True)"
   ]
  },
  {
   "cell_type": "code",
   "execution_count": 170,
   "metadata": {},
   "outputs": [],
   "source": [
    "# merge the tag_file with adata.var by HTO_sequence\n",
    "adata.var = adata.var.merge(tag_file, on='HTO_sequence')"
   ]
  },
  {
   "cell_type": "code",
   "execution_count": 171,
   "metadata": {},
   "outputs": [],
   "source": [
    "adata.var[['HTO_tag', 'Tag_type', 'extra']] = adata.var['HTO_tag'].str.split('-', expand=True)"
   ]
  },
  {
   "cell_type": "code",
   "execution_count": 172,
   "metadata": {},
   "outputs": [],
   "source": [
    "del adata.var['extra']"
   ]
  },
  {
   "cell_type": "code",
   "execution_count": 173,
   "metadata": {},
   "outputs": [],
   "source": [
    "adata.var.index = adata.var['HTO_tag']"
   ]
  },
  {
   "cell_type": "markdown",
   "metadata": {},
   "source": [
    "+ Calculate HTO expression to find the sample with scanpy"
   ]
  },
  {
   "cell_type": "code",
   "execution_count": 175,
   "metadata": {},
   "outputs": [
    {
     "data": {
      "text/html": [
       "<div>\n",
       "<style scoped>\n",
       "    .dataframe tbody tr th:only-of-type {\n",
       "        vertical-align: middle;\n",
       "    }\n",
       "\n",
       "    .dataframe tbody tr th {\n",
       "        vertical-align: top;\n",
       "    }\n",
       "\n",
       "    .dataframe thead th {\n",
       "        text-align: right;\n",
       "    }\n",
       "</style>\n",
       "<table border=\"1\" class=\"dataframe\">\n",
       "  <thead>\n",
       "    <tr style=\"text-align: right;\">\n",
       "      <th></th>\n",
       "      <th>0</th>\n",
       "      <th>total_counts</th>\n",
       "      <th>HTO_info</th>\n",
       "      <th>HTO_sequence</th>\n",
       "      <th>HTO_tag</th>\n",
       "      <th>Tag_type</th>\n",
       "    </tr>\n",
       "    <tr>\n",
       "      <th>HTO_tag</th>\n",
       "      <th></th>\n",
       "      <th></th>\n",
       "      <th></th>\n",
       "      <th></th>\n",
       "      <th></th>\n",
       "      <th></th>\n",
       "    </tr>\n",
       "  </thead>\n",
       "  <tbody>\n",
       "    <tr>\n",
       "      <th>HTO1</th>\n",
       "      <td>A_St_AAU1_10_TI_78-GTCAACTCTTTAGCG</td>\n",
       "      <td>634211.0</td>\n",
       "      <td>A_St_AAU1_10_TI_78</td>\n",
       "      <td>GTCAACTCTTTAGCG</td>\n",
       "      <td>HTO1</td>\n",
       "      <td>TotalSeq</td>\n",
       "    </tr>\n",
       "    <tr>\n",
       "      <th>HTO2</th>\n",
       "      <td>B_St_AAU2_10_Proxcolon_90-TGATGGCCTATTGGG</td>\n",
       "      <td>20950064.0</td>\n",
       "      <td>B_St_AAU2_10_Proxcolon_90</td>\n",
       "      <td>TGATGGCCTATTGGG</td>\n",
       "      <td>HTO2</td>\n",
       "      <td>TotalSeq</td>\n",
       "    </tr>\n",
       "    <tr>\n",
       "      <th>HTO3</th>\n",
       "      <td>C_St_AAU3_10_Distcolon_79-TTCCGCCTCTCTTTG</td>\n",
       "      <td>1489625.0</td>\n",
       "      <td>C_St_AAU3_10_Distcolon_79</td>\n",
       "      <td>TTCCGCCTCTCTTTG</td>\n",
       "      <td>HTO3</td>\n",
       "      <td>TotalSeq</td>\n",
       "    </tr>\n",
       "    <tr>\n",
       "      <th>HTO4</th>\n",
       "      <td>D_St_AAQ1_15_TI_88-AGTAAGTTCAGCGTA</td>\n",
       "      <td>1105556.0</td>\n",
       "      <td>D_St_AAQ1_15_TI_88</td>\n",
       "      <td>AGTAAGTTCAGCGTA</td>\n",
       "      <td>HTO4</td>\n",
       "      <td>TotalSeq</td>\n",
       "    </tr>\n",
       "    <tr>\n",
       "      <th>HTO5</th>\n",
       "      <td>E_St_AAQ2_15_Proxcolon_82-AAGTATCGTTTCGCA</td>\n",
       "      <td>225692.0</td>\n",
       "      <td>E_St_AAQ2_15_Proxcolon_82</td>\n",
       "      <td>AAGTATCGTTTCGCA</td>\n",
       "      <td>HTO5</td>\n",
       "      <td>TotalSeq</td>\n",
       "    </tr>\n",
       "    <tr>\n",
       "      <th>HTO6</th>\n",
       "      <td>F_St_AAQ3_15_Distcolon_87-GGTTGCCAGATGTCA</td>\n",
       "      <td>328078.0</td>\n",
       "      <td>F_St_AAQ3_15_Distcolon_87</td>\n",
       "      <td>GGTTGCCAGATGTCA</td>\n",
       "      <td>HTO6</td>\n",
       "      <td>TotalSeq</td>\n",
       "    </tr>\n",
       "    <tr>\n",
       "      <th>HTO7</th>\n",
       "      <td>G_St_AAP1_22_TI_92-TGTCTTTCCTGCCAG</td>\n",
       "      <td>249863.0</td>\n",
       "      <td>G_St_AAP1_22_TI_92</td>\n",
       "      <td>TGTCTTTCCTGCCAG</td>\n",
       "      <td>HTO7</td>\n",
       "      <td>TotalSeq</td>\n",
       "    </tr>\n",
       "    <tr>\n",
       "      <th>HTO8</th>\n",
       "      <td>H_St__AAP2_22_Proxcolon_91-CTCCTCTGCAATTAC</td>\n",
       "      <td>624830.0</td>\n",
       "      <td>H_St__AAP2_22_Proxcolon_91</td>\n",
       "      <td>CTCCTCTGCAATTAC</td>\n",
       "      <td>HTO8</td>\n",
       "      <td>TotalSeq</td>\n",
       "    </tr>\n",
       "    <tr>\n",
       "      <th>HTO9</th>\n",
       "      <td>I_St_AAP3_22_Distcolon_94-CAGTAGTCACGGTCA</td>\n",
       "      <td>212123.0</td>\n",
       "      <td>I_St_AAP3_22_Distcolon_94</td>\n",
       "      <td>CAGTAGTCACGGTCA</td>\n",
       "      <td>HTO9</td>\n",
       "      <td>TotalSeq</td>\n",
       "    </tr>\n",
       "  </tbody>\n",
       "</table>\n",
       "</div>"
      ],
      "text/plain": [
       "                                                  0  total_counts  \\\n",
       "HTO_tag                                                             \n",
       "HTO1             A_St_AAU1_10_TI_78-GTCAACTCTTTAGCG      634211.0   \n",
       "HTO2      B_St_AAU2_10_Proxcolon_90-TGATGGCCTATTGGG    20950064.0   \n",
       "HTO3      C_St_AAU3_10_Distcolon_79-TTCCGCCTCTCTTTG     1489625.0   \n",
       "HTO4             D_St_AAQ1_15_TI_88-AGTAAGTTCAGCGTA     1105556.0   \n",
       "HTO5      E_St_AAQ2_15_Proxcolon_82-AAGTATCGTTTCGCA      225692.0   \n",
       "HTO6      F_St_AAQ3_15_Distcolon_87-GGTTGCCAGATGTCA      328078.0   \n",
       "HTO7             G_St_AAP1_22_TI_92-TGTCTTTCCTGCCAG      249863.0   \n",
       "HTO8     H_St__AAP2_22_Proxcolon_91-CTCCTCTGCAATTAC      624830.0   \n",
       "HTO9      I_St_AAP3_22_Distcolon_94-CAGTAGTCACGGTCA      212123.0   \n",
       "\n",
       "                           HTO_info     HTO_sequence HTO_tag  Tag_type  \n",
       "HTO_tag                                                                 \n",
       "HTO1             A_St_AAU1_10_TI_78  GTCAACTCTTTAGCG    HTO1  TotalSeq  \n",
       "HTO2      B_St_AAU2_10_Proxcolon_90  TGATGGCCTATTGGG    HTO2  TotalSeq  \n",
       "HTO3      C_St_AAU3_10_Distcolon_79  TTCCGCCTCTCTTTG    HTO3  TotalSeq  \n",
       "HTO4             D_St_AAQ1_15_TI_88  AGTAAGTTCAGCGTA    HTO4  TotalSeq  \n",
       "HTO5      E_St_AAQ2_15_Proxcolon_82  AAGTATCGTTTCGCA    HTO5  TotalSeq  \n",
       "HTO6      F_St_AAQ3_15_Distcolon_87  GGTTGCCAGATGTCA    HTO6  TotalSeq  \n",
       "HTO7             G_St_AAP1_22_TI_92  TGTCTTTCCTGCCAG    HTO7  TotalSeq  \n",
       "HTO8     H_St__AAP2_22_Proxcolon_91  CTCCTCTGCAATTAC    HTO8  TotalSeq  \n",
       "HTO9      I_St_AAP3_22_Distcolon_94  CAGTAGTCACGGTCA    HTO9  TotalSeq  "
      ]
     },
     "execution_count": 175,
     "metadata": {},
     "output_type": "execute_result"
    }
   ],
   "source": [
    "adata.var"
   ]
  },
  {
   "cell_type": "code",
   "execution_count": 176,
   "metadata": {},
   "outputs": [],
   "source": [
    "# Extracting gene names, assuming they are stored in adata.var_names\n",
    "HTO_id = adata.var_names\n",
    "\n",
    "# Calculating counts for each gene in each cell\n",
    "# The operation depends on whether the data is stored as a dense matrix or a sparse matrix.\n",
    "if sparse.issparse(adata.X):\n",
    "    gene_counts = pd.DataFrame(adata.X.toarray(), index=adata.obs_names, columns=HTO_id)\n",
    "else:\n",
    "    gene_counts = pd.DataFrame(adata.X, index=adata.obs_names, columns=HTO_id)\n",
    "\n",
    "# Because you have only 9 genes, you can add each gene's counts as a separate column in adata.obs directly\n",
    "for HTO in HTO_id:\n",
    "    adata.obs[HTO] = gene_counts[HTO]"
   ]
  },
  {
   "cell_type": "code",
   "execution_count": 177,
   "metadata": {},
   "outputs": [
    {
     "name": "stdout",
     "output_type": "stream",
     "text": [
      "Please cite HashSolo paper:\n",
      "https://www.cell.com/cell-systems/fulltext/S2405-4712(20)30195-2\n"
     ]
    }
   ],
   "source": [
    "cell_hashing_columns=adata.var.index.values\n",
    "sc.external.pp.hashsolo(adata, cell_hashing_columns)"
   ]
  },
  {
   "cell_type": "code",
   "execution_count": 178,
   "metadata": {},
   "outputs": [],
   "source": [
    "adata.obs['Digestion_Condition'] = 'EPCAM-'\n",
    "adata.obs['GEO_Accession'] = 'GSM4808356'"
   ]
  },
  {
   "cell_type": "code",
   "execution_count": 179,
   "metadata": {},
   "outputs": [],
   "source": [
    "adata.var.columns = adata.var.columns.map(str)\n",
    "adata.obs.columns = adata.obs.columns.map(str)"
   ]
  },
  {
   "cell_type": "code",
   "execution_count": 180,
   "metadata": {},
   "outputs": [],
   "source": [
    "adata.write_h5ad('/mnt/LaCIE/annaM/gut_project/raw_data/Fawkner-Corbett_2021/scRNA_seq_data/GSE158702_RAW_2/GSM4808356_HTO_stromal_4/HTO_stromal_4/GSM4808356_HTO_adata.h5ad')"
   ]
  },
  {
   "cell_type": "code",
   "execution_count": 181,
   "metadata": {},
   "outputs": [],
   "source": [
    "del adata"
   ]
  },
  {
   "cell_type": "markdown",
   "metadata": {},
   "source": [
    "* Sample GSM4808357_Pool5_HTO"
   ]
  },
  {
   "cell_type": "code",
   "execution_count": 183,
   "metadata": {},
   "outputs": [
    {
     "name": "stderr",
     "output_type": "stream",
     "text": [
      "/home/amaguza/miniforge3/envs/scanpy_env/lib/python3.11/site-packages/anndata/_core/anndata.py:121: ImplicitModificationWarning: Transforming to str index.\n",
      "  warnings.warn(\"Transforming to str index.\", ImplicitModificationWarning)\n",
      "/home/amaguza/miniforge3/envs/scanpy_env/lib/python3.11/site-packages/anndata/_core/anndata.py:121: ImplicitModificationWarning: Transforming to str index.\n",
      "  warnings.warn(\"Transforming to str index.\", ImplicitModificationWarning)\n",
      "/home/amaguza/miniforge3/envs/scanpy_env/lib/python3.11/site-packages/anndata/_core/anndata.py:1113: FutureWarning: is_categorical_dtype is deprecated and will be removed in a future version. Use isinstance(dtype, CategoricalDtype) instead\n",
      "  if not is_categorical_dtype(df_full[k]):\n"
     ]
    }
   ],
   "source": [
    "barcodes = pd.read_csv('/mnt/LaCIE/annaM/gut_project/raw_data/Fawkner-Corbett_2021/scRNA_seq_data/GSE158702_RAW_2/GSM4808357_Pool5_HTO/Pool5_HTO/umi_count/barcodes.tsv', sep='\\t', header=None)\n",
    "features = pd.read_csv('/mnt/LaCIE/annaM/gut_project/raw_data/Fawkner-Corbett_2021/scRNA_seq_data/GSE158702_RAW_2/GSM4808357_Pool5_HTO/Pool5_HTO/umi_count/features.tsv', sep='\\t', header=None)\n",
    "matrix = sc.read_mtx('/mnt/LaCIE/annaM/gut_project/raw_data/Fawkner-Corbett_2021/scRNA_seq_data/GSE158702_RAW_2/GSM4808357_Pool5_HTO/Pool5_HTO/umi_count/matrix.mtx')\n",
    "\n",
    "adata = sc.AnnData(X=np.transpose(matrix.X), obs=barcodes, var=features)\n",
    "\n",
    "# Calculate the total counts for each gene (var)\n",
    "total_counts = np.array(adata.X.sum(axis=0)).flatten()\n",
    "\n",
    "# Add these total counts to adata.var\n",
    "adata.var['total_counts'] = total_counts\n",
    "\n",
    "# if adata.var['total_counts'] is equal zero then remove the row\n",
    "adata = adata[:, adata.var['total_counts'] > 0]\n",
    "\n",
    "adata.obs.index = adata.obs[0]\n",
    "\n",
    "adata.obs.index.name = 'barcodes'"
   ]
  },
  {
   "cell_type": "code",
   "execution_count": 187,
   "metadata": {},
   "outputs": [
    {
     "data": {
      "text/html": [
       "<div>\n",
       "<style scoped>\n",
       "    .dataframe tbody tr th:only-of-type {\n",
       "        vertical-align: middle;\n",
       "    }\n",
       "\n",
       "    .dataframe tbody tr th {\n",
       "        vertical-align: top;\n",
       "    }\n",
       "\n",
       "    .dataframe thead th {\n",
       "        text-align: right;\n",
       "    }\n",
       "</style>\n",
       "<table border=\"1\" class=\"dataframe\">\n",
       "  <thead>\n",
       "    <tr style=\"text-align: right;\">\n",
       "      <th></th>\n",
       "      <th>0</th>\n",
       "      <th>total_counts</th>\n",
       "      <th>HTO_info</th>\n",
       "      <th>HTO_sequence</th>\n",
       "    </tr>\n",
       "  </thead>\n",
       "  <tbody>\n",
       "    <tr>\n",
       "      <th>0</th>\n",
       "      <td>T1-GTCAACTCTTTAGCG</td>\n",
       "      <td>723946.0</td>\n",
       "      <td>T1</td>\n",
       "      <td>GTCAACTCTTTAGCG</td>\n",
       "    </tr>\n",
       "    <tr>\n",
       "      <th>1</th>\n",
       "      <td>T2-TGATGGCCTATTGGG</td>\n",
       "      <td>1220410.0</td>\n",
       "      <td>T2</td>\n",
       "      <td>TGATGGCCTATTGGG</td>\n",
       "    </tr>\n",
       "    <tr>\n",
       "      <th>2</th>\n",
       "      <td>T3-TTCCGCCTCTCTTTG</td>\n",
       "      <td>726804.0</td>\n",
       "      <td>T3</td>\n",
       "      <td>TTCCGCCTCTCTTTG</td>\n",
       "    </tr>\n",
       "    <tr>\n",
       "      <th>3</th>\n",
       "      <td>T4-AGTAAGTTCAGCGTA</td>\n",
       "      <td>653428.0</td>\n",
       "      <td>T4</td>\n",
       "      <td>AGTAAGTTCAGCGTA</td>\n",
       "    </tr>\n",
       "    <tr>\n",
       "      <th>4</th>\n",
       "      <td>T5-AAGTATCGTTTCGCA</td>\n",
       "      <td>592991.0</td>\n",
       "      <td>T5</td>\n",
       "      <td>AAGTATCGTTTCGCA</td>\n",
       "    </tr>\n",
       "    <tr>\n",
       "      <th>5</th>\n",
       "      <td>T6-GGTTGCCAGATGTCA</td>\n",
       "      <td>696523.0</td>\n",
       "      <td>T6</td>\n",
       "      <td>GGTTGCCAGATGTCA</td>\n",
       "    </tr>\n",
       "    <tr>\n",
       "      <th>6</th>\n",
       "      <td>unmapped</td>\n",
       "      <td>120716.0</td>\n",
       "      <td>unmapped</td>\n",
       "      <td>None</td>\n",
       "    </tr>\n",
       "  </tbody>\n",
       "</table>\n",
       "</div>"
      ],
      "text/plain": [
       "                    0  total_counts  HTO_info     HTO_sequence\n",
       "0  T1-GTCAACTCTTTAGCG      723946.0        T1  GTCAACTCTTTAGCG\n",
       "1  T2-TGATGGCCTATTGGG     1220410.0        T2  TGATGGCCTATTGGG\n",
       "2  T3-TTCCGCCTCTCTTTG      726804.0        T3  TTCCGCCTCTCTTTG\n",
       "3  T4-AGTAAGTTCAGCGTA      653428.0        T4  AGTAAGTTCAGCGTA\n",
       "4  T5-AAGTATCGTTTCGCA      592991.0        T5  AAGTATCGTTTCGCA\n",
       "5  T6-GGTTGCCAGATGTCA      696523.0        T6  GGTTGCCAGATGTCA\n",
       "6            unmapped      120716.0  unmapped             None"
      ]
     },
     "execution_count": 187,
     "metadata": {},
     "output_type": "execute_result"
    }
   ],
   "source": [
    "adata.var"
   ]
  },
  {
   "cell_type": "code",
   "execution_count": 186,
   "metadata": {},
   "outputs": [
    {
     "name": "stderr",
     "output_type": "stream",
     "text": [
      "/tmp/ipykernel_1281284/2246665826.py:1: ImplicitModificationWarning: Trying to modify attribute `.var` of view, initializing view as actual.\n",
      "  adata.var[['HTO_info', 'HTO_sequence']] = adata.var[0].str.split('-', expand=True)\n"
     ]
    }
   ],
   "source": [
    "adata.var[['HTO_info', 'HTO_sequence']] = adata.var[0].str.split('-', expand=True)"
   ]
  },
  {
   "cell_type": "code",
   "execution_count": 189,
   "metadata": {},
   "outputs": [],
   "source": [
    "# merge the tag_file with adata.var by HTO_sequence\n",
    "adata.var = adata.var.merge(tag_file, on='HTO_sequence', how='left')"
   ]
  },
  {
   "cell_type": "code",
   "execution_count": 193,
   "metadata": {},
   "outputs": [
    {
     "data": {
      "text/html": [
       "<div>\n",
       "<style scoped>\n",
       "    .dataframe tbody tr th:only-of-type {\n",
       "        vertical-align: middle;\n",
       "    }\n",
       "\n",
       "    .dataframe tbody tr th {\n",
       "        vertical-align: top;\n",
       "    }\n",
       "\n",
       "    .dataframe thead th {\n",
       "        text-align: right;\n",
       "    }\n",
       "</style>\n",
       "<table border=\"1\" class=\"dataframe\">\n",
       "  <thead>\n",
       "    <tr style=\"text-align: right;\">\n",
       "      <th></th>\n",
       "      <th>0</th>\n",
       "      <th>total_counts</th>\n",
       "      <th>HTO_info</th>\n",
       "      <th>HTO_sequence</th>\n",
       "      <th>HTO_tag</th>\n",
       "      <th>Tag_type</th>\n",
       "    </tr>\n",
       "    <tr>\n",
       "      <th>HTO_tag</th>\n",
       "      <th></th>\n",
       "      <th></th>\n",
       "      <th></th>\n",
       "      <th></th>\n",
       "      <th></th>\n",
       "      <th></th>\n",
       "    </tr>\n",
       "  </thead>\n",
       "  <tbody>\n",
       "    <tr>\n",
       "      <th>HTO1</th>\n",
       "      <td>T1-GTCAACTCTTTAGCG</td>\n",
       "      <td>723946.0</td>\n",
       "      <td>T1</td>\n",
       "      <td>GTCAACTCTTTAGCG</td>\n",
       "      <td>HTO1</td>\n",
       "      <td>TotalSeq</td>\n",
       "    </tr>\n",
       "    <tr>\n",
       "      <th>HTO2</th>\n",
       "      <td>T2-TGATGGCCTATTGGG</td>\n",
       "      <td>1220410.0</td>\n",
       "      <td>T2</td>\n",
       "      <td>TGATGGCCTATTGGG</td>\n",
       "      <td>HTO2</td>\n",
       "      <td>TotalSeq</td>\n",
       "    </tr>\n",
       "    <tr>\n",
       "      <th>HTO3</th>\n",
       "      <td>T3-TTCCGCCTCTCTTTG</td>\n",
       "      <td>726804.0</td>\n",
       "      <td>T3</td>\n",
       "      <td>TTCCGCCTCTCTTTG</td>\n",
       "      <td>HTO3</td>\n",
       "      <td>TotalSeq</td>\n",
       "    </tr>\n",
       "    <tr>\n",
       "      <th>HTO4</th>\n",
       "      <td>T4-AGTAAGTTCAGCGTA</td>\n",
       "      <td>653428.0</td>\n",
       "      <td>T4</td>\n",
       "      <td>AGTAAGTTCAGCGTA</td>\n",
       "      <td>HTO4</td>\n",
       "      <td>TotalSeq</td>\n",
       "    </tr>\n",
       "    <tr>\n",
       "      <th>HTO5</th>\n",
       "      <td>T5-AAGTATCGTTTCGCA</td>\n",
       "      <td>592991.0</td>\n",
       "      <td>T5</td>\n",
       "      <td>AAGTATCGTTTCGCA</td>\n",
       "      <td>HTO5</td>\n",
       "      <td>TotalSeq</td>\n",
       "    </tr>\n",
       "    <tr>\n",
       "      <th>HTO6</th>\n",
       "      <td>T6-GGTTGCCAGATGTCA</td>\n",
       "      <td>696523.0</td>\n",
       "      <td>T6</td>\n",
       "      <td>GGTTGCCAGATGTCA</td>\n",
       "      <td>HTO6</td>\n",
       "      <td>TotalSeq</td>\n",
       "    </tr>\n",
       "    <tr>\n",
       "      <th>NaN</th>\n",
       "      <td>unmapped</td>\n",
       "      <td>120716.0</td>\n",
       "      <td>unmapped</td>\n",
       "      <td>None</td>\n",
       "      <td>NaN</td>\n",
       "      <td>NaN</td>\n",
       "    </tr>\n",
       "  </tbody>\n",
       "</table>\n",
       "</div>"
      ],
      "text/plain": [
       "                          0  total_counts  HTO_info     HTO_sequence HTO_tag  \\\n",
       "HTO_tag                                                                        \n",
       "HTO1     T1-GTCAACTCTTTAGCG      723946.0        T1  GTCAACTCTTTAGCG    HTO1   \n",
       "HTO2     T2-TGATGGCCTATTGGG     1220410.0        T2  TGATGGCCTATTGGG    HTO2   \n",
       "HTO3     T3-TTCCGCCTCTCTTTG      726804.0        T3  TTCCGCCTCTCTTTG    HTO3   \n",
       "HTO4     T4-AGTAAGTTCAGCGTA      653428.0        T4  AGTAAGTTCAGCGTA    HTO4   \n",
       "HTO5     T5-AAGTATCGTTTCGCA      592991.0        T5  AAGTATCGTTTCGCA    HTO5   \n",
       "HTO6     T6-GGTTGCCAGATGTCA      696523.0        T6  GGTTGCCAGATGTCA    HTO6   \n",
       "NaN                unmapped      120716.0  unmapped             None     NaN   \n",
       "\n",
       "         Tag_type  \n",
       "HTO_tag            \n",
       "HTO1     TotalSeq  \n",
       "HTO2     TotalSeq  \n",
       "HTO3     TotalSeq  \n",
       "HTO4     TotalSeq  \n",
       "HTO5     TotalSeq  \n",
       "HTO6     TotalSeq  \n",
       "NaN           NaN  "
      ]
     },
     "execution_count": 193,
     "metadata": {},
     "output_type": "execute_result"
    }
   ],
   "source": [
    "adata.var "
   ]
  },
  {
   "cell_type": "code",
   "execution_count": 191,
   "metadata": {},
   "outputs": [],
   "source": [
    "adata.var[['HTO_tag', 'Tag_type', 'extra']] = adata.var['HTO_tag'].str.split('-', expand=True)\n",
    "del adata.var['extra']"
   ]
  },
  {
   "cell_type": "code",
   "execution_count": 192,
   "metadata": {},
   "outputs": [],
   "source": [
    "adata.var.index = adata.var['HTO_tag']"
   ]
  },
  {
   "cell_type": "markdown",
   "metadata": {},
   "source": [
    "+ Calculate HTO expression to find the sample with scanpy"
   ]
  },
  {
   "cell_type": "code",
   "execution_count": 194,
   "metadata": {},
   "outputs": [],
   "source": [
    "# Extracting gene names, assuming they are stored in adata.var_names\n",
    "HTO_id = adata.var_names\n",
    "\n",
    "# Calculating counts for each gene in each cell\n",
    "# The operation depends on whether the data is stored as a dense matrix or a sparse matrix.\n",
    "if sparse.issparse(adata.X):\n",
    "    gene_counts = pd.DataFrame(adata.X.toarray(), index=adata.obs_names, columns=HTO_id)\n",
    "else:\n",
    "    gene_counts = pd.DataFrame(adata.X, index=adata.obs_names, columns=HTO_id)\n",
    "\n",
    "# Because you have only 9 genes, you can add each gene's counts as a separate column in adata.obs directly\n",
    "for HTO in HTO_id:\n",
    "    adata.obs[HTO] = gene_counts[HTO]"
   ]
  },
  {
   "cell_type": "code",
   "execution_count": 195,
   "metadata": {},
   "outputs": [
    {
     "name": "stdout",
     "output_type": "stream",
     "text": [
      "Please cite HashSolo paper:\n",
      "https://www.cell.com/cell-systems/fulltext/S2405-4712(20)30195-2\n"
     ]
    }
   ],
   "source": [
    "cell_hashing_columns=adata.var.index.values\n",
    "sc.external.pp.hashsolo(adata, cell_hashing_columns)"
   ]
  },
  {
   "cell_type": "code",
   "execution_count": 197,
   "metadata": {},
   "outputs": [
    {
     "data": {
      "text/plain": [
       "Classification\n",
       "HTO1       13556\n",
       "HTO2       11386\n",
       "HTO3        9392\n",
       "HTO6        4400\n",
       "HTO5        4183\n",
       "HTO4        4061\n",
       "Doublet     2986\n",
       "Name: count, dtype: int64"
      ]
     },
     "execution_count": 197,
     "metadata": {},
     "output_type": "execute_result"
    }
   ],
   "source": [
    "adata.obs['Classification'].value_counts()"
   ]
  },
  {
   "cell_type": "code",
   "execution_count": 198,
   "metadata": {},
   "outputs": [],
   "source": [
    "adata.obs['Digestion_Condition'] = 'intestinal stromal and epithelial cells'\n",
    "adata.obs['GEO_Accession'] = 'GSM4808357'"
   ]
  },
  {
   "cell_type": "code",
   "execution_count": 201,
   "metadata": {},
   "outputs": [],
   "source": [
    "adata.var.columns = adata.var.columns.map(str)\n",
    "adata.obs.columns = adata.obs.columns.map(str)"
   ]
  },
  {
   "cell_type": "code",
   "execution_count": 205,
   "metadata": {},
   "outputs": [],
   "source": [
    "adata.obs.index = adata.obs.index.astype(str)\n",
    "adata.var.index = adata.var.index.astype(str)"
   ]
  },
  {
   "cell_type": "code",
   "execution_count": 206,
   "metadata": {},
   "outputs": [],
   "source": [
    "adata.write_h5ad('/mnt/LaCIE/annaM/gut_project/raw_data/Fawkner-Corbett_2021/scRNA_seq_data/GSE158702_RAW_2/GSM4808357_Pool5_HTO/GSM4808357_HTO_adata.h5ad')"
   ]
  },
  {
   "cell_type": "code",
   "execution_count": 207,
   "metadata": {},
   "outputs": [],
   "source": [
    "del adata"
   ]
  },
  {
   "cell_type": "markdown",
   "metadata": {},
   "source": [
    "+ Samples GSM4808358_Pool6_HTO"
   ]
  },
  {
   "cell_type": "code",
   "execution_count": 209,
   "metadata": {},
   "outputs": [
    {
     "name": "stderr",
     "output_type": "stream",
     "text": [
      "/home/amaguza/miniforge3/envs/scanpy_env/lib/python3.11/site-packages/anndata/_core/anndata.py:121: ImplicitModificationWarning: Transforming to str index.\n",
      "  warnings.warn(\"Transforming to str index.\", ImplicitModificationWarning)\n",
      "/home/amaguza/miniforge3/envs/scanpy_env/lib/python3.11/site-packages/anndata/_core/anndata.py:121: ImplicitModificationWarning: Transforming to str index.\n",
      "  warnings.warn(\"Transforming to str index.\", ImplicitModificationWarning)\n",
      "/home/amaguza/miniforge3/envs/scanpy_env/lib/python3.11/site-packages/anndata/_core/anndata.py:1113: FutureWarning: is_categorical_dtype is deprecated and will be removed in a future version. Use isinstance(dtype, CategoricalDtype) instead\n",
      "  if not is_categorical_dtype(df_full[k]):\n"
     ]
    }
   ],
   "source": [
    "barcodes = pd.read_csv('/mnt/LaCIE/annaM/gut_project/raw_data/Fawkner-Corbett_2021/scRNA_seq_data/GSE158702_RAW_2/GSM4808358_Pool6_HTO/Pool6_HTO/umi_count/barcodes.tsv', sep='\\t', header=None)\n",
    "features = pd.read_csv('/mnt/LaCIE/annaM/gut_project/raw_data/Fawkner-Corbett_2021/scRNA_seq_data/GSE158702_RAW_2/GSM4808358_Pool6_HTO/Pool6_HTO/umi_count/features.tsv', sep='\\t', header=None)\n",
    "matrix = sc.read_mtx('/mnt/LaCIE/annaM/gut_project/raw_data/Fawkner-Corbett_2021/scRNA_seq_data/GSE158702_RAW_2/GSM4808358_Pool6_HTO/Pool6_HTO/umi_count//matrix.mtx')\n",
    "\n",
    "adata = sc.AnnData(X=np.transpose(matrix.X), obs=barcodes, var=features)\n",
    "\n",
    "# Calculate the total counts for each gene (var)\n",
    "total_counts = np.array(adata.X.sum(axis=0)).flatten()\n",
    "\n",
    "# Add these total counts to adata.var\n",
    "adata.var['total_counts'] = total_counts\n",
    "\n",
    "# if adata.var['total_counts'] is equal zero then remove the row\n",
    "adata = adata[:, adata.var['total_counts'] > 0]\n",
    "\n",
    "adata.obs.index = adata.obs[0]\n",
    "\n",
    "adata.obs.index.name = 'barcodes'"
   ]
  },
  {
   "cell_type": "code",
   "execution_count": 211,
   "metadata": {},
   "outputs": [
    {
     "name": "stderr",
     "output_type": "stream",
     "text": [
      "/tmp/ipykernel_1281284/2246665826.py:1: ImplicitModificationWarning: Trying to modify attribute `.var` of view, initializing view as actual.\n",
      "  adata.var[['HTO_info', 'HTO_sequence']] = adata.var[0].str.split('-', expand=True)\n"
     ]
    }
   ],
   "source": [
    "adata.var[['HTO_info', 'HTO_sequence']] = adata.var[0].str.split('-', expand=True)"
   ]
  },
  {
   "cell_type": "code",
   "execution_count": 212,
   "metadata": {},
   "outputs": [],
   "source": [
    "# merge the tag_file with adata.var by HTO_sequence\n",
    "adata.var = adata.var.merge(tag_file, on='HTO_sequence', how='left')"
   ]
  },
  {
   "cell_type": "code",
   "execution_count": 213,
   "metadata": {},
   "outputs": [
    {
     "data": {
      "text/html": [
       "<div>\n",
       "<style scoped>\n",
       "    .dataframe tbody tr th:only-of-type {\n",
       "        vertical-align: middle;\n",
       "    }\n",
       "\n",
       "    .dataframe tbody tr th {\n",
       "        vertical-align: top;\n",
       "    }\n",
       "\n",
       "    .dataframe thead th {\n",
       "        text-align: right;\n",
       "    }\n",
       "</style>\n",
       "<table border=\"1\" class=\"dataframe\">\n",
       "  <thead>\n",
       "    <tr style=\"text-align: right;\">\n",
       "      <th></th>\n",
       "      <th>0</th>\n",
       "      <th>total_counts</th>\n",
       "      <th>HTO_info</th>\n",
       "      <th>HTO_sequence</th>\n",
       "      <th>HTO_tag</th>\n",
       "    </tr>\n",
       "  </thead>\n",
       "  <tbody>\n",
       "    <tr>\n",
       "      <th>0</th>\n",
       "      <td>T1-GTCAACTCTTTAGCG</td>\n",
       "      <td>3277226.0</td>\n",
       "      <td>T1</td>\n",
       "      <td>GTCAACTCTTTAGCG</td>\n",
       "      <td>HTO1-TotalSeq-tag</td>\n",
       "    </tr>\n",
       "    <tr>\n",
       "      <th>1</th>\n",
       "      <td>T2-TGATGGCCTATTGGG</td>\n",
       "      <td>3160727.0</td>\n",
       "      <td>T2</td>\n",
       "      <td>TGATGGCCTATTGGG</td>\n",
       "      <td>HTO2-TotalSeq-tag</td>\n",
       "    </tr>\n",
       "    <tr>\n",
       "      <th>2</th>\n",
       "      <td>T3-TTCCGCCTCTCTTTG</td>\n",
       "      <td>1728305.0</td>\n",
       "      <td>T3</td>\n",
       "      <td>TTCCGCCTCTCTTTG</td>\n",
       "      <td>HTO3-TotalSeq-tag</td>\n",
       "    </tr>\n",
       "    <tr>\n",
       "      <th>3</th>\n",
       "      <td>T4-AGTAAGTTCAGCGTA</td>\n",
       "      <td>975.0</td>\n",
       "      <td>T4</td>\n",
       "      <td>AGTAAGTTCAGCGTA</td>\n",
       "      <td>HTO4-TotalSeq-tag</td>\n",
       "    </tr>\n",
       "    <tr>\n",
       "      <th>4</th>\n",
       "      <td>T5-AAGTATCGTTTCGCA</td>\n",
       "      <td>336.0</td>\n",
       "      <td>T5</td>\n",
       "      <td>AAGTATCGTTTCGCA</td>\n",
       "      <td>HTO5-TotalSeq-tag</td>\n",
       "    </tr>\n",
       "    <tr>\n",
       "      <th>5</th>\n",
       "      <td>T6-GGTTGCCAGATGTCA</td>\n",
       "      <td>396.0</td>\n",
       "      <td>T6</td>\n",
       "      <td>GGTTGCCAGATGTCA</td>\n",
       "      <td>HTO6-TotalSeq-tag</td>\n",
       "    </tr>\n",
       "    <tr>\n",
       "      <th>6</th>\n",
       "      <td>unmapped</td>\n",
       "      <td>252031.0</td>\n",
       "      <td>unmapped</td>\n",
       "      <td>None</td>\n",
       "      <td>NaN</td>\n",
       "    </tr>\n",
       "  </tbody>\n",
       "</table>\n",
       "</div>"
      ],
      "text/plain": [
       "                    0  total_counts  HTO_info     HTO_sequence  \\\n",
       "0  T1-GTCAACTCTTTAGCG     3277226.0        T1  GTCAACTCTTTAGCG   \n",
       "1  T2-TGATGGCCTATTGGG     3160727.0        T2  TGATGGCCTATTGGG   \n",
       "2  T3-TTCCGCCTCTCTTTG     1728305.0        T3  TTCCGCCTCTCTTTG   \n",
       "3  T4-AGTAAGTTCAGCGTA         975.0        T4  AGTAAGTTCAGCGTA   \n",
       "4  T5-AAGTATCGTTTCGCA         336.0        T5  AAGTATCGTTTCGCA   \n",
       "5  T6-GGTTGCCAGATGTCA         396.0        T6  GGTTGCCAGATGTCA   \n",
       "6            unmapped      252031.0  unmapped             None   \n",
       "\n",
       "             HTO_tag  \n",
       "0  HTO1-TotalSeq-tag  \n",
       "1  HTO2-TotalSeq-tag  \n",
       "2  HTO3-TotalSeq-tag  \n",
       "3  HTO4-TotalSeq-tag  \n",
       "4  HTO5-TotalSeq-tag  \n",
       "5  HTO6-TotalSeq-tag  \n",
       "6                NaN  "
      ]
     },
     "execution_count": 213,
     "metadata": {},
     "output_type": "execute_result"
    }
   ],
   "source": [
    "adata.var "
   ]
  },
  {
   "cell_type": "code",
   "execution_count": 214,
   "metadata": {},
   "outputs": [],
   "source": [
    "adata.var[['HTO_tag', 'Tag_type', 'extra']] = adata.var['HTO_tag'].str.split('-', expand=True)\n",
    "del adata.var['extra']"
   ]
  },
  {
   "cell_type": "code",
   "execution_count": 215,
   "metadata": {},
   "outputs": [],
   "source": [
    "adata.var.index = adata.var['HTO_tag']"
   ]
  },
  {
   "cell_type": "markdown",
   "metadata": {},
   "source": [
    "+ Calculate HTO expression to find the sample with scanpy"
   ]
  },
  {
   "cell_type": "code",
   "execution_count": 217,
   "metadata": {},
   "outputs": [
    {
     "data": {
      "text/html": [
       "<div>\n",
       "<style scoped>\n",
       "    .dataframe tbody tr th:only-of-type {\n",
       "        vertical-align: middle;\n",
       "    }\n",
       "\n",
       "    .dataframe tbody tr th {\n",
       "        vertical-align: top;\n",
       "    }\n",
       "\n",
       "    .dataframe thead th {\n",
       "        text-align: right;\n",
       "    }\n",
       "</style>\n",
       "<table border=\"1\" class=\"dataframe\">\n",
       "  <thead>\n",
       "    <tr style=\"text-align: right;\">\n",
       "      <th></th>\n",
       "      <th>0</th>\n",
       "      <th>total_counts</th>\n",
       "      <th>HTO_info</th>\n",
       "      <th>HTO_sequence</th>\n",
       "      <th>HTO_tag</th>\n",
       "      <th>Tag_type</th>\n",
       "    </tr>\n",
       "    <tr>\n",
       "      <th>HTO_tag</th>\n",
       "      <th></th>\n",
       "      <th></th>\n",
       "      <th></th>\n",
       "      <th></th>\n",
       "      <th></th>\n",
       "      <th></th>\n",
       "    </tr>\n",
       "  </thead>\n",
       "  <tbody>\n",
       "    <tr>\n",
       "      <th>HTO1</th>\n",
       "      <td>T1-GTCAACTCTTTAGCG</td>\n",
       "      <td>3277226.0</td>\n",
       "      <td>T1</td>\n",
       "      <td>GTCAACTCTTTAGCG</td>\n",
       "      <td>HTO1</td>\n",
       "      <td>TotalSeq</td>\n",
       "    </tr>\n",
       "    <tr>\n",
       "      <th>HTO2</th>\n",
       "      <td>T2-TGATGGCCTATTGGG</td>\n",
       "      <td>3160727.0</td>\n",
       "      <td>T2</td>\n",
       "      <td>TGATGGCCTATTGGG</td>\n",
       "      <td>HTO2</td>\n",
       "      <td>TotalSeq</td>\n",
       "    </tr>\n",
       "    <tr>\n",
       "      <th>HTO3</th>\n",
       "      <td>T3-TTCCGCCTCTCTTTG</td>\n",
       "      <td>1728305.0</td>\n",
       "      <td>T3</td>\n",
       "      <td>TTCCGCCTCTCTTTG</td>\n",
       "      <td>HTO3</td>\n",
       "      <td>TotalSeq</td>\n",
       "    </tr>\n",
       "    <tr>\n",
       "      <th>HTO4</th>\n",
       "      <td>T4-AGTAAGTTCAGCGTA</td>\n",
       "      <td>975.0</td>\n",
       "      <td>T4</td>\n",
       "      <td>AGTAAGTTCAGCGTA</td>\n",
       "      <td>HTO4</td>\n",
       "      <td>TotalSeq</td>\n",
       "    </tr>\n",
       "    <tr>\n",
       "      <th>HTO5</th>\n",
       "      <td>T5-AAGTATCGTTTCGCA</td>\n",
       "      <td>336.0</td>\n",
       "      <td>T5</td>\n",
       "      <td>AAGTATCGTTTCGCA</td>\n",
       "      <td>HTO5</td>\n",
       "      <td>TotalSeq</td>\n",
       "    </tr>\n",
       "    <tr>\n",
       "      <th>HTO6</th>\n",
       "      <td>T6-GGTTGCCAGATGTCA</td>\n",
       "      <td>396.0</td>\n",
       "      <td>T6</td>\n",
       "      <td>GGTTGCCAGATGTCA</td>\n",
       "      <td>HTO6</td>\n",
       "      <td>TotalSeq</td>\n",
       "    </tr>\n",
       "    <tr>\n",
       "      <th>NaN</th>\n",
       "      <td>unmapped</td>\n",
       "      <td>252031.0</td>\n",
       "      <td>unmapped</td>\n",
       "      <td>None</td>\n",
       "      <td>NaN</td>\n",
       "      <td>NaN</td>\n",
       "    </tr>\n",
       "  </tbody>\n",
       "</table>\n",
       "</div>"
      ],
      "text/plain": [
       "                          0  total_counts  HTO_info     HTO_sequence HTO_tag  \\\n",
       "HTO_tag                                                                        \n",
       "HTO1     T1-GTCAACTCTTTAGCG     3277226.0        T1  GTCAACTCTTTAGCG    HTO1   \n",
       "HTO2     T2-TGATGGCCTATTGGG     3160727.0        T2  TGATGGCCTATTGGG    HTO2   \n",
       "HTO3     T3-TTCCGCCTCTCTTTG     1728305.0        T3  TTCCGCCTCTCTTTG    HTO3   \n",
       "HTO4     T4-AGTAAGTTCAGCGTA         975.0        T4  AGTAAGTTCAGCGTA    HTO4   \n",
       "HTO5     T5-AAGTATCGTTTCGCA         336.0        T5  AAGTATCGTTTCGCA    HTO5   \n",
       "HTO6     T6-GGTTGCCAGATGTCA         396.0        T6  GGTTGCCAGATGTCA    HTO6   \n",
       "NaN                unmapped      252031.0  unmapped             None     NaN   \n",
       "\n",
       "         Tag_type  \n",
       "HTO_tag            \n",
       "HTO1     TotalSeq  \n",
       "HTO2     TotalSeq  \n",
       "HTO3     TotalSeq  \n",
       "HTO4     TotalSeq  \n",
       "HTO5     TotalSeq  \n",
       "HTO6     TotalSeq  \n",
       "NaN           NaN  "
      ]
     },
     "execution_count": 217,
     "metadata": {},
     "output_type": "execute_result"
    }
   ],
   "source": [
    "adata.var"
   ]
  },
  {
   "cell_type": "code",
   "execution_count": 218,
   "metadata": {},
   "outputs": [],
   "source": [
    "# Extracting gene names, assuming they are stored in adata.var_names\n",
    "HTO_id = adata.var_names\n",
    "\n",
    "# Calculating counts for each gene in each cell\n",
    "# The operation depends on whether the data is stored as a dense matrix or a sparse matrix.\n",
    "if sparse.issparse(adata.X):\n",
    "    gene_counts = pd.DataFrame(adata.X.toarray(), index=adata.obs_names, columns=HTO_id)\n",
    "else:\n",
    "    gene_counts = pd.DataFrame(adata.X, index=adata.obs_names, columns=HTO_id)\n",
    "\n",
    "# Because you have only 9 genes, you can add each gene's counts as a separate column in adata.obs directly\n",
    "for HTO in HTO_id:\n",
    "    adata.obs[HTO] = gene_counts[HTO]"
   ]
  },
  {
   "cell_type": "code",
   "execution_count": 219,
   "metadata": {},
   "outputs": [
    {
     "name": "stdout",
     "output_type": "stream",
     "text": [
      "Please cite HashSolo paper:\n",
      "https://www.cell.com/cell-systems/fulltext/S2405-4712(20)30195-2\n"
     ]
    }
   ],
   "source": [
    "cell_hashing_columns=adata.var.index.values\n",
    "sc.external.pp.hashsolo(adata, cell_hashing_columns)"
   ]
  },
  {
   "cell_type": "code",
   "execution_count": 220,
   "metadata": {},
   "outputs": [],
   "source": [
    "adata.obs['Digestion_Condition'] = 'intestinal stromal and epithelial cells'\n",
    "adata.obs['GEO_Accession'] = 'GSM4808358'"
   ]
  },
  {
   "cell_type": "code",
   "execution_count": 221,
   "metadata": {},
   "outputs": [],
   "source": [
    "adata.var.columns = adata.var.columns.map(str)\n",
    "adata.obs.columns = adata.obs.columns.map(str)"
   ]
  },
  {
   "cell_type": "code",
   "execution_count": 222,
   "metadata": {},
   "outputs": [],
   "source": [
    "adata.obs.index = adata.obs.index.astype(str)\n",
    "adata.var.index = adata.var.index.astype(str)"
   ]
  },
  {
   "cell_type": "code",
   "execution_count": 223,
   "metadata": {},
   "outputs": [],
   "source": [
    "adata.write_h5ad('/mnt/LaCIE/annaM/gut_project/raw_data/Fawkner-Corbett_2021/scRNA_seq_data/GSE158702_RAW_2/GSM4808358_Pool6_HTO/GSM4808358_HTO_adata.h5ad')"
   ]
  },
  {
   "cell_type": "code",
   "execution_count": 224,
   "metadata": {},
   "outputs": [],
   "source": [
    "del adata"
   ]
  },
  {
   "cell_type": "markdown",
   "metadata": {},
   "source": [
    "+ Samples GSM4808359_ADT1"
   ]
  },
  {
   "cell_type": "code",
   "execution_count": 231,
   "metadata": {},
   "outputs": [
    {
     "name": "stderr",
     "output_type": "stream",
     "text": [
      "/home/amaguza/miniforge3/envs/scanpy_env/lib/python3.11/site-packages/anndata/_core/anndata.py:121: ImplicitModificationWarning: Transforming to str index.\n",
      "  warnings.warn(\"Transforming to str index.\", ImplicitModificationWarning)\n",
      "/home/amaguza/miniforge3/envs/scanpy_env/lib/python3.11/site-packages/anndata/_core/anndata.py:121: ImplicitModificationWarning: Transforming to str index.\n",
      "  warnings.warn(\"Transforming to str index.\", ImplicitModificationWarning)\n",
      "/home/amaguza/miniforge3/envs/scanpy_env/lib/python3.11/site-packages/anndata/_core/anndata.py:1113: FutureWarning: is_categorical_dtype is deprecated and will be removed in a future version. Use isinstance(dtype, CategoricalDtype) instead\n",
      "  if not is_categorical_dtype(df_full[k]):\n"
     ]
    }
   ],
   "source": [
    "barcodes = pd.read_csv('/mnt/LaCIE/annaM/gut_project/raw_data/Fawkner-Corbett_2021/scRNA_seq_data/GSE158702_RAW_2/GSM4808359_ADT1/ADT1/umi_count/barcodes.tsv', sep='\\t', header=None)\n",
    "features = pd.read_csv('/mnt/LaCIE/annaM/gut_project/raw_data/Fawkner-Corbett_2021/scRNA_seq_data/GSE158702_RAW_2/GSM4808359_ADT1/ADT1/umi_count/features.tsv', sep='\\t', header=None)\n",
    "matrix = sc.read_mtx('/mnt/LaCIE/annaM/gut_project/raw_data/Fawkner-Corbett_2021/scRNA_seq_data/GSE158702_RAW_2/GSM4808359_ADT1/ADT1/umi_count//matrix.mtx')\n",
    "\n",
    "features.loc[9] = ['extra']\n",
    "\n",
    "adata = sc.AnnData(X=np.transpose(matrix.X), obs=barcodes, var=features)\n",
    "\n",
    "# Calculate the total counts for each gene (var)\n",
    "total_counts = np.array(adata.X.sum(axis=0)).flatten()\n",
    "\n",
    "# Add these total counts to adata.var\n",
    "adata.var['total_counts'] = total_counts\n",
    "\n",
    "# if adata.var['total_counts'] is equal zero then remove the row\n",
    "adata = adata[:, adata.var['total_counts'] > 0]\n",
    "\n",
    "adata.obs.index = adata.obs[0]\n",
    "\n",
    "adata.obs.index.name = 'barcodes'"
   ]
  },
  {
   "cell_type": "markdown",
   "metadata": {},
   "source": [
    "+ Calculate HTO expression to find the sample with scanpy"
   ]
  },
  {
   "cell_type": "code",
   "execution_count": 234,
   "metadata": {},
   "outputs": [
    {
     "data": {
      "text/html": [
       "<div>\n",
       "<style scoped>\n",
       "    .dataframe tbody tr th:only-of-type {\n",
       "        vertical-align: middle;\n",
       "    }\n",
       "\n",
       "    .dataframe tbody tr th {\n",
       "        vertical-align: top;\n",
       "    }\n",
       "\n",
       "    .dataframe thead th {\n",
       "        text-align: right;\n",
       "    }\n",
       "</style>\n",
       "<table border=\"1\" class=\"dataframe\">\n",
       "  <thead>\n",
       "    <tr style=\"text-align: right;\">\n",
       "      <th></th>\n",
       "      <th>0</th>\n",
       "      <th>total_counts</th>\n",
       "      <th>HTO_tag</th>\n",
       "      <th>HTO_sequence</th>\n",
       "      <th>Tag_type</th>\n",
       "    </tr>\n",
       "    <tr>\n",
       "      <th>HTO_tag</th>\n",
       "      <th></th>\n",
       "      <th></th>\n",
       "      <th></th>\n",
       "      <th></th>\n",
       "      <th></th>\n",
       "    </tr>\n",
       "  </thead>\n",
       "  <tbody>\n",
       "    <tr>\n",
       "      <th>ADT1</th>\n",
       "      <td>ADT1-CATGATTGGCTC</td>\n",
       "      <td>16668808.0</td>\n",
       "      <td>ADT1</td>\n",
       "      <td>CATGATTGGCTC</td>\n",
       "      <td>In-house-tag</td>\n",
       "    </tr>\n",
       "    <tr>\n",
       "      <th>ADT2</th>\n",
       "      <td>ADT2-GAGGCGATTGAT</td>\n",
       "      <td>63839284.0</td>\n",
       "      <td>ADT2</td>\n",
       "      <td>GAGGCGATTGAT</td>\n",
       "      <td>In-house-tag</td>\n",
       "    </tr>\n",
       "    <tr>\n",
       "      <th>ADT3</th>\n",
       "      <td>ADT3-TGTCCGGCAATA</td>\n",
       "      <td>4504660.0</td>\n",
       "      <td>ADT3</td>\n",
       "      <td>TGTCCGGCAATA</td>\n",
       "      <td>In-house-tag</td>\n",
       "    </tr>\n",
       "    <tr>\n",
       "      <th>ADT4</th>\n",
       "      <td>ADT4-TGGTGAACCTGG</td>\n",
       "      <td>8485592.0</td>\n",
       "      <td>ADT4</td>\n",
       "      <td>TGGTGAACCTGG</td>\n",
       "      <td>In-house-tag</td>\n",
       "    </tr>\n",
       "    <tr>\n",
       "      <th>ADT5</th>\n",
       "      <td>ADT5-GATCGTAATACC</td>\n",
       "      <td>6766251.0</td>\n",
       "      <td>ADT5</td>\n",
       "      <td>GATCGTAATACC</td>\n",
       "      <td>In-house-tag</td>\n",
       "    </tr>\n",
       "    <tr>\n",
       "      <th>ADT6</th>\n",
       "      <td>ADT6-AAGCGCTTGGCA</td>\n",
       "      <td>25693644.0</td>\n",
       "      <td>ADT6</td>\n",
       "      <td>AAGCGCTTGGCA</td>\n",
       "      <td>In-house-tag</td>\n",
       "    </tr>\n",
       "    <tr>\n",
       "      <th>ADT7</th>\n",
       "      <td>ADT7-CATCGGTGTACA</td>\n",
       "      <td>4045379.0</td>\n",
       "      <td>ADT7</td>\n",
       "      <td>CATCGGTGTACA</td>\n",
       "      <td>In-house-tag</td>\n",
       "    </tr>\n",
       "    <tr>\n",
       "      <th>ADT8</th>\n",
       "      <td>ADT8-GTCTAGACTTCG</td>\n",
       "      <td>13197939.0</td>\n",
       "      <td>ADT8</td>\n",
       "      <td>GTCTAGACTTCG</td>\n",
       "      <td>In-house-tag</td>\n",
       "    </tr>\n",
       "    <tr>\n",
       "      <th>ADT9</th>\n",
       "      <td>ADT9-CGAAGAAGGAGT</td>\n",
       "      <td>6214982.0</td>\n",
       "      <td>ADT9</td>\n",
       "      <td>CGAAGAAGGAGT</td>\n",
       "      <td>In-house-tag</td>\n",
       "    </tr>\n",
       "  </tbody>\n",
       "</table>\n",
       "</div>"
      ],
      "text/plain": [
       "                         0  total_counts HTO_tag  HTO_sequence      Tag_type\n",
       "HTO_tag                                                                     \n",
       "ADT1     ADT1-CATGATTGGCTC    16668808.0    ADT1  CATGATTGGCTC  In-house-tag\n",
       "ADT2     ADT2-GAGGCGATTGAT    63839284.0    ADT2  GAGGCGATTGAT  In-house-tag\n",
       "ADT3     ADT3-TGTCCGGCAATA     4504660.0    ADT3  TGTCCGGCAATA  In-house-tag\n",
       "ADT4     ADT4-TGGTGAACCTGG     8485592.0    ADT4  TGGTGAACCTGG  In-house-tag\n",
       "ADT5     ADT5-GATCGTAATACC     6766251.0    ADT5  GATCGTAATACC  In-house-tag\n",
       "ADT6     ADT6-AAGCGCTTGGCA    25693644.0    ADT6  AAGCGCTTGGCA  In-house-tag\n",
       "ADT7     ADT7-CATCGGTGTACA     4045379.0    ADT7  CATCGGTGTACA  In-house-tag\n",
       "ADT8     ADT8-GTCTAGACTTCG    13197939.0    ADT8  GTCTAGACTTCG  In-house-tag\n",
       "ADT9     ADT9-CGAAGAAGGAGT     6214982.0    ADT9  CGAAGAAGGAGT  In-house-tag"
      ]
     },
     "execution_count": 234,
     "metadata": {},
     "output_type": "execute_result"
    }
   ],
   "source": [
    "adata.var"
   ]
  },
  {
   "cell_type": "code",
   "execution_count": 233,
   "metadata": {},
   "outputs": [
    {
     "name": "stderr",
     "output_type": "stream",
     "text": [
      "/tmp/ipykernel_1281284/3459939120.py:1: ImplicitModificationWarning: Trying to modify attribute `.var` of view, initializing view as actual.\n",
      "  adata.var[['HTO_tag', 'HTO_sequence']] = adata.var[0].str.split('-', expand=True)\n"
     ]
    }
   ],
   "source": [
    "adata.var[['HTO_tag', 'HTO_sequence']] = adata.var[0].str.split('-', expand=True)\n",
    "\n",
    "adata.var.index = adata.var['HTO_tag']\n",
    "\n",
    "adata.var['Tag_type'] = 'In-house-tag'"
   ]
  },
  {
   "cell_type": "code",
   "execution_count": 235,
   "metadata": {},
   "outputs": [],
   "source": [
    "# Extracting gene names, assuming they are stored in adata.var_names\n",
    "HTO_id = adata.var_names\n",
    "\n",
    "# Calculating counts for each gene in each cell\n",
    "# The operation depends on whether the data is stored as a dense matrix or a sparse matrix.\n",
    "if sparse.issparse(adata.X):\n",
    "    gene_counts = pd.DataFrame(adata.X.toarray(), index=adata.obs_names, columns=HTO_id)\n",
    "else:\n",
    "    gene_counts = pd.DataFrame(adata.X, index=adata.obs_names, columns=HTO_id)\n",
    "\n",
    "# Because you have only 9 genes, you can add each gene's counts as a separate column in adata.obs directly\n",
    "for HTO in HTO_id:\n",
    "    adata.obs[HTO] = gene_counts[HTO]"
   ]
  },
  {
   "cell_type": "code",
   "execution_count": 236,
   "metadata": {},
   "outputs": [
    {
     "name": "stdout",
     "output_type": "stream",
     "text": [
      "Please cite HashSolo paper:\n",
      "https://www.cell.com/cell-systems/fulltext/S2405-4712(20)30195-2\n"
     ]
    }
   ],
   "source": [
    "cell_hashing_columns=adata.var.index.values\n",
    "sc.external.pp.hashsolo(adata, cell_hashing_columns)"
   ]
  },
  {
   "cell_type": "code",
   "execution_count": 237,
   "metadata": {},
   "outputs": [],
   "source": [
    "adata.obs['Digestion_Condition'] = 'EPCAM+'\n",
    "adata.obs['GEO_Accession'] = 'GSM4808359'"
   ]
  },
  {
   "cell_type": "code",
   "execution_count": 238,
   "metadata": {},
   "outputs": [],
   "source": [
    "adata.var.columns = adata.var.columns.map(str)\n",
    "adata.obs.columns = adata.obs.columns.map(str)"
   ]
  },
  {
   "cell_type": "code",
   "execution_count": 239,
   "metadata": {},
   "outputs": [],
   "source": [
    "adata.write_h5ad('/mnt/LaCIE/annaM/gut_project/raw_data/Fawkner-Corbett_2021/scRNA_seq_data/GSE158702_RAW_2/GSM4808359_ADT1/GGSM4808359_ADT_adata.h5ad')"
   ]
  },
  {
   "cell_type": "code",
   "execution_count": 240,
   "metadata": {},
   "outputs": [],
   "source": [
    "del adata"
   ]
  },
  {
   "cell_type": "markdown",
   "metadata": {},
   "source": [
    "+ Samples GSM4808360_ADT2"
   ]
  },
  {
   "cell_type": "code",
   "execution_count": 241,
   "metadata": {},
   "outputs": [
    {
     "name": "stderr",
     "output_type": "stream",
     "text": [
      "/home/amaguza/miniforge3/envs/scanpy_env/lib/python3.11/site-packages/anndata/_core/anndata.py:121: ImplicitModificationWarning: Transforming to str index.\n",
      "  warnings.warn(\"Transforming to str index.\", ImplicitModificationWarning)\n",
      "/home/amaguza/miniforge3/envs/scanpy_env/lib/python3.11/site-packages/anndata/_core/anndata.py:121: ImplicitModificationWarning: Transforming to str index.\n",
      "  warnings.warn(\"Transforming to str index.\", ImplicitModificationWarning)\n",
      "/home/amaguza/miniforge3/envs/scanpy_env/lib/python3.11/site-packages/anndata/_core/anndata.py:1113: FutureWarning: is_categorical_dtype is deprecated and will be removed in a future version. Use isinstance(dtype, CategoricalDtype) instead\n",
      "  if not is_categorical_dtype(df_full[k]):\n"
     ]
    }
   ],
   "source": [
    "barcodes = pd.read_csv('/mnt/LaCIE/annaM/gut_project/raw_data/Fawkner-Corbett_2021/scRNA_seq_data/GSE158702_RAW_2/GSM4808360_ADT2/ADT2/umi_count/barcodes.tsv', sep='\\t', header=None)\n",
    "features = pd.read_csv('/mnt/LaCIE/annaM/gut_project/raw_data/Fawkner-Corbett_2021/scRNA_seq_data/GSE158702_RAW_2/GSM4808360_ADT2/ADT2/umi_count/features.tsv', sep='\\t', header=None)\n",
    "matrix = sc.read_mtx('/mnt/LaCIE/annaM/gut_project/raw_data/Fawkner-Corbett_2021/scRNA_seq_data/GSE158702_RAW_2/GSM4808360_ADT2/ADT2/umi_count//matrix.mtx')\n",
    "\n",
    "features.loc[9] = ['extra']\n",
    "\n",
    "adata = sc.AnnData(X=np.transpose(matrix.X), obs=barcodes, var=features)\n",
    "\n",
    "# Calculate the total counts for each gene (var)\n",
    "total_counts = np.array(adata.X.sum(axis=0)).flatten()\n",
    "\n",
    "# Add these total counts to adata.var\n",
    "adata.var['total_counts'] = total_counts\n",
    "\n",
    "# if adata.var['total_counts'] is equal zero then remove the row\n",
    "adata = adata[:, adata.var['total_counts'] > 0]\n",
    "\n",
    "adata.obs.index = adata.obs[0]\n",
    "\n",
    "adata.obs.index.name = 'barcodes'"
   ]
  },
  {
   "cell_type": "markdown",
   "metadata": {},
   "source": [
    "+ Calculate HTO expression to find the sample with scanpy"
   ]
  },
  {
   "cell_type": "code",
   "execution_count": 242,
   "metadata": {},
   "outputs": [
    {
     "data": {
      "text/html": [
       "<div>\n",
       "<style scoped>\n",
       "    .dataframe tbody tr th:only-of-type {\n",
       "        vertical-align: middle;\n",
       "    }\n",
       "\n",
       "    .dataframe tbody tr th {\n",
       "        vertical-align: top;\n",
       "    }\n",
       "\n",
       "    .dataframe thead th {\n",
       "        text-align: right;\n",
       "    }\n",
       "</style>\n",
       "<table border=\"1\" class=\"dataframe\">\n",
       "  <thead>\n",
       "    <tr style=\"text-align: right;\">\n",
       "      <th></th>\n",
       "      <th>0</th>\n",
       "      <th>total_counts</th>\n",
       "    </tr>\n",
       "  </thead>\n",
       "  <tbody>\n",
       "    <tr>\n",
       "      <th>0</th>\n",
       "      <td>ADT1-CATGATTGGCTC</td>\n",
       "      <td>45068020.0</td>\n",
       "    </tr>\n",
       "    <tr>\n",
       "      <th>1</th>\n",
       "      <td>ADT2-GAGGCGATTGAT</td>\n",
       "      <td>115158600.0</td>\n",
       "    </tr>\n",
       "    <tr>\n",
       "      <th>2</th>\n",
       "      <td>ADT3-TGTCCGGCAATA</td>\n",
       "      <td>22047180.0</td>\n",
       "    </tr>\n",
       "    <tr>\n",
       "      <th>3</th>\n",
       "      <td>ADT4-TGGTGAACCTGG</td>\n",
       "      <td>8646181.0</td>\n",
       "    </tr>\n",
       "    <tr>\n",
       "      <th>4</th>\n",
       "      <td>ADT5-GATCGTAATACC</td>\n",
       "      <td>10061397.0</td>\n",
       "    </tr>\n",
       "    <tr>\n",
       "      <th>5</th>\n",
       "      <td>ADT6-AAGCGCTTGGCA</td>\n",
       "      <td>11943134.0</td>\n",
       "    </tr>\n",
       "    <tr>\n",
       "      <th>6</th>\n",
       "      <td>ADT7-CATCGGTGTACA</td>\n",
       "      <td>3131238.0</td>\n",
       "    </tr>\n",
       "    <tr>\n",
       "      <th>7</th>\n",
       "      <td>ADT8-GTCTAGACTTCG</td>\n",
       "      <td>9150803.0</td>\n",
       "    </tr>\n",
       "    <tr>\n",
       "      <th>8</th>\n",
       "      <td>ADT9-CGAAGAAGGAGT</td>\n",
       "      <td>25910.0</td>\n",
       "    </tr>\n",
       "  </tbody>\n",
       "</table>\n",
       "</div>"
      ],
      "text/plain": [
       "                   0  total_counts\n",
       "0  ADT1-CATGATTGGCTC    45068020.0\n",
       "1  ADT2-GAGGCGATTGAT   115158600.0\n",
       "2  ADT3-TGTCCGGCAATA    22047180.0\n",
       "3  ADT4-TGGTGAACCTGG     8646181.0\n",
       "4  ADT5-GATCGTAATACC    10061397.0\n",
       "5  ADT6-AAGCGCTTGGCA    11943134.0\n",
       "6  ADT7-CATCGGTGTACA     3131238.0\n",
       "7  ADT8-GTCTAGACTTCG     9150803.0\n",
       "8  ADT9-CGAAGAAGGAGT       25910.0"
      ]
     },
     "execution_count": 242,
     "metadata": {},
     "output_type": "execute_result"
    }
   ],
   "source": [
    "adata.var"
   ]
  },
  {
   "cell_type": "code",
   "execution_count": 243,
   "metadata": {},
   "outputs": [
    {
     "name": "stderr",
     "output_type": "stream",
     "text": [
      "/tmp/ipykernel_1281284/3459939120.py:1: ImplicitModificationWarning: Trying to modify attribute `.var` of view, initializing view as actual.\n",
      "  adata.var[['HTO_tag', 'HTO_sequence']] = adata.var[0].str.split('-', expand=True)\n"
     ]
    }
   ],
   "source": [
    "adata.var[['HTO_tag', 'HTO_sequence']] = adata.var[0].str.split('-', expand=True)\n",
    "\n",
    "adata.var.index = adata.var['HTO_tag']\n",
    "\n",
    "adata.var['Tag_type'] = 'In-house-tag'"
   ]
  },
  {
   "cell_type": "code",
   "execution_count": 244,
   "metadata": {},
   "outputs": [],
   "source": [
    "# Extracting gene names, assuming they are stored in adata.var_names\n",
    "HTO_id = adata.var_names\n",
    "\n",
    "# Calculating counts for each gene in each cell\n",
    "# The operation depends on whether the data is stored as a dense matrix or a sparse matrix.\n",
    "if sparse.issparse(adata.X):\n",
    "    gene_counts = pd.DataFrame(adata.X.toarray(), index=adata.obs_names, columns=HTO_id)\n",
    "else:\n",
    "    gene_counts = pd.DataFrame(adata.X, index=adata.obs_names, columns=HTO_id)\n",
    "\n",
    "# Because you have only 9 genes, you can add each gene's counts as a separate column in adata.obs directly\n",
    "for HTO in HTO_id:\n",
    "    adata.obs[HTO] = gene_counts[HTO]"
   ]
  },
  {
   "cell_type": "code",
   "execution_count": 245,
   "metadata": {},
   "outputs": [
    {
     "name": "stdout",
     "output_type": "stream",
     "text": [
      "Please cite HashSolo paper:\n",
      "https://www.cell.com/cell-systems/fulltext/S2405-4712(20)30195-2\n"
     ]
    }
   ],
   "source": [
    "cell_hashing_columns=adata.var.index.values\n",
    "sc.external.pp.hashsolo(adata, cell_hashing_columns)"
   ]
  },
  {
   "cell_type": "code",
   "execution_count": 246,
   "metadata": {},
   "outputs": [],
   "source": [
    "adata.obs['Digestion_Condition'] = 'EPCAM+'\n",
    "adata.obs['GEO_Accession'] = 'GSM4808360'"
   ]
  },
  {
   "cell_type": "code",
   "execution_count": 247,
   "metadata": {},
   "outputs": [],
   "source": [
    "adata.var.columns = adata.var.columns.map(str)\n",
    "adata.obs.columns = adata.obs.columns.map(str)"
   ]
  },
  {
   "cell_type": "code",
   "execution_count": 248,
   "metadata": {},
   "outputs": [],
   "source": [
    "adata.write_h5ad('/mnt/LaCIE/annaM/gut_project/raw_data/Fawkner-Corbett_2021/scRNA_seq_data/GSE158702_RAW_2/GSM4808360_ADT2/GGSM4808360_ADT_adata.h5ad')"
   ]
  },
  {
   "cell_type": "code",
   "execution_count": 249,
   "metadata": {},
   "outputs": [],
   "source": [
    "del adata"
   ]
  },
  {
   "cell_type": "markdown",
   "metadata": {},
   "source": [
    "+ Samples GSM4808361_ADT3"
   ]
  },
  {
   "cell_type": "code",
   "execution_count": 250,
   "metadata": {},
   "outputs": [
    {
     "name": "stderr",
     "output_type": "stream",
     "text": [
      "/home/amaguza/miniforge3/envs/scanpy_env/lib/python3.11/site-packages/anndata/_core/anndata.py:121: ImplicitModificationWarning: Transforming to str index.\n",
      "  warnings.warn(\"Transforming to str index.\", ImplicitModificationWarning)\n",
      "/home/amaguza/miniforge3/envs/scanpy_env/lib/python3.11/site-packages/anndata/_core/anndata.py:121: ImplicitModificationWarning: Transforming to str index.\n",
      "  warnings.warn(\"Transforming to str index.\", ImplicitModificationWarning)\n",
      "/home/amaguza/miniforge3/envs/scanpy_env/lib/python3.11/site-packages/anndata/_core/anndata.py:1113: FutureWarning: is_categorical_dtype is deprecated and will be removed in a future version. Use isinstance(dtype, CategoricalDtype) instead\n",
      "  if not is_categorical_dtype(df_full[k]):\n"
     ]
    }
   ],
   "source": [
    "barcodes = pd.read_csv('/mnt/LaCIE/annaM/gut_project/raw_data/Fawkner-Corbett_2021/scRNA_seq_data/GSE158702_RAW_2/GSM4808361_ADT3/ADT3/umi_count/barcodes.tsv', sep='\\t', header=None)\n",
    "features = pd.read_csv('/mnt/LaCIE/annaM/gut_project/raw_data/Fawkner-Corbett_2021/scRNA_seq_data/GSE158702_RAW_2/GSM4808361_ADT3/ADT3/umi_count/features.tsv', sep='\\t', header=None)\n",
    "matrix = sc.read_mtx('/mnt/LaCIE/annaM/gut_project/raw_data/Fawkner-Corbett_2021/scRNA_seq_data/GSE158702_RAW_2/GSM4808361_ADT3/ADT3/umi_count//matrix.mtx')\n",
    "\n",
    "features.loc[9] = ['extra']\n",
    "\n",
    "adata = sc.AnnData(X=np.transpose(matrix.X), obs=barcodes, var=features)\n",
    "\n",
    "# Calculate the total counts for each gene (var)\n",
    "total_counts = np.array(adata.X.sum(axis=0)).flatten()\n",
    "\n",
    "# Add these total counts to adata.var\n",
    "adata.var['total_counts'] = total_counts\n",
    "\n",
    "# if adata.var['total_counts'] is equal zero then remove the row\n",
    "adata = adata[:, adata.var['total_counts'] > 0]\n",
    "\n",
    "adata.obs.index = adata.obs[0]\n",
    "\n",
    "adata.obs.index.name = 'barcodes'"
   ]
  },
  {
   "cell_type": "markdown",
   "metadata": {},
   "source": [
    "+ Calculate HTO expression to find the sample with scanpy"
   ]
  },
  {
   "cell_type": "code",
   "execution_count": 253,
   "metadata": {},
   "outputs": [
    {
     "data": {
      "text/html": [
       "<div>\n",
       "<style scoped>\n",
       "    .dataframe tbody tr th:only-of-type {\n",
       "        vertical-align: middle;\n",
       "    }\n",
       "\n",
       "    .dataframe tbody tr th {\n",
       "        vertical-align: top;\n",
       "    }\n",
       "\n",
       "    .dataframe thead th {\n",
       "        text-align: right;\n",
       "    }\n",
       "</style>\n",
       "<table border=\"1\" class=\"dataframe\">\n",
       "  <thead>\n",
       "    <tr style=\"text-align: right;\">\n",
       "      <th></th>\n",
       "      <th>0</th>\n",
       "      <th>total_counts</th>\n",
       "      <th>HTO_tag</th>\n",
       "      <th>HTO_sequence</th>\n",
       "      <th>Tag_type</th>\n",
       "    </tr>\n",
       "    <tr>\n",
       "      <th>HTO_tag</th>\n",
       "      <th></th>\n",
       "      <th></th>\n",
       "      <th></th>\n",
       "      <th></th>\n",
       "      <th></th>\n",
       "    </tr>\n",
       "  </thead>\n",
       "  <tbody>\n",
       "    <tr>\n",
       "      <th>ADT1</th>\n",
       "      <td>ADT1-CATGATTGGCTC</td>\n",
       "      <td>8729961.0</td>\n",
       "      <td>ADT1</td>\n",
       "      <td>CATGATTGGCTC</td>\n",
       "      <td>In-house-tag</td>\n",
       "    </tr>\n",
       "    <tr>\n",
       "      <th>ADT2</th>\n",
       "      <td>ADT2-GAGGCGATTGAT</td>\n",
       "      <td>48487252.0</td>\n",
       "      <td>ADT2</td>\n",
       "      <td>GAGGCGATTGAT</td>\n",
       "      <td>In-house-tag</td>\n",
       "    </tr>\n",
       "    <tr>\n",
       "      <th>ADT3</th>\n",
       "      <td>ADT3-TGTCCGGCAATA</td>\n",
       "      <td>10257105.0</td>\n",
       "      <td>ADT3</td>\n",
       "      <td>TGTCCGGCAATA</td>\n",
       "      <td>In-house-tag</td>\n",
       "    </tr>\n",
       "    <tr>\n",
       "      <th>ADT4</th>\n",
       "      <td>ADT4-TGGTGAACCTGG</td>\n",
       "      <td>46446992.0</td>\n",
       "      <td>ADT4</td>\n",
       "      <td>TGGTGAACCTGG</td>\n",
       "      <td>In-house-tag</td>\n",
       "    </tr>\n",
       "    <tr>\n",
       "      <th>ADT5</th>\n",
       "      <td>ADT5-GATCGTAATACC</td>\n",
       "      <td>12636813.0</td>\n",
       "      <td>ADT5</td>\n",
       "      <td>GATCGTAATACC</td>\n",
       "      <td>In-house-tag</td>\n",
       "    </tr>\n",
       "    <tr>\n",
       "      <th>ADT6</th>\n",
       "      <td>ADT6-AAGCGCTTGGCA</td>\n",
       "      <td>15415419.0</td>\n",
       "      <td>ADT6</td>\n",
       "      <td>AAGCGCTTGGCA</td>\n",
       "      <td>In-house-tag</td>\n",
       "    </tr>\n",
       "    <tr>\n",
       "      <th>ADT7</th>\n",
       "      <td>ADT7-CATCGGTGTACA</td>\n",
       "      <td>10695777.0</td>\n",
       "      <td>ADT7</td>\n",
       "      <td>CATCGGTGTACA</td>\n",
       "      <td>In-house-tag</td>\n",
       "    </tr>\n",
       "    <tr>\n",
       "      <th>ADT8</th>\n",
       "      <td>ADT8-GTCTAGACTTCG</td>\n",
       "      <td>15613573.0</td>\n",
       "      <td>ADT8</td>\n",
       "      <td>GTCTAGACTTCG</td>\n",
       "      <td>In-house-tag</td>\n",
       "    </tr>\n",
       "    <tr>\n",
       "      <th>ADT9</th>\n",
       "      <td>ADT9-CGAAGAAGGAGT</td>\n",
       "      <td>27920.0</td>\n",
       "      <td>ADT9</td>\n",
       "      <td>CGAAGAAGGAGT</td>\n",
       "      <td>In-house-tag</td>\n",
       "    </tr>\n",
       "  </tbody>\n",
       "</table>\n",
       "</div>"
      ],
      "text/plain": [
       "                         0  total_counts HTO_tag  HTO_sequence      Tag_type\n",
       "HTO_tag                                                                     \n",
       "ADT1     ADT1-CATGATTGGCTC     8729961.0    ADT1  CATGATTGGCTC  In-house-tag\n",
       "ADT2     ADT2-GAGGCGATTGAT    48487252.0    ADT2  GAGGCGATTGAT  In-house-tag\n",
       "ADT3     ADT3-TGTCCGGCAATA    10257105.0    ADT3  TGTCCGGCAATA  In-house-tag\n",
       "ADT4     ADT4-TGGTGAACCTGG    46446992.0    ADT4  TGGTGAACCTGG  In-house-tag\n",
       "ADT5     ADT5-GATCGTAATACC    12636813.0    ADT5  GATCGTAATACC  In-house-tag\n",
       "ADT6     ADT6-AAGCGCTTGGCA    15415419.0    ADT6  AAGCGCTTGGCA  In-house-tag\n",
       "ADT7     ADT7-CATCGGTGTACA    10695777.0    ADT7  CATCGGTGTACA  In-house-tag\n",
       "ADT8     ADT8-GTCTAGACTTCG    15613573.0    ADT8  GTCTAGACTTCG  In-house-tag\n",
       "ADT9     ADT9-CGAAGAAGGAGT       27920.0    ADT9  CGAAGAAGGAGT  In-house-tag"
      ]
     },
     "execution_count": 253,
     "metadata": {},
     "output_type": "execute_result"
    }
   ],
   "source": [
    "adata.var"
   ]
  },
  {
   "cell_type": "code",
   "execution_count": 252,
   "metadata": {},
   "outputs": [
    {
     "name": "stderr",
     "output_type": "stream",
     "text": [
      "/tmp/ipykernel_1281284/3459939120.py:1: ImplicitModificationWarning: Trying to modify attribute `.var` of view, initializing view as actual.\n",
      "  adata.var[['HTO_tag', 'HTO_sequence']] = adata.var[0].str.split('-', expand=True)\n"
     ]
    }
   ],
   "source": [
    "adata.var[['HTO_tag', 'HTO_sequence']] = adata.var[0].str.split('-', expand=True)\n",
    "\n",
    "adata.var.index = adata.var['HTO_tag']\n",
    "\n",
    "adata.var['Tag_type'] = 'In-house-tag'"
   ]
  },
  {
   "cell_type": "code",
   "execution_count": 254,
   "metadata": {},
   "outputs": [],
   "source": [
    "# Extracting gene names, assuming they are stored in adata.var_names\n",
    "HTO_id = adata.var_names\n",
    "\n",
    "# Calculating counts for each gene in each cell\n",
    "# The operation depends on whether the data is stored as a dense matrix or a sparse matrix.\n",
    "if sparse.issparse(adata.X):\n",
    "    gene_counts = pd.DataFrame(adata.X.toarray(), index=adata.obs_names, columns=HTO_id)\n",
    "else:\n",
    "    gene_counts = pd.DataFrame(adata.X, index=adata.obs_names, columns=HTO_id)\n",
    "\n",
    "# Because you have only 9 genes, you can add each gene's counts as a separate column in adata.obs directly\n",
    "for HTO in HTO_id:\n",
    "    adata.obs[HTO] = gene_counts[HTO]"
   ]
  },
  {
   "cell_type": "code",
   "execution_count": 255,
   "metadata": {},
   "outputs": [
    {
     "name": "stdout",
     "output_type": "stream",
     "text": [
      "Please cite HashSolo paper:\n",
      "https://www.cell.com/cell-systems/fulltext/S2405-4712(20)30195-2\n"
     ]
    },
    {
     "name": "stderr",
     "output_type": "stream",
     "text": [
      "/home/amaguza/miniforge3/envs/scanpy_env/lib/python3.11/site-packages/scanpy/external/pp/_hashsolo.py:68: RuntimeWarning: divide by zero encountered in divide\n",
      "  lam = 1 / np.var(data) if len(data) > 1 else lam_o\n",
      "/home/amaguza/miniforge3/envs/scanpy_env/lib/python3.11/site-packages/scanpy/external/pp/_hashsolo.py:71: RuntimeWarning: invalid value encountered in scalar divide\n",
      "  (np.mean(data) * n * lam + mu_o * lam_o) / lam_n if len(data) > 0 else mu_o\n"
     ]
    }
   ],
   "source": [
    "cell_hashing_columns=adata.var.index.values\n",
    "sc.external.pp.hashsolo(adata, cell_hashing_columns)"
   ]
  },
  {
   "cell_type": "code",
   "execution_count": 256,
   "metadata": {},
   "outputs": [],
   "source": [
    "adata.obs['Digestion_Condition'] = 'EPCAM+'\n",
    "adata.obs['GEO_Accession'] = 'GSM4808361'"
   ]
  },
  {
   "cell_type": "code",
   "execution_count": 257,
   "metadata": {},
   "outputs": [],
   "source": [
    "adata.var.columns = adata.var.columns.map(str)\n",
    "adata.obs.columns = adata.obs.columns.map(str)"
   ]
  },
  {
   "cell_type": "code",
   "execution_count": 258,
   "metadata": {},
   "outputs": [],
   "source": [
    "adata.write_h5ad('/mnt/LaCIE/annaM/gut_project/raw_data/Fawkner-Corbett_2021/scRNA_seq_data/GSE158702_RAW_2/GSM4808361_ADT3/GGSM4808361_ADT_adata.h5ad')"
   ]
  },
  {
   "cell_type": "code",
   "execution_count": 259,
   "metadata": {},
   "outputs": [],
   "source": [
    "del adata"
   ]
  }
 ],
 "metadata": {
  "kernelspec": {
   "display_name": "Scanpy",
   "language": "python",
   "name": "scnapy-server"
  },
  "language_info": {
   "codemirror_mode": {
    "name": "ipython",
    "version": 3
   },
   "file_extension": ".py",
   "mimetype": "text/x-python",
   "name": "python",
   "nbconvert_exporter": "python",
   "pygments_lexer": "ipython3",
   "version": "3.11.5"
  }
 },
 "nbformat": 4,
 "nbformat_minor": 2
}
