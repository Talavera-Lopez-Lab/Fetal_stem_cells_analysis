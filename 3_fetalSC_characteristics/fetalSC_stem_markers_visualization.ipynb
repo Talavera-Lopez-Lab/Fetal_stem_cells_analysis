{
 "cells": [
  {
   "cell_type": "markdown",
   "metadata": {},
   "source": [
    "## Notebook for the visualization of Stem Cells markers in Fetal Gut Stem cells\n",
    "\n",
    "- **Developed by:** Anna Maguza\n",
    "- **Place:** Wuerzburg Institute for System Immunology\n",
    "- **Date:** 14th November 2023"
   ]
  },
  {
   "cell_type": "markdown",
   "metadata": {},
   "source": [
    "### Load required modules"
   ]
  },
  {
   "cell_type": "code",
   "execution_count": 1,
   "metadata": {},
   "outputs": [],
   "source": [
    "import numpy as np\n",
    "import scipy as sp\n",
    "import pandas as pd\n",
    "import scanpy as sc\n",
    "\n",
    "import matplotlib.pyplot as plt"
   ]
  },
  {
   "cell_type": "code",
   "execution_count": 2,
   "metadata": {},
   "outputs": [],
   "source": [
    "%matplotlib inline\n",
    "plt.rcParams[\"pdf.fonttype\"] = 42\n",
    "plt.rcParams[\"ps.fonttype\"] = 42"
   ]
  },
  {
   "cell_type": "code",
   "execution_count": 3,
   "metadata": {},
   "outputs": [
    {
     "name": "stdout",
     "output_type": "stream",
     "text": [
      "-----\n",
      "anndata     0.9.2\n",
      "scanpy      1.9.5\n",
      "-----\n",
      "PIL                         10.0.1\n",
      "anyio                       NA\n",
      "arrow                       1.3.0\n",
      "asttokens                   NA\n",
      "attr                        23.1.0\n",
      "attrs                       23.1.0\n",
      "babel                       2.13.0\n",
      "backcall                    0.2.0\n",
      "certifi                     2023.07.22\n",
      "cffi                        1.16.0\n",
      "charset_normalizer          3.3.0\n",
      "colorama                    0.4.6\n",
      "comm                        0.1.4\n",
      "cycler                      0.10.0\n",
      "cython_runtime              NA\n",
      "dateutil                    2.8.2\n",
      "debugpy                     1.8.0\n",
      "decorator                   5.1.1\n",
      "defusedxml                  0.7.1\n",
      "executing                   2.0.0\n",
      "fastjsonschema              NA\n",
      "fqdn                        NA\n",
      "h5py                        3.9.0\n",
      "idna                        3.4\n",
      "igraph                      0.11.2\n",
      "ipykernel                   6.25.2\n",
      "ipywidgets                  8.1.1\n",
      "isoduration                 NA\n",
      "jedi                        0.19.1\n",
      "jinja2                      3.1.2\n",
      "joblib                      1.3.2\n",
      "json5                       NA\n",
      "jsonpointer                 2.4\n",
      "jsonschema                  4.19.1\n",
      "jsonschema_specifications   NA\n",
      "jupyter_events              0.7.0\n",
      "jupyter_server              2.7.3\n",
      "jupyterlab_server           2.25.0\n",
      "kiwisolver                  1.4.5\n",
      "leidenalg                   0.10.1\n",
      "llvmlite                    0.40.1\n",
      "markupsafe                  2.1.3\n",
      "matplotlib                  3.8.0\n",
      "matplotlib_inline           0.1.6\n",
      "mpl_toolkits                NA\n",
      "natsort                     8.4.0\n",
      "nbformat                    5.9.2\n",
      "numba                       0.57.1\n",
      "numpy                       1.24.4\n",
      "overrides                   NA\n",
      "packaging                   23.2\n",
      "pandas                      2.1.1\n",
      "parso                       0.8.3\n",
      "pexpect                     4.8.0\n",
      "pickleshare                 0.7.5\n",
      "platformdirs                3.11.0\n",
      "prometheus_client           NA\n",
      "prompt_toolkit              3.0.39\n",
      "psutil                      5.9.5\n",
      "ptyprocess                  0.7.0\n",
      "pure_eval                   0.2.2\n",
      "pydev_ipython               NA\n",
      "pydevconsole                NA\n",
      "pydevd                      2.9.5\n",
      "pydevd_file_utils           NA\n",
      "pydevd_plugins              NA\n",
      "pydevd_tracing              NA\n",
      "pygments                    2.16.1\n",
      "pyparsing                   3.1.1\n",
      "pythonjsonlogger            NA\n",
      "pytz                        2023.3.post1\n",
      "referencing                 NA\n",
      "requests                    2.31.0\n",
      "rfc3339_validator           0.1.4\n",
      "rfc3986_validator           0.1.1\n",
      "rpds                        NA\n",
      "scipy                       1.11.3\n",
      "send2trash                  NA\n",
      "session_info                1.0.0\n",
      "six                         1.16.0\n",
      "sklearn                     1.3.1\n",
      "sniffio                     1.3.0\n",
      "stack_data                  0.6.3\n",
      "texttable                   1.7.0\n",
      "threadpoolctl               3.2.0\n",
      "tornado                     6.3.3\n",
      "traitlets                   5.11.2\n",
      "typing_extensions           NA\n",
      "uri_template                NA\n",
      "urllib3                     2.0.6\n",
      "wcwidth                     0.2.8\n",
      "webcolors                   1.13\n",
      "websocket                   1.6.4\n",
      "yaml                        6.0.1\n",
      "zmq                         25.1.1\n",
      "zoneinfo                    NA\n",
      "zope                        NA\n",
      "-----\n",
      "IPython             8.16.1\n",
      "jupyter_client      8.3.1\n",
      "jupyter_core        5.3.2\n",
      "jupyterlab          4.0.6\n",
      "notebook            7.0.4\n",
      "-----\n",
      "Python 3.11.5 | packaged by conda-forge | (main, Aug 27 2023, 03:34:09) [GCC 12.3.0]\n",
      "Linux-6.6.2-101.fc38.x86_64-x86_64-with-glibc2.37\n",
      "-----\n",
      "Session information updated at 2023-12-12 13:37\n"
     ]
    }
   ],
   "source": [
    "sc.settings.verbosity = 3\n",
    "sc.logging.print_versions()\n",
    "sc.settings.set_figure_params(dpi = 180, color_map = 'magma_r', dpi_save = 300, vector_friendly = True, format = 'svg')"
   ]
  },
  {
   "cell_type": "code",
   "execution_count": 4,
   "metadata": {},
   "outputs": [],
   "source": [
    "def X_is_raw(adata):\n",
    "    return np.array_equal(adata.X.sum(axis=0).astype(int), adata.X.sum(axis=0))"
   ]
  },
  {
   "cell_type": "markdown",
   "metadata": {},
   "source": [
    "### Data Upload\n"
   ]
  },
  {
   "cell_type": "code",
   "execution_count": 7,
   "metadata": {},
   "outputs": [
    {
     "data": {
      "text/plain": [
       "AnnData object with n_obs × n_vars = 7817 × 19868\n",
       "    obs: 'Sample_ID', 'Cell Type', 'Study_name', 'Donor_ID', 'Diagnosis', 'Age', 'Region code', 'Fraction', 'Sex', 'Library_Preparation_Protocol', 'batch', 'Age_group', 'Location', 'Cell States', 'Cell States GCA', 'Chem', 'Layer', 'Cell States Kong', 'dataset', 'n_genes_by_counts', 'total_counts', 'total_counts_mito', 'pct_counts_mito', 'total_counts_ribo', 'pct_counts_ribo', 'Cell_ID', '_scvi_batch', '_scvi_labels', 'n_genes', 'n_counts', 'leiden', 'cluster'\n",
       "    var: 'feature_types-0-0-0', 'gene_name-1-0-0', 'gene_id-0-0', 'GENE-1-0', 'n_counts', 'n_cells'\n",
       "    uns: 'Age_colors', 'Age_group_colors', 'Donor_ID_colors', 'Library_Preparation_Protocol_colors', 'Sex_colors', '_scvi_manager_uuid', '_scvi_uuid', 'hvg', 'leiden', 'leiden_colors', 'neighbors', 'rank_genes_groups', 'umap'\n",
       "    obsm: 'X_scVI', 'X_umap', '_scvi_extra_categorical_covs', '_scvi_extra_continuous_covs'\n",
       "    obsp: 'connectivities', 'distances'"
      ]
     },
     "execution_count": 7,
     "metadata": {},
     "output_type": "execute_result"
    }
   ],
   "source": [
    "input_path = 'FetalSC_data/Fetal_healthy_stem_cells_leiden.h5ad'\n",
    "adata = sc.read_h5ad(input_path)\n",
    "adata"
   ]
  },
  {
   "cell_type": "markdown",
   "metadata": {},
   "source": [
    "- Check if object is raw"
   ]
  },
  {
   "cell_type": "code",
   "execution_count": 8,
   "metadata": {},
   "outputs": [
    {
     "data": {
      "text/plain": [
       "True"
      ]
     },
     "execution_count": 8,
     "metadata": {},
     "output_type": "execute_result"
    }
   ],
   "source": [
    "X_is_raw(adata)"
   ]
  },
  {
   "cell_type": "markdown",
   "metadata": {},
   "source": [
    "- Save raw counts"
   ]
  },
  {
   "cell_type": "code",
   "execution_count": 9,
   "metadata": {},
   "outputs": [],
   "source": [
    "adata.raw = adata"
   ]
  },
  {
   "cell_type": "markdown",
   "metadata": {},
   "source": [
    "- Normalize and log transform data"
   ]
  },
  {
   "cell_type": "code",
   "execution_count": 10,
   "metadata": {},
   "outputs": [
    {
     "name": "stdout",
     "output_type": "stream",
     "text": [
      "normalizing counts per cell The following highly-expressed genes are not considered during normalization factor computation:\n",
      "['DEFA5', 'DEFA6', 'FTL', 'MALAT1', 'MT-ATP6', 'MT-CO1', 'MT-CO2', 'MT-CO3', 'MT-CYB', 'MT-ND3', 'MT-ND4', 'MT-ND4L', 'MTRNR2L12', 'NEAT1', 'SST']\n",
      "    finished (0:00:00)\n"
     ]
    }
   ],
   "source": [
    "adata_log = adata.copy()\n",
    "sc.pp.normalize_total(adata_log, target_sum = 1e6, exclude_highly_expressed = True)\n",
    "sc.pp.log1p(adata_log)"
   ]
  },
  {
   "cell_type": "markdown",
   "metadata": {},
   "source": [
    "### Check the enrichment of Fetal Stem Cells markers"
   ]
  },
  {
   "cell_type": "code",
   "execution_count": 11,
   "metadata": {},
   "outputs": [
    {
     "name": "stdout",
     "output_type": "stream",
     "text": [
      "computing score 'Stem_cells_markers_score'\n",
      "    finished: added\n",
      "    'Stem_cells_markers_score', score of gene set (adata.obs).\n",
      "    500 total control genes are used. (0:00:00)\n"
     ]
    }
   ],
   "source": [
    "stem_cells_markers = ['LGR5', 'BMI1', 'GJA1', 'TACSTD2', 'SOX2', 'NANOG', 'LY6H', 'SPP1', 'DCLK1',\n",
    "                                            'CD44', 'DCLK1', 'TERT', 'ALCAM', 'ASCL2', 'BMPR1A', 'EPHB2']\n",
    "# perform gene enrichment analysis on the stem cells markers\n",
    "sc.tl.score_genes(adata_log, stem_cells_markers, score_name = \"Stem_cells_markers_score\")"
   ]
  },
  {
   "cell_type": "code",
   "execution_count": null,
   "metadata": {},
   "outputs": [],
   "source": [
    "sc.set_figure_params(dpi=300)\n",
    "sc.pl.umap(adata_log, frameon = False, color = ['cluster', 'LGR5', 'BMI1', 'GJA1', 'TACSTD2', 'SOX2', 'NANOG', 'LY6H', 'SPP1', 'DCLK1',\n",
    "                                            'CD44', 'DCLK1', 'TERT', 'ALCAM', 'ASCL2', 'BMPR1A', 'EPHB2', 'Stem_cells_markers_score'], color_map='magma_r', size = 5, legend_fontsize = 5, ncols = 4)"
   ]
  },
  {
   "cell_type": "code",
   "execution_count": null,
   "metadata": {},
   "outputs": [],
   "source": [
    "# Create a violin plot\n",
    "sc.pl.violin(adata_log, ['LGR5', 'BMI1', 'GJA1', 'TACSTD2', 'SOX2', 'NANOG', 'LY6H', 'SPP1'], groupby='cluster', rotation=90)"
   ]
  },
  {
   "cell_type": "code",
   "execution_count": null,
   "metadata": {},
   "outputs": [],
   "source": [
    "# Create a violin plot\n",
    "sc.pl.violin(adata_log, ['DCLK1', 'CD44', 'DCLK1', 'TERT', 'ALCAM', 'ASCL2', 'BMPR1A', 'EPHB2'], groupby='cluster', rotation=90)"
   ]
  },
  {
   "cell_type": "code",
   "execution_count": null,
   "metadata": {},
   "outputs": [],
   "source": [
    "stem_cells_markers = ['LGR5', 'BMI1', 'GJA1', 'TACSTD2', 'SOX2', 'NANOG', 'LY6H', 'SPP1', 'DCLK1', 'CD44', 'DCLK1', 'TERT', 'ALCAM', 'ASCL2', 'BMPR1A', 'EPHB2', 'ACAD10', \n",
    "                      'ACVR1C', 'ARSE', 'ASCL2', 'ATP10B', 'C16orf89', 'C6orf136', 'CDCA7', 'CFTR', 'CHMP4C', 'CHP2', 'CLDN15', 'CLDN18', 'CLDN2', 'CPA6', 'DAPK2', 'DDC', \n",
    "                      'EFNA3', 'EPHB2', 'EVPL', 'F2RL1', 'FBLN2', 'FOXD2-AS1', 'GATA6-AS1', 'GDF15', 'GJB1', 'GJB2', 'GOLT1A', 'GPX2', 'HNF1A', 'HSD17B2', 'ITPKC', \n",
    "                      'LEFTY1', 'LIPG', 'MGST1', 'MSI1', 'MYOM3', 'NOX1', 'OLFM4', 'PCSK9', 'PDZD3', 'PHLDA1', 'PKP2', 'PLAGL2', 'PLEKHH1', \n",
    "                      'PPP1R1B', 'PTGDR', 'PTK7', 'RGMB', 'RNF157', 'RNF186', 'SFN', 'SLC27A2', 'SLC38A4', 'SLPI', 'SULT1B1', 'TAF4B', 'TANC1', 'TMEM171', 'TSPAN8', \n",
    "                      'URB1-AS1', 'ZBED9', 'ZNF296']\n",
    "\n",
    "sc.pl.dotplot(adata_log, stem_cells_markers, groupby='cluster')"
   ]
  },
  {
   "cell_type": "code",
   "execution_count": null,
   "metadata": {},
   "outputs": [],
   "source": [
    "stem_cells_markers = ['LGR5', 'BMI1', 'GJA1', 'TACSTD2', 'SOX2', 'NANOG', 'LY6H', 'SPP1', 'DCLK1', 'CD44', 'DCLK1', 'TERT', 'ALCAM', 'ASCL2', 'BMPR1A', 'EPHB2', 'ACAD10', \n",
    "                      'ACVR1C', 'ARSE', 'ASCL2', 'ATP10B', 'C16orf89', 'C6orf136', 'CDCA7', 'CFTR', 'CHMP4C', 'CHP2', 'CLDN15', 'CLDN18', 'CLDN2', 'CPA6', 'DAPK2', 'DDC', \n",
    "                      'EFNA3', 'EPHB2', 'EVPL', 'F2RL1', 'FBLN2', 'FOXD2-AS1', 'GATA6-AS1', 'GDF15', 'GJB1', 'GJB2', 'GOLT1A', 'GPX2', 'HNF1A', 'HSD17B2', 'ITPKC', \n",
    "                      'LEFTY1', 'LIPG', 'MGST1', 'MSI1', 'MYOM3', 'NOX1', 'OLFM4', 'PCSK9', 'PDZD3', 'PHLDA1', 'PKP2', 'PLAGL2', 'PLEKHH1', \n",
    "                      'PPP1R1B', 'PTGDR', 'PTK7', 'RGMB', 'RNF157', 'RNF186', 'SFN', 'SLC27A2', 'SLC38A4', 'SLPI', 'SULT1B1', 'TAF4B', 'TANC1', 'TMEM171', \n",
    "                      'URB1-AS1', 'ZBED9', 'ZNF296']\n",
    "\n",
    "sc.pl.dotplot(adata_log, stem_cells_markers, groupby='cluster')"
   ]
  }
 ],
 "metadata": {
  "kernelspec": {
   "display_name": "Scanpy",
   "language": "python",
   "name": "scnapy-server"
  },
  "language_info": {
   "codemirror_mode": {
    "name": "ipython",
    "version": 3
   },
   "file_extension": ".py",
   "mimetype": "text/x-python",
   "name": "python",
   "nbconvert_exporter": "python",
   "pygments_lexer": "ipython3",
   "version": "3.11.5"
  }
 },
 "nbformat": 4,
 "nbformat_minor": 2
}
