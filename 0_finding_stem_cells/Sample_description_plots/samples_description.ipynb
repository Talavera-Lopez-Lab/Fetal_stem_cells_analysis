{
 "cells": [
  {
   "cell_type": "markdown",
   "metadata": {},
   "source": [
    "## Notebook for plots describing datasets\n",
    "\n",
    "+ Developed by: Anna Maguza\n",
    "+ Institute of Computational Biology - Computational Health Centre - Hemlholtz Munich\n",
    "+ Date created: 7th July 2024\n",
    "+ Last modified: 30th July 2024"
   ]
  },
  {
   "cell_type": "markdown",
   "metadata": {},
   "source": [
    "#### Import required packages"
   ]
  },
  {
   "cell_type": "code",
   "execution_count": 1,
   "metadata": {},
   "outputs": [],
   "source": [
    "import numpy as np\n",
    "import pandas as pd\n",
    "import scanpy as sc\n",
    "import anndata as an\n",
    "import matplotlib.pyplot as plt\n",
    "from matplotlib.pyplot import figure\n",
    "import seaborn as sns"
   ]
  },
  {
   "cell_type": "markdown",
   "metadata": {},
   "source": [
    "### Data Upload"
   ]
  },
  {
   "cell_type": "code",
   "execution_count": 2,
   "metadata": {},
   "outputs": [],
   "source": [
    "input_dir = '/../../../gut_project/Processed_data/Gut_data/Healthy_reference/Integrated/'"
   ]
  },
  {
   "cell_type": "code",
   "execution_count": 3,
   "metadata": {},
   "outputs": [],
   "source": [
    "adata = sc.read(input_dir + 'Integrated_4_datasets_05042024')"
   ]
  },
  {
   "cell_type": "code",
   "execution_count": 4,
   "metadata": {},
   "outputs": [],
   "source": [
    "fig_dir = '/../../../gut_project/Processed_data/Gut_data/Plots/Datasets_description/'"
   ]
  },
  {
   "cell_type": "code",
   "execution_count": 5,
   "metadata": {},
   "outputs": [],
   "source": [
    "input_dir = '/../../../gut_project/raw_data/Elmentaite_2021/'\n",
    "Elmentaite = sc.read(f'{input_dir}/GCA_filtered_raw.h5ad')"
   ]
  },
  {
   "cell_type": "code",
   "execution_count": 6,
   "metadata": {},
   "outputs": [],
   "source": [
    "input_dir = '/../../../gut_project/raw_data/Kong_2023'\n",
    "Kong = sc.read_h5ad(f'{input_dir}/adata_Kong_2023_healthy_with_QC.h5ad')"
   ]
  },
  {
   "cell_type": "code",
   "execution_count": 7,
   "metadata": {},
   "outputs": [],
   "source": [
    "input_dir = '/../../../gut_project/raw_data/Smillie_2019/SCP259/'\n",
    "Smillie = sc.read(f'{input_dir}/Smillie_with_QC_raw.h5ad')"
   ]
  },
  {
   "cell_type": "code",
   "execution_count": 8,
   "metadata": {},
   "outputs": [],
   "source": [
    "input_dir = '/../../../gut_project/raw_data/Wang_2020/'\n",
    "Wang = sc.read(f'{input_dir}/Wang_2022_raw_anndata.h5ad')"
   ]
  },
  {
   "cell_type": "markdown",
   "metadata": {},
   "source": [
    "### Adult vs Fetal"
   ]
  },
  {
   "cell_type": "code",
   "execution_count": 31,
   "metadata": {},
   "outputs": [],
   "source": [
    "df = pd.DataFrame(adata.obs['Age_group'].value_counts())\n",
    "# rename First trim into 1-3 months\n",
    "df.rename(index={'First trim':'First Trimester'}, inplace=True)\n",
    "df.rename(index={'Second trim':'Second Trimester'}, inplace=True)"
   ]
  },
  {
   "cell_type": "code",
   "execution_count": null,
   "metadata": {},
   "outputs": [],
   "source": [
    "# Define custom colors\n",
    "colors = ['#E9A8F2', '#FFA27F', '#A3D8FF', '#FF76CE']\n",
    "\n",
    "# Ensure the order of categories\n",
    "df = df.loc[['Adult', 'Pediatric', 'Second Trimester', 'First Trimester']]\n",
    "\n",
    "# Plot the stacked bar plot\n",
    "fig, ax = plt.subplots(figsize=(8, 12))\n",
    "df.T.plot(kind='bar', stacked=True, color=colors, ax=ax, width=0.1)\n",
    "plt.ylabel('Number of cells')\n",
    "plt.legend(title='Age Group', bbox_to_anchor=(1.05, 1), loc='upper left')\n",
    "\n",
    "# Improve quality and adjust plot aesthetics\n",
    "plt.grid(False)\n",
    "plt.box(True)\n",
    "plt.tight_layout()\n",
    "\n",
    "# Save the plot to the specified directory \n",
    "plt.savefig(f\"{fig_dir}/age_distribution.png\", dpi=300)\n",
    "plt.show()\n"
   ]
  },
  {
   "cell_type": "markdown",
   "metadata": {},
   "source": [
    "### Visualize datasets"
   ]
  },
  {
   "cell_type": "code",
   "execution_count": 44,
   "metadata": {},
   "outputs": [],
   "source": [
    "df = adata.obs[['Study_name']].value_counts()"
   ]
  },
  {
   "cell_type": "code",
   "execution_count": null,
   "metadata": {},
   "outputs": [],
   "source": [
    "colors =  ['#E9A8F2']\n",
    "\n",
    "# Plot the stacked bar plot\n",
    "fig, ax = plt.subplots(figsize=(5, 5))\n",
    "df.plot(kind='bar', stacked=True, color=colors, ax=ax, width=1, )\n",
    "\n",
    "# Improve quality and adjust plot aesthetics\n",
    "plt.grid(False)\n",
    "plt.box(True)\n",
    "plt.tight_layout()\n",
    "\n",
    "# Save the plot to the specified directory \n",
    "#plt.savefig(f\"{fig_dir}/age_distribution.png\", dpi=300)\n",
    "plt.show()"
   ]
  },
  {
   "cell_type": "markdown",
   "metadata": {},
   "source": [
    "### Visualize cell types"
   ]
  },
  {
   "cell_type": "code",
   "execution_count": 85,
   "metadata": {},
   "outputs": [],
   "source": [
    "adata_copy = adata.copy()"
   ]
  },
  {
   "cell_type": "code",
   "execution_count": 86,
   "metadata": {},
   "outputs": [
    {
     "name": "stderr",
     "output_type": "stream",
     "text": [
      "/home/amaguza/miniforge3/envs/scanpy_env/lib/python3.11/site-packages/anndata/_core/anndata.py:1113: FutureWarning: is_categorical_dtype is deprecated and will be removed in a future version. Use isinstance(dtype, CategoricalDtype) instead\n",
      "  if not is_categorical_dtype(df_full[k]):\n"
     ]
    }
   ],
   "source": [
    "adata_copy = adata_copy[adata_copy.obs['Study_name'] != 'Smilie, 2019']\n",
    "adata_copy = adata_copy[adata_copy.obs['Study_name'] != 'Wang, 2020']"
   ]
  },
  {
   "cell_type": "code",
   "execution_count": 87,
   "metadata": {},
   "outputs": [],
   "source": [
    "Smillie.obs['Study_name'] = 'Smillie, 2019'\n",
    "Wang.obs['Study_name'] = 'Wang, 2020'\n",
    "\n",
    "# rename 'CellType' column to 'Cell_Type'\n",
    "Smillie.obs.rename(columns={'CellType':'Cell_Type'}, inplace=True)\n",
    "Wang.obs['Cell_Type'] = 'Epithelial'\n",
    "Wang.obs['Diagnosis'] = 'Healthy adult'"
   ]
  },
  {
   "cell_type": "code",
   "execution_count": 88,
   "metadata": {},
   "outputs": [
    {
     "name": "stderr",
     "output_type": "stream",
     "text": [
      "/home/amaguza/miniforge3/envs/scanpy_env/lib/python3.11/site-packages/anndata/_core/merge.py:217: FutureWarning: is_categorical_dtype is deprecated and will be removed in a future version. Use isinstance(dtype, CategoricalDtype) instead\n",
      "  if pd.api.types.is_categorical_dtype(dtype):\n",
      "/home/amaguza/miniforge3/envs/scanpy_env/lib/python3.11/site-packages/anndata/_core/merge.py:217: FutureWarning: is_categorical_dtype is deprecated and will be removed in a future version. Use isinstance(dtype, CategoricalDtype) instead\n",
      "  if pd.api.types.is_categorical_dtype(dtype):\n",
      "/home/amaguza/miniforge3/envs/scanpy_env/lib/python3.11/site-packages/anndata/_core/merge.py:217: FutureWarning: is_categorical_dtype is deprecated and will be removed in a future version. Use isinstance(dtype, CategoricalDtype) instead\n",
      "  if pd.api.types.is_categorical_dtype(dtype):\n",
      "/home/amaguza/miniforge3/envs/scanpy_env/lib/python3.11/site-packages/anndata/_core/merge.py:217: FutureWarning: is_categorical_dtype is deprecated and will be removed in a future version. Use isinstance(dtype, CategoricalDtype) instead\n",
      "  if pd.api.types.is_categorical_dtype(dtype):\n",
      "/home/amaguza/miniforge3/envs/scanpy_env/lib/python3.11/site-packages/anndata/_core/merge.py:217: FutureWarning: is_categorical_dtype is deprecated and will be removed in a future version. Use isinstance(dtype, CategoricalDtype) instead\n",
      "  if pd.api.types.is_categorical_dtype(dtype):\n",
      "/home/amaguza/miniforge3/envs/scanpy_env/lib/python3.11/site-packages/anndata/_core/merge.py:217: FutureWarning: is_categorical_dtype is deprecated and will be removed in a future version. Use isinstance(dtype, CategoricalDtype) instead\n",
      "  if pd.api.types.is_categorical_dtype(dtype):\n"
     ]
    }
   ],
   "source": [
    "# concatenate Smillie to the adata_copy\n",
    "adata_copy = an.concat([adata_copy, Smillie], join='outer')\n",
    "adata_copy = an.concat([adata_copy, Wang], join='outer')"
   ]
  },
  {
   "cell_type": "code",
   "execution_count": 90,
   "metadata": {},
   "outputs": [],
   "source": [
    "df = adata_copy.obs[['Diagnosis', 'Cell_Type', 'Study_name']]"
   ]
  },
  {
   "cell_type": "code",
   "execution_count": 91,
   "metadata": {},
   "outputs": [
    {
     "name": "stderr",
     "output_type": "stream",
     "text": [
      "/tmp/ipykernel_305278/1427914524.py:1: SettingWithCopyWarning: \n",
      "A value is trying to be set on a copy of a slice from a DataFrame.\n",
      "Try using .loc[row_indexer,col_indexer] = value instead\n",
      "\n",
      "See the caveats in the documentation: https://pandas.pydata.org/pandas-docs/stable/user_guide/indexing.html#returning-a-view-versus-a-copy\n",
      "  df['Diagnosis'] = df['Diagnosis'].astype(str)\n",
      "/tmp/ipykernel_305278/1427914524.py:2: SettingWithCopyWarning: \n",
      "A value is trying to be set on a copy of a slice from a DataFrame.\n",
      "Try using .loc[row_indexer,col_indexer] = value instead\n",
      "\n",
      "See the caveats in the documentation: https://pandas.pydata.org/pandas-docs/stable/user_guide/indexing.html#returning-a-view-versus-a-copy\n",
      "  df['Study_name'] = df['Study_name'].astype(str)\n",
      "/tmp/ipykernel_305278/1427914524.py:3: SettingWithCopyWarning: \n",
      "A value is trying to be set on a copy of a slice from a DataFrame.\n",
      "Try using .loc[row_indexer,col_indexer] = value instead\n",
      "\n",
      "See the caveats in the documentation: https://pandas.pydata.org/pandas-docs/stable/user_guide/indexing.html#returning-a-view-versus-a-copy\n",
      "  df['Study_Diagnosis'] = df['Study_name'] + '-' + df['Diagnosis']\n"
     ]
    }
   ],
   "source": [
    "df['Diagnosis'] = df['Diagnosis'].astype(str)\n",
    "df['Study_name'] = df['Study_name'].astype(str)\n",
    "df['Study_Diagnosis'] = df['Study_name'] + '-' + df['Diagnosis']"
   ]
  },
  {
   "cell_type": "code",
   "execution_count": 92,
   "metadata": {},
   "outputs": [],
   "source": [
    "df_grouped = df.groupby(['Study_Diagnosis', 'Cell_Type']).size().reset_index(name='Count')"
   ]
  },
  {
   "cell_type": "code",
   "execution_count": 93,
   "metadata": {},
   "outputs": [],
   "source": [
    "df_pivot = df_grouped.pivot(index='Study_Diagnosis', columns='Cell_Type', values='Count').fillna(0)"
   ]
  },
  {
   "cell_type": "code",
   "execution_count": 94,
   "metadata": {},
   "outputs": [],
   "source": [
    "colors =  ['#43766C', '#759EB8', '#824670', '#FF76CE', '#E9A8F2', '#94FFD8',\n",
    "               '#A3D8FF', '#FFA27F', '#97BE5A']"
   ]
  },
  {
   "cell_type": "code",
   "execution_count": null,
   "metadata": {},
   "outputs": [],
   "source": [
    "# Plot the stacked bar plot\n",
    "fig, ax = plt.subplots(figsize=(8, 12))\n",
    "df_pivot.plot(kind='bar', stacked=True, color=colors, ax=ax, width=1, )\n",
    "\n",
    "# Improve quality and adjust plot aesthetics\n",
    "plt.grid(False)\n",
    "plt.box(True)\n",
    "plt.tight_layout()\n",
    "\n",
    "# Save the plot to the specified directory \n",
    "plt.savefig(f\"{fig_dir}/cell_types_distribution_across_datasets.png\", dpi=300)\n",
    "plt.show()"
   ]
  },
  {
   "cell_type": "markdown",
   "metadata": {},
   "source": [
    "### Stem cells markers in each dataset"
   ]
  },
  {
   "cell_type": "code",
   "execution_count": 146,
   "metadata": {},
   "outputs": [],
   "source": [
    "adata.obs['Cell States Kong'] = adata.obs['Cell States Kong'].astype(str)\n",
    "adata.obs['Cell States GCA'] = adata.obs['Cell States GCA'].astype(str)\n",
    "\n",
    "# Create a new column 'Original stem cells' based on the specified conditions\n",
    "adata.obs['Original stem cells'] = (\n",
    "    (adata.obs['Cell States Kong'].isin(['Stem cells OLFM4', 'Stem cells OLFM4 GSTA1', 'Stem cells OLFM4 LGR5', 'Stem cells OLFM4 PCNA'])) |\n",
    "    (adata.obs['Cell States GCA'].isin(['Stem_Cells_GCA', 'Stem_Cells_ext']))\n",
    ")"
   ]
  },
  {
   "cell_type": "code",
   "execution_count": 149,
   "metadata": {},
   "outputs": [],
   "source": [
    "adata_log = adata.copy()\n",
    "sc.pp.normalize_total(adata_log, target_sum = 1e6, exclude_highly_expressed = True)\n",
    "sc.pp.log1p(adata_log)"
   ]
  },
  {
   "cell_type": "code",
   "execution_count": 150,
   "metadata": {},
   "outputs": [],
   "source": [
    "stem_cells_markers = ['AXIN2', 'ASCL2', 'ATOH1', 'BMI1', 'CA12', 'CLU', 'GPX2', 'HMGCS2', 'LEFTY1', 'LGR5', 'LRIG1', 'MYC', 'OLFM4', 'SMOC2', 'TERT']"
   ]
  },
  {
   "cell_type": "code",
   "execution_count": 151,
   "metadata": {},
   "outputs": [
    {
     "name": "stderr",
     "output_type": "stream",
     "text": [
      "/home/amaguza/miniforge3/envs/scanpy_env/lib/python3.11/site-packages/anndata/_core/anndata.py:1113: FutureWarning: is_categorical_dtype is deprecated and will be removed in a future version. Use isinstance(dtype, CategoricalDtype) instead\n",
      "  if not is_categorical_dtype(df_full[k]):\n"
     ]
    }
   ],
   "source": [
    "adata_log = adata_log[adata_log.obs['Original stem cells'] == True]"
   ]
  },
  {
   "cell_type": "code",
   "execution_count": 152,
   "metadata": {},
   "outputs": [
    {
     "name": "stderr",
     "output_type": "stream",
     "text": [
      "/tmp/ipykernel_305278/1220558640.py:2: ImplicitModificationWarning: Trying to modify attribute `.obs` of view, initializing view as actual.\n",
      "  adata_log.obs['Study_name'] = adata_log.obs['Study_name'].astype(str)\n"
     ]
    }
   ],
   "source": [
    "# create new column study-condition with the name of the study and the condition\n",
    "adata_log.obs['Study_name'] = adata_log.obs['Study_name'].astype(str)\n",
    "adata_log.obs['Diagnosis'] = adata_log.obs['Diagnosis'].astype(str)\n",
    "\n",
    "#rename 'Adult Ulcerative Colitis' into 'UC' in the Diagnosis column\n",
    "adata_log.obs['Diagnosis'] = adata_log.obs['Diagnosis'].replace('Adult Ulcerative Colitis Non-inflamed', 'Non-inflamed UC adult')\n",
    "\n",
    "adata_log.obs['Study_condition'] = adata_log.obs['Study_name'] + '-' + adata_log.obs['Diagnosis']"
   ]
  },
  {
   "cell_type": "code",
   "execution_count": null,
   "metadata": {},
   "outputs": [],
   "source": [
    "with plt.rc_context():\n",
    "    sc.set_figure_params(dpi=300, figsize=(15, 15))\n",
    "    sc.pl.dotplot(adata_log, stem_cells_markers, groupby='Study_condition', cmap = 'magma_r', show=False, swap_axes=True) \n",
    "    plt.savefig(f\"{fig_dir}/original_stem_markers_dotplot.png\", bbox_inches=\"tight\")"
   ]
  },
  {
   "cell_type": "markdown",
   "metadata": {},
   "source": [
    "### Visualize markers in all cell types + stem cells"
   ]
  },
  {
   "cell_type": "code",
   "execution_count": 49,
   "metadata": {},
   "outputs": [],
   "source": [
    "adata_log = adata.copy()\n",
    "adata_log.layers[\"sqrt_norm\"] = np.sqrt(\n",
    "    sc.pp.normalize_total(adata_log, inplace=False)[\"X\"]\n",
    ")\n",
    "adata_log.X = adata_log.layers[\"sqrt_norm\"].copy()"
   ]
  },
  {
   "cell_type": "code",
   "execution_count": 58,
   "metadata": {},
   "outputs": [],
   "source": [
    "adata_log = adata.copy()\n",
    "sc.pp.normalize_total(adata_log, target_sum = 1e6, exclude_highly_expressed = True)\n",
    "sc.pp.log1p(adata_log)"
   ]
  },
  {
   "cell_type": "code",
   "execution_count": 59,
   "metadata": {},
   "outputs": [],
   "source": [
    "adata_log.obs['states_for_figure'] = adata_log.obs['Cell_Type'].copy()"
   ]
  },
  {
   "cell_type": "code",
   "execution_count": 60,
   "metadata": {},
   "outputs": [],
   "source": [
    "adata_log.obs['states_for_figure'] = adata_log.obs['states_for_figure'].cat.set_categories(['Stem cells', 'Paneth cells', 'TA', 'Monocytes', 'Macrophages', 'B cells', 'T cells', 'Fibroblasts', 'Neuronal'])"
   ]
  },
  {
   "cell_type": "code",
   "execution_count": 61,
   "metadata": {},
   "outputs": [],
   "source": [
    "mapping_states = {\n",
    "    'Stromal 3 (C7+)': 'Fibroblasts',\n",
    "    'Stromal 3 (KCNN3+)': 'Fibroblasts',\n",
    "    'Stromal 1 (ADAMDEC1+)': 'Fibroblasts',\n",
    "    'Fibroblasts ADAMDEC1': 'Fibroblasts',\n",
    "    'Stromal 2 (NPY+)': 'Fibroblasts',\n",
    "    'Fibroblasts SMOC2 PTGIS': 'Fibroblasts',\n",
    "    'Stromal 1 (CCL11+)': 'Fibroblasts',\n",
    "    'Fibroblasts KCNN3 LY6H': 'Fibroblasts',\n",
    "    'Fibroblasts SFRP2 SLPI': 'Fibroblasts',\n",
    "    'Fibroblasts NPY SLITRK6': 'Fibroblasts',\n",
    "    'Activated fibroblasts CCL19 ADAMADEC1': 'Fibroblasts',\n",
    "    'Inflammatory fibroblasts IL11 CHI3L1': 'Fibroblasts',\n",
    "    'Stromal 4 (MMP1+)': 'Fibroblasts',\n",
    "    'Stromal 2 (CH25H+)': 'Fibroblasts',\n",
    "    'Transitional Stromal 3 (C3+)': 'Fibroblasts',\n",
    "    'cycling stromal': 'Fibroblasts',\n",
    "    'mLN Stroma (FMO2+)': 'Fibroblasts',\n",
    "    'Inflammatory fibroblasts IL11 CHI3L1': 'Fibroblasts',\n",
    "    'Stromal Cycling cells': 'Fibroblasts',\n",
    "\n",
    "    'Macrophages': 'Macrophages',\n",
    "    'Macrophages CCL3 CCL4': 'Macrophages',\n",
    "    'LYVE1+ Macrophage': 'Macrophages',\n",
    "    'Macrophages LYVE1': 'Macrophages',\n",
    "    'Macrophages Metallothionein': 'Macrophages',\n",
    "    'MMP9+ Inflammatory macrophage': 'Macrophages',\n",
    "    'Macrophages PLA2G2D': 'Macrophages',\n",
    "    'Macrophages CXCL9 CXCL10': 'Macrophages',\n",
    "\n",
    "    'Monocytes': 'Monocytes',\n",
    "    'Monocytes HBB': 'Monocytes',\n",
    "    'Monocytes CHI3L1 CYP27A1': 'Monocytes',\n",
    "    'Monocytes S100A8 S100A9': 'Monocytes',\n",
    "    'MPO+ mono-neutrophil': 'Monocytes',\n",
    "    'Paneth': 'Paneth cells',\n",
    "    'Paneth cells': 'Paneth cells',\n",
    "    'TA': 'TA',\n",
    "    'Stem cells OLFM4': 'Stem cells',\n",
    "    'Stem cells OLFM4 GSTA1': 'Stem cells',\n",
    "    'Stem cells OLFM4 LGR5': 'Stem cells',\n",
    "    'Stem cells OLFM4 PCNA': 'Stem cells',\n",
    "    'Stem_Cells_GCA': 'Stem cells',\n",
    "    'Stem_Cells_ext': 'Stem cells'\n",
    "}"
   ]
  },
  {
   "cell_type": "code",
   "execution_count": 62,
   "metadata": {},
   "outputs": [],
   "source": [
    "# Update 'states_for_figure' based on the mapping dictionary\n",
    "adata_log.obs.loc[adata_log.obs['Cell States'].isin(mapping_states.keys()), 'states_for_figure'] = \\\n",
    "    adata_log.obs['Cell States'].map(mapping_states)"
   ]
  },
  {
   "cell_type": "code",
   "execution_count": 63,
   "metadata": {},
   "outputs": [],
   "source": [
    "marker_genes_dict = {\n",
    "    \"Stem cells\": ['LGR5', 'ASCL2', 'SMOC2', 'RGMB'],\n",
    "    \"Paneth\": ['DEFA5', 'DEFA6', 'REG3A'],\n",
    "    \"TA\": ['MKI67', 'TOP2A', 'UBE2C'],\n",
    "    \"Monocytes\": ['FCN1', 'S100A4', 'CD14'],\n",
    "    \"Macrophages\": ['MERTK', 'CTSC', 'CTSD'],\n",
    "    \"B cells\": ['MS4A1', 'CD19'],\n",
    "    \"T cell\": [\"CD3D\"],\n",
    "    \"Stromal\": ['ADAMDEC1', 'ADAM28', 'PDGFRA', 'BMP4'],\n",
    "    \"Neuronal\": ['ETV1','BNC2']\n",
    "}\n"
   ]
  },
  {
   "cell_type": "code",
   "execution_count": null,
   "metadata": {},
   "outputs": [],
   "source": [
    "with plt.rc_context():\n",
    "    sc.set_figure_params(dpi=300, figsize=(15, 15))\n",
    "    sc.pl.dotplot(adata_log, marker_genes_dict, \"states_for_figure\", dendrogram=False, cmap = 'magma_r', show=False) \n",
    "    plt.savefig(f\"{fig_dir}/all_markers_dotplot.png\", bbox_inches=\"tight\")"
   ]
  }
 ],
 "metadata": {
  "kernelspec": {
   "display_name": "Scanpy",
   "language": "python",
   "name": "scnapy-server"
  }
 },
 "nbformat": 4,
 "nbformat_minor": 2
}
