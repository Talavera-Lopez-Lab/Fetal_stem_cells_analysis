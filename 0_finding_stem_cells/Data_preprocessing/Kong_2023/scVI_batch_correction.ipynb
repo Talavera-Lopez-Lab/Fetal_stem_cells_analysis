{
 "cells": [
  {
   "attachments": {},
   "cell_type": "markdown",
   "metadata": {},
   "source": [
    "### Notebook for Kong_2023 data integration and batch correction with `scVI`\n",
    "- **Developed by**: Anna Maguza\n",
    "- **Institute of Computational Biology - Computational Health Centre - Helmholtz Munich**\n",
    "- Creation date: 4th July 2023\n",
    "- Last modified date: 26th of May 2024"
   ]
  },
  {
   "cell_type": "markdown",
   "metadata": {},
   "source": [
    "### Load required modules"
   ]
  },
  {
   "cell_type": "code",
   "execution_count": null,
   "metadata": {},
   "outputs": [],
   "source": [
    "import scvi\n",
    "import torch\n",
    "import anndata\n",
    "import warnings\n",
    "import numpy as np\n",
    "import scanpy as sc\n",
    "import pandas as pd\n",
    "import plotnine as p\n",
    "from pywaffle import Waffle\n",
    "import matplotlib.pyplot as plt"
   ]
  },
  {
   "cell_type": "code",
   "execution_count": null,
   "metadata": {},
   "outputs": [],
   "source": [
    "torch.cuda.is_available()"
   ]
  },
  {
   "cell_type": "code",
   "execution_count": null,
   "metadata": {},
   "outputs": [],
   "source": [
    "torch.set_float32_matmul_precision('medium')"
   ]
  },
  {
   "cell_type": "code",
   "execution_count": null,
   "metadata": {},
   "outputs": [],
   "source": [
    "sc.settings.verbosity = 3\n",
    "sc.logging.print_versions()\n",
    "sc.settings.set_figure_params(dpi = 180, color_map = 'magma_r', dpi_save = 300, vector_friendly = True, format = 'svg')"
   ]
  },
  {
   "cell_type": "code",
   "execution_count": null,
   "metadata": {},
   "outputs": [],
   "source": [
    "arches_params = dict(\n",
    "    use_layer_norm = \"both\",\n",
    "    use_batch_norm = \"none\",\n",
    "    encode_covariates = True,\n",
    "    dropout_rate = 0.2,\n",
    "    n_layers = 2,\n",
    ")"
   ]
  },
  {
   "cell_type": "code",
   "execution_count": null,
   "metadata": {},
   "outputs": [],
   "source": [
    "def X_is_raw(adata):\n",
    "    return np.array_equal(adata.X.sum(axis=0).astype(int), adata.X.sum(axis=0))"
   ]
  },
  {
   "cell_type": "markdown",
   "metadata": {},
   "source": [
    "### Read in datasets"
   ]
  },
  {
   "cell_type": "code",
   "execution_count": null,
   "metadata": {},
   "outputs": [],
   "source": [
    "input_dir = '/mnt/LaCIE/annaM/gut_project/raw_data/Kong_2023'\n",
    "fig_dir = '/mnt/LaCIE/annaM/gut_project/Processed_data/Gut_data/Plots/Finding_stem_cells'"
   ]
  },
  {
   "cell_type": "code",
   "execution_count": null,
   "metadata": {},
   "outputs": [],
   "source": [
    "adata = sc.read_h5ad(f'{input_dir}/adata_Kong_2023_healthy_with_QC.h5ad')"
   ]
  },
  {
   "cell_type": "code",
   "execution_count": null,
   "metadata": {},
   "outputs": [],
   "source": [
    "adata_raw = sc.read_h5ad(f'{input_dir}/Kong_2023_raw_anndata.h5ad')"
   ]
  },
  {
   "cell_type": "code",
   "execution_count": null,
   "metadata": {},
   "outputs": [],
   "source": [
    "# Filter out cells from adata_raw that are not in adata\n",
    "adata_raw = adata_raw[adata.obs_names]\n",
    "\n",
    "# Replace counts in adata to raw counts from adata_raw\n",
    "adata.X = adata_raw.X\n",
    "\n",
    "del adata_raw"
   ]
  },
  {
   "cell_type": "code",
   "execution_count": null,
   "metadata": {},
   "outputs": [],
   "source": [
    "X_is_raw(adata)"
   ]
  },
  {
   "cell_type": "code",
   "execution_count": null,
   "metadata": {},
   "outputs": [],
   "source": [
    "# Save raw data\n",
    "adata.raw = adata"
   ]
  },
  {
   "cell_type": "code",
   "execution_count": null,
   "metadata": {},
   "outputs": [],
   "source": [
    "adata.obs_keys"
   ]
  },
  {
   "cell_type": "code",
   "execution_count": null,
   "metadata": {},
   "outputs": [],
   "source": [
    "adata.obs['cell_type'].value_counts()"
   ]
  },
  {
   "cell_type": "code",
   "execution_count": null,
   "metadata": {},
   "outputs": [],
   "source": [
    "adata.layers['counts'] = adata.X.copy()\n",
    "\n",
    "# Calculate 5000 HVGs\n",
    "sc.pp.highly_variable_genes(\n",
    "    adata,\n",
    "    flavor = \"seurat_v3\",\n",
    "    n_top_genes = 5000,\n",
    "    layer = \"counts\",\n",
    "    batch_key = 'library_preparation_protocol__ontology_label',\n",
    "    subset = True,\n",
    "    span = 1\n",
    ")"
   ]
  },
  {
   "cell_type": "code",
   "execution_count": null,
   "metadata": {},
   "outputs": [],
   "source": [
    "adata.obs.rename(columns = {'Celltype': 'Cell States'}, inplace = True)\n",
    "adata.obs.rename(columns = {'cell_type': 'Cell Type'}, inplace = True)"
   ]
  },
  {
   "cell_type": "markdown",
   "metadata": {},
   "source": [
    "* Modify Cell Types column"
   ]
  },
  {
   "cell_type": "code",
   "execution_count": null,
   "metadata": {},
   "outputs": [],
   "source": [
    "# List of specific Cell States to look for\n",
    "cell_states_list = [\n",
    "    'Stem cells OLFM4 LGR5',\n",
    "    'Stem cells OLFM4 PCNA',\n",
    "    'Stem cells OLFM4 GSTA1',\n",
    "    'Stem cells OLFM4'\n",
    "]\n",
    "\n",
    "# Add 'Stem Cell' as a new category to the 'Cell Type' column\n",
    "adata.obs['Cell Type'] = adata.obs['Cell Type'].cat.add_categories(['Stem Cell'])\n",
    "\n",
    "# Update 'Cell Type' based on the condition in 'Cell States'\n",
    "adata.obs.loc[adata.obs['Cell States'].isin(cell_states_list), 'Cell Type'] = 'Stem Cell'"
   ]
  },
  {
   "cell_type": "code",
   "execution_count": null,
   "metadata": {},
   "outputs": [],
   "source": [
    "# List of specific Cell States to look for\n",
    "cell_states_list = [\n",
    "    'B cells',\n",
    "    'B cells AICDA LRMP'\n",
    "]\n",
    "\n",
    "# Add 'B cells' as a new category to the 'Cell Type' column\n",
    "adata.obs['Cell Type'] = adata.obs['Cell Type'].cat.add_categories(['B cells'])\n",
    "\n",
    "# Update 'Cell Type' based on the condition in 'Cell States'\n",
    "adata.obs.loc[adata.obs['Cell States'].isin(cell_states_list), 'Cell Type'] = 'B cells'"
   ]
  },
  {
   "cell_type": "code",
   "execution_count": null,
   "metadata": {},
   "outputs": [],
   "source": [
    "# List of specific Cell States to look for\n",
    "cell_states_list = [\n",
    "    'T cells CD4 FOSB',\n",
    "    'T cells CD4 IL17A',\n",
    "    'T cells CD8',\n",
    "    'T cells CD8 KLRG1',\n",
    "    'T cells Naive CD4',\n",
    "    'T cells OGT',\n",
    "    'Tregs',\n",
    "    'NK cells KLRF1 CD3G-',\n",
    "    'NK-like cells ID3 ENTPD1',\n",
    "    'ILCs',\n",
    "    'IELs ID3 ENTPD1',\n",
    "    'Lymphatics'\n",
    "]\n",
    "\n",
    "# Add 'T cells' as a new category to the 'Cell Type' column\n",
    "adata.obs['Cell Type'] = adata.obs['Cell Type'].cat.add_categories(['T cells'])\n",
    "\n",
    "# Update 'Cell Type' based on the condition in 'Cell States'\n",
    "adata.obs.loc[adata.obs['Cell States'].isin(cell_states_list), 'Cell Type'] = 'T cells'"
   ]
  },
  {
   "cell_type": "code",
   "execution_count": null,
   "metadata": {},
   "outputs": [],
   "source": [
    "cell_states_list = [\n",
    "    'Plasma cells'\n",
    "]\n",
    "\n",
    "# Add 'Plasma cells' as a new category to the 'Cell Type' column\n",
    "adata.obs['Cell Type'] = adata.obs['Cell Type'].cat.add_categories(['Plasma cells'])\n",
    "\n",
    "# Update 'Cell Type' based on the condition in 'Cell States'\n",
    "adata.obs.loc[adata.obs['Cell States'].isin(cell_states_list), 'Cell Type'] = 'Plasma cells'"
   ]
  },
  {
   "cell_type": "code",
   "execution_count": null,
   "metadata": {},
   "outputs": [],
   "source": [
    "cell_states_list = [\n",
    "    'Cycling cells',\n",
    "    'DC1',\n",
    "    'DC2 CD1D',\n",
    "    'DC2 CD1D-',\n",
    "    'Immune Cycling cells',\n",
    "    'Macrophages',\n",
    "    'Macrophages CCL3 CCL4',\n",
    "    'Macrophages CXCL9 CXCL10',\n",
    "    'Macrophages LYVE1',\n",
    "    'Macrophages Metallothionein',\n",
    "    'Macrophages PLA2G2D',\n",
    "    'Mast cells',\n",
    "    'Mature DCs',\n",
    "    'Monocytes CHI3L1 CYP27A1', \n",
    "    'Monocytes HBB',\n",
    "    'Monocytes S100A8 S100A9'\n",
    "]\n",
    "\n",
    "# Add 'Myeloid' as a new category to the 'Cell Type' column\n",
    "adata.obs['Cell Type'] = adata.obs['Cell Type'].cat.add_categories(['Myeloid'])\n",
    "\n",
    "# Update 'Cell Type' based on the condition in 'Cell States'\n",
    "adata.obs.loc[adata.obs['Cell States'].isin(cell_states_list), 'Cell Type'] = 'Myeloid'"
   ]
  },
  {
   "cell_type": "code",
   "execution_count": null,
   "metadata": {},
   "outputs": [],
   "source": [
    "cell_states_list = [\n",
    "    'Glial cells'\n",
    "]\n",
    "\n",
    "# Add 'Neuronal' as a new category to the 'Cell Type' column\n",
    "adata.obs['Cell Type'] = adata.obs['Cell Type'].cat.add_categories(['Neuronal'])\n",
    "\n",
    "# Update 'Cell Type' based on the condition in 'Cell States'\n",
    "adata.obs.loc[adata.obs['Cell States'].isin(cell_states_list), 'Cell Type'] = 'Neuronal'"
   ]
  },
  {
   "cell_type": "code",
   "execution_count": null,
   "metadata": {},
   "outputs": [],
   "source": [
    "cell_states_list = [\n",
    "    'Endothelial cells CA4 CD36',\n",
    "    'Endothelial cells CD36',\n",
    "    'Endothelial cells DARC',\n",
    "    'Endothelial cells LTC4S SEMA3G'\n",
    "]\n",
    "\n",
    "# Add 'Endothelial' as a new category to the 'Cell Type' column\n",
    "adata.obs['Cell Type'] = adata.obs['Cell Type'].cat.add_categories(['Endothelial'])\n",
    "\n",
    "# Update 'Cell Type' based on the condition in 'Cell States'\n",
    "adata.obs.loc[adata.obs['Cell States'].isin(cell_states_list), 'Cell Type'] = 'Endothelial'"
   ]
  },
  {
   "cell_type": "code",
   "execution_count": null,
   "metadata": {},
   "outputs": [],
   "source": [
    "cell_states_list = [\n",
    "    'Activated fibroblasts CCL19 ADAMADEC1',\n",
    "    'Fibroblasts ADAMDEC1',\n",
    "    'Fibroblasts KCNN3 LY6H',\n",
    "    'Fibroblasts NPY SLITRK6',\n",
    "    'Fibroblasts SFRP2 SLPI',\n",
    "    'Fibroblasts SMOC2 PTGIS',\n",
    "    'Inflammatory fibroblasts IL11 CHI3L1',\n",
    "    'Pericytes HIGD1B STEAP4',\n",
    "    'Pericytes RERGL NTRK2',\n",
    "    'Stromal Cycling cells',\n",
    "    'Myofibroblasts GREM1 GREM2',\n",
    "    'Myofibroblasts HHIP NPNT'\n",
    "]\n",
    "\n",
    "# Add 'Mesenchymal' as a new category to the 'Cell Type' column\n",
    "adata.obs['Cell Type'] = adata.obs['Cell Type'].cat.add_categories(['Mesenchymal'])\n",
    "\n",
    "# Update 'Cell Type' based on the condition in 'Cell States'\n",
    "adata.obs.loc[adata.obs['Cell States'].isin(cell_states_list), 'Cell Type'] = 'Mesenchymal'"
   ]
  },
  {
   "cell_type": "code",
   "execution_count": null,
   "metadata": {},
   "outputs": [],
   "source": [
    "adata.obs.rename(columns = {'Cell Type': 'Cell_Type'}, inplace = True)"
   ]
  },
  {
   "cell_type": "markdown",
   "metadata": {},
   "source": [
    "### Run Integration with scVI"
   ]
  },
  {
   "cell_type": "code",
   "execution_count": null,
   "metadata": {},
   "outputs": [],
   "source": [
    "scvi.model.SCVI.setup_anndata(adata, \n",
    "                              layer = \"counts\", \n",
    "                              labels_key = \"Cell_Type\", \n",
    "                              categorical_covariate_keys = [\"biosample_id\"])"
   ]
  },
  {
   "cell_type": "code",
   "execution_count": null,
   "metadata": {},
   "outputs": [],
   "source": [
    "scvi_model = scvi.model.SCVI(adata, n_latent = 50, n_layers = 3, dispersion = 'gene-batch', gene_likelihood = 'nb')"
   ]
  },
  {
   "cell_type": "code",
   "execution_count": null,
   "metadata": {},
   "outputs": [],
   "source": [
    "scvi_model.train(50, \n",
    "                 check_val_every_n_epoch = 1, \n",
    "                 enable_progress_bar = True, \n",
    "                 accelerator = \"gpu\",\n",
    "                 devices = [0])"
   ]
  },
  {
   "cell_type": "code",
   "execution_count": null,
   "metadata": {},
   "outputs": [],
   "source": [
    "history_df = (\n",
    "    scvi_model.history['elbo_train'].astype(float)\n",
    "    .join(scvi_model.history['elbo_validation'].astype(float))\n",
    "    .reset_index()\n",
    "    .melt(id_vars = ['epoch'])\n",
    ")\n",
    "\n",
    "p.options.figure_size = 12, 6\n",
    "\n",
    "p_ = (\n",
    "    p.ggplot(p.aes(x = 'epoch', y = 'value', color = 'variable'), history_df.query('epoch > 0'))\n",
    "    + p.geom_line()\n",
    "    + p.geom_point()\n",
    "    + p.scale_color_manual({'elbo_train': 'black', 'elbo_validation': 'red'})\n",
    "    + p.theme_minimal()\n",
    ")\n",
    "\n",
    "print(p_)"
   ]
  },
  {
   "cell_type": "code",
   "execution_count": null,
   "metadata": {},
   "outputs": [],
   "source": [
    "adata.obsm[\"X_scVI\"] = scvi_model.get_latent_representation()"
   ]
  },
  {
   "cell_type": "markdown",
   "metadata": {},
   "source": [
    "### Integration with scANVI"
   ]
  },
  {
   "cell_type": "code",
   "execution_count": null,
   "metadata": {},
   "outputs": [],
   "source": [
    "scanvi_model = scvi.model.SCANVI.from_scvi_model(\n",
    "    scvi_model,\n",
    "    adata=adata,\n",
    "    labels_key=\"Cell_Type\",\n",
    "    unlabeled_category=\"Unknown\",\n",
    ")"
   ]
  },
  {
   "cell_type": "code",
   "execution_count": null,
   "metadata": {},
   "outputs": [],
   "source": [
    "scanvi_model.train(100, \n",
    "                 check_val_every_n_epoch = 1, \n",
    "                 enable_progress_bar = True, \n",
    "                 accelerator = \"gpu\",\n",
    "                 devices = [0])"
   ]
  },
  {
   "cell_type": "code",
   "execution_count": null,
   "metadata": {},
   "outputs": [],
   "source": [
    "history_df = (\n",
    "    scanvi_model.history['elbo_train'].astype(float)\n",
    "    .join(scanvi_model.history['elbo_validation'].astype(float))\n",
    "    .reset_index()\n",
    "    .melt(id_vars = ['epoch'])\n",
    ")\n",
    "\n",
    "p.options.figure_size = 12, 6\n",
    "\n",
    "p_ = (\n",
    "    p.ggplot(p.aes(x = 'epoch', y = 'value', color = 'variable'), history_df.query('epoch > 0'))\n",
    "    + p.geom_line()\n",
    "    + p.geom_point()\n",
    "    + p.scale_color_manual({'elbo_train': 'black', 'elbo_validation': 'red'})\n",
    "    + p.theme_minimal()\n",
    ")\n",
    "\n",
    "p_.save('fig1.png', dpi = 300)\n",
    "\n",
    "print(p_)"
   ]
  },
  {
   "cell_type": "code",
   "execution_count": null,
   "metadata": {},
   "outputs": [],
   "source": [
    "adata.obsm[\"X_scANVI\"] = scanvi_model.get_latent_representation(adata)"
   ]
  },
  {
   "cell_type": "markdown",
   "metadata": {},
   "source": [
    "### UMAP calculation"
   ]
  },
  {
   "cell_type": "code",
   "execution_count": null,
   "metadata": {},
   "outputs": [],
   "source": [
    "sc.pp.neighbors(adata, use_rep = \"X_scANVI\", n_neighbors = 50, metric = 'minkowski')"
   ]
  },
  {
   "cell_type": "code",
   "execution_count": null,
   "metadata": {},
   "outputs": [],
   "source": [
    "sc.tl.umap(adata, min_dist = 0.4, spread = 4, random_state = 1712)"
   ]
  },
  {
   "cell_type": "code",
   "execution_count": null,
   "metadata": {},
   "outputs": [],
   "source": [
    "adata = adata.raw.to_adata()"
   ]
  },
  {
   "cell_type": "code",
   "execution_count": null,
   "metadata": {},
   "outputs": [],
   "source": [
    "adata.write(f'{input_dir}/Kong_scVI_scANVI.h5ad')"
   ]
  },
  {
   "cell_type": "code",
   "execution_count": null,
   "metadata": {},
   "outputs": [],
   "source": [
    "adata = sc.read_h5ad(f'{input_dir}/Kong_scVI_scANVI.h5ad')"
   ]
  },
  {
   "cell_type": "markdown",
   "metadata": {},
   "source": [
    "+ Modify obs"
   ]
  },
  {
   "cell_type": "code",
   "execution_count": null,
   "metadata": {},
   "outputs": [],
   "source": [
    "# Change 'CO' in Kong_adata.obs['Site'] to 'Colon', 'TI' to 'Terminal Ileum', and 'SB' to 'Small Bowel'\n",
    "adata.obs['Site'] = adata.obs['Site'].replace('CO', 'Colon')\n",
    "adata.obs['Site'] = adata.obs['Site'].replace('TI', 'Terminal Ileum')\n",
    "adata.obs['Site'] = adata.obs['Site'].replace('SB', 'Small Bowel')\n",
    "\n",
    "# Rename columns in Kong-2023 dataset as in GCA_Smillie_Wang dataset\n",
    "adata.obs.rename(columns = {'donor_id': 'Donor_ID'}, inplace = True)\n",
    "adata.obs['Study_name'] = 'Kong 2023'\n",
    "adata.obs.rename(columns = {'biosample_id': 'Sample_ID'}, inplace = True)\n",
    "adata.obs.rename(columns = {'Site': 'Location'}, inplace = True)\n",
    "adata.obs.rename(columns = {'Cell States': 'Cell_States'}, inplace = True)\n",
    "\n",
    "adata.obs.rename(columns = {'library_preparation_protocol__ontology_label': 'Library_Preparation_Protocol'}, inplace = True)\n",
    "\n",
    "adata.obs.drop(columns = ['log1p_n_genes_by_counts', 'log1p_total_counts', 'log1p_total_counts', 'pct_counts_in_top_50_genes', 'pct_counts_in_top_100_genes', 'pct_counts_in_top_200_genes', 'pct_counts_in_top_500_genes', 'total_counts'], inplace = True)\n",
    "\n",
    "adata.obs['sex'] = adata.obs['sex'].replace('male', 'Male')\n",
    "adata.obs['sex'] = adata.obs['sex'].replace('female', 'Female')\n",
    "adata.obs.rename(columns = {'sex': 'Sex'}, inplace = True)\n",
    "\n",
    "adata.obs['disease__ontology_label'] = adata.obs['disease__ontology_label'].replace('normal', 'Healthy adult')\n",
    "adata.obs.rename(columns = {'disease__ontology_label': 'Diagnosis'}, inplace = True)\n",
    "\n",
    "adata.obs.drop(columns = ['G2M_score', 'percent_chrY', 'doublet_info', 'XIST-counts', 'S_score'], inplace = True)\n",
    "\n",
    "adata.obs.drop(columns = ['organ', 'tissue', 'Type', 'library_preparation_protocol', 'disease', 'organ__ontology_label', 'species', 'species__ontology_label'], inplace = True)"
   ]
  },
  {
   "cell_type": "code",
   "execution_count": null,
   "metadata": {},
   "outputs": [],
   "source": [
    "sc.set_figure_params(dpi=300)\n",
    "sc.pl.umap(adata, frameon = False, color = ['Cell_Type', 'Donor_ID', 'Sample_ID', 'Location', 'Sex', 'Cell States', 'Library_Preparation_Protocol'], size = 1, legend_fontsize = 5, ncols = 3)"
   ]
  },
  {
   "cell_type": "code",
   "execution_count": null,
   "metadata": {},
   "outputs": [],
   "source": [
    "sc.set_figure_params(dpi=300)\n",
    "sc.pl.umap(adata, frameon = False, color = ['Cell_Type', 'Cell States'], size = 1, legend_fontsize = 5, ncols = 3)"
   ]
  },
  {
   "cell_type": "code",
   "execution_count": null,
   "metadata": {},
   "outputs": [],
   "source": [
    "sc.set_figure_params(dpi=300)\n",
    "sc.pl.umap(adata, frameon = False, color = ['Cell_Type', 'Donor_ID', 'Sample_ID', 'Location', 'Sex', 'Library_Preparation_Protocol'], size = 1, legend_fontsize = 5, ncols = 3)"
   ]
  },
  {
   "cell_type": "code",
   "execution_count": null,
   "metadata": {},
   "outputs": [],
   "source": [
    "adata.obs['predicted_doublets'] = adata.obs['predicted_doublets'].astype(str)\n",
    "adata.obs['n_counts'] = adata.obs['n_counts'].astype(int)\n",
    "adata.obs['n_genes'] = adata.obs['n_genes'].astype(int)"
   ]
  },
  {
   "cell_type": "code",
   "execution_count": null,
   "metadata": {},
   "outputs": [],
   "source": [
    "adata.obs_keys"
   ]
  },
  {
   "cell_type": "code",
   "execution_count": null,
   "metadata": {},
   "outputs": [],
   "source": [
    "sc.set_figure_params(dpi=300)\n",
    "sc.pl.umap(adata, frameon = False, color = ['n_genes_by_counts', 'n_counts', 'pct_counts_mito', 'pct_counts_ribo', 'predicted_doublets', ], size = 1, legend_fontsize = 5, ncols = 3)"
   ]
  },
  {
   "cell_type": "code",
   "execution_count": null,
   "metadata": {},
   "outputs": [],
   "source": [
    "# Make a column 'Stem_cell' in adata.obs, and put True if adata.obs['Cell_State'] == 'Stem_cell', False otherwise\n",
    "adata.obs['Stem_cell'] = adata.obs['Cell_Type'] == 'Stem Cell'"
   ]
  },
  {
   "cell_type": "code",
   "execution_count": null,
   "metadata": {},
   "outputs": [],
   "source": [
    "adata.obs['Stem_cell'] = adata.obs['Stem_cell'].astype(str)"
   ]
  },
  {
   "cell_type": "code",
   "execution_count": null,
   "metadata": {},
   "outputs": [],
   "source": [
    "# Plot only Stem cells\n",
    "sc.set_figure_params(dpi=300)\n",
    "sc.pl.umap(adata, frameon = False, color = ['Stem_cell'], size = 1, legend_fontsize = 5, ncols = 3)"
   ]
  },
  {
   "cell_type": "code",
   "execution_count": null,
   "metadata": {},
   "outputs": [],
   "source": [
    "Stem_cells_markers = ['CD24', 'DCLK1', 'LGR5', 'CD166', 'CD44', 'DCAMKL-1', 'SOX9', 'ACAD10', 'ACVR1C', 'ADH1C', 'ALDH1', 'ALK3', 'ARSE', \n",
    "'ASCL2', 'ATP10B', 'BMI1', 'C16orf89', 'C6orf136', 'CD29', 'CDCA7', 'CFTR','CHMP4C', 'CHP2', 'CLDN15', 'CLDN18', 'CLDN2', 'CPA6', 'DAPK2', \n",
    "'DDC', 'EFNA3', 'EPHB2', 'EPYC', 'EVPL', 'F2RL1', 'FBLN2', 'FOXD2-AS1', 'GATA6-AS1', 'GDF15', 'GJB1', 'GJB1', 'GOLT1A', 'GPX2', 'HNF1A', \n",
    "'HSD17B2', 'ITPKC','LEFTY1', 'LHFPL3-AS2', 'LIPG', 'LY6G6D', 'MGST1', 'MSI1', 'MYOM3', 'Musashi-1', 'NOX1', 'OLFM4', 'PCSK9', 'PDZD3', \n",
    "'PHLDA1', 'PKP2', 'PLAGL2', 'PLEKHH1', 'PPP1R1B', 'PTGDR', 'PTK7', 'RGMB', 'RNF157', 'RNF186', 'SFN', 'SLC27A2', 'SLC38A4', 'SLPI',\n",
    "'SULT1B1', 'TAF4B', 'TANC1', 'TMEM171', 'TSPAN8', 'Telomerase Inhibitors', 'URB1-AS1', 'ZBED9', 'ZNF296', 'ASCL2', 'SMOC2']\n",
    "sc.tl.score_genes(adata, Stem_cells_markers, score_name = 'Stem_cells_markers_score')\n",
    "\n",
    "sc.set_figure_params(dpi=300)\n",
    "sc.pl.umap(adata, color= ['Stem_cells_markers_score'], color_map = \"RdPu\", size = 0.3, frameon = False)"
   ]
  },
  {
   "cell_type": "code",
   "execution_count": null,
   "metadata": {},
   "outputs": [],
   "source": [
    "input = '/Users/anna.maguza/Desktop/Data/Processed_datasets/1_QC/Kong_scVI_scANVI.h5ad'\n",
    "adata = sc.read(input)\n",
    "\n",
    "adata.obs['predicted_doublets'] = adata.obs['predicted_doublets'].astype(str)\n",
    "adata.obs['n_counts'] = adata.obs['n_counts'].astype(int)\n",
    "adata.obs['n_genes'] = adata.obs['n_genes'].astype(int)\n",
    "\n",
    "sc.set_figure_params(dpi=300)\n",
    "sc.pl.umap(adata, color=['n_genes_by_counts', 'n_counts', 'pct_counts_mito', 'pct_counts_ribo', 'predicted_doublets'],\n",
    "             color_map = \"RdPu\", size = 1, frameon = False, ncols=6)"
   ]
  },
  {
   "cell_type": "code",
   "execution_count": null,
   "metadata": {},
   "outputs": [],
   "source": [
    "# Change stem cells to epithelial cells\n",
    "adata.obs['Cell_Type'] = adata.obs['Cell_Type'].replace('Stem Cell', 'Epithelial')"
   ]
  },
  {
   "cell_type": "code",
   "execution_count": null,
   "metadata": {},
   "outputs": [],
   "source": [
    "sc.set_figure_params(dpi=300)\n",
    "sc.pl.umap(adata, color=['Cell_Type'],\n",
    "             color_map = \"RdPu\", size = 1, frameon = False, ncols=6)"
   ]
  },
  {
   "cell_type": "code",
   "execution_count": null,
   "metadata": {},
   "outputs": [],
   "source": [
    "adata.obs['Cell_States'].value_counts()"
   ]
  },
  {
   "cell_type": "code",
   "execution_count": null,
   "metadata": {},
   "outputs": [],
   "source": [
    "adata.obs['Stem_cell'] = adata.obs['Cell_States'].copy()"
   ]
  },
  {
   "cell_type": "code",
   "execution_count": null,
   "metadata": {},
   "outputs": [],
   "source": [
    "adata.obs['Stem_cell'] = adata.obs['Stem_cell'].cat.set_categories(['Stem cells'])\n",
    "adata.obs.loc[adata.obs['Cell_States'] == 'Stem cells OLFM4', 'Stem_cell'] = 'Stem cells'\n",
    "adata.obs.loc[adata.obs['Cell_States'] == 'Stem cells OLFM4 GSTA1', 'Stem_cell'] = 'Stem cells'\n",
    "adata.obs.loc[adata.obs['Cell_States'] == 'Stem cells OLFM4 LGR5', 'Stem_cell'] = 'Stem cells'\n",
    "adata.obs.loc[adata.obs['Cell_States'] == 'Stem cells OLFM4 PCNA', 'Stem_cell'] = 'Stem cells'"
   ]
  },
  {
   "cell_type": "code",
   "execution_count": null,
   "metadata": {},
   "outputs": [],
   "source": [
    "adata.obs['Stem_cell'] = adata.obs['Stem_cell'].astype(str)\n",
    "\n",
    "new_palette = ['#824670', '#759EB8']  # Hex codes for pink and light blue\n",
    "\n",
    "# Assign the new color palette to your categories\n",
    "adata.uns['Stem_cell_colors'] = new_palette\n",
    "\n",
    "fig_dir = '/mnt/LaCIE/annaM/gut_project/Processed_data/Gut_data/Plots/Finding_stem_cells'\n",
    "\n",
    "with plt.rc_context():\n",
    "    sc.set_figure_params(dpi=300, figsize=(15, 15))\n",
    "    sc.pl.umap(adata, frameon=False, color='Stem_cell', size=10, legend_fontsize=5, ncols=3, show=False)\n",
    "    plt.savefig(f\"{fig_dir}/Kong_stem_umap.png\", bbox_inches=\"tight\")"
   ]
  },
  {
   "cell_type": "code",
   "execution_count": null,
   "metadata": {},
   "outputs": [],
   "source": [
    "adata_log = adata.copy()\n",
    "sc.pp.normalize_total(adata_log, target_sum = 1e6, exclude_highly_expressed = True)\n",
    "sc.pp.log1p(adata_log)"
   ]
  },
  {
   "cell_type": "code",
   "execution_count": null,
   "metadata": {},
   "outputs": [],
   "source": [
    "stem_cells_markers = ['AXIN2', 'ASCL2', 'ATOH1', 'BMI1', 'CA12', 'CLU', 'GPX2', 'HMGCS2', 'LEFTY1', 'LGR5', 'LRIG1', 'MYC', 'OLFM4', 'SMOC2', 'TERT']"
   ]
  },
  {
   "cell_type": "code",
   "execution_count": null,
   "metadata": {},
   "outputs": [],
   "source": [
    "sc.tl.score_genes(adata_log, stem_cells_markers, score_name = 'Stem_cells_markers_score')"
   ]
  },
  {
   "cell_type": "code",
   "execution_count": null,
   "metadata": {},
   "outputs": [],
   "source": [
    "with plt.rc_context():\n",
    "    sc.set_figure_params(dpi=300, figsize=(15, 15))\n",
    "    sc.pl.umap(adata_log, color= ['Stem_cells_markers_score'], color_map = \"magma_r\", frameon=False, size = 10, show=False)\n",
    "    plt.savefig(f\"{fig_dir}/Kong_stem_markers.png\", bbox_inches=\"tight\")"
   ]
  },
  {
   "cell_type": "code",
   "execution_count": null,
   "metadata": {},
   "outputs": [],
   "source": [
    "stem_cells = adata_log[adata_log.obs['Stem_cell'] == 'Stem cells']\n",
    "with plt.rc_context():\n",
    "    sc.set_figure_params(dpi=300, figsize=(15, 15))\n",
    "    sc.pl.dotplot(stem_cells, stem_cells_markers, groupby='Stem_cell', cmap = 'magma_r', show=False) \n",
    "    plt.savefig(f\"{fig_dir}/Kong_stem_markers_dotplot.png\", bbox_inches=\"tight\")"
   ]
  }
 ],
 "metadata": {
  "kernelspec": {
   "display_name": "Python (scvi_env)",
   "language": "python",
   "name": "scvi_env"
  },
  "language_info": {
   "codemirror_mode": {
    "name": "ipython",
    "version": 3
   },
   "file_extension": ".py",
   "mimetype": "text/x-python",
   "name": "python",
   "nbconvert_exporter": "python",
   "pygments_lexer": "ipython3",
   "version": "3.9.18"
  },
  "orig_nbformat": 4
 },
 "nbformat": 4,
 "nbformat_minor": 2
}
