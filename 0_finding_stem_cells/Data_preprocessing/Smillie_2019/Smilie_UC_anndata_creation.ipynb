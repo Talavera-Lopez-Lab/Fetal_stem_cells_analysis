{
 "cells": [
  {
   "cell_type": "markdown",
   "metadata": {},
   "source": [
    "## Notebook for Smilie 2019 anndata file creation \n",
    "\n",
    "+ Developed by: Anna Maguza\n",
    "+ Institute of Computational Biology - Computational Health Centre - Hemlholtz Munich\n",
    "+ Date created: 10th February 2023\n",
    "+ Date modified: 22nd May 2024"
   ]
  },
  {
   "cell_type": "markdown",
   "metadata": {},
   "source": [
    "#### Load packages"
   ]
  },
  {
   "cell_type": "code",
   "execution_count": 1,
   "metadata": {},
   "outputs": [],
   "source": [
    "import numpy as np\n",
    "import pandas as pd\n",
    "import scanpy as sc\n",
    "import anndata as an\n",
    "import h5py\n",
    "from scipy.io import mmread\n",
    "from scipy.sparse import coo_matrix\n",
    "import matplotlib.pyplot as plt\n",
    "import scipy as sci"
   ]
  },
  {
   "cell_type": "markdown",
   "metadata": {},
   "source": [
    "#### Setup Cells"
   ]
  },
  {
   "cell_type": "code",
   "execution_count": 2,
   "metadata": {},
   "outputs": [],
   "source": [
    "%matplotlib inline"
   ]
  },
  {
   "cell_type": "code",
   "execution_count": 3,
   "metadata": {},
   "outputs": [
    {
     "name": "stdout",
     "output_type": "stream",
     "text": [
      "scanpy==1.9.5 anndata==0.9.2 umap==0.5.4 numpy==1.24.4 scipy==1.13.0 pandas==2.1.1 scikit-learn==1.3.1 statsmodels==0.14.0 igraph==0.11.2 pynndescent==0.5.10\n"
     ]
    }
   ],
   "source": [
    "sc.settings.verbosity = 3             # verbosity: errors (0), warnings (1), info (2), hints (3)\n",
    "sc.logging.print_header()\n",
    "sc.settings.set_figure_params(dpi=80, facecolor='white')"
   ]
  },
  {
   "cell_type": "markdown",
   "metadata": {},
   "source": [
    "### Data Upload"
   ]
  },
  {
   "cell_type": "code",
   "execution_count": 14,
   "metadata": {},
   "outputs": [],
   "source": [
    "input_dir = '/mnt/LaCIE/annaM/gut_project/raw_data/Smillie_2019/SCP259/'\n",
    "epi_dir = 'expression/5cdc540d328cee7a2efc2348'\n",
    "imm_dir = 'expression/5cdc540d328cee7a2efc234a'\n",
    "fib_dir = 'expression/5cdc540d328cee7a2efc2349'\n",
    "\n",
    "meta_data = 'metadata'"
   ]
  },
  {
   "cell_type": "code",
   "execution_count": 5,
   "metadata": {},
   "outputs": [],
   "source": [
    "#Upload barcodes (tsv file) and gene names (tsv file) \n",
    "#Epithelial cells\n",
    "epi_barcodes = pd.read_csv(f'{input_dir}/{epi_dir}/Epi.barcodes2.tsv', sep='\\t', header=None)\n",
    "epi_genes = pd.read_csv(f'{input_dir}/{epi_dir}/Epi.genes.tsv', sep='\\t', header=None)\n",
    "\n",
    "#Immune cells\n",
    "imm_barcodes = pd.read_csv(f'{input_dir}/{imm_dir}/Imm.barcodes2.tsv', sep='\\t', header=None)\n",
    "imm_genes = pd.read_csv(f'{input_dir}/{imm_dir}/Imm.genes.tsv', sep='\\t', header=None)\n",
    "\n",
    "#Fibroblasts\n",
    "fib_barcodes = pd.read_csv(f'{input_dir}/{fib_dir}/Fib.barcodes2.tsv', sep='\\t', header=None)\n",
    "fib_genes = pd.read_csv(f'{input_dir}/{fib_dir}/Fib.genes.tsv', sep='\\t', header=None)"
   ]
  },
  {
   "cell_type": "code",
   "execution_count": 7,
   "metadata": {},
   "outputs": [],
   "source": [
    "#Upload countmatrix (mtx file)\n",
    "#Epithelial cells\n",
    "epi_mtx = mmread(f'{input_dir}/{epi_dir}/gene_sorted-Epi.matrix.mtx')\n",
    "epi_mtx = sci.sparse.csr_matrix(epi_mtx)\n",
    "\n",
    "#Immune cells\n",
    "imm_mtx = mmread(f'{input_dir}/{imm_dir}/gene_sorted-Imm.matrix.mtx')\n",
    "imm_mtx = sci.sparse.csr_matrix(imm_mtx)\n",
    "\n",
    "#Fibroblasts\n",
    "fib_mtx = mmread(f'{input_dir}/{fib_dir}/gene_sorted-Fib.matrix.mtx')\n",
    "fib_mtx = sci.sparse.csr_matrix(fib_mtx)"
   ]
  },
  {
   "cell_type": "code",
   "execution_count": 9,
   "metadata": {},
   "outputs": [],
   "source": [
    "#Rename epi_barcode column to 'cell_id'\n",
    "epi_barcodes.columns = ['cell_id']\n",
    "fib_barcodes.columns = ['cell_id']\n",
    "imm_barcodes.columns = ['cell_id']"
   ]
  },
  {
   "cell_type": "code",
   "execution_count": 10,
   "metadata": {},
   "outputs": [
    {
     "name": "stderr",
     "output_type": "stream",
     "text": [
      "/home/amaguza/miniforge3/envs/scanpy_env/lib/python3.11/site-packages/anndata/_core/anndata.py:121: ImplicitModificationWarning: Transforming to str index.\n",
      "  warnings.warn(\"Transforming to str index.\", ImplicitModificationWarning)\n",
      "/home/amaguza/miniforge3/envs/scanpy_env/lib/python3.11/site-packages/anndata/_core/anndata.py:121: ImplicitModificationWarning: Transforming to str index.\n",
      "  warnings.warn(\"Transforming to str index.\", ImplicitModificationWarning)\n",
      "/home/amaguza/miniforge3/envs/scanpy_env/lib/python3.11/site-packages/anndata/_core/anndata.py:121: ImplicitModificationWarning: Transforming to str index.\n",
      "  warnings.warn(\"Transforming to str index.\", ImplicitModificationWarning)\n",
      "/home/amaguza/miniforge3/envs/scanpy_env/lib/python3.11/site-packages/anndata/_core/anndata.py:121: ImplicitModificationWarning: Transforming to str index.\n",
      "  warnings.warn(\"Transforming to str index.\", ImplicitModificationWarning)\n",
      "/home/amaguza/miniforge3/envs/scanpy_env/lib/python3.11/site-packages/anndata/_core/anndata.py:121: ImplicitModificationWarning: Transforming to str index.\n",
      "  warnings.warn(\"Transforming to str index.\", ImplicitModificationWarning)\n",
      "/home/amaguza/miniforge3/envs/scanpy_env/lib/python3.11/site-packages/anndata/_core/anndata.py:121: ImplicitModificationWarning: Transforming to str index.\n",
      "  warnings.warn(\"Transforming to str index.\", ImplicitModificationWarning)\n"
     ]
    }
   ],
   "source": [
    "#Create epithelial anndata object\n",
    "epi_adata = an.AnnData(X = np.transpose(epi_mtx), obs = epi_barcodes, var = epi_genes)\n",
    "#Create fibroblasts anndata object\n",
    "fib_adata = an.AnnData(X = np.transpose(fib_mtx), obs = fib_barcodes, var = fib_genes)\n",
    "#Create immune anndata object\n",
    "imm_adata = an.AnnData(X = np.transpose(imm_mtx), obs = imm_barcodes, var = imm_genes)"
   ]
  },
  {
   "cell_type": "code",
   "execution_count": 11,
   "metadata": {},
   "outputs": [],
   "source": [
    "#Make gene names as index\n",
    "fib_adata.var_names = fib_adata.var[0]\n",
    "imm_adata.var_names = imm_adata.var[0]\n",
    "epi_adata.var_names = epi_adata.var[0]"
   ]
  },
  {
   "cell_type": "code",
   "execution_count": 12,
   "metadata": {},
   "outputs": [
    {
     "name": "stderr",
     "output_type": "stream",
     "text": [
      "/home/amaguza/miniforge3/envs/scanpy_env/lib/python3.11/site-packages/anndata/_core/merge.py:217: FutureWarning: is_categorical_dtype is deprecated and will be removed in a future version. Use isinstance(dtype, CategoricalDtype) instead\n",
      "  if pd.api.types.is_categorical_dtype(dtype):\n",
      "/home/amaguza/miniforge3/envs/scanpy_env/lib/python3.11/site-packages/anndata/_core/anndata.py:1838: UserWarning: Observation names are not unique. To make them unique, call `.obs_names_make_unique`.\n",
      "  utils.warn_names_duplicates(\"obs\")\n"
     ]
    }
   ],
   "source": [
    "#Create a merged anndata object\n",
    "merged = an.concat([fib_adata, imm_adata, epi_adata], join = 'outer')"
   ]
  },
  {
   "cell_type": "code",
   "execution_count": 13,
   "metadata": {},
   "outputs": [],
   "source": [
    "#Create an obs_names with cell_id \n",
    "merged.obs_names = merged.obs['cell_id']"
   ]
  },
  {
   "cell_type": "code",
   "execution_count": 15,
   "metadata": {},
   "outputs": [
    {
     "name": "stderr",
     "output_type": "stream",
     "text": [
      "/tmp/ipykernel_628045/3333574285.py:2: DtypeWarning: Columns (2,3) have mixed types. Specify dtype option on import or set low_memory=False.\n",
      "  all_meta2 = pd.read_csv(f'{input_dir}/{meta_data}/all.meta2.txt', sep='\\t', header=0)\n"
     ]
    }
   ],
   "source": [
    "#Upload metadata (txt file)\n",
    "all_meta2 = pd.read_csv(f'{input_dir}/{meta_data}/all.meta2.txt', sep='\\t', header=0)"
   ]
  },
  {
   "cell_type": "code",
   "execution_count": 16,
   "metadata": {},
   "outputs": [
    {
     "data": {
      "text/html": [
       "<div>\n",
       "<style scoped>\n",
       "    .dataframe tbody tr th:only-of-type {\n",
       "        vertical-align: middle;\n",
       "    }\n",
       "\n",
       "    .dataframe tbody tr th {\n",
       "        vertical-align: top;\n",
       "    }\n",
       "\n",
       "    .dataframe thead th {\n",
       "        text-align: right;\n",
       "    }\n",
       "</style>\n",
       "<table border=\"1\" class=\"dataframe\">\n",
       "  <thead>\n",
       "    <tr style=\"text-align: right;\">\n",
       "      <th></th>\n",
       "      <th>NAME</th>\n",
       "      <th>Cluster</th>\n",
       "      <th>nGene</th>\n",
       "      <th>nUMI</th>\n",
       "      <th>Subject</th>\n",
       "      <th>Health</th>\n",
       "      <th>Location</th>\n",
       "      <th>Sample</th>\n",
       "    </tr>\n",
       "  </thead>\n",
       "  <tbody>\n",
       "    <tr>\n",
       "      <th>0</th>\n",
       "      <td>TYPE</td>\n",
       "      <td>group</td>\n",
       "      <td>numeric</td>\n",
       "      <td>numeric</td>\n",
       "      <td>group</td>\n",
       "      <td>group</td>\n",
       "      <td>group</td>\n",
       "      <td>group</td>\n",
       "    </tr>\n",
       "    <tr>\n",
       "      <th>1</th>\n",
       "      <td>N7.EpiA.AAACATACACACTG</td>\n",
       "      <td>TA 1</td>\n",
       "      <td>328</td>\n",
       "      <td>891</td>\n",
       "      <td>N7</td>\n",
       "      <td>Non-inflamed</td>\n",
       "      <td>Epi</td>\n",
       "      <td>N7.EpiA</td>\n",
       "    </tr>\n",
       "    <tr>\n",
       "      <th>2</th>\n",
       "      <td>N7.EpiA.AAACCGTGCATCAG</td>\n",
       "      <td>TA 1</td>\n",
       "      <td>257</td>\n",
       "      <td>663</td>\n",
       "      <td>N7</td>\n",
       "      <td>Non-inflamed</td>\n",
       "      <td>Epi</td>\n",
       "      <td>N7.EpiA</td>\n",
       "    </tr>\n",
       "    <tr>\n",
       "      <th>3</th>\n",
       "      <td>N7.EpiA.AAACGCACAATCGC</td>\n",
       "      <td>TA 2</td>\n",
       "      <td>300</td>\n",
       "      <td>639</td>\n",
       "      <td>N7</td>\n",
       "      <td>Non-inflamed</td>\n",
       "      <td>Epi</td>\n",
       "      <td>N7.EpiA</td>\n",
       "    </tr>\n",
       "    <tr>\n",
       "      <th>4</th>\n",
       "      <td>N7.EpiA.AAAGATCTAACCGT</td>\n",
       "      <td>Enterocyte Progenitors</td>\n",
       "      <td>250</td>\n",
       "      <td>649</td>\n",
       "      <td>N7</td>\n",
       "      <td>Non-inflamed</td>\n",
       "      <td>Epi</td>\n",
       "      <td>N7.EpiA</td>\n",
       "    </tr>\n",
       "    <tr>\n",
       "      <th>...</th>\n",
       "      <td>...</td>\n",
       "      <td>...</td>\n",
       "      <td>...</td>\n",
       "      <td>...</td>\n",
       "      <td>...</td>\n",
       "      <td>...</td>\n",
       "      <td>...</td>\n",
       "      <td>...</td>\n",
       "    </tr>\n",
       "    <tr>\n",
       "      <th>365488</th>\n",
       "      <td>N110.LPB.TTTGGTTAGGATGGTC</td>\n",
       "      <td>Macrophages</td>\n",
       "      <td>635</td>\n",
       "      <td>1366</td>\n",
       "      <td>N110</td>\n",
       "      <td>Inflamed</td>\n",
       "      <td>LP</td>\n",
       "      <td>N110.LPB</td>\n",
       "    </tr>\n",
       "    <tr>\n",
       "      <th>365489</th>\n",
       "      <td>N110.LPB.TTTGGTTCACCTCGTT</td>\n",
       "      <td>Plasma</td>\n",
       "      <td>610</td>\n",
       "      <td>2730</td>\n",
       "      <td>N110</td>\n",
       "      <td>Inflamed</td>\n",
       "      <td>LP</td>\n",
       "      <td>N110.LPB</td>\n",
       "    </tr>\n",
       "    <tr>\n",
       "      <th>365490</th>\n",
       "      <td>N110.LPB.TTTGGTTTCGGAAACG</td>\n",
       "      <td>Macrophages</td>\n",
       "      <td>859</td>\n",
       "      <td>1979</td>\n",
       "      <td>N110</td>\n",
       "      <td>Inflamed</td>\n",
       "      <td>LP</td>\n",
       "      <td>N110.LPB</td>\n",
       "    </tr>\n",
       "    <tr>\n",
       "      <th>365491</th>\n",
       "      <td>N110.LPB.TTTGTCAGTTGACGTT</td>\n",
       "      <td>Macrophages</td>\n",
       "      <td>965</td>\n",
       "      <td>2696</td>\n",
       "      <td>N110</td>\n",
       "      <td>Inflamed</td>\n",
       "      <td>LP</td>\n",
       "      <td>N110.LPB</td>\n",
       "    </tr>\n",
       "    <tr>\n",
       "      <th>365492</th>\n",
       "      <td>N110.LPB.TTTGTCATCTGACCTC</td>\n",
       "      <td>CD69+ Mast</td>\n",
       "      <td>559</td>\n",
       "      <td>1156</td>\n",
       "      <td>N110</td>\n",
       "      <td>Inflamed</td>\n",
       "      <td>LP</td>\n",
       "      <td>N110.LPB</td>\n",
       "    </tr>\n",
       "  </tbody>\n",
       "</table>\n",
       "<p>365493 rows × 8 columns</p>\n",
       "</div>"
      ],
      "text/plain": [
       "                             NAME                 Cluster    nGene     nUMI  \\\n",
       "0                            TYPE                   group  numeric  numeric   \n",
       "1          N7.EpiA.AAACATACACACTG                    TA 1      328      891   \n",
       "2          N7.EpiA.AAACCGTGCATCAG                    TA 1      257      663   \n",
       "3          N7.EpiA.AAACGCACAATCGC                    TA 2      300      639   \n",
       "4          N7.EpiA.AAAGATCTAACCGT  Enterocyte Progenitors      250      649   \n",
       "...                           ...                     ...      ...      ...   \n",
       "365488  N110.LPB.TTTGGTTAGGATGGTC             Macrophages      635     1366   \n",
       "365489  N110.LPB.TTTGGTTCACCTCGTT                  Plasma      610     2730   \n",
       "365490  N110.LPB.TTTGGTTTCGGAAACG             Macrophages      859     1979   \n",
       "365491  N110.LPB.TTTGTCAGTTGACGTT             Macrophages      965     2696   \n",
       "365492  N110.LPB.TTTGTCATCTGACCTC              CD69+ Mast      559     1156   \n",
       "\n",
       "       Subject        Health Location    Sample  \n",
       "0        group         group    group     group  \n",
       "1           N7  Non-inflamed      Epi   N7.EpiA  \n",
       "2           N7  Non-inflamed      Epi   N7.EpiA  \n",
       "3           N7  Non-inflamed      Epi   N7.EpiA  \n",
       "4           N7  Non-inflamed      Epi   N7.EpiA  \n",
       "...        ...           ...      ...       ...  \n",
       "365488    N110      Inflamed       LP  N110.LPB  \n",
       "365489    N110      Inflamed       LP  N110.LPB  \n",
       "365490    N110      Inflamed       LP  N110.LPB  \n",
       "365491    N110      Inflamed       LP  N110.LPB  \n",
       "365492    N110      Inflamed       LP  N110.LPB  \n",
       "\n",
       "[365493 rows x 8 columns]"
      ]
     },
     "execution_count": 16,
     "metadata": {},
     "output_type": "execute_result"
    }
   ],
   "source": [
    "all_meta2"
   ]
  },
  {
   "cell_type": "code",
   "execution_count": 17,
   "metadata": {},
   "outputs": [],
   "source": [
    "#Make NAME as index and remove the first column\n",
    "all_meta2.index = all_meta2['NAME']\n",
    "all_meta2 = all_meta2.drop(['NAME'], axis = 1)"
   ]
  },
  {
   "cell_type": "code",
   "execution_count": 18,
   "metadata": {},
   "outputs": [],
   "source": [
    "all_meta2 = all_meta2.drop(['TYPE'])"
   ]
  },
  {
   "cell_type": "code",
   "execution_count": 19,
   "metadata": {},
   "outputs": [],
   "source": [
    "#Change nUMI to int type in all_meta2\n",
    "all_meta2['nUMI'] = all_meta2['nUMI'].astype(str)\n",
    "all_meta2['nGene'] = all_meta2['nGene'].astype(str)"
   ]
  },
  {
   "cell_type": "code",
   "execution_count": 20,
   "metadata": {},
   "outputs": [],
   "source": [
    "#Add all_meta2 to merged anndata object by cell_id in merged.obs and NAME in all_meta2\n",
    "merged.obs['cell_type'] = all_meta2['Cluster']\n",
    "merged.obs['nGene'] = all_meta2['nGene']\n",
    "merged.obs['nUMI'] = all_meta2['nUMI']\n",
    "merged.obs['Subject'] = all_meta2['Subject']\n",
    "merged.obs['Sample'] = all_meta2['Sample']\n",
    "merged.obs['Health'] = all_meta2['Health']\n",
    "merged.obs['Location'] = all_meta2['Location']\n"
   ]
  },
  {
   "cell_type": "code",
   "execution_count": 21,
   "metadata": {},
   "outputs": [
    {
     "data": {
      "text/html": [
       "<div>\n",
       "<style scoped>\n",
       "    .dataframe tbody tr th:only-of-type {\n",
       "        vertical-align: middle;\n",
       "    }\n",
       "\n",
       "    .dataframe tbody tr th {\n",
       "        vertical-align: top;\n",
       "    }\n",
       "\n",
       "    .dataframe thead th {\n",
       "        text-align: right;\n",
       "    }\n",
       "</style>\n",
       "<table border=\"1\" class=\"dataframe\">\n",
       "  <thead>\n",
       "    <tr style=\"text-align: right;\">\n",
       "      <th></th>\n",
       "      <th>cell_id</th>\n",
       "      <th>cell_type</th>\n",
       "      <th>nGene</th>\n",
       "      <th>nUMI</th>\n",
       "      <th>Subject</th>\n",
       "      <th>Sample</th>\n",
       "      <th>Health</th>\n",
       "      <th>Location</th>\n",
       "    </tr>\n",
       "    <tr>\n",
       "      <th>cell_id</th>\n",
       "      <th></th>\n",
       "      <th></th>\n",
       "      <th></th>\n",
       "      <th></th>\n",
       "      <th></th>\n",
       "      <th></th>\n",
       "      <th></th>\n",
       "      <th></th>\n",
       "    </tr>\n",
       "  </thead>\n",
       "  <tbody>\n",
       "    <tr>\n",
       "      <th>N7.LPA.AAACATACCATTTC</th>\n",
       "      <td>N7.LPA.AAACATACCATTTC</td>\n",
       "      <td>WNT2B+ Fos-lo 1</td>\n",
       "      <td>550</td>\n",
       "      <td>1118</td>\n",
       "      <td>N7</td>\n",
       "      <td>N7.LPA</td>\n",
       "      <td>Non-inflamed</td>\n",
       "      <td>LP</td>\n",
       "    </tr>\n",
       "    <tr>\n",
       "      <th>N7.LPA.AAACGCACCCGATA</th>\n",
       "      <td>N7.LPA.AAACGCACCCGATA</td>\n",
       "      <td>Myofibroblasts</td>\n",
       "      <td>303</td>\n",
       "      <td>516</td>\n",
       "      <td>N7</td>\n",
       "      <td>N7.LPA</td>\n",
       "      <td>Non-inflamed</td>\n",
       "      <td>LP</td>\n",
       "    </tr>\n",
       "    <tr>\n",
       "      <th>N7.LPA.AAACGCTGTATCGG</th>\n",
       "      <td>N7.LPA.AAACGCTGTATCGG</td>\n",
       "      <td>Myofibroblasts</td>\n",
       "      <td>636</td>\n",
       "      <td>1312</td>\n",
       "      <td>N7</td>\n",
       "      <td>N7.LPA</td>\n",
       "      <td>Non-inflamed</td>\n",
       "      <td>LP</td>\n",
       "    </tr>\n",
       "    <tr>\n",
       "      <th>N7.LPA.AAAGACGAGACAGG</th>\n",
       "      <td>N7.LPA.AAAGACGAGACAGG</td>\n",
       "      <td>WNT2B+ Fos-hi</td>\n",
       "      <td>1030</td>\n",
       "      <td>2594</td>\n",
       "      <td>N7</td>\n",
       "      <td>N7.LPA</td>\n",
       "      <td>Non-inflamed</td>\n",
       "      <td>LP</td>\n",
       "    </tr>\n",
       "    <tr>\n",
       "      <th>N7.LPA.AAAGATCTAGTCTG</th>\n",
       "      <td>N7.LPA.AAAGATCTAGTCTG</td>\n",
       "      <td>WNT2B+ Fos-hi</td>\n",
       "      <td>707</td>\n",
       "      <td>1769</td>\n",
       "      <td>N7</td>\n",
       "      <td>N7.LPA</td>\n",
       "      <td>Non-inflamed</td>\n",
       "      <td>LP</td>\n",
       "    </tr>\n",
       "    <tr>\n",
       "      <th>...</th>\n",
       "      <td>...</td>\n",
       "      <td>...</td>\n",
       "      <td>...</td>\n",
       "      <td>...</td>\n",
       "      <td>...</td>\n",
       "      <td>...</td>\n",
       "      <td>...</td>\n",
       "      <td>...</td>\n",
       "    </tr>\n",
       "    <tr>\n",
       "      <th>N110.LPB.TTTGGTTGTGTGGCTC</th>\n",
       "      <td>N110.LPB.TTTGGTTGTGTGGCTC</td>\n",
       "      <td>Immature Enterocytes 2</td>\n",
       "      <td>2553</td>\n",
       "      <td>11705</td>\n",
       "      <td>N110</td>\n",
       "      <td>N110.LPB</td>\n",
       "      <td>Inflamed</td>\n",
       "      <td>LP</td>\n",
       "    </tr>\n",
       "    <tr>\n",
       "      <th>N110.LPB.TTTGGTTTCCTTAATC</th>\n",
       "      <td>N110.LPB.TTTGGTTTCCTTAATC</td>\n",
       "      <td>TA 2</td>\n",
       "      <td>3234</td>\n",
       "      <td>16164</td>\n",
       "      <td>N110</td>\n",
       "      <td>N110.LPB</td>\n",
       "      <td>Inflamed</td>\n",
       "      <td>LP</td>\n",
       "    </tr>\n",
       "    <tr>\n",
       "      <th>N110.LPB.TTTGGTTTCTTACCTA</th>\n",
       "      <td>N110.LPB.TTTGGTTTCTTACCTA</td>\n",
       "      <td>Enterocyte Progenitors</td>\n",
       "      <td>258</td>\n",
       "      <td>384</td>\n",
       "      <td>N110</td>\n",
       "      <td>N110.LPB</td>\n",
       "      <td>Inflamed</td>\n",
       "      <td>LP</td>\n",
       "    </tr>\n",
       "    <tr>\n",
       "      <th>N110.LPB.TTTGTCAAGGATGGAA</th>\n",
       "      <td>N110.LPB.TTTGTCAAGGATGGAA</td>\n",
       "      <td>TA 1</td>\n",
       "      <td>487</td>\n",
       "      <td>772</td>\n",
       "      <td>N110</td>\n",
       "      <td>N110.LPB</td>\n",
       "      <td>Inflamed</td>\n",
       "      <td>LP</td>\n",
       "    </tr>\n",
       "    <tr>\n",
       "      <th>N110.LPB.TTTGTCAGTTGTTTGG</th>\n",
       "      <td>N110.LPB.TTTGTCAGTTGTTTGG</td>\n",
       "      <td>TA 1</td>\n",
       "      <td>363</td>\n",
       "      <td>747</td>\n",
       "      <td>N110</td>\n",
       "      <td>N110.LPB</td>\n",
       "      <td>Inflamed</td>\n",
       "      <td>LP</td>\n",
       "    </tr>\n",
       "  </tbody>\n",
       "</table>\n",
       "<p>365492 rows × 8 columns</p>\n",
       "</div>"
      ],
      "text/plain": [
       "                                             cell_id               cell_type  \\\n",
       "cell_id                                                                        \n",
       "N7.LPA.AAACATACCATTTC          N7.LPA.AAACATACCATTTC         WNT2B+ Fos-lo 1   \n",
       "N7.LPA.AAACGCACCCGATA          N7.LPA.AAACGCACCCGATA          Myofibroblasts   \n",
       "N7.LPA.AAACGCTGTATCGG          N7.LPA.AAACGCTGTATCGG          Myofibroblasts   \n",
       "N7.LPA.AAAGACGAGACAGG          N7.LPA.AAAGACGAGACAGG           WNT2B+ Fos-hi   \n",
       "N7.LPA.AAAGATCTAGTCTG          N7.LPA.AAAGATCTAGTCTG           WNT2B+ Fos-hi   \n",
       "...                                              ...                     ...   \n",
       "N110.LPB.TTTGGTTGTGTGGCTC  N110.LPB.TTTGGTTGTGTGGCTC  Immature Enterocytes 2   \n",
       "N110.LPB.TTTGGTTTCCTTAATC  N110.LPB.TTTGGTTTCCTTAATC                    TA 2   \n",
       "N110.LPB.TTTGGTTTCTTACCTA  N110.LPB.TTTGGTTTCTTACCTA  Enterocyte Progenitors   \n",
       "N110.LPB.TTTGTCAAGGATGGAA  N110.LPB.TTTGTCAAGGATGGAA                    TA 1   \n",
       "N110.LPB.TTTGTCAGTTGTTTGG  N110.LPB.TTTGTCAGTTGTTTGG                    TA 1   \n",
       "\n",
       "                          nGene   nUMI Subject    Sample        Health  \\\n",
       "cell_id                                                                  \n",
       "N7.LPA.AAACATACCATTTC       550   1118      N7    N7.LPA  Non-inflamed   \n",
       "N7.LPA.AAACGCACCCGATA       303    516      N7    N7.LPA  Non-inflamed   \n",
       "N7.LPA.AAACGCTGTATCGG       636   1312      N7    N7.LPA  Non-inflamed   \n",
       "N7.LPA.AAAGACGAGACAGG      1030   2594      N7    N7.LPA  Non-inflamed   \n",
       "N7.LPA.AAAGATCTAGTCTG       707   1769      N7    N7.LPA  Non-inflamed   \n",
       "...                         ...    ...     ...       ...           ...   \n",
       "N110.LPB.TTTGGTTGTGTGGCTC  2553  11705    N110  N110.LPB      Inflamed   \n",
       "N110.LPB.TTTGGTTTCCTTAATC  3234  16164    N110  N110.LPB      Inflamed   \n",
       "N110.LPB.TTTGGTTTCTTACCTA   258    384    N110  N110.LPB      Inflamed   \n",
       "N110.LPB.TTTGTCAAGGATGGAA   487    772    N110  N110.LPB      Inflamed   \n",
       "N110.LPB.TTTGTCAGTTGTTTGG   363    747    N110  N110.LPB      Inflamed   \n",
       "\n",
       "                          Location  \n",
       "cell_id                             \n",
       "N7.LPA.AAACATACCATTTC           LP  \n",
       "N7.LPA.AAACGCACCCGATA           LP  \n",
       "N7.LPA.AAACGCTGTATCGG           LP  \n",
       "N7.LPA.AAAGACGAGACAGG           LP  \n",
       "N7.LPA.AAAGATCTAGTCTG           LP  \n",
       "...                            ...  \n",
       "N110.LPB.TTTGGTTGTGTGGCTC       LP  \n",
       "N110.LPB.TTTGGTTTCCTTAATC       LP  \n",
       "N110.LPB.TTTGGTTTCTTACCTA       LP  \n",
       "N110.LPB.TTTGTCAAGGATGGAA       LP  \n",
       "N110.LPB.TTTGTCAGTTGTTTGG       LP  \n",
       "\n",
       "[365492 rows x 8 columns]"
      ]
     },
     "execution_count": 21,
     "metadata": {},
     "output_type": "execute_result"
    }
   ],
   "source": [
    "merged.obs"
   ]
  },
  {
   "cell_type": "code",
   "execution_count": 22,
   "metadata": {},
   "outputs": [
    {
     "name": "stderr",
     "output_type": "stream",
     "text": [
      "/home/amaguza/miniforge3/envs/scanpy_env/lib/python3.11/site-packages/anndata/_core/anndata.py:1113: FutureWarning: is_categorical_dtype is deprecated and will be removed in a future version. Use isinstance(dtype, CategoricalDtype) instead\n",
      "  if not is_categorical_dtype(df_full[k]):\n"
     ]
    }
   ],
   "source": [
    "#Filter only not inflamed stem cells from the Smilie_stem \n",
    "merged = merged[merged.obs['Health'].isin(['Healthy', 'Non-inflamed']),:]"
   ]
  },
  {
   "cell_type": "code",
   "execution_count": 23,
   "metadata": {},
   "outputs": [],
   "source": [
    "merged.obs.index.name = \"cell_id\""
   ]
  },
  {
   "cell_type": "code",
   "execution_count": 24,
   "metadata": {},
   "outputs": [
    {
     "name": "stderr",
     "output_type": "stream",
     "text": [
      "/tmp/ipykernel_628045/3558455132.py:3: ImplicitModificationWarning: Trying to modify attribute `.obs` of view, initializing view as actual.\n",
      "  merged.obs[\"Donor_ID\"] = merged.obs[\"Subject\"]\n"
     ]
    }
   ],
   "source": [
    "# Rename columns in Smilie_stem as they are in Wang_stem\n",
    "del merged.obs[\"cell_id\"]\n",
    "merged.obs[\"Donor_ID\"] = merged.obs[\"Subject\"]\n",
    "del merged.obs[\"Subject\"]\n",
    "merged.obs[\"Sample_ID\"] = merged.obs[\"Sample\"]\n",
    "del merged.obs[\"Sample\"]\n",
    "merged.obs[\"CellType\"] = merged.obs[\"cell_type\"]\n",
    "del merged.obs[\"cell_type\"]\n",
    "merged.obs[\"n_counts\"] = merged.obs[\"nUMI\"]\n",
    "del merged.obs[\"nUMI\"]\n",
    "merged.obs[\"n_genes\"] = merged.obs[\"nGene\"]\n",
    "del merged.obs[\"nGene\"]\n",
    "merged.obs[\"Diagnosis\"] = merged.obs[\"Health\"]\n",
    "del merged.obs[\"Health\"]"
   ]
  },
  {
   "cell_type": "code",
   "execution_count": 25,
   "metadata": {},
   "outputs": [],
   "source": [
    "merged.var.index.name = \"gene_id\""
   ]
  },
  {
   "cell_type": "code",
   "execution_count": 26,
   "metadata": {},
   "outputs": [],
   "source": [
    "#Save anndata object\n",
    "merged.write(f'{input_dir}/Smillie_ulcerative_colitis_anndata.h5ad')"
   ]
  }
 ],
 "metadata": {
  "kernelspec": {
   "display_name": "Scanpy",
   "language": "python",
   "name": "scnapy-server"
  },
  "orig_nbformat": 4
 },
 "nbformat": 4,
 "nbformat_minor": 2
}
