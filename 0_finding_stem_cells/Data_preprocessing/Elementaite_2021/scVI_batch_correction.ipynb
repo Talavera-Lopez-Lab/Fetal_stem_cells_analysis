{
 "cells": [
  {
   "attachments": {},
   "cell_type": "markdown",
   "metadata": {},
   "source": [
    "## Notebook for Gut Cell Atlas data integration and batch correction `scVI`\n",
    "\n",
    "+ Developed by: Anna Maguza\n",
    "+ Institute of Computational Biology - Computational Health Centre - Hemlholtz Munich\n",
    "+ Date created: 4th July 2023\n",
    "+ Last modified: 22nd May 2024"
   ]
  },
  {
   "cell_type": "markdown",
   "metadata": {},
   "source": [
    "### Load required modules"
   ]
  },
  {
   "cell_type": "code",
   "execution_count": null,
   "metadata": {},
   "outputs": [],
   "source": [
    "import scvi\n",
    "import torch\n",
    "import anndata\n",
    "import warnings\n",
    "import numpy as np\n",
    "import scanpy as sc\n",
    "import pandas as pd\n",
    "import plotnine as p\n",
    "from pywaffle import Waffle\n",
    "import matplotlib.pyplot as plt"
   ]
  },
  {
   "cell_type": "code",
   "execution_count": null,
   "metadata": {},
   "outputs": [],
   "source": [
    "torch.cuda.is_available()"
   ]
  },
  {
   "cell_type": "code",
   "execution_count": null,
   "metadata": {},
   "outputs": [],
   "source": [
    "torch.set_float32_matmul_precision('medium')"
   ]
  },
  {
   "cell_type": "code",
   "execution_count": null,
   "metadata": {},
   "outputs": [],
   "source": [
    "sc.settings.verbosity = 3\n",
    "sc.logging.print_versions()\n",
    "sc.settings.set_figure_params(dpi = 180, color_map = 'magma_r', dpi_save = 300, vector_friendly = True, format = 'svg')"
   ]
  },
  {
   "cell_type": "code",
   "execution_count": null,
   "metadata": {},
   "outputs": [],
   "source": [
    "arches_params = dict(\n",
    "    use_layer_norm = \"both\",\n",
    "    use_batch_norm = \"none\",\n",
    "    encode_covariates = True,\n",
    "    dropout_rate = 0.2,\n",
    "    n_layers = 2,\n",
    ")"
   ]
  },
  {
   "cell_type": "code",
   "execution_count": null,
   "metadata": {},
   "outputs": [],
   "source": [
    "def X_is_raw(adata):\n",
    "    return np.array_equal(adata.X.sum(axis=0).astype(int), adata.X.sum(axis=0))"
   ]
  },
  {
   "cell_type": "markdown",
   "metadata": {},
   "source": [
    "### Read in datasets"
   ]
  },
  {
   "cell_type": "code",
   "execution_count": 17,
   "metadata": {},
   "outputs": [],
   "source": [
    "input_dir = '/mnt/LaCIE/annaM/gut_project/raw_data/Elmentaite_2021/'\n",
    "fig_dir = '/mnt/LaCIE/annaM/gut_project/Processed_data/Gut_data/Plots/Finding_stem_cells'"
   ]
  },
  {
   "cell_type": "code",
   "execution_count": null,
   "metadata": {},
   "outputs": [],
   "source": [
    "adata = sc.read(f'{input_dir}/GCA_filtered_raw.h5ad')"
   ]
  },
  {
   "cell_type": "code",
   "execution_count": null,
   "metadata": {},
   "outputs": [],
   "source": [
    "X_is_raw(adata)"
   ]
  },
  {
   "cell_type": "code",
   "execution_count": null,
   "metadata": {},
   "outputs": [],
   "source": [
    "# Save raw data\n",
    "adata.raw = adata"
   ]
  },
  {
   "cell_type": "code",
   "execution_count": null,
   "metadata": {},
   "outputs": [],
   "source": [
    "adata.layers['counts'] = adata.X.copy()\n",
    "\n",
    "# Calculate 5000 HVGs\n",
    "sc.pp.highly_variable_genes(\n",
    "    adata,\n",
    "    flavor = \"seurat_v3\",\n",
    "    n_top_genes = 5000,\n",
    "    layer = \"counts\",\n",
    "    batch_key = \"Library_Preparation_Protocol\",\n",
    "    subset = True,\n",
    "    span = 1\n",
    ")"
   ]
  },
  {
   "cell_type": "markdown",
   "metadata": {},
   "source": [
    "### Run Integration with scVI"
   ]
  },
  {
   "cell_type": "code",
   "execution_count": null,
   "metadata": {},
   "outputs": [],
   "source": [
    "adata = adata.copy()\n",
    "scvi.model.SCVI.setup_anndata(adata, \n",
    "                              layer = \"counts\", \n",
    "                              labels_key = \"Cell_Type\", \n",
    "                              categorical_covariate_keys = [\"Sample_ID\"])"
   ]
  },
  {
   "cell_type": "code",
   "execution_count": null,
   "metadata": {},
   "outputs": [],
   "source": [
    "scvi_model = scvi.model.SCVI(adata, n_latent = 50, n_layers = 3, dispersion = 'gene-batch', gene_likelihood = 'nb')"
   ]
  },
  {
   "cell_type": "code",
   "execution_count": null,
   "metadata": {},
   "outputs": [],
   "source": [
    "scvi_model.train(50, \n",
    "                 check_val_every_n_epoch = 1, \n",
    "                 enable_progress_bar = True, \n",
    "                 accelerator = \"gpu\",\n",
    "                 devices = [0])"
   ]
  },
  {
   "cell_type": "code",
   "execution_count": null,
   "metadata": {},
   "outputs": [],
   "source": [
    "history_df = (\n",
    "    scvi_model.history['elbo_train'].astype(float)\n",
    "    .join(scvi_model.history['elbo_validation'].astype(float))\n",
    "    .reset_index()\n",
    "    .melt(id_vars = ['epoch'])\n",
    ")\n",
    "\n",
    "p.options.figure_size = 12, 6\n",
    "\n",
    "p_ = (\n",
    "    p.ggplot(p.aes(x = 'epoch', y = 'value', color = 'variable'), history_df.query('epoch > 0'))\n",
    "    + p.geom_line()\n",
    "    + p.geom_point()\n",
    "    + p.scale_color_manual({'elbo_train': 'black', 'elbo_validation': 'red'})\n",
    "    + p.theme_minimal()\n",
    ")\n",
    "\n",
    "print(p_)"
   ]
  },
  {
   "cell_type": "code",
   "execution_count": null,
   "metadata": {},
   "outputs": [],
   "source": [
    "adata.obsm[\"X_scVI\"] = scvi_model.get_latent_representation()"
   ]
  },
  {
   "cell_type": "markdown",
   "metadata": {},
   "source": [
    "### Integration with scANVI"
   ]
  },
  {
   "cell_type": "code",
   "execution_count": null,
   "metadata": {},
   "outputs": [],
   "source": [
    "scanvi_model = scvi.model.SCANVI.from_scvi_model(\n",
    "    scvi_model,\n",
    "    adata=adata,\n",
    "    labels_key=\"Cell_Type\",\n",
    "    unlabeled_category=\"Unknown\",\n",
    ")"
   ]
  },
  {
   "cell_type": "code",
   "execution_count": null,
   "metadata": {},
   "outputs": [],
   "source": [
    "scanvi_model.train(100, \n",
    "                 check_val_every_n_epoch = 1, \n",
    "                 enable_progress_bar = True, \n",
    "                 accelerator = \"gpu\",\n",
    "                 devices = [0])"
   ]
  },
  {
   "cell_type": "code",
   "execution_count": null,
   "metadata": {},
   "outputs": [],
   "source": [
    "history_df = (\n",
    "    scanvi_model.history['elbo_train'].astype(float)\n",
    "    .join(scanvi_model.history['elbo_validation'].astype(float))\n",
    "    .reset_index()\n",
    "    .melt(id_vars = ['epoch'])\n",
    ")\n",
    "\n",
    "p.options.figure_size = 12, 6\n",
    "\n",
    "p_ = (\n",
    "    p.ggplot(p.aes(x = 'epoch', y = 'value', color = 'variable'), history_df.query('epoch > 0'))\n",
    "    + p.geom_line()\n",
    "    + p.geom_point()\n",
    "    + p.scale_color_manual({'elbo_train': 'black', 'elbo_validation': 'red'})\n",
    "    + p.theme_minimal()\n",
    ")\n",
    "\n",
    "p_.save('fig1.png', dpi = 300)\n",
    "\n",
    "print(p_)"
   ]
  },
  {
   "cell_type": "code",
   "execution_count": null,
   "metadata": {},
   "outputs": [],
   "source": [
    "adata.obsm[\"X_scANVI\"] = scanvi_model.get_latent_representation(adata)"
   ]
  },
  {
   "cell_type": "markdown",
   "metadata": {},
   "source": [
    "### UMAP calculation"
   ]
  },
  {
   "cell_type": "code",
   "execution_count": null,
   "metadata": {},
   "outputs": [],
   "source": [
    "sc.pp.neighbors(adata, use_rep = \"X_scANVI\", n_neighbors = 50, metric = 'minkowski')"
   ]
  },
  {
   "cell_type": "code",
   "execution_count": null,
   "metadata": {},
   "outputs": [],
   "source": [
    "sc.tl.umap(adata, min_dist = 0.4, spread = 4, random_state = 1712)"
   ]
  },
  {
   "cell_type": "code",
   "execution_count": null,
   "metadata": {},
   "outputs": [],
   "source": [
    "adata = adata.raw.to_adata()"
   ]
  },
  {
   "cell_type": "code",
   "execution_count": null,
   "metadata": {},
   "outputs": [],
   "source": [
    "adata.write(f'{input_dir}/Elementaine_2021_scVI_scANVI_corrected.h5ad')"
   ]
  },
  {
   "cell_type": "markdown",
   "metadata": {},
   "source": [
    "### Create plots"
   ]
  },
  {
   "cell_type": "code",
   "execution_count": 3,
   "metadata": {},
   "outputs": [],
   "source": [
    "adata = sc.read_h5ad(f'{input_dir}/Elementaine_2021_scVI_scANVI_corrected.h5ad')"
   ]
  },
  {
   "cell_type": "code",
   "execution_count": null,
   "metadata": {},
   "outputs": [],
   "source": [
    "sc.set_figure_params(dpi=300)\n",
    "sc.pl.umap(adata, frameon = False, color = ['Cell_Type', 'Diagnosis', 'Donor_ID', 'Library_Preparation_Protocol', 'Location', 'Sex', ], size = 1, legend_fontsize = 5, ncols = 3)"
   ]
  },
  {
   "cell_type": "code",
   "execution_count": null,
   "metadata": {},
   "outputs": [],
   "source": [
    "adata.obs['Stem_cell'] = adata.obs['Cell_State'] == 'Stem cells'\n",
    "adata.obs['Stem_cell'] = adata.obs['Stem_cell'].astype(str)\n",
    "\n",
    "new_palette = ['#759EB8', '#824670']  # Hex codes for pink and light blue\n",
    "\n",
    "# Assign the new color palette to your categories\n",
    "adata.uns['Stem_cell_colors'] = new_palette\n",
    "\n",
    "fig_dir = '/mnt/LaCIE/annaM/gut_project/Processed_data/Gut_data/Plots/Finding_stem_cells'\n",
    "\n",
    "with plt.rc_context():\n",
    "    sc.set_figure_params(dpi=300, figsize=(15, 15))\n",
    "    sc.pl.umap(adata, frameon=False, color='Stem_cell', size=10, legend_fontsize=5, ncols=3, show=False)\n",
    "    plt.savefig(f\"{fig_dir}/Elementaite_stem_umap.png\", bbox_inches=\"tight\")"
   ]
  },
  {
   "cell_type": "code",
   "execution_count": 4,
   "metadata": {},
   "outputs": [],
   "source": [
    "adata_log = adata.copy()\n",
    "sc.pp.normalize_total(adata_log, target_sum = 1e6, exclude_highly_expressed = True)\n",
    "sc.pp.log1p(adata_log)"
   ]
  },
  {
   "cell_type": "code",
   "execution_count": 5,
   "metadata": {},
   "outputs": [],
   "source": [
    "stem_cells_markers = ['AXIN2', 'ASCL2', 'ATOH1', 'BMI1', 'CA12', 'CLU', 'GPX2', 'HMGCS2', 'LEFTY1', 'LGR5', 'LRIG1', 'MYC', 'OLFM4', 'SMOC2', 'TERT']"
   ]
  },
  {
   "cell_type": "code",
   "execution_count": null,
   "metadata": {},
   "outputs": [],
   "source": [
    "sc.tl.score_genes(adata_log, stem_cells_markers, score_name = 'Stem_cells_markers_score')"
   ]
  },
  {
   "cell_type": "code",
   "execution_count": null,
   "metadata": {},
   "outputs": [],
   "source": [
    "with plt.rc_context():\n",
    "    sc.set_figure_params(dpi=300, figsize=(15, 15))\n",
    "    sc.pl.umap(adata_log, color= ['Stem_cells_markers_score'], color_map = \"magma_r\", frameon=False, size = 10, show=False)\n",
    "    plt.savefig(f\"{fig_dir}/Elementaite_stem_markers.png\", bbox_inches=\"tight\")"
   ]
  },
  {
   "cell_type": "code",
   "execution_count": null,
   "metadata": {},
   "outputs": [],
   "source": [
    "stem_cells = adata_log[adata_log.obs['Cell_State'] == 'Stem cells']\n",
    "with plt.rc_context():\n",
    "    sc.set_figure_params(dpi=300, figsize=(15, 15))\n",
    "    sc.pl.dotplot(stem_cells, stem_cells_markers, groupby='Cell_State', cmap = 'magma_r', show=False) \n",
    "    plt.savefig(f\"{fig_dir}/Elementaite_stem_markers_dotplot.png\", bbox_inches=\"tight\")"
   ]
  },
  {
   "cell_type": "code",
   "execution_count": null,
   "metadata": {},
   "outputs": [],
   "source": [
    "Stem_cells_markers = ['CD24', 'DCLK1', 'LGR5', 'CD166', 'CD44', 'DCAMKL-1', 'SOX9', 'ACAD10', 'ACVR1C', 'ADH1C', 'ALDH1', 'ALK3', 'ARSE', \n",
    "'ASCL2', 'ATP10B', 'BMI1', 'C16orf89', 'C6orf136', 'CD29', 'CDCA7', 'CFTR','CHMP4C', 'CHP2', 'CLDN15', 'CLDN18', 'CLDN2', 'CPA6', 'DAPK2', \n",
    "'DDC', 'EFNA3', 'EPHB2', 'EPYC', 'EVPL', 'F2RL1', 'FBLN2', 'FOXD2-AS1', 'GATA6-AS1', 'GDF15', 'GJB1', 'GJB1', 'GOLT1A', 'GPX2', 'HNF1A', \n",
    "'HSD17B2', 'ITPKC','LEFTY1', 'LHFPL3-AS2', 'LIPG', 'LY6G6D', 'MGST1', 'MSI1', 'MYOM3', 'Musashi-1', 'NOX1', 'OLFM4', 'PCSK9', 'PDZD3', \n",
    "'PHLDA1', 'PKP2', 'PLAGL2', 'PLEKHH1', 'PPP1R1B', 'PTGDR', 'PTK7', 'RGMB', 'RNF157', 'RNF186', 'SFN', 'SLC27A2', 'SLC38A4', 'SLPI',\n",
    "'SULT1B1', 'TAF4B', 'TANC1', 'TMEM171', 'TSPAN8', 'Telomerase Inhibitors', 'URB1-AS1', 'ZBED9', 'ZNF296', 'ASCL2', 'SMOC2']\n",
    "sc.tl.score_genes(adata, Stem_cells_markers, score_name = 'Stem_cells_markers_score')\n",
    "\n",
    "sc.set_figure_params(dpi=300)\n",
    "sc.pl.umap(adata, color= ['Stem_cells_markers_score'], color_map = \"RdPu\", size = 0.3, frameon = False)"
   ]
  },
  {
   "cell_type": "code",
   "execution_count": null,
   "metadata": {},
   "outputs": [],
   "source": [
    "input = '/Users/anna.maguza/Desktop/Data/Processed_datasets/1_QC/GCA_scVI_scANVI.h5ad'\n",
    "adata = sc.read(input)\n",
    "\n",
    "adata.obs['predicted_doublets'] = adata.obs['predicted_doublets'].astype(str)\n",
    "\n",
    "sc.set_figure_params(dpi=300)\n",
    "sc.pl.umap(adata, color=['n_genes_by_counts', 'total_counts', 'pct_counts_mt', 'pct_counts_ribo', 'predicted_doublets'],\n",
    "             color_map = \"RdPu\", size = 0.3, frameon = False, ncols=5)"
   ]
  },
  {
   "cell_type": "code",
   "execution_count": null,
   "metadata": {},
   "outputs": [],
   "source": [
    "sc.set_figure_params(dpi=300)\n",
    "sc.pl.umap(adata, color=['Cell_Type'],\n",
    "             color_map = \"RdPu\", size = 0.3, frameon = False, ncols=5)"
   ]
  },
  {
   "cell_type": "markdown",
   "metadata": {},
   "source": [
    "+ Dot plot with selected Cell_State"
   ]
  },
  {
   "cell_type": "code",
   "execution_count": 10,
   "metadata": {},
   "outputs": [],
   "source": [
    "df = adata_log.obs['Cell_State'].value_counts()"
   ]
  },
  {
   "cell_type": "code",
   "execution_count": 12,
   "metadata": {},
   "outputs": [],
   "source": [
    "adata_log.obs['states_for_figure'] = adata_log.obs['Cell_Type'].copy()\n",
    "adata_log.obs['states_for_figure'] = adata_log.obs['states_for_figure'].cat.set_categories(['Epithelial',\n",
    "                                                                                            'Mesenchymal', 'T cells', 'Plasma cells', 'Myeloid',\n",
    "                                                                                            'Neuronal', 'B cells', 'Endothelial', 'Red blood cells', \n",
    "                                                                                            'Colonocyte', 'Goblet cells', 'Enterocyte', 'Paneth cells', \n",
    "                                                                                            'Stem cells', 'TA',\n",
    "                                                                                            'Tuft cells'])\n",
    "\n",
    "\n",
    "adata_log.obs.loc[adata_log.obs['Cell_State'] == 'Goblet cell', 'states_for_figure'] = 'Goblet cells'\n",
    "adata_log.obs.loc[adata_log.obs['Cell_State'] == 'BEST2+ Goblet cell', 'states_for_figure'] = 'Goblet cells'\n",
    "adata_log.obs.loc[adata_log.obs['Cell_State'] == 'Goblet cells MUC2 TFF1', 'states_for_figure'] = 'Goblet cells'\n",
    "adata_log.obs.loc[adata_log.obs['Cell_State'] == 'Goblet cells SPINK4', 'states_for_figure'] = 'Goblet cells'\n",
    "adata_log.obs.loc[adata_log.obs['Cell_State'] == 'Paneth', 'states_for_figure'] = 'Paneth cells'\n",
    "adata_log.obs.loc[adata_log.obs['Cell_State'] == 'Paneth cells', 'states_for_figure'] = 'Paneth cells'\n",
    "adata_log.obs.loc[adata_log.obs['Cell_State'] == 'TA', 'states_for_figure'] = 'TA'\n",
    "adata_log.obs.loc[adata_log.obs['Cell_State'] == 'Tuft', 'states_for_figure'] = 'Tuft cells'\n",
    "adata_log.obs.loc[adata_log.obs['Cell_State'] == 'Tuft cells', 'states_for_figure'] = 'Tuft cells'\n",
    "adata_log.obs.loc[adata_log.obs['Cell_State'] == 'Enterocyte', 'states_for_figure'] = 'Enterocyte'\n",
    "adata_log.obs.loc[adata_log.obs['Cell_State'] == 'Enterocytes BEST4', 'states_for_figure'] = 'Enterocyte'\n",
    "adata_log.obs.loc[adata_log.obs['Cell_State'] == 'Enterocytes TMIGD1 MEP1A GSTA1', 'states_for_figure'] = 'Enterocyte'\n",
    "adata_log.obs.loc[adata_log.obs['Cell_State'] == 'Enterocytes TMIGD1 MEP1A', 'states_for_figure'] = 'Enterocyte'\n",
    "adata_log.obs.loc[adata_log.obs['Cell_State'] == 'Stem cells OLFM4', 'states_for_figure'] = 'Stem cells'\n",
    "adata_log.obs.loc[adata_log.obs['Cell_State'] == 'Stem cells OLFM4 GSTA1', 'states_for_figure'] = 'Stem cells'\n",
    "adata_log.obs.loc[adata_log.obs['Cell_State'] == 'Stem cells OLFM4 LGR5', 'states_for_figure'] = 'Stem cells'\n",
    "adata_log.obs.loc[adata_log.obs['Cell_State'] == 'Stem cells OLFM4 PCNA', 'states_for_figure'] = 'Stem cells'\n",
    "adata_log.obs.loc[adata_log.obs['Cell_State'] == 'Stem_Cells_GCA', 'states_for_figure'] = 'Stem cells'\n",
    "adata_log.obs.loc[adata_log.obs['Cell_State'] == 'Stem_Cells_ext', 'states_for_figure'] = 'Stem cells'\n",
    "adata_log.obs.loc[adata_log.obs['Cell_State'] == 'Stem cells', 'states_for_figure'] = 'Stem cells'\n",
    "adata_log.obs.loc[adata_log.obs['Cell_State'] == 'Enterocytes CA1 CA2 CA4-', 'states_for_figure'] = 'Enterocyte'\n",
    "adata_log.obs.loc[adata_log.obs['Cell_State'] == 'Colonocyte', 'states_for_figure'] = 'Colonocyte'\n",
    "adata_log.obs.loc[adata_log.obs['Cell_State'] == 'Goblet cells MUC2 TFF1-', 'states_for_figure'] = 'Goblet cells'"
   ]
  },
  {
   "cell_type": "code",
   "execution_count": 15,
   "metadata": {},
   "outputs": [],
   "source": [
    "import matplotlib.pyplot as plt"
   ]
  },
  {
   "cell_type": "code",
   "execution_count": 18,
   "metadata": {},
   "outputs": [
    {
     "name": "stderr",
     "output_type": "stream",
     "text": [
      "/home/amaguza/miniforge3/envs/scanpy_env/lib/python3.11/site-packages/scanpy/plotting/_dotplot.py:168: FutureWarning: The default of observed=False is deprecated and will be changed to True in a future version of pandas. Pass observed=False to retain current behavior or observed=True to adopt the future default and silence this warning.\n",
      "  obs_bool.groupby(level=0).sum() / obs_bool.groupby(level=0).count()\n",
      "/home/amaguza/miniforge3/envs/scanpy_env/lib/python3.11/site-packages/scanpy/plotting/_dotplot.py:178: FutureWarning: The default of observed=False is deprecated and will be changed to True in a future version of pandas. Pass observed=False to retain current behavior or observed=True to adopt the future default and silence this warning.\n",
      "  dot_color_df = self.obs_tidy.groupby(level=0).mean()\n",
      "/home/amaguza/miniforge3/envs/scanpy_env/lib/python3.11/site-packages/scanpy/plotting/_dotplot.py:748: UserWarning: No data for colormapping provided via 'c'. Parameters 'cmap', 'norm' will be ignored\n",
      "  dot_ax.scatter(x, y, **kwds)\n"
     ]
    }
   ],
   "source": [
    "with plt.rc_context():\n",
    "    sc.set_figure_params(dpi=300, figsize=(15, 15))\n",
    "    sc.pl.dotplot(adata_log, stem_cells_markers, groupby='states_for_figure', cmap = 'magma_r', show=False) \n",
    "    plt.savefig(f\"{fig_dir}/Elementaite_stem_markers_dotplot_all_cells.png\", bbox_inches=\"tight\")"
   ]
  }
 ],
 "metadata": {
  "kernelspec": {
   "display_name": "Scanpy",
   "language": "python",
   "name": "scnapy-server"
  },
  "language_info": {
   "codemirror_mode": {
    "name": "ipython",
    "version": 3
   },
   "file_extension": ".py",
   "mimetype": "text/x-python",
   "name": "python",
   "nbconvert_exporter": "python",
   "pygments_lexer": "ipython3",
   "version": "3.11.5"
  },
  "orig_nbformat": 4
 },
 "nbformat": 4,
 "nbformat_minor": 2
}
