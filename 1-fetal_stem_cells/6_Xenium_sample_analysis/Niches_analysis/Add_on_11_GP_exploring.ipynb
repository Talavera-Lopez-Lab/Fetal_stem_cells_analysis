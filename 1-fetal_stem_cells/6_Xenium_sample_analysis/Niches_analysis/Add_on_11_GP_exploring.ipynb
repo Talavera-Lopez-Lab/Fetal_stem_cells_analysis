{
 "cells": [
  {
   "cell_type": "markdown",
   "metadata": {},
   "source": [
    "#### Notebook for creation a sunburst plot with genes from de-novo gene program 11 identified with `NicheCompass`\n",
    "- **Developed by:** Anna Maguza\n",
    "- **Place:** Wuerzburg Institute for System Immunology\n",
    "- **Creation Date:** 25th of May 2024"
   ]
  },
  {
   "cell_type": "code",
   "execution_count": 10,
   "metadata": {},
   "outputs": [],
   "source": [
    "import plotly.graph_objects as go\n",
    "import numpy as np\n",
    "import pandas as pd\n",
    "import plotly.express as px"
   ]
  },
  {
   "cell_type": "code",
   "execution_count": 78,
   "metadata": {},
   "outputs": [],
   "source": [
    "fig_dir = '/mnt/LaCIE/annaM/gut_project/Processed_data/Gut_data/10X_Xenium_data/NicheCompass/Xenium_add_on/NicheCompass/artifacts/single_sample/05042024_120038/figures'"
   ]
  },
  {
   "cell_type": "code",
   "execution_count": 142,
   "metadata": {},
   "outputs": [],
   "source": [
    "categories = [\n",
    "    \"Immune System\", \"Immune System\", \n",
    "    \"Immune System\", \"Immune System\", \n",
    "    \"Immune System\", \"Immune System\", \n",
    "    \"Immune System\", \"Immune System\", \n",
    "    \"Immune System\", \"Immune System\", \n",
    "    \"Immune System\", \"Immune System\", \n",
    "    \"Immune System\", \"Regulation of Gene Expression\", \n",
    "    \"Regulation of Gene Expression\", \"Regulation of Gene Expression\", \"Regulation of Gene Expression\",\n",
    "    \"Regulation of Gene Expression\", \"Regulation of Gene Expression\", \n",
    "    \"Regulation of Gene Expression\", \"Regulation of Gene Expression\", \n",
    "    \"Regulation of Gene Expression\", \"Regulation of Gene Expression\", \n",
    "    \"Regulation of Gene Expression\", \"Regulation of Gene Expression\", \n",
    "    \"Regulation of Gene Expression\", \"Signalling\", \n",
    "    \"Signalling\", \"Signalling\", \"Signalling\", \n",
    "    \"Signalling\", \"Development and Differentiation\", \"Development and Differentiation\", \n",
    "    \"Development and Differentiation\", \"Development and Differentiation\", \"Metabolism\", \n",
    "    \"Metabolism\", \"Metabolism\", \"Metabolism\", \"Metabolism\", \n",
    "    \"Metabolism\", \"Metabolism\", \"Cell Structure and Adhesion\", \"Cell Structure and Adhesion\", \"Cell Structure and Adhesion\", \n",
    "    \"Cell Structure and Adhesion\", \"Cell Structure and Adhesion\", \"Cell Structure and Adhesion\", \n",
    "    \"Cell Structure and Adhesion\", \"Signalling\", \n",
    "    \"Signalling\", \"Immune System\", \"Metabolism\", \"Immune System\", \n",
    "    \"Cell Structure and Adhesion\" \n",
    "]"
   ]
  },
  {
   "cell_type": "code",
   "execution_count": 143,
   "metadata": {},
   "outputs": [],
   "source": [
    "subcategories = [\n",
    "    \"Immune Receptors and Signaling\", \"Immune Receptors and Signaling\", \"Immune Receptors and Signaling\", \n",
    "    \"Immune Receptors and Signaling\", \"Cytokines and Chemokines\", \"Cytokines and Chemokines\", \n",
    "    \"T Cell Markers\", \"T Cell Markers\", \"NK Cell Receptors\", \"Regulatory Proteins\", \n",
    "    \"Regulatory Proteins\", \"Other Immune Genes\", \"Other Immune Genes\", \n",
    "    \"Transcription Factors\", \"Transcription Factors\", \n",
    "    \"CREB Family\", \"DNA Repair\", \"Nuclear Receptors\", \"Homeobox Genes\", \"Homeobox Genes\", \"Homeobox Genes\", \n",
    "    \"Transcriptional Regulators\", \"Transcriptional Regulators\", \"Transcriptional Regulators\", \n",
    "    \"Transcriptional Regulators\", \"Transcriptional Regulators\", \"Growth Factor Receptors\", \n",
    "    \"GPCRs\", \"GPCRs\", \n",
    "    \"Cell Adhesion\", \"Cell Adhesion\", \"G-Protein Subunits\", \n",
    "    \"Development Regulators\", \"Development Regulators\", \n",
    "    \"Development Regulators\", \"Nitric Oxide metabolism\", \"Glucose metabolism\",\n",
    "    \"Metal Binding Proteins\", \"Metal Binding Proteins\", \"Enzymes\", \n",
    "    \"Enzymes\", \"Enzymes\", \"Structural Proteins\",  \"Structural Proteins\", \"Structural Proteins\", \n",
    "    \"Cell Adhesion\", \"Cell Adhesion\", \"Mesothelin Family\", \"Structural Proteins\", \n",
    "    \"Cell Signaling\", \"Ion Channel Regulators\", \n",
    "    \"Other Immune Genes\", \"Heat Shock Proteins\", \"Other Immune Genes\", \n",
    "    \"Structural Proteins\"\n",
    "]"
   ]
  },
  {
   "cell_type": "code",
   "execution_count": 144,
   "metadata": {},
   "outputs": [],
   "source": [
    "genes = [\n",
    "    \"LILRA4\", \"CD5\", \"CLEC9A\", \"FOXP3\", \"CXCR1\", \"CXCR4\", \"CD8A\", \"CD8B\", \n",
    "    \"KLRB1\", \"IRF8\", \"ITK\", \"GPR183\", \"RETNLB\", \"HES6\", \"ASCL2\", \"CREB3L1\",\"BRCA2\", \n",
    "    \"RORA\", \"ISL1\", \"NKX2-2\", \"PAX4\", \"LEF1\", \"ZEB2\", \"CTNNB1\", \"RFX6\", \n",
    "    \"PDGFRB\", \"FFAR4\", \"ROBO2\", \"KIT\", \"GNA11\", \"RUNX1T1\", \"NET1\", \"ARX\", \n",
    "    \"CTLA4\", \"TBC1D4\", \"NOSIP\", \"MT1A\", \"SELENOM\", \"PLCE1\", \"FKBP11\", \"CA2\", \n",
    "    \"IL4I1\", \"MCEMP1\", \"KRT8\", \"TUBB\", \"CDHR5\", \"ANK2\", \"MSLN\", \"HEPACAM2\", \n",
    "    \"REP15\", \"BEST2\", \"VPREB3\", \"DNAJC12\", \"PDZK1IP1\", \"MLPH\",\n",
    "]"
   ]
  },
  {
   "cell_type": "code",
   "execution_count": 145,
   "metadata": {},
   "outputs": [
    {
     "data": {
      "text/plain": [
       "(55, 55, 55)"
      ]
     },
     "execution_count": 145,
     "metadata": {},
     "output_type": "execute_result"
    }
   ],
   "source": [
    "len(categories), len(subcategories), len(genes)"
   ]
  },
  {
   "cell_type": "code",
   "execution_count": 146,
   "metadata": {},
   "outputs": [],
   "source": [
    "# Create a dataframe with the data\n",
    "df = pd.DataFrame({\n",
    "    \"Category\": categories,\n",
    "    \"Subcategory\": subcategories,\n",
    "    \"Gene\": genes\n",
    "})"
   ]
  },
  {
   "cell_type": "code",
   "execution_count": 84,
   "metadata": {},
   "outputs": [
    {
     "data": {
      "application/vnd.plotly.v1+json": {
       "config": {
        "plotlyServerURL": "https://plot.ly"
       },
       "data": [
        {
         "branchvalues": "total",
         "customdata": [
          [
           "Regulation of Gene Expression"
          ],
          [
           "Regulation of Gene Expression"
          ],
          [
           "Miscellaneous"
          ],
          [
           "Metabolism"
          ],
          [
           "Tumor Suppressors"
          ],
          [
           "Immune System"
          ],
          [
           "Cell Structure and Adhesion"
          ],
          [
           "Cell Structure and Adhesion"
          ],
          [
           "Regulation of Gene Expression"
          ],
          [
           "Immune System"
          ],
          [
           "Immune System"
          ],
          [
           "Development and Differentiation"
          ],
          [
           "Regulation of Gene Expression"
          ],
          [
           "Cell Structure and Adhesion"
          ],
          [
           "Tumor Suppressors"
          ],
          [
           "Metabolism"
          ],
          [
           "Immune System"
          ],
          [
           "Tumor Suppressors"
          ],
          [
           "Immune System"
          ],
          [
           "Development and Differentiation"
          ],
          [
           "Regulation of Gene Expression"
          ],
          [
           "Immune System"
          ],
          [
           "Cell Structure and Adhesion"
          ],
          [
           "Regulation of Gene Expression"
          ],
          [
           "Metabolism"
          ],
          [
           "Regulation of Gene Expression"
          ],
          [
           "Development and Differentiation"
          ],
          [
           "Metabolism"
          ],
          [
           "Cell Structure and Adhesion"
          ],
          [
           "Miscellaneous"
          ],
          [
           "Metabolism"
          ],
          [
           "Development and Differentiation"
          ],
          [
           "Miscellaneous"
          ],
          [
           "Regulation of Gene Expression"
          ],
          [
           "Miscellaneous"
          ],
          [
           "Metabolism"
          ],
          [
           "Regulation of Gene Expression"
          ],
          [
           "Immune System"
          ],
          [
           "Metabolism"
          ],
          [
           "Regulation of Gene Expression"
          ],
          [
           "Cell Structure and Adhesion"
          ],
          [
           "Immune System"
          ],
          [
           "Signalling"
          ],
          [
           "Immune System"
          ],
          [
           "Immune System"
          ],
          [
           "Signalling"
          ],
          [
           "Miscellaneous"
          ],
          [
           "Signalling"
          ],
          [
           "Immune System"
          ],
          [
           "Immune System"
          ],
          [
           "Regulation of Gene Expression"
          ],
          [
           "Immune System"
          ],
          [
           "Regulation of Gene Expression"
          ],
          [
           "Signalling"
          ],
          [
           "Signalling"
          ],
          [
           "Regulation of Gene Expression"
          ],
          [
           "Cell Structure and Adhesion"
          ],
          [
           "Signalling"
          ],
          [
           "Signalling"
          ],
          [
           "Tumor Suppressors"
          ],
          [
           "Immune System"
          ],
          [
           "Tumor Suppressors"
          ],
          [
           "Development and Differentiation"
          ],
          [
           "Metabolism"
          ],
          [
           "Development and Differentiation"
          ],
          [
           "Signalling"
          ],
          [
           "Signalling"
          ],
          [
           "Miscellaneous"
          ],
          [
           "Regulation of Gene Expression"
          ],
          [
           "Immune System"
          ],
          [
           "Tumor Suppressors"
          ],
          [
           "Miscellaneous"
          ],
          [
           "Cell Structure and Adhesion"
          ],
          [
           "Metabolism"
          ],
          [
           "Metabolism"
          ],
          [
           "Immune System"
          ],
          [
           "Regulation of Gene Expression"
          ],
          [
           "Immune System"
          ],
          [
           "Miscellaneous"
          ],
          [
           "Miscellaneous"
          ],
          [
           "Immune System"
          ],
          [
           "Cell Structure and Adhesion"
          ],
          [
           "Miscellaneous"
          ],
          [
           "Immune System"
          ],
          [
           "Regulation of Gene Expression"
          ],
          [
           "Regulation of Gene Expression"
          ],
          [
           "Cell Structure and Adhesion"
          ],
          [
           "Development and Differentiation"
          ],
          [
           "Immune System"
          ],
          [
           "Metabolism"
          ],
          [
           "Miscellaneous"
          ],
          [
           "Regulation of Gene Expression"
          ],
          [
           "Signalling"
          ],
          [
           "Tumor Suppressors"
          ]
         ],
         "domain": {
          "x": [
           0,
           1
          ],
          "y": [
           0,
           1
          ]
         },
         "hovertemplate": "labels=%{label}<br>count=%{value}<br>parent=%{parent}<br>id=%{id}<br>Category=%{customdata[0]}<extra></extra>",
         "ids": [
          "Regulation of Gene Expression/Transcriptional Regulators/RFX6",
          "Regulation of Gene Expression/Transcriptional Regulators/PDGFRB",
          "Miscellaneous/PDZ Domain Interacting Proteins/PDZK1IP1",
          "Metabolism/Metal Binding Proteins/PLCE1",
          "Tumor Suppressors/Cell Signaling/REP15",
          "Immune System/Other Immune-related Genes/RETNLB",
          "Cell Structure and Adhesion/Structural Proteins/KRT8",
          "Cell Structure and Adhesion/Structural Proteins/MCEMP1",
          "Regulation of Gene Expression/Transcriptional Regulators/LEF1",
          "Immune System/Immune Receptors and Signaling/LILRA4",
          "Immune System/Immune Receptors and Signaling/CLEC9A",
          "Development and Differentiation/Development Regulators/ARX",
          "Regulation of Gene Expression/Transcription Factors/ASCL2",
          "Cell Structure and Adhesion/Cell Adhesion/CDHR5",
          "Tumor Suppressors/DNA Repair/BRCA2",
          "Metabolism/Enzymes/CA2",
          "Immune System/Immune Receptors and Signaling/CD5",
          "Tumor Suppressors/Ion Channel Regulators/BEST2",
          "Immune System/T Cell Markers/CD8B",
          "Development and Differentiation/Development Regulators/CTLA4",
          "Regulation of Gene Expression/CREB Family/CREB3L1",
          "Immune System/T Cell Markers/CD8A",
          "Cell Structure and Adhesion/Cell Adhesion/ANK2",
          "Regulation of Gene Expression/Homeobox Genes/PAX4",
          "Metabolism/Metabolic Processes/NOSIP",
          "Regulation of Gene Expression/Homeobox Genes/NKX2-2",
          "Development and Differentiation/G-Protein Subunits/NET1",
          "Metabolism/Metabolic Processes/MT1A",
          "Cell Structure and Adhesion/Mesothelin Family/MSLN",
          "Miscellaneous/Melanosome-Related Proteins/MLPH",
          "Metabolism/Metal Binding Proteins/SELENOM",
          "Development and Differentiation/Development Regulators/TBC1D4",
          "Miscellaneous/Structural Proteins/TUBB",
          "Regulation of Gene Expression/Transcriptional Regulators/ZEB2",
          "Miscellaneous/Pre-B Cell Markers/VPREB3",
          "Metabolism/Enzymes/FKBP11",
          "Regulation of Gene Expression/Transcriptional Regulators/CTNNB1",
          "Immune System/Cytokines and Chemokines/CXCR1",
          "Metabolism/Enzymes/IL4I1",
          "Regulation of Gene Expression/Transcription Factors/HES6",
          "Cell Structure and Adhesion/Structural Proteins/HEPACAM2",
          "Immune System/Other Immune-related Genes/GPR183",
          "Signalling/Cell Adhesion/GNA11",
          "Immune System/Immune Receptors and Signaling/FOXP3",
          "Immune System/Cytokines and Chemokines/CXCR4",
          "Signalling/Growth Factor Receptors/FFAR4",
          "Miscellaneous/Heat Shock Proteins/DNAJC12",
          "Signalling/GPCRs/KIT",
          "Immune System/NK Cell Receptors/KLRB1",
          "Immune System/Regulatory Proteins/IRF8",
          "Regulation of Gene Expression/Homeobox Genes/ISL1",
          "Immune System/Regulatory Proteins/ITK",
          "Regulation of Gene Expression/Nuclear Receptors/RORA",
          "Signalling/Cell Adhesions/RUNX1T1",
          "Signalling/GPCRs/ROBO2",
          "Regulation of Gene Expression/CREB Family",
          "Cell Structure and Adhesion/Cell Adhesion",
          "Signalling/Cell Adhesion",
          "Signalling/Cell Adhesions",
          "Tumor Suppressors/Cell Signaling",
          "Immune System/Cytokines and Chemokines",
          "Tumor Suppressors/DNA Repair",
          "Development and Differentiation/Development Regulators",
          "Metabolism/Enzymes",
          "Development and Differentiation/G-Protein Subunits",
          "Signalling/GPCRs",
          "Signalling/Growth Factor Receptors",
          "Miscellaneous/Heat Shock Proteins",
          "Regulation of Gene Expression/Homeobox Genes",
          "Immune System/Immune Receptors and Signaling",
          "Tumor Suppressors/Ion Channel Regulators",
          "Miscellaneous/Melanosome-Related Proteins",
          "Cell Structure and Adhesion/Mesothelin Family",
          "Metabolism/Metabolic Processes",
          "Metabolism/Metal Binding Proteins",
          "Immune System/NK Cell Receptors",
          "Regulation of Gene Expression/Nuclear Receptors",
          "Immune System/Other Immune-related Genes",
          "Miscellaneous/PDZ Domain Interacting Proteins",
          "Miscellaneous/Pre-B Cell Markers",
          "Immune System/Regulatory Proteins",
          "Cell Structure and Adhesion/Structural Proteins",
          "Miscellaneous/Structural Proteins",
          "Immune System/T Cell Markers",
          "Regulation of Gene Expression/Transcription Factors",
          "Regulation of Gene Expression/Transcriptional Regulators",
          "Cell Structure and Adhesion",
          "Development and Differentiation",
          "Immune System",
          "Metabolism",
          "Miscellaneous",
          "Regulation of Gene Expression",
          "Signalling",
          "Tumor Suppressors"
         ],
         "labels": [
          "RFX6",
          "PDGFRB",
          "PDZK1IP1",
          "PLCE1",
          "REP15",
          "RETNLB",
          "KRT8",
          "MCEMP1",
          "LEF1",
          "LILRA4",
          "CLEC9A",
          "ARX",
          "ASCL2",
          "CDHR5",
          "BRCA2",
          "CA2",
          "CD5",
          "BEST2",
          "CD8B",
          "CTLA4",
          "CREB3L1",
          "CD8A",
          "ANK2",
          "PAX4",
          "NOSIP",
          "NKX2-2",
          "NET1",
          "MT1A",
          "MSLN",
          "MLPH",
          "SELENOM",
          "TBC1D4",
          "TUBB",
          "ZEB2",
          "VPREB3",
          "FKBP11",
          "CTNNB1",
          "CXCR1",
          "IL4I1",
          "HES6",
          "HEPACAM2",
          "GPR183",
          "GNA11",
          "FOXP3",
          "CXCR4",
          "FFAR4",
          "DNAJC12",
          "KIT",
          "KLRB1",
          "IRF8",
          "ISL1",
          "ITK",
          "RORA",
          "RUNX1T1",
          "ROBO2",
          "CREB Family",
          "Cell Adhesion",
          "Cell Adhesion",
          "Cell Adhesions",
          "Cell Signaling",
          "Cytokines and Chemokines",
          "DNA Repair",
          "Development Regulators",
          "Enzymes",
          "G-Protein Subunits",
          "GPCRs",
          "Growth Factor Receptors",
          "Heat Shock Proteins",
          "Homeobox Genes",
          "Immune Receptors and Signaling",
          "Ion Channel Regulators",
          "Melanosome-Related Proteins",
          "Mesothelin Family",
          "Metabolic Processes",
          "Metal Binding Proteins",
          "NK Cell Receptors",
          "Nuclear Receptors",
          "Other Immune-related Genes",
          "PDZ Domain Interacting Proteins",
          "Pre-B Cell Markers",
          "Regulatory Proteins",
          "Structural Proteins",
          "Structural Proteins",
          "T Cell Markers",
          "Transcription Factors",
          "Transcriptional Regulators",
          "Cell Structure and Adhesion",
          "Development and Differentiation",
          "Immune System",
          "Metabolism",
          "Miscellaneous",
          "Regulation of Gene Expression",
          "Signalling",
          "Tumor Suppressors"
         ],
         "marker": {
          "colors": [
           "#636efa",
           "#636efa",
           "#EF553B",
           "#00cc96",
           "#ab63fa",
           "#FFA15A",
           "#19d3f3",
           "#19d3f3",
           "#636efa",
           "#FFA15A",
           "#FFA15A",
           "#FF6692",
           "#636efa",
           "#19d3f3",
           "#ab63fa",
           "#00cc96",
           "#FFA15A",
           "#ab63fa",
           "#FFA15A",
           "#FF6692",
           "#636efa",
           "#FFA15A",
           "#19d3f3",
           "#636efa",
           "#00cc96",
           "#636efa",
           "#FF6692",
           "#00cc96",
           "#19d3f3",
           "#EF553B",
           "#00cc96",
           "#FF6692",
           "#EF553B",
           "#636efa",
           "#EF553B",
           "#00cc96",
           "#636efa",
           "#FFA15A",
           "#00cc96",
           "#636efa",
           "#19d3f3",
           "#FFA15A",
           "#B6E880",
           "#FFA15A",
           "#FFA15A",
           "#B6E880",
           "#EF553B",
           "#B6E880",
           "#FFA15A",
           "#FFA15A",
           "#636efa",
           "#FFA15A",
           "#636efa",
           "#B6E880",
           "#B6E880",
           "#636efa",
           "#19d3f3",
           "#B6E880",
           "#B6E880",
           "#ab63fa",
           "#FFA15A",
           "#ab63fa",
           "#FF6692",
           "#00cc96",
           "#FF6692",
           "#B6E880",
           "#B6E880",
           "#EF553B",
           "#636efa",
           "#FFA15A",
           "#ab63fa",
           "#EF553B",
           "#19d3f3",
           "#00cc96",
           "#00cc96",
           "#FFA15A",
           "#636efa",
           "#FFA15A",
           "#EF553B",
           "#EF553B",
           "#FFA15A",
           "#19d3f3",
           "#EF553B",
           "#FFA15A",
           "#636efa",
           "#636efa",
           "#19d3f3",
           "#FF6692",
           "#FFA15A",
           "#00cc96",
           "#EF553B",
           "#636efa",
           "#B6E880",
           "#ab63fa"
          ]
         },
         "name": "",
         "parents": [
          "Regulation of Gene Expression/Transcriptional Regulators",
          "Regulation of Gene Expression/Transcriptional Regulators",
          "Miscellaneous/PDZ Domain Interacting Proteins",
          "Metabolism/Metal Binding Proteins",
          "Tumor Suppressors/Cell Signaling",
          "Immune System/Other Immune-related Genes",
          "Cell Structure and Adhesion/Structural Proteins",
          "Cell Structure and Adhesion/Structural Proteins",
          "Regulation of Gene Expression/Transcriptional Regulators",
          "Immune System/Immune Receptors and Signaling",
          "Immune System/Immune Receptors and Signaling",
          "Development and Differentiation/Development Regulators",
          "Regulation of Gene Expression/Transcription Factors",
          "Cell Structure and Adhesion/Cell Adhesion",
          "Tumor Suppressors/DNA Repair",
          "Metabolism/Enzymes",
          "Immune System/Immune Receptors and Signaling",
          "Tumor Suppressors/Ion Channel Regulators",
          "Immune System/T Cell Markers",
          "Development and Differentiation/Development Regulators",
          "Regulation of Gene Expression/CREB Family",
          "Immune System/T Cell Markers",
          "Cell Structure and Adhesion/Cell Adhesion",
          "Regulation of Gene Expression/Homeobox Genes",
          "Metabolism/Metabolic Processes",
          "Regulation of Gene Expression/Homeobox Genes",
          "Development and Differentiation/G-Protein Subunits",
          "Metabolism/Metabolic Processes",
          "Cell Structure and Adhesion/Mesothelin Family",
          "Miscellaneous/Melanosome-Related Proteins",
          "Metabolism/Metal Binding Proteins",
          "Development and Differentiation/Development Regulators",
          "Miscellaneous/Structural Proteins",
          "Regulation of Gene Expression/Transcriptional Regulators",
          "Miscellaneous/Pre-B Cell Markers",
          "Metabolism/Enzymes",
          "Regulation of Gene Expression/Transcriptional Regulators",
          "Immune System/Cytokines and Chemokines",
          "Metabolism/Enzymes",
          "Regulation of Gene Expression/Transcription Factors",
          "Cell Structure and Adhesion/Structural Proteins",
          "Immune System/Other Immune-related Genes",
          "Signalling/Cell Adhesion",
          "Immune System/Immune Receptors and Signaling",
          "Immune System/Cytokines and Chemokines",
          "Signalling/Growth Factor Receptors",
          "Miscellaneous/Heat Shock Proteins",
          "Signalling/GPCRs",
          "Immune System/NK Cell Receptors",
          "Immune System/Regulatory Proteins",
          "Regulation of Gene Expression/Homeobox Genes",
          "Immune System/Regulatory Proteins",
          "Regulation of Gene Expression/Nuclear Receptors",
          "Signalling/Cell Adhesions",
          "Signalling/GPCRs",
          "Regulation of Gene Expression",
          "Cell Structure and Adhesion",
          "Signalling",
          "Signalling",
          "Tumor Suppressors",
          "Immune System",
          "Tumor Suppressors",
          "Development and Differentiation",
          "Metabolism",
          "Development and Differentiation",
          "Signalling",
          "Signalling",
          "Miscellaneous",
          "Regulation of Gene Expression",
          "Immune System",
          "Tumor Suppressors",
          "Miscellaneous",
          "Cell Structure and Adhesion",
          "Metabolism",
          "Metabolism",
          "Immune System",
          "Regulation of Gene Expression",
          "Immune System",
          "Miscellaneous",
          "Miscellaneous",
          "Immune System",
          "Cell Structure and Adhesion",
          "Miscellaneous",
          "Immune System",
          "Regulation of Gene Expression",
          "Regulation of Gene Expression",
          "",
          "",
          "",
          "",
          "",
          "",
          "",
          ""
         ],
         "type": "sunburst",
         "values": [
          1,
          1,
          1,
          1,
          1,
          1,
          1,
          1,
          1,
          1,
          1,
          1,
          1,
          1,
          1,
          1,
          1,
          1,
          1,
          1,
          1,
          1,
          1,
          1,
          1,
          1,
          1,
          1,
          1,
          1,
          1,
          1,
          1,
          1,
          1,
          1,
          1,
          1,
          1,
          1,
          1,
          1,
          1,
          1,
          1,
          1,
          1,
          1,
          1,
          1,
          1,
          1,
          1,
          1,
          1,
          1,
          2,
          1,
          1,
          1,
          2,
          1,
          3,
          3,
          1,
          2,
          1,
          1,
          3,
          4,
          1,
          1,
          1,
          2,
          2,
          1,
          1,
          2,
          1,
          1,
          2,
          3,
          1,
          2,
          2,
          5,
          6,
          4,
          13,
          7,
          5,
          12,
          5,
          3
         ]
        }
       ],
       "layout": {
        "legend": {
         "tracegroupgap": 0
        },
        "margin": {
         "t": 60
        },
        "template": {
         "data": {
          "bar": [
           {
            "error_x": {
             "color": "#2a3f5f"
            },
            "error_y": {
             "color": "#2a3f5f"
            },
            "marker": {
             "line": {
              "color": "#E5ECF6",
              "width": 0.5
             },
             "pattern": {
              "fillmode": "overlay",
              "size": 10,
              "solidity": 0.2
             }
            },
            "type": "bar"
           }
          ],
          "barpolar": [
           {
            "marker": {
             "line": {
              "color": "#E5ECF6",
              "width": 0.5
             },
             "pattern": {
              "fillmode": "overlay",
              "size": 10,
              "solidity": 0.2
             }
            },
            "type": "barpolar"
           }
          ],
          "carpet": [
           {
            "aaxis": {
             "endlinecolor": "#2a3f5f",
             "gridcolor": "white",
             "linecolor": "white",
             "minorgridcolor": "white",
             "startlinecolor": "#2a3f5f"
            },
            "baxis": {
             "endlinecolor": "#2a3f5f",
             "gridcolor": "white",
             "linecolor": "white",
             "minorgridcolor": "white",
             "startlinecolor": "#2a3f5f"
            },
            "type": "carpet"
           }
          ],
          "choropleth": [
           {
            "colorbar": {
             "outlinewidth": 0,
             "ticks": ""
            },
            "type": "choropleth"
           }
          ],
          "contour": [
           {
            "colorbar": {
             "outlinewidth": 0,
             "ticks": ""
            },
            "colorscale": [
             [
              0,
              "#0d0887"
             ],
             [
              0.1111111111111111,
              "#46039f"
             ],
             [
              0.2222222222222222,
              "#7201a8"
             ],
             [
              0.3333333333333333,
              "#9c179e"
             ],
             [
              0.4444444444444444,
              "#bd3786"
             ],
             [
              0.5555555555555556,
              "#d8576b"
             ],
             [
              0.6666666666666666,
              "#ed7953"
             ],
             [
              0.7777777777777778,
              "#fb9f3a"
             ],
             [
              0.8888888888888888,
              "#fdca26"
             ],
             [
              1,
              "#f0f921"
             ]
            ],
            "type": "contour"
           }
          ],
          "contourcarpet": [
           {
            "colorbar": {
             "outlinewidth": 0,
             "ticks": ""
            },
            "type": "contourcarpet"
           }
          ],
          "heatmap": [
           {
            "colorbar": {
             "outlinewidth": 0,
             "ticks": ""
            },
            "colorscale": [
             [
              0,
              "#0d0887"
             ],
             [
              0.1111111111111111,
              "#46039f"
             ],
             [
              0.2222222222222222,
              "#7201a8"
             ],
             [
              0.3333333333333333,
              "#9c179e"
             ],
             [
              0.4444444444444444,
              "#bd3786"
             ],
             [
              0.5555555555555556,
              "#d8576b"
             ],
             [
              0.6666666666666666,
              "#ed7953"
             ],
             [
              0.7777777777777778,
              "#fb9f3a"
             ],
             [
              0.8888888888888888,
              "#fdca26"
             ],
             [
              1,
              "#f0f921"
             ]
            ],
            "type": "heatmap"
           }
          ],
          "heatmapgl": [
           {
            "colorbar": {
             "outlinewidth": 0,
             "ticks": ""
            },
            "colorscale": [
             [
              0,
              "#0d0887"
             ],
             [
              0.1111111111111111,
              "#46039f"
             ],
             [
              0.2222222222222222,
              "#7201a8"
             ],
             [
              0.3333333333333333,
              "#9c179e"
             ],
             [
              0.4444444444444444,
              "#bd3786"
             ],
             [
              0.5555555555555556,
              "#d8576b"
             ],
             [
              0.6666666666666666,
              "#ed7953"
             ],
             [
              0.7777777777777778,
              "#fb9f3a"
             ],
             [
              0.8888888888888888,
              "#fdca26"
             ],
             [
              1,
              "#f0f921"
             ]
            ],
            "type": "heatmapgl"
           }
          ],
          "histogram": [
           {
            "marker": {
             "pattern": {
              "fillmode": "overlay",
              "size": 10,
              "solidity": 0.2
             }
            },
            "type": "histogram"
           }
          ],
          "histogram2d": [
           {
            "colorbar": {
             "outlinewidth": 0,
             "ticks": ""
            },
            "colorscale": [
             [
              0,
              "#0d0887"
             ],
             [
              0.1111111111111111,
              "#46039f"
             ],
             [
              0.2222222222222222,
              "#7201a8"
             ],
             [
              0.3333333333333333,
              "#9c179e"
             ],
             [
              0.4444444444444444,
              "#bd3786"
             ],
             [
              0.5555555555555556,
              "#d8576b"
             ],
             [
              0.6666666666666666,
              "#ed7953"
             ],
             [
              0.7777777777777778,
              "#fb9f3a"
             ],
             [
              0.8888888888888888,
              "#fdca26"
             ],
             [
              1,
              "#f0f921"
             ]
            ],
            "type": "histogram2d"
           }
          ],
          "histogram2dcontour": [
           {
            "colorbar": {
             "outlinewidth": 0,
             "ticks": ""
            },
            "colorscale": [
             [
              0,
              "#0d0887"
             ],
             [
              0.1111111111111111,
              "#46039f"
             ],
             [
              0.2222222222222222,
              "#7201a8"
             ],
             [
              0.3333333333333333,
              "#9c179e"
             ],
             [
              0.4444444444444444,
              "#bd3786"
             ],
             [
              0.5555555555555556,
              "#d8576b"
             ],
             [
              0.6666666666666666,
              "#ed7953"
             ],
             [
              0.7777777777777778,
              "#fb9f3a"
             ],
             [
              0.8888888888888888,
              "#fdca26"
             ],
             [
              1,
              "#f0f921"
             ]
            ],
            "type": "histogram2dcontour"
           }
          ],
          "mesh3d": [
           {
            "colorbar": {
             "outlinewidth": 0,
             "ticks": ""
            },
            "type": "mesh3d"
           }
          ],
          "parcoords": [
           {
            "line": {
             "colorbar": {
              "outlinewidth": 0,
              "ticks": ""
             }
            },
            "type": "parcoords"
           }
          ],
          "pie": [
           {
            "automargin": true,
            "type": "pie"
           }
          ],
          "scatter": [
           {
            "fillpattern": {
             "fillmode": "overlay",
             "size": 10,
             "solidity": 0.2
            },
            "type": "scatter"
           }
          ],
          "scatter3d": [
           {
            "line": {
             "colorbar": {
              "outlinewidth": 0,
              "ticks": ""
             }
            },
            "marker": {
             "colorbar": {
              "outlinewidth": 0,
              "ticks": ""
             }
            },
            "type": "scatter3d"
           }
          ],
          "scattercarpet": [
           {
            "marker": {
             "colorbar": {
              "outlinewidth": 0,
              "ticks": ""
             }
            },
            "type": "scattercarpet"
           }
          ],
          "scattergeo": [
           {
            "marker": {
             "colorbar": {
              "outlinewidth": 0,
              "ticks": ""
             }
            },
            "type": "scattergeo"
           }
          ],
          "scattergl": [
           {
            "marker": {
             "colorbar": {
              "outlinewidth": 0,
              "ticks": ""
             }
            },
            "type": "scattergl"
           }
          ],
          "scattermapbox": [
           {
            "marker": {
             "colorbar": {
              "outlinewidth": 0,
              "ticks": ""
             }
            },
            "type": "scattermapbox"
           }
          ],
          "scatterpolar": [
           {
            "marker": {
             "colorbar": {
              "outlinewidth": 0,
              "ticks": ""
             }
            },
            "type": "scatterpolar"
           }
          ],
          "scatterpolargl": [
           {
            "marker": {
             "colorbar": {
              "outlinewidth": 0,
              "ticks": ""
             }
            },
            "type": "scatterpolargl"
           }
          ],
          "scatterternary": [
           {
            "marker": {
             "colorbar": {
              "outlinewidth": 0,
              "ticks": ""
             }
            },
            "type": "scatterternary"
           }
          ],
          "surface": [
           {
            "colorbar": {
             "outlinewidth": 0,
             "ticks": ""
            },
            "colorscale": [
             [
              0,
              "#0d0887"
             ],
             [
              0.1111111111111111,
              "#46039f"
             ],
             [
              0.2222222222222222,
              "#7201a8"
             ],
             [
              0.3333333333333333,
              "#9c179e"
             ],
             [
              0.4444444444444444,
              "#bd3786"
             ],
             [
              0.5555555555555556,
              "#d8576b"
             ],
             [
              0.6666666666666666,
              "#ed7953"
             ],
             [
              0.7777777777777778,
              "#fb9f3a"
             ],
             [
              0.8888888888888888,
              "#fdca26"
             ],
             [
              1,
              "#f0f921"
             ]
            ],
            "type": "surface"
           }
          ],
          "table": [
           {
            "cells": {
             "fill": {
              "color": "#EBF0F8"
             },
             "line": {
              "color": "white"
             }
            },
            "header": {
             "fill": {
              "color": "#C8D4E3"
             },
             "line": {
              "color": "white"
             }
            },
            "type": "table"
           }
          ]
         },
         "layout": {
          "annotationdefaults": {
           "arrowcolor": "#2a3f5f",
           "arrowhead": 0,
           "arrowwidth": 1
          },
          "autotypenumbers": "strict",
          "coloraxis": {
           "colorbar": {
            "outlinewidth": 0,
            "ticks": ""
           }
          },
          "colorscale": {
           "diverging": [
            [
             0,
             "#8e0152"
            ],
            [
             0.1,
             "#c51b7d"
            ],
            [
             0.2,
             "#de77ae"
            ],
            [
             0.3,
             "#f1b6da"
            ],
            [
             0.4,
             "#fde0ef"
            ],
            [
             0.5,
             "#f7f7f7"
            ],
            [
             0.6,
             "#e6f5d0"
            ],
            [
             0.7,
             "#b8e186"
            ],
            [
             0.8,
             "#7fbc41"
            ],
            [
             0.9,
             "#4d9221"
            ],
            [
             1,
             "#276419"
            ]
           ],
           "sequential": [
            [
             0,
             "#0d0887"
            ],
            [
             0.1111111111111111,
             "#46039f"
            ],
            [
             0.2222222222222222,
             "#7201a8"
            ],
            [
             0.3333333333333333,
             "#9c179e"
            ],
            [
             0.4444444444444444,
             "#bd3786"
            ],
            [
             0.5555555555555556,
             "#d8576b"
            ],
            [
             0.6666666666666666,
             "#ed7953"
            ],
            [
             0.7777777777777778,
             "#fb9f3a"
            ],
            [
             0.8888888888888888,
             "#fdca26"
            ],
            [
             1,
             "#f0f921"
            ]
           ],
           "sequentialminus": [
            [
             0,
             "#0d0887"
            ],
            [
             0.1111111111111111,
             "#46039f"
            ],
            [
             0.2222222222222222,
             "#7201a8"
            ],
            [
             0.3333333333333333,
             "#9c179e"
            ],
            [
             0.4444444444444444,
             "#bd3786"
            ],
            [
             0.5555555555555556,
             "#d8576b"
            ],
            [
             0.6666666666666666,
             "#ed7953"
            ],
            [
             0.7777777777777778,
             "#fb9f3a"
            ],
            [
             0.8888888888888888,
             "#fdca26"
            ],
            [
             1,
             "#f0f921"
            ]
           ]
          },
          "colorway": [
           "#636efa",
           "#EF553B",
           "#00cc96",
           "#ab63fa",
           "#FFA15A",
           "#19d3f3",
           "#FF6692",
           "#B6E880",
           "#FF97FF",
           "#FECB52"
          ],
          "font": {
           "color": "#2a3f5f"
          },
          "geo": {
           "bgcolor": "white",
           "lakecolor": "white",
           "landcolor": "#E5ECF6",
           "showlakes": true,
           "showland": true,
           "subunitcolor": "white"
          },
          "hoverlabel": {
           "align": "left"
          },
          "hovermode": "closest",
          "mapbox": {
           "style": "light"
          },
          "paper_bgcolor": "white",
          "plot_bgcolor": "#E5ECF6",
          "polar": {
           "angularaxis": {
            "gridcolor": "white",
            "linecolor": "white",
            "ticks": ""
           },
           "bgcolor": "#E5ECF6",
           "radialaxis": {
            "gridcolor": "white",
            "linecolor": "white",
            "ticks": ""
           }
          },
          "scene": {
           "xaxis": {
            "backgroundcolor": "#E5ECF6",
            "gridcolor": "white",
            "gridwidth": 2,
            "linecolor": "white",
            "showbackground": true,
            "ticks": "",
            "zerolinecolor": "white"
           },
           "yaxis": {
            "backgroundcolor": "#E5ECF6",
            "gridcolor": "white",
            "gridwidth": 2,
            "linecolor": "white",
            "showbackground": true,
            "ticks": "",
            "zerolinecolor": "white"
           },
           "zaxis": {
            "backgroundcolor": "#E5ECF6",
            "gridcolor": "white",
            "gridwidth": 2,
            "linecolor": "white",
            "showbackground": true,
            "ticks": "",
            "zerolinecolor": "white"
           }
          },
          "shapedefaults": {
           "line": {
            "color": "#2a3f5f"
           }
          },
          "ternary": {
           "aaxis": {
            "gridcolor": "white",
            "linecolor": "white",
            "ticks": ""
           },
           "baxis": {
            "gridcolor": "white",
            "linecolor": "white",
            "ticks": ""
           },
           "bgcolor": "#E5ECF6",
           "caxis": {
            "gridcolor": "white",
            "linecolor": "white",
            "ticks": ""
           }
          },
          "title": {
           "x": 0.05
          },
          "xaxis": {
           "automargin": true,
           "gridcolor": "white",
           "linecolor": "white",
           "ticks": "",
           "title": {
            "standoff": 15
           },
           "zerolinecolor": "white",
           "zerolinewidth": 2
          },
          "yaxis": {
           "automargin": true,
           "gridcolor": "white",
           "linecolor": "white",
           "ticks": "",
           "title": {
            "standoff": 15
           },
           "zerolinecolor": "white",
           "zerolinewidth": 2
          }
         }
        }
       }
      },
      "text/html": [
       "<div>                            <div id=\"e7c98fe2-9faf-46e4-af4d-c70565a135a3\" class=\"plotly-graph-div\" style=\"height:525px; width:100%;\"></div>            <script type=\"text/javascript\">                require([\"plotly\"], function(Plotly) {                    window.PLOTLYENV=window.PLOTLYENV || {};                                    if (document.getElementById(\"e7c98fe2-9faf-46e4-af4d-c70565a135a3\")) {                    Plotly.newPlot(                        \"e7c98fe2-9faf-46e4-af4d-c70565a135a3\",                        [{\"branchvalues\":\"total\",\"customdata\":[[\"Regulation of Gene Expression\"],[\"Regulation of Gene Expression\"],[\"Miscellaneous\"],[\"Metabolism\"],[\"Tumor Suppressors\"],[\"Immune System\"],[\"Cell Structure and Adhesion\"],[\"Cell Structure and Adhesion\"],[\"Regulation of Gene Expression\"],[\"Immune System\"],[\"Immune System\"],[\"Development and Differentiation\"],[\"Regulation of Gene Expression\"],[\"Cell Structure and Adhesion\"],[\"Tumor Suppressors\"],[\"Metabolism\"],[\"Immune System\"],[\"Tumor Suppressors\"],[\"Immune System\"],[\"Development and Differentiation\"],[\"Regulation of Gene Expression\"],[\"Immune System\"],[\"Cell Structure and Adhesion\"],[\"Regulation of Gene Expression\"],[\"Metabolism\"],[\"Regulation of Gene Expression\"],[\"Development and Differentiation\"],[\"Metabolism\"],[\"Cell Structure and Adhesion\"],[\"Miscellaneous\"],[\"Metabolism\"],[\"Development and Differentiation\"],[\"Miscellaneous\"],[\"Regulation of Gene Expression\"],[\"Miscellaneous\"],[\"Metabolism\"],[\"Regulation of Gene Expression\"],[\"Immune System\"],[\"Metabolism\"],[\"Regulation of Gene Expression\"],[\"Cell Structure and Adhesion\"],[\"Immune System\"],[\"Signalling\"],[\"Immune System\"],[\"Immune System\"],[\"Signalling\"],[\"Miscellaneous\"],[\"Signalling\"],[\"Immune System\"],[\"Immune System\"],[\"Regulation of Gene Expression\"],[\"Immune System\"],[\"Regulation of Gene Expression\"],[\"Signalling\"],[\"Signalling\"],[\"Regulation of Gene Expression\"],[\"Cell Structure and Adhesion\"],[\"Signalling\"],[\"Signalling\"],[\"Tumor Suppressors\"],[\"Immune System\"],[\"Tumor Suppressors\"],[\"Development and Differentiation\"],[\"Metabolism\"],[\"Development and Differentiation\"],[\"Signalling\"],[\"Signalling\"],[\"Miscellaneous\"],[\"Regulation of Gene Expression\"],[\"Immune System\"],[\"Tumor Suppressors\"],[\"Miscellaneous\"],[\"Cell Structure and Adhesion\"],[\"Metabolism\"],[\"Metabolism\"],[\"Immune System\"],[\"Regulation of Gene Expression\"],[\"Immune System\"],[\"Miscellaneous\"],[\"Miscellaneous\"],[\"Immune System\"],[\"Cell Structure and Adhesion\"],[\"Miscellaneous\"],[\"Immune System\"],[\"Regulation of Gene Expression\"],[\"Regulation of Gene Expression\"],[\"Cell Structure and Adhesion\"],[\"Development and Differentiation\"],[\"Immune System\"],[\"Metabolism\"],[\"Miscellaneous\"],[\"Regulation of Gene Expression\"],[\"Signalling\"],[\"Tumor Suppressors\"]],\"domain\":{\"x\":[0.0,1.0],\"y\":[0.0,1.0]},\"hovertemplate\":\"labels=%{label}\\u003cbr\\u003ecount=%{value}\\u003cbr\\u003eparent=%{parent}\\u003cbr\\u003eid=%{id}\\u003cbr\\u003eCategory=%{customdata[0]}\\u003cextra\\u003e\\u003c\\u002fextra\\u003e\",\"ids\":[\"Regulation of Gene Expression\\u002fTranscriptional Regulators\\u002fRFX6\",\"Regulation of Gene Expression\\u002fTranscriptional Regulators\\u002fPDGFRB\",\"Miscellaneous\\u002fPDZ Domain Interacting Proteins\\u002fPDZK1IP1\",\"Metabolism\\u002fMetal Binding Proteins\\u002fPLCE1\",\"Tumor Suppressors\\u002fCell Signaling\\u002fREP15\",\"Immune System\\u002fOther Immune-related Genes\\u002fRETNLB\",\"Cell Structure and Adhesion\\u002fStructural Proteins\\u002fKRT8\",\"Cell Structure and Adhesion\\u002fStructural Proteins\\u002fMCEMP1\",\"Regulation of Gene Expression\\u002fTranscriptional Regulators\\u002fLEF1\",\"Immune System\\u002fImmune Receptors and Signaling\\u002fLILRA4\",\"Immune System\\u002fImmune Receptors and Signaling\\u002fCLEC9A\",\"Development and Differentiation\\u002fDevelopment Regulators\\u002fARX\",\"Regulation of Gene Expression\\u002fTranscription Factors\\u002fASCL2\",\"Cell Structure and Adhesion\\u002fCell Adhesion\\u002fCDHR5\",\"Tumor Suppressors\\u002fDNA Repair\\u002fBRCA2\",\"Metabolism\\u002fEnzymes\\u002fCA2\",\"Immune System\\u002fImmune Receptors and Signaling\\u002fCD5\",\"Tumor Suppressors\\u002fIon Channel Regulators\\u002fBEST2\",\"Immune System\\u002fT Cell Markers\\u002fCD8B\",\"Development and Differentiation\\u002fDevelopment Regulators\\u002fCTLA4\",\"Regulation of Gene Expression\\u002fCREB Family\\u002fCREB3L1\",\"Immune System\\u002fT Cell Markers\\u002fCD8A\",\"Cell Structure and Adhesion\\u002fCell Adhesion\\u002fANK2\",\"Regulation of Gene Expression\\u002fHomeobox Genes\\u002fPAX4\",\"Metabolism\\u002fMetabolic Processes\\u002fNOSIP\",\"Regulation of Gene Expression\\u002fHomeobox Genes\\u002fNKX2-2\",\"Development and Differentiation\\u002fG-Protein Subunits\\u002fNET1\",\"Metabolism\\u002fMetabolic Processes\\u002fMT1A\",\"Cell Structure and Adhesion\\u002fMesothelin Family\\u002fMSLN\",\"Miscellaneous\\u002fMelanosome-Related Proteins\\u002fMLPH\",\"Metabolism\\u002fMetal Binding Proteins\\u002fSELENOM\",\"Development and Differentiation\\u002fDevelopment Regulators\\u002fTBC1D4\",\"Miscellaneous\\u002fStructural Proteins\\u002fTUBB\",\"Regulation of Gene Expression\\u002fTranscriptional Regulators\\u002fZEB2\",\"Miscellaneous\\u002fPre-B Cell Markers\\u002fVPREB3\",\"Metabolism\\u002fEnzymes\\u002fFKBP11\",\"Regulation of Gene Expression\\u002fTranscriptional Regulators\\u002fCTNNB1\",\"Immune System\\u002fCytokines and Chemokines\\u002fCXCR1\",\"Metabolism\\u002fEnzymes\\u002fIL4I1\",\"Regulation of Gene Expression\\u002fTranscription Factors\\u002fHES6\",\"Cell Structure and Adhesion\\u002fStructural Proteins\\u002fHEPACAM2\",\"Immune System\\u002fOther Immune-related Genes\\u002fGPR183\",\"Signalling\\u002fCell Adhesion\\u002fGNA11\",\"Immune System\\u002fImmune Receptors and Signaling\\u002fFOXP3\",\"Immune System\\u002fCytokines and Chemokines\\u002fCXCR4\",\"Signalling\\u002fGrowth Factor Receptors\\u002fFFAR4\",\"Miscellaneous\\u002fHeat Shock Proteins\\u002fDNAJC12\",\"Signalling\\u002fGPCRs\\u002fKIT\",\"Immune System\\u002fNK Cell Receptors\\u002fKLRB1\",\"Immune System\\u002fRegulatory Proteins\\u002fIRF8\",\"Regulation of Gene Expression\\u002fHomeobox Genes\\u002fISL1\",\"Immune System\\u002fRegulatory Proteins\\u002fITK\",\"Regulation of Gene Expression\\u002fNuclear Receptors\\u002fRORA\",\"Signalling\\u002fCell Adhesions\\u002fRUNX1T1\",\"Signalling\\u002fGPCRs\\u002fROBO2\",\"Regulation of Gene Expression\\u002fCREB Family\",\"Cell Structure and Adhesion\\u002fCell Adhesion\",\"Signalling\\u002fCell Adhesion\",\"Signalling\\u002fCell Adhesions\",\"Tumor Suppressors\\u002fCell Signaling\",\"Immune System\\u002fCytokines and Chemokines\",\"Tumor Suppressors\\u002fDNA Repair\",\"Development and Differentiation\\u002fDevelopment Regulators\",\"Metabolism\\u002fEnzymes\",\"Development and Differentiation\\u002fG-Protein Subunits\",\"Signalling\\u002fGPCRs\",\"Signalling\\u002fGrowth Factor Receptors\",\"Miscellaneous\\u002fHeat Shock Proteins\",\"Regulation of Gene Expression\\u002fHomeobox Genes\",\"Immune System\\u002fImmune Receptors and Signaling\",\"Tumor Suppressors\\u002fIon Channel Regulators\",\"Miscellaneous\\u002fMelanosome-Related Proteins\",\"Cell Structure and Adhesion\\u002fMesothelin Family\",\"Metabolism\\u002fMetabolic Processes\",\"Metabolism\\u002fMetal Binding Proteins\",\"Immune System\\u002fNK Cell Receptors\",\"Regulation of Gene Expression\\u002fNuclear Receptors\",\"Immune System\\u002fOther Immune-related Genes\",\"Miscellaneous\\u002fPDZ Domain Interacting Proteins\",\"Miscellaneous\\u002fPre-B Cell Markers\",\"Immune System\\u002fRegulatory Proteins\",\"Cell Structure and Adhesion\\u002fStructural Proteins\",\"Miscellaneous\\u002fStructural Proteins\",\"Immune System\\u002fT Cell Markers\",\"Regulation of Gene Expression\\u002fTranscription Factors\",\"Regulation of Gene Expression\\u002fTranscriptional Regulators\",\"Cell Structure and Adhesion\",\"Development and Differentiation\",\"Immune System\",\"Metabolism\",\"Miscellaneous\",\"Regulation of Gene Expression\",\"Signalling\",\"Tumor Suppressors\"],\"labels\":[\"RFX6\",\"PDGFRB\",\"PDZK1IP1\",\"PLCE1\",\"REP15\",\"RETNLB\",\"KRT8\",\"MCEMP1\",\"LEF1\",\"LILRA4\",\"CLEC9A\",\"ARX\",\"ASCL2\",\"CDHR5\",\"BRCA2\",\"CA2\",\"CD5\",\"BEST2\",\"CD8B\",\"CTLA4\",\"CREB3L1\",\"CD8A\",\"ANK2\",\"PAX4\",\"NOSIP\",\"NKX2-2\",\"NET1\",\"MT1A\",\"MSLN\",\"MLPH\",\"SELENOM\",\"TBC1D4\",\"TUBB\",\"ZEB2\",\"VPREB3\",\"FKBP11\",\"CTNNB1\",\"CXCR1\",\"IL4I1\",\"HES6\",\"HEPACAM2\",\"GPR183\",\"GNA11\",\"FOXP3\",\"CXCR4\",\"FFAR4\",\"DNAJC12\",\"KIT\",\"KLRB1\",\"IRF8\",\"ISL1\",\"ITK\",\"RORA\",\"RUNX1T1\",\"ROBO2\",\"CREB Family\",\"Cell Adhesion\",\"Cell Adhesion\",\"Cell Adhesions\",\"Cell Signaling\",\"Cytokines and Chemokines\",\"DNA Repair\",\"Development Regulators\",\"Enzymes\",\"G-Protein Subunits\",\"GPCRs\",\"Growth Factor Receptors\",\"Heat Shock Proteins\",\"Homeobox Genes\",\"Immune Receptors and Signaling\",\"Ion Channel Regulators\",\"Melanosome-Related Proteins\",\"Mesothelin Family\",\"Metabolic Processes\",\"Metal Binding Proteins\",\"NK Cell Receptors\",\"Nuclear Receptors\",\"Other Immune-related Genes\",\"PDZ Domain Interacting Proteins\",\"Pre-B Cell Markers\",\"Regulatory Proteins\",\"Structural Proteins\",\"Structural Proteins\",\"T Cell Markers\",\"Transcription Factors\",\"Transcriptional Regulators\",\"Cell Structure and Adhesion\",\"Development and Differentiation\",\"Immune System\",\"Metabolism\",\"Miscellaneous\",\"Regulation of Gene Expression\",\"Signalling\",\"Tumor Suppressors\"],\"marker\":{\"colors\":[\"#636efa\",\"#636efa\",\"#EF553B\",\"#00cc96\",\"#ab63fa\",\"#FFA15A\",\"#19d3f3\",\"#19d3f3\",\"#636efa\",\"#FFA15A\",\"#FFA15A\",\"#FF6692\",\"#636efa\",\"#19d3f3\",\"#ab63fa\",\"#00cc96\",\"#FFA15A\",\"#ab63fa\",\"#FFA15A\",\"#FF6692\",\"#636efa\",\"#FFA15A\",\"#19d3f3\",\"#636efa\",\"#00cc96\",\"#636efa\",\"#FF6692\",\"#00cc96\",\"#19d3f3\",\"#EF553B\",\"#00cc96\",\"#FF6692\",\"#EF553B\",\"#636efa\",\"#EF553B\",\"#00cc96\",\"#636efa\",\"#FFA15A\",\"#00cc96\",\"#636efa\",\"#19d3f3\",\"#FFA15A\",\"#B6E880\",\"#FFA15A\",\"#FFA15A\",\"#B6E880\",\"#EF553B\",\"#B6E880\",\"#FFA15A\",\"#FFA15A\",\"#636efa\",\"#FFA15A\",\"#636efa\",\"#B6E880\",\"#B6E880\",\"#636efa\",\"#19d3f3\",\"#B6E880\",\"#B6E880\",\"#ab63fa\",\"#FFA15A\",\"#ab63fa\",\"#FF6692\",\"#00cc96\",\"#FF6692\",\"#B6E880\",\"#B6E880\",\"#EF553B\",\"#636efa\",\"#FFA15A\",\"#ab63fa\",\"#EF553B\",\"#19d3f3\",\"#00cc96\",\"#00cc96\",\"#FFA15A\",\"#636efa\",\"#FFA15A\",\"#EF553B\",\"#EF553B\",\"#FFA15A\",\"#19d3f3\",\"#EF553B\",\"#FFA15A\",\"#636efa\",\"#636efa\",\"#19d3f3\",\"#FF6692\",\"#FFA15A\",\"#00cc96\",\"#EF553B\",\"#636efa\",\"#B6E880\",\"#ab63fa\"]},\"name\":\"\",\"parents\":[\"Regulation of Gene Expression\\u002fTranscriptional Regulators\",\"Regulation of Gene Expression\\u002fTranscriptional Regulators\",\"Miscellaneous\\u002fPDZ Domain Interacting Proteins\",\"Metabolism\\u002fMetal Binding Proteins\",\"Tumor Suppressors\\u002fCell Signaling\",\"Immune System\\u002fOther Immune-related Genes\",\"Cell Structure and Adhesion\\u002fStructural Proteins\",\"Cell Structure and Adhesion\\u002fStructural Proteins\",\"Regulation of Gene Expression\\u002fTranscriptional Regulators\",\"Immune System\\u002fImmune Receptors and Signaling\",\"Immune System\\u002fImmune Receptors and Signaling\",\"Development and Differentiation\\u002fDevelopment Regulators\",\"Regulation of Gene Expression\\u002fTranscription Factors\",\"Cell Structure and Adhesion\\u002fCell Adhesion\",\"Tumor Suppressors\\u002fDNA Repair\",\"Metabolism\\u002fEnzymes\",\"Immune System\\u002fImmune Receptors and Signaling\",\"Tumor Suppressors\\u002fIon Channel Regulators\",\"Immune System\\u002fT Cell Markers\",\"Development and Differentiation\\u002fDevelopment Regulators\",\"Regulation of Gene Expression\\u002fCREB Family\",\"Immune System\\u002fT Cell Markers\",\"Cell Structure and Adhesion\\u002fCell Adhesion\",\"Regulation of Gene Expression\\u002fHomeobox Genes\",\"Metabolism\\u002fMetabolic Processes\",\"Regulation of Gene Expression\\u002fHomeobox Genes\",\"Development and Differentiation\\u002fG-Protein Subunits\",\"Metabolism\\u002fMetabolic Processes\",\"Cell Structure and Adhesion\\u002fMesothelin Family\",\"Miscellaneous\\u002fMelanosome-Related Proteins\",\"Metabolism\\u002fMetal Binding Proteins\",\"Development and Differentiation\\u002fDevelopment Regulators\",\"Miscellaneous\\u002fStructural Proteins\",\"Regulation of Gene Expression\\u002fTranscriptional Regulators\",\"Miscellaneous\\u002fPre-B Cell Markers\",\"Metabolism\\u002fEnzymes\",\"Regulation of Gene Expression\\u002fTranscriptional Regulators\",\"Immune System\\u002fCytokines and Chemokines\",\"Metabolism\\u002fEnzymes\",\"Regulation of Gene Expression\\u002fTranscription Factors\",\"Cell Structure and Adhesion\\u002fStructural Proteins\",\"Immune System\\u002fOther Immune-related Genes\",\"Signalling\\u002fCell Adhesion\",\"Immune System\\u002fImmune Receptors and Signaling\",\"Immune System\\u002fCytokines and Chemokines\",\"Signalling\\u002fGrowth Factor Receptors\",\"Miscellaneous\\u002fHeat Shock Proteins\",\"Signalling\\u002fGPCRs\",\"Immune System\\u002fNK Cell Receptors\",\"Immune System\\u002fRegulatory Proteins\",\"Regulation of Gene Expression\\u002fHomeobox Genes\",\"Immune System\\u002fRegulatory Proteins\",\"Regulation of Gene Expression\\u002fNuclear Receptors\",\"Signalling\\u002fCell Adhesions\",\"Signalling\\u002fGPCRs\",\"Regulation of Gene Expression\",\"Cell Structure and Adhesion\",\"Signalling\",\"Signalling\",\"Tumor Suppressors\",\"Immune System\",\"Tumor Suppressors\",\"Development and Differentiation\",\"Metabolism\",\"Development and Differentiation\",\"Signalling\",\"Signalling\",\"Miscellaneous\",\"Regulation of Gene Expression\",\"Immune System\",\"Tumor Suppressors\",\"Miscellaneous\",\"Cell Structure and Adhesion\",\"Metabolism\",\"Metabolism\",\"Immune System\",\"Regulation of Gene Expression\",\"Immune System\",\"Miscellaneous\",\"Miscellaneous\",\"Immune System\",\"Cell Structure and Adhesion\",\"Miscellaneous\",\"Immune System\",\"Regulation of Gene Expression\",\"Regulation of Gene Expression\",\"\",\"\",\"\",\"\",\"\",\"\",\"\",\"\"],\"values\":[1,1,1,1,1,1,1,1,1,1,1,1,1,1,1,1,1,1,1,1,1,1,1,1,1,1,1,1,1,1,1,1,1,1,1,1,1,1,1,1,1,1,1,1,1,1,1,1,1,1,1,1,1,1,1,1,2,1,1,1,2,1,3,3,1,2,1,1,3,4,1,1,1,2,2,1,1,2,1,1,2,3,1,2,2,5,6,4,13,7,5,12,5,3],\"type\":\"sunburst\"}],                        {\"template\":{\"data\":{\"histogram2dcontour\":[{\"type\":\"histogram2dcontour\",\"colorbar\":{\"outlinewidth\":0,\"ticks\":\"\"},\"colorscale\":[[0.0,\"#0d0887\"],[0.1111111111111111,\"#46039f\"],[0.2222222222222222,\"#7201a8\"],[0.3333333333333333,\"#9c179e\"],[0.4444444444444444,\"#bd3786\"],[0.5555555555555556,\"#d8576b\"],[0.6666666666666666,\"#ed7953\"],[0.7777777777777778,\"#fb9f3a\"],[0.8888888888888888,\"#fdca26\"],[1.0,\"#f0f921\"]]}],\"choropleth\":[{\"type\":\"choropleth\",\"colorbar\":{\"outlinewidth\":0,\"ticks\":\"\"}}],\"histogram2d\":[{\"type\":\"histogram2d\",\"colorbar\":{\"outlinewidth\":0,\"ticks\":\"\"},\"colorscale\":[[0.0,\"#0d0887\"],[0.1111111111111111,\"#46039f\"],[0.2222222222222222,\"#7201a8\"],[0.3333333333333333,\"#9c179e\"],[0.4444444444444444,\"#bd3786\"],[0.5555555555555556,\"#d8576b\"],[0.6666666666666666,\"#ed7953\"],[0.7777777777777778,\"#fb9f3a\"],[0.8888888888888888,\"#fdca26\"],[1.0,\"#f0f921\"]]}],\"heatmap\":[{\"type\":\"heatmap\",\"colorbar\":{\"outlinewidth\":0,\"ticks\":\"\"},\"colorscale\":[[0.0,\"#0d0887\"],[0.1111111111111111,\"#46039f\"],[0.2222222222222222,\"#7201a8\"],[0.3333333333333333,\"#9c179e\"],[0.4444444444444444,\"#bd3786\"],[0.5555555555555556,\"#d8576b\"],[0.6666666666666666,\"#ed7953\"],[0.7777777777777778,\"#fb9f3a\"],[0.8888888888888888,\"#fdca26\"],[1.0,\"#f0f921\"]]}],\"heatmapgl\":[{\"type\":\"heatmapgl\",\"colorbar\":{\"outlinewidth\":0,\"ticks\":\"\"},\"colorscale\":[[0.0,\"#0d0887\"],[0.1111111111111111,\"#46039f\"],[0.2222222222222222,\"#7201a8\"],[0.3333333333333333,\"#9c179e\"],[0.4444444444444444,\"#bd3786\"],[0.5555555555555556,\"#d8576b\"],[0.6666666666666666,\"#ed7953\"],[0.7777777777777778,\"#fb9f3a\"],[0.8888888888888888,\"#fdca26\"],[1.0,\"#f0f921\"]]}],\"contourcarpet\":[{\"type\":\"contourcarpet\",\"colorbar\":{\"outlinewidth\":0,\"ticks\":\"\"}}],\"contour\":[{\"type\":\"contour\",\"colorbar\":{\"outlinewidth\":0,\"ticks\":\"\"},\"colorscale\":[[0.0,\"#0d0887\"],[0.1111111111111111,\"#46039f\"],[0.2222222222222222,\"#7201a8\"],[0.3333333333333333,\"#9c179e\"],[0.4444444444444444,\"#bd3786\"],[0.5555555555555556,\"#d8576b\"],[0.6666666666666666,\"#ed7953\"],[0.7777777777777778,\"#fb9f3a\"],[0.8888888888888888,\"#fdca26\"],[1.0,\"#f0f921\"]]}],\"surface\":[{\"type\":\"surface\",\"colorbar\":{\"outlinewidth\":0,\"ticks\":\"\"},\"colorscale\":[[0.0,\"#0d0887\"],[0.1111111111111111,\"#46039f\"],[0.2222222222222222,\"#7201a8\"],[0.3333333333333333,\"#9c179e\"],[0.4444444444444444,\"#bd3786\"],[0.5555555555555556,\"#d8576b\"],[0.6666666666666666,\"#ed7953\"],[0.7777777777777778,\"#fb9f3a\"],[0.8888888888888888,\"#fdca26\"],[1.0,\"#f0f921\"]]}],\"mesh3d\":[{\"type\":\"mesh3d\",\"colorbar\":{\"outlinewidth\":0,\"ticks\":\"\"}}],\"scatter\":[{\"fillpattern\":{\"fillmode\":\"overlay\",\"size\":10,\"solidity\":0.2},\"type\":\"scatter\"}],\"parcoords\":[{\"type\":\"parcoords\",\"line\":{\"colorbar\":{\"outlinewidth\":0,\"ticks\":\"\"}}}],\"scatterpolargl\":[{\"type\":\"scatterpolargl\",\"marker\":{\"colorbar\":{\"outlinewidth\":0,\"ticks\":\"\"}}}],\"bar\":[{\"error_x\":{\"color\":\"#2a3f5f\"},\"error_y\":{\"color\":\"#2a3f5f\"},\"marker\":{\"line\":{\"color\":\"#E5ECF6\",\"width\":0.5},\"pattern\":{\"fillmode\":\"overlay\",\"size\":10,\"solidity\":0.2}},\"type\":\"bar\"}],\"scattergeo\":[{\"type\":\"scattergeo\",\"marker\":{\"colorbar\":{\"outlinewidth\":0,\"ticks\":\"\"}}}],\"scatterpolar\":[{\"type\":\"scatterpolar\",\"marker\":{\"colorbar\":{\"outlinewidth\":0,\"ticks\":\"\"}}}],\"histogram\":[{\"marker\":{\"pattern\":{\"fillmode\":\"overlay\",\"size\":10,\"solidity\":0.2}},\"type\":\"histogram\"}],\"scattergl\":[{\"type\":\"scattergl\",\"marker\":{\"colorbar\":{\"outlinewidth\":0,\"ticks\":\"\"}}}],\"scatter3d\":[{\"type\":\"scatter3d\",\"line\":{\"colorbar\":{\"outlinewidth\":0,\"ticks\":\"\"}},\"marker\":{\"colorbar\":{\"outlinewidth\":0,\"ticks\":\"\"}}}],\"scattermapbox\":[{\"type\":\"scattermapbox\",\"marker\":{\"colorbar\":{\"outlinewidth\":0,\"ticks\":\"\"}}}],\"scatterternary\":[{\"type\":\"scatterternary\",\"marker\":{\"colorbar\":{\"outlinewidth\":0,\"ticks\":\"\"}}}],\"scattercarpet\":[{\"type\":\"scattercarpet\",\"marker\":{\"colorbar\":{\"outlinewidth\":0,\"ticks\":\"\"}}}],\"carpet\":[{\"aaxis\":{\"endlinecolor\":\"#2a3f5f\",\"gridcolor\":\"white\",\"linecolor\":\"white\",\"minorgridcolor\":\"white\",\"startlinecolor\":\"#2a3f5f\"},\"baxis\":{\"endlinecolor\":\"#2a3f5f\",\"gridcolor\":\"white\",\"linecolor\":\"white\",\"minorgridcolor\":\"white\",\"startlinecolor\":\"#2a3f5f\"},\"type\":\"carpet\"}],\"table\":[{\"cells\":{\"fill\":{\"color\":\"#EBF0F8\"},\"line\":{\"color\":\"white\"}},\"header\":{\"fill\":{\"color\":\"#C8D4E3\"},\"line\":{\"color\":\"white\"}},\"type\":\"table\"}],\"barpolar\":[{\"marker\":{\"line\":{\"color\":\"#E5ECF6\",\"width\":0.5},\"pattern\":{\"fillmode\":\"overlay\",\"size\":10,\"solidity\":0.2}},\"type\":\"barpolar\"}],\"pie\":[{\"automargin\":true,\"type\":\"pie\"}]},\"layout\":{\"autotypenumbers\":\"strict\",\"colorway\":[\"#636efa\",\"#EF553B\",\"#00cc96\",\"#ab63fa\",\"#FFA15A\",\"#19d3f3\",\"#FF6692\",\"#B6E880\",\"#FF97FF\",\"#FECB52\"],\"font\":{\"color\":\"#2a3f5f\"},\"hovermode\":\"closest\",\"hoverlabel\":{\"align\":\"left\"},\"paper_bgcolor\":\"white\",\"plot_bgcolor\":\"#E5ECF6\",\"polar\":{\"bgcolor\":\"#E5ECF6\",\"angularaxis\":{\"gridcolor\":\"white\",\"linecolor\":\"white\",\"ticks\":\"\"},\"radialaxis\":{\"gridcolor\":\"white\",\"linecolor\":\"white\",\"ticks\":\"\"}},\"ternary\":{\"bgcolor\":\"#E5ECF6\",\"aaxis\":{\"gridcolor\":\"white\",\"linecolor\":\"white\",\"ticks\":\"\"},\"baxis\":{\"gridcolor\":\"white\",\"linecolor\":\"white\",\"ticks\":\"\"},\"caxis\":{\"gridcolor\":\"white\",\"linecolor\":\"white\",\"ticks\":\"\"}},\"coloraxis\":{\"colorbar\":{\"outlinewidth\":0,\"ticks\":\"\"}},\"colorscale\":{\"sequential\":[[0.0,\"#0d0887\"],[0.1111111111111111,\"#46039f\"],[0.2222222222222222,\"#7201a8\"],[0.3333333333333333,\"#9c179e\"],[0.4444444444444444,\"#bd3786\"],[0.5555555555555556,\"#d8576b\"],[0.6666666666666666,\"#ed7953\"],[0.7777777777777778,\"#fb9f3a\"],[0.8888888888888888,\"#fdca26\"],[1.0,\"#f0f921\"]],\"sequentialminus\":[[0.0,\"#0d0887\"],[0.1111111111111111,\"#46039f\"],[0.2222222222222222,\"#7201a8\"],[0.3333333333333333,\"#9c179e\"],[0.4444444444444444,\"#bd3786\"],[0.5555555555555556,\"#d8576b\"],[0.6666666666666666,\"#ed7953\"],[0.7777777777777778,\"#fb9f3a\"],[0.8888888888888888,\"#fdca26\"],[1.0,\"#f0f921\"]],\"diverging\":[[0,\"#8e0152\"],[0.1,\"#c51b7d\"],[0.2,\"#de77ae\"],[0.3,\"#f1b6da\"],[0.4,\"#fde0ef\"],[0.5,\"#f7f7f7\"],[0.6,\"#e6f5d0\"],[0.7,\"#b8e186\"],[0.8,\"#7fbc41\"],[0.9,\"#4d9221\"],[1,\"#276419\"]]},\"xaxis\":{\"gridcolor\":\"white\",\"linecolor\":\"white\",\"ticks\":\"\",\"title\":{\"standoff\":15},\"zerolinecolor\":\"white\",\"automargin\":true,\"zerolinewidth\":2},\"yaxis\":{\"gridcolor\":\"white\",\"linecolor\":\"white\",\"ticks\":\"\",\"title\":{\"standoff\":15},\"zerolinecolor\":\"white\",\"automargin\":true,\"zerolinewidth\":2},\"scene\":{\"xaxis\":{\"backgroundcolor\":\"#E5ECF6\",\"gridcolor\":\"white\",\"linecolor\":\"white\",\"showbackground\":true,\"ticks\":\"\",\"zerolinecolor\":\"white\",\"gridwidth\":2},\"yaxis\":{\"backgroundcolor\":\"#E5ECF6\",\"gridcolor\":\"white\",\"linecolor\":\"white\",\"showbackground\":true,\"ticks\":\"\",\"zerolinecolor\":\"white\",\"gridwidth\":2},\"zaxis\":{\"backgroundcolor\":\"#E5ECF6\",\"gridcolor\":\"white\",\"linecolor\":\"white\",\"showbackground\":true,\"ticks\":\"\",\"zerolinecolor\":\"white\",\"gridwidth\":2}},\"shapedefaults\":{\"line\":{\"color\":\"#2a3f5f\"}},\"annotationdefaults\":{\"arrowcolor\":\"#2a3f5f\",\"arrowhead\":0,\"arrowwidth\":1},\"geo\":{\"bgcolor\":\"white\",\"landcolor\":\"#E5ECF6\",\"subunitcolor\":\"white\",\"showland\":true,\"showlakes\":true,\"lakecolor\":\"white\"},\"title\":{\"x\":0.05},\"mapbox\":{\"style\":\"light\"}}},\"legend\":{\"tracegroupgap\":0},\"margin\":{\"t\":60}},                        {\"responsive\": true}                    ).then(function(){\n",
       "                            \n",
       "var gd = document.getElementById('e7c98fe2-9faf-46e4-af4d-c70565a135a3');\n",
       "var x = new MutationObserver(function (mutations, observer) {{\n",
       "        var display = window.getComputedStyle(gd).display;\n",
       "        if (!display || display === 'none') {{\n",
       "            console.log([gd, 'removed!']);\n",
       "            Plotly.purge(gd);\n",
       "            observer.disconnect();\n",
       "        }}\n",
       "}});\n",
       "\n",
       "// Listen for the removal of the full notebook cells\n",
       "var notebookContainer = gd.closest('#notebook-container');\n",
       "if (notebookContainer) {{\n",
       "    x.observe(notebookContainer, {childList: true});\n",
       "}}\n",
       "\n",
       "// Listen for the clearing of the current output cell\n",
       "var outputEl = gd.closest('.output');\n",
       "if (outputEl) {{\n",
       "    x.observe(outputEl, {childList: true});\n",
       "}}\n",
       "\n",
       "                        })                };                });            </script>        </div>"
      ]
     },
     "metadata": {},
     "output_type": "display_data"
    }
   ],
   "source": [
    "fig = px.sunburst(df, path=['Category', 'Subcategory', 'Gene'], color='Category')\n",
    "fig.show()"
   ]
  },
  {
   "cell_type": "markdown",
   "metadata": {},
   "source": [
    "+ Add gene weight"
   ]
  },
  {
   "cell_type": "code",
   "execution_count": 147,
   "metadata": {},
   "outputs": [],
   "source": [
    "all_genes = ['LILRA4', 'RPS4Y1', 'CD5', 'HES6', 'RUNX1T1', 'FFAR4', 'MCEMP1', 'ASCL2', 'KLRC2', 'CREB3L1', 'TBC1D4', 'GNA11', 'PKHD1L1', 'CLEC9A', 'NET1', 'ROBO2', 'NOSIP', 'MT1A', 'SELENOM', 'ARX', 'PDGFRB', 'NKX2-2', 'CTNNB1', 'RETNLB', 'FOXP3', 'CD8A', 'IRF8', 'ITK', 'RFX6', 'BRCA2', 'VPREB3', 'DNAJC12', 'CHI3L2', 'IL4I1', 'PDZK1IP1', 'ISL1', 'MLPH', 'RORA', 'CTLA4', 'REP15', 'TUBB', 'BEST2', 'CD8B', 'PAX4', 'KRT8', 'MSLN', 'GPR183', 'L1TD1', 'HEPACAM2', 'CXCR1', 'ANK2', 'KLRB1', 'SCG3', 'PLCE1', 'FKBP11', 'CA2', 'CDHR5', 'KIT', 'LEF1', 'ZEB2', 'PSTPIP2', 'CXCR4', 'PLVAP', 'TCL1A', 'DUOX2', 'CCDC80', 'CEP126', 'ODF2L', 'MYH14', 'LGR5', 'RORC', 'PIGR', 'F3', 'MMP3', 'IL1RAPL1', 'ACTA2', 'IL7R', 'PDGFRA', 'TUBA1A', 'SOCS3', 'C7', 'TRAC', 'OLFM4', 'WFDC2', 'EPHB3', 'DOCK10', 'IL1RL1', 'CD3D', 'PBK', 'GZMA', 'BANK1', 'SNCA', 'C2orf88', 'C1QBP', 'EBPL', 'SPIB', 'TRGV4', 'MS4A7', 'CD36', 'CA1', 'ETV1', 'CYB5R3', 'HRCT1', 'RUNX1', 'BATF', 'SELENBP1', 'LAG3', 'SCGN', 'KRT1', 'PDCD1', 'CDH19', 'SMOC2', 'SMIM14', 'KRTCAP3', 'NKG7', 'CTSE', 'SEC11C', 'SLC26A2', 'SOX6', 'SULT1B1', 'CD3G', 'PROX1', 'SELENOK', 'GREM2', 'VWA5B2', 'PCDH11X', 'AFAP1L2', 'CDCA7', 'CDK15', 'TRBC2', 'CES1', 'TAGLN', 'SLC29A4', 'AKR7A3', 'TMIGD1', 'FCRLA', 'PI3', 'DNASE1L3', 'GALNT5', 'IER5', 'CADPS', 'PRPH', 'TOP2A', 'GPRC5C', 'SMIM6', 'IDO1', 'CDK6', 'MS4A8', 'TCF21', 'CES2', 'CCR7', 'FEV', 'TRBC1', 'TRAT1', 'CD79A', 'CA7', 'SOX4', 'IMPDH2', 'RNASE1', 'IFI27', 'KLK1', 'DPYSL3', 'MS4A2', 'RNF43', 'ARHGAP24', 'GALNT8', 'ABCC8', 'PRDX4', 'CLCA4', 'LCT', 'TMEM61', 'PCLAF', 'CST7', 'LRMP', 'AVIL', 'INSM1', 'RHOV', 'TNFRSF17', 'SH2D7', 'TRDV1', 'MUC12', 'CHRM3', 'HTR3E', 'CDKN2B', 'CRYBA2', 'NUSAP1', 'FRZB', 'ETS1', 'TRPM5', 'RAB26', 'PTGER4', 'SCG5', 'RGS13', 'LEPROTL1', 'FCRL1', 'AQP1', 'SPDEF', 'GNLY', 'CTSB', 'SH2D6', 'GNPTAB', 'ICOS', 'DERL3', 'MB', 'NEUROD1', 'ANO7', 'MAF', 'TK1', 'SIT1', 'ACACB', 'CMBL', 'MS4A1', 'PRF1', 'CPA3', 'HES1', 'FZD7', 'GPRIN3', 'AQP8', 'STMN1', 'SFRP4', 'CD163', 'HMGB2', 'GATA2', 'PTPRB', 'CPE', 'HPGDS', 'SCNN1A', 'CYBB', 'PAX5', 'BMX', 'LYVE1', 'AGTR1', 'ACKR1', 'SOX9', 'FYB1', 'SLC12A2', 'EGFR', 'CXCR5', 'CXCR3', 'KIF5C', 'AKR1C3', 'SOD3', 'CHGA', 'ITLN1', 'HHIP', 'RBFOX3', 'PLXND1', 'SFXN1', 'ANXA13', 'RAP1GAP', 'SCG2', 'CXCR2', 'DEPP1', 'CFTR', 'RGMB', 'MEIS2', 'FABP2', 'FOXA3', 'GZMK', 'RRM2', 'KLRD1', 'BCAS1', 'HAVCR2', 'REG4', 'UGT2B17', 'GPX2', 'UBE2C', 'CHGB', 'KRT86', 'SLC18A2', 'CD83', 'SVOPL', 'BEST4', 'C1QC', 'TOX', 'RAB3B', 'PDE4C', 'STXBP6', 'ID2', 'UGT2A3', 'TNFRSF25', 'GIMAP7', 'CHP2', 'TYMS', 'MKI67', 'SPOCK2', 'TNFAIP3', 'CALB2', 'ATOH1', 'CKAP4', 'LMCD1', 'PTTG1', 'CLCA1', 'CA4', 'PPP1R1B', 'MBP', 'FERMT1', 'DMBT1', 'NOTCH3', 'SDCBP2', 'ABCA8', 'NOVA1', 'TKT', 'IL17RB', 'RIIAD1', 'SLC26A3', 'MS4A12', 'CR2', 'PLPP2', 'ADRA2A', 'NXPE4', 'S100P', 'OTOP2', 'RGS5', 'B3GNT6', 'KCNAB1', 'PLN', 'CMA1', 'LGALS2', 'CD3E']"
   ]
  },
  {
   "cell_type": "code",
   "execution_count": 148,
   "metadata": {},
   "outputs": [],
   "source": [
    "all_weights = [0.012, 0.0081, 0.007, 0.0067, 0.0062, 0.006, 0.0059, 0.0059, 0.0058, 0.0055, 0.0055, 0.0055, 0.0053, 0.0052, 0.0052, 0.0051, 0.0051, 0.0051, 0.0048, 0.0046, 0.0046, 0.0046, 0.0044, 0.0043, 0.0042, 0.0042, 0.0042, 0.0042, 0.0042, 0.0042, 0.0041, 0.0041, 0.0041, 0.0041, 0.0039, 0.0039, 0.0039, 0.0039, 0.0037, 0.0037, 0.0037, 0.0037, 0.0037, 0.0036, 0.0036, 0.0036, 0.0035, 0.0035, 0.0034, 0.0034, 0.0034, 0.0033, 0.0033, 0.0033, 0.0033, 0.0033, 0.0033, 0.0033, 0.0033, 0.0032, 0.0032, 0.0031, 0.0031, 0.003, 0.003, 0.003, 0.003, 0.003, 0.003, 0.0029, 0.0029, 0.0029, 0.0029, 0.0029, 0.0029, 0.0028, 0.0028, 0.0028, 0.0027, 0.0027, 0.0027, 0.0027, 0.0026, 0.0026, 0.0026, 0.0026, 0.0025, 0.0025, 0.0025, 0.0025, 0.0025, 0.0025, 0.0025, 0.0025, 0.0024, 0.0024, 0.0024, 0.0024, 0.0024, 0.0024, 0.0024, 0.0024, 0.0023, 0.0023, 0.0023, 0.0023, 0.0023, 0.0022, 0.0022, 0.0022, 0.0022, 0.0022, 0.0022, 0.0022, 0.0021, 0.0021, 0.0021, 0.0021, 0.0021, 0.0021, 0.0021, 0.0021, 0.0021, 0.002, 0.002, 0.002, 0.002, 0.002, 0.002, 0.002, 0.0019, 0.0019, 0.0019, 0.0019, 0.0018, 0.0018, 0.0018, 0.0018, 0.0018, 0.0017, 0.0017, 0.0017, 0.0017, 0.0017, 0.0017, 0.0017, 0.0017, 0.0017, 0.0017, 0.0017, 0.0016, 0.0016, 0.0016, 0.0016, 0.0016, 0.0015, 0.0015, 0.0015, 0.0015, 0.0015, 0.0015, 0.0015, 0.0015, 0.0015, 0.0014, 0.0014, 0.0014, 0.0014, 0.0014, 0.0014, 0.0014, 0.0014, 0.0014, 0.0014, 0.0013, 0.0013, 0.0013, 0.0013, 0.0013, 0.0013, 0.0013, 0.0012, 0.0012, 0.0012, 0.0012, 0.0012, 0.0012, 0.0012, 0.0012, 0.0012, 0.0012, 0.0012, 0.0012, 0.0011, 0.0011, 0.0011, 0.0011, 0.0011, 0.0011, 0.0011, 0.0011, 0.0011, 0.0011, 0.0011, 0.001, 0.001, 0.001, 0.001, 0.001, 0.001, 0.001, 0.001, 0.001, 0.001, 0.001, 0.001, 0.0009, 0.0009, 0.0009, 0.0009, 0.0009, 0.0009, 0.0009, 0.0009, 0.0009, 0.0009, 0.0009, 0.0009, 0.0009, 0.0008, 0.0008, 0.0008, 0.0008, 0.0008, 0.0008, 0.0008, 0.0007, 0.0007, 0.0007, 0.0007, 0.0007, 0.0007, 0.0007, 0.0007, 0.0007, 0.0007, 0.0006, 0.0006, 0.0006, 0.0006, 0.0006, 0.0006, 0.0006, 0.0006, 0.0006, 0.0006, 0.0006, 0.0006, 0.0005, 0.0005, 0.0005, 0.0005, 0.0005, 0.0005, 0.0005, 0.0005, 0.0005, 0.0005, 0.0005, 0.0005, 0.0005, 0.0004, 0.0004, 0.0004, 0.0004, 0.0004, 0.0004, 0.0004, 0.0004, 0.0003, 0.0003, 0.0003, 0.0003, 0.0003, 0.0003, 0.0003, 0.0002, 0.0002, 0.0002, 0.0002, 0.0002, 0.0002, 0.0002, 0.0002, 0.0002, 0.0002, 0.0002, 1e-04, 1e-04, 1e-04, 1e-04, 1e-04, 1e-04, 1e-04, 1e-04, 1e-04, 1e-04, 1e-04, 1e-04, 1e-04, 1e-04, 1e-04, 1e-04, 1e-04, 1e-04, 1e-04, 1e-04, 0.0, 0.0, 0.0]"
   ]
  },
  {
   "cell_type": "code",
   "execution_count": 149,
   "metadata": {},
   "outputs": [],
   "source": [
    "gene_importance_dataframe = pd.DataFrame({\n",
    "    \"Gene\": all_genes,\n",
    "    \"Weight\": all_weights\n",
    "})"
   ]
  },
  {
   "cell_type": "code",
   "execution_count": 150,
   "metadata": {},
   "outputs": [],
   "source": [
    "# concatenate the two dataframes by 'Gene' column\n",
    "df = pd.merge(df, gene_importance_dataframe, on='Gene')"
   ]
  },
  {
   "cell_type": "code",
   "execution_count": 151,
   "metadata": {},
   "outputs": [
    {
     "data": {
      "application/vnd.plotly.v1+json": {
       "config": {
        "plotlyServerURL": "https://plot.ly"
       },
       "data": [
        {
         "branchvalues": "total",
         "customdata": [
          [
           0.0034
          ],
          [
           0.0046
          ],
          [
           0.0059
          ],
          [
           0.0037
          ],
          [
           0.0042
          ],
          [
           0.0033
          ],
          [
           0.007
          ],
          [
           0.0042
          ],
          [
           0.0037
          ],
          [
           0.0033
          ],
          [
           0.0052
          ],
          [
           0.0055
          ],
          [
           0.0037
          ],
          [
           0.0044
          ],
          [
           0.0034
          ],
          [
           0.0031
          ],
          [
           0.0041
          ],
          [
           0.006
          ],
          [
           0.0033
          ],
          [
           0.0042
          ],
          [
           0.0055
          ],
          [
           0.0035
          ],
          [
           0.0034
          ],
          [
           0.0067
          ],
          [
           0.0041
          ],
          [
           0.0042
          ],
          [
           0.0039
          ],
          [
           0.0042
          ],
          [
           0.0033
          ],
          [
           0.0033
          ],
          [
           0.0036
          ],
          [
           0.0033
          ],
          [
           0.012
          ],
          [
           0.0059
          ],
          [
           0.0039
          ],
          [
           0.0036
          ],
          [
           0.0051
          ],
          [
           0.0052
          ],
          [
           0.0046
          ],
          [
           0.0051
          ],
          [
           0.0036
          ],
          [
           0.0046
          ],
          [
           0.0039
          ],
          [
           0.0033
          ],
          [
           0.0037
          ],
          [
           0.0043
          ],
          [
           0.0042
          ],
          [
           0.0051
          ],
          [
           0.0039
          ],
          [
           0.0062
          ],
          [
           0.0048
          ],
          [
           0.0055
          ],
          [
           0.0037
          ],
          [
           0.0041
          ],
          [
           0.0032
          ],
          [
           0.0055
          ],
          [
           0.0033499999999999997
          ],
          [
           0.005849999999999999
          ],
          [
           0.0037
          ],
          [
           0.00325
          ],
          [
           0.0042
          ],
          [
           0.0046
          ],
          [
           0.003566666666666667
          ],
          [
           0.0052
          ],
          [
           0.004200000000000001
          ],
          [
           0.0051
          ],
          [
           0.006
          ],
          [
           0.0041
          ],
          [
           0.004033333333333333
          ],
          [
           0.0070999999999999995
          ],
          [
           0.0037
          ],
          [
           0.0036
          ],
          [
           0.00405
          ],
          [
           0.0033
          ],
          [
           0.0051
          ],
          [
           0.0039
          ],
          [
           0.00395
          ],
          [
           0.0042
          ],
          [
           0.0041
          ],
          [
           0.00395
          ],
          [
           0.0063
          ],
          [
           0.00394
          ],
          [
           0.00385
          ],
          [
           0.00475
          ],
          [
           0.004686666666666667
          ],
          [
           0.0041375000000000006
          ],
          [
           0.004461538461538462
          ],
          [
           0.004785714285714286
          ]
         ],
         "domain": {
          "x": [
           0,
           1
          ],
          "y": [
           0,
           1
          ]
         },
         "hovertemplate": "labels=%{label}<br>count=%{value}<br>parent=%{parent}<br>id=%{id}<br>Weight=%{color}<extra></extra>",
         "ids": [
          "Cell Structure and Adhesion/Cell Adhesion/ANK2",
          "Development and Differentiation/Development Regulators/ARX",
          "Regulation of Gene Expression/Transcription Factors/ASCL2",
          "Signalling/Ion Channel Regulators/BEST2",
          "Regulation of Gene Expression/DNA Repair/BRCA2",
          "Metabolism/Enzymes/CA2",
          "Immune System/Immune Receptors and Signaling/CD5",
          "Immune System/T Cell Markers/CD8A",
          "Immune System/T Cell Markers/CD8B",
          "Cell Structure and Adhesion/Cell Adhesion/CDHR5",
          "Immune System/Immune Receptors and Signaling/CLEC9A",
          "Regulation of Gene Expression/CREB Family/CREB3L1",
          "Development and Differentiation/Development Regulators/CTLA4",
          "Regulation of Gene Expression/Transcriptional Regulators/CTNNB1",
          "Immune System/Cytokines and Chemokines/CXCR1",
          "Immune System/Cytokines and Chemokines/CXCR4",
          "Metabolism/Heat Shock Proteins/DNAJC12",
          "Signalling/Growth Factor Receptors/FFAR4",
          "Metabolism/Enzymes/FKBP11",
          "Immune System/Immune Receptors and Signaling/FOXP3",
          "Signalling/Cell Adhesion/GNA11",
          "Immune System/Other Immune Genes/GPR183",
          "Cell Structure and Adhesion/Structural Proteins/HEPACAM2",
          "Regulation of Gene Expression/Transcription Factors/HES6",
          "Metabolism/Enzymes/IL4I1",
          "Immune System/Regulatory Proteins/IRF8",
          "Regulation of Gene Expression/Homeobox Genes/ISL1",
          "Immune System/Regulatory Proteins/ITK",
          "Signalling/GPCRs/KIT",
          "Immune System/NK Cell Receptors/KLRB1",
          "Cell Structure and Adhesion/Structural Proteins/KRT8",
          "Regulation of Gene Expression/Transcriptional Regulators/LEF1",
          "Immune System/Immune Receptors and Signaling/LILRA4",
          "Cell Structure and Adhesion/Structural Proteins/MCEMP1",
          "Cell Structure and Adhesion/Structural Proteins/MLPH",
          "Cell Structure and Adhesion/Mesothelin Family/MSLN",
          "Metabolism/Glucose metabolism/MT1A",
          "Development and Differentiation/G-Protein Subunits/NET1",
          "Regulation of Gene Expression/Homeobox Genes/NKX2-2",
          "Metabolism/Nitric Oxide metabolism/NOSIP",
          "Regulation of Gene Expression/Homeobox Genes/PAX4",
          "Regulation of Gene Expression/Transcriptional Regulators/PDGFRB",
          "Immune System/Other Immune Genes/PDZK1IP1",
          "Metabolism/Metal Binding Proteins/PLCE1",
          "Signalling/Cell Signaling/REP15",
          "Immune System/Other Immune Genes/RETNLB",
          "Regulation of Gene Expression/Transcriptional Regulators/RFX6",
          "Signalling/GPCRs/ROBO2",
          "Regulation of Gene Expression/Nuclear Receptors/RORA",
          "Signalling/Cell Adhesion/RUNX1T1",
          "Metabolism/Metal Binding Proteins/SELENOM",
          "Development and Differentiation/Development Regulators/TBC1D4",
          "Cell Structure and Adhesion/Structural Proteins/TUBB",
          "Immune System/Other Immune Genes/VPREB3",
          "Regulation of Gene Expression/Transcriptional Regulators/ZEB2",
          "Regulation of Gene Expression/CREB Family",
          "Cell Structure and Adhesion/Cell Adhesion",
          "Signalling/Cell Adhesion",
          "Signalling/Cell Signaling",
          "Immune System/Cytokines and Chemokines",
          "Regulation of Gene Expression/DNA Repair",
          "Development and Differentiation/Development Regulators",
          "Metabolism/Enzymes",
          "Development and Differentiation/G-Protein Subunits",
          "Signalling/GPCRs",
          "Metabolism/Glucose metabolism",
          "Signalling/Growth Factor Receptors",
          "Metabolism/Heat Shock Proteins",
          "Regulation of Gene Expression/Homeobox Genes",
          "Immune System/Immune Receptors and Signaling",
          "Signalling/Ion Channel Regulators",
          "Cell Structure and Adhesion/Mesothelin Family",
          "Metabolism/Metal Binding Proteins",
          "Immune System/NK Cell Receptors",
          "Metabolism/Nitric Oxide metabolism",
          "Regulation of Gene Expression/Nuclear Receptors",
          "Immune System/Other Immune Genes",
          "Immune System/Regulatory Proteins",
          "Cell Structure and Adhesion/Structural Proteins",
          "Immune System/T Cell Markers",
          "Regulation of Gene Expression/Transcription Factors",
          "Regulation of Gene Expression/Transcriptional Regulators",
          "Cell Structure and Adhesion",
          "Development and Differentiation",
          "Immune System",
          "Metabolism",
          "Regulation of Gene Expression",
          "Signalling"
         ],
         "insidetextfont": {
          "size": 15
         },
         "labels": [
          "ANK2",
          "ARX",
          "ASCL2",
          "BEST2",
          "BRCA2",
          "CA2",
          "CD5",
          "CD8A",
          "CD8B",
          "CDHR5",
          "CLEC9A",
          "CREB3L1",
          "CTLA4",
          "CTNNB1",
          "CXCR1",
          "CXCR4",
          "DNAJC12",
          "FFAR4",
          "FKBP11",
          "FOXP3",
          "GNA11",
          "GPR183",
          "HEPACAM2",
          "HES6",
          "IL4I1",
          "IRF8",
          "ISL1",
          "ITK",
          "KIT",
          "KLRB1",
          "KRT8",
          "LEF1",
          "LILRA4",
          "MCEMP1",
          "MLPH",
          "MSLN",
          "MT1A",
          "NET1",
          "NKX2-2",
          "NOSIP",
          "PAX4",
          "PDGFRB",
          "PDZK1IP1",
          "PLCE1",
          "REP15",
          "RETNLB",
          "RFX6",
          "ROBO2",
          "RORA",
          "RUNX1T1",
          "SELENOM",
          "TBC1D4",
          "TUBB",
          "VPREB3",
          "ZEB2",
          "CREB Family",
          "Cell Adhesion",
          "Cell Adhesion",
          "Cell Signaling",
          "Cytokines and Chemokines",
          "DNA Repair",
          "Development Regulators",
          "Enzymes",
          "G-Protein Subunits",
          "GPCRs",
          "Glucose metabolism",
          "Growth Factor Receptors",
          "Heat Shock Proteins",
          "Homeobox Genes",
          "Immune Receptors and Signaling",
          "Ion Channel Regulators",
          "Mesothelin Family",
          "Metal Binding Proteins",
          "NK Cell Receptors",
          "Nitric Oxide metabolism",
          "Nuclear Receptors",
          "Other Immune Genes",
          "Regulatory Proteins",
          "Structural Proteins",
          "T Cell Markers",
          "Transcription Factors",
          "Transcriptional Regulators",
          "Cell Structure and Adhesion",
          "Development and Differentiation",
          "Immune System",
          "Metabolism",
          "Regulation of Gene Expression",
          "Signalling"
         ],
         "marker": {
          "coloraxis": "coloraxis",
          "colors": [
           0.0034,
           0.0046,
           0.0059,
           0.0037,
           0.0042,
           0.0033,
           0.007,
           0.0042,
           0.0037,
           0.0033,
           0.0052,
           0.0055,
           0.0037,
           0.0044,
           0.0034,
           0.0031,
           0.0041,
           0.006,
           0.0033,
           0.0042,
           0.0055,
           0.0035,
           0.0034,
           0.0067,
           0.0041,
           0.0042,
           0.0039,
           0.0042,
           0.0033,
           0.0033,
           0.0036,
           0.0033,
           0.012,
           0.0059,
           0.0039,
           0.0036,
           0.0051,
           0.0052,
           0.0046,
           0.0051,
           0.0036,
           0.0046,
           0.0039,
           0.0033,
           0.0037,
           0.0043,
           0.0042,
           0.0051,
           0.0039,
           0.0062,
           0.0048,
           0.0055,
           0.0037,
           0.0041,
           0.0032,
           0.0055,
           0.0033499999999999997,
           0.005849999999999999,
           0.0037,
           0.00325,
           0.0042,
           0.0046,
           0.003566666666666667,
           0.0052,
           0.004200000000000001,
           0.0051,
           0.006,
           0.0041,
           0.004033333333333333,
           0.0070999999999999995,
           0.0037,
           0.0036,
           0.00405,
           0.0033,
           0.0051,
           0.0039,
           0.00395,
           0.0042,
           0.0041,
           0.00395,
           0.0063,
           0.00394,
           0.00385,
           0.00475,
           0.004686666666666667,
           0.0041375000000000006,
           0.004461538461538462,
           0.004785714285714286
          ]
         },
         "name": "",
         "parents": [
          "Cell Structure and Adhesion/Cell Adhesion",
          "Development and Differentiation/Development Regulators",
          "Regulation of Gene Expression/Transcription Factors",
          "Signalling/Ion Channel Regulators",
          "Regulation of Gene Expression/DNA Repair",
          "Metabolism/Enzymes",
          "Immune System/Immune Receptors and Signaling",
          "Immune System/T Cell Markers",
          "Immune System/T Cell Markers",
          "Cell Structure and Adhesion/Cell Adhesion",
          "Immune System/Immune Receptors and Signaling",
          "Regulation of Gene Expression/CREB Family",
          "Development and Differentiation/Development Regulators",
          "Regulation of Gene Expression/Transcriptional Regulators",
          "Immune System/Cytokines and Chemokines",
          "Immune System/Cytokines and Chemokines",
          "Metabolism/Heat Shock Proteins",
          "Signalling/Growth Factor Receptors",
          "Metabolism/Enzymes",
          "Immune System/Immune Receptors and Signaling",
          "Signalling/Cell Adhesion",
          "Immune System/Other Immune Genes",
          "Cell Structure and Adhesion/Structural Proteins",
          "Regulation of Gene Expression/Transcription Factors",
          "Metabolism/Enzymes",
          "Immune System/Regulatory Proteins",
          "Regulation of Gene Expression/Homeobox Genes",
          "Immune System/Regulatory Proteins",
          "Signalling/GPCRs",
          "Immune System/NK Cell Receptors",
          "Cell Structure and Adhesion/Structural Proteins",
          "Regulation of Gene Expression/Transcriptional Regulators",
          "Immune System/Immune Receptors and Signaling",
          "Cell Structure and Adhesion/Structural Proteins",
          "Cell Structure and Adhesion/Structural Proteins",
          "Cell Structure and Adhesion/Mesothelin Family",
          "Metabolism/Glucose metabolism",
          "Development and Differentiation/G-Protein Subunits",
          "Regulation of Gene Expression/Homeobox Genes",
          "Metabolism/Nitric Oxide metabolism",
          "Regulation of Gene Expression/Homeobox Genes",
          "Regulation of Gene Expression/Transcriptional Regulators",
          "Immune System/Other Immune Genes",
          "Metabolism/Metal Binding Proteins",
          "Signalling/Cell Signaling",
          "Immune System/Other Immune Genes",
          "Regulation of Gene Expression/Transcriptional Regulators",
          "Signalling/GPCRs",
          "Regulation of Gene Expression/Nuclear Receptors",
          "Signalling/Cell Adhesion",
          "Metabolism/Metal Binding Proteins",
          "Development and Differentiation/Development Regulators",
          "Cell Structure and Adhesion/Structural Proteins",
          "Immune System/Other Immune Genes",
          "Regulation of Gene Expression/Transcriptional Regulators",
          "Regulation of Gene Expression",
          "Cell Structure and Adhesion",
          "Signalling",
          "Signalling",
          "Immune System",
          "Regulation of Gene Expression",
          "Development and Differentiation",
          "Metabolism",
          "Development and Differentiation",
          "Signalling",
          "Metabolism",
          "Signalling",
          "Metabolism",
          "Regulation of Gene Expression",
          "Immune System",
          "Signalling",
          "Cell Structure and Adhesion",
          "Metabolism",
          "Immune System",
          "Metabolism",
          "Regulation of Gene Expression",
          "Immune System",
          "Immune System",
          "Cell Structure and Adhesion",
          "Immune System",
          "Regulation of Gene Expression",
          "Regulation of Gene Expression",
          "",
          "",
          "",
          "",
          "",
          ""
         ],
         "textinfo": "label",
         "type": "sunburst",
         "values": [
          1,
          1,
          1,
          1,
          1,
          1,
          1,
          1,
          1,
          1,
          1,
          1,
          1,
          1,
          1,
          1,
          1,
          1,
          1,
          1,
          1,
          1,
          1,
          1,
          1,
          1,
          1,
          1,
          1,
          1,
          1,
          1,
          1,
          1,
          1,
          1,
          1,
          1,
          1,
          1,
          1,
          1,
          1,
          1,
          1,
          1,
          1,
          1,
          1,
          1,
          1,
          1,
          1,
          1,
          1,
          1,
          2,
          2,
          1,
          2,
          1,
          3,
          3,
          1,
          2,
          1,
          1,
          1,
          3,
          4,
          1,
          1,
          2,
          1,
          1,
          1,
          4,
          2,
          5,
          2,
          2,
          5,
          8,
          4,
          15,
          8,
          13,
          7
         ]
        }
       ],
       "layout": {
        "coloraxis": {
         "colorbar": {
          "tickvals": [
           0.0031,
           0.012
          ],
          "title": {
           "text": "Gene Importance Weight"
          }
         },
         "colorscale": [
          [
           0,
           "#fcfdbf"
          ],
          [
           0.1111111111111111,
           "#feca8d"
          ],
          [
           0.2222222222222222,
           "#fd9668"
          ],
          [
           0.3333333333333333,
           "#f1605d"
          ],
          [
           0.4444444444444444,
           "#cd4071"
          ],
          [
           0.5555555555555556,
           "#9e2f7f"
          ],
          [
           0.6666666666666666,
           "#721f81"
          ],
          [
           0.7777777777777778,
           "#440f76"
          ],
          [
           0.8888888888888888,
           "#180f3d"
          ],
          [
           1,
           "#000004"
          ]
         ]
        },
        "height": 1000,
        "legend": {
         "tracegroupgap": 0
        },
        "margin": {
         "t": 60
        },
        "template": {
         "data": {
          "bar": [
           {
            "error_x": {
             "color": "#2a3f5f"
            },
            "error_y": {
             "color": "#2a3f5f"
            },
            "marker": {
             "line": {
              "color": "#E5ECF6",
              "width": 0.5
             },
             "pattern": {
              "fillmode": "overlay",
              "size": 10,
              "solidity": 0.2
             }
            },
            "type": "bar"
           }
          ],
          "barpolar": [
           {
            "marker": {
             "line": {
              "color": "#E5ECF6",
              "width": 0.5
             },
             "pattern": {
              "fillmode": "overlay",
              "size": 10,
              "solidity": 0.2
             }
            },
            "type": "barpolar"
           }
          ],
          "carpet": [
           {
            "aaxis": {
             "endlinecolor": "#2a3f5f",
             "gridcolor": "white",
             "linecolor": "white",
             "minorgridcolor": "white",
             "startlinecolor": "#2a3f5f"
            },
            "baxis": {
             "endlinecolor": "#2a3f5f",
             "gridcolor": "white",
             "linecolor": "white",
             "minorgridcolor": "white",
             "startlinecolor": "#2a3f5f"
            },
            "type": "carpet"
           }
          ],
          "choropleth": [
           {
            "colorbar": {
             "outlinewidth": 0,
             "ticks": ""
            },
            "type": "choropleth"
           }
          ],
          "contour": [
           {
            "colorbar": {
             "outlinewidth": 0,
             "ticks": ""
            },
            "colorscale": [
             [
              0,
              "#0d0887"
             ],
             [
              0.1111111111111111,
              "#46039f"
             ],
             [
              0.2222222222222222,
              "#7201a8"
             ],
             [
              0.3333333333333333,
              "#9c179e"
             ],
             [
              0.4444444444444444,
              "#bd3786"
             ],
             [
              0.5555555555555556,
              "#d8576b"
             ],
             [
              0.6666666666666666,
              "#ed7953"
             ],
             [
              0.7777777777777778,
              "#fb9f3a"
             ],
             [
              0.8888888888888888,
              "#fdca26"
             ],
             [
              1,
              "#f0f921"
             ]
            ],
            "type": "contour"
           }
          ],
          "contourcarpet": [
           {
            "colorbar": {
             "outlinewidth": 0,
             "ticks": ""
            },
            "type": "contourcarpet"
           }
          ],
          "heatmap": [
           {
            "colorbar": {
             "outlinewidth": 0,
             "ticks": ""
            },
            "colorscale": [
             [
              0,
              "#0d0887"
             ],
             [
              0.1111111111111111,
              "#46039f"
             ],
             [
              0.2222222222222222,
              "#7201a8"
             ],
             [
              0.3333333333333333,
              "#9c179e"
             ],
             [
              0.4444444444444444,
              "#bd3786"
             ],
             [
              0.5555555555555556,
              "#d8576b"
             ],
             [
              0.6666666666666666,
              "#ed7953"
             ],
             [
              0.7777777777777778,
              "#fb9f3a"
             ],
             [
              0.8888888888888888,
              "#fdca26"
             ],
             [
              1,
              "#f0f921"
             ]
            ],
            "type": "heatmap"
           }
          ],
          "heatmapgl": [
           {
            "colorbar": {
             "outlinewidth": 0,
             "ticks": ""
            },
            "colorscale": [
             [
              0,
              "#0d0887"
             ],
             [
              0.1111111111111111,
              "#46039f"
             ],
             [
              0.2222222222222222,
              "#7201a8"
             ],
             [
              0.3333333333333333,
              "#9c179e"
             ],
             [
              0.4444444444444444,
              "#bd3786"
             ],
             [
              0.5555555555555556,
              "#d8576b"
             ],
             [
              0.6666666666666666,
              "#ed7953"
             ],
             [
              0.7777777777777778,
              "#fb9f3a"
             ],
             [
              0.8888888888888888,
              "#fdca26"
             ],
             [
              1,
              "#f0f921"
             ]
            ],
            "type": "heatmapgl"
           }
          ],
          "histogram": [
           {
            "marker": {
             "pattern": {
              "fillmode": "overlay",
              "size": 10,
              "solidity": 0.2
             }
            },
            "type": "histogram"
           }
          ],
          "histogram2d": [
           {
            "colorbar": {
             "outlinewidth": 0,
             "ticks": ""
            },
            "colorscale": [
             [
              0,
              "#0d0887"
             ],
             [
              0.1111111111111111,
              "#46039f"
             ],
             [
              0.2222222222222222,
              "#7201a8"
             ],
             [
              0.3333333333333333,
              "#9c179e"
             ],
             [
              0.4444444444444444,
              "#bd3786"
             ],
             [
              0.5555555555555556,
              "#d8576b"
             ],
             [
              0.6666666666666666,
              "#ed7953"
             ],
             [
              0.7777777777777778,
              "#fb9f3a"
             ],
             [
              0.8888888888888888,
              "#fdca26"
             ],
             [
              1,
              "#f0f921"
             ]
            ],
            "type": "histogram2d"
           }
          ],
          "histogram2dcontour": [
           {
            "colorbar": {
             "outlinewidth": 0,
             "ticks": ""
            },
            "colorscale": [
             [
              0,
              "#0d0887"
             ],
             [
              0.1111111111111111,
              "#46039f"
             ],
             [
              0.2222222222222222,
              "#7201a8"
             ],
             [
              0.3333333333333333,
              "#9c179e"
             ],
             [
              0.4444444444444444,
              "#bd3786"
             ],
             [
              0.5555555555555556,
              "#d8576b"
             ],
             [
              0.6666666666666666,
              "#ed7953"
             ],
             [
              0.7777777777777778,
              "#fb9f3a"
             ],
             [
              0.8888888888888888,
              "#fdca26"
             ],
             [
              1,
              "#f0f921"
             ]
            ],
            "type": "histogram2dcontour"
           }
          ],
          "mesh3d": [
           {
            "colorbar": {
             "outlinewidth": 0,
             "ticks": ""
            },
            "type": "mesh3d"
           }
          ],
          "parcoords": [
           {
            "line": {
             "colorbar": {
              "outlinewidth": 0,
              "ticks": ""
             }
            },
            "type": "parcoords"
           }
          ],
          "pie": [
           {
            "automargin": true,
            "type": "pie"
           }
          ],
          "scatter": [
           {
            "fillpattern": {
             "fillmode": "overlay",
             "size": 10,
             "solidity": 0.2
            },
            "type": "scatter"
           }
          ],
          "scatter3d": [
           {
            "line": {
             "colorbar": {
              "outlinewidth": 0,
              "ticks": ""
             }
            },
            "marker": {
             "colorbar": {
              "outlinewidth": 0,
              "ticks": ""
             }
            },
            "type": "scatter3d"
           }
          ],
          "scattercarpet": [
           {
            "marker": {
             "colorbar": {
              "outlinewidth": 0,
              "ticks": ""
             }
            },
            "type": "scattercarpet"
           }
          ],
          "scattergeo": [
           {
            "marker": {
             "colorbar": {
              "outlinewidth": 0,
              "ticks": ""
             }
            },
            "type": "scattergeo"
           }
          ],
          "scattergl": [
           {
            "marker": {
             "colorbar": {
              "outlinewidth": 0,
              "ticks": ""
             }
            },
            "type": "scattergl"
           }
          ],
          "scattermapbox": [
           {
            "marker": {
             "colorbar": {
              "outlinewidth": 0,
              "ticks": ""
             }
            },
            "type": "scattermapbox"
           }
          ],
          "scatterpolar": [
           {
            "marker": {
             "colorbar": {
              "outlinewidth": 0,
              "ticks": ""
             }
            },
            "type": "scatterpolar"
           }
          ],
          "scatterpolargl": [
           {
            "marker": {
             "colorbar": {
              "outlinewidth": 0,
              "ticks": ""
             }
            },
            "type": "scatterpolargl"
           }
          ],
          "scatterternary": [
           {
            "marker": {
             "colorbar": {
              "outlinewidth": 0,
              "ticks": ""
             }
            },
            "type": "scatterternary"
           }
          ],
          "surface": [
           {
            "colorbar": {
             "outlinewidth": 0,
             "ticks": ""
            },
            "colorscale": [
             [
              0,
              "#0d0887"
             ],
             [
              0.1111111111111111,
              "#46039f"
             ],
             [
              0.2222222222222222,
              "#7201a8"
             ],
             [
              0.3333333333333333,
              "#9c179e"
             ],
             [
              0.4444444444444444,
              "#bd3786"
             ],
             [
              0.5555555555555556,
              "#d8576b"
             ],
             [
              0.6666666666666666,
              "#ed7953"
             ],
             [
              0.7777777777777778,
              "#fb9f3a"
             ],
             [
              0.8888888888888888,
              "#fdca26"
             ],
             [
              1,
              "#f0f921"
             ]
            ],
            "type": "surface"
           }
          ],
          "table": [
           {
            "cells": {
             "fill": {
              "color": "#EBF0F8"
             },
             "line": {
              "color": "white"
             }
            },
            "header": {
             "fill": {
              "color": "#C8D4E3"
             },
             "line": {
              "color": "white"
             }
            },
            "type": "table"
           }
          ]
         },
         "layout": {
          "annotationdefaults": {
           "arrowcolor": "#2a3f5f",
           "arrowhead": 0,
           "arrowwidth": 1
          },
          "autotypenumbers": "strict",
          "coloraxis": {
           "colorbar": {
            "outlinewidth": 0,
            "ticks": ""
           }
          },
          "colorscale": {
           "diverging": [
            [
             0,
             "#8e0152"
            ],
            [
             0.1,
             "#c51b7d"
            ],
            [
             0.2,
             "#de77ae"
            ],
            [
             0.3,
             "#f1b6da"
            ],
            [
             0.4,
             "#fde0ef"
            ],
            [
             0.5,
             "#f7f7f7"
            ],
            [
             0.6,
             "#e6f5d0"
            ],
            [
             0.7,
             "#b8e186"
            ],
            [
             0.8,
             "#7fbc41"
            ],
            [
             0.9,
             "#4d9221"
            ],
            [
             1,
             "#276419"
            ]
           ],
           "sequential": [
            [
             0,
             "#0d0887"
            ],
            [
             0.1111111111111111,
             "#46039f"
            ],
            [
             0.2222222222222222,
             "#7201a8"
            ],
            [
             0.3333333333333333,
             "#9c179e"
            ],
            [
             0.4444444444444444,
             "#bd3786"
            ],
            [
             0.5555555555555556,
             "#d8576b"
            ],
            [
             0.6666666666666666,
             "#ed7953"
            ],
            [
             0.7777777777777778,
             "#fb9f3a"
            ],
            [
             0.8888888888888888,
             "#fdca26"
            ],
            [
             1,
             "#f0f921"
            ]
           ],
           "sequentialminus": [
            [
             0,
             "#0d0887"
            ],
            [
             0.1111111111111111,
             "#46039f"
            ],
            [
             0.2222222222222222,
             "#7201a8"
            ],
            [
             0.3333333333333333,
             "#9c179e"
            ],
            [
             0.4444444444444444,
             "#bd3786"
            ],
            [
             0.5555555555555556,
             "#d8576b"
            ],
            [
             0.6666666666666666,
             "#ed7953"
            ],
            [
             0.7777777777777778,
             "#fb9f3a"
            ],
            [
             0.8888888888888888,
             "#fdca26"
            ],
            [
             1,
             "#f0f921"
            ]
           ]
          },
          "colorway": [
           "#636efa",
           "#EF553B",
           "#00cc96",
           "#ab63fa",
           "#FFA15A",
           "#19d3f3",
           "#FF6692",
           "#B6E880",
           "#FF97FF",
           "#FECB52"
          ],
          "font": {
           "color": "#2a3f5f"
          },
          "geo": {
           "bgcolor": "white",
           "lakecolor": "white",
           "landcolor": "#E5ECF6",
           "showlakes": true,
           "showland": true,
           "subunitcolor": "white"
          },
          "hoverlabel": {
           "align": "left"
          },
          "hovermode": "closest",
          "mapbox": {
           "style": "light"
          },
          "paper_bgcolor": "white",
          "plot_bgcolor": "#E5ECF6",
          "polar": {
           "angularaxis": {
            "gridcolor": "white",
            "linecolor": "white",
            "ticks": ""
           },
           "bgcolor": "#E5ECF6",
           "radialaxis": {
            "gridcolor": "white",
            "linecolor": "white",
            "ticks": ""
           }
          },
          "scene": {
           "xaxis": {
            "backgroundcolor": "#E5ECF6",
            "gridcolor": "white",
            "gridwidth": 2,
            "linecolor": "white",
            "showbackground": true,
            "ticks": "",
            "zerolinecolor": "white"
           },
           "yaxis": {
            "backgroundcolor": "#E5ECF6",
            "gridcolor": "white",
            "gridwidth": 2,
            "linecolor": "white",
            "showbackground": true,
            "ticks": "",
            "zerolinecolor": "white"
           },
           "zaxis": {
            "backgroundcolor": "#E5ECF6",
            "gridcolor": "white",
            "gridwidth": 2,
            "linecolor": "white",
            "showbackground": true,
            "ticks": "",
            "zerolinecolor": "white"
           }
          },
          "shapedefaults": {
           "line": {
            "color": "#2a3f5f"
           }
          },
          "ternary": {
           "aaxis": {
            "gridcolor": "white",
            "linecolor": "white",
            "ticks": ""
           },
           "baxis": {
            "gridcolor": "white",
            "linecolor": "white",
            "ticks": ""
           },
           "bgcolor": "#E5ECF6",
           "caxis": {
            "gridcolor": "white",
            "linecolor": "white",
            "ticks": ""
           }
          },
          "title": {
           "x": 0.05
          },
          "xaxis": {
           "automargin": true,
           "gridcolor": "white",
           "linecolor": "white",
           "ticks": "",
           "title": {
            "standoff": 15
           },
           "zerolinecolor": "white",
           "zerolinewidth": 2
          },
          "yaxis": {
           "automargin": true,
           "gridcolor": "white",
           "linecolor": "white",
           "ticks": "",
           "title": {
            "standoff": 15
           },
           "zerolinecolor": "white",
           "zerolinewidth": 2
          }
         }
        },
        "width": 1000
       }
      },
      "text/html": [
       "<div>                            <div id=\"a04014ce-ca65-4f2c-8048-eaa9986d944e\" class=\"plotly-graph-div\" style=\"height:1000px; width:1000px;\"></div>            <script type=\"text/javascript\">                require([\"plotly\"], function(Plotly) {                    window.PLOTLYENV=window.PLOTLYENV || {};                                    if (document.getElementById(\"a04014ce-ca65-4f2c-8048-eaa9986d944e\")) {                    Plotly.newPlot(                        \"a04014ce-ca65-4f2c-8048-eaa9986d944e\",                        [{\"branchvalues\":\"total\",\"customdata\":[[0.0034],[0.0046],[0.0059],[0.0037],[0.0042],[0.0033],[0.007],[0.0042],[0.0037],[0.0033],[0.0052],[0.0055],[0.0037],[0.0044],[0.0034],[0.0031],[0.0041],[0.006],[0.0033],[0.0042],[0.0055],[0.0035],[0.0034],[0.0067],[0.0041],[0.0042],[0.0039],[0.0042],[0.0033],[0.0033],[0.0036],[0.0033],[0.012],[0.0059],[0.0039],[0.0036],[0.0051],[0.0052],[0.0046],[0.0051],[0.0036],[0.0046],[0.0039],[0.0033],[0.0037],[0.0043],[0.0042],[0.0051],[0.0039],[0.0062],[0.0048],[0.0055],[0.0037],[0.0041],[0.0032],[0.0055],[0.0033499999999999997],[0.005849999999999999],[0.0037],[0.00325],[0.0042],[0.0046],[0.003566666666666667],[0.0052],[0.004200000000000001],[0.0051],[0.006],[0.0041],[0.004033333333333333],[0.0070999999999999995],[0.0037],[0.0036],[0.00405],[0.0033],[0.0051],[0.0039],[0.00395],[0.0042],[0.0041],[0.00395],[0.0063],[0.00394],[0.00385],[0.00475],[0.004686666666666667],[0.0041375000000000006],[0.004461538461538462],[0.004785714285714286]],\"domain\":{\"x\":[0.0,1.0],\"y\":[0.0,1.0]},\"hovertemplate\":\"labels=%{label}\\u003cbr\\u003ecount=%{value}\\u003cbr\\u003eparent=%{parent}\\u003cbr\\u003eid=%{id}\\u003cbr\\u003eWeight=%{color}\\u003cextra\\u003e\\u003c\\u002fextra\\u003e\",\"ids\":[\"Cell Structure and Adhesion\\u002fCell Adhesion\\u002fANK2\",\"Development and Differentiation\\u002fDevelopment Regulators\\u002fARX\",\"Regulation of Gene Expression\\u002fTranscription Factors\\u002fASCL2\",\"Signalling\\u002fIon Channel Regulators\\u002fBEST2\",\"Regulation of Gene Expression\\u002fDNA Repair\\u002fBRCA2\",\"Metabolism\\u002fEnzymes\\u002fCA2\",\"Immune System\\u002fImmune Receptors and Signaling\\u002fCD5\",\"Immune System\\u002fT Cell Markers\\u002fCD8A\",\"Immune System\\u002fT Cell Markers\\u002fCD8B\",\"Cell Structure and Adhesion\\u002fCell Adhesion\\u002fCDHR5\",\"Immune System\\u002fImmune Receptors and Signaling\\u002fCLEC9A\",\"Regulation of Gene Expression\\u002fCREB Family\\u002fCREB3L1\",\"Development and Differentiation\\u002fDevelopment Regulators\\u002fCTLA4\",\"Regulation of Gene Expression\\u002fTranscriptional Regulators\\u002fCTNNB1\",\"Immune System\\u002fCytokines and Chemokines\\u002fCXCR1\",\"Immune System\\u002fCytokines and Chemokines\\u002fCXCR4\",\"Metabolism\\u002fHeat Shock Proteins\\u002fDNAJC12\",\"Signalling\\u002fGrowth Factor Receptors\\u002fFFAR4\",\"Metabolism\\u002fEnzymes\\u002fFKBP11\",\"Immune System\\u002fImmune Receptors and Signaling\\u002fFOXP3\",\"Signalling\\u002fCell Adhesion\\u002fGNA11\",\"Immune System\\u002fOther Immune Genes\\u002fGPR183\",\"Cell Structure and Adhesion\\u002fStructural Proteins\\u002fHEPACAM2\",\"Regulation of Gene Expression\\u002fTranscription Factors\\u002fHES6\",\"Metabolism\\u002fEnzymes\\u002fIL4I1\",\"Immune System\\u002fRegulatory Proteins\\u002fIRF8\",\"Regulation of Gene Expression\\u002fHomeobox Genes\\u002fISL1\",\"Immune System\\u002fRegulatory Proteins\\u002fITK\",\"Signalling\\u002fGPCRs\\u002fKIT\",\"Immune System\\u002fNK Cell Receptors\\u002fKLRB1\",\"Cell Structure and Adhesion\\u002fStructural Proteins\\u002fKRT8\",\"Regulation of Gene Expression\\u002fTranscriptional Regulators\\u002fLEF1\",\"Immune System\\u002fImmune Receptors and Signaling\\u002fLILRA4\",\"Cell Structure and Adhesion\\u002fStructural Proteins\\u002fMCEMP1\",\"Cell Structure and Adhesion\\u002fStructural Proteins\\u002fMLPH\",\"Cell Structure and Adhesion\\u002fMesothelin Family\\u002fMSLN\",\"Metabolism\\u002fGlucose metabolism\\u002fMT1A\",\"Development and Differentiation\\u002fG-Protein Subunits\\u002fNET1\",\"Regulation of Gene Expression\\u002fHomeobox Genes\\u002fNKX2-2\",\"Metabolism\\u002fNitric Oxide metabolism\\u002fNOSIP\",\"Regulation of Gene Expression\\u002fHomeobox Genes\\u002fPAX4\",\"Regulation of Gene Expression\\u002fTranscriptional Regulators\\u002fPDGFRB\",\"Immune System\\u002fOther Immune Genes\\u002fPDZK1IP1\",\"Metabolism\\u002fMetal Binding Proteins\\u002fPLCE1\",\"Signalling\\u002fCell Signaling\\u002fREP15\",\"Immune System\\u002fOther Immune Genes\\u002fRETNLB\",\"Regulation of Gene Expression\\u002fTranscriptional Regulators\\u002fRFX6\",\"Signalling\\u002fGPCRs\\u002fROBO2\",\"Regulation of Gene Expression\\u002fNuclear Receptors\\u002fRORA\",\"Signalling\\u002fCell Adhesion\\u002fRUNX1T1\",\"Metabolism\\u002fMetal Binding Proteins\\u002fSELENOM\",\"Development and Differentiation\\u002fDevelopment Regulators\\u002fTBC1D4\",\"Cell Structure and Adhesion\\u002fStructural Proteins\\u002fTUBB\",\"Immune System\\u002fOther Immune Genes\\u002fVPREB3\",\"Regulation of Gene Expression\\u002fTranscriptional Regulators\\u002fZEB2\",\"Regulation of Gene Expression\\u002fCREB Family\",\"Cell Structure and Adhesion\\u002fCell Adhesion\",\"Signalling\\u002fCell Adhesion\",\"Signalling\\u002fCell Signaling\",\"Immune System\\u002fCytokines and Chemokines\",\"Regulation of Gene Expression\\u002fDNA Repair\",\"Development and Differentiation\\u002fDevelopment Regulators\",\"Metabolism\\u002fEnzymes\",\"Development and Differentiation\\u002fG-Protein Subunits\",\"Signalling\\u002fGPCRs\",\"Metabolism\\u002fGlucose metabolism\",\"Signalling\\u002fGrowth Factor Receptors\",\"Metabolism\\u002fHeat Shock Proteins\",\"Regulation of Gene Expression\\u002fHomeobox Genes\",\"Immune System\\u002fImmune Receptors and Signaling\",\"Signalling\\u002fIon Channel Regulators\",\"Cell Structure and Adhesion\\u002fMesothelin Family\",\"Metabolism\\u002fMetal Binding Proteins\",\"Immune System\\u002fNK Cell Receptors\",\"Metabolism\\u002fNitric Oxide metabolism\",\"Regulation of Gene Expression\\u002fNuclear Receptors\",\"Immune System\\u002fOther Immune Genes\",\"Immune System\\u002fRegulatory Proteins\",\"Cell Structure and Adhesion\\u002fStructural Proteins\",\"Immune System\\u002fT Cell Markers\",\"Regulation of Gene Expression\\u002fTranscription Factors\",\"Regulation of Gene Expression\\u002fTranscriptional Regulators\",\"Cell Structure and Adhesion\",\"Development and Differentiation\",\"Immune System\",\"Metabolism\",\"Regulation of Gene Expression\",\"Signalling\"],\"labels\":[\"ANK2\",\"ARX\",\"ASCL2\",\"BEST2\",\"BRCA2\",\"CA2\",\"CD5\",\"CD8A\",\"CD8B\",\"CDHR5\",\"CLEC9A\",\"CREB3L1\",\"CTLA4\",\"CTNNB1\",\"CXCR1\",\"CXCR4\",\"DNAJC12\",\"FFAR4\",\"FKBP11\",\"FOXP3\",\"GNA11\",\"GPR183\",\"HEPACAM2\",\"HES6\",\"IL4I1\",\"IRF8\",\"ISL1\",\"ITK\",\"KIT\",\"KLRB1\",\"KRT8\",\"LEF1\",\"LILRA4\",\"MCEMP1\",\"MLPH\",\"MSLN\",\"MT1A\",\"NET1\",\"NKX2-2\",\"NOSIP\",\"PAX4\",\"PDGFRB\",\"PDZK1IP1\",\"PLCE1\",\"REP15\",\"RETNLB\",\"RFX6\",\"ROBO2\",\"RORA\",\"RUNX1T1\",\"SELENOM\",\"TBC1D4\",\"TUBB\",\"VPREB3\",\"ZEB2\",\"CREB Family\",\"Cell Adhesion\",\"Cell Adhesion\",\"Cell Signaling\",\"Cytokines and Chemokines\",\"DNA Repair\",\"Development Regulators\",\"Enzymes\",\"G-Protein Subunits\",\"GPCRs\",\"Glucose metabolism\",\"Growth Factor Receptors\",\"Heat Shock Proteins\",\"Homeobox Genes\",\"Immune Receptors and Signaling\",\"Ion Channel Regulators\",\"Mesothelin Family\",\"Metal Binding Proteins\",\"NK Cell Receptors\",\"Nitric Oxide metabolism\",\"Nuclear Receptors\",\"Other Immune Genes\",\"Regulatory Proteins\",\"Structural Proteins\",\"T Cell Markers\",\"Transcription Factors\",\"Transcriptional Regulators\",\"Cell Structure and Adhesion\",\"Development and Differentiation\",\"Immune System\",\"Metabolism\",\"Regulation of Gene Expression\",\"Signalling\"],\"marker\":{\"coloraxis\":\"coloraxis\",\"colors\":[0.0034,0.0046,0.0059,0.0037,0.0042,0.0033,0.007,0.0042,0.0037,0.0033,0.0052,0.0055,0.0037,0.0044,0.0034,0.0031,0.0041,0.006,0.0033,0.0042,0.0055,0.0035,0.0034,0.0067,0.0041,0.0042,0.0039,0.0042,0.0033,0.0033,0.0036,0.0033,0.012,0.0059,0.0039,0.0036,0.0051,0.0052,0.0046,0.0051,0.0036,0.0046,0.0039,0.0033,0.0037,0.0043,0.0042,0.0051,0.0039,0.0062,0.0048,0.0055,0.0037,0.0041,0.0032,0.0055,0.0033499999999999997,0.005849999999999999,0.0037,0.00325,0.0042,0.0046,0.003566666666666667,0.0052,0.004200000000000001,0.0051,0.006,0.0041,0.004033333333333333,0.0070999999999999995,0.0037,0.0036,0.00405,0.0033,0.0051,0.0039,0.00395,0.0042,0.0041,0.00395,0.0063,0.00394,0.00385,0.00475,0.004686666666666667,0.0041375000000000006,0.004461538461538462,0.004785714285714286]},\"name\":\"\",\"parents\":[\"Cell Structure and Adhesion\\u002fCell Adhesion\",\"Development and Differentiation\\u002fDevelopment Regulators\",\"Regulation of Gene Expression\\u002fTranscription Factors\",\"Signalling\\u002fIon Channel Regulators\",\"Regulation of Gene Expression\\u002fDNA Repair\",\"Metabolism\\u002fEnzymes\",\"Immune System\\u002fImmune Receptors and Signaling\",\"Immune System\\u002fT Cell Markers\",\"Immune System\\u002fT Cell Markers\",\"Cell Structure and Adhesion\\u002fCell Adhesion\",\"Immune System\\u002fImmune Receptors and Signaling\",\"Regulation of Gene Expression\\u002fCREB Family\",\"Development and Differentiation\\u002fDevelopment Regulators\",\"Regulation of Gene Expression\\u002fTranscriptional Regulators\",\"Immune System\\u002fCytokines and Chemokines\",\"Immune System\\u002fCytokines and Chemokines\",\"Metabolism\\u002fHeat Shock Proteins\",\"Signalling\\u002fGrowth Factor Receptors\",\"Metabolism\\u002fEnzymes\",\"Immune System\\u002fImmune Receptors and Signaling\",\"Signalling\\u002fCell Adhesion\",\"Immune System\\u002fOther Immune Genes\",\"Cell Structure and Adhesion\\u002fStructural Proteins\",\"Regulation of Gene Expression\\u002fTranscription Factors\",\"Metabolism\\u002fEnzymes\",\"Immune System\\u002fRegulatory Proteins\",\"Regulation of Gene Expression\\u002fHomeobox Genes\",\"Immune System\\u002fRegulatory Proteins\",\"Signalling\\u002fGPCRs\",\"Immune System\\u002fNK Cell Receptors\",\"Cell Structure and Adhesion\\u002fStructural Proteins\",\"Regulation of Gene Expression\\u002fTranscriptional Regulators\",\"Immune System\\u002fImmune Receptors and Signaling\",\"Cell Structure and Adhesion\\u002fStructural Proteins\",\"Cell Structure and Adhesion\\u002fStructural Proteins\",\"Cell Structure and Adhesion\\u002fMesothelin Family\",\"Metabolism\\u002fGlucose metabolism\",\"Development and Differentiation\\u002fG-Protein Subunits\",\"Regulation of Gene Expression\\u002fHomeobox Genes\",\"Metabolism\\u002fNitric Oxide metabolism\",\"Regulation of Gene Expression\\u002fHomeobox Genes\",\"Regulation of Gene Expression\\u002fTranscriptional Regulators\",\"Immune System\\u002fOther Immune Genes\",\"Metabolism\\u002fMetal Binding Proteins\",\"Signalling\\u002fCell Signaling\",\"Immune System\\u002fOther Immune Genes\",\"Regulation of Gene Expression\\u002fTranscriptional Regulators\",\"Signalling\\u002fGPCRs\",\"Regulation of Gene Expression\\u002fNuclear Receptors\",\"Signalling\\u002fCell Adhesion\",\"Metabolism\\u002fMetal Binding Proteins\",\"Development and Differentiation\\u002fDevelopment Regulators\",\"Cell Structure and Adhesion\\u002fStructural Proteins\",\"Immune System\\u002fOther Immune Genes\",\"Regulation of Gene Expression\\u002fTranscriptional Regulators\",\"Regulation of Gene Expression\",\"Cell Structure and Adhesion\",\"Signalling\",\"Signalling\",\"Immune System\",\"Regulation of Gene Expression\",\"Development and Differentiation\",\"Metabolism\",\"Development and Differentiation\",\"Signalling\",\"Metabolism\",\"Signalling\",\"Metabolism\",\"Regulation of Gene Expression\",\"Immune System\",\"Signalling\",\"Cell Structure and Adhesion\",\"Metabolism\",\"Immune System\",\"Metabolism\",\"Regulation of Gene Expression\",\"Immune System\",\"Immune System\",\"Cell Structure and Adhesion\",\"Immune System\",\"Regulation of Gene Expression\",\"Regulation of Gene Expression\",\"\",\"\",\"\",\"\",\"\",\"\"],\"values\":[1,1,1,1,1,1,1,1,1,1,1,1,1,1,1,1,1,1,1,1,1,1,1,1,1,1,1,1,1,1,1,1,1,1,1,1,1,1,1,1,1,1,1,1,1,1,1,1,1,1,1,1,1,1,1,1,2,2,1,2,1,3,3,1,2,1,1,1,3,4,1,1,2,1,1,1,4,2,5,2,2,5,8,4,15,8,13,7],\"type\":\"sunburst\",\"insidetextfont\":{\"size\":15},\"textinfo\":\"label\"}],                        {\"template\":{\"data\":{\"histogram2dcontour\":[{\"type\":\"histogram2dcontour\",\"colorbar\":{\"outlinewidth\":0,\"ticks\":\"\"},\"colorscale\":[[0.0,\"#0d0887\"],[0.1111111111111111,\"#46039f\"],[0.2222222222222222,\"#7201a8\"],[0.3333333333333333,\"#9c179e\"],[0.4444444444444444,\"#bd3786\"],[0.5555555555555556,\"#d8576b\"],[0.6666666666666666,\"#ed7953\"],[0.7777777777777778,\"#fb9f3a\"],[0.8888888888888888,\"#fdca26\"],[1.0,\"#f0f921\"]]}],\"choropleth\":[{\"type\":\"choropleth\",\"colorbar\":{\"outlinewidth\":0,\"ticks\":\"\"}}],\"histogram2d\":[{\"type\":\"histogram2d\",\"colorbar\":{\"outlinewidth\":0,\"ticks\":\"\"},\"colorscale\":[[0.0,\"#0d0887\"],[0.1111111111111111,\"#46039f\"],[0.2222222222222222,\"#7201a8\"],[0.3333333333333333,\"#9c179e\"],[0.4444444444444444,\"#bd3786\"],[0.5555555555555556,\"#d8576b\"],[0.6666666666666666,\"#ed7953\"],[0.7777777777777778,\"#fb9f3a\"],[0.8888888888888888,\"#fdca26\"],[1.0,\"#f0f921\"]]}],\"heatmap\":[{\"type\":\"heatmap\",\"colorbar\":{\"outlinewidth\":0,\"ticks\":\"\"},\"colorscale\":[[0.0,\"#0d0887\"],[0.1111111111111111,\"#46039f\"],[0.2222222222222222,\"#7201a8\"],[0.3333333333333333,\"#9c179e\"],[0.4444444444444444,\"#bd3786\"],[0.5555555555555556,\"#d8576b\"],[0.6666666666666666,\"#ed7953\"],[0.7777777777777778,\"#fb9f3a\"],[0.8888888888888888,\"#fdca26\"],[1.0,\"#f0f921\"]]}],\"heatmapgl\":[{\"type\":\"heatmapgl\",\"colorbar\":{\"outlinewidth\":0,\"ticks\":\"\"},\"colorscale\":[[0.0,\"#0d0887\"],[0.1111111111111111,\"#46039f\"],[0.2222222222222222,\"#7201a8\"],[0.3333333333333333,\"#9c179e\"],[0.4444444444444444,\"#bd3786\"],[0.5555555555555556,\"#d8576b\"],[0.6666666666666666,\"#ed7953\"],[0.7777777777777778,\"#fb9f3a\"],[0.8888888888888888,\"#fdca26\"],[1.0,\"#f0f921\"]]}],\"contourcarpet\":[{\"type\":\"contourcarpet\",\"colorbar\":{\"outlinewidth\":0,\"ticks\":\"\"}}],\"contour\":[{\"type\":\"contour\",\"colorbar\":{\"outlinewidth\":0,\"ticks\":\"\"},\"colorscale\":[[0.0,\"#0d0887\"],[0.1111111111111111,\"#46039f\"],[0.2222222222222222,\"#7201a8\"],[0.3333333333333333,\"#9c179e\"],[0.4444444444444444,\"#bd3786\"],[0.5555555555555556,\"#d8576b\"],[0.6666666666666666,\"#ed7953\"],[0.7777777777777778,\"#fb9f3a\"],[0.8888888888888888,\"#fdca26\"],[1.0,\"#f0f921\"]]}],\"surface\":[{\"type\":\"surface\",\"colorbar\":{\"outlinewidth\":0,\"ticks\":\"\"},\"colorscale\":[[0.0,\"#0d0887\"],[0.1111111111111111,\"#46039f\"],[0.2222222222222222,\"#7201a8\"],[0.3333333333333333,\"#9c179e\"],[0.4444444444444444,\"#bd3786\"],[0.5555555555555556,\"#d8576b\"],[0.6666666666666666,\"#ed7953\"],[0.7777777777777778,\"#fb9f3a\"],[0.8888888888888888,\"#fdca26\"],[1.0,\"#f0f921\"]]}],\"mesh3d\":[{\"type\":\"mesh3d\",\"colorbar\":{\"outlinewidth\":0,\"ticks\":\"\"}}],\"scatter\":[{\"fillpattern\":{\"fillmode\":\"overlay\",\"size\":10,\"solidity\":0.2},\"type\":\"scatter\"}],\"parcoords\":[{\"type\":\"parcoords\",\"line\":{\"colorbar\":{\"outlinewidth\":0,\"ticks\":\"\"}}}],\"scatterpolargl\":[{\"type\":\"scatterpolargl\",\"marker\":{\"colorbar\":{\"outlinewidth\":0,\"ticks\":\"\"}}}],\"bar\":[{\"error_x\":{\"color\":\"#2a3f5f\"},\"error_y\":{\"color\":\"#2a3f5f\"},\"marker\":{\"line\":{\"color\":\"#E5ECF6\",\"width\":0.5},\"pattern\":{\"fillmode\":\"overlay\",\"size\":10,\"solidity\":0.2}},\"type\":\"bar\"}],\"scattergeo\":[{\"type\":\"scattergeo\",\"marker\":{\"colorbar\":{\"outlinewidth\":0,\"ticks\":\"\"}}}],\"scatterpolar\":[{\"type\":\"scatterpolar\",\"marker\":{\"colorbar\":{\"outlinewidth\":0,\"ticks\":\"\"}}}],\"histogram\":[{\"marker\":{\"pattern\":{\"fillmode\":\"overlay\",\"size\":10,\"solidity\":0.2}},\"type\":\"histogram\"}],\"scattergl\":[{\"type\":\"scattergl\",\"marker\":{\"colorbar\":{\"outlinewidth\":0,\"ticks\":\"\"}}}],\"scatter3d\":[{\"type\":\"scatter3d\",\"line\":{\"colorbar\":{\"outlinewidth\":0,\"ticks\":\"\"}},\"marker\":{\"colorbar\":{\"outlinewidth\":0,\"ticks\":\"\"}}}],\"scattermapbox\":[{\"type\":\"scattermapbox\",\"marker\":{\"colorbar\":{\"outlinewidth\":0,\"ticks\":\"\"}}}],\"scatterternary\":[{\"type\":\"scatterternary\",\"marker\":{\"colorbar\":{\"outlinewidth\":0,\"ticks\":\"\"}}}],\"scattercarpet\":[{\"type\":\"scattercarpet\",\"marker\":{\"colorbar\":{\"outlinewidth\":0,\"ticks\":\"\"}}}],\"carpet\":[{\"aaxis\":{\"endlinecolor\":\"#2a3f5f\",\"gridcolor\":\"white\",\"linecolor\":\"white\",\"minorgridcolor\":\"white\",\"startlinecolor\":\"#2a3f5f\"},\"baxis\":{\"endlinecolor\":\"#2a3f5f\",\"gridcolor\":\"white\",\"linecolor\":\"white\",\"minorgridcolor\":\"white\",\"startlinecolor\":\"#2a3f5f\"},\"type\":\"carpet\"}],\"table\":[{\"cells\":{\"fill\":{\"color\":\"#EBF0F8\"},\"line\":{\"color\":\"white\"}},\"header\":{\"fill\":{\"color\":\"#C8D4E3\"},\"line\":{\"color\":\"white\"}},\"type\":\"table\"}],\"barpolar\":[{\"marker\":{\"line\":{\"color\":\"#E5ECF6\",\"width\":0.5},\"pattern\":{\"fillmode\":\"overlay\",\"size\":10,\"solidity\":0.2}},\"type\":\"barpolar\"}],\"pie\":[{\"automargin\":true,\"type\":\"pie\"}]},\"layout\":{\"autotypenumbers\":\"strict\",\"colorway\":[\"#636efa\",\"#EF553B\",\"#00cc96\",\"#ab63fa\",\"#FFA15A\",\"#19d3f3\",\"#FF6692\",\"#B6E880\",\"#FF97FF\",\"#FECB52\"],\"font\":{\"color\":\"#2a3f5f\"},\"hovermode\":\"closest\",\"hoverlabel\":{\"align\":\"left\"},\"paper_bgcolor\":\"white\",\"plot_bgcolor\":\"#E5ECF6\",\"polar\":{\"bgcolor\":\"#E5ECF6\",\"angularaxis\":{\"gridcolor\":\"white\",\"linecolor\":\"white\",\"ticks\":\"\"},\"radialaxis\":{\"gridcolor\":\"white\",\"linecolor\":\"white\",\"ticks\":\"\"}},\"ternary\":{\"bgcolor\":\"#E5ECF6\",\"aaxis\":{\"gridcolor\":\"white\",\"linecolor\":\"white\",\"ticks\":\"\"},\"baxis\":{\"gridcolor\":\"white\",\"linecolor\":\"white\",\"ticks\":\"\"},\"caxis\":{\"gridcolor\":\"white\",\"linecolor\":\"white\",\"ticks\":\"\"}},\"coloraxis\":{\"colorbar\":{\"outlinewidth\":0,\"ticks\":\"\"}},\"colorscale\":{\"sequential\":[[0.0,\"#0d0887\"],[0.1111111111111111,\"#46039f\"],[0.2222222222222222,\"#7201a8\"],[0.3333333333333333,\"#9c179e\"],[0.4444444444444444,\"#bd3786\"],[0.5555555555555556,\"#d8576b\"],[0.6666666666666666,\"#ed7953\"],[0.7777777777777778,\"#fb9f3a\"],[0.8888888888888888,\"#fdca26\"],[1.0,\"#f0f921\"]],\"sequentialminus\":[[0.0,\"#0d0887\"],[0.1111111111111111,\"#46039f\"],[0.2222222222222222,\"#7201a8\"],[0.3333333333333333,\"#9c179e\"],[0.4444444444444444,\"#bd3786\"],[0.5555555555555556,\"#d8576b\"],[0.6666666666666666,\"#ed7953\"],[0.7777777777777778,\"#fb9f3a\"],[0.8888888888888888,\"#fdca26\"],[1.0,\"#f0f921\"]],\"diverging\":[[0,\"#8e0152\"],[0.1,\"#c51b7d\"],[0.2,\"#de77ae\"],[0.3,\"#f1b6da\"],[0.4,\"#fde0ef\"],[0.5,\"#f7f7f7\"],[0.6,\"#e6f5d0\"],[0.7,\"#b8e186\"],[0.8,\"#7fbc41\"],[0.9,\"#4d9221\"],[1,\"#276419\"]]},\"xaxis\":{\"gridcolor\":\"white\",\"linecolor\":\"white\",\"ticks\":\"\",\"title\":{\"standoff\":15},\"zerolinecolor\":\"white\",\"automargin\":true,\"zerolinewidth\":2},\"yaxis\":{\"gridcolor\":\"white\",\"linecolor\":\"white\",\"ticks\":\"\",\"title\":{\"standoff\":15},\"zerolinecolor\":\"white\",\"automargin\":true,\"zerolinewidth\":2},\"scene\":{\"xaxis\":{\"backgroundcolor\":\"#E5ECF6\",\"gridcolor\":\"white\",\"linecolor\":\"white\",\"showbackground\":true,\"ticks\":\"\",\"zerolinecolor\":\"white\",\"gridwidth\":2},\"yaxis\":{\"backgroundcolor\":\"#E5ECF6\",\"gridcolor\":\"white\",\"linecolor\":\"white\",\"showbackground\":true,\"ticks\":\"\",\"zerolinecolor\":\"white\",\"gridwidth\":2},\"zaxis\":{\"backgroundcolor\":\"#E5ECF6\",\"gridcolor\":\"white\",\"linecolor\":\"white\",\"showbackground\":true,\"ticks\":\"\",\"zerolinecolor\":\"white\",\"gridwidth\":2}},\"shapedefaults\":{\"line\":{\"color\":\"#2a3f5f\"}},\"annotationdefaults\":{\"arrowcolor\":\"#2a3f5f\",\"arrowhead\":0,\"arrowwidth\":1},\"geo\":{\"bgcolor\":\"white\",\"landcolor\":\"#E5ECF6\",\"subunitcolor\":\"white\",\"showland\":true,\"showlakes\":true,\"lakecolor\":\"white\"},\"title\":{\"x\":0.05},\"mapbox\":{\"style\":\"light\"}}},\"coloraxis\":{\"colorbar\":{\"title\":{\"text\":\"Gene Importance Weight\"},\"tickvals\":[0.0031,0.012]},\"colorscale\":[[0.0,\"#fcfdbf\"],[0.1111111111111111,\"#feca8d\"],[0.2222222222222222,\"#fd9668\"],[0.3333333333333333,\"#f1605d\"],[0.4444444444444444,\"#cd4071\"],[0.5555555555555556,\"#9e2f7f\"],[0.6666666666666666,\"#721f81\"],[0.7777777777777778,\"#440f76\"],[0.8888888888888888,\"#180f3d\"],[1.0,\"#000004\"]]},\"legend\":{\"tracegroupgap\":0},\"margin\":{\"t\":60},\"width\":1000,\"height\":1000},                        {\"responsive\": true}                    ).then(function(){\n",
       "                            \n",
       "var gd = document.getElementById('a04014ce-ca65-4f2c-8048-eaa9986d944e');\n",
       "var x = new MutationObserver(function (mutations, observer) {{\n",
       "        var display = window.getComputedStyle(gd).display;\n",
       "        if (!display || display === 'none') {{\n",
       "            console.log([gd, 'removed!']);\n",
       "            Plotly.purge(gd);\n",
       "            observer.disconnect();\n",
       "        }}\n",
       "}});\n",
       "\n",
       "// Listen for the removal of the full notebook cells\n",
       "var notebookContainer = gd.closest('#notebook-container');\n",
       "if (notebookContainer) {{\n",
       "    x.observe(notebookContainer, {childList: true});\n",
       "}}\n",
       "\n",
       "// Listen for the clearing of the current output cell\n",
       "var outputEl = gd.closest('.output');\n",
       "if (outputEl) {{\n",
       "    x.observe(outputEl, {childList: true});\n",
       "}}\n",
       "\n",
       "                        })                };                });            </script>        </div>"
      ]
     },
     "metadata": {},
     "output_type": "display_data"
    }
   ],
   "source": [
    "fig = px.sunburst(df, \n",
    "                  path=['Category', 'Subcategory', 'Gene'], \n",
    "                  color='Weight',\n",
    "                  color_continuous_scale='magma_r')\n",
    "\n",
    "fig.update_layout(coloraxis_colorbar=dict(\n",
    "    title=\"Gene Importance Weight\",\n",
    "    tickvals=[min(df['Weight']), max(df['Weight'])],\n",
    "))\n",
    "\n",
    "fig.update_layout(\n",
    "    width=1000,\n",
    "    height=1000\n",
    ")\n",
    "\n",
    "# Set the same label size for all labels\n",
    "fig.update_traces(\n",
    "    textinfo=\"label\",\n",
    "    insidetextfont=dict(size=15)\n",
    ")\n",
    "\n",
    "fig.show()\n",
    "\n",
    "# Save the figure as a high-quality image\n",
    "fig.write_image(f'{fig_dir}/sunburst_plot.png', scale=3)\n"
   ]
  },
  {
   "cell_type": "code",
   "execution_count": 62,
   "metadata": {},
   "outputs": [
    {
     "data": {
      "application/vnd.plotly.v1+json": {
       "config": {
        "plotlyServerURL": "https://plot.ly"
       },
       "data": [
        {
         "branchvalues": "total",
         "customdata": [
          [
           "Regulation of Gene Expression"
          ],
          [
           "Regulation of Gene Expression"
          ],
          [
           "Miscellaneous"
          ],
          [
           "Metabolism"
          ],
          [
           "Tumor Suppressors"
          ],
          [
           "Immune System"
          ],
          [
           "Cell Structure and Adhesion"
          ],
          [
           "Cell Structure and Adhesion"
          ],
          [
           "Regulation of Gene Expression"
          ],
          [
           "Immune System"
          ],
          [
           "Immune System"
          ],
          [
           "Development and Differentiation"
          ],
          [
           "Regulation of Gene Expression"
          ],
          [
           "Cell Structure and Adhesion"
          ],
          [
           "Tumor Suppressors"
          ],
          [
           "Metabolism"
          ],
          [
           "Immune System"
          ],
          [
           "Tumor Suppressors"
          ],
          [
           "Immune System"
          ],
          [
           "Development and Differentiation"
          ],
          [
           "Regulation of Gene Expression"
          ],
          [
           "Immune System"
          ],
          [
           "Cell Structure and Adhesion"
          ],
          [
           "Regulation of Gene Expression"
          ],
          [
           "Metabolism"
          ],
          [
           "Regulation of Gene Expression"
          ],
          [
           "Development and Differentiation"
          ],
          [
           "Metabolism"
          ],
          [
           "Cell Structure and Adhesion"
          ],
          [
           "Miscellaneous"
          ],
          [
           "Metabolism"
          ],
          [
           "Development and Differentiation"
          ],
          [
           "Miscellaneous"
          ],
          [
           "Regulation of Gene Expression"
          ],
          [
           "Miscellaneous"
          ],
          [
           "Metabolism"
          ],
          [
           "Regulation of Gene Expression"
          ],
          [
           "Immune System"
          ],
          [
           "Metabolism"
          ],
          [
           "Regulation of Gene Expression"
          ],
          [
           "Cell Structure and Adhesion"
          ],
          [
           "Immune System"
          ],
          [
           "Signalling"
          ],
          [
           "Immune System"
          ],
          [
           "Immune System"
          ],
          [
           "Signalling"
          ],
          [
           "Miscellaneous"
          ],
          [
           "Signalling"
          ],
          [
           "Immune System"
          ],
          [
           "Immune System"
          ],
          [
           "Regulation of Gene Expression"
          ],
          [
           "Immune System"
          ],
          [
           "Regulation of Gene Expression"
          ],
          [
           "Signalling"
          ],
          [
           "Signalling"
          ],
          [
           "Regulation of Gene Expression"
          ],
          [
           "Cell Structure and Adhesion"
          ],
          [
           "Tumor Suppressors"
          ],
          [
           "Immune System"
          ],
          [
           "Miscellaneous"
          ],
          [
           "Tumor Suppressors"
          ],
          [
           "Metabolism"
          ],
          [
           "Development and Differentiation"
          ],
          [
           "Signalling"
          ],
          [
           "Signalling"
          ],
          [
           "Signalling"
          ],
          [
           "Miscellaneous"
          ],
          [
           "Regulation of Gene Expression"
          ],
          [
           "Immune System"
          ],
          [
           "Tumor Suppressors"
          ],
          [
           "Miscellaneous"
          ],
          [
           "Cell Structure and Adhesion"
          ],
          [
           "Cell Structure and Adhesion"
          ],
          [
           "Metabolism"
          ],
          [
           "Immune System"
          ],
          [
           "Regulation of Gene Expression"
          ],
          [
           "Immune System"
          ],
          [
           "Cell Structure and Adhesion"
          ],
          [
           "Miscellaneous"
          ],
          [
           "Miscellaneous"
          ],
          [
           "Metabolism"
          ],
          [
           "Immune System"
          ],
          [
           "Immune System"
          ],
          [
           "Regulation of Gene Expression"
          ],
          [
           "Regulation of Gene Expression"
          ],
          [
           "Development and Differentiation"
          ],
          [
           "Cell Structure and Adhesion"
          ],
          [
           "Development and Differentiation"
          ],
          [
           "Immune System"
          ],
          [
           "Metabolism"
          ],
          [
           "Miscellaneous"
          ],
          [
           "Regulation of Gene Expression"
          ],
          [
           "Signalling"
          ],
          [
           "Tumor Suppressors"
          ]
         ],
         "domain": {
          "x": [
           0,
           1
          ],
          "y": [
           0,
           1
          ]
         },
         "hovertemplate": "labels=%{label}<br>count=%{value}<br>parent=%{parent}<br>id=%{id}<br>Category=%{customdata[0]}<extra></extra>",
         "ids": [
          "Regulation of Gene Expression/Transcriptional Regulators/RFX6",
          "Regulation of Gene Expression/Transcriptional Regulators/PDGFRB",
          "Miscellaneous/PDZ Domain Interacting Proteins/PDZK1IP1",
          "Metabolism/Metal and Selenium Binding Proteins/PLCE1",
          "Tumor Suppressors/Cell Signaling/REP15",
          "Immune System/Other Immune-related Genes/RETNLB",
          "Cell Structure and Adhesion/Membrane and Structural Proteins/KRT8",
          "Cell Structure and Adhesion/Membrane and Structural Proteins/MCEMP1",
          "Regulation of Gene Expression/Transcriptional Regulators/LEF1",
          "Immune System/Immune Receptors and Signaling/LILRA4",
          "Immune System/Immune Receptors and Signaling/CLEC9A",
          "Development and Differentiation/Transcriptional Regulators in Development/ARX",
          "Regulation of Gene Expression/Transcription Factors/ASCL2",
          "Cell Structure and Adhesion/Cell Adhesion Molecules/CDHR5",
          "Tumor Suppressors/DNA Repair/BRCA2",
          "Metabolism/Enzymes/CA2",
          "Immune System/Immune Receptors and Signaling/CD5",
          "Tumor Suppressors/Ion Channel Regulators/BEST2",
          "Immune System/T Cell Markers/CD8B",
          "Development and Differentiation/Transcriptional Regulators in Development/CTLA4",
          "Regulation of Gene Expression/CREB Family/CREB3L1",
          "Immune System/T Cell Markers/CD8A",
          "Cell Structure and Adhesion/Cell Adhesion Molecules/ANK2",
          "Regulation of Gene Expression/Homeobox Genes/PAX4",
          "Metabolism/Regulation of Metabolic Processes/NOSIP",
          "Regulation of Gene Expression/Homeobox Genes/NKX2-2",
          "Development and Differentiation/G-Protein Subunits/NET1",
          "Metabolism/Regulation of Metabolic Processes/MT1A",
          "Cell Structure and Adhesion/Mesothelin Family/MSLN",
          "Miscellaneous/Melanosome-Related Proteins/MLPH",
          "Metabolism/Metal and Selenium Binding Proteins/SELENOM",
          "Development and Differentiation/Transcriptional Regulators in Development/TBC1D4",
          "Miscellaneous/Cytoskeletal Proteins/TUBB",
          "Regulation of Gene Expression/Transcriptional Regulators/ZEB2",
          "Miscellaneous/Pre-B Cell Markers/VPREB3",
          "Metabolism/Enzymes/FKBP11",
          "Regulation of Gene Expression/Transcriptional Regulators/CTNNB1",
          "Immune System/Cytokine and Chemokine Receptors/CXCR1",
          "Metabolism/Enzymes/IL4I1",
          "Regulation of Gene Expression/Transcription Factors/HES6",
          "Cell Structure and Adhesion/Other Structural Proteins/HEPACAM2",
          "Immune System/Other Immune-related Genes/GPR183",
          "Signalling/Guidance and Cell Adhesion Receptors/GNA11",
          "Immune System/Immune Receptors and Signaling/FOXP3",
          "Immune System/Cytokine and Chemokine Receptors/CXCR4",
          "Signalling/Growth Factor Receptors/FFAR4",
          "Miscellaneous/Heat Shock Proteins/DNAJC12",
          "Signalling/GPCRs/KIT",
          "Immune System/Natural Killer Cell Receptors/KLRB1",
          "Immune System/Regulatory Proteins/IRF8",
          "Regulation of Gene Expression/Homeobox Genes/ISL1",
          "Immune System/Regulatory Proteins/ITK",
          "Regulation of Gene Expression/Nuclear Receptors/RORA",
          "Signalling/Guidance and Cell Adhesion Receptors/RUNX1T1",
          "Signalling/GPCRs/ROBO2",
          "Regulation of Gene Expression/CREB Family",
          "Cell Structure and Adhesion/Cell Adhesion Molecules",
          "Tumor Suppressors/Cell Signaling",
          "Immune System/Cytokine and Chemokine Receptors",
          "Miscellaneous/Cytoskeletal Proteins",
          "Tumor Suppressors/DNA Repair",
          "Metabolism/Enzymes",
          "Development and Differentiation/G-Protein Subunits",
          "Signalling/GPCRs",
          "Signalling/Growth Factor Receptors",
          "Signalling/Guidance and Cell Adhesion Receptors",
          "Miscellaneous/Heat Shock Proteins",
          "Regulation of Gene Expression/Homeobox Genes",
          "Immune System/Immune Receptors and Signaling",
          "Tumor Suppressors/Ion Channel Regulators",
          "Miscellaneous/Melanosome-Related Proteins",
          "Cell Structure and Adhesion/Membrane and Structural Proteins",
          "Cell Structure and Adhesion/Mesothelin Family",
          "Metabolism/Metal and Selenium Binding Proteins",
          "Immune System/Natural Killer Cell Receptors",
          "Regulation of Gene Expression/Nuclear Receptors",
          "Immune System/Other Immune-related Genes",
          "Cell Structure and Adhesion/Other Structural Proteins",
          "Miscellaneous/PDZ Domain Interacting Proteins",
          "Miscellaneous/Pre-B Cell Markers",
          "Metabolism/Regulation of Metabolic Processes",
          "Immune System/Regulatory Proteins",
          "Immune System/T Cell Markers",
          "Regulation of Gene Expression/Transcription Factors",
          "Regulation of Gene Expression/Transcriptional Regulators",
          "Development and Differentiation/Transcriptional Regulators in Development",
          "Cell Structure and Adhesion",
          "Development and Differentiation",
          "Immune System",
          "Metabolism",
          "Miscellaneous",
          "Regulation of Gene Expression",
          "Signalling",
          "Tumor Suppressors"
         ],
         "labels": [
          "RFX6",
          "PDGFRB",
          "PDZK1IP1",
          "PLCE1",
          "REP15",
          "RETNLB",
          "KRT8",
          "MCEMP1",
          "LEF1",
          "LILRA4",
          "CLEC9A",
          "ARX",
          "ASCL2",
          "CDHR5",
          "BRCA2",
          "CA2",
          "CD5",
          "BEST2",
          "CD8B",
          "CTLA4",
          "CREB3L1",
          "CD8A",
          "ANK2",
          "PAX4",
          "NOSIP",
          "NKX2-2",
          "NET1",
          "MT1A",
          "MSLN",
          "MLPH",
          "SELENOM",
          "TBC1D4",
          "TUBB",
          "ZEB2",
          "VPREB3",
          "FKBP11",
          "CTNNB1",
          "CXCR1",
          "IL4I1",
          "HES6",
          "HEPACAM2",
          "GPR183",
          "GNA11",
          "FOXP3",
          "CXCR4",
          "FFAR4",
          "DNAJC12",
          "KIT",
          "KLRB1",
          "IRF8",
          "ISL1",
          "ITK",
          "RORA",
          "RUNX1T1",
          "ROBO2",
          "CREB Family",
          "Cell Adhesion Molecules",
          "Cell Signaling",
          "Cytokine and Chemokine Receptors",
          "Cytoskeletal Proteins",
          "DNA Repair",
          "Enzymes",
          "G-Protein Subunits",
          "GPCRs",
          "Growth Factor Receptors",
          "Guidance and Cell Adhesion Receptors",
          "Heat Shock Proteins",
          "Homeobox Genes",
          "Immune Receptors and Signaling",
          "Ion Channel Regulators",
          "Melanosome-Related Proteins",
          "Membrane and Structural Proteins",
          "Mesothelin Family",
          "Metal and Selenium Binding Proteins",
          "Natural Killer Cell Receptors",
          "Nuclear Receptors",
          "Other Immune-related Genes",
          "Other Structural Proteins",
          "PDZ Domain Interacting Proteins",
          "Pre-B Cell Markers",
          "Regulation of Metabolic Processes",
          "Regulatory Proteins",
          "T Cell Markers",
          "Transcription Factors",
          "Transcriptional Regulators",
          "Transcriptional Regulators in Development",
          "Cell Structure and Adhesion",
          "Development and Differentiation",
          "Immune System",
          "Metabolism",
          "Miscellaneous",
          "Regulation of Gene Expression",
          "Signalling",
          "Tumor Suppressors"
         ],
         "marker": {
          "colors": [
           "#636EFA",
           "#EF553B",
           "#00CC96",
           "#AB63FA",
           "#FFA15A",
           "#19D3F3",
           "#FF6692",
           "#B6E880",
           "#FF97FF",
           "#FECB52"
          ]
         },
         "name": "",
         "parents": [
          "Regulation of Gene Expression/Transcriptional Regulators",
          "Regulation of Gene Expression/Transcriptional Regulators",
          "Miscellaneous/PDZ Domain Interacting Proteins",
          "Metabolism/Metal and Selenium Binding Proteins",
          "Tumor Suppressors/Cell Signaling",
          "Immune System/Other Immune-related Genes",
          "Cell Structure and Adhesion/Membrane and Structural Proteins",
          "Cell Structure and Adhesion/Membrane and Structural Proteins",
          "Regulation of Gene Expression/Transcriptional Regulators",
          "Immune System/Immune Receptors and Signaling",
          "Immune System/Immune Receptors and Signaling",
          "Development and Differentiation/Transcriptional Regulators in Development",
          "Regulation of Gene Expression/Transcription Factors",
          "Cell Structure and Adhesion/Cell Adhesion Molecules",
          "Tumor Suppressors/DNA Repair",
          "Metabolism/Enzymes",
          "Immune System/Immune Receptors and Signaling",
          "Tumor Suppressors/Ion Channel Regulators",
          "Immune System/T Cell Markers",
          "Development and Differentiation/Transcriptional Regulators in Development",
          "Regulation of Gene Expression/CREB Family",
          "Immune System/T Cell Markers",
          "Cell Structure and Adhesion/Cell Adhesion Molecules",
          "Regulation of Gene Expression/Homeobox Genes",
          "Metabolism/Regulation of Metabolic Processes",
          "Regulation of Gene Expression/Homeobox Genes",
          "Development and Differentiation/G-Protein Subunits",
          "Metabolism/Regulation of Metabolic Processes",
          "Cell Structure and Adhesion/Mesothelin Family",
          "Miscellaneous/Melanosome-Related Proteins",
          "Metabolism/Metal and Selenium Binding Proteins",
          "Development and Differentiation/Transcriptional Regulators in Development",
          "Miscellaneous/Cytoskeletal Proteins",
          "Regulation of Gene Expression/Transcriptional Regulators",
          "Miscellaneous/Pre-B Cell Markers",
          "Metabolism/Enzymes",
          "Regulation of Gene Expression/Transcriptional Regulators",
          "Immune System/Cytokine and Chemokine Receptors",
          "Metabolism/Enzymes",
          "Regulation of Gene Expression/Transcription Factors",
          "Cell Structure and Adhesion/Other Structural Proteins",
          "Immune System/Other Immune-related Genes",
          "Signalling/Guidance and Cell Adhesion Receptors",
          "Immune System/Immune Receptors and Signaling",
          "Immune System/Cytokine and Chemokine Receptors",
          "Signalling/Growth Factor Receptors",
          "Miscellaneous/Heat Shock Proteins",
          "Signalling/GPCRs",
          "Immune System/Natural Killer Cell Receptors",
          "Immune System/Regulatory Proteins",
          "Regulation of Gene Expression/Homeobox Genes",
          "Immune System/Regulatory Proteins",
          "Regulation of Gene Expression/Nuclear Receptors",
          "Signalling/Guidance and Cell Adhesion Receptors",
          "Signalling/GPCRs",
          "Regulation of Gene Expression",
          "Cell Structure and Adhesion",
          "Tumor Suppressors",
          "Immune System",
          "Miscellaneous",
          "Tumor Suppressors",
          "Metabolism",
          "Development and Differentiation",
          "Signalling",
          "Signalling",
          "Signalling",
          "Miscellaneous",
          "Regulation of Gene Expression",
          "Immune System",
          "Tumor Suppressors",
          "Miscellaneous",
          "Cell Structure and Adhesion",
          "Cell Structure and Adhesion",
          "Metabolism",
          "Immune System",
          "Regulation of Gene Expression",
          "Immune System",
          "Cell Structure and Adhesion",
          "Miscellaneous",
          "Miscellaneous",
          "Metabolism",
          "Immune System",
          "Immune System",
          "Regulation of Gene Expression",
          "Regulation of Gene Expression",
          "Development and Differentiation",
          "",
          "",
          "",
          "",
          "",
          "",
          "",
          ""
         ],
         "type": "sunburst",
         "values": [
          1,
          1,
          1,
          1,
          1,
          1,
          1,
          1,
          1,
          1,
          1,
          1,
          1,
          1,
          1,
          1,
          1,
          1,
          1,
          1,
          1,
          1,
          1,
          1,
          1,
          1,
          1,
          1,
          1,
          1,
          1,
          1,
          1,
          1,
          1,
          1,
          1,
          1,
          1,
          1,
          1,
          1,
          1,
          1,
          1,
          1,
          1,
          1,
          1,
          1,
          1,
          1,
          1,
          1,
          1,
          1,
          2,
          1,
          2,
          1,
          1,
          3,
          1,
          2,
          1,
          2,
          1,
          3,
          4,
          1,
          1,
          2,
          1,
          2,
          1,
          1,
          2,
          1,
          1,
          1,
          2,
          2,
          2,
          2,
          5,
          3,
          6,
          4,
          13,
          7,
          5,
          12,
          5,
          3
         ]
        }
       ],
       "layout": {
        "legend": {
         "tracegroupgap": 0
        },
        "margin": {
         "t": 60
        },
        "template": {
         "data": {
          "bar": [
           {
            "error_x": {
             "color": "#2a3f5f"
            },
            "error_y": {
             "color": "#2a3f5f"
            },
            "marker": {
             "line": {
              "color": "#E5ECF6",
              "width": 0.5
             },
             "pattern": {
              "fillmode": "overlay",
              "size": 10,
              "solidity": 0.2
             }
            },
            "type": "bar"
           }
          ],
          "barpolar": [
           {
            "marker": {
             "line": {
              "color": "#E5ECF6",
              "width": 0.5
             },
             "pattern": {
              "fillmode": "overlay",
              "size": 10,
              "solidity": 0.2
             }
            },
            "type": "barpolar"
           }
          ],
          "carpet": [
           {
            "aaxis": {
             "endlinecolor": "#2a3f5f",
             "gridcolor": "white",
             "linecolor": "white",
             "minorgridcolor": "white",
             "startlinecolor": "#2a3f5f"
            },
            "baxis": {
             "endlinecolor": "#2a3f5f",
             "gridcolor": "white",
             "linecolor": "white",
             "minorgridcolor": "white",
             "startlinecolor": "#2a3f5f"
            },
            "type": "carpet"
           }
          ],
          "choropleth": [
           {
            "colorbar": {
             "outlinewidth": 0,
             "ticks": ""
            },
            "type": "choropleth"
           }
          ],
          "contour": [
           {
            "colorbar": {
             "outlinewidth": 0,
             "ticks": ""
            },
            "colorscale": [
             [
              0,
              "#0d0887"
             ],
             [
              0.1111111111111111,
              "#46039f"
             ],
             [
              0.2222222222222222,
              "#7201a8"
             ],
             [
              0.3333333333333333,
              "#9c179e"
             ],
             [
              0.4444444444444444,
              "#bd3786"
             ],
             [
              0.5555555555555556,
              "#d8576b"
             ],
             [
              0.6666666666666666,
              "#ed7953"
             ],
             [
              0.7777777777777778,
              "#fb9f3a"
             ],
             [
              0.8888888888888888,
              "#fdca26"
             ],
             [
              1,
              "#f0f921"
             ]
            ],
            "type": "contour"
           }
          ],
          "contourcarpet": [
           {
            "colorbar": {
             "outlinewidth": 0,
             "ticks": ""
            },
            "type": "contourcarpet"
           }
          ],
          "heatmap": [
           {
            "colorbar": {
             "outlinewidth": 0,
             "ticks": ""
            },
            "colorscale": [
             [
              0,
              "#0d0887"
             ],
             [
              0.1111111111111111,
              "#46039f"
             ],
             [
              0.2222222222222222,
              "#7201a8"
             ],
             [
              0.3333333333333333,
              "#9c179e"
             ],
             [
              0.4444444444444444,
              "#bd3786"
             ],
             [
              0.5555555555555556,
              "#d8576b"
             ],
             [
              0.6666666666666666,
              "#ed7953"
             ],
             [
              0.7777777777777778,
              "#fb9f3a"
             ],
             [
              0.8888888888888888,
              "#fdca26"
             ],
             [
              1,
              "#f0f921"
             ]
            ],
            "type": "heatmap"
           }
          ],
          "heatmapgl": [
           {
            "colorbar": {
             "outlinewidth": 0,
             "ticks": ""
            },
            "colorscale": [
             [
              0,
              "#0d0887"
             ],
             [
              0.1111111111111111,
              "#46039f"
             ],
             [
              0.2222222222222222,
              "#7201a8"
             ],
             [
              0.3333333333333333,
              "#9c179e"
             ],
             [
              0.4444444444444444,
              "#bd3786"
             ],
             [
              0.5555555555555556,
              "#d8576b"
             ],
             [
              0.6666666666666666,
              "#ed7953"
             ],
             [
              0.7777777777777778,
              "#fb9f3a"
             ],
             [
              0.8888888888888888,
              "#fdca26"
             ],
             [
              1,
              "#f0f921"
             ]
            ],
            "type": "heatmapgl"
           }
          ],
          "histogram": [
           {
            "marker": {
             "pattern": {
              "fillmode": "overlay",
              "size": 10,
              "solidity": 0.2
             }
            },
            "type": "histogram"
           }
          ],
          "histogram2d": [
           {
            "colorbar": {
             "outlinewidth": 0,
             "ticks": ""
            },
            "colorscale": [
             [
              0,
              "#0d0887"
             ],
             [
              0.1111111111111111,
              "#46039f"
             ],
             [
              0.2222222222222222,
              "#7201a8"
             ],
             [
              0.3333333333333333,
              "#9c179e"
             ],
             [
              0.4444444444444444,
              "#bd3786"
             ],
             [
              0.5555555555555556,
              "#d8576b"
             ],
             [
              0.6666666666666666,
              "#ed7953"
             ],
             [
              0.7777777777777778,
              "#fb9f3a"
             ],
             [
              0.8888888888888888,
              "#fdca26"
             ],
             [
              1,
              "#f0f921"
             ]
            ],
            "type": "histogram2d"
           }
          ],
          "histogram2dcontour": [
           {
            "colorbar": {
             "outlinewidth": 0,
             "ticks": ""
            },
            "colorscale": [
             [
              0,
              "#0d0887"
             ],
             [
              0.1111111111111111,
              "#46039f"
             ],
             [
              0.2222222222222222,
              "#7201a8"
             ],
             [
              0.3333333333333333,
              "#9c179e"
             ],
             [
              0.4444444444444444,
              "#bd3786"
             ],
             [
              0.5555555555555556,
              "#d8576b"
             ],
             [
              0.6666666666666666,
              "#ed7953"
             ],
             [
              0.7777777777777778,
              "#fb9f3a"
             ],
             [
              0.8888888888888888,
              "#fdca26"
             ],
             [
              1,
              "#f0f921"
             ]
            ],
            "type": "histogram2dcontour"
           }
          ],
          "mesh3d": [
           {
            "colorbar": {
             "outlinewidth": 0,
             "ticks": ""
            },
            "type": "mesh3d"
           }
          ],
          "parcoords": [
           {
            "line": {
             "colorbar": {
              "outlinewidth": 0,
              "ticks": ""
             }
            },
            "type": "parcoords"
           }
          ],
          "pie": [
           {
            "automargin": true,
            "type": "pie"
           }
          ],
          "scatter": [
           {
            "fillpattern": {
             "fillmode": "overlay",
             "size": 10,
             "solidity": 0.2
            },
            "type": "scatter"
           }
          ],
          "scatter3d": [
           {
            "line": {
             "colorbar": {
              "outlinewidth": 0,
              "ticks": ""
             }
            },
            "marker": {
             "colorbar": {
              "outlinewidth": 0,
              "ticks": ""
             }
            },
            "type": "scatter3d"
           }
          ],
          "scattercarpet": [
           {
            "marker": {
             "colorbar": {
              "outlinewidth": 0,
              "ticks": ""
             }
            },
            "type": "scattercarpet"
           }
          ],
          "scattergeo": [
           {
            "marker": {
             "colorbar": {
              "outlinewidth": 0,
              "ticks": ""
             }
            },
            "type": "scattergeo"
           }
          ],
          "scattergl": [
           {
            "marker": {
             "colorbar": {
              "outlinewidth": 0,
              "ticks": ""
             }
            },
            "type": "scattergl"
           }
          ],
          "scattermapbox": [
           {
            "marker": {
             "colorbar": {
              "outlinewidth": 0,
              "ticks": ""
             }
            },
            "type": "scattermapbox"
           }
          ],
          "scatterpolar": [
           {
            "marker": {
             "colorbar": {
              "outlinewidth": 0,
              "ticks": ""
             }
            },
            "type": "scatterpolar"
           }
          ],
          "scatterpolargl": [
           {
            "marker": {
             "colorbar": {
              "outlinewidth": 0,
              "ticks": ""
             }
            },
            "type": "scatterpolargl"
           }
          ],
          "scatterternary": [
           {
            "marker": {
             "colorbar": {
              "outlinewidth": 0,
              "ticks": ""
             }
            },
            "type": "scatterternary"
           }
          ],
          "surface": [
           {
            "colorbar": {
             "outlinewidth": 0,
             "ticks": ""
            },
            "colorscale": [
             [
              0,
              "#0d0887"
             ],
             [
              0.1111111111111111,
              "#46039f"
             ],
             [
              0.2222222222222222,
              "#7201a8"
             ],
             [
              0.3333333333333333,
              "#9c179e"
             ],
             [
              0.4444444444444444,
              "#bd3786"
             ],
             [
              0.5555555555555556,
              "#d8576b"
             ],
             [
              0.6666666666666666,
              "#ed7953"
             ],
             [
              0.7777777777777778,
              "#fb9f3a"
             ],
             [
              0.8888888888888888,
              "#fdca26"
             ],
             [
              1,
              "#f0f921"
             ]
            ],
            "type": "surface"
           }
          ],
          "table": [
           {
            "cells": {
             "fill": {
              "color": "#EBF0F8"
             },
             "line": {
              "color": "white"
             }
            },
            "header": {
             "fill": {
              "color": "#C8D4E3"
             },
             "line": {
              "color": "white"
             }
            },
            "type": "table"
           }
          ]
         },
         "layout": {
          "annotationdefaults": {
           "arrowcolor": "#2a3f5f",
           "arrowhead": 0,
           "arrowwidth": 1
          },
          "autotypenumbers": "strict",
          "coloraxis": {
           "colorbar": {
            "outlinewidth": 0,
            "ticks": ""
           }
          },
          "colorscale": {
           "diverging": [
            [
             0,
             "#8e0152"
            ],
            [
             0.1,
             "#c51b7d"
            ],
            [
             0.2,
             "#de77ae"
            ],
            [
             0.3,
             "#f1b6da"
            ],
            [
             0.4,
             "#fde0ef"
            ],
            [
             0.5,
             "#f7f7f7"
            ],
            [
             0.6,
             "#e6f5d0"
            ],
            [
             0.7,
             "#b8e186"
            ],
            [
             0.8,
             "#7fbc41"
            ],
            [
             0.9,
             "#4d9221"
            ],
            [
             1,
             "#276419"
            ]
           ],
           "sequential": [
            [
             0,
             "#0d0887"
            ],
            [
             0.1111111111111111,
             "#46039f"
            ],
            [
             0.2222222222222222,
             "#7201a8"
            ],
            [
             0.3333333333333333,
             "#9c179e"
            ],
            [
             0.4444444444444444,
             "#bd3786"
            ],
            [
             0.5555555555555556,
             "#d8576b"
            ],
            [
             0.6666666666666666,
             "#ed7953"
            ],
            [
             0.7777777777777778,
             "#fb9f3a"
            ],
            [
             0.8888888888888888,
             "#fdca26"
            ],
            [
             1,
             "#f0f921"
            ]
           ],
           "sequentialminus": [
            [
             0,
             "#0d0887"
            ],
            [
             0.1111111111111111,
             "#46039f"
            ],
            [
             0.2222222222222222,
             "#7201a8"
            ],
            [
             0.3333333333333333,
             "#9c179e"
            ],
            [
             0.4444444444444444,
             "#bd3786"
            ],
            [
             0.5555555555555556,
             "#d8576b"
            ],
            [
             0.6666666666666666,
             "#ed7953"
            ],
            [
             0.7777777777777778,
             "#fb9f3a"
            ],
            [
             0.8888888888888888,
             "#fdca26"
            ],
            [
             1,
             "#f0f921"
            ]
           ]
          },
          "colorway": [
           "#636efa",
           "#EF553B",
           "#00cc96",
           "#ab63fa",
           "#FFA15A",
           "#19d3f3",
           "#FF6692",
           "#B6E880",
           "#FF97FF",
           "#FECB52"
          ],
          "font": {
           "color": "#2a3f5f"
          },
          "geo": {
           "bgcolor": "white",
           "lakecolor": "white",
           "landcolor": "#E5ECF6",
           "showlakes": true,
           "showland": true,
           "subunitcolor": "white"
          },
          "hoverlabel": {
           "align": "left"
          },
          "hovermode": "closest",
          "mapbox": {
           "style": "light"
          },
          "paper_bgcolor": "white",
          "plot_bgcolor": "#E5ECF6",
          "polar": {
           "angularaxis": {
            "gridcolor": "white",
            "linecolor": "white",
            "ticks": ""
           },
           "bgcolor": "#E5ECF6",
           "radialaxis": {
            "gridcolor": "white",
            "linecolor": "white",
            "ticks": ""
           }
          },
          "scene": {
           "xaxis": {
            "backgroundcolor": "#E5ECF6",
            "gridcolor": "white",
            "gridwidth": 2,
            "linecolor": "white",
            "showbackground": true,
            "ticks": "",
            "zerolinecolor": "white"
           },
           "yaxis": {
            "backgroundcolor": "#E5ECF6",
            "gridcolor": "white",
            "gridwidth": 2,
            "linecolor": "white",
            "showbackground": true,
            "ticks": "",
            "zerolinecolor": "white"
           },
           "zaxis": {
            "backgroundcolor": "#E5ECF6",
            "gridcolor": "white",
            "gridwidth": 2,
            "linecolor": "white",
            "showbackground": true,
            "ticks": "",
            "zerolinecolor": "white"
           }
          },
          "shapedefaults": {
           "line": {
            "color": "#2a3f5f"
           }
          },
          "ternary": {
           "aaxis": {
            "gridcolor": "white",
            "linecolor": "white",
            "ticks": ""
           },
           "baxis": {
            "gridcolor": "white",
            "linecolor": "white",
            "ticks": ""
           },
           "bgcolor": "#E5ECF6",
           "caxis": {
            "gridcolor": "white",
            "linecolor": "white",
            "ticks": ""
           }
          },
          "title": {
           "x": 0.05
          },
          "xaxis": {
           "automargin": true,
           "gridcolor": "white",
           "linecolor": "white",
           "ticks": "",
           "title": {
            "standoff": 15
           },
           "zerolinecolor": "white",
           "zerolinewidth": 2
          },
          "yaxis": {
           "automargin": true,
           "gridcolor": "white",
           "linecolor": "white",
           "ticks": "",
           "title": {
            "standoff": 15
           },
           "zerolinecolor": "white",
           "zerolinewidth": 2
          }
         }
        }
       }
      },
      "text/html": [
       "<div>                            <div id=\"97fdebc4-2dfc-45cc-8f6a-66b78b9f0f3b\" class=\"plotly-graph-div\" style=\"height:525px; width:100%;\"></div>            <script type=\"text/javascript\">                require([\"plotly\"], function(Plotly) {                    window.PLOTLYENV=window.PLOTLYENV || {};                                    if (document.getElementById(\"97fdebc4-2dfc-45cc-8f6a-66b78b9f0f3b\")) {                    Plotly.newPlot(                        \"97fdebc4-2dfc-45cc-8f6a-66b78b9f0f3b\",                        [{\"branchvalues\":\"total\",\"customdata\":[[\"Regulation of Gene Expression\"],[\"Regulation of Gene Expression\"],[\"Miscellaneous\"],[\"Metabolism\"],[\"Tumor Suppressors\"],[\"Immune System\"],[\"Cell Structure and Adhesion\"],[\"Cell Structure and Adhesion\"],[\"Regulation of Gene Expression\"],[\"Immune System\"],[\"Immune System\"],[\"Development and Differentiation\"],[\"Regulation of Gene Expression\"],[\"Cell Structure and Adhesion\"],[\"Tumor Suppressors\"],[\"Metabolism\"],[\"Immune System\"],[\"Tumor Suppressors\"],[\"Immune System\"],[\"Development and Differentiation\"],[\"Regulation of Gene Expression\"],[\"Immune System\"],[\"Cell Structure and Adhesion\"],[\"Regulation of Gene Expression\"],[\"Metabolism\"],[\"Regulation of Gene Expression\"],[\"Development and Differentiation\"],[\"Metabolism\"],[\"Cell Structure and Adhesion\"],[\"Miscellaneous\"],[\"Metabolism\"],[\"Development and Differentiation\"],[\"Miscellaneous\"],[\"Regulation of Gene Expression\"],[\"Miscellaneous\"],[\"Metabolism\"],[\"Regulation of Gene Expression\"],[\"Immune System\"],[\"Metabolism\"],[\"Regulation of Gene Expression\"],[\"Cell Structure and Adhesion\"],[\"Immune System\"],[\"Signalling\"],[\"Immune System\"],[\"Immune System\"],[\"Signalling\"],[\"Miscellaneous\"],[\"Signalling\"],[\"Immune System\"],[\"Immune System\"],[\"Regulation of Gene Expression\"],[\"Immune System\"],[\"Regulation of Gene Expression\"],[\"Signalling\"],[\"Signalling\"],[\"Regulation of Gene Expression\"],[\"Cell Structure and Adhesion\"],[\"Tumor Suppressors\"],[\"Immune System\"],[\"Miscellaneous\"],[\"Tumor Suppressors\"],[\"Metabolism\"],[\"Development and Differentiation\"],[\"Signalling\"],[\"Signalling\"],[\"Signalling\"],[\"Miscellaneous\"],[\"Regulation of Gene Expression\"],[\"Immune System\"],[\"Tumor Suppressors\"],[\"Miscellaneous\"],[\"Cell Structure and Adhesion\"],[\"Cell Structure and Adhesion\"],[\"Metabolism\"],[\"Immune System\"],[\"Regulation of Gene Expression\"],[\"Immune System\"],[\"Cell Structure and Adhesion\"],[\"Miscellaneous\"],[\"Miscellaneous\"],[\"Metabolism\"],[\"Immune System\"],[\"Immune System\"],[\"Regulation of Gene Expression\"],[\"Regulation of Gene Expression\"],[\"Development and Differentiation\"],[\"Cell Structure and Adhesion\"],[\"Development and Differentiation\"],[\"Immune System\"],[\"Metabolism\"],[\"Miscellaneous\"],[\"Regulation of Gene Expression\"],[\"Signalling\"],[\"Tumor Suppressors\"]],\"domain\":{\"x\":[0.0,1.0],\"y\":[0.0,1.0]},\"hovertemplate\":\"labels=%{label}\\u003cbr\\u003ecount=%{value}\\u003cbr\\u003eparent=%{parent}\\u003cbr\\u003eid=%{id}\\u003cbr\\u003eCategory=%{customdata[0]}\\u003cextra\\u003e\\u003c\\u002fextra\\u003e\",\"ids\":[\"Regulation of Gene Expression\\u002fTranscriptional Regulators\\u002fRFX6\",\"Regulation of Gene Expression\\u002fTranscriptional Regulators\\u002fPDGFRB\",\"Miscellaneous\\u002fPDZ Domain Interacting Proteins\\u002fPDZK1IP1\",\"Metabolism\\u002fMetal and Selenium Binding Proteins\\u002fPLCE1\",\"Tumor Suppressors\\u002fCell Signaling\\u002fREP15\",\"Immune System\\u002fOther Immune-related Genes\\u002fRETNLB\",\"Cell Structure and Adhesion\\u002fMembrane and Structural Proteins\\u002fKRT8\",\"Cell Structure and Adhesion\\u002fMembrane and Structural Proteins\\u002fMCEMP1\",\"Regulation of Gene Expression\\u002fTranscriptional Regulators\\u002fLEF1\",\"Immune System\\u002fImmune Receptors and Signaling\\u002fLILRA4\",\"Immune System\\u002fImmune Receptors and Signaling\\u002fCLEC9A\",\"Development and Differentiation\\u002fTranscriptional Regulators in Development\\u002fARX\",\"Regulation of Gene Expression\\u002fTranscription Factors\\u002fASCL2\",\"Cell Structure and Adhesion\\u002fCell Adhesion Molecules\\u002fCDHR5\",\"Tumor Suppressors\\u002fDNA Repair\\u002fBRCA2\",\"Metabolism\\u002fEnzymes\\u002fCA2\",\"Immune System\\u002fImmune Receptors and Signaling\\u002fCD5\",\"Tumor Suppressors\\u002fIon Channel Regulators\\u002fBEST2\",\"Immune System\\u002fT Cell Markers\\u002fCD8B\",\"Development and Differentiation\\u002fTranscriptional Regulators in Development\\u002fCTLA4\",\"Regulation of Gene Expression\\u002fCREB Family\\u002fCREB3L1\",\"Immune System\\u002fT Cell Markers\\u002fCD8A\",\"Cell Structure and Adhesion\\u002fCell Adhesion Molecules\\u002fANK2\",\"Regulation of Gene Expression\\u002fHomeobox Genes\\u002fPAX4\",\"Metabolism\\u002fRegulation of Metabolic Processes\\u002fNOSIP\",\"Regulation of Gene Expression\\u002fHomeobox Genes\\u002fNKX2-2\",\"Development and Differentiation\\u002fG-Protein Subunits\\u002fNET1\",\"Metabolism\\u002fRegulation of Metabolic Processes\\u002fMT1A\",\"Cell Structure and Adhesion\\u002fMesothelin Family\\u002fMSLN\",\"Miscellaneous\\u002fMelanosome-Related Proteins\\u002fMLPH\",\"Metabolism\\u002fMetal and Selenium Binding Proteins\\u002fSELENOM\",\"Development and Differentiation\\u002fTranscriptional Regulators in Development\\u002fTBC1D4\",\"Miscellaneous\\u002fCytoskeletal Proteins\\u002fTUBB\",\"Regulation of Gene Expression\\u002fTranscriptional Regulators\\u002fZEB2\",\"Miscellaneous\\u002fPre-B Cell Markers\\u002fVPREB3\",\"Metabolism\\u002fEnzymes\\u002fFKBP11\",\"Regulation of Gene Expression\\u002fTranscriptional Regulators\\u002fCTNNB1\",\"Immune System\\u002fCytokine and Chemokine Receptors\\u002fCXCR1\",\"Metabolism\\u002fEnzymes\\u002fIL4I1\",\"Regulation of Gene Expression\\u002fTranscription Factors\\u002fHES6\",\"Cell Structure and Adhesion\\u002fOther Structural Proteins\\u002fHEPACAM2\",\"Immune System\\u002fOther Immune-related Genes\\u002fGPR183\",\"Signalling\\u002fGuidance and Cell Adhesion Receptors\\u002fGNA11\",\"Immune System\\u002fImmune Receptors and Signaling\\u002fFOXP3\",\"Immune System\\u002fCytokine and Chemokine Receptors\\u002fCXCR4\",\"Signalling\\u002fGrowth Factor Receptors\\u002fFFAR4\",\"Miscellaneous\\u002fHeat Shock Proteins\\u002fDNAJC12\",\"Signalling\\u002fGPCRs\\u002fKIT\",\"Immune System\\u002fNatural Killer Cell Receptors\\u002fKLRB1\",\"Immune System\\u002fRegulatory Proteins\\u002fIRF8\",\"Regulation of Gene Expression\\u002fHomeobox Genes\\u002fISL1\",\"Immune System\\u002fRegulatory Proteins\\u002fITK\",\"Regulation of Gene Expression\\u002fNuclear Receptors\\u002fRORA\",\"Signalling\\u002fGuidance and Cell Adhesion Receptors\\u002fRUNX1T1\",\"Signalling\\u002fGPCRs\\u002fROBO2\",\"Regulation of Gene Expression\\u002fCREB Family\",\"Cell Structure and Adhesion\\u002fCell Adhesion Molecules\",\"Tumor Suppressors\\u002fCell Signaling\",\"Immune System\\u002fCytokine and Chemokine Receptors\",\"Miscellaneous\\u002fCytoskeletal Proteins\",\"Tumor Suppressors\\u002fDNA Repair\",\"Metabolism\\u002fEnzymes\",\"Development and Differentiation\\u002fG-Protein Subunits\",\"Signalling\\u002fGPCRs\",\"Signalling\\u002fGrowth Factor Receptors\",\"Signalling\\u002fGuidance and Cell Adhesion Receptors\",\"Miscellaneous\\u002fHeat Shock Proteins\",\"Regulation of Gene Expression\\u002fHomeobox Genes\",\"Immune System\\u002fImmune Receptors and Signaling\",\"Tumor Suppressors\\u002fIon Channel Regulators\",\"Miscellaneous\\u002fMelanosome-Related Proteins\",\"Cell Structure and Adhesion\\u002fMembrane and Structural Proteins\",\"Cell Structure and Adhesion\\u002fMesothelin Family\",\"Metabolism\\u002fMetal and Selenium Binding Proteins\",\"Immune System\\u002fNatural Killer Cell Receptors\",\"Regulation of Gene Expression\\u002fNuclear Receptors\",\"Immune System\\u002fOther Immune-related Genes\",\"Cell Structure and Adhesion\\u002fOther Structural Proteins\",\"Miscellaneous\\u002fPDZ Domain Interacting Proteins\",\"Miscellaneous\\u002fPre-B Cell Markers\",\"Metabolism\\u002fRegulation of Metabolic Processes\",\"Immune System\\u002fRegulatory Proteins\",\"Immune System\\u002fT Cell Markers\",\"Regulation of Gene Expression\\u002fTranscription Factors\",\"Regulation of Gene Expression\\u002fTranscriptional Regulators\",\"Development and Differentiation\\u002fTranscriptional Regulators in Development\",\"Cell Structure and Adhesion\",\"Development and Differentiation\",\"Immune System\",\"Metabolism\",\"Miscellaneous\",\"Regulation of Gene Expression\",\"Signalling\",\"Tumor Suppressors\"],\"labels\":[\"RFX6\",\"PDGFRB\",\"PDZK1IP1\",\"PLCE1\",\"REP15\",\"RETNLB\",\"KRT8\",\"MCEMP1\",\"LEF1\",\"LILRA4\",\"CLEC9A\",\"ARX\",\"ASCL2\",\"CDHR5\",\"BRCA2\",\"CA2\",\"CD5\",\"BEST2\",\"CD8B\",\"CTLA4\",\"CREB3L1\",\"CD8A\",\"ANK2\",\"PAX4\",\"NOSIP\",\"NKX2-2\",\"NET1\",\"MT1A\",\"MSLN\",\"MLPH\",\"SELENOM\",\"TBC1D4\",\"TUBB\",\"ZEB2\",\"VPREB3\",\"FKBP11\",\"CTNNB1\",\"CXCR1\",\"IL4I1\",\"HES6\",\"HEPACAM2\",\"GPR183\",\"GNA11\",\"FOXP3\",\"CXCR4\",\"FFAR4\",\"DNAJC12\",\"KIT\",\"KLRB1\",\"IRF8\",\"ISL1\",\"ITK\",\"RORA\",\"RUNX1T1\",\"ROBO2\",\"CREB Family\",\"Cell Adhesion Molecules\",\"Cell Signaling\",\"Cytokine and Chemokine Receptors\",\"Cytoskeletal Proteins\",\"DNA Repair\",\"Enzymes\",\"G-Protein Subunits\",\"GPCRs\",\"Growth Factor Receptors\",\"Guidance and Cell Adhesion Receptors\",\"Heat Shock Proteins\",\"Homeobox Genes\",\"Immune Receptors and Signaling\",\"Ion Channel Regulators\",\"Melanosome-Related Proteins\",\"Membrane and Structural Proteins\",\"Mesothelin Family\",\"Metal and Selenium Binding Proteins\",\"Natural Killer Cell Receptors\",\"Nuclear Receptors\",\"Other Immune-related Genes\",\"Other Structural Proteins\",\"PDZ Domain Interacting Proteins\",\"Pre-B Cell Markers\",\"Regulation of Metabolic Processes\",\"Regulatory Proteins\",\"T Cell Markers\",\"Transcription Factors\",\"Transcriptional Regulators\",\"Transcriptional Regulators in Development\",\"Cell Structure and Adhesion\",\"Development and Differentiation\",\"Immune System\",\"Metabolism\",\"Miscellaneous\",\"Regulation of Gene Expression\",\"Signalling\",\"Tumor Suppressors\"],\"marker\":{\"colors\":[\"#636EFA\",\"#EF553B\",\"#00CC96\",\"#AB63FA\",\"#FFA15A\",\"#19D3F3\",\"#FF6692\",\"#B6E880\",\"#FF97FF\",\"#FECB52\"]},\"name\":\"\",\"parents\":[\"Regulation of Gene Expression\\u002fTranscriptional Regulators\",\"Regulation of Gene Expression\\u002fTranscriptional Regulators\",\"Miscellaneous\\u002fPDZ Domain Interacting Proteins\",\"Metabolism\\u002fMetal and Selenium Binding Proteins\",\"Tumor Suppressors\\u002fCell Signaling\",\"Immune System\\u002fOther Immune-related Genes\",\"Cell Structure and Adhesion\\u002fMembrane and Structural Proteins\",\"Cell Structure and Adhesion\\u002fMembrane and Structural Proteins\",\"Regulation of Gene Expression\\u002fTranscriptional Regulators\",\"Immune System\\u002fImmune Receptors and Signaling\",\"Immune System\\u002fImmune Receptors and Signaling\",\"Development and Differentiation\\u002fTranscriptional Regulators in Development\",\"Regulation of Gene Expression\\u002fTranscription Factors\",\"Cell Structure and Adhesion\\u002fCell Adhesion Molecules\",\"Tumor Suppressors\\u002fDNA Repair\",\"Metabolism\\u002fEnzymes\",\"Immune System\\u002fImmune Receptors and Signaling\",\"Tumor Suppressors\\u002fIon Channel Regulators\",\"Immune System\\u002fT Cell Markers\",\"Development and Differentiation\\u002fTranscriptional Regulators in Development\",\"Regulation of Gene Expression\\u002fCREB Family\",\"Immune System\\u002fT Cell Markers\",\"Cell Structure and Adhesion\\u002fCell Adhesion Molecules\",\"Regulation of Gene Expression\\u002fHomeobox Genes\",\"Metabolism\\u002fRegulation of Metabolic Processes\",\"Regulation of Gene Expression\\u002fHomeobox Genes\",\"Development and Differentiation\\u002fG-Protein Subunits\",\"Metabolism\\u002fRegulation of Metabolic Processes\",\"Cell Structure and Adhesion\\u002fMesothelin Family\",\"Miscellaneous\\u002fMelanosome-Related Proteins\",\"Metabolism\\u002fMetal and Selenium Binding Proteins\",\"Development and Differentiation\\u002fTranscriptional Regulators in Development\",\"Miscellaneous\\u002fCytoskeletal Proteins\",\"Regulation of Gene Expression\\u002fTranscriptional Regulators\",\"Miscellaneous\\u002fPre-B Cell Markers\",\"Metabolism\\u002fEnzymes\",\"Regulation of Gene Expression\\u002fTranscriptional Regulators\",\"Immune System\\u002fCytokine and Chemokine Receptors\",\"Metabolism\\u002fEnzymes\",\"Regulation of Gene Expression\\u002fTranscription Factors\",\"Cell Structure and Adhesion\\u002fOther Structural Proteins\",\"Immune System\\u002fOther Immune-related Genes\",\"Signalling\\u002fGuidance and Cell Adhesion Receptors\",\"Immune System\\u002fImmune Receptors and Signaling\",\"Immune System\\u002fCytokine and Chemokine Receptors\",\"Signalling\\u002fGrowth Factor Receptors\",\"Miscellaneous\\u002fHeat Shock Proteins\",\"Signalling\\u002fGPCRs\",\"Immune System\\u002fNatural Killer Cell Receptors\",\"Immune System\\u002fRegulatory Proteins\",\"Regulation of Gene Expression\\u002fHomeobox Genes\",\"Immune System\\u002fRegulatory Proteins\",\"Regulation of Gene Expression\\u002fNuclear Receptors\",\"Signalling\\u002fGuidance and Cell Adhesion Receptors\",\"Signalling\\u002fGPCRs\",\"Regulation of Gene Expression\",\"Cell Structure and Adhesion\",\"Tumor Suppressors\",\"Immune System\",\"Miscellaneous\",\"Tumor Suppressors\",\"Metabolism\",\"Development and Differentiation\",\"Signalling\",\"Signalling\",\"Signalling\",\"Miscellaneous\",\"Regulation of Gene Expression\",\"Immune System\",\"Tumor Suppressors\",\"Miscellaneous\",\"Cell Structure and Adhesion\",\"Cell Structure and Adhesion\",\"Metabolism\",\"Immune System\",\"Regulation of Gene Expression\",\"Immune System\",\"Cell Structure and Adhesion\",\"Miscellaneous\",\"Miscellaneous\",\"Metabolism\",\"Immune System\",\"Immune System\",\"Regulation of Gene Expression\",\"Regulation of Gene Expression\",\"Development and Differentiation\",\"\",\"\",\"\",\"\",\"\",\"\",\"\",\"\"],\"values\":[1,1,1,1,1,1,1,1,1,1,1,1,1,1,1,1,1,1,1,1,1,1,1,1,1,1,1,1,1,1,1,1,1,1,1,1,1,1,1,1,1,1,1,1,1,1,1,1,1,1,1,1,1,1,1,1,2,1,2,1,1,3,1,2,1,2,1,3,4,1,1,2,1,2,1,1,2,1,1,1,2,2,2,2,5,3,6,4,13,7,5,12,5,3],\"type\":\"sunburst\"}],                        {\"template\":{\"data\":{\"histogram2dcontour\":[{\"type\":\"histogram2dcontour\",\"colorbar\":{\"outlinewidth\":0,\"ticks\":\"\"},\"colorscale\":[[0.0,\"#0d0887\"],[0.1111111111111111,\"#46039f\"],[0.2222222222222222,\"#7201a8\"],[0.3333333333333333,\"#9c179e\"],[0.4444444444444444,\"#bd3786\"],[0.5555555555555556,\"#d8576b\"],[0.6666666666666666,\"#ed7953\"],[0.7777777777777778,\"#fb9f3a\"],[0.8888888888888888,\"#fdca26\"],[1.0,\"#f0f921\"]]}],\"choropleth\":[{\"type\":\"choropleth\",\"colorbar\":{\"outlinewidth\":0,\"ticks\":\"\"}}],\"histogram2d\":[{\"type\":\"histogram2d\",\"colorbar\":{\"outlinewidth\":0,\"ticks\":\"\"},\"colorscale\":[[0.0,\"#0d0887\"],[0.1111111111111111,\"#46039f\"],[0.2222222222222222,\"#7201a8\"],[0.3333333333333333,\"#9c179e\"],[0.4444444444444444,\"#bd3786\"],[0.5555555555555556,\"#d8576b\"],[0.6666666666666666,\"#ed7953\"],[0.7777777777777778,\"#fb9f3a\"],[0.8888888888888888,\"#fdca26\"],[1.0,\"#f0f921\"]]}],\"heatmap\":[{\"type\":\"heatmap\",\"colorbar\":{\"outlinewidth\":0,\"ticks\":\"\"},\"colorscale\":[[0.0,\"#0d0887\"],[0.1111111111111111,\"#46039f\"],[0.2222222222222222,\"#7201a8\"],[0.3333333333333333,\"#9c179e\"],[0.4444444444444444,\"#bd3786\"],[0.5555555555555556,\"#d8576b\"],[0.6666666666666666,\"#ed7953\"],[0.7777777777777778,\"#fb9f3a\"],[0.8888888888888888,\"#fdca26\"],[1.0,\"#f0f921\"]]}],\"heatmapgl\":[{\"type\":\"heatmapgl\",\"colorbar\":{\"outlinewidth\":0,\"ticks\":\"\"},\"colorscale\":[[0.0,\"#0d0887\"],[0.1111111111111111,\"#46039f\"],[0.2222222222222222,\"#7201a8\"],[0.3333333333333333,\"#9c179e\"],[0.4444444444444444,\"#bd3786\"],[0.5555555555555556,\"#d8576b\"],[0.6666666666666666,\"#ed7953\"],[0.7777777777777778,\"#fb9f3a\"],[0.8888888888888888,\"#fdca26\"],[1.0,\"#f0f921\"]]}],\"contourcarpet\":[{\"type\":\"contourcarpet\",\"colorbar\":{\"outlinewidth\":0,\"ticks\":\"\"}}],\"contour\":[{\"type\":\"contour\",\"colorbar\":{\"outlinewidth\":0,\"ticks\":\"\"},\"colorscale\":[[0.0,\"#0d0887\"],[0.1111111111111111,\"#46039f\"],[0.2222222222222222,\"#7201a8\"],[0.3333333333333333,\"#9c179e\"],[0.4444444444444444,\"#bd3786\"],[0.5555555555555556,\"#d8576b\"],[0.6666666666666666,\"#ed7953\"],[0.7777777777777778,\"#fb9f3a\"],[0.8888888888888888,\"#fdca26\"],[1.0,\"#f0f921\"]]}],\"surface\":[{\"type\":\"surface\",\"colorbar\":{\"outlinewidth\":0,\"ticks\":\"\"},\"colorscale\":[[0.0,\"#0d0887\"],[0.1111111111111111,\"#46039f\"],[0.2222222222222222,\"#7201a8\"],[0.3333333333333333,\"#9c179e\"],[0.4444444444444444,\"#bd3786\"],[0.5555555555555556,\"#d8576b\"],[0.6666666666666666,\"#ed7953\"],[0.7777777777777778,\"#fb9f3a\"],[0.8888888888888888,\"#fdca26\"],[1.0,\"#f0f921\"]]}],\"mesh3d\":[{\"type\":\"mesh3d\",\"colorbar\":{\"outlinewidth\":0,\"ticks\":\"\"}}],\"scatter\":[{\"fillpattern\":{\"fillmode\":\"overlay\",\"size\":10,\"solidity\":0.2},\"type\":\"scatter\"}],\"parcoords\":[{\"type\":\"parcoords\",\"line\":{\"colorbar\":{\"outlinewidth\":0,\"ticks\":\"\"}}}],\"scatterpolargl\":[{\"type\":\"scatterpolargl\",\"marker\":{\"colorbar\":{\"outlinewidth\":0,\"ticks\":\"\"}}}],\"bar\":[{\"error_x\":{\"color\":\"#2a3f5f\"},\"error_y\":{\"color\":\"#2a3f5f\"},\"marker\":{\"line\":{\"color\":\"#E5ECF6\",\"width\":0.5},\"pattern\":{\"fillmode\":\"overlay\",\"size\":10,\"solidity\":0.2}},\"type\":\"bar\"}],\"scattergeo\":[{\"type\":\"scattergeo\",\"marker\":{\"colorbar\":{\"outlinewidth\":0,\"ticks\":\"\"}}}],\"scatterpolar\":[{\"type\":\"scatterpolar\",\"marker\":{\"colorbar\":{\"outlinewidth\":0,\"ticks\":\"\"}}}],\"histogram\":[{\"marker\":{\"pattern\":{\"fillmode\":\"overlay\",\"size\":10,\"solidity\":0.2}},\"type\":\"histogram\"}],\"scattergl\":[{\"type\":\"scattergl\",\"marker\":{\"colorbar\":{\"outlinewidth\":0,\"ticks\":\"\"}}}],\"scatter3d\":[{\"type\":\"scatter3d\",\"line\":{\"colorbar\":{\"outlinewidth\":0,\"ticks\":\"\"}},\"marker\":{\"colorbar\":{\"outlinewidth\":0,\"ticks\":\"\"}}}],\"scattermapbox\":[{\"type\":\"scattermapbox\",\"marker\":{\"colorbar\":{\"outlinewidth\":0,\"ticks\":\"\"}}}],\"scatterternary\":[{\"type\":\"scatterternary\",\"marker\":{\"colorbar\":{\"outlinewidth\":0,\"ticks\":\"\"}}}],\"scattercarpet\":[{\"type\":\"scattercarpet\",\"marker\":{\"colorbar\":{\"outlinewidth\":0,\"ticks\":\"\"}}}],\"carpet\":[{\"aaxis\":{\"endlinecolor\":\"#2a3f5f\",\"gridcolor\":\"white\",\"linecolor\":\"white\",\"minorgridcolor\":\"white\",\"startlinecolor\":\"#2a3f5f\"},\"baxis\":{\"endlinecolor\":\"#2a3f5f\",\"gridcolor\":\"white\",\"linecolor\":\"white\",\"minorgridcolor\":\"white\",\"startlinecolor\":\"#2a3f5f\"},\"type\":\"carpet\"}],\"table\":[{\"cells\":{\"fill\":{\"color\":\"#EBF0F8\"},\"line\":{\"color\":\"white\"}},\"header\":{\"fill\":{\"color\":\"#C8D4E3\"},\"line\":{\"color\":\"white\"}},\"type\":\"table\"}],\"barpolar\":[{\"marker\":{\"line\":{\"color\":\"#E5ECF6\",\"width\":0.5},\"pattern\":{\"fillmode\":\"overlay\",\"size\":10,\"solidity\":0.2}},\"type\":\"barpolar\"}],\"pie\":[{\"automargin\":true,\"type\":\"pie\"}]},\"layout\":{\"autotypenumbers\":\"strict\",\"colorway\":[\"#636efa\",\"#EF553B\",\"#00cc96\",\"#ab63fa\",\"#FFA15A\",\"#19d3f3\",\"#FF6692\",\"#B6E880\",\"#FF97FF\",\"#FECB52\"],\"font\":{\"color\":\"#2a3f5f\"},\"hovermode\":\"closest\",\"hoverlabel\":{\"align\":\"left\"},\"paper_bgcolor\":\"white\",\"plot_bgcolor\":\"#E5ECF6\",\"polar\":{\"bgcolor\":\"#E5ECF6\",\"angularaxis\":{\"gridcolor\":\"white\",\"linecolor\":\"white\",\"ticks\":\"\"},\"radialaxis\":{\"gridcolor\":\"white\",\"linecolor\":\"white\",\"ticks\":\"\"}},\"ternary\":{\"bgcolor\":\"#E5ECF6\",\"aaxis\":{\"gridcolor\":\"white\",\"linecolor\":\"white\",\"ticks\":\"\"},\"baxis\":{\"gridcolor\":\"white\",\"linecolor\":\"white\",\"ticks\":\"\"},\"caxis\":{\"gridcolor\":\"white\",\"linecolor\":\"white\",\"ticks\":\"\"}},\"coloraxis\":{\"colorbar\":{\"outlinewidth\":0,\"ticks\":\"\"}},\"colorscale\":{\"sequential\":[[0.0,\"#0d0887\"],[0.1111111111111111,\"#46039f\"],[0.2222222222222222,\"#7201a8\"],[0.3333333333333333,\"#9c179e\"],[0.4444444444444444,\"#bd3786\"],[0.5555555555555556,\"#d8576b\"],[0.6666666666666666,\"#ed7953\"],[0.7777777777777778,\"#fb9f3a\"],[0.8888888888888888,\"#fdca26\"],[1.0,\"#f0f921\"]],\"sequentialminus\":[[0.0,\"#0d0887\"],[0.1111111111111111,\"#46039f\"],[0.2222222222222222,\"#7201a8\"],[0.3333333333333333,\"#9c179e\"],[0.4444444444444444,\"#bd3786\"],[0.5555555555555556,\"#d8576b\"],[0.6666666666666666,\"#ed7953\"],[0.7777777777777778,\"#fb9f3a\"],[0.8888888888888888,\"#fdca26\"],[1.0,\"#f0f921\"]],\"diverging\":[[0,\"#8e0152\"],[0.1,\"#c51b7d\"],[0.2,\"#de77ae\"],[0.3,\"#f1b6da\"],[0.4,\"#fde0ef\"],[0.5,\"#f7f7f7\"],[0.6,\"#e6f5d0\"],[0.7,\"#b8e186\"],[0.8,\"#7fbc41\"],[0.9,\"#4d9221\"],[1,\"#276419\"]]},\"xaxis\":{\"gridcolor\":\"white\",\"linecolor\":\"white\",\"ticks\":\"\",\"title\":{\"standoff\":15},\"zerolinecolor\":\"white\",\"automargin\":true,\"zerolinewidth\":2},\"yaxis\":{\"gridcolor\":\"white\",\"linecolor\":\"white\",\"ticks\":\"\",\"title\":{\"standoff\":15},\"zerolinecolor\":\"white\",\"automargin\":true,\"zerolinewidth\":2},\"scene\":{\"xaxis\":{\"backgroundcolor\":\"#E5ECF6\",\"gridcolor\":\"white\",\"linecolor\":\"white\",\"showbackground\":true,\"ticks\":\"\",\"zerolinecolor\":\"white\",\"gridwidth\":2},\"yaxis\":{\"backgroundcolor\":\"#E5ECF6\",\"gridcolor\":\"white\",\"linecolor\":\"white\",\"showbackground\":true,\"ticks\":\"\",\"zerolinecolor\":\"white\",\"gridwidth\":2},\"zaxis\":{\"backgroundcolor\":\"#E5ECF6\",\"gridcolor\":\"white\",\"linecolor\":\"white\",\"showbackground\":true,\"ticks\":\"\",\"zerolinecolor\":\"white\",\"gridwidth\":2}},\"shapedefaults\":{\"line\":{\"color\":\"#2a3f5f\"}},\"annotationdefaults\":{\"arrowcolor\":\"#2a3f5f\",\"arrowhead\":0,\"arrowwidth\":1},\"geo\":{\"bgcolor\":\"white\",\"landcolor\":\"#E5ECF6\",\"subunitcolor\":\"white\",\"showland\":true,\"showlakes\":true,\"lakecolor\":\"white\"},\"title\":{\"x\":0.05},\"mapbox\":{\"style\":\"light\"}}},\"legend\":{\"tracegroupgap\":0},\"margin\":{\"t\":60}},                        {\"responsive\": true}                    ).then(function(){\n",
       "                            \n",
       "var gd = document.getElementById('97fdebc4-2dfc-45cc-8f6a-66b78b9f0f3b');\n",
       "var x = new MutationObserver(function (mutations, observer) {{\n",
       "        var display = window.getComputedStyle(gd).display;\n",
       "        if (!display || display === 'none') {{\n",
       "            console.log([gd, 'removed!']);\n",
       "            Plotly.purge(gd);\n",
       "            observer.disconnect();\n",
       "        }}\n",
       "}});\n",
       "\n",
       "// Listen for the removal of the full notebook cells\n",
       "var notebookContainer = gd.closest('#notebook-container');\n",
       "if (notebookContainer) {{\n",
       "    x.observe(notebookContainer, {childList: true});\n",
       "}}\n",
       "\n",
       "// Listen for the clearing of the current output cell\n",
       "var outputEl = gd.closest('.output');\n",
       "if (outputEl) {{\n",
       "    x.observe(outputEl, {childList: true});\n",
       "}}\n",
       "\n",
       "                        })                };                });            </script>        </div>"
      ]
     },
     "metadata": {},
     "output_type": "display_data"
    }
   ],
   "source": [
    "# Create the sunburst plot with the base category colors\n",
    "fig = px.sunburst(df, path=['Category', 'Subcategory', 'Gene'], color='Category')\n",
    "\n",
    "# Define the color scales\n",
    "color_scale = px.colors.sequential.Magma_r\n",
    "\n",
    "# Update the colors for each layer manually\n",
    "# You might need to adapt this section based on your specific DataFrame structure and desired colors\n",
    "\n",
    "# Color the 'Category' layer\n",
    "fig.data[0].marker.colors = px.colors.qualitative.Plotly\n",
    "\n",
    "# Color the 'Subcategory' layer\n",
    "subcategory_colors = {subcategory: px.colors.qualitative.Plotly[i % len(px.colors.qualitative.Plotly)]\n",
    "                      for i, subcategory in enumerate(df['Subcategory'].unique())}\n",
    "for trace in fig.data:\n",
    "    if trace.name in subcategory_colors:\n",
    "        trace.marker.colors = subcategory_colors[trace.name]\n",
    "\n",
    "# Color the 'Gene' layer with the 'Weight' using the magma_r color scale\n",
    "for trace in fig.data:\n",
    "    if trace.name == 'Gene':\n",
    "        trace.marker.colors = [color_scale[int(weight/max(df['Weight'])*len(color_scale))] for weight in df['Weight']]\n",
    "        trace.marker.colorbar = dict(title='Weight')\n",
    "\n",
    "fig.show()"
   ]
  }
 ],
 "metadata": {
  "kernelspec": {
   "display_name": "Python (pathway_motifs_env)",
   "language": "python",
   "name": "pathway_motifs_env"
  },
  "language_info": {
   "codemirror_mode": {
    "name": "ipython",
    "version": 3
   },
   "file_extension": ".py",
   "mimetype": "text/x-python",
   "name": "python",
   "nbconvert_exporter": "python",
   "pygments_lexer": "ipython3",
   "version": "3.10.14"
  }
 },
 "nbformat": 4,
 "nbformat_minor": 2
}
