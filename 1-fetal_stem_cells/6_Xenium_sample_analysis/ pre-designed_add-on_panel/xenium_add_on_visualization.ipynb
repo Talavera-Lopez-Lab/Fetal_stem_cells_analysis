{
 "cells": [
  {
   "cell_type": "markdown",
   "metadata": {},
   "source": [
    "#### Visualization of Xenium add-on panel healthy gut data after the labels transer \n",
    "- **Developed by:** Anna Maguza\n",
    "- **Affilation:** Faculty of Medicine, Würzburg University\n",
    "- **Created date:** 20th March 2024\n",
    "- **Last modified date:** 13th October 2024"
   ]
  },
  {
   "cell_type": "markdown",
   "metadata": {},
   "source": [
    "##### Import packages"
   ]
  },
  {
   "cell_type": "code",
   "execution_count": 2,
   "metadata": {},
   "outputs": [],
   "source": [
    "import anndata as ad\n",
    "import scanpy as sc\n",
    "import squidpy as sq\n",
    "import pandas as pd\n",
    "from scipy.io import mmread\n",
    "import matplotlib.pyplot as plt\n",
    "import numpy as np\n",
    "import scipy as sci\n",
    "from scipy.sparse import coo_matrix\n",
    "import seaborn as sns"
   ]
  },
  {
   "cell_type": "markdown",
   "metadata": {},
   "source": [
    "#### Set up working environment"
   ]
  },
  {
   "cell_type": "code",
   "execution_count": 3,
   "metadata": {},
   "outputs": [
    {
     "name": "stdout",
     "output_type": "stream",
     "text": [
      "-----\n",
      "anndata     0.10.5.post1\n",
      "scanpy      1.9.8\n",
      "-----\n",
      "PIL                         10.2.0\n",
      "anyio                       NA\n",
      "arrow                       1.3.0\n",
      "asciitree                   NA\n",
      "asttokens                   NA\n",
      "attr                        23.2.0\n",
      "attrs                       23.2.0\n",
      "babel                       2.14.0\n",
      "backcall                    0.2.0\n",
      "beta_ufunc                  NA\n",
      "binom_ufunc                 NA\n",
      "brotli                      1.1.0\n",
      "certifi                     2023.11.17\n",
      "cffi                        1.16.0\n",
      "charset_normalizer          3.3.2\n",
      "cloudpickle                 3.0.0\n",
      "comm                        0.2.1\n",
      "cycler                      0.12.1\n",
      "cython_runtime              NA\n",
      "dask                        2024.1.1\n",
      "dask_image                  2023.08.1\n",
      "datashader                  0.16.0\n",
      "datatree                    0.0.13\n",
      "dateutil                    2.8.2\n",
      "debugpy                     1.8.0\n",
      "decorator                   5.1.1\n",
      "defusedxml                  0.7.1\n",
      "docrep                      0.3.2\n",
      "exceptiongroup              1.2.0\n",
      "executing                   2.0.1\n",
      "fasteners                   0.19\n",
      "fastjsonschema              NA\n",
      "fqdn                        NA\n",
      "fsspec                      2023.6.0\n",
      "geopandas                   0.14.3\n",
      "h5py                        3.10.0\n",
      "hypergeom_ufunc             NA\n",
      "idna                        3.6\n",
      "igraph                      0.11.3\n",
      "imagecodecs                 2024.1.1\n",
      "imageio                     2.33.1\n",
      "importlib_resources         NA\n",
      "ipykernel                   6.29.0\n",
      "isoduration                 NA\n",
      "jedi                        0.19.1\n",
      "jinja2                      3.1.3\n",
      "joblib                      1.3.2\n",
      "json5                       NA\n",
      "jsonpointer                 2.4\n",
      "jsonschema                  4.21.1\n",
      "jsonschema_specifications   NA\n",
      "jupyter_events              0.9.0\n",
      "jupyter_server              2.12.5\n",
      "jupyterlab_server           2.25.2\n",
      "kiwisolver                  1.4.5\n",
      "lazy_loader                 NA\n",
      "leidenalg                   0.10.2\n",
      "llvmlite                    0.42.0\n",
      "markupsafe                  2.1.4\n",
      "matplotlib                  3.8.2\n",
      "matplotlib_scalebar         0.8.1\n",
      "mpl_toolkits                NA\n",
      "msgpack                     1.0.7\n",
      "multipledispatch            0.6.0\n",
      "multiscale_spatial_image    0.11.2\n",
      "natsort                     8.4.0\n",
      "nbformat                    5.9.2\n",
      "nbinom_ufunc                NA\n",
      "ncf_ufunc                   NA\n",
      "networkx                    3.2.1\n",
      "numba                       0.59.0\n",
      "numcodecs                   0.12.1\n",
      "numpy                       1.23.4\n",
      "ome_zarr                    NA\n",
      "overrides                   NA\n",
      "packaging                   23.2\n",
      "pandas                      2.2.0\n",
      "param                       2.0.2\n",
      "parso                       0.8.3\n",
      "patsy                       0.5.6\n",
      "pexpect                     4.9.0\n",
      "pickleshare                 0.7.5\n",
      "pkg_resources               NA\n",
      "platformdirs                4.2.0\n",
      "prometheus_client           NA\n",
      "prompt_toolkit              3.0.42\n",
      "psutil                      5.9.8\n",
      "ptyprocess                  0.7.0\n",
      "pure_eval                   0.2.2\n",
      "pyarrow                     15.0.0\n",
      "pycparser                   2.21\n",
      "pyct                        0.5.0\n",
      "pydev_ipython               NA\n",
      "pydevconsole                NA\n",
      "pydevd                      2.9.5\n",
      "pydevd_file_utils           NA\n",
      "pydevd_plugins              NA\n",
      "pydevd_tracing              NA\n",
      "pygeos                      0.14\n",
      "pygments                    2.17.2\n",
      "pyparsing                   3.1.1\n",
      "pyproj                      3.6.1\n",
      "pythonjsonlogger            NA\n",
      "pytz                        2023.4\n",
      "pywt                        1.5.0\n",
      "referencing                 NA\n",
      "requests                    2.31.0\n",
      "rfc3339_validator           0.1.4\n",
      "rfc3986_validator           0.1.1\n",
      "rich                        NA\n",
      "rpds                        NA\n",
      "scipy                       1.9.1\n",
      "seaborn                     0.13.2\n",
      "send2trash                  NA\n",
      "session_info                1.0.0\n",
      "setuptools                  69.0.3\n",
      "shapely                     2.0.2\n",
      "six                         1.16.0\n",
      "skimage                     0.20.0\n",
      "sklearn                     1.4.0\n",
      "sniffio                     1.3.0\n",
      "socks                       1.7.1\n",
      "spatial_image               0.3.0\n",
      "spatialdata                 0.0.15\n",
      "squidpy                     1.3.1\n",
      "stack_data                  0.6.2\n",
      "statsmodels                 0.14.1\n",
      "tblib                       3.0.0\n",
      "texttable                   1.7.0\n",
      "threadpoolctl               3.2.0\n",
      "tifffile                    2024.1.30\n",
      "tlz                         0.12.1\n",
      "toolz                       0.12.1\n",
      "tornado                     6.3.3\n",
      "tqdm                        4.66.1\n",
      "traitlets                   5.14.1\n",
      "typing_extensions           NA\n",
      "uri_template                NA\n",
      "urllib3                     1.26.18\n",
      "validators                  0.22.0\n",
      "vscode                      NA\n",
      "wcwidth                     0.2.13\n",
      "webcolors                   1.13\n",
      "websocket                   1.7.0\n",
      "xarray                      2023.12.0\n",
      "xarray_dataclasses          1.7.0\n",
      "xarray_schema               0.0.3\n",
      "xrspatial                   0.3.7\n",
      "yaml                        6.0.1\n",
      "zarr                        2.16.1\n",
      "zipp                        NA\n",
      "zmq                         25.1.2\n",
      "zoneinfo                    NA\n",
      "-----\n",
      "IPython             8.12.0\n",
      "jupyter_client      8.6.0\n",
      "jupyter_core        5.7.1\n",
      "jupyterlab          4.0.12\n",
      "notebook            7.0.7\n",
      "-----\n",
      "Python 3.9.18 | packaged by conda-forge | (main, Dec 23 2023, 16:33:10) [GCC 12.3.0]\n",
      "Linux-6.10.11-100.fc39.x86_64-x86_64-with-glibc2.38\n",
      "-----\n",
      "Session information updated at 2024-10-13 20:10\n"
     ]
    }
   ],
   "source": [
    "sc.settings.verbosity = 3\n",
    "sc.logging.print_versions()\n",
    "sc.settings.set_figure_params(dpi = 180, color_map = 'magma_r', dpi_save = 300, vector_friendly = True, format = 'svg')"
   ]
  },
  {
   "cell_type": "markdown",
   "metadata": {},
   "source": [
    "#### Data upload"
   ]
  },
  {
   "cell_type": "markdown",
   "metadata": {},
   "source": [
    "+ Load h5ad object"
   ]
  },
  {
   "cell_type": "code",
   "execution_count": 4,
   "metadata": {},
   "outputs": [],
   "source": [
    "adata_xenium = sc.read_h5ad('data/10X_Xenium_adult_colon_data/10X_Xenium_add-on_without_image.h5ad')"
   ]
  },
  {
   "cell_type": "markdown",
   "metadata": {},
   "source": [
    "#### Visualise predicted cell types - after cell types + Stem cells labels transfer"
   ]
  },
  {
   "cell_type": "markdown",
   "metadata": {},
   "source": [
    "+ Upload the object with cell types"
   ]
  },
  {
   "cell_type": "code",
   "execution_count": 5,
   "metadata": {},
   "outputs": [],
   "source": [
    "adata_full = sc.read_h5ad('data/10X_Xenium_adult_colon_data/Xenium_add_on_data_scANVI_cell_type_and_stem_cells.h5ad')"
   ]
  },
  {
   "cell_type": "code",
   "execution_count": 6,
   "metadata": {},
   "outputs": [],
   "source": [
    "adata_full.obs.index.name = 'cell_id'\n",
    "adata_xenium.obs.index.name = 'cell_id'\n",
    "del adata_xenium.obs['cell_id']"
   ]
  },
  {
   "cell_type": "code",
   "execution_count": 7,
   "metadata": {},
   "outputs": [],
   "source": [
    "adata_xenium.obs = adata_xenium.obs.merge(adata_full.obs[['C_scANVI']], on='cell_id', how='left')\n",
    "adata_xenium.obs.rename(columns={'C_scANVI':'Cell_Type'}, inplace=True)"
   ]
  },
  {
   "cell_type": "markdown",
   "metadata": {},
   "source": [
    "+ Visualize the cell types with standard color pallet"
   ]
  },
  {
   "cell_type": "code",
   "execution_count": 7,
   "metadata": {},
   "outputs": [],
   "source": [
    "sc.set_figure_params(scanpy=True, dpi=300, figsize=(10, 10))\n",
    "sq.pl.spatial_scatter(\n",
    "    adata_xenium,\n",
    "    library_id=\"spatial\",\n",
    "    img=True, img_res_key='lowres',\n",
    "    shape=None,\n",
    "    color=[\n",
    "        \"Cell_Type\",\n",
    "    ],\n",
    "    size=0.1,\n",
    "    alpha=1\n",
    ")"
   ]
  },
  {
   "cell_type": "code",
   "execution_count": 9,
   "metadata": {},
   "outputs": [
    {
     "data": {
      "text/plain": [
       "['#1f77b4',\n",
       " '#ff7f0e',\n",
       " '#279e68',\n",
       " '#d62728',\n",
       " '#aa40fc',\n",
       " '#8c564b',\n",
       " '#e377c2',\n",
       " '#b5bd61',\n",
       " '#17becf']"
      ]
     },
     "execution_count": 9,
     "metadata": {},
     "output_type": "execute_result"
    }
   ],
   "source": [
    "adata_xenium.uns['Cell_Type_colors']"
   ]
  },
  {
   "cell_type": "markdown",
   "metadata": {},
   "source": [
    "+ Change the color pallet to highlight stem cells"
   ]
  },
  {
   "cell_type": "code",
   "execution_count": 10,
   "metadata": {},
   "outputs": [],
   "source": [
    "# Define your custom color palette\n",
    "custom_colors = [\n",
    "    \"#41729F\",  # B cells\n",
    "    \"#A16AE8\",  # Endothelial\n",
    "    \"#B6E5D8\",  # Epithelial\n",
    "    \"#EC9EC0\",  # Mesenchymal + \n",
    "    \"#FBE5C8\",  # Myeloid + \n",
    "    \"#4D5D53\",  # Neuronal + \n",
    "    \"#870052\",  # Plasma cells + \n",
    "    \"#FF0000FF\",  # Stem cells + \n",
    "    \"#ffde17\"   # T cells +\n",
    "]\n",
    "\n",
    "# Update the color codes in the AnnData object\n",
    "adata_xenium.uns['Cell_Type_colors'] = custom_colors\n",
    "\n",
    "# Now, when you plot using sq.pl.spatial_scatter, it should use your updated custom colors\n",
    "sq.pl.spatial_scatter(\n",
    "    adata_xenium,\n",
    "    library_id=\"spatial\",\n",
    "    img=True,\n",
    "    img_res_key='lowres',\n",
    "    shape=None,\n",
    "    color=\"Cell_Type\",\n",
    "    size=0.1,\n",
    "    alpha=1\n",
    ")"
   ]
  },
  {
   "cell_type": "markdown",
   "metadata": {},
   "source": [
    "+ Add stem cells types"
   ]
  },
  {
   "cell_type": "code",
   "execution_count": 8,
   "metadata": {},
   "outputs": [],
   "source": [
    "adata_stem_cells = sc.read_h5ad('data/10X_Xenium_adult_colon_data/Stem_cells_scRNA_and_Xenium_add_on_scANVI_7K_cells.h5ad')"
   ]
  },
  {
   "cell_type": "code",
   "execution_count": 9,
   "metadata": {},
   "outputs": [],
   "source": [
    "adata_stem_cells = adata_stem_cells[adata_stem_cells.obs['Study_name'] == '10X_Xenium_gut_data']\n",
    "adata_stem_cells = adata_stem_cells[adata_stem_cells.obs.index.isin(adata_xenium.obs.index)]"
   ]
  },
  {
   "cell_type": "code",
   "execution_count": 10,
   "metadata": {},
   "outputs": [],
   "source": [
    "adata_xenium.obs['Stem_cells'] = 'Unknown'\n",
    "adata_xenium.obs.loc[adata_stem_cells.obs.index, 'Stem_cells'] = adata_stem_cells.obs['C_scANVI']"
   ]
  },
  {
   "cell_type": "code",
   "execution_count": 11,
   "metadata": {},
   "outputs": [],
   "source": [
    "adata_xenium.obs['CellType2'] = adata_xenium.obs['Cell_Type'].copy()\n",
    "adata_xenium.obs['CellType2'] = adata_xenium.obs['CellType2'].cat.add_categories(['MTRNR2L12+ASS1+_SC',\n",
    "                                                                                  'RPS10+_RPS17+_SC',\n",
    "                                                                                  'FXYD3+_CKB+_SC'])\n",
    "\n",
    "adata_xenium.obs.loc[(adata_xenium.obs['Stem_cells'] == 'MTRNR2L12+ASS1+_SC'), 'CellType2'] = 'MTRNR2L12+ASS1+_SC'\n",
    "adata_xenium.obs.loc[(adata_xenium.obs['Stem_cells'] == 'RPS10+_RPS17+_SC'), 'CellType2'] = 'RPS10+_RPS17+_SC'\n",
    "adata_xenium.obs.loc[(adata_xenium.obs['Stem_cells'] == 'FXYD3+_CKB+_SC'), 'CellType2'] = 'FXYD3+_CKB+_SC'"
   ]
  },
  {
   "cell_type": "code",
   "execution_count": 12,
   "metadata": {},
   "outputs": [],
   "source": [
    "adata_xenium.obs['CellType2'] = adata_xenium.obs['CellType2'].cat.remove_unused_categories()"
   ]
  },
  {
   "cell_type": "markdown",
   "metadata": {},
   "source": [
    "+ Visualize cell types + stem cells populations with the standard color pallet"
   ]
  },
  {
   "cell_type": "code",
   "execution_count": 16,
   "metadata": {},
   "outputs": [],
   "source": [
    "sc.set_figure_params(scanpy=True, dpi=300, figsize=(10, 10))\n",
    "sq.pl.spatial_scatter(\n",
    "    adata_xenium,\n",
    "    library_id=\"spatial\",\n",
    "    img=True, img_res_key='lowres',\n",
    "    shape=None,\n",
    "    color=[\n",
    "        \"CellType2\",\n",
    "    ],\n",
    "    size=0.1,\n",
    "    alpha=1\n",
    ")"
   ]
  },
  {
   "cell_type": "markdown",
   "metadata": {},
   "source": [
    "+ Change color pallete"
   ]
  },
  {
   "cell_type": "code",
   "execution_count": 17,
   "metadata": {},
   "outputs": [],
   "source": [
    "# Define your custom color palette\n",
    "custom_colors = [\n",
    "    \"#41729F\",  # B cells\n",
    "    \"#A16AE8\",  # Endothelial\n",
    "    \"#B6E5D8\",  # Epithelial\n",
    "    \"#EC9EC0\",  # Mesenchymal + \n",
    "    \"#FBE5C8\",  # Myeloid + \n",
    "    \"#4D5D53\",  # Neuronal + \n",
    "    \"#870052\",  # Plasma cells +  \n",
    "    \"#ffde17\",   # T cells +\n",
    "    \"#00B1B0\",  # Stem cells MTRN\n",
    "    \"#508FF7\",  # Stem cells RPS\n",
    "    \"#FF0000FF\"  # Stem cells FXYD\n",
    "]\n",
    "\n",
    "# Update the color codes in the AnnData object\n",
    "adata_xenium.uns['CellType2_colors'] = custom_colors\n",
    "\n",
    "# Now, when you plot using sq.pl.spatial_scatter, it should use your updated custom colors\n",
    "sq.pl.spatial_scatter(\n",
    "    adata_xenium,\n",
    "    library_id=\"spatial\",\n",
    "    img=True,\n",
    "    img_res_key='lowres',\n",
    "    shape=None,\n",
    "    color=\"CellType2\",\n",
    "    size=0.1,\n",
    "    alpha=1\n",
    ")"
   ]
  },
  {
   "cell_type": "code",
   "execution_count": null,
   "metadata": {},
   "outputs": [],
   "source": [
    "adata_xenium.write_h5ad('data/10X_Xenium_adult_colon_data/Xenium_add_on_celltypes_and_stem_cells_types_without_image.h5ad')"
   ]
  },
  {
   "cell_type": "markdown",
   "metadata": {},
   "source": [
    "+ Visualise only Stem cells"
   ]
  },
  {
   "cell_type": "code",
   "execution_count": null,
   "metadata": {},
   "outputs": [],
   "source": [
    "custom_colors = [\n",
    "    \"#41729F\",  # B cells\n",
    "    \"#A16AE8\",  # Endothelial\n",
    "    \"#B6E5D8\",  # Epithelial\n",
    "    \"#EC9EC0\",  # Mesenchymal + \n",
    "    \"#FBE5C8\",  # Myeloid + \n",
    "    \"#4D5D53\",  # Neuronal + \n",
    "    \"#870052\",  # Plasma cells +  \n",
    "    \"#ffde17\",   # T cells +\n",
    "    \"#00B1B0\",  # Stem cells MTRN\n",
    "    '#FFDB15',  # Stem cells RPS\n",
    "    \"#FF0000FF\"  # Stem cells FXYD\n",
    "]\n",
    "\n",
    "# Update the color codes in the AnnData object\n",
    "adata_xenium.uns['CellType2_colors'] = custom_colors"
   ]
  },
  {
   "cell_type": "code",
   "execution_count": null,
   "metadata": {},
   "outputs": [],
   "source": [
    "sc.set_figure_params(scanpy=True, dpi=300, figsize=(20, 10))\n",
    "\n",
    "cell_types_of_interest = ['MTRNR2L12+ASS1+_SC', 'RPS10+_RPS17+_SC', 'FXYD3+_CKB+_SC']\n",
    "\n",
    "stem_cells_mask = adata_xenium.obs['CellType2'].isin(cell_types_of_interest)"
   ]
  },
  {
   "cell_type": "code",
   "execution_count": null,
   "metadata": {},
   "outputs": [],
   "source": [
    "adata_stem_cells = adata_xenium[stem_cells_mask, :]"
   ]
  },
  {
   "cell_type": "code",
   "execution_count": null,
   "metadata": {},
   "outputs": [],
   "source": [
    "sq.pl.spatial_scatter(\n",
    "    adata_stem_cells,  # Use the filtered AnnData object.\n",
    "    library_id=\"spatial\",\n",
    "    img=True,\n",
    "    shape=None,  # Assuming you want the default shape.\n",
    "    color=\"CellType2\",  # This will now only show 'Stem cells'.\n",
    "    size=0.1,\n",
    "    alpha=1\n",
    ")"
   ]
  },
  {
   "cell_type": "markdown",
   "metadata": {},
   "source": [
    "+ Add other cell states"
   ]
  },
  {
   "cell_type": "code",
   "execution_count": 13,
   "metadata": {},
   "outputs": [],
   "source": [
    "adata_scvi = sc.read_h5ad('data/10X_Xenium_adult_colon_data/Xenium_add_on_data_scANVI_cell_states.h5ad')"
   ]
  },
  {
   "cell_type": "code",
   "execution_count": 14,
   "metadata": {},
   "outputs": [],
   "source": [
    "adata_scvi.obs.index.name = 'cell_id'"
   ]
  },
  {
   "cell_type": "code",
   "execution_count": 15,
   "metadata": {},
   "outputs": [],
   "source": [
    "adata_xenium.obs = adata_xenium.obs.merge(adata_scvi.obs[['C_scANVI']], on='cell_id', how='left')"
   ]
  },
  {
   "cell_type": "code",
   "execution_count": 16,
   "metadata": {},
   "outputs": [],
   "source": [
    "adata_xenium.obs['C_scANVI'] = adata_xenium.obs['C_scANVI'].cat.add_categories(['MTRNR2L12+ASS1+_SC',\n",
    "                                                                                  'RPS10+_RPS17+_SC',\n",
    "                                                                                  'FXYD3+_CKB+_SC'])\n",
    "\n",
    "adata_xenium.obs.loc[(adata_xenium.obs['Stem_cells'] == 'MTRNR2L12+ASS1+_SC'), 'C_scANVI'] = 'MTRNR2L12+ASS1+_SC'\n",
    "adata_xenium.obs.loc[(adata_xenium.obs['Stem_cells'] == 'RPS10+_RPS17+_SC'), 'C_scANVI'] = 'RPS10+_RPS17+_SC'\n",
    "adata_xenium.obs.loc[(adata_xenium.obs['Stem_cells'] == 'FXYD3+_CKB+_SC'), 'C_scANVI'] = 'FXYD3+_CKB+_SC'"
   ]
  },
  {
   "cell_type": "code",
   "execution_count": 17,
   "metadata": {},
   "outputs": [],
   "source": [
    "df = adata_xenium.obs['C_scANVI'].value_counts()\n",
    "\n",
    "cell_types_to_keep = df[df >= 10].index\n",
    "\n",
    "adata_xenium = adata_xenium[adata_xenium.obs['C_scANVI'].isin(cell_types_to_keep), :]"
   ]
  },
  {
   "cell_type": "code",
   "execution_count": 18,
   "metadata": {},
   "outputs": [
    {
     "name": "stderr",
     "output_type": "stream",
     "text": [
      "/tmp/ipykernel_1636067/3728328697.py:6: ImplicitModificationWarning: Trying to modify attribute `.obs` of view, initializing view as actual.\n",
      "  adata_xenium.obs['C_scANVI'] = adata_xenium.obs['C_scANVI'].cat.add_categories(['Arterial capillary',\n"
     ]
    }
   ],
   "source": [
    "adata_xenium.obs.loc[(adata_xenium.obs['C_scANVI'] == 'B cells AICDA LRMP'), 'C_scANVI'] = 'B cells'\n",
    "adata_xenium.obs.loc[(adata_xenium.obs['C_scANVI'] == 'Naive B'), 'C_scANVI'] = 'B cells'\n",
    "adata_xenium.obs.loc[(adata_xenium.obs['C_scANVI'] == 'Memory B'), 'C_scANVI'] = 'B cells'\n",
    "adata_xenium.obs.loc[(adata_xenium.obs['C_scANVI'] == 'Enterocyte'), 'C_scANVI'] = 'Colonocyte'\n",
    "\n",
    "adata_xenium.obs['C_scANVI'] = adata_xenium.obs['C_scANVI'].cat.add_categories(['Arterial capillary',\n",
    "                                                                                  'Gamma delta T cells'])\n",
    "adata_xenium.obs.loc[(adata_xenium.obs['C_scANVI'] == 'arterial capillary'), 'C_scANVI'] = 'Arterial capillary'\n",
    "adata_xenium.obs.loc[(adata_xenium.obs['C_scANVI'] == 'gdT'), 'C_scANVI'] = 'Gamma delta T cells'"
   ]
  },
  {
   "cell_type": "code",
   "execution_count": 19,
   "metadata": {},
   "outputs": [],
   "source": [
    "adata_xenium.obs['C_scANVI'] = adata_xenium.obs['C_scANVI'].cat.remove_unused_categories()"
   ]
  },
  {
   "cell_type": "markdown",
   "metadata": {},
   "source": [
    "+ Add deep crypt secretory cells"
   ]
  },
  {
   "cell_type": "code",
   "execution_count": 20,
   "metadata": {},
   "outputs": [
    {
     "name": "stdout",
     "output_type": "stream",
     "text": [
      "normalizing counts per cell The following highly-expressed genes are not considered during normalization factor computation:\n",
      "['ABCA8', 'ABCC8', 'ACACB', 'ACKR1', 'ACTA2', 'ADAM28', 'ADH1C', 'ADRA2A', 'AFAP1L2', 'AGTR1', 'AKR1C3', 'AKR7A3', 'ALDH1B1', 'ANK2', 'ANO7', 'ANPEP', 'ANXA1', 'ANXA13', 'APOB', 'APOE', 'AQP1', 'AQP8', 'AREG', 'ARHGAP24', 'ARX', 'ASCL2', 'ATOH1', 'AVIL', 'AZGP1', 'B3GNT6', 'BANK1', 'BATF', 'BCAS1', 'BEST2', 'BEST4', 'BMP4', 'BMP5', 'BMX', 'BRCA2', 'C1QA', 'C1QB', 'C1QBP', 'C1QC', 'C2orf88', 'C7', 'CA1', 'CA2', 'CA4', 'CA7', 'CADM2', 'CADPS', 'CALB2', 'CCDC80', 'CCL11', 'CCL13', 'CCL20', 'CCL4', 'CCL5', 'CCR7', 'CD14', 'CD163', 'CD177', 'CD2', 'CD24', 'CD36', 'CD3D', 'CD3E', 'CD3G', 'CD40LG', 'CD5', 'CD6', 'CD7', 'CD79A', 'CD79B', 'CD83', 'CD8A', 'CD8B', 'CDCA7', 'CDH1', 'CDH19', 'CDHR5', 'CDK15', 'CDK6', 'CDKN2B', 'CEACAM1', 'CEACAM5', 'CEACAM6', 'CEACAM7', 'CEP126', 'CES1', 'CES2', 'CFTR', 'CHGA', 'CHGB', 'CHI3L2', 'CHP2', 'CHRM3', 'CKAP4', 'CLCA1', 'CLCA4', 'CLEC9A', 'CLU', 'CMA1', 'CMBL', 'COL11A1', 'COL17A1', 'COL19A1', 'COL1A1', 'COL5A2', 'CPA3', 'CPE', 'CR2', 'CREB3L1', 'CRYBA2', 'CST7', 'CTLA4', 'CTNNB1', 'CTSB', 'CTSE', 'CTSG', 'CXCL1', 'CXCL10', 'CXCL11', 'CXCL13', 'CXCL14', 'CXCL2', 'CXCL3', 'CXCR1', 'CXCR2', 'CXCR3', 'CXCR4', 'CXCR5', 'CYB5R3', 'CYBB', 'DEPP1', 'DERL3', 'DMBT1', 'DNAJC12', 'DNASE1L3', 'DOCK10', 'DPYSL3', 'DUOX2', 'EBPL', 'EGFR', 'EPCAM', 'EPHB3', 'ETS1', 'ETV1', 'F3', 'FABP2', 'FCER2', 'FCN1', 'FCRL1', 'FCRLA', 'FERMT1', 'FEV', 'FFAR4', 'FKBP11', 'FOXA3', 'FOXP3', 'FRZB', 'FYB1', 'FZD7', 'GALNT5', 'GALNT8', 'GATA2', 'GCG', 'GIMAP7', 'GNA11', 'GNLY', 'GNPTAB', 'GPR183', 'GPRC5C', 'GPRIN3', 'GPX2', 'GREM1', 'GREM2', 'GUCA2A', 'GUCA2B', 'GZMA', 'GZMB', 'GZMK', 'HAVCR2', 'HDC', 'HEPACAM2', 'HES1', 'HES6', 'HHIP', 'HHLA2', 'HMGB2', 'HPGDS', 'HRCT1', 'HTR3E', 'ICOS', 'ID2', 'IDO1', 'IER5', 'IFI27', 'IFITM1', 'IFNG', 'IGFBP7', 'IL17RB', 'IL1B', 'IL1RAPL1', 'IL1RL1', 'IL22', 'IL32', 'IL4I1', 'IL7R', 'IMPDH2', 'INHBA', 'INSL5', 'INSM1', 'IRF8', 'ISL1', 'ITK', 'ITLN1', 'KCNAB1', 'KIF5C', 'KIT', 'KLK1', 'KLRB1', 'KLRC2', 'KLRD1', 'KRT1', 'KRT8', 'KRT86', 'KRTCAP3', 'L1TD1', 'LAG3', 'LAMA2', 'LCN2', 'LCT', 'LEF1', 'LEFTY1', 'LEPROTL1', 'LGALS2', 'LGALS9', 'LGR5', 'LILRA4', 'LMCD1', 'LRMP', 'LTB', 'LYVE1', 'MAF', 'MAOB', 'MB', 'MBP', 'MCEMP1', 'MEIS2', 'MFAP5', 'MKI67', 'MLPH', 'MMP1', 'MMP3', 'MS4A1', 'MS4A12', 'MS4A2', 'MS4A7', 'MS4A8', 'MT1A', 'MUC12', 'MYH14', 'NET1', 'NEUROD1', 'NID1', 'NKG7', 'NKX2-2', 'NOSIP', 'NOTCH3', 'NOVA1', 'NPNT', 'NRG1', 'NRG3', 'NRXN1', 'NUSAP1', 'NXPE4', 'ODF2L', 'OLFM4', 'OTOP2', 'PAPLN', 'PAX4', 'PAX5', 'PBK', 'PCDH11X', 'PCLAF', 'PDCD1', 'PDE4C', 'PDGFRA', 'PDGFRB', 'PDZK1IP1', 'PECAM1', 'PI3', 'PIGR', 'PKHD1L1', 'PLCE1', 'PLN', 'PLPP2', 'PLVAP', 'PLXND1', 'PPP1R1B', 'PRDX4', 'PRF1', 'PROX1', 'PRPH', 'PSTPIP2', 'PTGER4', 'PTPRB', 'PTTG1', 'RAB26', 'RAB3B', 'RAP1GAP', 'RARRES2', 'RBFOX3', 'RBP4', 'REG4', 'REP15', 'RETNLB', 'RFX6', 'RGMB', 'RGS13', 'RGS5', 'RHOV', 'RIIAD1', 'RNASE1', 'RNF43', 'ROBO1', 'ROBO2', 'RORA', 'RORC', 'RRM2', 'RSPO3', 'RUNX1', 'RUNX1T1', 'S100A12', 'S100P', 'SCG2', 'SCG3', 'SCG5', 'SCGN', 'SCNN1A', 'SDCBP2', 'SEC11C', 'SELENBP1', 'SELENOK', 'SELENOM', 'SELL', 'SERPINA1', 'SERPINE1', 'SFRP2', 'SFRP4', 'SFXN1', 'SH2D6', 'SH2D7', 'SIT1', 'SLC12A2', 'SLC18A2', 'SLC26A2', 'SLC26A3', 'SLC29A4', 'SLC6A8', 'SLPI', 'SMIM14', 'SMIM6', 'SMOC2', 'SNCA', 'SOCS3', 'SOD3', 'SOX4', 'SOX6', 'SOX9', 'SPDEF', 'SPIB', 'SPOCK2', 'STMN1', 'STXBP6', 'SULT1B1', 'SVOPL', 'TAGLN', 'TBC1D4', 'TCF21', 'TCL1A', 'TFF1', 'THBS1', 'THBS2', 'TIGIT', 'TIMP3', 'TK1', 'TKT', 'TMIGD1', 'TNC', 'TNFAIP3', 'TNFRSF17', 'TNFRSF25', 'TNFSF13B', 'TNXB', 'TOP2A', 'TOX', 'TPSG1', 'TRAC', 'TRAT1', 'TRBC1', 'TRBC2', 'TRDV1', 'TRGV4', 'TRPM5', 'TTR', 'TUBA1A', 'TUBB', 'TYMS', 'UBE2C', 'UCN3', 'UGT2A3', 'UGT2B17', 'VCAN', 'VPREB3', 'VWA5B2', 'VWF', 'WFDC2', 'WNT5B', 'XCL2', 'ZEB2']\n",
      "    finished (0:00:00)\n"
     ]
    },
    {
     "name": "stderr",
     "output_type": "stream",
     "text": [
      "/home/amaguza/miniforge3/envs/squidpy_env/lib/python3.9/site-packages/scanpy/preprocessing/_normalization.py:196: UserWarning: Some cells have zero counts\n",
      "  warn(UserWarning('Some cells have zero counts'))\n"
     ]
    }
   ],
   "source": [
    "adata_xenium_log = adata_xenium.copy()\n",
    "sc.pp.normalize_total(adata_xenium_log, target_sum = 1e6, exclude_highly_expressed = True)\n",
    "sc.pp.log1p(adata_xenium_log)"
   ]
  },
  {
   "cell_type": "code",
   "execution_count": 21,
   "metadata": {},
   "outputs": [
    {
     "name": "stdout",
     "output_type": "stream",
     "text": [
      "computing score 'REG4_score'\n",
      "    finished: added\n",
      "    'REG4_score', score of gene set (adata.obs).\n",
      "    17 total control genes are used. (0:00:00)\n"
     ]
    }
   ],
   "source": [
    "genes = ['REG4']\n",
    "sc.tl.score_genes(adata_xenium_log, genes, score_name = 'REG4_score')\n",
    "\n",
    "adata_xenium_log.obs['Cell_States'] = adata_xenium_log.obs['C_scANVI'].copy()\n",
    "adata_xenium_log.obs['Cell_States'] = adata_xenium_log.obs['Cell_States'].cat.add_categories('Deep crypt secretory cells')\n",
    "adata_xenium_log.obs.loc[adata_xenium_log.obs['REG4_score'] > 14, 'Cell_States'] = 'Deep crypt secretory cells' "
   ]
  },
  {
   "cell_type": "code",
   "execution_count": 22,
   "metadata": {},
   "outputs": [],
   "source": [
    "categories = sorted(adata_xenium_log.obs['Cell_States'].unique())"
   ]
  },
  {
   "cell_type": "code",
   "execution_count": 23,
   "metadata": {},
   "outputs": [],
   "source": [
    "adata_xenium_log.obs['Cell_States'] = pd.Categorical(\n",
    "    adata_xenium_log.obs['Cell_States'],\n",
    "    categories=categories,\n",
    "    ordered=True\n",
    ")"
   ]
  },
  {
   "cell_type": "markdown",
   "metadata": {},
   "source": [
    "+ Visualize with standard color map"
   ]
  },
  {
   "cell_type": "code",
   "execution_count": 24,
   "metadata": {},
   "outputs": [],
   "source": [
    "with plt.rc_context():\n",
    "    sc.set_figure_params(dpi = 300, figsize=(20,10))\n",
    "    sq.pl.spatial_scatter(\n",
    "    adata_xenium_log,\n",
    "    library_id=\"spatial\",\n",
    "    img=True,\n",
    "    img_res_key='lowres',\n",
    "    shape=None,\n",
    "    color=\"Cell_States\",\n",
    "    size=0.1,\n",
    "    alpha=1\n",
    ")\n",
    "    plt.savefig(\"data/10X_Xenium_adult_colon_data/Xenium_cell_annotation.png\", bbox_inches=\"tight\")"
   ]
  },
  {
   "cell_type": "code",
   "execution_count": 62,
   "metadata": {},
   "outputs": [],
   "source": [
    "with plt.rc_context():\n",
    "    sc.set_figure_params(dpi = 300, figsize=(20,10))\n",
    "    sq.pl.spatial_scatter(\n",
    "    adata_xenium_log,\n",
    "    library_id=\"spatial\",\n",
    "    img=True,\n",
    "    img_res_key='lowres',\n",
    "    shape=None,\n",
    "    color=\"LGR5\",\n",
    "    size=0.1,\n",
    "    alpha=1\n",
    ")\n",
    "    plt.savefig(\"data/10X_Xenium_adult_colon_data/LGR5_expression.png\", bbox_inches=\"tight\")"
   ]
  },
  {
   "cell_type": "code",
   "execution_count": null,
   "metadata": {},
   "outputs": [],
   "source": [
    "with plt.rc_context():\n",
    "    sc.set_figure_params(dpi = 300, figsize=(20,10))\n",
    "    sq.pl.spatial_scatter(\n",
    "    adata_xenium_log,\n",
    "    library_id=\"spatial\",\n",
    "    img=True,\n",
    "    img_res_key='lowres',\n",
    "    shape=None,\n",
    "    color=\"SMOC2\",\n",
    "    size=0.1,\n",
    "    alpha=1\n",
    ")\n",
    "    plt.savefig(\"data/10X_Xenium_adult_colon_data/SMOC2_expression.png\", bbox_inches=\"tight\")"
   ]
  },
  {
   "cell_type": "markdown",
   "metadata": {},
   "source": [
    "+ Visualize only fetal SC subsets"
   ]
  },
  {
   "cell_type": "code",
   "execution_count": 66,
   "metadata": {},
   "outputs": [],
   "source": [
    "# Define the custom color mapping\n",
    "custom_colors = {\n",
    "    'MTRNR2L12+ASS1+_SC': '#ba0900',\n",
    "    'RPS10+_RPS17+_SC': '#0000a6',\n",
    "    'FXYD3+_CKB+_SC': '#ff34ff'\n",
    "}\n",
    "\n",
    "# Create a color list where all categories are light grey except the specified ones\n",
    "all_categories = adata_xenium_log.obs['Cell_States'].cat.categories\n",
    "color_list = ['#D3D3D3' if cat not in custom_colors else custom_colors[cat] for cat in all_categories]\n",
    "\n",
    "# Update the color mapping in the AnnData object\n",
    "adata_xenium_log.uns['Cell_States_colors'] = color_list\n",
    "\n",
    "with plt.rc_context():\n",
    "    sc.set_figure_params(scanpy=True, dpi=300, figsize=(20, 10))\n",
    "    sq.pl.spatial_scatter(\n",
    "    adata_xenium_log,\n",
    "    library_id=\"spatial\",\n",
    "    img=True,\n",
    "    img_res_key='lowres',\n",
    "    shape=None,\n",
    "    color=\"Cell_States\",\n",
    "    size=0.1,\n",
    "    alpha=1\n",
    ")\n",
    "    plt.savefig(\"data/10X_Xenium_adult_colon_data/only_fetalSC_subsets.png\", bbox_inches=\"tight\")\n"
   ]
  },
  {
   "cell_type": "markdown",
   "metadata": {},
   "source": [
    "+ Calculate neighborhood enrichment"
   ]
  },
  {
   "cell_type": "code",
   "execution_count": 25,
   "metadata": {},
   "outputs": [
    {
     "name": "stdout",
     "output_type": "stream",
     "text": [
      "Creating graph using `generic` coordinates and `None` transform and `1` libraries.\n",
      "Adding `adata.obsp['spatial_connectivities']`\n",
      "       `adata.obsp['spatial_distances']`\n",
      "       `adata.uns['spatial_neighbors']`\n",
      "Finish (0:00:31)\n",
      "Calculating neighborhood enrichment using `1` core(s)\n"
     ]
    },
    {
     "name": "stderr",
     "output_type": "stream",
     "text": [
      "100%|███████████████████████████████████████████████████| 1000/1000 [00:24<00:00, 40.18/s]"
     ]
    },
    {
     "name": "stdout",
     "output_type": "stream",
     "text": [
      "Adding `adata.uns['Cell_States_nhood_enrichment']`\n",
      "Finish (0:00:24)\n"
     ]
    },
    {
     "name": "stderr",
     "output_type": "stream",
     "text": [
      "\n"
     ]
    }
   ],
   "source": [
    "sq.gr.spatial_neighbors(adata_xenium_log, coord_type=\"generic\", delaunay=True)\n",
    "sq.gr.nhood_enrichment(adata_xenium_log, cluster_key=\"Cell_States\") "
   ]
  },
  {
   "cell_type": "code",
   "execution_count": 26,
   "metadata": {},
   "outputs": [
    {
     "name": "stderr",
     "output_type": "stream",
     "text": [
      "/home/amaguza/miniforge3/envs/squidpy_env/lib/python3.9/site-packages/anndata/_core/anndata.py:522: FutureWarning: The dtype argument is deprecated and will be removed in late 2024.\n",
      "  warnings.warn(\n",
      "/home/amaguza/miniforge3/envs/squidpy_env/lib/python3.9/site-packages/squidpy/pl/_utils.py:556: FutureWarning: Series.__getitem__ treating keys as positions is deprecated. In a future version, integer keys will always be treated as labels (consistent with DataFrame behavior). To access a value by position, use `ser.iloc[pos]`\n",
      "  row_labels = adata.obs[key][row_order]\n"
     ]
    }
   ],
   "source": [
    "with plt.rc_context():\n",
    "    sc.set_figure_params(dpi=300, figsize=(15, 15))\n",
    "    sq.pl.nhood_enrichment(adata_xenium_log, cluster_key=\"Cell_States\", figsize=(15, 15), cmap=\"RdYlBu_r\")\n",
    "    plt.savefig(\"data/10X_Xenium_adult_colon_data/nhood_enrichment.png\", bbox_inches=\"tight\")\n",
    "    plt.close()"
   ]
  },
  {
   "cell_type": "code",
   "execution_count": 28,
   "metadata": {},
   "outputs": [
    {
     "name": "stdout",
     "output_type": "stream",
     "text": [
      "WARNING: `n_splits` was automatically set to `134` to prevent `274230x274230` distance matrix from being created\n",
      "Calculating co-occurrence probabilities for `50` intervals `9045` split combinations using `1` core(s)\n"
     ]
    },
    {
     "name": "stderr",
     "output_type": "stream",
     "text": [
      "100%|███████████████████████████████████████████████████| 9045/9045 [31:14<00:00,  4.83/s]\n"
     ]
    },
    {
     "name": "stdout",
     "output_type": "stream",
     "text": [
      "Adding `adata.uns['Cell_States_co_occurrence']`\n",
      "Finish (0:31:14)\n"
     ]
    }
   ],
   "source": [
    "sq.gr.co_occurrence(adata_xenium_log, cluster_key=\"Cell_States\")\n",
    "with plt.rc_context():\n",
    "    sc.set_figure_params(dpi=300, figsize=(4.5, 5))\n",
    "    sq.pl.co_occurrence(adata_xenium_log, cluster_key=\"Cell_States\", clusters=\"FXYD3+_CKB+_SC\", figsize=(10, 10))\n",
    "    plt.savefig(\"data/10X_Xenium_adult_colon_data/co_occurrence_FXYD3+_CKB+_SC.png\", bbox_inches=\"tight\")\n",
    "    plt.close() "
   ]
  },
  {
   "cell_type": "code",
   "execution_count": 33,
   "metadata": {},
   "outputs": [
    {
     "name": "stdout",
     "output_type": "stream",
     "text": [
      "WARNING: `n_splits` was automatically set to `134` to prevent `274230x274230` distance matrix from being created\n",
      "Calculating co-occurrence probabilities for `50` intervals `9045` split combinations using `1` core(s)\n"
     ]
    },
    {
     "name": "stderr",
     "output_type": "stream",
     "text": [
      "100%|███████████████████████████████████████████████████| 9045/9045 [31:16<00:00,  4.82/s]\n"
     ]
    },
    {
     "name": "stdout",
     "output_type": "stream",
     "text": [
      "Adding `adata.uns['Cell_States_co_occurrence']`\n",
      "Finish (0:31:17)\n"
     ]
    }
   ],
   "source": [
    "sq.gr.co_occurrence(adata_xenium_log, cluster_key=\"Cell_States\")\n",
    "with plt.rc_context():\n",
    "    sc.set_figure_params(dpi=300, figsize=(4.5, 5))\n",
    "    sq.pl.co_occurrence(adata_xenium_log, cluster_key=\"Cell_States\", clusters=\"MTRNR2L12+ASS1+_SC\", figsize=(10, 10))\n",
    "    plt.savefig(\"data/10X_Xenium_adult_colon_data/co_occurrence_MTRNR2L12+ASS1+_SC.png\", bbox_inches=\"tight\")\n",
    "    plt.close() "
   ]
  },
  {
   "cell_type": "code",
   "execution_count": 34,
   "metadata": {},
   "outputs": [
    {
     "name": "stdout",
     "output_type": "stream",
     "text": [
      "WARNING: `n_splits` was automatically set to `134` to prevent `274230x274230` distance matrix from being created\n",
      "Calculating co-occurrence probabilities for `50` intervals `9045` split combinations using `1` core(s)\n"
     ]
    },
    {
     "name": "stderr",
     "output_type": "stream",
     "text": []
    },
    {
     "ename": "",
     "evalue": "",
     "output_type": "error",
     "traceback": [
      "\u001b[1;31mFailed to connect to the remote Jupyter Server 'http://127.0.0.1:8888/'. Verify the server is running and reachable."
     ]
    }
   ],
   "source": [
    "sq.gr.co_occurrence(adata_xenium_log, cluster_key=\"Cell_States\")\n",
    "with plt.rc_context():\n",
    "    sc.set_figure_params(dpi=300, figsize=(4.5, 5))\n",
    "    sq.pl.co_occurrence(adata_xenium_log, cluster_key=\"Cell_States\", clusters=\"RPS10+_RPS17+_SC\", figsize=(10, 10))\n",
    "    plt.savefig(\"data/10X_Xenium_adult_colon_data/co_occurrence_RPS10+_RPS17+_SC.png\", bbox_inches=\"tight\")\n",
    "    plt.close() "
   ]
  }
 ],
 "metadata": {
  "kernelspec": {
   "display_name": "Python (squidpy_env)",
   "language": "python",
   "name": "squidpy_env"
  }
 },
 "nbformat": 4,
 "nbformat_minor": 2
}
