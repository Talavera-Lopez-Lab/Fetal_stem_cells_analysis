{
 "cells": [
  {
   "cell_type": "markdown",
   "metadata": {},
   "source": [
    "### Notebook which collects code for image manipulations from Xenium data\n",
    "- **Developed by:** Anna Maguza\n",
    "- **Place:** Wuerzburg Institute for System Immunology\n",
    "- **Date:** 26th March 2024"
   ]
  },
  {
   "cell_type": "markdown",
   "metadata": {},
   "source": [
    "##### Import packages"
   ]
  },
  {
   "cell_type": "markdown",
   "metadata": {},
   "source": [
    "+ Single cell packages"
   ]
  },
  {
   "cell_type": "code",
   "execution_count": 1,
   "metadata": {},
   "outputs": [],
   "source": [
    "import anndata as ad\n",
    "import scanpy as sc\n",
    "import squidpy as sq\n",
    "import pandas as pd\n",
    "import scipy as sci\n",
    "from scipy.io import mmread\n",
    "import matplotlib.pyplot as plt\n",
    "import scipy as sci\n",
    "from scipy.sparse import coo_matrix"
   ]
  },
  {
   "cell_type": "markdown",
   "metadata": {},
   "source": [
    "+ Image manipulation packages"
   ]
  },
  {
   "cell_type": "code",
   "execution_count": 2,
   "metadata": {},
   "outputs": [],
   "source": [
    "import numpy as np\n",
    "import tifffile as tf\n",
    "from scipy.ndimage import affine_transform\n",
    "from PIL import Image, ImageFile\n",
    "import json"
   ]
  },
  {
   "cell_type": "markdown",
   "metadata": {},
   "source": [
    "+ Load ome.tiff image"
   ]
  },
  {
   "cell_type": "code",
   "execution_count": 4,
   "metadata": {},
   "outputs": [],
   "source": [
    "ome_tiff_path = '/../Non-diseased_pre-designed_pallet/Xenium_V1_hColon_Non_diseased_Base_FFPE_he_image.ome.tif'\n",
    "img = tf.imread(ome_tiff_path)"
   ]
  },
  {
   "cell_type": "markdown",
   "metadata": {},
   "source": [
    "#### Convert ome.tiff to png"
   ]
  },
  {
   "cell_type": "markdown",
   "metadata": {},
   "source": [
    "+ Save level 1 (lowres)"
   ]
  },
  {
   "cell_type": "code",
   "execution_count": 5,
   "metadata": {},
   "outputs": [],
   "source": [
    "png_path = '/../Non-diseased_pre-designed_and_add-on_panel/Xenium_V1_hColon_Non_diseased_Base_FFPE_he_image_level1.png'"
   ]
  },
  {
   "cell_type": "code",
   "execution_count": 6,
   "metadata": {},
   "outputs": [
    {
     "name": "stdout",
     "output_type": "stream",
     "text": [
      "Converted level 1 of /mnt/LaCIE/annaM/gut_project/raw_data/Xenium_10X_datasets/Gut_samples/Non-diseased_pre-designed_pallet/Xenium_V1_hColon_Non_diseased_Base_FFPE_he_image.ome.tif to /mnt/LaCIE/annaM/gut_project/raw_data/Xenium_10X_datasets/Gut_samples/Non-diseased_pre-designed_and_add-on_panel/Xenium_V1_hColon_Non_diseased_Base_FFPE_he_image_level1.png\n"
     ]
    }
   ],
   "source": [
    "img = tf.imread(ome_tiff_path, series=0, level=1)  \n",
    "\n",
    "if img.dtype != np.uint8:\n",
    "    img = (255 * (img - img.min()) / (img.ptp())).astype(np.uint8)\n",
    "\n",
    "Image.fromarray(img).save(png_path)\n",
    "\n",
    "print(f\"Converted level 1 of {ome_tiff_path} to {png_path}\")"
   ]
  },
  {
   "cell_type": "markdown",
   "metadata": {},
   "source": [
    "+ Save level 0 (hires)"
   ]
  },
  {
   "cell_type": "code",
   "execution_count": 7,
   "metadata": {},
   "outputs": [
    {
     "name": "stdout",
     "output_type": "stream",
     "text": [
      "Converted level 1 of /mnt/LaCIE/annaM/gut_project/raw_data/Xenium_10X_datasets/Gut_samples/Non-diseased_pre-designed_pallet/Xenium_V1_hColon_Non_diseased_Base_FFPE_he_image.ome.tif to /mnt/LaCIE/annaM/gut_project/raw_data/Xenium_10X_datasets/Gut_samples/Non-diseased_pre-designed_and_add-on_panel/Xenium_V1_hColon_Non_diseased_Base_FFPE_he_image_level0.png\n"
     ]
    }
   ],
   "source": [
    "png_path = '/../Non-diseased_pre-designed_and_add-on_panel/Xenium_V1_hColon_Non_diseased_Base_FFPE_he_image_level0.png'\n",
    "img = tf.imread(ome_tiff_path, series=0, level=0)  \n",
    "\n",
    "if img.dtype != np.uint8:\n",
    "    img = (255 * (img - img.min()) / (img.ptp())).astype(np.uint8)\n",
    "\n",
    "Image.fromarray(img).save(png_path)\n",
    "\n",
    "print(f\"Converted level 1 of {ome_tiff_path} to {png_path}\")"
   ]
  },
  {
   "cell_type": "markdown",
   "metadata": {},
   "source": [
    "#### Change png "
   ]
  },
  {
   "cell_type": "markdown",
   "metadata": {},
   "source": [
    "+ Load png image"
   ]
  },
  {
   "cell_type": "code",
   "execution_count": null,
   "metadata": {},
   "outputs": [],
   "source": [
    "Image.MAX_IMAGE_PIXELS = None\n",
    "hires = np.asarray(Image.open(png_path))"
   ]
  },
  {
   "cell_type": "markdown",
   "metadata": {},
   "source": [
    "+ Rotate png image (level - 1)"
   ]
  },
  {
   "cell_type": "code",
   "execution_count": 12,
   "metadata": {},
   "outputs": [],
   "source": [
    "Image.MAX_IMAGE_PIXELS = None\n",
    "image_path = '/../Xenium_V1_hColon_Non_diseased_Base_FFPE_he_image_level1.png'\n",
    "image = Image.open(image_path)\n",
    "\n",
    "# Rotate the image\n",
    "rotated_image = image.rotate(-90)  # Rotate 90 degrees\n",
    "\n",
    "# Save the rotated image\n",
    "rotated_image_path = '/../Non-diseased_pre-designed_and_add-on_panel/Xenium_V1_hColon_Non_diseased_Base_FFPE_he_image_level1_rotated.png'\n",
    "rotated_image.save(rotated_image_path)"
   ]
  },
  {
   "cell_type": "markdown",
   "metadata": {},
   "source": [
    "+ Rotate png image (level - 0)"
   ]
  },
  {
   "cell_type": "code",
   "execution_count": 13,
   "metadata": {},
   "outputs": [],
   "source": [
    "Image.MAX_IMAGE_PIXELS = None\n",
    "image_path = '/../Non-diseased_pre-designed_and_add-on_panel/Xenium_V1_hColon_Non_diseased_Base_FFPE_he_image_level0.png'\n",
    "image = Image.open(image_path)\n",
    "\n",
    "# Rotate the image\n",
    "rotated_image = image.rotate(-90)  # Rotate 90 degrees\n",
    "\n",
    "# Save the rotated image\n",
    "rotated_image_path = '/../Non-diseased_pre-designed_and_add-on_panel/Xenium_V1_hColon_Non_diseased_Base_FFPE_he_image_level0_rotated.png'\n",
    "rotated_image.save(rotated_image_path)"
   ]
  },
  {
   "cell_type": "code",
   "execution_count": null,
   "metadata": {},
   "outputs": [],
   "source": [
    "original_image_path = png_path\n",
    "rotated_image_path = '/path_to_the_image/rotated_image.png'"
   ]
  },
  {
   "cell_type": "code",
   "execution_count": null,
   "metadata": {},
   "outputs": [],
   "source": [
    "!magick convert original_image_path -rotate -90 rotated_image_path"
   ]
  },
  {
   "cell_type": "markdown",
   "metadata": {},
   "source": [
    "+ Reduce png image size"
   ]
  },
  {
   "cell_type": "code",
   "execution_count": null,
   "metadata": {},
   "outputs": [],
   "source": [
    "import io\n",
    "\n",
    "hires_image = Image.fromarray(hires)\n",
    "\n",
    "buf = io.BytesIO()\n",
    "hires_image.save(buf, format=\"PNG\", quality=40) \n",
    "buf.seek(0)\n",
    "\n",
    "# Load the image back from the buffer\n",
    "compressed_image = Image.open(buf)\n"
   ]
  },
  {
   "cell_type": "code",
   "execution_count": null,
   "metadata": {},
   "outputs": [],
   "source": [
    "# Specify the path where you want to save the compressed image\n",
    "compressed_image_path = '/path_to_the_image/compressed_image.png'  \n",
    "\n",
    "# Save the compressed image to the specified path\n",
    "compressed_image.save(compressed_image_path)"
   ]
  },
  {
   "cell_type": "markdown",
   "metadata": {},
   "source": [
    "+ Create scale_factors.json for Xenium data"
   ]
  },
  {
   "cell_type": "code",
   "execution_count": null,
   "metadata": {},
   "outputs": [],
   "source": [
    "scale_factors_data = {\n",
    "    'level0': {'pixel_size': 0.2125, 'x_pixels': 35416, 'y_pixels': 25778},\n",
    "    'level1': {'pixel_size': 0.4250, 'x_pixels': 17708, 'y_pixels': 12889},\n",
    "    'level2': {'pixel_size': 0.8500, 'x_pixels':  8854, 'y_pixels':  6444},\n",
    "    'level3': {'pixel_size': 1.7000, 'x_pixels':  4427, 'y_pixels':  3222},\n",
    "    'level4': {'pixel_size': 3.4000, 'x_pixels':  2213, 'y_pixels':  1611},\n",
    "    'level5': {'pixel_size': 6.8000, 'x_pixels':  1106, 'y_pixels':   805},\n",
    "    'level6': {'pixel_size':13.6000, 'x_pixels':   553, 'y_pixels':   402},\n",
    "    'level7': {'pixel_size':27.2000, 'x_pixels':   276, 'y_pixels':   201}\n",
    "}\n",
    "\n",
    "json_str = json.dumps(scale_factors_data, indent=4)\n",
    "\n",
    "with open('path/scale_factors_data.json', 'w') as f:\n",
    "    f.write(json_str)"
   ]
  },
  {
   "cell_type": "code",
   "execution_count": null,
   "metadata": {},
   "outputs": [],
   "source": [
    "scale_factors = {\"tissue_hires_scalef\": 0.000006000112943,\n",
    "                \"tissue_lowres_scalef\": 0.000024000451773}\n",
    "\n",
    "json_str = json.dumps(scale_factors, indent=4)\n",
    "\n",
    "with open('path/scale_factors.json', 'w') as f:\n",
    "    f.write(json_str)\n"
   ]
  },
  {
   "cell_type": "markdown",
   "metadata": {},
   "source": [
    "#### Manual adding of image to the anndata"
   ]
  },
  {
   "cell_type": "markdown",
   "metadata": {},
   "source": [
    "+ Load h5ad object"
   ]
  },
  {
   "cell_type": "code",
   "execution_count": 5,
   "metadata": {},
   "outputs": [],
   "source": [
    "adata_xenium = sc.read_10x_h5('/../Non-diseased_pre-designed_and_add-on_panel/outs/cell_feature_matrix.h5')"
   ]
  },
  {
   "cell_type": "markdown",
   "metadata": {},
   "source": [
    "+ Load ome.tiff image"
   ]
  },
  {
   "cell_type": "code",
   "execution_count": null,
   "metadata": {},
   "outputs": [],
   "source": [
    "ome_tiff_path = '/path/image.ome.tif'\n",
    "img = tf.imread(ome_tiff_path)"
   ]
  },
  {
   "cell_type": "markdown",
   "metadata": {},
   "source": [
    "+ Load coordinates"
   ]
  },
  {
   "cell_type": "code",
   "execution_count": 15,
   "metadata": {},
   "outputs": [],
   "source": [
    "coords = pd.read_csv(\"/../cells.csv\", header=0)"
   ]
  },
  {
   "cell_type": "markdown",
   "metadata": {},
   "source": [
    "+ Load nucleus boundaries"
   ]
  },
  {
   "cell_type": "code",
   "execution_count": null,
   "metadata": {},
   "outputs": [],
   "source": [
    "nucleus_boundaries = pd.read_csv(\"/path/nucleus_boundaries.csv\",header=0)"
   ]
  },
  {
   "cell_type": "markdown",
   "metadata": {},
   "source": [
    "#### Create anndata object"
   ]
  },
  {
   "cell_type": "markdown",
   "metadata": {},
   "source": [
    "+ Prepare obs"
   ]
  },
  {
   "cell_type": "code",
   "execution_count": 8,
   "metadata": {},
   "outputs": [],
   "source": [
    "adata_xenium.obs.index.name = 'cell_id'"
   ]
  },
  {
   "cell_type": "markdown",
   "metadata": {},
   "source": [
    "+ change cell coordinates"
   ]
  },
  {
   "cell_type": "code",
   "execution_count": 10,
   "metadata": {},
   "outputs": [
    {
     "data": {
      "text/html": [
       "<div>\n",
       "<style scoped>\n",
       "    .dataframe tbody tr th:only-of-type {\n",
       "        vertical-align: middle;\n",
       "    }\n",
       "\n",
       "    .dataframe tbody tr th {\n",
       "        vertical-align: top;\n",
       "    }\n",
       "\n",
       "    .dataframe thead th {\n",
       "        text-align: right;\n",
       "    }\n",
       "</style>\n",
       "<table border=\"1\" class=\"dataframe\">\n",
       "  <thead>\n",
       "    <tr style=\"text-align: right;\">\n",
       "      <th></th>\n",
       "      <th>cell_id</th>\n",
       "      <th>x_centroid</th>\n",
       "      <th>y_centroid</th>\n",
       "      <th>transcript_counts</th>\n",
       "      <th>control_probe_counts</th>\n",
       "      <th>control_codeword_counts</th>\n",
       "      <th>unassigned_codeword_counts</th>\n",
       "      <th>deprecated_codeword_counts</th>\n",
       "      <th>total_counts</th>\n",
       "      <th>cell_area</th>\n",
       "      <th>nucleus_area</th>\n",
       "    </tr>\n",
       "  </thead>\n",
       "  <tbody>\n",
       "    <tr>\n",
       "      <th>0</th>\n",
       "      <td>aaaagkoa-1</td>\n",
       "      <td>830.147217</td>\n",
       "      <td>836.563416</td>\n",
       "      <td>284</td>\n",
       "      <td>0</td>\n",
       "      <td>0</td>\n",
       "      <td>0</td>\n",
       "      <td>0</td>\n",
       "      <td>284</td>\n",
       "      <td>653.365805</td>\n",
       "      <td>23.120001</td>\n",
       "    </tr>\n",
       "    <tr>\n",
       "      <th>1</th>\n",
       "      <td>aaablbol-1</td>\n",
       "      <td>735.468018</td>\n",
       "      <td>854.389282</td>\n",
       "      <td>116</td>\n",
       "      <td>0</td>\n",
       "      <td>0</td>\n",
       "      <td>0</td>\n",
       "      <td>0</td>\n",
       "      <td>116</td>\n",
       "      <td>651.243461</td>\n",
       "      <td>12.643750</td>\n",
       "    </tr>\n",
       "    <tr>\n",
       "      <th>2</th>\n",
       "      <td>aaabogma-1</td>\n",
       "      <td>847.423462</td>\n",
       "      <td>846.633240</td>\n",
       "      <td>170</td>\n",
       "      <td>0</td>\n",
       "      <td>0</td>\n",
       "      <td>0</td>\n",
       "      <td>0</td>\n",
       "      <td>170</td>\n",
       "      <td>674.544087</td>\n",
       "      <td>18.152813</td>\n",
       "    </tr>\n",
       "    <tr>\n",
       "      <th>3</th>\n",
       "      <td>aaabpdim-1</td>\n",
       "      <td>1543.696045</td>\n",
       "      <td>4223.798340</td>\n",
       "      <td>61</td>\n",
       "      <td>0</td>\n",
       "      <td>0</td>\n",
       "      <td>0</td>\n",
       "      <td>0</td>\n",
       "      <td>61</td>\n",
       "      <td>172.406569</td>\n",
       "      <td>11.379375</td>\n",
       "    </tr>\n",
       "    <tr>\n",
       "      <th>4</th>\n",
       "      <td>aaabpfoj-1</td>\n",
       "      <td>1551.099121</td>\n",
       "      <td>4220.062988</td>\n",
       "      <td>105</td>\n",
       "      <td>0</td>\n",
       "      <td>0</td>\n",
       "      <td>0</td>\n",
       "      <td>0</td>\n",
       "      <td>105</td>\n",
       "      <td>283.490948</td>\n",
       "      <td>56.806565</td>\n",
       "    </tr>\n",
       "  </tbody>\n",
       "</table>\n",
       "</div>"
      ],
      "text/plain": [
       "      cell_id   x_centroid   y_centroid  transcript_counts  \\\n",
       "0  aaaagkoa-1   830.147217   836.563416                284   \n",
       "1  aaablbol-1   735.468018   854.389282                116   \n",
       "2  aaabogma-1   847.423462   846.633240                170   \n",
       "3  aaabpdim-1  1543.696045  4223.798340                 61   \n",
       "4  aaabpfoj-1  1551.099121  4220.062988                105   \n",
       "\n",
       "   control_probe_counts  control_codeword_counts  unassigned_codeword_counts  \\\n",
       "0                     0                        0                           0   \n",
       "1                     0                        0                           0   \n",
       "2                     0                        0                           0   \n",
       "3                     0                        0                           0   \n",
       "4                     0                        0                           0   \n",
       "\n",
       "   deprecated_codeword_counts  total_counts   cell_area  nucleus_area  \n",
       "0                           0           284  653.365805     23.120001  \n",
       "1                           0           116  651.243461     12.643750  \n",
       "2                           0           170  674.544087     18.152813  \n",
       "3                           0            61  172.406569     11.379375  \n",
       "4                           0           105  283.490948     56.806565  "
      ]
     },
     "execution_count": 10,
     "metadata": {},
     "output_type": "execute_result"
    }
   ],
   "source": [
    "coords.head()"
   ]
  },
  {
   "cell_type": "code",
   "execution_count": 16,
   "metadata": {},
   "outputs": [
    {
     "data": {
      "text/html": [
       "<div>\n",
       "<style scoped>\n",
       "    .dataframe tbody tr th:only-of-type {\n",
       "        vertical-align: middle;\n",
       "    }\n",
       "\n",
       "    .dataframe tbody tr th {\n",
       "        vertical-align: top;\n",
       "    }\n",
       "\n",
       "    .dataframe thead th {\n",
       "        text-align: right;\n",
       "    }\n",
       "</style>\n",
       "<table border=\"1\" class=\"dataframe\">\n",
       "  <thead>\n",
       "    <tr style=\"text-align: right;\">\n",
       "      <th></th>\n",
       "      <th>x_centroid</th>\n",
       "      <th>y_centroid</th>\n",
       "      <th>cell_id</th>\n",
       "      <th>transcript_counts</th>\n",
       "      <th>control_probe_counts</th>\n",
       "      <th>control_codeword_counts</th>\n",
       "      <th>unassigned_codeword_counts</th>\n",
       "      <th>deprecated_codeword_counts</th>\n",
       "      <th>total_counts</th>\n",
       "      <th>cell_area</th>\n",
       "      <th>nucleus_area</th>\n",
       "    </tr>\n",
       "  </thead>\n",
       "  <tbody>\n",
       "    <tr>\n",
       "      <th>0</th>\n",
       "      <td>836.563416</td>\n",
       "      <td>830.147217</td>\n",
       "      <td>aaaagkoa-1</td>\n",
       "      <td>284</td>\n",
       "      <td>0</td>\n",
       "      <td>0</td>\n",
       "      <td>0</td>\n",
       "      <td>0</td>\n",
       "      <td>284</td>\n",
       "      <td>653.365805</td>\n",
       "      <td>23.120001</td>\n",
       "    </tr>\n",
       "    <tr>\n",
       "      <th>1</th>\n",
       "      <td>854.389282</td>\n",
       "      <td>735.468018</td>\n",
       "      <td>aaablbol-1</td>\n",
       "      <td>116</td>\n",
       "      <td>0</td>\n",
       "      <td>0</td>\n",
       "      <td>0</td>\n",
       "      <td>0</td>\n",
       "      <td>116</td>\n",
       "      <td>651.243461</td>\n",
       "      <td>12.643750</td>\n",
       "    </tr>\n",
       "    <tr>\n",
       "      <th>2</th>\n",
       "      <td>846.633240</td>\n",
       "      <td>847.423462</td>\n",
       "      <td>aaabogma-1</td>\n",
       "      <td>170</td>\n",
       "      <td>0</td>\n",
       "      <td>0</td>\n",
       "      <td>0</td>\n",
       "      <td>0</td>\n",
       "      <td>170</td>\n",
       "      <td>674.544087</td>\n",
       "      <td>18.152813</td>\n",
       "    </tr>\n",
       "    <tr>\n",
       "      <th>3</th>\n",
       "      <td>4223.798340</td>\n",
       "      <td>1543.696045</td>\n",
       "      <td>aaabpdim-1</td>\n",
       "      <td>61</td>\n",
       "      <td>0</td>\n",
       "      <td>0</td>\n",
       "      <td>0</td>\n",
       "      <td>0</td>\n",
       "      <td>61</td>\n",
       "      <td>172.406569</td>\n",
       "      <td>11.379375</td>\n",
       "    </tr>\n",
       "    <tr>\n",
       "      <th>4</th>\n",
       "      <td>4220.062988</td>\n",
       "      <td>1551.099121</td>\n",
       "      <td>aaabpfoj-1</td>\n",
       "      <td>105</td>\n",
       "      <td>0</td>\n",
       "      <td>0</td>\n",
       "      <td>0</td>\n",
       "      <td>0</td>\n",
       "      <td>105</td>\n",
       "      <td>283.490948</td>\n",
       "      <td>56.806565</td>\n",
       "    </tr>\n",
       "  </tbody>\n",
       "</table>\n",
       "</div>"
      ],
      "text/plain": [
       "    x_centroid   y_centroid     cell_id  transcript_counts  \\\n",
       "0   836.563416   830.147217  aaaagkoa-1                284   \n",
       "1   854.389282   735.468018  aaablbol-1                116   \n",
       "2   846.633240   847.423462  aaabogma-1                170   \n",
       "3  4223.798340  1543.696045  aaabpdim-1                 61   \n",
       "4  4220.062988  1551.099121  aaabpfoj-1                105   \n",
       "\n",
       "   control_probe_counts  control_codeword_counts  unassigned_codeword_counts  \\\n",
       "0                     0                        0                           0   \n",
       "1                     0                        0                           0   \n",
       "2                     0                        0                           0   \n",
       "3                     0                        0                           0   \n",
       "4                     0                        0                           0   \n",
       "\n",
       "   deprecated_codeword_counts  total_counts   cell_area  nucleus_area  \n",
       "0                           0           284  653.365805     23.120001  \n",
       "1                           0           116  651.243461     12.643750  \n",
       "2                           0           170  674.544087     18.152813  \n",
       "3                           0            61  172.406569     11.379375  \n",
       "4                           0           105  283.490948     56.806565  "
      ]
     },
     "execution_count": 16,
     "metadata": {},
     "output_type": "execute_result"
    }
   ],
   "source": [
    "# rename x_centroid to y_centroid and y_centroid to x_centroid\n",
    "coords.rename(columns={'x_centroid':'y_centroid', 'y_centroid':'x_centroid'}, inplace=True)\n",
    "# make x_centroid a first column, y_centroid a second column, leave other columns as they are\n",
    "coords = coords[['x_centroid', 'y_centroid'] + [col for col in coords.columns if col not in ['x_centroid', 'y_centroid']]]\n",
    "coords.head()"
   ]
  },
  {
   "cell_type": "markdown",
   "metadata": {},
   "source": [
    "+ Prepare uns"
   ]
  },
  {
   "cell_type": "code",
   "execution_count": 12,
   "metadata": {},
   "outputs": [],
   "source": [
    "spatial_key = \"spatial\"\n",
    "library_id = \"tissue42\""
   ]
  },
  {
   "cell_type": "code",
   "execution_count": 13,
   "metadata": {},
   "outputs": [],
   "source": [
    "adata_xenium.uns[\"spatial\"] = dict()\n",
    "adata_xenium.uns[\"spatial\"][library_id] = dict()"
   ]
  },
  {
   "cell_type": "markdown",
   "metadata": {},
   "source": [
    "+ Add coordinates to obsm"
   ]
  },
  {
   "cell_type": "code",
   "execution_count": 17,
   "metadata": {},
   "outputs": [],
   "source": [
    "adata_xenium.obs = adata_xenium.obs.merge(coords, on='cell_id', how='left')"
   ]
  },
  {
   "cell_type": "code",
   "execution_count": 18,
   "metadata": {},
   "outputs": [],
   "source": [
    "adata_xenium.obsm[\"spatial\"] = adata_xenium.obs[[\"x_centroid\", \"y_centroid\"]].copy().to_numpy()"
   ]
  },
  {
   "cell_type": "markdown",
   "metadata": {},
   "source": [
    "+ Add image to uns"
   ]
  },
  {
   "cell_type": "code",
   "execution_count": 19,
   "metadata": {},
   "outputs": [],
   "source": [
    "adata_xenium.uns[spatial_key] = {library_id: {}}\n",
    "adata_xenium.uns[spatial_key][library_id][\"images\"] = {}\n",
    "adata_xenium.uns[spatial_key][library_id][\"images\"] = {\"hires\": hires}\n",
    "adata_xenium.uns[spatial_key][library_id][\"images\"] = {\"lowres\": lowres}"
   ]
  },
  {
   "cell_type": "markdown",
   "metadata": {},
   "source": [
    "+ Add scale factors"
   ]
  },
  {
   "cell_type": "code",
   "execution_count": null,
   "metadata": {},
   "outputs": [],
   "source": [
    "adata_xenium.uns['spatial']['spatial'][\"scalefactors\"] = scale_factors"
   ]
  },
  {
   "cell_type": "markdown",
   "metadata": {},
   "source": [
    "#### Create anndata object with `stlearn` package"
   ]
  },
  {
   "cell_type": "code",
   "execution_count": null,
   "metadata": {},
   "outputs": [],
   "source": [
    "import stlearn as st"
   ]
  },
  {
   "cell_type": "code",
   "execution_count": null,
   "metadata": {},
   "outputs": [],
   "source": [
    "adata = st.ReadXenium(feature_cell_matrix_file=\"/../Gut_samples/Non-diseased_pre-designed_and_add-on_panel/outs/cell_feature_matrix.h5\",\n",
    "                     cell_summary_file=\"/.../Gut_samples/Non-diseased_pre-designed_and_add-on_panel/outs/cells.csv\",\n",
    "                     library_id=\"hColon_Non_diseased_Add_on_FFPE\",\n",
    "                     image_path=\"/.../Gut_samples/Non-diseased_pre-designed_and_add-on_panel/Xenium_V1_hColon_Non_diseased_Base_FFPE_he_image_level0_rotated.png\",\n",
    "                     scale=3,\n",
    "                     spot_diameter_fullres=15 # Recommend\n",
    "                     )"
   ]
  }
 ],
 "metadata": {
  "kernelspec": {
   "display_name": "Python (squidpy_env)",
   "language": "python",
   "name": "squidpy_env"
  },
  "language_info": {
   "codemirror_mode": {
    "name": "ipython",
    "version": 3
   },
   "file_extension": ".py",
   "mimetype": "text/x-python",
   "name": "python",
   "nbconvert_exporter": "python",
   "pygments_lexer": "ipython3",
   "version": "3.9.18"
  }
 },
 "nbformat": 4,
 "nbformat_minor": 2
}
