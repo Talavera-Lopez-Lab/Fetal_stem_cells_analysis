{
 "cells": [
  {
   "cell_type": "markdown",
   "metadata": {},
   "source": [
    "### Notebook for identification of gene weights in fetal stem cells populations with `expimap` \n",
    "\n",
    "- **Developed by:** Anna Maguza\n",
    "- **Place:** Wuerzburg Institute for System Immunology\n",
    "- **Created date:** 17th April 2024\n",
    "- **Last modified date:** 22nd April 2024"
   ]
  },
  {
   "cell_type": "markdown",
   "metadata": {
    "vscode": {
     "languageId": "plaintext"
    }
   },
   "source": [
    "#### Import required modules"
   ]
  },
  {
   "cell_type": "code",
   "execution_count": 1,
   "metadata": {},
   "outputs": [
    {
     "name": "stderr",
     "output_type": "stream",
     "text": [
      "WARNING:root:In order to use the mouse gastrulation seqFISH datsets, please install squidpy (see https://github.com/scverse/squidpy).\n",
      "/home/amaguza/miniforge3/envs/expimap/lib/python3.10/site-packages/scvi/_settings.py:63: UserWarning: Since v1.0.0, scvi-tools no longer uses a random seed by default. Run `scvi.settings.seed = 0` to reproduce results from previous versions.\n",
      "  self.seed = seed\n",
      "/home/amaguza/miniforge3/envs/expimap/lib/python3.10/site-packages/scvi/_settings.py:70: UserWarning: Setting `dl_pin_memory_gpu_training` is deprecated in v1.0 and will be removed in v1.1. Please pass in `pin_memory` to the data loaders instead.\n",
      "  self.dl_pin_memory_gpu_training = (\n",
      "WARNING:root:In order to use sagenet models, please install pytorch geometric (see https://pytorch-geometric.readthedocs.io) and \n",
      " captum (see https://github.com/pytorch/captum).\n",
      "WARNING:root:mvTCR is not installed. To use mvTCR models, please install it first using \"pip install mvtcr\"\n",
      "WARNING:root:multigrate is not installed. To use multigrate models, please install it first using \"pip install multigrate\".\n"
     ]
    }
   ],
   "source": [
    "import gdown\n",
    "import torch\n",
    "import anndata\n",
    "import warnings\n",
    "import numpy as np\n",
    "import scanpy as sc\n",
    "import pandas as pd\n",
    "import scarches as sca\n",
    "import matplotlib.pyplot as plt"
   ]
  },
  {
   "cell_type": "code",
   "execution_count": 3,
   "metadata": {},
   "outputs": [],
   "source": [
    "def X_is_raw(adata):\n",
    "    return np.array_equal(adata.X.sum(axis=0).astype(int), adata.X.sum(axis=0))"
   ]
  },
  {
   "cell_type": "markdown",
   "metadata": {},
   "source": [
    "#### Set up working environment"
   ]
  },
  {
   "cell_type": "code",
   "execution_count": 4,
   "metadata": {},
   "outputs": [
    {
     "name": "stdout",
     "output_type": "stream",
     "text": [
      "-----\n",
      "anndata     0.10.5.post1\n",
      "scanpy      1.9.8\n",
      "-----\n",
      "PIL                         10.2.0\n",
      "absl                        NA\n",
      "aiohttp                     3.9.3\n",
      "aiosignal                   1.3.1\n",
      "annotated_types             0.6.0\n",
      "anyio                       NA\n",
      "array_api_compat            1.4.1\n",
      "arrow                       1.3.0\n",
      "asttokens                   NA\n",
      "async_timeout               4.0.3\n",
      "attr                        23.2.0\n",
      "attrs                       23.2.0\n",
      "babel                       2.14.0\n",
      "backoff                     2.2.1\n",
      "bs4                         4.12.3\n",
      "certifi                     2024.02.02\n",
      "cffi                        1.16.0\n",
      "charset_normalizer          3.3.2\n",
      "chex                        0.1.7\n",
      "click                       8.1.7\n",
      "comm                        0.2.1\n",
      "contextlib2                 NA\n",
      "croniter                    NA\n",
      "cycler                      0.12.1\n",
      "cython_runtime              NA\n",
      "dateutil                    2.9.0\n",
      "debugpy                     1.8.1\n",
      "decorator                   5.1.1\n",
      "deepdiff                    6.7.1\n",
      "defusedxml                  0.7.1\n",
      "docrep                      0.3.2\n",
      "etils                       1.6.0\n",
      "exceptiongroup              1.2.0\n",
      "executing                   2.0.1\n",
      "fastapi                     0.109.2\n",
      "fastjsonschema              NA\n",
      "flax                        0.8.1\n",
      "fqdn                        NA\n",
      "frozenlist                  1.4.1\n",
      "fsspec                      2024.2.0\n",
      "gdown                       3.3.1\n",
      "h5py                        3.10.0\n",
      "idna                        3.6\n",
      "igraph                      0.11.3\n",
      "importlib_resources         NA\n",
      "ipykernel                   6.29.3\n",
      "ipywidgets                  8.1.2\n",
      "isoduration                 NA\n",
      "jax                         0.4.19\n",
      "jaxlib                      0.4.19\n",
      "jedi                        0.19.1\n",
      "jinja2                      3.1.3\n",
      "joblib                      1.3.2\n",
      "json5                       0.9.22\n",
      "jsonpointer                 2.4\n",
      "jsonschema                  4.21.1\n",
      "jsonschema_specifications   NA\n",
      "jupyter_events              0.9.0\n",
      "jupyter_server              2.13.0\n",
      "jupyterlab_server           2.25.3\n",
      "kiwisolver                  1.4.5\n",
      "leidenalg                   0.10.2\n",
      "lightning                   2.0.9.post0\n",
      "lightning_cloud             0.5.64\n",
      "lightning_utilities         0.10.1\n",
      "llvmlite                    0.42.0\n",
      "markupsafe                  2.1.5\n",
      "matplotlib                  3.8.2\n",
      "matplotlib_inline           0.1.6\n",
      "ml_collections              NA\n",
      "ml_dtypes                   0.3.2\n",
      "mpl_toolkits                NA\n",
      "mpmath                      1.3.0\n",
      "msgpack                     1.0.7\n",
      "mudata                      0.2.3\n",
      "multidict                   6.0.5\n",
      "multipart                   0.0.9\n",
      "multipledispatch            0.6.0\n",
      "natsort                     8.4.0\n",
      "nbformat                    5.9.2\n",
      "newick                      1.0.0\n",
      "numba                       0.59.0\n",
      "numpy                       1.26.4\n",
      "numpyro                     0.13.2\n",
      "opt_einsum                  v3.3.0\n",
      "optax                       0.1.9\n",
      "ordered_set                 4.1.0\n",
      "overrides                   NA\n",
      "packaging                   24.0\n",
      "pandas                      1.5.3\n",
      "parso                       0.8.3\n",
      "patsy                       0.5.6\n",
      "pickleshare                 0.7.5\n",
      "pkg_resources               NA\n",
      "platformdirs                4.2.0\n",
      "prometheus_client           NA\n",
      "prompt_toolkit              3.0.42\n",
      "psutil                      5.9.8\n",
      "pure_eval                   0.2.2\n",
      "pydantic                    2.1.1\n",
      "pydantic_core               2.4.0\n",
      "pydev_ipython               NA\n",
      "pydevconsole                NA\n",
      "pydevd                      2.9.5\n",
      "pydevd_file_utils           NA\n",
      "pydevd_plugins              NA\n",
      "pydevd_tracing              NA\n",
      "pygments                    2.17.2\n",
      "pyparsing                   3.1.1\n",
      "pyro                        1.8.6\n",
      "pythonjsonlogger            NA\n",
      "pytz                        2024.1\n",
      "referencing                 NA\n",
      "requests                    2.31.0\n",
      "rfc3339_validator           0.1.4\n",
      "rfc3986_validator           0.1.1\n",
      "rich                        NA\n",
      "rpds                        NA\n",
      "scHPL                       NA\n",
      "scarches                    0.5.10\n",
      "scipy                       1.12.0\n",
      "scvi                        1.0.4\n",
      "seaborn                     0.13.2\n",
      "send2trash                  NA\n",
      "session_info                1.0.0\n",
      "six                         1.16.0\n",
      "sklearn                     1.4.0\n",
      "sniffio                     1.3.0\n",
      "socks                       1.7.1\n",
      "soupsieve                   2.5\n",
      "sparse                      0.15.1\n",
      "stack_data                  0.6.2\n",
      "starlette                   0.36.3\n",
      "statsmodels                 0.14.1\n",
      "sympy                       1.12\n",
      "texttable                   1.7.0\n",
      "threadpoolctl               3.2.0\n",
      "tomli                       2.0.1\n",
      "toolz                       0.12.1\n",
      "torch                       2.2.0+cu121\n",
      "torchgen                    NA\n",
      "torchmetrics                1.3.1\n",
      "tornado                     6.4\n",
      "tqdm                        4.66.2\n",
      "traitlets                   5.14.1\n",
      "tree                        0.1.8\n",
      "typing_extensions           NA\n",
      "uri_template                NA\n",
      "urllib3                     2.0.7\n",
      "uvicorn                     0.27.1\n",
      "vscode                      NA\n",
      "wcwidth                     0.2.13\n",
      "webcolors                   1.13\n",
      "websocket                   1.7.0\n",
      "websockets                  12.0\n",
      "xarray                      2024.1.1\n",
      "yaml                        6.0.1\n",
      "yarl                        1.9.4\n",
      "zmq                         25.1.2\n",
      "zoneinfo                    NA\n",
      "-----\n",
      "IPython             8.22.2\n",
      "jupyter_client      8.6.0\n",
      "jupyter_core        5.7.1\n",
      "jupyterlab          4.1.4\n",
      "notebook            7.1.1\n",
      "-----\n",
      "Python 3.10.13 | packaged by conda-forge | (main, Dec 23 2023, 15:36:39) [GCC 12.3.0]\n",
      "Linux-6.8.4-200.fc39.x86_64-x86_64-with-glibc2.38\n",
      "-----\n",
      "Session information updated at 2024-04-22 15:21\n"
     ]
    }
   ],
   "source": [
    "sc.settings.verbosity = 3\n",
    "sc.logging.print_versions()\n",
    "sc.settings.set_figure_params(dpi = 180, color_map = 'magma_r', dpi_save = 300, vector_friendly = True, format = 'svg')"
   ]
  },
  {
   "cell_type": "code",
   "execution_count": 5,
   "metadata": {},
   "outputs": [],
   "source": [
    "warnings.simplefilter(action = 'ignore')\n",
    "%config InlineBackend.print_figure_kwargs = {'facecolor' : \"w\"}\n",
    "%config InlineBackend.figure_format = 'retina'\n",
    "torch.set_float32_matmul_precision('medium')"
   ]
  },
  {
   "cell_type": "code",
   "execution_count": 6,
   "metadata": {},
   "outputs": [
    {
     "data": {
      "text/plain": [
       "True"
      ]
     },
     "execution_count": 6,
     "metadata": {},
     "output_type": "execute_result"
    }
   ],
   "source": [
    "torch.cuda.is_available()"
   ]
  },
  {
   "cell_type": "markdown",
   "metadata": {},
   "source": [
    "#### Read data"
   ]
  },
  {
   "cell_type": "code",
   "execution_count": 54,
   "metadata": {},
   "outputs": [],
   "source": [
    "input = 'FetalSC_data/Fetal_cells_scvi.h5ad'\n",
    "adata = sc.read_h5ad(input)"
   ]
  },
  {
   "cell_type": "code",
   "execution_count": 55,
   "metadata": {},
   "outputs": [
    {
     "data": {
      "text/plain": [
       "True"
      ]
     },
     "execution_count": 55,
     "metadata": {},
     "output_type": "execute_result"
    }
   ],
   "source": [
    "X_is_raw(adata)"
   ]
  },
  {
   "cell_type": "code",
   "execution_count": 56,
   "metadata": {},
   "outputs": [
    {
     "data": {
      "text/plain": [
       "AnnData object with n_obs × n_vars = 231646 × 26442\n",
       "    obs: 'Sample_ID', 'Cell Type', 'Study_name', 'Donor_ID', 'Diagnosis', 'Age', 'Region code', 'Fraction', 'Sex', 'Library_Preparation_Protocol', 'batch', 'Age_group', 'Location', 'Cell States', 'Cell States GCA', 'Chem', 'Layer', 'Cell States Kong', 'dataset', 'n_genes_by_counts', 'total_counts', 'total_counts_mito', 'pct_counts_mito', 'total_counts_ribo', 'pct_counts_ribo', 'Cell_ID', '_scvi_batch', '_scvi_labels', 'n_genes', 'n_counts'\n",
       "    var: 'feature_types-0-0-0', 'gene_name-1-0-0', 'gene_id-0-0', 'GENE-1-0'\n",
       "    uns: '_scvi_manager_uuid', '_scvi_uuid', 'hvg', 'neighbors', 'umap'\n",
       "    obsm: 'X_scVI', 'X_umap', '_scvi_extra_categorical_covs', '_scvi_extra_continuous_covs'\n",
       "    obsp: 'connectivities', 'distances'"
      ]
     },
     "execution_count": 56,
     "metadata": {},
     "output_type": "execute_result"
    }
   ],
   "source": [
    "adata = adata.raw.to_adata()\n",
    "adata"
   ]
  },
  {
   "cell_type": "code",
   "execution_count": 10,
   "metadata": {},
   "outputs": [],
   "source": [
    "adataSC = adata[adata.obs['Cell States']=='FXYD3+_CKB+_SC']"
   ]
  },
  {
   "cell_type": "markdown",
   "metadata": {},
   "source": [
    "### Read the Reactome annotations"
   ]
  },
  {
   "cell_type": "code",
   "execution_count": 11,
   "metadata": {},
   "outputs": [],
   "source": [
    "reactome_link = '/mnt/LaCIE/annaM/reactome/reactome.gmt'"
   ]
  },
  {
   "cell_type": "markdown",
   "metadata": {},
   "source": [
    "### Prepare reference data with ReactomeDB pathways"
   ]
  },
  {
   "cell_type": "code",
   "execution_count": 12,
   "metadata": {},
   "outputs": [],
   "source": [
    "sca.utils.add_annotations(adataSC, reactome_link, min_genes = 12, clean = True)"
   ]
  },
  {
   "cell_type": "markdown",
   "metadata": {},
   "source": [
    "- Remove all genes that are present in the data but absent in ReactomeDB"
   ]
  },
  {
   "cell_type": "code",
   "execution_count": 13,
   "metadata": {},
   "outputs": [],
   "source": [
    "adataSC._inplace_subset_var(adataSC.varm['I'].sum(1)>0)"
   ]
  },
  {
   "cell_type": "markdown",
   "metadata": {},
   "source": [
    "### Calculate HVGs"
   ]
  },
  {
   "cell_type": "markdown",
   "metadata": {},
   "source": [
    "+ Delete donors with only one cells"
   ]
  },
  {
   "cell_type": "code",
   "execution_count": 14,
   "metadata": {},
   "outputs": [],
   "source": [
    "donors_to_keep = adataSC.obs['Donor_ID'].value_counts()[adataSC.obs['Donor_ID'].value_counts()>1].index\n",
    "adataSC = adataSC[adataSC.obs['Donor_ID'].isin(donors_to_keep)]"
   ]
  },
  {
   "cell_type": "code",
   "execution_count": 15,
   "metadata": {},
   "outputs": [
    {
     "name": "stdout",
     "output_type": "stream",
     "text": [
      "If you pass `n_top_genes`, all cutoffs are ignored.\n",
      "extracting highly variable genes\n",
      "--> added\n",
      "    'highly_variable', boolean vector (adata.var)\n",
      "    'highly_variable_rank', float vector (adata.var)\n",
      "    'means', float vector (adata.var)\n",
      "    'variances', float vector (adata.var)\n",
      "    'variances_norm', float vector (adata.var)\n"
     ]
    },
    {
     "data": {
      "text/plain": [
       "AnnData object with n_obs × n_vars = 293 × 3000\n",
       "    obs: 'Sample_ID', 'Cell Type', 'Study_name', 'Donor_ID', 'Diagnosis', 'Age', 'Region code', 'Fraction', 'Sex', 'Library_Preparation_Protocol', 'batch', 'Age_group', 'Location', 'Cell States', 'Cell States GCA', 'Chem', 'Layer', 'Cell States Kong', 'dataset', 'n_genes_by_counts', 'total_counts', 'total_counts_mito', 'pct_counts_mito', 'total_counts_ribo', 'pct_counts_ribo', 'Cell_ID', '_scvi_batch', '_scvi_labels', 'n_genes', 'n_counts'\n",
       "    var: 'feature_types-0-0-0', 'gene_name-1-0-0', 'gene_id-0-0', 'GENE-1-0', 'highly_variable', 'highly_variable_rank', 'means', 'variances', 'variances_norm', 'highly_variable_nbatches'\n",
       "    uns: '_scvi_manager_uuid', '_scvi_uuid', 'hvg', 'neighbors', 'umap', 'terms'\n",
       "    obsm: 'X_scVI', 'X_umap', '_scvi_extra_categorical_covs', '_scvi_extra_continuous_covs'\n",
       "    varm: 'I'\n",
       "    layers: 'counts'\n",
       "    obsp: 'connectivities', 'distances'"
      ]
     },
     "execution_count": 15,
     "metadata": {},
     "output_type": "execute_result"
    }
   ],
   "source": [
    "adataSC_raw = adataSC.copy()\n",
    "adataSC.layers['counts'] = adataSC.X.copy()\n",
    "\n",
    "sc.pp.highly_variable_genes(\n",
    "    adataSC,\n",
    "    flavor = \"seurat_v3\",\n",
    "    n_top_genes = 3000,\n",
    "    layer = \"counts\",\n",
    "    batch_key = \"Donor_ID\",\n",
    "    subset = True,\n",
    "    span = 1\n",
    ")\n",
    "adataSC"
   ]
  },
  {
   "cell_type": "markdown",
   "metadata": {},
   "source": [
    "- Filter out all annotations (terms) with less than 12 genes."
   ]
  },
  {
   "cell_type": "code",
   "execution_count": 16,
   "metadata": {},
   "outputs": [],
   "source": [
    "select_terms = adataSC.varm['I'].sum(0)>12\n",
    "adataSC.uns['terms'] = np.array(adataSC.uns['terms'])[select_terms].tolist()\n",
    "adataSC.varm['I'] = adataSC.varm['I'][:, select_terms]"
   ]
  },
  {
   "cell_type": "markdown",
   "metadata": {},
   "source": [
    "- Filter out genes not present in any of the terms after selection of HVGs."
   ]
  },
  {
   "cell_type": "code",
   "execution_count": 17,
   "metadata": {},
   "outputs": [],
   "source": [
    "adataSC._inplace_subset_var(adataSC.varm['I'].sum(1)>0)"
   ]
  },
  {
   "cell_type": "markdown",
   "metadata": {},
   "source": [
    "### Create expiMap model and train it on reference dataset"
   ]
  },
  {
   "cell_type": "code",
   "execution_count": 18,
   "metadata": {},
   "outputs": [
    {
     "name": "stdout",
     "output_type": "stream",
     "text": [
      "\n",
      "INITIALIZING NEW NETWORK..............\n",
      "Encoder Architecture:\n",
      "\tInput Layer in, out and cond: 2992 256 1\n",
      "\tHidden Layer 1 in/out: 256 256\n",
      "\tHidden Layer 2 in/out: 256 256\n",
      "\tMean/Var Layer in/out: 256 399\n",
      "Decoder Architecture:\n",
      "\tMasked linear layer in, ext_m, ext, cond, out:  399 0 0 1 2992\n",
      "\twith hard mask.\n",
      "Last Decoder layer: softmax\n"
     ]
    }
   ],
   "source": [
    "intr_cvae = sca.models.EXPIMAP(\n",
    "    adata = adataSC,\n",
    "    condition_key = 'Cell States',\n",
    "    hidden_layer_sizes = [256, 256, 256],\n",
    "    recon_loss = 'nb'\n",
    ")"
   ]
  },
  {
   "cell_type": "code",
   "execution_count": 19,
   "metadata": {},
   "outputs": [],
   "source": [
    "ALPHA = 0.7"
   ]
  },
  {
   "cell_type": "code",
   "execution_count": 20,
   "metadata": {},
   "outputs": [
    {
     "name": "stdout",
     "output_type": "stream",
     "text": [
      "Preparing (293, 2992)\n",
      "Instantiating dataset\n",
      "Init the group lasso proximal operator for the main terms.\n",
      " |██████████████------| 70.2%  - epoch_loss: 2826.4805501302 - epoch_recon_loss: 2662.2540690104 - epoch_kl_loss: 328.4529825846 - val_loss: 2376.0605468750 - val_recon_loss: 2237.8078613281 - val_kl_loss: 276.505523681661\n",
      "ADJUSTED LR\n",
      " |████████████████----| 82.8%  - epoch_loss: 2810.1414388021 - epoch_recon_loss: 2654.0559895833 - epoch_kl_loss: 312.1708780924 - val_loss: 2368.1330566406 - val_recon_loss: 2225.3942871094 - val_kl_loss: 285.4774169922\n",
      "ADJUSTED LR\n",
      " |█████████████████---| 86.0%  - epoch_loss: 2805.5184733073 - epoch_recon_loss: 2642.5289713542 - epoch_kl_loss: 325.9790445964 - val_loss: 2366.8515625000 - val_recon_loss: 2224.8706054688 - val_kl_loss: 283.9620666504\n",
      "ADJUSTED LR\n",
      " |██████████████████--| 90.5%  - epoch_loss: 2786.3281250000 - epoch_recon_loss: 2629.6144205729 - epoch_kl_loss: 313.4275919596 - val_loss: 2366.4731445312 - val_recon_loss: 2224.5529785156 - val_kl_loss: 283.8405151367\n",
      "ADJUSTED LR\n",
      " |██████████████████--| 93.8%  - epoch_loss: 2703.0321451823 - epoch_recon_loss: 2543.7987467448 - epoch_kl_loss: 318.4668579102 - val_loss: 2366.5322265625 - val_recon_loss: 2224.6071777344 - val_kl_loss: 283.8503112793\n",
      "ADJUSTED LR\n",
      " |███████████████████-| 97.0%  - epoch_loss: 2712.3738606771 - epoch_recon_loss: 2553.4152832031 - epoch_kl_loss: 317.9172159831 - val_loss: 2367.7656250000 - val_recon_loss: 2225.8405761719 - val_kl_loss: 283.8501281738\n",
      "ADJUSTED LR\n",
      " |███████████████████-| 99.8%  - epoch_loss: 2752.6490071615 - epoch_recon_loss: 2596.7680664062 - epoch_kl_loss: 311.7617289225 - val_loss: 2367.8239746094 - val_recon_loss: 2225.8989257812 - val_kl_loss: 283.8501586914\n",
      "Stopping early: no improvement of more than 0 nats in 50 epochs\n",
      "If the early stopping criterion is too strong, please instantiate it with different parameters in the train method.\n",
      "Saving best state of network...\n",
      "Best State was in Epoch 347\n"
     ]
    }
   ],
   "source": [
    "early_stopping_kwargs = {\n",
    "    \"early_stopping_metric\": \"val_unweighted_loss\", # val_unweighted_loss\n",
    "    \"threshold\": 0,\n",
    "    \"patience\": 50,\n",
    "    \"reduce_lr\": True,\n",
    "    \"lr_patience\": 13,\n",
    "    \"lr_factor\": 0.1,\n",
    "}\n",
    "intr_cvae.train(\n",
    "    n_epochs = 400,\n",
    "    alpha_epoch_anneal = 100,\n",
    "    alpha = ALPHA,\n",
    "    alpha_kl = 0.5,\n",
    "    weight_decay = 0.,\n",
    "    early_stopping_kwargs = early_stopping_kwargs,\n",
    "    use_early_stopping = True,\n",
    "    monitor_only_val = False,\n",
    "    seed = 1712,\n",
    "    accelerator = \"gpu\",\n",
    "    devices = [0]\n",
    ")"
   ]
  },
  {
   "cell_type": "code",
   "execution_count": 21,
   "metadata": {},
   "outputs": [],
   "source": [
    "MEAN = False"
   ]
  },
  {
   "cell_type": "code",
   "execution_count": 22,
   "metadata": {},
   "outputs": [],
   "source": [
    "adataSC.obsm['X_cvae'] = intr_cvae.get_latent(mean = MEAN, only_active = True)"
   ]
  },
  {
   "cell_type": "markdown",
   "metadata": {},
   "source": [
    "### Initlizling the model for query training"
   ]
  },
  {
   "cell_type": "markdown",
   "metadata": {},
   "source": [
    "+ Prepare query dataset"
   ]
  },
  {
   "cell_type": "code",
   "execution_count": 23,
   "metadata": {},
   "outputs": [],
   "source": [
    "adata_query = adata[adata.obs['Cell States']!='FXYD3+_CKB+_SC']"
   ]
  },
  {
   "cell_type": "code",
   "execution_count": 24,
   "metadata": {},
   "outputs": [],
   "source": [
    "adata_query = adata_query[:, adataSC.var_names]"
   ]
  },
  {
   "cell_type": "markdown",
   "metadata": {},
   "source": [
    "+ Add terms to query dataset"
   ]
  },
  {
   "cell_type": "code",
   "execution_count": 25,
   "metadata": {},
   "outputs": [],
   "source": [
    "adata_query.uns['terms'] = adataSC.uns['terms']"
   ]
  },
  {
   "cell_type": "markdown",
   "metadata": {},
   "source": [
    "+ Train the model"
   ]
  },
  {
   "cell_type": "code",
   "execution_count": 26,
   "metadata": {},
   "outputs": [
    {
     "name": "stdout",
     "output_type": "stream",
     "text": [
      "AnnData object with n_obs × n_vars = 231352 × 2992\n",
      "    obs: 'Sample_ID', 'Cell Type', 'Study_name', 'Donor_ID', 'Diagnosis', 'Age', 'Region code', 'Fraction', 'Sex', 'Library_Preparation_Protocol', 'batch', 'Age_group', 'Location', 'Cell States', 'Cell States GCA', 'Chem', 'Layer', 'Cell States Kong', 'dataset', 'n_genes_by_counts', 'total_counts', 'total_counts_mito', 'pct_counts_mito', 'total_counts_ribo', 'pct_counts_ribo', 'Cell_ID', '_scvi_batch', '_scvi_labels', 'n_genes', 'n_counts'\n",
      "    var: 'feature_types-0-0-0', 'gene_name-1-0-0', 'gene_id-0-0', 'GENE-1-0'\n",
      "    uns: '_scvi_manager_uuid', '_scvi_uuid', 'hvg', 'neighbors', 'umap', 'terms'\n",
      "    obsm: 'X_scVI', 'X_umap', '_scvi_extra_categorical_covs', '_scvi_extra_continuous_covs'\n",
      "    obsp: 'connectivities', 'distances'\n",
      "\n",
      "INITIALIZING NEW NETWORK..............\n",
      "Encoder Architecture:\n",
      "\tInput Layer in, out and cond: 2992 256 101\n",
      "\tHidden Layer 1 in/out: 256 256\n",
      "\tHidden Layer 2 in/out: 256 256\n",
      "\tMean/Var Layer in/out: 256 399\n",
      "Decoder Architecture:\n",
      "\tMasked linear layer in, ext_m, ext, cond, out:  399 0 0 101 2992\n",
      "\twith hard mask.\n",
      "Last Decoder layer: softmax\n"
     ]
    }
   ],
   "source": [
    "q_intr_cvae = sca.models.EXPIMAP.load_query_data(adata_query, intr_cvae,\n",
    "                                                 unfreeze_ext=True,\n",
    "                                                 use_hsic=True,\n",
    "                                                 hsic_one_vs_all=True\n",
    "                                                )"
   ]
  },
  {
   "cell_type": "code",
   "execution_count": 27,
   "metadata": {},
   "outputs": [
    {
     "name": "stdout",
     "output_type": "stream",
     "text": [
      "Preparing (231352, 2992)\n",
      "Instantiating dataset\n",
      " |████████████████████| 100.0%  - val_loss: 1722.4457097343 - val_recon_loss: 1705.0819442496 - val_kl_loss: 173.6376127802\n",
      "Saving best state of network...\n",
      "Best State was in Epoch 398\n"
     ]
    }
   ],
   "source": [
    "q_intr_cvae.train(n_epochs = 400, \n",
    "                  alpha_epoch_anneal = 100, \n",
    "                  weight_decay = 0.,\n",
    "                  alpha_kl = 0.1, \n",
    "                  seed = 1712, \n",
    "                  alpha_l1=0.96,\n",
    "                  gamma_ext=0.7,\n",
    "                  gamma_epoch_anneal=50, \n",
    "                  beta=3.,\n",
    "                  use_early_stopping = True,\n",
    "                  accelerator = \"gpu\",\n",
    "                  devices = [0])"
   ]
  },
  {
   "cell_type": "markdown",
   "metadata": {},
   "source": [
    "### Get latent representation of reference + query dataset"
   ]
  },
  {
   "cell_type": "code",
   "execution_count": 76,
   "metadata": {},
   "outputs": [
    {
     "data": {
      "text/plain": [
       "AnnData object with n_obs × n_vars = 231645 × 2992\n",
       "    obs: 'Sample_ID', 'Cell Type', 'Study_name', 'Donor_ID', 'Diagnosis', 'Age', 'Region code', 'Fraction', 'Sex', 'Library_Preparation_Protocol', 'batch', 'Age_group', 'Location', 'Cell States', 'Cell States GCA', 'Chem', 'Layer', 'Cell States Kong', 'dataset', 'n_genes_by_counts', 'total_counts', 'total_counts_mito', 'pct_counts_mito', 'total_counts_ribo', 'pct_counts_ribo', 'Cell_ID', '_scvi_batch', '_scvi_labels', 'n_genes', 'n_counts', 'batch_join'\n",
       "    var: 'feature_types-0-0-0', 'gene_name-1-0-0', 'gene_id-0-0', 'GENE-1-0', 'highly_variable-0', 'highly_variable_rank-0', 'means-0', 'variances-0', 'variances_norm-0', 'highly_variable_nbatches-0'\n",
       "    uns: '_scvi_manager_uuid', '_scvi_uuid', 'hvg', 'neighbors', 'umap', 'terms'\n",
       "    obsm: 'X_scVI', 'X_umap', '_scvi_extra_categorical_covs', '_scvi_extra_continuous_covs'"
      ]
     },
     "execution_count": 76,
     "metadata": {},
     "output_type": "execute_result"
    }
   ],
   "source": [
    "adata_joined = sc.AnnData.concatenate(adataSC, adata_query, batch_key = 'batch_join', uns_merge = 'same', index_unique = None)\n",
    "adata_joined"
   ]
  },
  {
   "cell_type": "markdown",
   "metadata": {},
   "source": [
    "+ Get latent representation for the concatenated dataset"
   ]
  },
  {
   "cell_type": "code",
   "execution_count": 77,
   "metadata": {},
   "outputs": [],
   "source": [
    "adata_joined.obsm['X_cvae'] = q_intr_cvae.get_latent(adata_joined.X, \n",
    "                                                adata_joined.obs['Cell States'], \n",
    "                                                mean = MEAN, \n",
    "                                                only_active = True)"
   ]
  },
  {
   "cell_type": "markdown",
   "metadata": {},
   "source": [
    "+ Visualize latent representation on the UMAP"
   ]
  },
  {
   "cell_type": "code",
   "execution_count": 78,
   "metadata": {},
   "outputs": [
    {
     "name": "stdout",
     "output_type": "stream",
     "text": [
      "computing neighbors\n",
      "    finished: added to `.uns['neighbors']`\n",
      "    `.obsp['distances']`, distances for each pair of neighbors\n",
      "    `.obsp['connectivities']`, weighted adjacency matrix (0:00:33)\n",
      "computing UMAP\n",
      "    finished: added\n",
      "    'X_umap', UMAP coordinates (adata.obsm) (0:01:42)\n"
     ]
    }
   ],
   "source": [
    "sc.pp.neighbors(adata_joined, use_rep = \"X_cvae\", n_neighbors = 20, metric = 'minkowski')\n",
    "sc.tl.umap(adata_joined, min_dist = 0.5, spread = 6, random_state = 1712)"
   ]
  },
  {
   "cell_type": "markdown",
   "metadata": {},
   "source": [
    "+ Extract meaningful latent directions"
   ]
  },
  {
   "cell_type": "code",
   "execution_count": 79,
   "metadata": {},
   "outputs": [],
   "source": [
    "q_intr_cvae.latent_directions(adata=adata_joined)"
   ]
  },
  {
   "cell_type": "code",
   "execution_count": 32,
   "metadata": {},
   "outputs": [],
   "source": [
    "adata_joined_epi = adata_joined.copy()\n",
    "adata_joined_epi = adata_joined_epi[adata_joined_epi.obs['Cell Type'].isin(['Epithelial'])]"
   ]
  },
  {
   "cell_type": "code",
   "execution_count": null,
   "metadata": {},
   "outputs": [],
   "source": [
    "sc.set_figure_params(dpi=300, figsize=(20, 70))\n",
    "q_intr_cvae.latent_enrich(groups = 'Cell States', comparison = 'FXYD3+_CKB+_SC', adata = adata_joined_epi, use_directions = True)\n",
    "fig = sca.plotting.plot_abs_bfs(adata_joined_epi, yt_step = 0.3, scale_y = 2, fontsize = 9)"
   ]
  },
  {
   "cell_type": "markdown",
   "metadata": {},
   "source": [
    "+ Compare by cell states"
   ]
  },
  {
   "cell_type": "code",
   "execution_count": null,
   "metadata": {},
   "outputs": [],
   "source": [
    "q_intr_cvae.latent_enrich(groups='Cell States', adata=adata_joined_epi, n_sample=10000, use_directions=True)\n",
    "fig = sca.plotting.plot_abs_bfs(adata_joined_epi, n_cols=3, scale_y=2.6, yt_step=0.6, fontsize = 9)\n",
    "fig.set_size_inches(20, 70)"
   ]
  },
  {
   "cell_type": "markdown",
   "metadata": {},
   "source": [
    "### Visualize gene programs of interest"
   ]
  },
  {
   "cell_type": "code",
   "execution_count": 80,
   "metadata": {},
   "outputs": [],
   "source": [
    "adata_joined.obs['comparison'] = adata_joined.obs['Cell States'] == 'FXYD3+_CKB+_SC'\n",
    "\n",
    "adata_joined.obs['comparison'] = adata_joined.obs['comparison'].astype(str)"
   ]
  },
  {
   "cell_type": "code",
   "execution_count": 81,
   "metadata": {},
   "outputs": [],
   "source": [
    "terms = adata_joined.uns['terms']"
   ]
  },
  {
   "cell_type": "code",
   "execution_count": 82,
   "metadata": {},
   "outputs": [],
   "source": [
    "terms = adata_joined.uns['terms']\n",
    "select_terms = ['METABOLISM_OF_LIPIDS_AND_LIPOP', 'METABOLISM_OF_PROTEINS', 'IMMUNE_SYSTEM', 'METABOLISM_OF_MRNA', 'TRANSMEMBRANE_TRANSPORT_OF_SMA',\n",
    "                'METABOLISM_OF_AMINO_ACIDS_AND_']\n",
    "idx = [terms.index(term) for term in select_terms]"
   ]
  },
  {
   "cell_type": "code",
   "execution_count": 83,
   "metadata": {},
   "outputs": [],
   "source": [
    "latents = (q_intr_cvae.get_latent(adata_joined.X, adata_joined.obs['Cell States'], mean=MEAN) * adata_joined.uns['directions'])[:, idx]"
   ]
  },
  {
   "cell_type": "code",
   "execution_count": 84,
   "metadata": {},
   "outputs": [],
   "source": [
    "adata_joined.obs['METABOLISM_OF_LIPIDS_AND_LIPOP'] = latents[:, 0]\n",
    "adata_joined.obs['METABOLISM_OF_PROTEINS'] = latents[:, 1]\n",
    "adata_joined.obs['IMMUNE_SYSTEM'] = latents[:, 2]\n",
    "adata_joined.obs['METABOLISM_OF_MRNA'] = latents[:, 3]\n",
    "adata_joined.obs['TRANSMEMBRANE_TRANSPORT_OF_SMA'] = latents[:, 4]\n",
    "adata_joined.obs['METABOLISM_OF_AMINO_ACIDS_AND_'] = latents[:, 5]"
   ]
  },
  {
   "cell_type": "code",
   "execution_count": null,
   "metadata": {},
   "outputs": [],
   "source": [
    "sc.set_figure_params(dpi=120, figsize=(4, 4))\n",
    "sc.pl.scatter(adata_joined, x='METABOLISM_OF_LIPIDS_AND_LIPOP', y='METABOLISM_OF_PROTEINS', color='comparison', size=4)"
   ]
  },
  {
   "cell_type": "code",
   "execution_count": null,
   "metadata": {},
   "outputs": [],
   "source": [
    "sc.set_figure_params(dpi=120, figsize=(4, 4))\n",
    "sc.pl.scatter(adata_joined, x='METABOLISM_OF_LIPIDS_AND_LIPOP', y='METABOLISM_OF_PROTEINS', color='Cell States', size=4)"
   ]
  },
  {
   "cell_type": "code",
   "execution_count": null,
   "metadata": {},
   "outputs": [],
   "source": [
    "sc.set_figure_params(dpi=120, figsize=(4, 4))\n",
    "sc.pl.scatter(adata_joined, x='IMMUNE_SYSTEM', y='METABOLISM_OF_MRNA', color='comparison', size=4)"
   ]
  },
  {
   "cell_type": "code",
   "execution_count": null,
   "metadata": {},
   "outputs": [],
   "source": [
    "sc.set_figure_params(dpi=120, figsize=(4, 4))\n",
    "sc.pl.scatter(adata_joined, x='IMMUNE_SYSTEM', y='METABOLISM_OF_MRNA', color='Cell States', size=4)"
   ]
  },
  {
   "cell_type": "code",
   "execution_count": null,
   "metadata": {},
   "outputs": [],
   "source": [
    "sc.set_figure_params(dpi=120, figsize=(4, 4))\n",
    "sc.pl.scatter(adata_joined, x='TRANSMEMBRANE_TRANSPORT_OF_SMA', y='METABOLISM_OF_AMINO_ACIDS_AND_', color='comparison', size=4)"
   ]
  },
  {
   "cell_type": "code",
   "execution_count": null,
   "metadata": {},
   "outputs": [],
   "source": [
    "sc.set_figure_params(dpi=120, figsize=(4, 4))\n",
    "sc.pl.scatter(adata_joined, x='TRANSMEMBRANE_TRANSPORT_OF_SMA', y='METABOLISM_OF_AMINO_ACIDS_AND_', color='Cell States', size=4)"
   ]
  },
  {
   "cell_type": "markdown",
   "metadata": {},
   "source": [
    "### Extract gene weights"
   ]
  },
  {
   "cell_type": "code",
   "execution_count": 46,
   "metadata": {},
   "outputs": [],
   "source": [
    "terms_to_process = [\n",
    "    'METABOLISM_OF_LIPIDS_AND_LIPOP', 'METABOLISM_OF_PROTEINS', 'IMMUNE_SYSTEM', 'METABOLISM_OF_MRNA', 'TRANSMEMBRANE_TRANSPORT_OF_SMA',\n",
    "                'METABOLISM_OF_AMINO_ACIDS_AND_'\n",
    "]\n",
    "\n",
    "for term in terms_to_process:\n",
    "    df = q_intr_cvae.term_genes(term, terms=adata_joined.uns['terms'])\n",
    "    \n",
    "    file_path = f'/mnt/LaCIE/annaM/gut_project/Processed_data/Gut_data/Fetal_stem_cells/FetalSC_and_other_fetal_cells/expimap/{term}_gene_weights.csv'\n",
    "    \n",
    "    df.to_csv(file_path)\n"
   ]
  },
  {
   "cell_type": "markdown",
   "metadata": {},
   "source": [
    "#### Export anndata object"
   ]
  },
  {
   "cell_type": "code",
   "execution_count": 88,
   "metadata": {},
   "outputs": [],
   "source": [
    "adata_export = anndata.AnnData(X = adata.X, obs = adata_joined.obs, var = adata.var, uns = adata_joined.uns, obsm = adata_joined.obsm, obsp = adata_joined.obsp)"
   ]
  },
  {
   "cell_type": "code",
   "execution_count": 89,
   "metadata": {},
   "outputs": [],
   "source": [
    "adata_export.write('/mnt/LaCIE/annaM/gut_project/Processed_data/Gut_data/Fetal_stem_cells/FetalSC_and_other_fetal_cells/expimap/Fetal_cells_after_expimap_Focus_Model.h5ad')"
   ]
  }
 ],
 "metadata": {
  "kernelspec": {
   "display_name": "Python (expimap)",
   "language": "python",
   "name": "expimap"
  }
 },
 "nbformat": 4,
 "nbformat_minor": 2
}
