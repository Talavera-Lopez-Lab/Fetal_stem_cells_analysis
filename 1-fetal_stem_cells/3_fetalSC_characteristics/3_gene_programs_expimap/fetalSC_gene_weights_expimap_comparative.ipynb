{
 "cells": [
  {
   "cell_type": "markdown",
   "metadata": {},
   "source": [
    "### Notebook for identification of gene weights in fetal stem cells populations with `expimap` (comparative model)\n",
    "\n",
    "- **Developed by:** Anna Maguza\n",
    "- **Place:** Wuerzburg Institute for System Immunology\n",
    "- **Created date:** 25th April 2024\n",
    "- **Last modified date:** 25th April 2024"
   ]
  },
  {
   "cell_type": "markdown",
   "metadata": {
    "vscode": {
     "languageId": "plaintext"
    }
   },
   "source": [
    "#### Import required modules"
   ]
  },
  {
   "cell_type": "code",
   "execution_count": null,
   "metadata": {},
   "outputs": [],
   "source": [
    "import gdown\n",
    "import torch\n",
    "import anndata\n",
    "import warnings\n",
    "import numpy as np\n",
    "import scanpy as sc\n",
    "import pandas as pd\n",
    "import scarches as sca\n",
    "import matplotlib.pyplot as plt"
   ]
  },
  {
   "cell_type": "code",
   "execution_count": null,
   "metadata": {},
   "outputs": [],
   "source": [
    "def X_is_raw(adata):\n",
    "    return np.array_equal(adata.X.sum(axis=0).astype(int), adata.X.sum(axis=0))"
   ]
  },
  {
   "cell_type": "markdown",
   "metadata": {},
   "source": [
    "#### Set up working environment"
   ]
  },
  {
   "cell_type": "code",
   "execution_count": null,
   "metadata": {},
   "outputs": [],
   "source": [
    "sc.settings.verbosity = 3\n",
    "sc.logging.print_versions()\n",
    "sc.settings.set_figure_params(dpi = 180, color_map = 'magma_r', dpi_save = 300, vector_friendly = True, format = 'svg')"
   ]
  },
  {
   "cell_type": "code",
   "execution_count": null,
   "metadata": {},
   "outputs": [],
   "source": [
    "warnings.simplefilter(action = 'ignore')\n",
    "%config InlineBackend.print_figure_kwargs = {'facecolor' : \"w\"}\n",
    "%config InlineBackend.figure_format = 'retina'\n",
    "torch.set_float32_matmul_precision('medium')"
   ]
  },
  {
   "cell_type": "code",
   "execution_count": null,
   "metadata": {},
   "outputs": [],
   "source": [
    "torch.cuda.is_available()"
   ]
  },
  {
   "cell_type": "markdown",
   "metadata": {},
   "source": [
    "#### Read data"
   ]
  },
  {
   "cell_type": "code",
   "execution_count": null,
   "metadata": {},
   "outputs": [],
   "source": [
    "input = 'FetalSC_data/Fetal_cells_scvi.h5ad'\n",
    "adata = sc.read_h5ad(input)"
   ]
  },
  {
   "cell_type": "code",
   "execution_count": null,
   "metadata": {},
   "outputs": [],
   "source": [
    "X_is_raw(adata)"
   ]
  },
  {
   "cell_type": "code",
   "execution_count": null,
   "metadata": {},
   "outputs": [],
   "source": [
    "adata = adata.raw.to_adata()\n",
    "adata"
   ]
  },
  {
   "cell_type": "markdown",
   "metadata": {},
   "source": [
    "### Read the Reactome annotations"
   ]
  },
  {
   "cell_type": "code",
   "execution_count": null,
   "metadata": {},
   "outputs": [],
   "source": [
    "reactome_link = '/mnt/LaCIE/annaM/reactome/reactome.gmt'"
   ]
  },
  {
   "cell_type": "markdown",
   "metadata": {},
   "source": [
    "### Prepare reference data with ReactomeDB pathways"
   ]
  },
  {
   "cell_type": "code",
   "execution_count": null,
   "metadata": {},
   "outputs": [],
   "source": [
    "sca.utils.add_annotations(adata, reactome_link, min_genes = 12, clean = True)"
   ]
  },
  {
   "cell_type": "markdown",
   "metadata": {},
   "source": [
    "- Remove all genes that are present in the data but absent in ReactomeDB"
   ]
  },
  {
   "cell_type": "code",
   "execution_count": null,
   "metadata": {},
   "outputs": [],
   "source": [
    "adata._inplace_subset_var(adata.varm['I'].sum(1)>0)"
   ]
  },
  {
   "cell_type": "markdown",
   "metadata": {},
   "source": [
    "### Calculate HVGs"
   ]
  },
  {
   "cell_type": "markdown",
   "metadata": {},
   "source": [
    "+ Delete donors with only one cells"
   ]
  },
  {
   "cell_type": "code",
   "execution_count": null,
   "metadata": {},
   "outputs": [],
   "source": [
    "donors_to_keep = adata.obs['Donor_ID'].value_counts()[adata.obs['Donor_ID'].value_counts()>1].index\n",
    "adata = adata[adata.obs['Donor_ID'].isin(donors_to_keep)]"
   ]
  },
  {
   "cell_type": "code",
   "execution_count": null,
   "metadata": {},
   "outputs": [],
   "source": [
    "adata_raw = adata.copy()\n",
    "adata.layers['counts'] = adata.X.copy()\n",
    "\n",
    "sc.pp.highly_variable_genes(\n",
    "    adata,\n",
    "    flavor = \"seurat_v3\",\n",
    "    n_top_genes = 7000,\n",
    "    layer = \"counts\",\n",
    "    batch_key = \"Donor_ID\",\n",
    "    subset = True,\n",
    "    span = 1\n",
    ")\n",
    "adata"
   ]
  },
  {
   "cell_type": "markdown",
   "metadata": {},
   "source": [
    "- Filter out all annotations (terms) with less than 12 genes."
   ]
  },
  {
   "cell_type": "code",
   "execution_count": null,
   "metadata": {},
   "outputs": [],
   "source": [
    "select_terms = adata.varm['I'].sum(0)>12\n",
    "adata.uns['terms'] = np.array(adata.uns['terms'])[select_terms].tolist()\n",
    "adata.varm['I'] = adata.varm['I'][:, select_terms]"
   ]
  },
  {
   "cell_type": "markdown",
   "metadata": {},
   "source": [
    "- Filter out genes not present in any of the terms after selection of HVGs."
   ]
  },
  {
   "cell_type": "code",
   "execution_count": null,
   "metadata": {},
   "outputs": [],
   "source": [
    "adata._inplace_subset_var(adata.varm['I'].sum(1)>0)"
   ]
  },
  {
   "cell_type": "markdown",
   "metadata": {},
   "source": [
    "### Create expiMap model and train it on reference dataset"
   ]
  },
  {
   "cell_type": "code",
   "execution_count": null,
   "metadata": {},
   "outputs": [],
   "source": [
    "intr_cvae = sca.models.EXPIMAP(\n",
    "    adata = adata,\n",
    "    condition_key = 'Cell States',\n",
    "    hidden_layer_sizes = [256, 256, 256],\n",
    "    recon_loss = 'nb'\n",
    ")"
   ]
  },
  {
   "cell_type": "code",
   "execution_count": null,
   "metadata": {},
   "outputs": [],
   "source": [
    "ALPHA = 0.7"
   ]
  },
  {
   "cell_type": "code",
   "execution_count": null,
   "metadata": {},
   "outputs": [],
   "source": [
    "early_stopping_kwargs = {\n",
    "    \"early_stopping_metric\": \"val_unweighted_loss\", # val_unweighted_loss\n",
    "    \"threshold\": 0,\n",
    "    \"patience\": 50,\n",
    "    \"reduce_lr\": True,\n",
    "    \"lr_patience\": 13,\n",
    "    \"lr_factor\": 0.1,\n",
    "}\n",
    "intr_cvae.train(\n",
    "    n_epochs = 400,\n",
    "    alpha_epoch_anneal = 100,\n",
    "    alpha = ALPHA,\n",
    "    alpha_kl = 0.5,\n",
    "    weight_decay = 0.,\n",
    "    early_stopping_kwargs = early_stopping_kwargs,\n",
    "    use_early_stopping = True,\n",
    "    monitor_only_val = False,\n",
    "    seed = 1712,\n",
    "    accelerator = \"gpu\",\n",
    "    devices = [0]\n",
    ")"
   ]
  },
  {
   "cell_type": "code",
   "execution_count": null,
   "metadata": {},
   "outputs": [],
   "source": [
    "MEAN = False"
   ]
  },
  {
   "cell_type": "code",
   "execution_count": null,
   "metadata": {},
   "outputs": [],
   "source": [
    "adata.obsm['X_cvae'] = intr_cvae.get_latent(mean = MEAN, only_active = True)"
   ]
  },
  {
   "cell_type": "markdown",
   "metadata": {},
   "source": [
    "+ Visualize latent representation on the UMAP"
   ]
  },
  {
   "cell_type": "code",
   "execution_count": null,
   "metadata": {},
   "outputs": [],
   "source": [
    "sc.pp.neighbors(adata, use_rep = \"X_cvae\", n_neighbors = 20, metric = 'minkowski')\n",
    "sc.tl.umap(adata, min_dist = 0.5, spread = 6, random_state = 1712)"
   ]
  },
  {
   "cell_type": "code",
   "execution_count": null,
   "metadata": {},
   "outputs": [],
   "source": [
    "sc.set_figure_params(dpi = 300, figsize=(10,7))\n",
    "sc.pl.umap(adata, color = ['Cell States'], ncols = 3, frameon = False, size = 5)"
   ]
  },
  {
   "cell_type": "code",
   "execution_count": null,
   "metadata": {},
   "outputs": [],
   "source": [
    "sc.set_figure_params(dpi = 300, figsize=(10,7))\n",
    "sc.pl.umap(adata, color = ['Library_Preparation_Protocol', 'Donor_ID'], ncols = 3, frameon = False, size = 5)"
   ]
  },
  {
   "cell_type": "markdown",
   "metadata": {},
   "source": [
    "+ Extract meaningful latent directions"
   ]
  },
  {
   "cell_type": "code",
   "execution_count": null,
   "metadata": {},
   "outputs": [],
   "source": [
    "intr_cvae.latent_directions(adata=adata)"
   ]
  },
  {
   "cell_type": "code",
   "execution_count": null,
   "metadata": {},
   "outputs": [],
   "source": [
    "sc.set_figure_params(dpi=300, figsize=(20, 70))\n",
    "intr_cvae.latent_enrich(groups = 'Cell States', comparison = 'FXYD3+_CKB+_SC', adata = adata, use_directions = True)\n",
    "fig = sca.plotting.plot_abs_bfs(adata, yt_step = 0.3, scale_y = 2, fontsize = 9)"
   ]
  },
  {
   "cell_type": "markdown",
   "metadata": {},
   "source": [
    "+ Compare by cell states"
   ]
  },
  {
   "cell_type": "code",
   "execution_count": null,
   "metadata": {},
   "outputs": [],
   "source": [
    "adata.obs['Cell Type'].value_counts()"
   ]
  },
  {
   "cell_type": "code",
   "execution_count": null,
   "metadata": {},
   "outputs": [],
   "source": [
    "selected_cell_types = ['Epithelial']  \n",
    "adata_filtered = adata[adata.obs['Cell Type'].isin(selected_cell_types)].copy()\n",
    "\n",
    "intr_cvae.latent_enrich(groups='Cell States', adata=adata_filtered, n_sample=10000, use_directions=True)\n",
    "\n",
    "fig = sca.plotting.plot_abs_bfs(adata_filtered, n_cols=3, scale_y=2.6, yt_step=0.6, fontsize = 9)\n",
    "fig.set_size_inches(20, 70)"
   ]
  },
  {
   "cell_type": "code",
   "execution_count": null,
   "metadata": {},
   "outputs": [],
   "source": [
    "selected_cell_types = ['Mesenchymal']  \n",
    "adata_filtered = adata[adata.obs['Cell Type'].isin(selected_cell_types)].copy()\n",
    "\n",
    "intr_cvae.latent_enrich(groups='Cell States', adata=adata_filtered, n_sample=10000, use_directions=True)\n",
    "\n",
    "fig = sca.plotting.plot_abs_bfs(adata_filtered, n_cols=3, scale_y=2.6, yt_step=0.6, fontsize = 9)\n",
    "fig.set_size_inches(20, 70)"
   ]
  },
  {
   "cell_type": "code",
   "execution_count": null,
   "metadata": {},
   "outputs": [],
   "source": [
    "df = adata.obs['Cell States'].value_counts()"
   ]
  },
  {
   "cell_type": "code",
   "execution_count": null,
   "metadata": {},
   "outputs": [],
   "source": [
    "selected_cell_types = ['FXYD3+_CKB+_SC', 'MTRNR2L12+ASS1+_SC', 'RPS10+_RPS17+_SC']  \n",
    "adata_filtered = adata[adata.obs['Cell States'].isin(selected_cell_types)].copy()\n",
    "\n",
    "intr_cvae.latent_enrich(groups='Cell States', adata=adata_filtered, n_sample=10000, use_directions=True)\n",
    "\n",
    "fig = sca.plotting.plot_abs_bfs(adata_filtered, n_cols=3, scale_y=2.6, yt_step=0.6, fontsize = 6)\n",
    "fig.set_size_inches(15, 5)"
   ]
  },
  {
   "cell_type": "code",
   "execution_count": null,
   "metadata": {},
   "outputs": [],
   "source": [
    "intr_cvae.latent_enrich(groups='Cell States', adata=adata, n_sample=10000, use_directions=True)\n",
    "\n",
    "fig = sca.plotting.plot_abs_bfs(adata, n_cols=5, scale_y=2.6, yt_step=0.6, fontsize = 3)\n",
    "fig.set_size_inches(25, 95)"
   ]
  }
 ],
 "metadata": {
  "kernelspec": {
   "display_name": "Python (expimap)",
   "language": "python",
   "name": "expimap"
  }
 },
 "nbformat": 4,
 "nbformat_minor": 2
}
