{
 "cells": [
  {
   "cell_type": "markdown",
   "metadata": {},
   "source": [
    "### Notebook for the anndata file preparation of stem cells prior trajectory analysis\n",
    "- **Developed by:** Anna Maguza\n",
    "- **Place:** Wuerzburg Institute for System Immunology\n",
    "- **Date:** 16th November 2023"
   ]
  },
  {
   "cell_type": "markdown",
   "metadata": {},
   "source": [
    "### Import packages"
   ]
  },
  {
   "cell_type": "code",
   "execution_count": 1,
   "metadata": {},
   "outputs": [],
   "source": [
    "import scanpy as sc\n",
    "import pandas as pd\n",
    "import numpy as np\n",
    "import matplotlib.pyplot as plt"
   ]
  },
  {
   "cell_type": "markdown",
   "metadata": {},
   "source": [
    "### Set up the cells"
   ]
  },
  {
   "cell_type": "code",
   "execution_count": 2,
   "metadata": {},
   "outputs": [],
   "source": [
    "%matplotlib inline"
   ]
  },
  {
   "cell_type": "code",
   "execution_count": 3,
   "metadata": {},
   "outputs": [
    {
     "name": "stdout",
     "output_type": "stream",
     "text": [
      "-----\n",
      "anndata     0.9.2\n",
      "scanpy      1.9.5\n",
      "-----\n",
      "PIL                         10.0.1\n",
      "anyio                       NA\n",
      "arrow                       1.3.0\n",
      "asttokens                   NA\n",
      "attr                        23.1.0\n",
      "attrs                       23.1.0\n",
      "babel                       2.13.0\n",
      "backcall                    0.2.0\n",
      "certifi                     2023.07.22\n",
      "cffi                        1.16.0\n",
      "charset_normalizer          3.3.0\n",
      "colorama                    0.4.6\n",
      "comm                        0.1.4\n",
      "cycler                      0.10.0\n",
      "cython_runtime              NA\n",
      "dateutil                    2.8.2\n",
      "debugpy                     1.8.0\n",
      "decorator                   5.1.1\n",
      "defusedxml                  0.7.1\n",
      "executing                   2.0.0\n",
      "fastjsonschema              NA\n",
      "fqdn                        NA\n",
      "h5py                        3.9.0\n",
      "idna                        3.4\n",
      "igraph                      0.11.2\n",
      "ipykernel                   6.25.2\n",
      "ipywidgets                  8.1.1\n",
      "isoduration                 NA\n",
      "jedi                        0.19.1\n",
      "jinja2                      3.1.2\n",
      "joblib                      1.3.2\n",
      "json5                       NA\n",
      "jsonpointer                 2.4\n",
      "jsonschema                  4.19.1\n",
      "jsonschema_specifications   NA\n",
      "jupyter_events              0.7.0\n",
      "jupyter_server              2.7.3\n",
      "jupyterlab_server           2.25.0\n",
      "kiwisolver                  1.4.5\n",
      "leidenalg                   0.10.1\n",
      "llvmlite                    0.40.1\n",
      "markupsafe                  2.1.3\n",
      "matplotlib                  3.8.0\n",
      "matplotlib_inline           0.1.6\n",
      "mpl_toolkits                NA\n",
      "natsort                     8.4.0\n",
      "nbformat                    5.9.2\n",
      "numba                       0.57.1\n",
      "numpy                       1.24.4\n",
      "overrides                   NA\n",
      "packaging                   23.2\n",
      "pandas                      2.1.1\n",
      "parso                       0.8.3\n",
      "pexpect                     4.8.0\n",
      "pickleshare                 0.7.5\n",
      "platformdirs                3.11.0\n",
      "prometheus_client           NA\n",
      "prompt_toolkit              3.0.39\n",
      "psutil                      5.9.5\n",
      "ptyprocess                  0.7.0\n",
      "pure_eval                   0.2.2\n",
      "pydev_ipython               NA\n",
      "pydevconsole                NA\n",
      "pydevd                      2.9.5\n",
      "pydevd_file_utils           NA\n",
      "pydevd_plugins              NA\n",
      "pydevd_tracing              NA\n",
      "pygments                    2.16.1\n",
      "pyparsing                   3.1.1\n",
      "pythonjsonlogger            NA\n",
      "pytz                        2023.3.post1\n",
      "referencing                 NA\n",
      "requests                    2.31.0\n",
      "rfc3339_validator           0.1.4\n",
      "rfc3986_validator           0.1.1\n",
      "rpds                        NA\n",
      "scipy                       1.11.3\n",
      "send2trash                  NA\n",
      "session_info                1.0.0\n",
      "six                         1.16.0\n",
      "sklearn                     1.3.1\n",
      "sniffio                     1.3.0\n",
      "stack_data                  0.6.3\n",
      "texttable                   1.7.0\n",
      "threadpoolctl               3.2.0\n",
      "tornado                     6.3.3\n",
      "traitlets                   5.11.2\n",
      "typing_extensions           NA\n",
      "uri_template                NA\n",
      "urllib3                     2.0.6\n",
      "wcwidth                     0.2.8\n",
      "webcolors                   1.13\n",
      "websocket                   1.6.4\n",
      "yaml                        6.0.1\n",
      "zmq                         25.1.1\n",
      "zoneinfo                    NA\n",
      "zope                        NA\n",
      "-----\n",
      "IPython             8.16.1\n",
      "jupyter_client      8.3.1\n",
      "jupyter_core        5.3.2\n",
      "jupyterlab          4.0.6\n",
      "notebook            7.0.4\n",
      "-----\n",
      "Python 3.11.5 | packaged by conda-forge | (main, Aug 27 2023, 03:34:09) [GCC 12.3.0]\n",
      "Linux-6.6.2-101.fc38.x86_64-x86_64-with-glibc2.37\n",
      "-----\n",
      "Session information updated at 2023-12-12 12:34\n"
     ]
    }
   ],
   "source": [
    "sc.settings.verbosity = 3\n",
    "sc.logging.print_versions()\n",
    "sc.settings.set_figure_params(dpi = 180, color_map = 'magma_r', dpi_save = 300, vector_friendly = True, format = 'svg')"
   ]
  },
  {
   "cell_type": "code",
   "execution_count": 4,
   "metadata": {},
   "outputs": [],
   "source": [
    "def X_is_raw(adata):\n",
    "    return np.array_equal(adata.X.sum(axis=0).astype(int), adata.X.sum(axis=0))"
   ]
  },
  {
   "cell_type": "markdown",
   "metadata": {},
   "source": [
    "### Data Upload"
   ]
  },
  {
   "cell_type": "code",
   "execution_count": 8,
   "metadata": {},
   "outputs": [],
   "source": [
    "input_path = 'Healthy_gut_reference_dataset/Integrated/Healthy_integrated_data_all_genes.h5ad'\n",
    "adata = sc.read_h5ad(input_path)"
   ]
  },
  {
   "cell_type": "code",
   "execution_count": 10,
   "metadata": {},
   "outputs": [],
   "source": [
    "input_path = 'FetalSC_data/Fetal_healthy_stem_cells_leiden.h5ad'\n",
    "adata_fetalSC = sc.read_h5ad(input_path)"
   ]
  },
  {
   "cell_type": "code",
   "execution_count": 12,
   "metadata": {},
   "outputs": [
    {
     "data": {
      "text/plain": [
       "cluster\n",
       "MTRNR2L12+ASS1+_SC    3979\n",
       "RPS10+_RPS17+_SC      3544\n",
       "FXYD3+_CKB+_SC         294\n",
       "Name: count, dtype: int64"
      ]
     },
     "execution_count": 12,
     "metadata": {},
     "output_type": "execute_result"
    }
   ],
   "source": [
    "adata_fetalSC.obs['cluster'].value_counts()"
   ]
  },
  {
   "cell_type": "code",
   "execution_count": 13,
   "metadata": {},
   "outputs": [
    {
     "data": {
      "text/plain": [
       "AnnData object with n_obs × n_vars = 557099 × 26442\n",
       "    obs: 'Sample_ID', 'Cell Type', 'Study_name', 'Donor_ID', 'Diagnosis', 'Age', 'Region code', 'Fraction', 'Sex', 'Library_Preparation_Protocol', 'batch', 'Age_group', 'Location', 'Cell States', 'Cell States GCA', 'Chem', 'Layer', 'Cell States Kong', 'dataset', 'n_genes_by_counts', 'total_counts', 'total_counts_mito', 'pct_counts_mito', 'total_counts_ribo', 'pct_counts_ribo', 'Cell_ID', '_scvi_batch', '_scvi_labels'\n",
       "    var: 'feature_types-0-0-0', 'gene_name-1-0-0', 'gene_id-0-0', 'GENE-1-0'"
      ]
     },
     "execution_count": 13,
     "metadata": {},
     "output_type": "execute_result"
    }
   ],
   "source": [
    "# Extract the raw counts\n",
    "adata = adata.raw.to_adata()\n",
    "adata"
   ]
  },
  {
   "cell_type": "code",
   "execution_count": 15,
   "metadata": {},
   "outputs": [
    {
     "data": {
      "text/plain": [
       "True"
      ]
     },
     "execution_count": 15,
     "metadata": {},
     "output_type": "execute_result"
    }
   ],
   "source": [
    "X_is_raw(adata)"
   ]
  },
  {
   "cell_type": "code",
   "execution_count": 16,
   "metadata": {},
   "outputs": [
    {
     "data": {
      "text/plain": [
       "True"
      ]
     },
     "execution_count": 16,
     "metadata": {},
     "output_type": "execute_result"
    }
   ],
   "source": [
    "X_is_raw(adata_fetalSC)"
   ]
  },
  {
   "cell_type": "code",
   "execution_count": 17,
   "metadata": {},
   "outputs": [
    {
     "name": "stderr",
     "output_type": "stream",
     "text": [
      "/home/amaguza/miniforge3/envs/scanpy_env/lib/python3.11/site-packages/anndata/_core/anndata.py:1113: FutureWarning: is_categorical_dtype is deprecated and will be removed in a future version. Use isinstance(dtype, CategoricalDtype) instead\n",
      "  if not is_categorical_dtype(df_full[k]):\n"
     ]
    }
   ],
   "source": [
    "# Extract fetal cells\n",
    "adata_fetal = adata[adata.obs['Diagnosis'] == 'Fetal Healthy']"
   ]
  },
  {
   "cell_type": "markdown",
   "metadata": {},
   "source": [
    "### Prepare cluster names"
   ]
  },
  {
   "cell_type": "code",
   "execution_count": 18,
   "metadata": {},
   "outputs": [
    {
     "name": "stderr",
     "output_type": "stream",
     "text": [
      "/tmp/ipykernel_2554336/2807066483.py:10: ImplicitModificationWarning: Trying to modify attribute `.obs` of view, initializing view as actual.\n",
      "  adata_fetal.obs['Cell States'] = joined_data.apply(\n"
     ]
    }
   ],
   "source": [
    "# Extract the relevant data from adata_fetalSC\n",
    "clusters = adata_fetalSC.obs['cluster']\n",
    "\n",
    "# Join this data with adata_fetal\n",
    "# This will align the 'cluster' data with the cell indices of adata_fetal\n",
    "joined_data = adata_fetal.obs.join(clusters, how='left', rsuffix='_new')\n",
    "\n",
    "# For cells that are in adata_fetalSC, update their 'Cell State' with the new cluster labels\n",
    "# Cells not in adata_fetalSC will retain their original 'Cell State' values\n",
    "adata_fetal.obs['Cell States'] = joined_data.apply(\n",
    "    lambda row: row['cluster'] if pd.notna(row['cluster']) else row['Cell States'], axis=1\n",
    ")"
   ]
  },
  {
   "cell_type": "code",
   "execution_count": 19,
   "metadata": {},
   "outputs": [],
   "source": [
    "df = adata_fetal.obs['Cell States'].value_counts()"
   ]
  },
  {
   "cell_type": "code",
   "execution_count": 21,
   "metadata": {},
   "outputs": [],
   "source": [
    "# Write the file\n",
    "output_path = 'FetalSC_data/Fetal_cells.h5ad'\n",
    "adata_fetal.write_h5ad(output_path)"
   ]
  }
 ],
 "metadata": {
  "kernelspec": {
   "display_name": "Scanpy",
   "language": "python",
   "name": "scnapy-server"
  },
  "language_info": {
   "codemirror_mode": {
    "name": "ipython",
    "version": 3
   },
   "file_extension": ".py",
   "mimetype": "text/x-python",
   "name": "python",
   "nbconvert_exporter": "python",
   "pygments_lexer": "ipython3",
   "version": "3.11.5"
  }
 },
 "nbformat": 4,
 "nbformat_minor": 2
}
