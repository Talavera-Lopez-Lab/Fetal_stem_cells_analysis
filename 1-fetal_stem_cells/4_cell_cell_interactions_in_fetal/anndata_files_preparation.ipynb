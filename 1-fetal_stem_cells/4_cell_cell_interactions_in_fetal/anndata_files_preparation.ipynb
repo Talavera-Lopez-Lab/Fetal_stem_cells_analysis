{
 "cells": [
  {
   "cell_type": "markdown",
   "metadata": {},
   "source": [
    "### Notebook for the anndata files preparation before CCI analysis of fetal SC with other fetal cells\n",
    "- **Developed by:** Anna Maguza\n",
    "- **Place:** Wuerzburg Institute for System Immunology\n",
    "- **Date:** 20th November 2023"
   ]
  },
  {
   "cell_type": "markdown",
   "metadata": {},
   "source": [
    "### Import packages"
   ]
  },
  {
   "cell_type": "code",
   "execution_count": 1,
   "metadata": {},
   "outputs": [],
   "source": [
    "import scanpy as sc\n",
    "import pandas as pd\n",
    "import numpy as np\n",
    "import matplotlib.pyplot as plt\n",
    "import anndata\n",
    "import scipy as sp"
   ]
  },
  {
   "cell_type": "markdown",
   "metadata": {},
   "source": [
    "### Set up the cells"
   ]
  },
  {
   "cell_type": "code",
   "execution_count": 2,
   "metadata": {},
   "outputs": [],
   "source": [
    "%matplotlib inline"
   ]
  },
  {
   "cell_type": "code",
   "execution_count": 3,
   "metadata": {},
   "outputs": [
    {
     "name": "stdout",
     "output_type": "stream",
     "text": [
      "-----\n",
      "anndata     0.9.2\n",
      "scanpy      1.9.5\n",
      "-----\n",
      "PIL                         10.0.1\n",
      "anyio                       NA\n",
      "arrow                       1.3.0\n",
      "asttokens                   NA\n",
      "attr                        23.1.0\n",
      "attrs                       23.1.0\n",
      "babel                       2.13.0\n",
      "backcall                    0.2.0\n",
      "certifi                     2023.07.22\n",
      "cffi                        1.16.0\n",
      "charset_normalizer          3.3.0\n",
      "colorama                    0.4.6\n",
      "comm                        0.1.4\n",
      "cycler                      0.10.0\n",
      "cython_runtime              NA\n",
      "dateutil                    2.8.2\n",
      "debugpy                     1.8.0\n",
      "decorator                   5.1.1\n",
      "defusedxml                  0.7.1\n",
      "executing                   2.0.0\n",
      "fastjsonschema              NA\n",
      "fqdn                        NA\n",
      "h5py                        3.9.0\n",
      "idna                        3.4\n",
      "igraph                      0.11.2\n",
      "ipykernel                   6.25.2\n",
      "ipywidgets                  8.1.1\n",
      "isoduration                 NA\n",
      "jedi                        0.19.1\n",
      "jinja2                      3.1.2\n",
      "joblib                      1.3.2\n",
      "json5                       NA\n",
      "jsonpointer                 2.4\n",
      "jsonschema                  4.19.1\n",
      "jsonschema_specifications   NA\n",
      "jupyter_events              0.7.0\n",
      "jupyter_server              2.7.3\n",
      "jupyterlab_server           2.25.0\n",
      "kiwisolver                  1.4.5\n",
      "leidenalg                   0.10.1\n",
      "llvmlite                    0.40.1\n",
      "markupsafe                  2.1.3\n",
      "matplotlib                  3.8.0\n",
      "matplotlib_inline           0.1.6\n",
      "mpl_toolkits                NA\n",
      "natsort                     8.4.0\n",
      "nbformat                    5.9.2\n",
      "numba                       0.57.1\n",
      "numpy                       1.24.4\n",
      "overrides                   NA\n",
      "packaging                   23.2\n",
      "pandas                      2.1.1\n",
      "parso                       0.8.3\n",
      "pexpect                     4.8.0\n",
      "pickleshare                 0.7.5\n",
      "platformdirs                3.11.0\n",
      "prometheus_client           NA\n",
      "prompt_toolkit              3.0.39\n",
      "psutil                      5.9.5\n",
      "ptyprocess                  0.7.0\n",
      "pure_eval                   0.2.2\n",
      "pydev_ipython               NA\n",
      "pydevconsole                NA\n",
      "pydevd                      2.9.5\n",
      "pydevd_file_utils           NA\n",
      "pydevd_plugins              NA\n",
      "pydevd_tracing              NA\n",
      "pygments                    2.16.1\n",
      "pyparsing                   3.1.1\n",
      "pythonjsonlogger            NA\n",
      "pytz                        2023.3.post1\n",
      "referencing                 NA\n",
      "requests                    2.31.0\n",
      "rfc3339_validator           0.1.4\n",
      "rfc3986_validator           0.1.1\n",
      "rpds                        NA\n",
      "scipy                       1.11.3\n",
      "send2trash                  NA\n",
      "session_info                1.0.0\n",
      "six                         1.16.0\n",
      "sklearn                     1.3.1\n",
      "sniffio                     1.3.0\n",
      "stack_data                  0.6.3\n",
      "texttable                   1.7.0\n",
      "threadpoolctl               3.2.0\n",
      "tornado                     6.3.3\n",
      "traitlets                   5.11.2\n",
      "typing_extensions           NA\n",
      "uri_template                NA\n",
      "urllib3                     2.0.6\n",
      "wcwidth                     0.2.8\n",
      "webcolors                   1.13\n",
      "websocket                   1.6.4\n",
      "yaml                        6.0.1\n",
      "zmq                         25.1.1\n",
      "zoneinfo                    NA\n",
      "zope                        NA\n",
      "-----\n",
      "IPython             8.16.1\n",
      "jupyter_client      8.3.1\n",
      "jupyter_core        5.3.2\n",
      "jupyterlab          4.0.6\n",
      "notebook            7.0.4\n",
      "-----\n",
      "Python 3.11.5 | packaged by conda-forge | (main, Aug 27 2023, 03:34:09) [GCC 12.3.0]\n",
      "Linux-6.6.9-100.fc38.x86_64-x86_64-with-glibc2.37\n",
      "-----\n",
      "Session information updated at 2024-01-12 10:51\n"
     ]
    }
   ],
   "source": [
    "sc.settings.verbosity = 3\n",
    "sc.logging.print_versions()\n",
    "sc.settings.set_figure_params(dpi = 180, color_map = 'magma_r', dpi_save = 300, vector_friendly = True, format = 'svg')"
   ]
  },
  {
   "cell_type": "code",
   "execution_count": 4,
   "metadata": {},
   "outputs": [],
   "source": [
    "def X_is_raw(adata):\n",
    "    return np.array_equal(adata.X.sum(axis=0).astype(int), adata.X.sum(axis=0))"
   ]
  },
  {
   "cell_type": "markdown",
   "metadata": {},
   "source": [
    "### Data Upload"
   ]
  },
  {
   "cell_type": "code",
   "execution_count": 17,
   "metadata": {},
   "outputs": [],
   "source": [
    "# Read the file\n",
    "input = 'FetalSC_data/Fetal_cells.h5ad'\n",
    "adata = sc.read_h5ad(input)"
   ]
  },
  {
   "cell_type": "code",
   "execution_count": 18,
   "metadata": {},
   "outputs": [
    {
     "data": {
      "text/plain": [
       "True"
      ]
     },
     "execution_count": 18,
     "metadata": {},
     "output_type": "execute_result"
    }
   ],
   "source": [
    "X_is_raw(adata)"
   ]
  },
  {
   "cell_type": "markdown",
   "metadata": {},
   "source": [
    "### Prepare SC-Neuronal objects"
   ]
  },
  {
   "cell_type": "code",
   "execution_count": 7,
   "metadata": {},
   "outputs": [
    {
     "data": {
      "text/plain": [
       "AnnData object with n_obs × n_vars = 231646 × 26442\n",
       "    obs: 'Sample_ID', 'Cell Type', 'Study_name', 'Donor_ID', 'Diagnosis', 'Age', 'Region code', 'Fraction', 'Sex', 'Library_Preparation_Protocol', 'batch', 'Age_group', 'Location', 'Cell States', 'Cell States GCA', 'Chem', 'Layer', 'Cell States Kong', 'dataset', 'n_genes_by_counts', 'total_counts', 'total_counts_mito', 'pct_counts_mito', 'total_counts_ribo', 'pct_counts_ribo', 'Cell_ID', '_scvi_batch', '_scvi_labels'\n",
       "    var: 'feature_types-0-0-0', 'gene_name-1-0-0', 'gene_id-0-0', 'GENE-1-0'"
      ]
     },
     "execution_count": 7,
     "metadata": {},
     "output_type": "execute_result"
    }
   ],
   "source": [
    "adata"
   ]
  },
  {
   "cell_type": "code",
   "execution_count": 9,
   "metadata": {},
   "outputs": [
    {
     "data": {
      "text/plain": [
       "Cell Type\n",
       "Mesenchymal        146597\n",
       "Epithelial          46023\n",
       "Neuronal            17154\n",
       "Endothelial          8163\n",
       "Myeloid              7180\n",
       "T cells              4140\n",
       "Red blood cells      1346\n",
       "B cells              1043\n",
       "Name: count, dtype: int64"
      ]
     },
     "execution_count": 9,
     "metadata": {},
     "output_type": "execute_result"
    }
   ],
   "source": [
    "adata.obs['Cell Type'].value_counts()"
   ]
  },
  {
   "cell_type": "code",
   "execution_count": 19,
   "metadata": {},
   "outputs": [
    {
     "name": "stderr",
     "output_type": "stream",
     "text": [
      "/home/amaguza/miniforge3/envs/scanpy_env/lib/python3.11/site-packages/anndata/_core/anndata.py:1113: FutureWarning: is_categorical_dtype is deprecated and will be removed in a future version. Use isinstance(dtype, CategoricalDtype) instead\n",
      "  if not is_categorical_dtype(df_full[k]):\n"
     ]
    }
   ],
   "source": [
    "# Extract neuronal cells\n",
    "neuronal = adata[adata.obs['Cell Type'] == 'Neuronal']"
   ]
  },
  {
   "cell_type": "code",
   "execution_count": 20,
   "metadata": {},
   "outputs": [],
   "source": [
    "# Extract all values from neuronal.obs['Cell States'] into list\n",
    "cell_states = []\n",
    "for i in neuronal.obs['Cell States']:\n",
    "    cell_states.append(i)"
   ]
  },
  {
   "cell_type": "code",
   "execution_count": 21,
   "metadata": {},
   "outputs": [],
   "source": [
    "# Add 'FXYD3+_CKB+_SC', 'ASS1+_SLC40A1+_SC', 'RPS10+_RPS17+_SC' to cell_states\n",
    "cell_states.append('FXYD3+_CKB+_SC')\n",
    "cell_states.append('MTRNR2L12+ASS1+_SC')\n",
    "cell_states.append('RPS10+_RPS17+_SC')"
   ]
  },
  {
   "cell_type": "code",
   "execution_count": 22,
   "metadata": {},
   "outputs": [],
   "source": [
    "# Conver cell_states to a list\n",
    "cell_states = list(cell_states)"
   ]
  },
  {
   "cell_type": "code",
   "execution_count": 23,
   "metadata": {},
   "outputs": [
    {
     "name": "stderr",
     "output_type": "stream",
     "text": [
      "/home/amaguza/miniforge3/envs/scanpy_env/lib/python3.11/site-packages/anndata/_core/anndata.py:1113: FutureWarning: is_categorical_dtype is deprecated and will be removed in a future version. Use isinstance(dtype, CategoricalDtype) instead\n",
      "  if not is_categorical_dtype(df_full[k]):\n"
     ]
    }
   ],
   "source": [
    "# Create a new object from adata that contains only cells from cell_states\n",
    "neuronal = adata[adata.obs['Cell States'].isin(cell_states)]"
   ]
  },
  {
   "cell_type": "code",
   "execution_count": 24,
   "metadata": {},
   "outputs": [
    {
     "data": {
      "text/plain": [
       "Cell States\n",
       "MTRNR2L12+ASS1+_SC      3979\n",
       "RPS10+_RPS17+_SC        3544\n",
       "ENCC/glia Progenitor    3234\n",
       "cycling ENCC/glia       2923\n",
       "Branch B1 (eMN)         1923\n",
       "Branch A1 (iMN)         1712\n",
       "Neuroblast              1650\n",
       "Glia 3 (BCAN+)          1448\n",
       "Glia 1 (DHH+)            956\n",
       "cycling neuroblast       689\n",
       "Branch A2 (IPAN/IN)      682\n",
       "Glia 2 (ELN+)            552\n",
       "Branch B2 (eMN)          501\n",
       "Differentiating glia     459\n",
       "FXYD3+_CKB+_SC           294\n",
       "Branch A3 (IPAN/IN)      247\n",
       "Branch A4 (IN)           127\n",
       "Branch B3 (IPAN)          51\n",
       "Name: count, dtype: int64"
      ]
     },
     "execution_count": 24,
     "metadata": {},
     "output_type": "execute_result"
    }
   ],
   "source": [
    "neuronal.obs['Cell States'].value_counts()"
   ]
  },
  {
   "cell_type": "code",
   "execution_count": 25,
   "metadata": {},
   "outputs": [],
   "source": [
    "# Save raw counts\n",
    "neuronal.raw = neuronal"
   ]
  },
  {
   "cell_type": "code",
   "execution_count": 27,
   "metadata": {},
   "outputs": [],
   "source": [
    "# Save the file\n",
    "neuronal.write('FetalSC_data/FetalSC_and_other_fetal_cells/FetalSC_and_neuronal_cells_raw.h5ad')"
   ]
  },
  {
   "cell_type": "markdown",
   "metadata": {},
   "source": [
    "+ Preparing object for CellChat"
   ]
  },
  {
   "cell_type": "code",
   "execution_count": 28,
   "metadata": {},
   "outputs": [
    {
     "data": {
      "text/plain": [
       "AnnData object with n_obs × n_vars = 24971 × 26442\n",
       "    obs: 'Sample_ID', 'Cell Type', 'Study_name', 'Donor_ID', 'Diagnosis', 'Age', 'Region code', 'Fraction', 'Sex', 'Library_Preparation_Protocol', 'batch', 'Age_group', 'Location', 'Cell States', 'Cell States GCA', 'Chem', 'Layer', 'Cell States Kong', 'dataset', 'n_genes_by_counts', 'total_counts', 'total_counts_mito', 'pct_counts_mito', 'total_counts_ribo', 'pct_counts_ribo', 'Cell_ID', '_scvi_batch', '_scvi_labels'\n",
       "    var: 'feature_types-0-0-0', 'gene_name-1-0-0', 'gene_id-0-0', 'GENE-1-0'"
      ]
     },
     "execution_count": 28,
     "metadata": {},
     "output_type": "execute_result"
    }
   ],
   "source": [
    "adata_new = anndata.AnnData(X = neuronal.X, obs = neuronal.obs, var = neuronal.var)\n",
    "adata_new"
   ]
  },
  {
   "cell_type": "code",
   "execution_count": 29,
   "metadata": {},
   "outputs": [
    {
     "data": {
      "text/plain": [
       "Index(['Branch A1 (iMN)', 'Branch A2 (IPAN/IN)', 'Branch A3 (IPAN/IN)',\n",
       "       'Branch A4 (IN)', 'Branch B1 (eMN)', 'Branch B2 (eMN)',\n",
       "       'Branch B3 (IPAN)', 'Differentiating glia', 'ENCC/glia Progenitor',\n",
       "       'FXYD3+_CKB+_SC', 'Glia 1 (DHH+)', 'Glia 2 (ELN+)', 'Glia 3 (BCAN+)',\n",
       "       'MTRNR2L12+ASS1+_SC', 'Neuroblast', 'RPS10+_RPS17+_SC',\n",
       "       'cycling ENCC/glia', 'cycling neuroblast'],\n",
       "      dtype='object')"
      ]
     },
     "execution_count": 29,
     "metadata": {},
     "output_type": "execute_result"
    }
   ],
   "source": [
    "adata_new.obs['Cell States'].cat.categories"
   ]
  },
  {
   "cell_type": "code",
   "execution_count": 30,
   "metadata": {},
   "outputs": [
    {
     "name": "stdout",
     "output_type": "stream",
     "text": [
      "normalizing counts per cell The following highly-expressed genes are not considered during normalization factor computation:\n",
      "['CHGA', 'DEFA5', 'DEFA6', 'FTL', 'HBA1', 'HBA2', 'HBB', 'HBG2', 'MALAT1', 'MT-ATP6', 'MT-CO1', 'MT-CO2', 'MT-CO3', 'MT-CYB', 'MT-ND3', 'MT-ND4', 'MT-ND4L', 'MTRNR2L12', 'NEAT1', 'SST', 'TAC1']\n",
      "    finished (0:00:00)\n"
     ]
    }
   ],
   "source": [
    "sc.pp.normalize_total(adata_new, target_sum = 1e6, exclude_highly_expressed = True)\n",
    "sc.pp.log1p(adata_new)\n",
    "adata_new.X = sp.sparse.csc_matrix(adata_new.X)"
   ]
  },
  {
   "cell_type": "code",
   "execution_count": 31,
   "metadata": {},
   "outputs": [],
   "source": [
    "# Save the file\n",
    "adata_new.write('FetalSC_data/FetalSC_and_other_fetal_cells/FetalSC_and_neuronal_cells_CellChat.h5ad')"
   ]
  },
  {
   "cell_type": "markdown",
   "metadata": {},
   "source": [
    "### Prepare SC-Myeloid objects"
   ]
  },
  {
   "cell_type": "code",
   "execution_count": 32,
   "metadata": {},
   "outputs": [
    {
     "data": {
      "text/plain": [
       "AnnData object with n_obs × n_vars = 231646 × 26442\n",
       "    obs: 'Sample_ID', 'Cell Type', 'Study_name', 'Donor_ID', 'Diagnosis', 'Age', 'Region code', 'Fraction', 'Sex', 'Library_Preparation_Protocol', 'batch', 'Age_group', 'Location', 'Cell States', 'Cell States GCA', 'Chem', 'Layer', 'Cell States Kong', 'dataset', 'n_genes_by_counts', 'total_counts', 'total_counts_mito', 'pct_counts_mito', 'total_counts_ribo', 'pct_counts_ribo', 'Cell_ID', '_scvi_batch', '_scvi_labels'\n",
       "    var: 'feature_types-0-0-0', 'gene_name-1-0-0', 'gene_id-0-0', 'GENE-1-0'"
      ]
     },
     "execution_count": 32,
     "metadata": {},
     "output_type": "execute_result"
    }
   ],
   "source": [
    "adata"
   ]
  },
  {
   "cell_type": "code",
   "execution_count": 33,
   "metadata": {},
   "outputs": [
    {
     "data": {
      "text/plain": [
       "Cell Type\n",
       "Mesenchymal        146597\n",
       "Epithelial          46023\n",
       "Neuronal            17154\n",
       "Endothelial          8163\n",
       "Myeloid              7180\n",
       "T cells              4140\n",
       "Red blood cells      1346\n",
       "B cells              1043\n",
       "Name: count, dtype: int64"
      ]
     },
     "execution_count": 33,
     "metadata": {},
     "output_type": "execute_result"
    }
   ],
   "source": [
    "adata.obs['Cell Type'].value_counts()"
   ]
  },
  {
   "cell_type": "code",
   "execution_count": 34,
   "metadata": {},
   "outputs": [
    {
     "name": "stderr",
     "output_type": "stream",
     "text": [
      "/home/amaguza/miniforge3/envs/scanpy_env/lib/python3.11/site-packages/anndata/_core/anndata.py:1113: FutureWarning: is_categorical_dtype is deprecated and will be removed in a future version. Use isinstance(dtype, CategoricalDtype) instead\n",
      "  if not is_categorical_dtype(df_full[k]):\n"
     ]
    }
   ],
   "source": [
    "# Extract neuronal cells\n",
    "myeloid = adata[adata.obs['Cell Type'] == 'Myeloid']"
   ]
  },
  {
   "cell_type": "code",
   "execution_count": 35,
   "metadata": {},
   "outputs": [],
   "source": [
    "# Extract all values from neuronal.obs['Cell States'] into list\n",
    "cell_states = []\n",
    "for i in myeloid.obs['Cell States']:\n",
    "    cell_states.append(i)"
   ]
  },
  {
   "cell_type": "code",
   "execution_count": 36,
   "metadata": {},
   "outputs": [],
   "source": [
    "# Add 'FXYD3+_CKB+_SC', 'ASS1+_SLC40A1+_SC', 'RPS10+_RPS17+_SC' to cell_states\n",
    "cell_states.append('FXYD3+_CKB+_SC')\n",
    "cell_states.append('MTRNR2L12+ASS1+_SC')\n",
    "cell_states.append('RPS10+_RPS17+_SC')"
   ]
  },
  {
   "cell_type": "code",
   "execution_count": 37,
   "metadata": {},
   "outputs": [],
   "source": [
    "# Conver cell_states to a list\n",
    "cell_states = list(cell_states)"
   ]
  },
  {
   "cell_type": "code",
   "execution_count": 38,
   "metadata": {},
   "outputs": [
    {
     "name": "stderr",
     "output_type": "stream",
     "text": [
      "/home/amaguza/miniforge3/envs/scanpy_env/lib/python3.11/site-packages/anndata/_core/anndata.py:1113: FutureWarning: is_categorical_dtype is deprecated and will be removed in a future version. Use isinstance(dtype, CategoricalDtype) instead\n",
      "  if not is_categorical_dtype(df_full[k]):\n"
     ]
    }
   ],
   "source": [
    "# Create a new object from adata that contains only cells from cell_states\n",
    "myeloid = adata[adata.obs['Cell States'].isin(cell_states)]"
   ]
  },
  {
   "cell_type": "code",
   "execution_count": 39,
   "metadata": {},
   "outputs": [
    {
     "data": {
      "text/plain": [
       "Cell States\n",
       "MTRNR2L12+ASS1+_SC               3979\n",
       "RPS10+_RPS17+_SC                 3544\n",
       "Macrophages                      3105\n",
       "LYVE1+ Macrophage                1757\n",
       "cDC2                             1232\n",
       "Monocytes                         439\n",
       "FXYD3+_CKB+_SC                    294\n",
       "cDC1                              210\n",
       "CLC+ Mast cell                    121\n",
       "MPO+ mono-neutrophil              114\n",
       "pDC                               102\n",
       "Megakaryocyte                      56\n",
       "Mast cell                          31\n",
       "Lymphoid DC                         9\n",
       "MMP9+ Inflammatory macrophage       4\n",
       "Name: count, dtype: int64"
      ]
     },
     "execution_count": 39,
     "metadata": {},
     "output_type": "execute_result"
    }
   ],
   "source": [
    "myeloid.obs['Cell States'].value_counts()"
   ]
  },
  {
   "cell_type": "code",
   "execution_count": 40,
   "metadata": {},
   "outputs": [],
   "source": [
    "# Save raw counts\n",
    "myeloid.raw = myeloid"
   ]
  },
  {
   "cell_type": "code",
   "execution_count": 41,
   "metadata": {},
   "outputs": [],
   "source": [
    "# Save the file\n",
    "myeloid.write('FetalSC_data/FetalSC_and_other_fetal_cells/FetalSC_and_myeloid_cells_raw.h5ad')"
   ]
  },
  {
   "cell_type": "markdown",
   "metadata": {},
   "source": [
    "+ Preparing object for CellChat"
   ]
  },
  {
   "cell_type": "code",
   "execution_count": 42,
   "metadata": {},
   "outputs": [
    {
     "data": {
      "text/plain": [
       "AnnData object with n_obs × n_vars = 14997 × 26442\n",
       "    obs: 'Sample_ID', 'Cell Type', 'Study_name', 'Donor_ID', 'Diagnosis', 'Age', 'Region code', 'Fraction', 'Sex', 'Library_Preparation_Protocol', 'batch', 'Age_group', 'Location', 'Cell States', 'Cell States GCA', 'Chem', 'Layer', 'Cell States Kong', 'dataset', 'n_genes_by_counts', 'total_counts', 'total_counts_mito', 'pct_counts_mito', 'total_counts_ribo', 'pct_counts_ribo', 'Cell_ID', '_scvi_batch', '_scvi_labels'\n",
       "    var: 'feature_types-0-0-0', 'gene_name-1-0-0', 'gene_id-0-0', 'GENE-1-0'"
      ]
     },
     "execution_count": 42,
     "metadata": {},
     "output_type": "execute_result"
    }
   ],
   "source": [
    "adata_new = anndata.AnnData(X = myeloid.X, obs = myeloid.obs, var = myeloid.var)\n",
    "adata_new"
   ]
  },
  {
   "cell_type": "code",
   "execution_count": 43,
   "metadata": {},
   "outputs": [
    {
     "data": {
      "text/plain": [
       "Index(['CLC+ Mast cell', 'FXYD3+_CKB+_SC', 'LYVE1+ Macrophage', 'Lymphoid DC',\n",
       "       'MMP9+ Inflammatory macrophage', 'MPO+ mono-neutrophil',\n",
       "       'MTRNR2L12+ASS1+_SC', 'Macrophages', 'Mast cell', 'Megakaryocyte',\n",
       "       'Monocytes', 'RPS10+_RPS17+_SC', 'cDC1', 'cDC2', 'pDC'],\n",
       "      dtype='object')"
      ]
     },
     "execution_count": 43,
     "metadata": {},
     "output_type": "execute_result"
    }
   ],
   "source": [
    "adata_new.obs['Cell States'].cat.categories"
   ]
  },
  {
   "cell_type": "code",
   "execution_count": 44,
   "metadata": {},
   "outputs": [
    {
     "name": "stdout",
     "output_type": "stream",
     "text": [
      "normalizing counts per cell The following highly-expressed genes are not considered during normalization factor computation:\n",
      "['ACTB', 'CD74', 'CLC', 'CST3', 'CXCL8', 'DEFA5', 'DEFA6', 'FOS', 'FTH1', 'FTL', 'HBA2', 'HBG2', 'HSP90AA1', 'HSPA1A', 'HSPA6', 'HSPB1', 'LYZ', 'MALAT1', 'MT-ATP6', 'MT-ATP8', 'MT-CO1', 'MT-CO2', 'MT-CO3', 'MT-CYB', 'MT-ND3', 'MT-ND4', 'MT-ND4L', 'MTRNR2L12', 'NEAT1', 'PF4', 'PPBP', 'PRG2', 'S100A12', 'S100A8', 'S100A9', 'SPP1', 'SST', 'TMSB4X', 'TPSAB1']\n",
      "    finished (0:00:00)\n"
     ]
    }
   ],
   "source": [
    "sc.pp.normalize_total(adata_new, target_sum = 1e6, exclude_highly_expressed = True)\n",
    "sc.pp.log1p(adata_new)\n",
    "adata_new.X = sp.sparse.csc_matrix(adata_new.X)"
   ]
  },
  {
   "cell_type": "code",
   "execution_count": 45,
   "metadata": {},
   "outputs": [],
   "source": [
    "# Save the file\n",
    "adata_new.write('FetalSC_data/FetalSC_and_other_fetal_cells/FetalSC_and_myeloid_cells_CellChat.h5ad')"
   ]
  }
 ],
 "metadata": {
  "kernelspec": {
   "display_name": "Scanpy",
   "language": "python",
   "name": "scnapy-server"
  }
 },
 "nbformat": 4,
 "nbformat_minor": 2
}
