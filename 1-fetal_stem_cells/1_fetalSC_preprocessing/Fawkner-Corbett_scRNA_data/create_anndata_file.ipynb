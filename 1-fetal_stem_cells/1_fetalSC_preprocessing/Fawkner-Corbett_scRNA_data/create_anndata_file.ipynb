{
 "cells": [
  {
   "cell_type": "markdown",
   "metadata": {},
   "source": [
    "### Notebook for the anndata file creation from Fetal Gut data from Fawkner-Corbett study\n",
    "- **Developed by:** Anna Maguza\n",
    "- **Place:** Wuerzburg Institute for System Immunology\n",
    "- **Date:** 8th March 2024"
   ]
  },
  {
   "cell_type": "markdown",
   "metadata": {},
   "source": [
    "### Import packages"
   ]
  },
  {
   "cell_type": "code",
   "execution_count": 1,
   "metadata": {},
   "outputs": [],
   "source": [
    "import scanpy as sc\n",
    "import pandas as pd\n",
    "import numpy as np\n",
    "import matplotlib.pyplot as plt\n",
    "import os\n",
    "import anndata"
   ]
  },
  {
   "cell_type": "markdown",
   "metadata": {},
   "source": [
    "### Set up the cells"
   ]
  },
  {
   "cell_type": "code",
   "execution_count": 2,
   "metadata": {},
   "outputs": [],
   "source": [
    "%matplotlib inline"
   ]
  },
  {
   "cell_type": "code",
   "execution_count": 3,
   "metadata": {},
   "outputs": [
    {
     "name": "stdout",
     "output_type": "stream",
     "text": [
      "-----\n",
      "anndata     0.9.2\n",
      "scanpy      1.9.5\n",
      "-----\n",
      "PIL                         10.0.1\n",
      "anyio                       NA\n",
      "arrow                       1.3.0\n",
      "asttokens                   NA\n",
      "attr                        23.1.0\n",
      "attrs                       23.1.0\n",
      "babel                       2.13.0\n",
      "backcall                    0.2.0\n",
      "certifi                     2023.07.22\n",
      "cffi                        1.16.0\n",
      "charset_normalizer          3.3.0\n",
      "colorama                    0.4.6\n",
      "comm                        0.1.4\n",
      "cycler                      0.10.0\n",
      "cython_runtime              NA\n",
      "dateutil                    2.8.2\n",
      "debugpy                     1.8.0\n",
      "decorator                   5.1.1\n",
      "defusedxml                  0.7.1\n",
      "executing                   2.0.0\n",
      "fastjsonschema              NA\n",
      "fqdn                        NA\n",
      "h5py                        3.9.0\n",
      "idna                        3.4\n",
      "igraph                      0.11.2\n",
      "ipykernel                   6.25.2\n",
      "ipywidgets                  8.1.1\n",
      "isoduration                 NA\n",
      "jedi                        0.19.1\n",
      "jinja2                      3.1.2\n",
      "joblib                      1.3.2\n",
      "json5                       NA\n",
      "jsonpointer                 2.4\n",
      "jsonschema                  4.19.1\n",
      "jsonschema_specifications   NA\n",
      "jupyter_events              0.7.0\n",
      "jupyter_server              2.7.3\n",
      "jupyterlab_server           2.25.0\n",
      "kiwisolver                  1.4.5\n",
      "leidenalg                   0.10.1\n",
      "llvmlite                    0.40.1\n",
      "markupsafe                  2.1.3\n",
      "matplotlib                  3.8.0\n",
      "matplotlib_inline           0.1.6\n",
      "mpl_toolkits                NA\n",
      "natsort                     8.4.0\n",
      "nbformat                    5.9.2\n",
      "numba                       0.57.1\n",
      "numpy                       1.24.4\n",
      "overrides                   NA\n",
      "packaging                   23.2\n",
      "pandas                      2.1.1\n",
      "parso                       0.8.3\n",
      "pexpect                     4.8.0\n",
      "pickleshare                 0.7.5\n",
      "platformdirs                3.11.0\n",
      "prometheus_client           NA\n",
      "prompt_toolkit              3.0.39\n",
      "psutil                      5.9.5\n",
      "ptyprocess                  0.7.0\n",
      "pure_eval                   0.2.2\n",
      "pydev_ipython               NA\n",
      "pydevconsole                NA\n",
      "pydevd                      2.9.5\n",
      "pydevd_file_utils           NA\n",
      "pydevd_plugins              NA\n",
      "pydevd_tracing              NA\n",
      "pygments                    2.16.1\n",
      "pyparsing                   3.1.1\n",
      "pythonjsonlogger            NA\n",
      "pytz                        2023.3.post1\n",
      "referencing                 NA\n",
      "requests                    2.31.0\n",
      "rfc3339_validator           0.1.4\n",
      "rfc3986_validator           0.1.1\n",
      "rpds                        NA\n",
      "scipy                       1.11.3\n",
      "send2trash                  NA\n",
      "session_info                1.0.0\n",
      "six                         1.16.0\n",
      "sklearn                     1.3.1\n",
      "sniffio                     1.3.0\n",
      "stack_data                  0.6.3\n",
      "texttable                   1.7.0\n",
      "threadpoolctl               3.2.0\n",
      "tornado                     6.3.3\n",
      "traitlets                   5.11.2\n",
      "typing_extensions           NA\n",
      "uri_template                NA\n",
      "urllib3                     2.0.6\n",
      "vscode                      NA\n",
      "wcwidth                     0.2.8\n",
      "webcolors                   1.13\n",
      "websocket                   1.6.4\n",
      "yaml                        6.0.1\n",
      "zmq                         25.1.1\n",
      "zoneinfo                    NA\n",
      "zope                        NA\n",
      "-----\n",
      "IPython             8.16.1\n",
      "jupyter_client      8.3.1\n",
      "jupyter_core        5.3.2\n",
      "jupyterlab          4.0.6\n",
      "notebook            7.0.4\n",
      "-----\n",
      "Python 3.11.5 | packaged by conda-forge | (main, Aug 27 2023, 03:34:09) [GCC 12.3.0]\n",
      "Linux-6.6.14-100.fc38.x86_64-x86_64-with-glibc2.37\n",
      "-----\n",
      "Session information updated at 2024-03-12 12:23\n"
     ]
    }
   ],
   "source": [
    "sc.settings.verbosity = 3\n",
    "sc.logging.print_versions()\n",
    "sc.settings.set_figure_params(dpi = 180, color_map = 'magma_r', dpi_save = 300, vector_friendly = True, format = 'svg')"
   ]
  },
  {
   "cell_type": "code",
   "execution_count": 4,
   "metadata": {},
   "outputs": [],
   "source": [
    "def X_is_raw(adata):\n",
    "    return np.array_equal(adata.X.sum(axis=0).astype(int), adata.X.sum(axis=0))"
   ]
  },
  {
   "cell_type": "markdown",
   "metadata": {},
   "source": [
    "* Create anndata file"
   ]
  },
  {
   "cell_type": "code",
   "execution_count": 5,
   "metadata": {},
   "outputs": [],
   "source": [
    "# Load the list of sample names\n",
    "with open('/mnt/LaCIE/annaM/gut_project/raw_data/Fawkner-Corbett_2021/scRNA_seq_data/sra_accessions.txt', 'r') as file:\n",
    "    sample_names = file.read().splitlines()"
   ]
  },
  {
   "cell_type": "code",
   "execution_count": 6,
   "metadata": {},
   "outputs": [],
   "source": [
    "# Directory where the anndata files are stored\n",
    "data_dir = '/mnt/LaCIE/annaM/gut_project/raw_data/Fawkner-Corbett_2021/scRNA_seq_data/mapped_files'"
   ]
  },
  {
   "cell_type": "code",
   "execution_count": 7,
   "metadata": {},
   "outputs": [
    {
     "name": "stderr",
     "output_type": "stream",
     "text": [
      "/home/amaguza/miniforge3/envs/scanpy_env/lib/python3.11/site-packages/anndata/_core/merge.py:217: FutureWarning: is_categorical_dtype is deprecated and will be removed in a future version. Use isinstance(dtype, CategoricalDtype) instead\n",
      "  if pd.api.types.is_categorical_dtype(dtype):\n",
      "/home/amaguza/miniforge3/envs/scanpy_env/lib/python3.11/site-packages/anndata/_core/anndata.py:1838: UserWarning: Observation names are not unique. To make them unique, call `.obs_names_make_unique`.\n",
      "  utils.warn_names_duplicates(\"obs\")\n"
     ]
    }
   ],
   "source": [
    "# Initialize an empty list to hold the anndata objects\n",
    "adatas = []\n",
    "\n",
    "for sample in sample_names:\n",
    "    # Construct the file path for the anndata file\n",
    "    file_path = os.path.join(data_dir, sample, 'counts_unfiltered', 'adata.h5ad')\n",
    "\n",
    "    # Load the anndata object\n",
    "    adata = anndata.read_h5ad(file_path)\n",
    "\n",
    "    # Add the 'SRA_sample' column to the obs dataframe\n",
    "    adata.obs['SRA_sample'] = sample\n",
    "\n",
    "    # Append the modified anndata object to the list\n",
    "    adatas.append(adata)\n",
    "\n",
    "# Concatenate all anndata objects\n",
    "final_adata = anndata.concat(adatas, join='outer')"
   ]
  },
  {
   "cell_type": "markdown",
   "metadata": {},
   "source": [
    "+ Correct adata.var"
   ]
  },
  {
   "cell_type": "code",
   "execution_count": 20,
   "metadata": {},
   "outputs": [],
   "source": [
    "#import transcripts_to_genes.txt as dataframe\n",
    "transcripts_to_genes = pd.read_csv('/mnt/LaCIE/annaM/human_reference_genome/index_file_bustool/transcripts_to_genes.txt', sep='\\t')"
   ]
  },
  {
   "cell_type": "code",
   "execution_count": 21,
   "metadata": {},
   "outputs": [
    {
     "data": {
      "text/html": [
       "<div>\n",
       "<style scoped>\n",
       "    .dataframe tbody tr th:only-of-type {\n",
       "        vertical-align: middle;\n",
       "    }\n",
       "\n",
       "    .dataframe tbody tr th {\n",
       "        vertical-align: top;\n",
       "    }\n",
       "\n",
       "    .dataframe thead th {\n",
       "        text-align: right;\n",
       "    }\n",
       "</style>\n",
       "<table border=\"1\" class=\"dataframe\">\n",
       "  <thead>\n",
       "    <tr style=\"text-align: right;\">\n",
       "      <th></th>\n",
       "      <th>TCONS_00023547</th>\n",
       "      <th>XLOC_006889</th>\n",
       "      <th>DDX11L1</th>\n",
       "      <th>Unnamed: 3</th>\n",
       "      <th>chr1</th>\n",
       "      <th>11869</th>\n",
       "      <th>14409</th>\n",
       "      <th>+</th>\n",
       "    </tr>\n",
       "  </thead>\n",
       "  <tbody>\n",
       "    <tr>\n",
       "      <th>0</th>\n",
       "      <td>TCONS_00023548</td>\n",
       "      <td>XLOC_006889</td>\n",
       "      <td>DDX11L1</td>\n",
       "      <td>NaN</td>\n",
       "      <td>chr1</td>\n",
       "      <td>12010</td>\n",
       "      <td>13670</td>\n",
       "      <td>+</td>\n",
       "    </tr>\n",
       "    <tr>\n",
       "      <th>1</th>\n",
       "      <td>TCONS_00023550</td>\n",
       "      <td>XLOC_006890</td>\n",
       "      <td>MIR1302-2</td>\n",
       "      <td>NaN</td>\n",
       "      <td>chr1</td>\n",
       "      <td>30267</td>\n",
       "      <td>31109</td>\n",
       "      <td>+</td>\n",
       "    </tr>\n",
       "    <tr>\n",
       "      <th>2</th>\n",
       "      <td>TCONS_00023551</td>\n",
       "      <td>XLOC_006890</td>\n",
       "      <td>MIR1302-2</td>\n",
       "      <td>NaN</td>\n",
       "      <td>chr1</td>\n",
       "      <td>30366</td>\n",
       "      <td>30503</td>\n",
       "      <td>+</td>\n",
       "    </tr>\n",
       "    <tr>\n",
       "      <th>3</th>\n",
       "      <td>TCONS_00023549</td>\n",
       "      <td>XLOC_006890</td>\n",
       "      <td>MIR1302-2</td>\n",
       "      <td>NaN</td>\n",
       "      <td>chr1</td>\n",
       "      <td>29554</td>\n",
       "      <td>31097</td>\n",
       "      <td>+</td>\n",
       "    </tr>\n",
       "    <tr>\n",
       "      <th>4</th>\n",
       "      <td>TCONS_00023552</td>\n",
       "      <td>XLOC_006891</td>\n",
       "      <td>OR4G4P</td>\n",
       "      <td>NaN</td>\n",
       "      <td>chr1</td>\n",
       "      <td>52473</td>\n",
       "      <td>53312</td>\n",
       "      <td>+</td>\n",
       "    </tr>\n",
       "  </tbody>\n",
       "</table>\n",
       "</div>"
      ],
      "text/plain": [
       "   TCONS_00023547  XLOC_006889    DDX11L1  Unnamed: 3  chr1  11869  14409  +\n",
       "0  TCONS_00023548  XLOC_006889    DDX11L1         NaN  chr1  12010  13670  +\n",
       "1  TCONS_00023550  XLOC_006890  MIR1302-2         NaN  chr1  30267  31109  +\n",
       "2  TCONS_00023551  XLOC_006890  MIR1302-2         NaN  chr1  30366  30503  +\n",
       "3  TCONS_00023549  XLOC_006890  MIR1302-2         NaN  chr1  29554  31097  +\n",
       "4  TCONS_00023552  XLOC_006891     OR4G4P         NaN  chr1  52473  53312  +"
      ]
     },
     "execution_count": 21,
     "metadata": {},
     "output_type": "execute_result"
    }
   ],
   "source": [
    "transcripts_to_genes.head()"
   ]
  },
  {
   "cell_type": "code",
   "execution_count": 22,
   "metadata": {},
   "outputs": [],
   "source": [
    "# copy the column names as a last row\n",
    "transcripts_to_genes.loc[-1] = transcripts_to_genes.columns"
   ]
  },
  {
   "cell_type": "code",
   "execution_count": 23,
   "metadata": {},
   "outputs": [],
   "source": [
    "# change column names: TCONS_00023416 to transcript_id, XLOC_006846 to locus_id, DDX11L1 to gene_id, chr1 to chromosome, 12010 to start_position, 13670 to end_position\n",
    "transcripts_to_genes.rename(columns={'TCONS_00023547':'transcript_id', 'XLOC_006889':'locus_id', 'DDX11L1':'gene_id', 'chr1':'chromosome', '11869':'start_position', '14409':'end_position'}, inplace=True)"
   ]
  },
  {
   "cell_type": "code",
   "execution_count": 24,
   "metadata": {},
   "outputs": [
    {
     "data": {
      "text/html": [
       "<div>\n",
       "<style scoped>\n",
       "    .dataframe tbody tr th:only-of-type {\n",
       "        vertical-align: middle;\n",
       "    }\n",
       "\n",
       "    .dataframe tbody tr th {\n",
       "        vertical-align: top;\n",
       "    }\n",
       "\n",
       "    .dataframe thead th {\n",
       "        text-align: right;\n",
       "    }\n",
       "</style>\n",
       "<table border=\"1\" class=\"dataframe\">\n",
       "  <thead>\n",
       "    <tr style=\"text-align: right;\">\n",
       "      <th></th>\n",
       "      <th>transcript_id</th>\n",
       "      <th>locus_id</th>\n",
       "      <th>gene_id</th>\n",
       "      <th>Unnamed: 3</th>\n",
       "      <th>chromosome</th>\n",
       "      <th>start_position</th>\n",
       "      <th>end_position</th>\n",
       "      <th>+</th>\n",
       "    </tr>\n",
       "  </thead>\n",
       "  <tbody>\n",
       "    <tr>\n",
       "      <th>0</th>\n",
       "      <td>TCONS_00023548</td>\n",
       "      <td>XLOC_006889</td>\n",
       "      <td>DDX11L1</td>\n",
       "      <td>NaN</td>\n",
       "      <td>chr1</td>\n",
       "      <td>12010</td>\n",
       "      <td>13670</td>\n",
       "      <td>+</td>\n",
       "    </tr>\n",
       "    <tr>\n",
       "      <th>1</th>\n",
       "      <td>TCONS_00023550</td>\n",
       "      <td>XLOC_006890</td>\n",
       "      <td>MIR1302-2</td>\n",
       "      <td>NaN</td>\n",
       "      <td>chr1</td>\n",
       "      <td>30267</td>\n",
       "      <td>31109</td>\n",
       "      <td>+</td>\n",
       "    </tr>\n",
       "    <tr>\n",
       "      <th>2</th>\n",
       "      <td>TCONS_00023551</td>\n",
       "      <td>XLOC_006890</td>\n",
       "      <td>MIR1302-2</td>\n",
       "      <td>NaN</td>\n",
       "      <td>chr1</td>\n",
       "      <td>30366</td>\n",
       "      <td>30503</td>\n",
       "      <td>+</td>\n",
       "    </tr>\n",
       "    <tr>\n",
       "      <th>3</th>\n",
       "      <td>TCONS_00023549</td>\n",
       "      <td>XLOC_006890</td>\n",
       "      <td>MIR1302-2</td>\n",
       "      <td>NaN</td>\n",
       "      <td>chr1</td>\n",
       "      <td>29554</td>\n",
       "      <td>31097</td>\n",
       "      <td>+</td>\n",
       "    </tr>\n",
       "    <tr>\n",
       "      <th>4</th>\n",
       "      <td>TCONS_00023552</td>\n",
       "      <td>XLOC_006891</td>\n",
       "      <td>OR4G4P</td>\n",
       "      <td>NaN</td>\n",
       "      <td>chr1</td>\n",
       "      <td>52473</td>\n",
       "      <td>53312</td>\n",
       "      <td>+</td>\n",
       "    </tr>\n",
       "  </tbody>\n",
       "</table>\n",
       "</div>"
      ],
      "text/plain": [
       "    transcript_id     locus_id    gene_id Unnamed: 3 chromosome  \\\n",
       "0  TCONS_00023548  XLOC_006889    DDX11L1        NaN       chr1   \n",
       "1  TCONS_00023550  XLOC_006890  MIR1302-2        NaN       chr1   \n",
       "2  TCONS_00023551  XLOC_006890  MIR1302-2        NaN       chr1   \n",
       "3  TCONS_00023549  XLOC_006890  MIR1302-2        NaN       chr1   \n",
       "4  TCONS_00023552  XLOC_006891     OR4G4P        NaN       chr1   \n",
       "\n",
       "  start_position end_position  +  \n",
       "0          12010        13670  +  \n",
       "1          30267        31109  +  \n",
       "2          30366        30503  +  \n",
       "3          29554        31097  +  \n",
       "4          52473        53312  +  "
      ]
     },
     "execution_count": 24,
     "metadata": {},
     "output_type": "execute_result"
    }
   ],
   "source": [
    "transcripts_to_genes.head()"
   ]
  },
  {
   "cell_type": "code",
   "execution_count": 25,
   "metadata": {},
   "outputs": [
    {
     "data": {
      "text/html": [
       "<div>\n",
       "<style scoped>\n",
       "    .dataframe tbody tr th:only-of-type {\n",
       "        vertical-align: middle;\n",
       "    }\n",
       "\n",
       "    .dataframe tbody tr th {\n",
       "        vertical-align: top;\n",
       "    }\n",
       "\n",
       "    .dataframe thead th {\n",
       "        text-align: right;\n",
       "    }\n",
       "</style>\n",
       "<table border=\"1\" class=\"dataframe\">\n",
       "  <thead>\n",
       "    <tr style=\"text-align: right;\">\n",
       "      <th></th>\n",
       "    </tr>\n",
       "    <tr>\n",
       "      <th>locus_id</th>\n",
       "    </tr>\n",
       "  </thead>\n",
       "  <tbody>\n",
       "    <tr>\n",
       "      <th>XLOC_006889</th>\n",
       "    </tr>\n",
       "    <tr>\n",
       "      <th>XLOC_006890</th>\n",
       "    </tr>\n",
       "    <tr>\n",
       "      <th>XLOC_006891</th>\n",
       "    </tr>\n",
       "    <tr>\n",
       "      <th>XLOC_006892</th>\n",
       "    </tr>\n",
       "    <tr>\n",
       "      <th>XLOC_006893</th>\n",
       "    </tr>\n",
       "    <tr>\n",
       "      <th>...</th>\n",
       "    </tr>\n",
       "    <tr>\n",
       "      <th>XLOC_002628</th>\n",
       "    </tr>\n",
       "    <tr>\n",
       "      <th>XLOC_002629</th>\n",
       "    </tr>\n",
       "    <tr>\n",
       "      <th>XLOC_002630</th>\n",
       "    </tr>\n",
       "    <tr>\n",
       "      <th>XLOC_002631</th>\n",
       "    </tr>\n",
       "    <tr>\n",
       "      <th>XLOC_002632</th>\n",
       "    </tr>\n",
       "  </tbody>\n",
       "</table>\n",
       "<p>65079 rows × 0 columns</p>\n",
       "</div>"
      ],
      "text/plain": [
       "Empty DataFrame\n",
       "Columns: []\n",
       "Index: [XLOC_006889, XLOC_006890, XLOC_006891, XLOC_006892, XLOC_006893, XLOC_006894, XLOC_006895, XLOC_006896, XLOC_006897, XLOC_006898, XLOC_006899, XLOC_006900, XLOC_006901, XLOC_006902, XLOC_006903, XLOC_006904, XLOC_006905, XLOC_006906, XLOC_006907, XLOC_006908, XLOC_006909, XLOC_006910, XLOC_006911, XLOC_006912, XLOC_006913, XLOC_006914, XLOC_006915, XLOC_006916, XLOC_006917, XLOC_006918, XLOC_006919, XLOC_006920, XLOC_006921, XLOC_006922, XLOC_006923, XLOC_006924, XLOC_006925, XLOC_006926, XLOC_006927, XLOC_006928, XLOC_006929, XLOC_006930, XLOC_006931, XLOC_006932, XLOC_006933, XLOC_006934, XLOC_006935, XLOC_006936, XLOC_006937, XLOC_006938, XLOC_006939, XLOC_006940, XLOC_006941, XLOC_006942, XLOC_006943, XLOC_006944, XLOC_006945, XLOC_006946, XLOC_006947, XLOC_006948, XLOC_006949, XLOC_006950, XLOC_006951, XLOC_006952, XLOC_006953, XLOC_006954, XLOC_006955, XLOC_006956, XLOC_006957, XLOC_006958, XLOC_006959, XLOC_006960, XLOC_006961, XLOC_006962, XLOC_006963, XLOC_006964, XLOC_006965, XLOC_006966, XLOC_006967, XLOC_006968, XLOC_006969, XLOC_006970, XLOC_006971, XLOC_006972, XLOC_006973, XLOC_006974, XLOC_006975, XLOC_006976, XLOC_006977, XLOC_006978, XLOC_006979, XLOC_006980, XLOC_006981, XLOC_006982, XLOC_006983, XLOC_006984, XLOC_006985, XLOC_006986, XLOC_006987, XLOC_006988, ...]\n",
       "\n",
       "[65079 rows x 0 columns]"
      ]
     },
     "execution_count": 25,
     "metadata": {},
     "output_type": "execute_result"
    }
   ],
   "source": [
    "# name index column in adata.var as locus_id\n",
    "final_adata.var.index.name = 'locus_id'\n",
    "final_adata.var"
   ]
  },
  {
   "cell_type": "code",
   "execution_count": 26,
   "metadata": {},
   "outputs": [],
   "source": [
    "# Check uniqueness in transcripts_to_genes\n",
    "if not transcripts_to_genes['locus_id'].is_unique:\n",
    "    # Handle duplicates here. For example, you might want to aggregate or drop duplicates.\n",
    "    transcripts_to_genes = transcripts_to_genes.drop_duplicates(subset='locus_id')\n",
    "\n",
    "# Merge operation (with 'locus_id' now as a column in adata.var)\n",
    "merged_data = pd.merge(final_adata.var.reset_index(), transcripts_to_genes, on='locus_id', how='left')\n",
    "\n",
    "# Check if the merge did not introduce extra rows\n",
    "if merged_data.shape[0] == adata.var.shape[0]:\n",
    "    final_adata.var = merged_data.set_index('locus_id')\n",
    "else:\n",
    "    print(\"Merge operation introduced extra rows, please check your data.\")"
   ]
  },
  {
   "cell_type": "code",
   "execution_count": 27,
   "metadata": {},
   "outputs": [],
   "source": [
    "# copy index column to a new column called locus_id\n",
    "final_adata.var['locus_id'] = final_adata.var.index\n",
    "\n",
    "# make gene_id as index\n",
    "final_adata.var.set_index('gene_id', inplace=True)"
   ]
  },
  {
   "cell_type": "code",
   "execution_count": 28,
   "metadata": {},
   "outputs": [
    {
     "data": {
      "text/html": [
       "<div>\n",
       "<style scoped>\n",
       "    .dataframe tbody tr th:only-of-type {\n",
       "        vertical-align: middle;\n",
       "    }\n",
       "\n",
       "    .dataframe tbody tr th {\n",
       "        vertical-align: top;\n",
       "    }\n",
       "\n",
       "    .dataframe thead th {\n",
       "        text-align: right;\n",
       "    }\n",
       "</style>\n",
       "<table border=\"1\" class=\"dataframe\">\n",
       "  <thead>\n",
       "    <tr style=\"text-align: right;\">\n",
       "      <th></th>\n",
       "      <th>transcript_id</th>\n",
       "      <th>Unnamed: 3</th>\n",
       "      <th>chromosome</th>\n",
       "      <th>start_position</th>\n",
       "      <th>end_position</th>\n",
       "      <th>+</th>\n",
       "      <th>locus_id</th>\n",
       "    </tr>\n",
       "    <tr>\n",
       "      <th>gene_id</th>\n",
       "      <th></th>\n",
       "      <th></th>\n",
       "      <th></th>\n",
       "      <th></th>\n",
       "      <th></th>\n",
       "      <th></th>\n",
       "      <th></th>\n",
       "    </tr>\n",
       "  </thead>\n",
       "  <tbody>\n",
       "    <tr>\n",
       "      <th>DDX11L1</th>\n",
       "      <td>TCONS_00023548</td>\n",
       "      <td>NaN</td>\n",
       "      <td>chr1</td>\n",
       "      <td>12010</td>\n",
       "      <td>13670</td>\n",
       "      <td>+</td>\n",
       "      <td>XLOC_006889</td>\n",
       "    </tr>\n",
       "    <tr>\n",
       "      <th>MIR1302-2</th>\n",
       "      <td>TCONS_00023550</td>\n",
       "      <td>NaN</td>\n",
       "      <td>chr1</td>\n",
       "      <td>30267</td>\n",
       "      <td>31109</td>\n",
       "      <td>+</td>\n",
       "      <td>XLOC_006890</td>\n",
       "    </tr>\n",
       "    <tr>\n",
       "      <th>OR4G4P</th>\n",
       "      <td>TCONS_00023552</td>\n",
       "      <td>NaN</td>\n",
       "      <td>chr1</td>\n",
       "      <td>52473</td>\n",
       "      <td>53312</td>\n",
       "      <td>+</td>\n",
       "      <td>XLOC_006891</td>\n",
       "    </tr>\n",
       "    <tr>\n",
       "      <th>OR4G11P</th>\n",
       "      <td>TCONS_00023553</td>\n",
       "      <td>NaN</td>\n",
       "      <td>chr1</td>\n",
       "      <td>57598</td>\n",
       "      <td>64116</td>\n",
       "      <td>+</td>\n",
       "      <td>XLOC_006892</td>\n",
       "    </tr>\n",
       "    <tr>\n",
       "      <th>OR4F5</th>\n",
       "      <td>TCONS_00023555</td>\n",
       "      <td>NaN</td>\n",
       "      <td>chr1</td>\n",
       "      <td>65419</td>\n",
       "      <td>71585</td>\n",
       "      <td>+</td>\n",
       "      <td>XLOC_006893</td>\n",
       "    </tr>\n",
       "    <tr>\n",
       "      <th>...</th>\n",
       "      <td>...</td>\n",
       "      <td>...</td>\n",
       "      <td>...</td>\n",
       "      <td>...</td>\n",
       "      <td>...</td>\n",
       "      <td>...</td>\n",
       "      <td>...</td>\n",
       "    </tr>\n",
       "    <tr>\n",
       "      <th>ENSG00000276017</th>\n",
       "      <td>TCONS_00009796</td>\n",
       "      <td>NaN</td>\n",
       "      <td>KI270734.1</td>\n",
       "      <td>72411</td>\n",
       "      <td>74814</td>\n",
       "      <td>+</td>\n",
       "      <td>XLOC_002628</td>\n",
       "    </tr>\n",
       "    <tr>\n",
       "      <th>ENSG00000278817</th>\n",
       "      <td>TCONS_00009797</td>\n",
       "      <td>NaN</td>\n",
       "      <td>KI270734.1</td>\n",
       "      <td>131494</td>\n",
       "      <td>137392</td>\n",
       "      <td>+</td>\n",
       "      <td>XLOC_002629</td>\n",
       "    </tr>\n",
       "    <tr>\n",
       "      <th>ENSG00000277196</th>\n",
       "      <td>TCONS_00009798</td>\n",
       "      <td>NaN</td>\n",
       "      <td>KI270734.1</td>\n",
       "      <td>138082</td>\n",
       "      <td>161750</td>\n",
       "      <td>-</td>\n",
       "      <td>XLOC_002630</td>\n",
       "    </tr>\n",
       "    <tr>\n",
       "      <th>U6</th>\n",
       "      <td>TCONS_00009800</td>\n",
       "      <td>NaN</td>\n",
       "      <td>KI270744.1</td>\n",
       "      <td>51009</td>\n",
       "      <td>51114</td>\n",
       "      <td>-</td>\n",
       "      <td>XLOC_002631</td>\n",
       "    </tr>\n",
       "    <tr>\n",
       "      <th>U1</th>\n",
       "      <td>TCONS_00009801</td>\n",
       "      <td>NaN</td>\n",
       "      <td>KI270750.1</td>\n",
       "      <td>148668</td>\n",
       "      <td>148843</td>\n",
       "      <td>+</td>\n",
       "      <td>XLOC_002632</td>\n",
       "    </tr>\n",
       "  </tbody>\n",
       "</table>\n",
       "<p>65079 rows × 7 columns</p>\n",
       "</div>"
      ],
      "text/plain": [
       "                  transcript_id Unnamed: 3  chromosome start_position  \\\n",
       "gene_id                                                                 \n",
       "DDX11L1          TCONS_00023548        NaN        chr1          12010   \n",
       "MIR1302-2        TCONS_00023550        NaN        chr1          30267   \n",
       "OR4G4P           TCONS_00023552        NaN        chr1          52473   \n",
       "OR4G11P          TCONS_00023553        NaN        chr1          57598   \n",
       "OR4F5            TCONS_00023555        NaN        chr1          65419   \n",
       "...                         ...        ...         ...            ...   \n",
       "ENSG00000276017  TCONS_00009796        NaN  KI270734.1          72411   \n",
       "ENSG00000278817  TCONS_00009797        NaN  KI270734.1         131494   \n",
       "ENSG00000277196  TCONS_00009798        NaN  KI270734.1         138082   \n",
       "U6               TCONS_00009800        NaN  KI270744.1          51009   \n",
       "U1               TCONS_00009801        NaN  KI270750.1         148668   \n",
       "\n",
       "                end_position  +     locus_id  \n",
       "gene_id                                       \n",
       "DDX11L1                13670  +  XLOC_006889  \n",
       "MIR1302-2              31109  +  XLOC_006890  \n",
       "OR4G4P                 53312  +  XLOC_006891  \n",
       "OR4G11P                64116  +  XLOC_006892  \n",
       "OR4F5                  71585  +  XLOC_006893  \n",
       "...                      ... ..          ...  \n",
       "ENSG00000276017        74814  +  XLOC_002628  \n",
       "ENSG00000278817       137392  +  XLOC_002629  \n",
       "ENSG00000277196       161750  -  XLOC_002630  \n",
       "U6                     51114  -  XLOC_002631  \n",
       "U1                    148843  +  XLOC_002632  \n",
       "\n",
       "[65079 rows x 7 columns]"
      ]
     },
     "execution_count": 28,
     "metadata": {},
     "output_type": "execute_result"
    }
   ],
   "source": [
    "final_adata.var"
   ]
  },
  {
   "cell_type": "code",
   "execution_count": 29,
   "metadata": {},
   "outputs": [],
   "source": [
    "# convert var to strings\n",
    "final_adata.var = final_adata.var.astype(str)"
   ]
  },
  {
   "cell_type": "code",
   "execution_count": 30,
   "metadata": {},
   "outputs": [],
   "source": [
    "# Save the final anndata object if needed\n",
    "final_adata.write_h5ad('/mnt/LaCIE/annaM/gut_project/raw_data/Fawkner-Corbett_2021/scRNA_seq_data/anndata_files/Fawkner_Corbett_GEX_raw.h5ad')"
   ]
  },
  {
   "cell_type": "markdown",
   "metadata": {},
   "source": [
    "+ Upload SRA table"
   ]
  },
  {
   "cell_type": "code",
   "execution_count": 56,
   "metadata": {},
   "outputs": [
    {
     "name": "stderr",
     "output_type": "stream",
     "text": [
      "/home/amaguza/miniforge3/envs/scanpy_env/lib/python3.11/site-packages/anndata/_core/anndata.py:1838: UserWarning: Observation names are not unique. To make them unique, call `.obs_names_make_unique`.\n",
      "  utils.warn_names_duplicates(\"obs\")\n",
      "/home/amaguza/miniforge3/envs/scanpy_env/lib/python3.11/site-packages/anndata/_core/anndata.py:1840: UserWarning: Variable names are not unique. To make them unique, call `.var_names_make_unique`.\n",
      "  utils.warn_names_duplicates(\"var\")\n"
     ]
    }
   ],
   "source": [
    "adata = '/mnt/LaCIE/annaM/gut_project/raw_data/Fawkner-Corbett_2021/scRNA_seq_data/anndata_files/Fawkner_Corbett_GEX_raw.h5ad'\n",
    "adata = sc.read_h5ad(adata)"
   ]
  },
  {
   "cell_type": "code",
   "execution_count": 57,
   "metadata": {},
   "outputs": [],
   "source": [
    "SRA_run = pd.read_csv('/mnt/LaCIE/annaM/gut_project/raw_data/Fawkner-Corbett_2021/scRNA_seq_data/SraRunTable.txt', sep=',')"
   ]
  },
  {
   "cell_type": "code",
   "execution_count": 58,
   "metadata": {},
   "outputs": [],
   "source": [
    "# delete columns Assay Type, AvgSpotLen and Bases from SRA_run\n",
    "SRA_run = SRA_run.drop(['Assay Type', 'AvgSpotLen', 'Bases', 'Bytes', 'Center Name', 'LibrarySource', 'Platform',\n",
    "                        'ReleaseDate', 'create_date', 'version', 'Consent', 'DATASTORE filetype', 'DATASTORE provider', 'DATASTORE region'], axis=1)"
   ]
  },
  {
   "cell_type": "code",
   "execution_count": 59,
   "metadata": {},
   "outputs": [],
   "source": [
    "# rename run column to SRA_sample\n",
    "SRA_run.rename(columns={'Run': 'SRA_sample'}, inplace=True)"
   ]
  },
  {
   "cell_type": "code",
   "execution_count": 60,
   "metadata": {},
   "outputs": [],
   "source": [
    "adata.obs['barcodes'] = adata.obs.index.copy()"
   ]
  },
  {
   "cell_type": "code",
   "execution_count": 62,
   "metadata": {},
   "outputs": [],
   "source": [
    "#merge final_adata.obs and SRA_run on SRA_sample final_adata.obs and Run in SRA_run\n",
    "final_adata.obs = adata.obs.merge(SRA_run, on='SRA_sample', how='left')"
   ]
  },
  {
   "cell_type": "code",
   "execution_count": 67,
   "metadata": {},
   "outputs": [],
   "source": [
    "final_adata.obs.index = final_adata.obs['barcodes']"
   ]
  },
  {
   "cell_type": "code",
   "execution_count": 69,
   "metadata": {},
   "outputs": [],
   "source": [
    "# Save the final anndata object if needed\n",
    "final_adata.write_h5ad('/mnt/LaCIE/annaM/gut_project/raw_data/Fawkner-Corbett_2021/scRNA_seq_data/anndata_files/Fawkner_Corbett_GEX_raw.h5ad')"
   ]
  }
 ],
 "metadata": {
  "kernelspec": {
   "display_name": "Scanpy",
   "language": "python",
   "name": "scnapy-server"
  },
  "language_info": {
   "codemirror_mode": {
    "name": "ipython",
    "version": 3
   },
   "file_extension": ".py",
   "mimetype": "text/x-python",
   "name": "python",
   "nbconvert_exporter": "python",
   "pygments_lexer": "ipython3",
   "version": "3.11.5"
  }
 },
 "nbformat": 4,
 "nbformat_minor": 2
}
