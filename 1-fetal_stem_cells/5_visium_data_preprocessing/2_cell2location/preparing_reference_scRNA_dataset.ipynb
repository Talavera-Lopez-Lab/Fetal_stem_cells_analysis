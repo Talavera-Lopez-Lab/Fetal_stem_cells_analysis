{
 "cells": [
  {
   "cell_type": "markdown",
   "metadata": {},
   "source": [
    "### Preparing scRNA-seq reference dataset for mapping human gut cell types using 10X Genomics Visium and `cell2location`\n",
    "\n",
    "- **Developed by:** Anna Maguza\n",
    "- **Affilation:** Faculty of Medicine, Würzburg University\n",
    "- **Date of creation:** 1st  August 2024\n",
    "- **Last modified date:** 5th August 2024"
   ]
  },
  {
   "cell_type": "markdown",
   "metadata": {},
   "source": [
    "##### Import packages"
   ]
  },
  {
   "cell_type": "code",
   "execution_count": null,
   "metadata": {},
   "outputs": [],
   "source": [
    "import scanpy as sc\n",
    "import numpy as np\n",
    "import matplotlib.pyplot as plt\n",
    "import matplotlib as mpl\n",
    "import pandas as pd"
   ]
  },
  {
   "cell_type": "markdown",
   "metadata": {},
   "source": [
    "+ Reference dataset"
   ]
  },
  {
   "cell_type": "code",
   "execution_count": null,
   "metadata": {},
   "outputs": [],
   "source": [
    "adata = sc.read_h5ad('/mnt/LaCIE/annaM/gut_project/Processed_data/Gut_data/Healthy_reference/Integrated/Healthy_integrated_data_all_genes.h5ad')"
   ]
  },
  {
   "cell_type": "markdown",
   "metadata": {},
   "source": [
    "+ Results folder"
   ]
  },
  {
   "cell_type": "code",
   "execution_count": null,
   "metadata": {},
   "outputs": [],
   "source": [
    "results = '/mnt/LaCIE/annaM/gut_project/Processed_data/Gut_data/Visium_fawkner_corbett/cell2location_results/reference_datasets'"
   ]
  },
  {
   "cell_type": "code",
   "execution_count": null,
   "metadata": {},
   "outputs": [],
   "source": [
    "adata.var.index.rename('gene_ids', inplace=True)"
   ]
  },
  {
   "cell_type": "markdown",
   "metadata": {},
   "source": [
    "+ Colon Adult"
   ]
  },
  {
   "cell_type": "code",
   "execution_count": null,
   "metadata": {},
   "outputs": [],
   "source": [
    "adata_ref = adata.copy()"
   ]
  },
  {
   "cell_type": "code",
   "execution_count": null,
   "metadata": {},
   "outputs": [],
   "source": [
    "condition_to_keep = ['Healthy adult', 'Adult Ulcerative Colitis Non-inflamed']\n",
    "adata_ref = adata_ref[adata_ref.obs['Diagnosis'].isin(condition_to_keep), :]"
   ]
  },
  {
   "cell_type": "code",
   "execution_count": null,
   "metadata": {},
   "outputs": [],
   "source": [
    "condition_to_keep = ['Large Intestine', 'Rectum', 'Epithelium', 'Lamina Propria']\n",
    "adata_ref = adata_ref[adata_ref.obs['Location'].isin(condition_to_keep), :]"
   ]
  },
  {
   "cell_type": "code",
   "execution_count": null,
   "metadata": {},
   "outputs": [],
   "source": [
    "mapping_states = {\n",
    "    'Stromal 3 (C7+)': 'Fibroblasts',\n",
    "    'Stromal 3 (KCNN3+)': 'Fibroblasts',\n",
    "    'Stromal 1 (ADAMDEC1+)': 'Fibroblasts',\n",
    "    'Fibroblasts ADAMDEC1': 'Fibroblasts',\n",
    "    'Stromal 2 (NPY+)': 'Fibroblasts',\n",
    "    'Fibroblasts SMOC2 PTGIS': 'Fibroblasts',\n",
    "    'Stromal 1 (CCL11+)': 'Fibroblasts',\n",
    "    'Fibroblasts KCNN3 LY6H': 'Fibroblasts',\n",
    "    'Fibroblasts SFRP2 SLPI': 'Fibroblasts',\n",
    "    'Fibroblasts NPY SLITRK6': 'Fibroblasts',\n",
    "    'Activated fibroblasts CCL19 ADAMADEC1': 'Fibroblasts',\n",
    "    'Inflammatory fibroblasts IL11 CHI3L1': 'Fibroblasts',\n",
    "    'Stromal 4 (MMP1+)': 'Fibroblasts',\n",
    "    'Stromal 2 (CH25H+)': 'Fibroblasts',\n",
    "    'Transitional Stromal 3 (C3+)': 'Fibroblasts',\n",
    "    'cycling stromal': 'Fibroblasts',\n",
    "    'mLN Stroma (FMO2+)': 'Fibroblasts',\n",
    "    'Inflammatory fibroblasts IL11 CHI3L1': 'Fibroblasts',\n",
    "    'Stromal Cycling cells': 'Fibroblasts',\n",
    "\n",
    "    'Mesoderm 2 (ZEB2+)': 'Mesoderm',\n",
    "    'Mesoderm 1 (HAND1+)': 'Mesoderm',\n",
    "\n",
    "    'SMC (PLPP2+)': 'SMC',\n",
    "    'SMC (PART1/CAPN3+)': 'SMC',\n",
    "\n",
    "    'myofibroblast (RSPO2+)': 'Myofibroblasts',\n",
    "    'Myofibroblasts GREM1 GREM2': 'Myofibroblasts',\n",
    "    'Myofibroblasts HHIP NPNT': 'Myofibroblasts',\n",
    "    'myofibroblast': 'Myofibroblasts',\n",
    "\n",
    "    'Immature pericyte': 'Pericytes',\n",
    "    'Contractile pericyte (PLN+)': 'Pericytes',\n",
    "    'angiogenic pericyte': 'Pericytes',\n",
    "    'Pericytes HIGD1B STEAP4': 'Pericytes',\n",
    "    'Pericyte': 'Pericytes',\n",
    "    'Pericytes RERGL NTRK2': 'Pericytes',\n",
    "\n",
    "    'Mesothelium': 'Mesothelium',\n",
    "    'Mesothelium (RGS5+)': 'Mesothelium',\n",
    "    'Mesothelium (PRG4+)': 'Mesothelium',\n",
    "\n",
    "    'T cells Naive CD4': 'CD4 T',\n",
    "    'T cells CD4 IL17A': 'CD4 T',\n",
    "    'Th1': 'CD4 T',\n",
    "    'SELL+ CD4 T': 'CD4 T',\n",
    "    'IELs ID3 ENTPD1': 'CD8 T',\n",
    "    'Th17': 'CD4 T',\n",
    "    'Tfh': 'CD4 T',\n",
    "    'T cells CD4 FOSB': 'CD4 T',\n",
    "    'Tregs': 'Tregs',\n",
    "    'Treg': 'Tregs',\n",
    "    'Activated CD4 T': 'CD4 T',\n",
    "    'Activated T': 'CD4 T',\n",
    "    'Activated CD8 T': 'CD8 T',\n",
    "    'CX3CR1+ CD8 Tmem': 'CD8 T',\n",
    "    'T cells CD8': 'CD8 T',\n",
    "    'T cells CD8 KLRG1': 'CD8 T',\n",
    "    'CD8 Tmem': 'CD8 T',\n",
    "    'SELL+ CD8 T': 'CD8 T',\n",
    "    'NK-like cells ID3 ENTPD1': 'NK',\n",
    "    'NK cell': 'NK',\n",
    "    'NK cells KLRF1 CD3G-': 'NK',\n",
    "    'NK cells KLRF1 CD3G-': 'NK',\n",
    "    'NK T cell': 'NK',\n",
    "    'gdT': 'gdT',\n",
    "    'TRGV5/7 gdT': 'gdT',\n",
    "    'TRGV2 gdT': 'gdT',\n",
    "    'TRGV4 gdT': 'gdT',\n",
    "    'TRDV2/TRGV9 gdT': 'gdT',\n",
    "    'ILCs': 'ILCs',\n",
    "    'ILC3': 'ILCs',\n",
    "    'ILCP': 'ILCs',\n",
    "    'ILC2': 'ILCs',\n",
    "    'LTi-like NCR- ILC3': 'ILCs',\n",
    "    'LTi-like NCR+ ILC3': 'ILCs',\n",
    "    \n",
    "    'Macrophages': 'Macrophages',\n",
    "    'Macrophages CCL3 CCL4': 'Macrophages',\n",
    "    'LYVE1+ Macrophage': 'Macrophages',\n",
    "    'Macrophages LYVE1': 'Macrophages',\n",
    "    'Macrophages Metallothionein': 'Macrophages',\n",
    "    'MMP9+ Inflammatory macrophage': 'Macrophages',\n",
    "    'Macrophages PLA2G2D': 'Macrophages',\n",
    "    'Macrophages CXCL9 CXCL10': 'Macrophages',\n",
    "\n",
    "    'Monocytes': 'Monocytes',\n",
    "    'Monocytes HBB': 'Monocytes',\n",
    "    'Monocytes CHI3L1 CYP27A1': 'Monocytes',\n",
    "    'Monocytes S100A8 S100A9': 'Monocytes',\n",
    "    'MPO+ mono-neutrophil': 'Monocytes',\n",
    "\n",
    "    'DC2 CD1D': 'DC',\n",
    "    'DC2 CD1D-': 'DC',\n",
    "    'cDC2': 'DC',\n",
    "    'DC1': 'DC',\n",
    "    'cDC1': 'DC',\n",
    "    'pDC': 'DC',\n",
    "    'Lymphoid DC': 'DC',\n",
    "    'FDC': 'DC',\n",
    "    'Mature DCs': 'DC',\n",
    "\n",
    "    'Mast cells': 'Mast cells',\n",
    "    'Mast cell': 'Mast cells',\n",
    "    'CLC+ Mast cell': 'Mast cells',\n",
    "\n",
    "    'Immune Cycling cells': 'Immune Cycling cells',\n",
    "    'Cycling cells': 'Immune Cycling cells',\n",
    "\n",
    "    'Megakaryocyte': 'Megakaryocytes',\n",
    "    \n",
    "    'Goblet cell': 'Goblet cells',\n",
    "    'BEST2+ Goblet cell': 'Goblet cells',\n",
    "    'Goblet cells MUC2 TFF1': 'Goblet cells',\n",
    "    'Goblet cells SPINK4': 'Goblet cells',\n",
    "    'Goblet cells MUC2 TFF1-': 'Goblet cells',\n",
    "    'Paneth': 'Paneth cells',\n",
    "    'Paneth cells': 'Paneth cells',\n",
    "    'TA': 'TA',\n",
    "    'Tuft': 'Tuft cells',\n",
    "    'Tuft cells': 'Tuft cells',\n",
    "    'Enterocyte': 'Enterocyte',\n",
    "    'Enterocytes BEST4': 'Enterocyte',\n",
    "    'Enterocytes TMIGD1 MEP1A GSTA1': 'Enterocyte',\n",
    "    'Enterocytes TMIGD1 MEP1A': 'Enterocyte',\n",
    "    'Enterocytes CA1 CA2 CA4-': 'Enterocyte',\n",
    "    'Stem cells OLFM4': 'Stem cells',\n",
    "    'Stem cells OLFM4 GSTA1': 'Stem cells',\n",
    "    'Stem cells OLFM4 LGR5': 'Stem cells',\n",
    "    'Stem cells OLFM4 PCNA': 'Stem cells',\n",
    "    'Stem_Cells_GCA': 'Stem cells',\n",
    "    'Stem_Cells_ext': 'Stem cells',\n",
    "    'Colonocyte': 'Colonocyte',\n",
    "    'Proximal progenitor': 'Proximal progenitor',\n",
    "    'Distal progenitor': 'Distal progenitor',\n",
    "    'EECs' : 'EECs', \n",
    "    'Enteroendocrine cells': 'EECs', \n",
    "    'M/X cells (MLN/GHRL+)': 'EECs', \n",
    "    'CLDN10+ cells': 'EECs',\n",
    "    'I cells (CCK+)': 'EECs',\n",
    "    'L cells': 'EECs',\n",
    "    'D cells (SST+)': 'EECs',\n",
    "    'L cells (PYY+)': 'EECs',\n",
    "    'K cells (GIP+)': 'EECs',\n",
    "    'Enterochromaffin cells': 'EECs',\n",
    "    'EC cells (NPW+)': 'EECs',\n",
    "    'N cells (NTS+)': 'EECs',\n",
    "    'β cells (INS+)': 'EECs',\n",
    "\n",
    "    'Endothelial cells CD36': 'Endothelial cells',\n",
    "    'Endothelial cells DARC': 'Endothelial cells',\n",
    "    'Endothelial cells LTC4S SEMA3G': 'Endothelial cells',\n",
    "\n",
    "    'LEC6 (ADAMTS4+)': 'LEC',\n",
    "    'LEC1 (ACKR4+)': 'LEC',\n",
    "    'LEC3 (ADGRG3+)': 'LEC',\n",
    "    'LEC5 (CLDN11+)': 'LEC',\n",
    "    'LEC4 (STAB2+)': 'LEC',\n",
    "    'Adult glia' : 'Glial cells',\n",
    "    'Glial cells' : 'Glial cells',\n",
    "\n",
    "    'Epithelial Cycling cells': 'TA',\n",
    "\n",
    "}"
   ]
  },
  {
   "cell_type": "code",
   "execution_count": null,
   "metadata": {},
   "outputs": [
    {
     "name": "stderr",
     "output_type": "stream",
     "text": [
      "/tmp/ipykernel_1575478/2771956335.py:1: ImplicitModificationWarning: Trying to modify attribute `.obs` of view, initializing view as actual.\n",
      "  adata_ref.obs['seed_labels'] = adata_ref.obs['Cell States'].astype('category')\n"
     ]
    }
   ],
   "source": [
    "adata_ref.obs['seed_labels'] = adata_ref.obs['Cell States'].astype('category')\n",
    "\n",
    "existing_categories = set(adata_ref.obs['seed_labels'].cat.categories)\n",
    "\n",
    "new_categories = set(mapping_states.values())\n",
    "\n",
    "categories_to_add = new_categories - existing_categories\n",
    "\n",
    "adata_ref.obs['seed_labels'] = adata_ref.obs['seed_labels'].cat.add_categories(categories_to_add)\n",
    "\n",
    "adata_ref.obs.loc[adata_ref.obs['Cell States'].isin(mapping_states.keys()), 'seed_labels'] = \\\n",
    "    adata_ref.obs['Cell States'].map(mapping_states)"
   ]
  },
  {
   "cell_type": "code",
   "execution_count": null,
   "metadata": {},
   "outputs": [],
   "source": [
    "adata_ref = adata_ref[~adata_ref.obs['seed_labels'].isin(['Endothelial cells']), :]"
   ]
  },
  {
   "cell_type": "code",
   "execution_count": null,
   "metadata": {},
   "outputs": [],
   "source": [
    "adata_ref.write_h5ad(f'{results}/Adult_colon_reference.h5ad')"
   ]
  },
  {
   "cell_type": "markdown",
   "metadata": {},
   "source": [
    "+ Fetal data "
   ]
  },
  {
   "cell_type": "code",
   "execution_count": null,
   "metadata": {},
   "outputs": [],
   "source": [
    "adata_ref = adata.copy()"
   ]
  },
  {
   "cell_type": "code",
   "execution_count": null,
   "metadata": {},
   "outputs": [],
   "source": [
    "condition_to_keep = ['Fetal Healthy']\n",
    "adata_ref = adata_ref[adata_ref.obs['Diagnosis'].isin(condition_to_keep), :]"
   ]
  },
  {
   "cell_type": "code",
   "execution_count": null,
   "metadata": {},
   "outputs": [],
   "source": [
    "adata_fetal_sc = sc.read_h5ad('/mnt/LaCIE/annaM/gut_project/Processed_data/Gut_data/Fetal_stem_cells/Fetal_healthy_stem_cells_leiden.h5ad')"
   ]
  },
  {
   "cell_type": "code",
   "execution_count": null,
   "metadata": {},
   "outputs": [
    {
     "name": "stdout",
     "output_type": "stream",
     "text": [
      "Number of common cells: 7817\n"
     ]
    }
   ],
   "source": [
    "common_cells = adata_ref.obs_names.isin(adata_fetal_sc.obs_names)\n",
    "print(f\"Number of common cells: {common_cells.sum()}\")"
   ]
  },
  {
   "cell_type": "code",
   "execution_count": null,
   "metadata": {},
   "outputs": [
    {
     "data": {
      "text/plain": [
       "cluster\n",
       "MTRNR2L12+ASS1+_SC    3979\n",
       "RPS10+_RPS17+_SC      3544\n",
       "FXYD3+_CKB+_SC         294\n",
       "Name: count, dtype: int64"
      ]
     },
     "metadata": {},
     "output_type": "display_data"
    }
   ],
   "source": [
    "adata_fetal_sc.obs['cluster'].value_counts()"
   ]
  },
  {
   "cell_type": "code",
   "execution_count": null,
   "metadata": {},
   "outputs": [],
   "source": [
    "adata_ref.obs = adata_ref.obs.join(adata_fetal_sc.obs['cluster'], how='left')"
   ]
  },
  {
   "cell_type": "code",
   "execution_count": null,
   "metadata": {},
   "outputs": [],
   "source": [
    "adata_ref.obs['seed_labels'] = adata_ref.obs['Cell States'].copy()"
   ]
  },
  {
   "cell_type": "code",
   "execution_count": null,
   "metadata": {},
   "outputs": [],
   "source": [
    "adata_ref.obs['seed_labels'] = adata_ref.obs['seed_labels'].astype('category')\n",
    "new_categories = ['MTRNR2L12+ASS1+_SC', 'RPS10+_RPS17+_SC', 'FXYD3+_CKB+_SC']\n",
    "adata_ref.obs['seed_labels'] = adata_ref.obs['seed_labels'].cat.add_categories(new_categories)"
   ]
  },
  {
   "cell_type": "code",
   "execution_count": null,
   "metadata": {},
   "outputs": [],
   "source": [
    "adata_ref.obs.loc[(adata_ref.obs['cluster'] == 'MTRNR2L12+ASS1+_SC'), 'seed_labels'] = 'MTRNR2L12+ASS1+_SC'\n",
    "adata_ref.obs.loc[(adata_ref.obs['cluster'] == 'RPS10+_RPS17+_SC'), 'seed_labels'] = 'RPS10+_RPS17+_SC'\n",
    "adata_ref.obs.loc[(adata_ref.obs['cluster'] == 'FXYD3+_CKB+_SC'), 'seed_labels'] = 'FXYD3+_CKB+_SC'"
   ]
  },
  {
   "cell_type": "code",
   "execution_count": null,
   "metadata": {},
   "outputs": [],
   "source": [
    "condition_to_keep = ['Large Intestine']\n",
    "adata_colon = adata_ref[adata_ref.obs['Location'].isin(condition_to_keep), :]"
   ]
  },
  {
   "cell_type": "code",
   "execution_count": null,
   "metadata": {},
   "outputs": [],
   "source": [
    "adata_colon.write_h5ad(f'{results}/Fetal_colon_reference.h5ad')"
   ]
  },
  {
   "cell_type": "code",
   "execution_count": null,
   "metadata": {},
   "outputs": [],
   "source": [
    "condition_to_keep = ['Small Intestine']\n",
    "adata_intestine = adata_ref[adata_ref.obs['Location'].isin(condition_to_keep), :]"
   ]
  },
  {
   "cell_type": "code",
   "execution_count": null,
   "metadata": {},
   "outputs": [],
   "source": [
    "adata_intestine.write_h5ad(f'{results}/Fetal_intestine_reference.h5ad')"
   ]
  }
 ],
 "metadata": {
  "language_info": {
   "name": "python"
  }
 },
 "nbformat": 4,
 "nbformat_minor": 2
}
