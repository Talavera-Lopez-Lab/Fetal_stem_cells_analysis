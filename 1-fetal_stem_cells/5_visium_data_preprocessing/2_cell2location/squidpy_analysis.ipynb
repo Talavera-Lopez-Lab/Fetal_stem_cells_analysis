{
 "cells": [
  {
   "cell_type": "markdown",
   "metadata": {},
   "source": [
    "### Notebook for the of Fawkner-Corbett_2021 Visium data with `squidpy`\n",
    "\n",
    "- **Developed by:** Anna Maguza\n",
    "- **Place:** Wuerzburg Institute for System Immunology\n",
    "- **Last modified date:** 22nd August 2024"
   ]
  },
  {
   "cell_type": "markdown",
   "metadata": {},
   "source": [
    "#### Load packages"
   ]
  },
  {
   "cell_type": "code",
   "execution_count": 27,
   "metadata": {},
   "outputs": [],
   "source": [
    "import anndata as ad\n",
    "import scanpy as sc\n",
    "import squidpy as sq\n",
    "import pandas as pd\n",
    "import matplotlib.pyplot as plt\n",
    "import numpy as np\n",
    "import seaborn as sns\n",
    "from scipy.stats import rankdata"
   ]
  },
  {
   "cell_type": "markdown",
   "metadata": {},
   "source": [
    "#### Set up cells"
   ]
  },
  {
   "cell_type": "code",
   "execution_count": 28,
   "metadata": {},
   "outputs": [
    {
     "name": "stdout",
     "output_type": "stream",
     "text": [
      "-----\n",
      "anndata     0.10.5.post1\n",
      "scanpy      1.9.8\n",
      "-----\n",
      "PIL                         10.2.0\n",
      "anyio                       NA\n",
      "arrow                       1.3.0\n",
      "asciitree                   NA\n",
      "asttokens                   NA\n",
      "attr                        23.2.0\n",
      "attrs                       23.2.0\n",
      "babel                       2.14.0\n",
      "backcall                    0.2.0\n",
      "beta_ufunc                  NA\n",
      "binom_ufunc                 NA\n",
      "brotli                      1.1.0\n",
      "certifi                     2023.11.17\n",
      "cffi                        1.16.0\n",
      "charset_normalizer          3.3.2\n",
      "cloudpickle                 3.0.0\n",
      "comm                        0.2.1\n",
      "cycler                      0.12.1\n",
      "cython_runtime              NA\n",
      "dask                        2024.1.1\n",
      "dask_image                  2023.08.1\n",
      "datashader                  0.16.0\n",
      "datatree                    0.0.13\n",
      "dateutil                    2.8.2\n",
      "debugpy                     1.8.0\n",
      "decorator                   5.1.1\n",
      "defusedxml                  0.7.1\n",
      "docrep                      0.3.2\n",
      "exceptiongroup              1.2.0\n",
      "executing                   2.0.1\n",
      "fasteners                   0.19\n",
      "fastjsonschema              NA\n",
      "fqdn                        NA\n",
      "fsspec                      2023.6.0\n",
      "geopandas                   0.14.3\n",
      "h5py                        3.10.0\n",
      "hypergeom_ufunc             NA\n",
      "idna                        3.6\n",
      "igraph                      0.11.3\n",
      "imagecodecs                 2024.1.1\n",
      "imageio                     2.33.1\n",
      "importlib_resources         NA\n",
      "ipykernel                   6.29.0\n",
      "isoduration                 NA\n",
      "jedi                        0.19.1\n",
      "jinja2                      3.1.3\n",
      "joblib                      1.3.2\n",
      "json5                       NA\n",
      "jsonpointer                 2.4\n",
      "jsonschema                  4.21.1\n",
      "jsonschema_specifications   NA\n",
      "jupyter_events              0.9.0\n",
      "jupyter_server              2.12.5\n",
      "jupyterlab_server           2.25.2\n",
      "kiwisolver                  1.4.5\n",
      "lazy_loader                 NA\n",
      "leidenalg                   0.10.2\n",
      "llvmlite                    0.42.0\n",
      "markupsafe                  2.1.4\n",
      "matplotlib                  3.8.2\n",
      "matplotlib_inline           0.1.6\n",
      "matplotlib_scalebar         0.8.1\n",
      "mpl_toolkits                NA\n",
      "msgpack                     1.0.7\n",
      "multipledispatch            0.6.0\n",
      "multiscale_spatial_image    0.11.2\n",
      "natsort                     8.4.0\n",
      "nbformat                    5.9.2\n",
      "nbinom_ufunc                NA\n",
      "ncf_ufunc                   NA\n",
      "networkx                    3.2.1\n",
      "numba                       0.59.0\n",
      "numcodecs                   0.12.1\n",
      "numpy                       1.23.4\n",
      "ome_zarr                    NA\n",
      "overrides                   NA\n",
      "packaging                   23.2\n",
      "pandas                      2.2.0\n",
      "param                       2.0.2\n",
      "parso                       0.8.3\n",
      "patsy                       0.5.6\n",
      "pexpect                     4.9.0\n",
      "pickleshare                 0.7.5\n",
      "pkg_resources               NA\n",
      "platformdirs                4.2.0\n",
      "prometheus_client           NA\n",
      "prompt_toolkit              3.0.42\n",
      "psutil                      5.9.8\n",
      "ptyprocess                  0.7.0\n",
      "pure_eval                   0.2.2\n",
      "pyarrow                     15.0.0\n",
      "pycparser                   2.21\n",
      "pyct                        0.5.0\n",
      "pydev_ipython               NA\n",
      "pydevconsole                NA\n",
      "pydevd                      2.9.5\n",
      "pydevd_file_utils           NA\n",
      "pydevd_plugins              NA\n",
      "pydevd_tracing              NA\n",
      "pygeos                      0.14\n",
      "pygments                    2.17.2\n",
      "pyparsing                   3.1.1\n",
      "pyproj                      3.6.1\n",
      "pythonjsonlogger            NA\n",
      "pytz                        2023.4\n",
      "pywt                        1.5.0\n",
      "referencing                 NA\n",
      "requests                    2.31.0\n",
      "rfc3339_validator           0.1.4\n",
      "rfc3986_validator           0.1.1\n",
      "rich                        NA\n",
      "rpds                        NA\n",
      "scipy                       1.9.1\n",
      "seaborn                     0.13.2\n",
      "send2trash                  NA\n",
      "session_info                1.0.0\n",
      "setuptools                  69.0.3\n",
      "shapely                     2.0.2\n",
      "six                         1.16.0\n",
      "skimage                     0.20.0\n",
      "sklearn                     1.4.0\n",
      "sniffio                     1.3.0\n",
      "socks                       1.7.1\n",
      "spatial_image               0.3.0\n",
      "spatialdata                 0.0.15\n",
      "squidpy                     1.3.1\n",
      "stack_data                  0.6.2\n",
      "statsmodels                 0.14.1\n",
      "tblib                       3.0.0\n",
      "texttable                   1.7.0\n",
      "threadpoolctl               3.2.0\n",
      "tifffile                    2024.1.30\n",
      "tlz                         0.12.1\n",
      "toolz                       0.12.1\n",
      "tornado                     6.3.3\n",
      "tqdm                        4.66.1\n",
      "traitlets                   5.14.1\n",
      "typing_extensions           NA\n",
      "uri_template                NA\n",
      "urllib3                     1.26.18\n",
      "validators                  0.22.0\n",
      "vscode                      NA\n",
      "wcwidth                     0.2.13\n",
      "webcolors                   1.13\n",
      "websocket                   1.7.0\n",
      "xarray                      2023.12.0\n",
      "xarray_dataclasses          1.7.0\n",
      "xarray_schema               0.0.3\n",
      "xrspatial                   0.3.7\n",
      "yaml                        6.0.1\n",
      "zarr                        2.16.1\n",
      "zipp                        NA\n",
      "zmq                         25.1.2\n",
      "zoneinfo                    NA\n",
      "-----\n",
      "IPython             8.12.0\n",
      "jupyter_client      8.6.0\n",
      "jupyter_core        5.7.1\n",
      "jupyterlab          4.0.12\n",
      "notebook            7.0.7\n",
      "-----\n",
      "Python 3.9.18 | packaged by conda-forge | (main, Dec 23 2023, 16:33:10) [GCC 12.3.0]\n",
      "Linux-6.9.12-100.fc39.x86_64-x86_64-with-glibc2.38\n",
      "-----\n",
      "Session information updated at 2024-08-12 15:28\n"
     ]
    }
   ],
   "source": [
    "sc.settings.verbosity = 3\n",
    "sc.logging.print_versions()\n",
    "sc.settings.set_figure_params(dpi = 160, color_map = 'RdPu', dpi_save = 180, vector_friendly = True, format = 'svg')"
   ]
  },
  {
   "cell_type": "markdown",
   "metadata": {},
   "source": [
    "+ Define functions"
   ]
  },
  {
   "cell_type": "code",
   "execution_count": 29,
   "metadata": {},
   "outputs": [],
   "source": [
    "def get_top_n_cell_types(row, n=1):\n",
    "    sorted_types = row.sort_values(ascending=False)\n",
    "    top_n = sorted_types.head(n)\n",
    "    return ', '.join(top_n.index.str.replace('meanscell_abundance_w_sf_', ''))"
   ]
  },
  {
   "cell_type": "code",
   "execution_count": 30,
   "metadata": {},
   "outputs": [],
   "source": [
    "def create_expanded_anndata(adata, n_cells_per_spot=10):\n",
    "    # Get cell type abundances\n",
    "    abundances = adata.obsm['means_cell_abundance_w_sf']\n",
    "    \n",
    "    # Create a list to store new observations\n",
    "    new_obs = []\n",
    "    new_obs_names = []\n",
    "    \n",
    "    for idx, row in abundances.iterrows():\n",
    "        # Normalize abundances to sum to 1\n",
    "        normalized_abundances = row / row.sum()\n",
    "        \n",
    "        # Calculate the number of cells for each type\n",
    "        cell_counts = np.random.multinomial(n_cells_per_spot, normalized_abundances)\n",
    "        \n",
    "        for cell_type, count in zip(row.index, cell_counts):\n",
    "            for i in range(count):\n",
    "                new_obs.append({\n",
    "                    'original_barcode': idx,\n",
    "                    'cell_type': cell_type.replace('meanscell_abundance_w_sf_', '')\n",
    "                })\n",
    "                new_obs_names.append(f\"{idx}-{str(i+1).zfill(2)}\")\n",
    "    \n",
    "    # Create a new AnnData object\n",
    "    new_adata = sc.AnnData(\n",
    "        X=np.zeros((len(new_obs), adata.n_vars)),\n",
    "        obs=pd.DataFrame(new_obs, index=new_obs_names)\n",
    "    )\n",
    "    \n",
    "    # Add spatial coordinates\n",
    "    original_coords = adata.obsm['spatial']\n",
    "    new_coords = np.zeros((len(new_obs), original_coords.shape[1]))\n",
    "    \n",
    "    for i, obs in enumerate(new_obs):\n",
    "        orig_idx = adata.obs_names.get_loc(obs['original_barcode'])\n",
    "        new_coords[i] = original_coords[orig_idx]\n",
    "    \n",
    "    new_adata.obsm['spatial'] = new_coords\n",
    "    \n",
    "    return new_adata"
   ]
  },
  {
   "cell_type": "markdown",
   "metadata": {},
   "source": [
    "## Adult colon samples"
   ]
  },
  {
   "cell_type": "markdown",
   "metadata": {},
   "source": [
    "#### Sample A1"
   ]
  },
  {
   "cell_type": "code",
   "execution_count": 31,
   "metadata": {},
   "outputs": [],
   "source": [
    "dir_path = '/../../../gut_project/Processed_data/Gut_data/Visium_fawkner_corbett/cell2location_results'\n",
    "adata_path = 'CoLocatedComb/CoLocatedGroupsSklearnNMF_3464locations_48factors/anndata/sp.h5ad'"
   ]
  },
  {
   "cell_type": "code",
   "execution_count": 32,
   "metadata": {},
   "outputs": [],
   "source": [
    "sample = 'A1'"
   ]
  },
  {
   "cell_type": "code",
   "execution_count": 33,
   "metadata": {},
   "outputs": [],
   "source": [
    "adata = sc.read_h5ad(f'{dir_path}/{sample}/{adata_path}')"
   ]
  },
  {
   "cell_type": "code",
   "execution_count": 34,
   "metadata": {},
   "outputs": [],
   "source": [
    "adata.obs['top_cell_types'] = adata.obsm['means_cell_abundance_w_sf'].apply(get_top_n_cell_types, axis=1)\n",
    "adata.obs['top_cell_types'] = adata.obs['top_cell_types'].astype('category')"
   ]
  },
  {
   "cell_type": "code",
   "execution_count": 35,
   "metadata": {},
   "outputs": [
    {
     "name": "stdout",
     "output_type": "stream",
     "text": [
      "Creating graph using `grid` coordinates and `None` transform and `1` libraries.\n",
      "Adding `adata.obsp['spatial_connectivities']`\n",
      "       `adata.obsp['spatial_distances']`\n",
      "       `adata.uns['spatial_neighbors']`\n",
      "Finish (0:00:00)\n",
      "Calculating neighborhood enrichment using `1` core(s)\n"
     ]
    },
    {
     "name": "stderr",
     "output_type": "stream",
     "text": [
      "100%|██████████████████████████████████████████████████████████| 1000/1000 [00:00<00:00, 4122.48/s]"
     ]
    },
    {
     "name": "stdout",
     "output_type": "stream",
     "text": [
      "Adding `adata.uns['top_cell_types_nhood_enrichment']`\n",
      "Finish (0:00:00)\n"
     ]
    },
    {
     "name": "stderr",
     "output_type": "stream",
     "text": [
      "\n",
      "/home/amaguza/miniforge3/envs/squidpy_env/lib/python3.9/site-packages/squidpy/gr/_nhood.py:188: RuntimeWarning: invalid value encountered in divide\n",
      "  zscore = (count - perms.mean(axis=0)) / perms.std(axis=0)\n"
     ]
    }
   ],
   "source": [
    "sq.gr.spatial_neighbors(adata, n_rings=2, coord_type=\"grid\", n_neighs=6)\n",
    "sq.gr.nhood_enrichment(adata, cluster_key=\"top_cell_types\")"
   ]
  },
  {
   "cell_type": "code",
   "execution_count": 36,
   "metadata": {},
   "outputs": [
    {
     "name": "stderr",
     "output_type": "stream",
     "text": [
      "/home/amaguza/miniforge3/envs/squidpy_env/lib/python3.9/site-packages/anndata/_core/anndata.py:522: FutureWarning: The dtype argument is deprecated and will be removed in late 2024.\n",
      "  warnings.warn(\n",
      "/home/amaguza/miniforge3/envs/squidpy_env/lib/python3.9/site-packages/squidpy/pl/_utils.py:556: FutureWarning: Series.__getitem__ treating keys as positions is deprecated. In a future version, integer keys will always be treated as labels (consistent with DataFrame behavior). To access a value by position, use `ser.iloc[pos]`\n",
      "  row_labels = adata.obs[key][row_order]\n"
     ]
    }
   ],
   "source": [
    "with plt.rc_context():\n",
    "    sc.set_figure_params(dpi=300, figsize=(4.5, 5))\n",
    "    sq.pl.nhood_enrichment(adata, cluster_key=\"top_cell_types\", figsize=(10, 10))\n",
    "    plt.savefig( f\"{dir_path}/{sample}/{sample}_nhood_enrichment_grid.png\", bbox_inches=\"tight\")\n",
    "    plt.close()"
   ]
  },
  {
   "cell_type": "code",
   "execution_count": 37,
   "metadata": {},
   "outputs": [
    {
     "name": "stdout",
     "output_type": "stream",
     "text": [
      "Calculating co-occurrence probabilities for `50` intervals `1` split combinations using `1` core(s)\n"
     ]
    },
    {
     "name": "stderr",
     "output_type": "stream",
     "text": [
      "100%|██████████████████████████████████████████████████████████████████| 1/1 [00:00<00:00,  1.52/s]"
     ]
    },
    {
     "name": "stdout",
     "output_type": "stream",
     "text": [
      "Adding `adata.uns['top_cell_types_co_occurrence']`\n",
      "Finish (0:00:00)\n",
      "ERROR: Unable to fetch palette, reason: 'top_cell_types_colors'. Using `None`.\n"
     ]
    },
    {
     "name": "stderr",
     "output_type": "stream",
     "text": [
      "\n"
     ]
    }
   ],
   "source": [
    "sq.gr.co_occurrence(adata, cluster_key=\"top_cell_types\")\n",
    "with plt.rc_context():\n",
    "    sc.set_figure_params(dpi=300, figsize=(4.5, 5))\n",
    "    sq.pl.co_occurrence(adata, cluster_key=\"top_cell_types\", clusters=\"Stem cells\", figsize=(10, 10))\n",
    "    plt.savefig( f\"{dir_path}/{sample}/{sample}_co_occurrence_Stem.png\", bbox_inches=\"tight\")\n",
    "    plt.close() "
   ]
  },
  {
   "cell_type": "markdown",
   "metadata": {},
   "source": [
    "+ Option 2 "
   ]
  },
  {
   "cell_type": "code",
   "execution_count": 38,
   "metadata": {},
   "outputs": [
    {
     "name": "stderr",
     "output_type": "stream",
     "text": [
      "/home/amaguza/miniforge3/envs/squidpy_env/lib/python3.9/site-packages/anndata/_core/anndata.py:1906: UserWarning: Observation names are not unique. To make them unique, call `.obs_names_make_unique`.\n",
      "  utils.warn_names_duplicates(\"obs\")\n"
     ]
    }
   ],
   "source": [
    "new_adata = create_expanded_anndata(adata)"
   ]
  },
  {
   "cell_type": "code",
   "execution_count": 39,
   "metadata": {},
   "outputs": [
    {
     "name": "stdout",
     "output_type": "stream",
     "text": [
      "Number of cells per spot:\n",
      "count\n",
      "10    3464\n",
      "Name: count, dtype: int64\n"
     ]
    }
   ],
   "source": [
    "cells_per_spot = new_adata.obs['original_barcode'].value_counts()\n",
    "print(\"Number of cells per spot:\")\n",
    "print(cells_per_spot.value_counts())"
   ]
  },
  {
   "cell_type": "code",
   "execution_count": 40,
   "metadata": {},
   "outputs": [],
   "source": [
    "new_adata.obs[\"cell_type\"] = new_adata.obs[\"cell_type\"].astype(\"category\")"
   ]
  },
  {
   "cell_type": "code",
   "execution_count": 41,
   "metadata": {},
   "outputs": [
    {
     "name": "stdout",
     "output_type": "stream",
     "text": [
      "Creating graph using `grid` coordinates and `None` transform and `1` libraries.\n",
      "Adding `adata.obsp['spatial_connectivities']`\n",
      "       `adata.obsp['spatial_distances']`\n",
      "       `adata.uns['spatial_neighbors']`\n",
      "Finish (0:00:00)\n",
      "Calculating neighborhood enrichment using `1` core(s)\n"
     ]
    },
    {
     "name": "stderr",
     "output_type": "stream",
     "text": [
      "100%|███████████████████████████████████████████████████████████| 1000/1000 [00:01<00:00, 825.19/s]"
     ]
    },
    {
     "name": "stdout",
     "output_type": "stream",
     "text": [
      "Adding `adata.uns['cell_type_nhood_enrichment']`\n",
      "Finish (0:00:01)\n"
     ]
    },
    {
     "name": "stderr",
     "output_type": "stream",
     "text": [
      "\n",
      "/home/amaguza/miniforge3/envs/squidpy_env/lib/python3.9/site-packages/squidpy/gr/_nhood.py:188: RuntimeWarning: invalid value encountered in divide\n",
      "  zscore = (count - perms.mean(axis=0)) / perms.std(axis=0)\n"
     ]
    }
   ],
   "source": [
    "sq.gr.spatial_neighbors(new_adata, n_rings=2, coord_type=\"grid\", n_neighs=6)\n",
    "sq.gr.nhood_enrichment(new_adata, cluster_key=\"cell_type\")"
   ]
  },
  {
   "cell_type": "code",
   "execution_count": 42,
   "metadata": {},
   "outputs": [
    {
     "name": "stderr",
     "output_type": "stream",
     "text": [
      "/home/amaguza/miniforge3/envs/squidpy_env/lib/python3.9/site-packages/anndata/_core/anndata.py:522: FutureWarning: The dtype argument is deprecated and will be removed in late 2024.\n",
      "  warnings.warn(\n",
      "/home/amaguza/miniforge3/envs/squidpy_env/lib/python3.9/site-packages/squidpy/pl/_utils.py:556: FutureWarning: Series.__getitem__ treating keys as positions is deprecated. In a future version, integer keys will always be treated as labels (consistent with DataFrame behavior). To access a value by position, use `ser.iloc[pos]`\n",
      "  row_labels = adata.obs[key][row_order]\n",
      "/home/amaguza/miniforge3/envs/squidpy_env/lib/python3.9/site-packages/squidpy/pl/_utils.py:564: RuntimeWarning: All-NaN axis encountered\n",
      "  norm = mpl.colors.Normalize(vmin=kwargs.pop(\"vmin\", np.nanmin(data)), vmax=kwargs.pop(\"vmax\", np.nanmax(data)))\n"
     ]
    }
   ],
   "source": [
    "with plt.rc_context():\n",
    "    sc.set_figure_params(dpi=300, figsize=(4.5, 5))\n",
    "    sq.pl.nhood_enrichment(new_adata, cluster_key=\"cell_type\", figsize=(10, 10))\n",
    "    plt.savefig( f\"{dir_path}/{sample}/{sample}_nhood_enrichment2.png\", bbox_inches=\"tight\")\n",
    "    plt.close()"
   ]
  },
  {
   "cell_type": "markdown",
   "metadata": {},
   "source": [
    "### A2"
   ]
  },
  {
   "cell_type": "code",
   "execution_count": 43,
   "metadata": {},
   "outputs": [],
   "source": [
    "adata_path = 'CoLocatedComb/CoLocatedGroupsSklearnNMF_2810locations_48factors/anndata/sp.h5ad'"
   ]
  },
  {
   "cell_type": "code",
   "execution_count": 44,
   "metadata": {},
   "outputs": [],
   "source": [
    "sample = 'A2'"
   ]
  },
  {
   "cell_type": "code",
   "execution_count": 45,
   "metadata": {},
   "outputs": [],
   "source": [
    "adata = sc.read_h5ad(f'{dir_path}/{sample}/{adata_path}')"
   ]
  },
  {
   "cell_type": "code",
   "execution_count": 46,
   "metadata": {},
   "outputs": [],
   "source": [
    "adata.obs['top_cell_types'] = adata.obsm['means_cell_abundance_w_sf'].apply(get_top_n_cell_types, axis=1)\n",
    "adata.obs['top_cell_types'] = adata.obs['top_cell_types'].astype('category')"
   ]
  },
  {
   "cell_type": "code",
   "execution_count": 47,
   "metadata": {},
   "outputs": [
    {
     "name": "stdout",
     "output_type": "stream",
     "text": [
      "Creating graph using `grid` coordinates and `None` transform and `1` libraries.\n",
      "Adding `adata.obsp['spatial_connectivities']`\n",
      "       `adata.obsp['spatial_distances']`\n",
      "       `adata.uns['spatial_neighbors']`\n",
      "Finish (0:00:00)\n",
      "Calculating neighborhood enrichment using `1` core(s)\n"
     ]
    },
    {
     "name": "stderr",
     "output_type": "stream",
     "text": [
      "100%|██████████████████████████████████████████████████████████| 1000/1000 [00:00<00:00, 4674.75/s]"
     ]
    },
    {
     "name": "stdout",
     "output_type": "stream",
     "text": [
      "Adding `adata.uns['top_cell_types_nhood_enrichment']`\n",
      "Finish (0:00:00)\n"
     ]
    },
    {
     "name": "stderr",
     "output_type": "stream",
     "text": [
      "\n",
      "/home/amaguza/miniforge3/envs/squidpy_env/lib/python3.9/site-packages/squidpy/gr/_nhood.py:188: RuntimeWarning: invalid value encountered in divide\n",
      "  zscore = (count - perms.mean(axis=0)) / perms.std(axis=0)\n"
     ]
    }
   ],
   "source": [
    "sq.gr.spatial_neighbors(adata, n_rings=2, coord_type=\"grid\", n_neighs=6)\n",
    "sq.gr.nhood_enrichment(adata, cluster_key=\"top_cell_types\")"
   ]
  },
  {
   "cell_type": "code",
   "execution_count": 48,
   "metadata": {},
   "outputs": [
    {
     "name": "stderr",
     "output_type": "stream",
     "text": [
      "/home/amaguza/miniforge3/envs/squidpy_env/lib/python3.9/site-packages/anndata/_core/anndata.py:522: FutureWarning: The dtype argument is deprecated and will be removed in late 2024.\n",
      "  warnings.warn(\n",
      "/home/amaguza/miniforge3/envs/squidpy_env/lib/python3.9/site-packages/squidpy/pl/_utils.py:556: FutureWarning: Series.__getitem__ treating keys as positions is deprecated. In a future version, integer keys will always be treated as labels (consistent with DataFrame behavior). To access a value by position, use `ser.iloc[pos]`\n",
      "  row_labels = adata.obs[key][row_order]\n"
     ]
    }
   ],
   "source": [
    "with plt.rc_context():\n",
    "    sc.set_figure_params(dpi=300, figsize=(4.5, 5))\n",
    "    sq.pl.nhood_enrichment(adata, cluster_key=\"top_cell_types\", figsize=(10, 10))\n",
    "    plt.savefig( f\"{dir_path}/{sample}/{sample}_nhood_enrichment.png\", bbox_inches=\"tight\")\n",
    "    plt.close()"
   ]
  },
  {
   "cell_type": "code",
   "execution_count": 49,
   "metadata": {},
   "outputs": [
    {
     "name": "stdout",
     "output_type": "stream",
     "text": [
      "Calculating co-occurrence probabilities for `50` intervals `1` split combinations using `1` core(s)\n"
     ]
    },
    {
     "name": "stderr",
     "output_type": "stream",
     "text": [
      "100%|██████████████████████████████████████████████████████████████████| 1/1 [00:00<00:00,  1.47/s]"
     ]
    },
    {
     "name": "stdout",
     "output_type": "stream",
     "text": [
      "Adding `adata.uns['top_cell_types_co_occurrence']`\n",
      "Finish (0:00:00)\n",
      "ERROR: Unable to fetch palette, reason: 'top_cell_types_colors'. Using `None`.\n"
     ]
    },
    {
     "name": "stderr",
     "output_type": "stream",
     "text": [
      "\n"
     ]
    }
   ],
   "source": [
    "sq.gr.co_occurrence(adata, cluster_key=\"top_cell_types\")\n",
    "with plt.rc_context():\n",
    "    sc.set_figure_params(dpi=300, figsize=(4.5, 5))\n",
    "    sq.pl.co_occurrence(adata, cluster_key=\"top_cell_types\", clusters=\"Stem cells\", figsize=(10, 10))\n",
    "    plt.savefig( f\"{dir_path}/{sample}/{sample}_co_occurrence_Stem.png\", bbox_inches=\"tight\")\n",
    "    plt.close() "
   ]
  },
  {
   "cell_type": "code",
   "execution_count": 50,
   "metadata": {},
   "outputs": [
    {
     "name": "stderr",
     "output_type": "stream",
     "text": [
      "/home/amaguza/miniforge3/envs/squidpy_env/lib/python3.9/site-packages/anndata/_core/anndata.py:1906: UserWarning: Observation names are not unique. To make them unique, call `.obs_names_make_unique`.\n",
      "  utils.warn_names_duplicates(\"obs\")\n"
     ]
    }
   ],
   "source": [
    "new_adata = create_expanded_anndata(adata)"
   ]
  },
  {
   "cell_type": "code",
   "execution_count": 51,
   "metadata": {},
   "outputs": [],
   "source": [
    "new_adata.obs[\"cell_type\"] = new_adata.obs[\"cell_type\"].astype(\"category\")"
   ]
  },
  {
   "cell_type": "code",
   "execution_count": 52,
   "metadata": {},
   "outputs": [
    {
     "name": "stdout",
     "output_type": "stream",
     "text": [
      "Creating graph using `grid` coordinates and `None` transform and `1` libraries.\n",
      "Adding `adata.obsp['spatial_connectivities']`\n",
      "       `adata.obsp['spatial_distances']`\n",
      "       `adata.uns['spatial_neighbors']`\n",
      "Finish (0:00:00)\n",
      "Calculating neighborhood enrichment using `1` core(s)\n"
     ]
    },
    {
     "name": "stderr",
     "output_type": "stream",
     "text": [
      "100%|███████████████████████████████████████████████████████████| 1000/1000 [00:01<00:00, 670.84/s]\n"
     ]
    },
    {
     "name": "stdout",
     "output_type": "stream",
     "text": [
      "Adding `adata.uns['cell_type_nhood_enrichment']`\n",
      "Finish (0:00:01)\n"
     ]
    },
    {
     "name": "stderr",
     "output_type": "stream",
     "text": [
      "/home/amaguza/miniforge3/envs/squidpy_env/lib/python3.9/site-packages/squidpy/gr/_nhood.py:188: RuntimeWarning: invalid value encountered in divide\n",
      "  zscore = (count - perms.mean(axis=0)) / perms.std(axis=0)\n"
     ]
    }
   ],
   "source": [
    "sq.gr.spatial_neighbors(new_adata, n_rings=2, coord_type=\"grid\", n_neighs=6)\n",
    "sq.gr.nhood_enrichment(new_adata, cluster_key=\"cell_type\")"
   ]
  },
  {
   "cell_type": "code",
   "execution_count": 53,
   "metadata": {},
   "outputs": [
    {
     "name": "stderr",
     "output_type": "stream",
     "text": [
      "/home/amaguza/miniforge3/envs/squidpy_env/lib/python3.9/site-packages/anndata/_core/anndata.py:522: FutureWarning: The dtype argument is deprecated and will be removed in late 2024.\n",
      "  warnings.warn(\n",
      "/home/amaguza/miniforge3/envs/squidpy_env/lib/python3.9/site-packages/squidpy/pl/_utils.py:556: FutureWarning: Series.__getitem__ treating keys as positions is deprecated. In a future version, integer keys will always be treated as labels (consistent with DataFrame behavior). To access a value by position, use `ser.iloc[pos]`\n",
      "  row_labels = adata.obs[key][row_order]\n",
      "/home/amaguza/miniforge3/envs/squidpy_env/lib/python3.9/site-packages/squidpy/pl/_utils.py:564: RuntimeWarning: All-NaN axis encountered\n",
      "  norm = mpl.colors.Normalize(vmin=kwargs.pop(\"vmin\", np.nanmin(data)), vmax=kwargs.pop(\"vmax\", np.nanmax(data)))\n"
     ]
    }
   ],
   "source": [
    "with plt.rc_context():\n",
    "    sc.set_figure_params(dpi=300, figsize=(4.5, 5))\n",
    "    sq.pl.nhood_enrichment(new_adata, cluster_key=\"cell_type\", figsize=(10, 10))\n",
    "    plt.savefig( f\"{dir_path}/{sample}/{sample}_nhood_enrichment2.png\", bbox_inches=\"tight\")\n",
    "    plt.close()"
   ]
  },
  {
   "cell_type": "markdown",
   "metadata": {},
   "source": [
    "### A3"
   ]
  },
  {
   "cell_type": "code",
   "execution_count": 54,
   "metadata": {},
   "outputs": [],
   "source": [
    "adata_path = 'CoLocatedComb/CoLocatedGroupsSklearnNMF_2782locations_95factors/anndata/sp.h5ad'"
   ]
  },
  {
   "cell_type": "code",
   "execution_count": 55,
   "metadata": {},
   "outputs": [],
   "source": [
    "sample = 'A3'"
   ]
  },
  {
   "cell_type": "code",
   "execution_count": 56,
   "metadata": {},
   "outputs": [],
   "source": [
    "adata = sc.read_h5ad(f'{dir_path}/{sample}/{adata_path}')"
   ]
  },
  {
   "cell_type": "code",
   "execution_count": 57,
   "metadata": {},
   "outputs": [],
   "source": [
    "adata.obs['top_cell_types'] = adata.obsm['means_cell_abundance_w_sf'].apply(get_top_n_cell_types, axis=1)\n",
    "adata.obs['top_cell_types'] = adata.obs['top_cell_types'].astype('category')"
   ]
  },
  {
   "cell_type": "code",
   "execution_count": 58,
   "metadata": {},
   "outputs": [
    {
     "name": "stdout",
     "output_type": "stream",
     "text": [
      "Creating graph using `grid` coordinates and `None` transform and `1` libraries.\n",
      "Adding `adata.obsp['spatial_connectivities']`\n",
      "       `adata.obsp['spatial_distances']`\n",
      "       `adata.uns['spatial_neighbors']`\n",
      "Finish (0:00:00)\n",
      "Calculating neighborhood enrichment using `1` core(s)\n"
     ]
    },
    {
     "name": "stderr",
     "output_type": "stream",
     "text": [
      "100%|██████████████████████████████████████████████████████████| 1000/1000 [00:00<00:00, 3038.44/s]"
     ]
    },
    {
     "name": "stdout",
     "output_type": "stream",
     "text": [
      "Adding `adata.uns['top_cell_types_nhood_enrichment']`\n",
      "Finish (0:00:00)\n"
     ]
    },
    {
     "name": "stderr",
     "output_type": "stream",
     "text": [
      "\n",
      "/home/amaguza/miniforge3/envs/squidpy_env/lib/python3.9/site-packages/squidpy/gr/_nhood.py:188: RuntimeWarning: invalid value encountered in divide\n",
      "  zscore = (count - perms.mean(axis=0)) / perms.std(axis=0)\n"
     ]
    }
   ],
   "source": [
    "sq.gr.spatial_neighbors(adata, n_rings=2, coord_type=\"grid\", n_neighs=6)\n",
    "sq.gr.nhood_enrichment(adata, cluster_key=\"top_cell_types\")"
   ]
  },
  {
   "cell_type": "code",
   "execution_count": 59,
   "metadata": {},
   "outputs": [
    {
     "data": {
      "text/plain": [
       "top_cell_types\n",
       "Stromal 3 (C7+)                1236\n",
       "SMC (PART1/CAPN3+)              986\n",
       "Colonocyte                      327\n",
       "Stromal 2 (NPY+)                130\n",
       "Contractile pericyte (PLN+)      16\n",
       "SMC (PLPP2+)                     15\n",
       "LEC4 (STAB2+)                    11\n",
       "Fetal venous EC                  11\n",
       "cycling stromal                  10\n",
       "Stromal 1 (ADAMDEC1+)             8\n",
       "myofibroblast (RSPO2+)            7\n",
       "Glia 1 (DHH+)                     4\n",
       "SELL+ CD8 T                       4\n",
       "Branch B2 (eMN)                   3\n",
       "Mesoderm 2 (ZEB2+)                2\n",
       "FXYD3+_CKB+_SC                    2\n",
       "Enterocyte                        2\n",
       "Activated T                       2\n",
       "BEST4+ epithelial                 1\n",
       "RBC                               1\n",
       "Branch A4 (IN)                    1\n",
       "Branch A2 (IPAN/IN)               1\n",
       "TA                                1\n",
       "Branch A1 (iMN)                   1\n",
       "Name: count, dtype: int64"
      ]
     },
     "execution_count": 59,
     "metadata": {},
     "output_type": "execute_result"
    }
   ],
   "source": [
    "adata.obs['top_cell_types'].value_counts()"
   ]
  },
  {
   "cell_type": "code",
   "execution_count": 60,
   "metadata": {},
   "outputs": [
    {
     "name": "stderr",
     "output_type": "stream",
     "text": [
      "/home/amaguza/miniforge3/envs/squidpy_env/lib/python3.9/site-packages/anndata/_core/anndata.py:522: FutureWarning: The dtype argument is deprecated and will be removed in late 2024.\n",
      "  warnings.warn(\n",
      "/home/amaguza/miniforge3/envs/squidpy_env/lib/python3.9/site-packages/squidpy/pl/_utils.py:556: FutureWarning: Series.__getitem__ treating keys as positions is deprecated. In a future version, integer keys will always be treated as labels (consistent with DataFrame behavior). To access a value by position, use `ser.iloc[pos]`\n",
      "  row_labels = adata.obs[key][row_order]\n"
     ]
    }
   ],
   "source": [
    "with plt.rc_context():\n",
    "    sc.set_figure_params(dpi=300, figsize=(4.5, 5))\n",
    "    sq.pl.nhood_enrichment(adata, cluster_key=\"top_cell_types\", figsize=(10, 10))\n",
    "    plt.savefig( f\"{dir_path}/{sample}/{sample}_nhood_enrichment.png\", bbox_inches=\"tight\")\n",
    "    plt.close()    "
   ]
  },
  {
   "cell_type": "code",
   "execution_count": 61,
   "metadata": {},
   "outputs": [
    {
     "name": "stdout",
     "output_type": "stream",
     "text": [
      "Calculating co-occurrence probabilities for `50` intervals `1` split combinations using `1` core(s)\n"
     ]
    },
    {
     "name": "stderr",
     "output_type": "stream",
     "text": [
      "100%|██████████████████████████████████████████████████████████████████| 1/1 [00:00<00:00,  1.20/s]"
     ]
    },
    {
     "name": "stdout",
     "output_type": "stream",
     "text": [
      "Adding `adata.uns['top_cell_types_co_occurrence']`\n",
      "Finish (0:00:00)\n",
      "ERROR: Unable to fetch palette, reason: 'top_cell_types_colors'. Using `None`.\n"
     ]
    },
    {
     "name": "stderr",
     "output_type": "stream",
     "text": [
      "\n"
     ]
    }
   ],
   "source": [
    "sq.gr.co_occurrence(adata, cluster_key=\"top_cell_types\")\n",
    "with plt.rc_context():\n",
    "    sc.set_figure_params(dpi=300, figsize=(4.5, 5))\n",
    "    sq.pl.co_occurrence(adata, cluster_key=\"top_cell_types\", clusters=\"FXYD3+_CKB+_SC\", figsize=(10, 10))\n",
    "    plt.savefig( f\"{dir_path}/{sample}/{sample}_co_occurrence_FXYD3+_CKB+_SC.png\", bbox_inches=\"tight\")\n",
    "    plt.close() "
   ]
  },
  {
   "cell_type": "code",
   "execution_count": 62,
   "metadata": {},
   "outputs": [
    {
     "name": "stderr",
     "output_type": "stream",
     "text": [
      "/home/amaguza/miniforge3/envs/squidpy_env/lib/python3.9/site-packages/anndata/_core/anndata.py:1906: UserWarning: Observation names are not unique. To make them unique, call `.obs_names_make_unique`.\n",
      "  utils.warn_names_duplicates(\"obs\")\n"
     ]
    }
   ],
   "source": [
    "new_adata = create_expanded_anndata(adata)"
   ]
  },
  {
   "cell_type": "code",
   "execution_count": 63,
   "metadata": {},
   "outputs": [],
   "source": [
    "new_adata.obs[\"cell_type\"] = new_adata.obs[\"cell_type\"].astype(\"category\")"
   ]
  },
  {
   "cell_type": "code",
   "execution_count": 64,
   "metadata": {},
   "outputs": [
    {
     "name": "stdout",
     "output_type": "stream",
     "text": [
      "Creating graph using `grid` coordinates and `None` transform and `1` libraries.\n",
      "Adding `adata.obsp['spatial_connectivities']`\n",
      "       `adata.obsp['spatial_distances']`\n",
      "       `adata.uns['spatial_neighbors']`\n",
      "Finish (0:00:00)\n",
      "Calculating neighborhood enrichment using `1` core(s)\n"
     ]
    },
    {
     "name": "stderr",
     "output_type": "stream",
     "text": [
      "100%|███████████████████████████████████████████████████████████| 1000/1000 [00:01<00:00, 795.13/s]\n"
     ]
    },
    {
     "name": "stdout",
     "output_type": "stream",
     "text": [
      "Adding `adata.uns['cell_type_nhood_enrichment']`\n",
      "Finish (0:00:01)\n"
     ]
    },
    {
     "name": "stderr",
     "output_type": "stream",
     "text": [
      "/home/amaguza/miniforge3/envs/squidpy_env/lib/python3.9/site-packages/squidpy/gr/_nhood.py:188: RuntimeWarning: invalid value encountered in divide\n",
      "  zscore = (count - perms.mean(axis=0)) / perms.std(axis=0)\n"
     ]
    }
   ],
   "source": [
    "sq.gr.spatial_neighbors(new_adata, n_rings=2, coord_type=\"grid\", n_neighs=6)\n",
    "sq.gr.nhood_enrichment(new_adata, cluster_key=\"cell_type\")"
   ]
  },
  {
   "cell_type": "code",
   "execution_count": 65,
   "metadata": {},
   "outputs": [
    {
     "name": "stderr",
     "output_type": "stream",
     "text": [
      "/home/amaguza/miniforge3/envs/squidpy_env/lib/python3.9/site-packages/anndata/_core/anndata.py:522: FutureWarning: The dtype argument is deprecated and will be removed in late 2024.\n",
      "  warnings.warn(\n",
      "/home/amaguza/miniforge3/envs/squidpy_env/lib/python3.9/site-packages/squidpy/pl/_utils.py:556: FutureWarning: Series.__getitem__ treating keys as positions is deprecated. In a future version, integer keys will always be treated as labels (consistent with DataFrame behavior). To access a value by position, use `ser.iloc[pos]`\n",
      "  row_labels = adata.obs[key][row_order]\n",
      "/home/amaguza/miniforge3/envs/squidpy_env/lib/python3.9/site-packages/squidpy/pl/_utils.py:564: RuntimeWarning: All-NaN axis encountered\n",
      "  norm = mpl.colors.Normalize(vmin=kwargs.pop(\"vmin\", np.nanmin(data)), vmax=kwargs.pop(\"vmax\", np.nanmax(data)))\n"
     ]
    }
   ],
   "source": [
    "with plt.rc_context():\n",
    "    sc.set_figure_params(dpi=300, figsize=(17, 17))\n",
    "    sq.pl.nhood_enrichment(new_adata, cluster_key=\"cell_type\", figsize=(17, 17))\n",
    "    plt.savefig( f\"{dir_path}/{sample}/{sample}_nhood_enrichment2.png\", bbox_inches=\"tight\")\n",
    "    plt.close()   "
   ]
  },
  {
   "cell_type": "markdown",
   "metadata": {},
   "source": [
    "### A4"
   ]
  },
  {
   "cell_type": "code",
   "execution_count": 66,
   "metadata": {},
   "outputs": [],
   "source": [
    "adata_path = 'CoLocatedComb/CoLocatedGroupsSklearnNMF_2265locations_95factors/anndata/sp.h5ad'"
   ]
  },
  {
   "cell_type": "code",
   "execution_count": 67,
   "metadata": {},
   "outputs": [],
   "source": [
    "sample = 'A4'"
   ]
  },
  {
   "cell_type": "code",
   "execution_count": 68,
   "metadata": {},
   "outputs": [],
   "source": [
    "adata = sc.read_h5ad(f'{dir_path}/{sample}/{adata_path}')"
   ]
  },
  {
   "cell_type": "code",
   "execution_count": 69,
   "metadata": {},
   "outputs": [],
   "source": [
    "adata.obs['top_cell_types'] = adata.obsm['means_cell_abundance_w_sf'].apply(get_top_n_cell_types, axis=1)\n",
    "adata.obs['top_cell_types'] = adata.obs['top_cell_types'].astype('category')"
   ]
  },
  {
   "cell_type": "code",
   "execution_count": 70,
   "metadata": {},
   "outputs": [
    {
     "name": "stdout",
     "output_type": "stream",
     "text": [
      "Creating graph using `grid` coordinates and `None` transform and `1` libraries.\n",
      "Adding `adata.obsp['spatial_connectivities']`\n",
      "       `adata.obsp['spatial_distances']`\n",
      "       `adata.uns['spatial_neighbors']`\n",
      "Finish (0:00:00)\n",
      "Calculating neighborhood enrichment using `1` core(s)\n"
     ]
    },
    {
     "name": "stderr",
     "output_type": "stream",
     "text": [
      "100%|██████████████████████████████████████████████████████████| 1000/1000 [00:00<00:00, 4912.39/s]"
     ]
    },
    {
     "name": "stdout",
     "output_type": "stream",
     "text": [
      "Adding `adata.uns['top_cell_types_nhood_enrichment']`\n",
      "Finish (0:00:00)\n"
     ]
    },
    {
     "name": "stderr",
     "output_type": "stream",
     "text": [
      "\n",
      "/home/amaguza/miniforge3/envs/squidpy_env/lib/python3.9/site-packages/squidpy/gr/_nhood.py:188: RuntimeWarning: invalid value encountered in divide\n",
      "  zscore = (count - perms.mean(axis=0)) / perms.std(axis=0)\n"
     ]
    }
   ],
   "source": [
    "sq.gr.spatial_neighbors(adata, n_rings=2, coord_type=\"grid\", n_neighs=6)\n",
    "sq.gr.nhood_enrichment(adata, cluster_key=\"top_cell_types\")"
   ]
  },
  {
   "cell_type": "code",
   "execution_count": 71,
   "metadata": {},
   "outputs": [
    {
     "name": "stderr",
     "output_type": "stream",
     "text": [
      "/home/amaguza/miniforge3/envs/squidpy_env/lib/python3.9/site-packages/anndata/_core/anndata.py:522: FutureWarning: The dtype argument is deprecated and will be removed in late 2024.\n",
      "  warnings.warn(\n",
      "/home/amaguza/miniforge3/envs/squidpy_env/lib/python3.9/site-packages/squidpy/pl/_utils.py:556: FutureWarning: Series.__getitem__ treating keys as positions is deprecated. In a future version, integer keys will always be treated as labels (consistent with DataFrame behavior). To access a value by position, use `ser.iloc[pos]`\n",
      "  row_labels = adata.obs[key][row_order]\n"
     ]
    }
   ],
   "source": [
    "with plt.rc_context():\n",
    "    sc.set_figure_params(dpi=300, figsize=(4.5, 5))\n",
    "    sq.pl.nhood_enrichment(adata, cluster_key=\"top_cell_types\", figsize=(10, 10))\n",
    "    plt.savefig( f\"{dir_path}/{sample}/{sample}_nhood_enrichment.png\", bbox_inches=\"tight\")\n",
    "    plt.close()    "
   ]
  },
  {
   "cell_type": "code",
   "execution_count": 72,
   "metadata": {},
   "outputs": [
    {
     "name": "stdout",
     "output_type": "stream",
     "text": [
      "Calculating co-occurrence probabilities for `50` intervals `1` split combinations using `1` core(s)\n"
     ]
    },
    {
     "name": "stderr",
     "output_type": "stream",
     "text": [
      "100%|██████████████████████████████████████████████████████████████████| 1/1 [00:00<00:00,  2.17/s]"
     ]
    },
    {
     "name": "stdout",
     "output_type": "stream",
     "text": [
      "Adding `adata.uns['top_cell_types_co_occurrence']`\n",
      "Finish (0:00:00)\n",
      "ERROR: Unable to fetch palette, reason: 'top_cell_types_colors'. Using `None`.\n"
     ]
    },
    {
     "name": "stderr",
     "output_type": "stream",
     "text": [
      "\n"
     ]
    }
   ],
   "source": [
    "sq.gr.co_occurrence(adata, cluster_key=\"top_cell_types\")\n",
    "with plt.rc_context():\n",
    "    sc.set_figure_params(dpi=300, figsize=(4.5, 5))\n",
    "    sq.pl.co_occurrence(adata, cluster_key=\"top_cell_types\", clusters=\"FXYD3+_CKB+_SC\", figsize=(10, 10))\n",
    "    plt.savefig( f\"{dir_path}/{sample}/{sample}_co_occurrence_FXYD3+_CKB+_SC.png\", bbox_inches=\"tight\")\n",
    "    plt.close() "
   ]
  },
  {
   "cell_type": "code",
   "execution_count": 73,
   "metadata": {},
   "outputs": [
    {
     "name": "stderr",
     "output_type": "stream",
     "text": [
      "/home/amaguza/miniforge3/envs/squidpy_env/lib/python3.9/site-packages/anndata/_core/anndata.py:1906: UserWarning: Observation names are not unique. To make them unique, call `.obs_names_make_unique`.\n",
      "  utils.warn_names_duplicates(\"obs\")\n"
     ]
    }
   ],
   "source": [
    "new_adata = create_expanded_anndata(adata)"
   ]
  },
  {
   "cell_type": "code",
   "execution_count": 74,
   "metadata": {},
   "outputs": [],
   "source": [
    "new_adata.obs[\"cell_type\"] = new_adata.obs[\"cell_type\"].astype(\"category\")"
   ]
  },
  {
   "cell_type": "code",
   "execution_count": 75,
   "metadata": {},
   "outputs": [
    {
     "name": "stdout",
     "output_type": "stream",
     "text": [
      "Creating graph using `grid` coordinates and `None` transform and `1` libraries.\n",
      "Adding `adata.obsp['spatial_connectivities']`\n",
      "       `adata.obsp['spatial_distances']`\n",
      "       `adata.uns['spatial_neighbors']`\n",
      "Finish (0:00:00)\n",
      "Calculating neighborhood enrichment using `1` core(s)\n"
     ]
    },
    {
     "name": "stderr",
     "output_type": "stream",
     "text": [
      "100%|███████████████████████████████████████████████████████████| 1000/1000 [00:01<00:00, 953.99/s]\n"
     ]
    },
    {
     "name": "stdout",
     "output_type": "stream",
     "text": [
      "Adding `adata.uns['cell_type_nhood_enrichment']`\n",
      "Finish (0:00:01)\n"
     ]
    },
    {
     "name": "stderr",
     "output_type": "stream",
     "text": [
      "/home/amaguza/miniforge3/envs/squidpy_env/lib/python3.9/site-packages/squidpy/gr/_nhood.py:188: RuntimeWarning: invalid value encountered in divide\n",
      "  zscore = (count - perms.mean(axis=0)) / perms.std(axis=0)\n"
     ]
    }
   ],
   "source": [
    "sq.gr.spatial_neighbors(new_adata, n_rings=2, coord_type=\"grid\", n_neighs=6)\n",
    "sq.gr.nhood_enrichment(new_adata, cluster_key=\"cell_type\")"
   ]
  },
  {
   "cell_type": "code",
   "execution_count": 76,
   "metadata": {},
   "outputs": [
    {
     "name": "stderr",
     "output_type": "stream",
     "text": [
      "/home/amaguza/miniforge3/envs/squidpy_env/lib/python3.9/site-packages/anndata/_core/anndata.py:522: FutureWarning: The dtype argument is deprecated and will be removed in late 2024.\n",
      "  warnings.warn(\n",
      "/home/amaguza/miniforge3/envs/squidpy_env/lib/python3.9/site-packages/squidpy/pl/_utils.py:556: FutureWarning: Series.__getitem__ treating keys as positions is deprecated. In a future version, integer keys will always be treated as labels (consistent with DataFrame behavior). To access a value by position, use `ser.iloc[pos]`\n",
      "  row_labels = adata.obs[key][row_order]\n",
      "/home/amaguza/miniforge3/envs/squidpy_env/lib/python3.9/site-packages/squidpy/pl/_utils.py:564: RuntimeWarning: All-NaN axis encountered\n",
      "  norm = mpl.colors.Normalize(vmin=kwargs.pop(\"vmin\", np.nanmin(data)), vmax=kwargs.pop(\"vmax\", np.nanmax(data)))\n"
     ]
    }
   ],
   "source": [
    "with plt.rc_context():\n",
    "    sc.set_figure_params(dpi=300, figsize=(17, 17))\n",
    "    sq.pl.nhood_enrichment(new_adata, cluster_key=\"cell_type\", figsize=(17, 17))\n",
    "    plt.savefig( f\"{dir_path}/{sample}/{sample}_nhood_enrichment2.png\", bbox_inches=\"tight\")\n",
    "    plt.close()   "
   ]
  },
  {
   "cell_type": "markdown",
   "metadata": {},
   "source": [
    "### A6"
   ]
  },
  {
   "cell_type": "code",
   "execution_count": 77,
   "metadata": {},
   "outputs": [],
   "source": [
    "adata_path = 'CoLocatedComb/CoLocatedGroupsSklearnNMF_1677locations_100factors/anndata/sp.h5ad'"
   ]
  },
  {
   "cell_type": "code",
   "execution_count": 78,
   "metadata": {},
   "outputs": [],
   "source": [
    "sample = 'A6'"
   ]
  },
  {
   "cell_type": "code",
   "execution_count": 79,
   "metadata": {},
   "outputs": [],
   "source": [
    "adata = sc.read_h5ad(f'{dir_path}/{sample}/{adata_path}')"
   ]
  },
  {
   "cell_type": "code",
   "execution_count": 80,
   "metadata": {},
   "outputs": [],
   "source": [
    "adata.obs['top_cell_types'] = adata.obsm['means_cell_abundance_w_sf'].apply(get_top_n_cell_types, axis=1)\n",
    "adata.obs['top_cell_types'] = adata.obs['top_cell_types'].astype('category')"
   ]
  },
  {
   "cell_type": "code",
   "execution_count": 81,
   "metadata": {},
   "outputs": [
    {
     "name": "stdout",
     "output_type": "stream",
     "text": [
      "Creating graph using `grid` coordinates and `None` transform and `1` libraries.\n",
      "Adding `adata.obsp['spatial_connectivities']`\n",
      "       `adata.obsp['spatial_distances']`\n",
      "       `adata.uns['spatial_neighbors']`\n",
      "Finish (0:00:00)\n",
      "Calculating neighborhood enrichment using `1` core(s)\n"
     ]
    },
    {
     "name": "stderr",
     "output_type": "stream",
     "text": [
      "100%|██████████████████████████████████████████████████████████| 1000/1000 [00:00<00:00, 4895.68/s]"
     ]
    },
    {
     "name": "stdout",
     "output_type": "stream",
     "text": [
      "Adding `adata.uns['top_cell_types_nhood_enrichment']`\n",
      "Finish (0:00:00)\n"
     ]
    },
    {
     "name": "stderr",
     "output_type": "stream",
     "text": [
      "\n",
      "/home/amaguza/miniforge3/envs/squidpy_env/lib/python3.9/site-packages/squidpy/gr/_nhood.py:188: RuntimeWarning: invalid value encountered in divide\n",
      "  zscore = (count - perms.mean(axis=0)) / perms.std(axis=0)\n"
     ]
    }
   ],
   "source": [
    "sq.gr.spatial_neighbors(adata, n_rings=2, coord_type=\"grid\", n_neighs=6)\n",
    "sq.gr.nhood_enrichment(adata, cluster_key=\"top_cell_types\")"
   ]
  },
  {
   "cell_type": "code",
   "execution_count": 82,
   "metadata": {},
   "outputs": [
    {
     "name": "stdout",
     "output_type": "stream",
     "text": [
      "Calculating co-occurrence probabilities for `50` intervals `1` split combinations using `1` core(s)\n"
     ]
    },
    {
     "name": "stderr",
     "output_type": "stream",
     "text": [
      "100%|██████████████████████████████████████████████████████████████████| 1/1 [00:00<00:00,  2.79/s]"
     ]
    },
    {
     "name": "stdout",
     "output_type": "stream",
     "text": [
      "Adding `adata.uns['top_cell_types_co_occurrence']`\n",
      "Finish (0:00:00)\n",
      "ERROR: Unable to fetch palette, reason: 'top_cell_types_colors'. Using `None`.\n"
     ]
    },
    {
     "name": "stderr",
     "output_type": "stream",
     "text": [
      "\n"
     ]
    }
   ],
   "source": [
    "sq.gr.co_occurrence(adata, cluster_key=\"top_cell_types\")\n",
    "with plt.rc_context():\n",
    "    sc.set_figure_params(dpi=300, figsize=(4.5, 5))\n",
    "    sq.pl.co_occurrence(adata, cluster_key=\"top_cell_types\", clusters=\"RPS10+_RPS17+_SC\", figsize=(10, 10))\n",
    "    plt.savefig( f\"{dir_path}/{sample}/{sample}_co_occurrence_RPS10+_RPS17+_SC.png\", bbox_inches=\"tight\")\n",
    "    plt.close() "
   ]
  },
  {
   "cell_type": "code",
   "execution_count": 83,
   "metadata": {},
   "outputs": [
    {
     "name": "stdout",
     "output_type": "stream",
     "text": [
      "Calculating co-occurrence probabilities for `50` intervals `1` split combinations using `1` core(s)\n"
     ]
    },
    {
     "name": "stderr",
     "output_type": "stream",
     "text": [
      "100%|██████████████████████████████████████████████████████████████████| 1/1 [00:00<00:00,  2.95/s]"
     ]
    },
    {
     "name": "stdout",
     "output_type": "stream",
     "text": [
      "Adding `adata.uns['top_cell_types_co_occurrence']`\n",
      "Finish (0:00:00)\n",
      "ERROR: Unable to fetch palette, reason: 'top_cell_types_colors'. Using `None`.\n"
     ]
    },
    {
     "name": "stderr",
     "output_type": "stream",
     "text": [
      "\n"
     ]
    }
   ],
   "source": [
    "sq.gr.co_occurrence(adata, cluster_key=\"top_cell_types\")\n",
    "with plt.rc_context():\n",
    "    sc.set_figure_params(dpi=300, figsize=(4.5, 5))\n",
    "    sq.pl.co_occurrence(adata, cluster_key=\"top_cell_types\", clusters=\"FXYD3+_CKB+_SC\", figsize=(10, 10))\n",
    "    plt.savefig( f\"{dir_path}/{sample}/{sample}_co_occurrence_FXYD3+_CKB+_SC.png\", bbox_inches=\"tight\")\n",
    "    plt.close() "
   ]
  },
  {
   "cell_type": "code",
   "execution_count": 84,
   "metadata": {},
   "outputs": [
    {
     "name": "stdout",
     "output_type": "stream",
     "text": [
      "Calculating co-occurrence probabilities for `50` intervals `1` split combinations using `1` core(s)\n"
     ]
    },
    {
     "name": "stderr",
     "output_type": "stream",
     "text": [
      "100%|██████████████████████████████████████████████████████████████████| 1/1 [00:00<00:00,  2.98/s]"
     ]
    },
    {
     "name": "stdout",
     "output_type": "stream",
     "text": [
      "Adding `adata.uns['top_cell_types_co_occurrence']`\n",
      "Finish (0:00:00)\n",
      "ERROR: Unable to fetch palette, reason: 'top_cell_types_colors'. Using `None`.\n"
     ]
    },
    {
     "name": "stderr",
     "output_type": "stream",
     "text": [
      "\n"
     ]
    }
   ],
   "source": [
    "sq.gr.co_occurrence(adata, cluster_key=\"top_cell_types\")\n",
    "with plt.rc_context():\n",
    "    sc.set_figure_params(dpi=300, figsize=(4.5, 5))\n",
    "    sq.pl.co_occurrence(adata, cluster_key=\"top_cell_types\", clusters=\"MTRNR2L12+ASS1+_SC\", figsize=(10, 10))\n",
    "    plt.savefig( f\"{dir_path}/{sample}/{sample}_co_occurrence_MTRNR2L12+ASS1+_SC.png\", bbox_inches=\"tight\")\n",
    "    plt.close() "
   ]
  },
  {
   "cell_type": "code",
   "execution_count": 85,
   "metadata": {},
   "outputs": [
    {
     "name": "stderr",
     "output_type": "stream",
     "text": [
      "/home/amaguza/miniforge3/envs/squidpy_env/lib/python3.9/site-packages/anndata/_core/anndata.py:522: FutureWarning: The dtype argument is deprecated and will be removed in late 2024.\n",
      "  warnings.warn(\n",
      "/home/amaguza/miniforge3/envs/squidpy_env/lib/python3.9/site-packages/squidpy/pl/_utils.py:556: FutureWarning: Series.__getitem__ treating keys as positions is deprecated. In a future version, integer keys will always be treated as labels (consistent with DataFrame behavior). To access a value by position, use `ser.iloc[pos]`\n",
      "  row_labels = adata.obs[key][row_order]\n"
     ]
    }
   ],
   "source": [
    "with plt.rc_context():\n",
    "    sc.set_figure_params(dpi=300, figsize=(4.5, 5))\n",
    "    sq.pl.nhood_enrichment(adata, cluster_key=\"top_cell_types\", figsize=(10, 10))\n",
    "    plt.savefig( f\"{dir_path}/{sample}/{sample}_nhood_enrichment.png\", bbox_inches=\"tight\")\n",
    "    plt.close()    "
   ]
  },
  {
   "cell_type": "code",
   "execution_count": 86,
   "metadata": {},
   "outputs": [
    {
     "name": "stderr",
     "output_type": "stream",
     "text": [
      "/home/amaguza/miniforge3/envs/squidpy_env/lib/python3.9/site-packages/anndata/_core/anndata.py:1906: UserWarning: Observation names are not unique. To make them unique, call `.obs_names_make_unique`.\n",
      "  utils.warn_names_duplicates(\"obs\")\n"
     ]
    }
   ],
   "source": [
    "new_adata = create_expanded_anndata(adata)"
   ]
  },
  {
   "cell_type": "code",
   "execution_count": 87,
   "metadata": {},
   "outputs": [],
   "source": [
    "new_adata.obs[\"cell_type\"] = new_adata.obs[\"cell_type\"].astype(\"category\")"
   ]
  },
  {
   "cell_type": "code",
   "execution_count": 88,
   "metadata": {},
   "outputs": [
    {
     "name": "stdout",
     "output_type": "stream",
     "text": [
      "Creating graph using `grid` coordinates and `None` transform and `1` libraries.\n",
      "Adding `adata.obsp['spatial_connectivities']`\n",
      "       `adata.obsp['spatial_distances']`\n",
      "       `adata.uns['spatial_neighbors']`\n",
      "Finish (0:00:00)\n",
      "Calculating neighborhood enrichment using `1` core(s)\n"
     ]
    },
    {
     "name": "stderr",
     "output_type": "stream",
     "text": [
      "100%|██████████████████████████████████████████████████████████| 1000/1000 [00:00<00:00, 1188.30/s]\n"
     ]
    },
    {
     "name": "stdout",
     "output_type": "stream",
     "text": [
      "Adding `adata.uns['cell_type_nhood_enrichment']`\n",
      "Finish (0:00:00)\n"
     ]
    },
    {
     "name": "stderr",
     "output_type": "stream",
     "text": [
      "/home/amaguza/miniforge3/envs/squidpy_env/lib/python3.9/site-packages/squidpy/gr/_nhood.py:188: RuntimeWarning: invalid value encountered in divide\n",
      "  zscore = (count - perms.mean(axis=0)) / perms.std(axis=0)\n"
     ]
    }
   ],
   "source": [
    "sq.gr.spatial_neighbors(new_adata, n_rings=2, coord_type=\"grid\", n_neighs=6)\n",
    "sq.gr.nhood_enrichment(new_adata, cluster_key=\"cell_type\")"
   ]
  },
  {
   "cell_type": "code",
   "execution_count": 89,
   "metadata": {},
   "outputs": [
    {
     "name": "stderr",
     "output_type": "stream",
     "text": [
      "/home/amaguza/miniforge3/envs/squidpy_env/lib/python3.9/site-packages/anndata/_core/anndata.py:522: FutureWarning: The dtype argument is deprecated and will be removed in late 2024.\n",
      "  warnings.warn(\n",
      "/home/amaguza/miniforge3/envs/squidpy_env/lib/python3.9/site-packages/squidpy/pl/_utils.py:556: FutureWarning: Series.__getitem__ treating keys as positions is deprecated. In a future version, integer keys will always be treated as labels (consistent with DataFrame behavior). To access a value by position, use `ser.iloc[pos]`\n",
      "  row_labels = adata.obs[key][row_order]\n",
      "/home/amaguza/miniforge3/envs/squidpy_env/lib/python3.9/site-packages/squidpy/pl/_utils.py:564: RuntimeWarning: All-NaN axis encountered\n",
      "  norm = mpl.colors.Normalize(vmin=kwargs.pop(\"vmin\", np.nanmin(data)), vmax=kwargs.pop(\"vmax\", np.nanmax(data)))\n"
     ]
    }
   ],
   "source": [
    "with plt.rc_context():\n",
    "    sc.set_figure_params(dpi=300, figsize=(17, 17))\n",
    "    sq.pl.nhood_enrichment(new_adata, cluster_key=\"cell_type\", figsize=(17, 17))\n",
    "    plt.savefig( f\"{dir_path}/{sample}/{sample}_nhood_enrichment2.png\", bbox_inches=\"tight\")\n",
    "    plt.close()   "
   ]
  },
  {
   "cell_type": "markdown",
   "metadata": {},
   "source": [
    "### A7"
   ]
  },
  {
   "cell_type": "code",
   "execution_count": 90,
   "metadata": {},
   "outputs": [],
   "source": [
    "adata_path = 'CoLocatedComb/CoLocatedGroupsSklearnNMF_1691locations_100factors/anndata/sp.h5ad'"
   ]
  },
  {
   "cell_type": "code",
   "execution_count": 91,
   "metadata": {},
   "outputs": [],
   "source": [
    "sample = 'A7'"
   ]
  },
  {
   "cell_type": "code",
   "execution_count": 92,
   "metadata": {},
   "outputs": [],
   "source": [
    "adata = sc.read_h5ad(f'{dir_path}/{sample}/{adata_path}')"
   ]
  },
  {
   "cell_type": "code",
   "execution_count": 93,
   "metadata": {},
   "outputs": [],
   "source": [
    "adata.obs['top_cell_types'] = adata.obsm['means_cell_abundance_w_sf'].apply(get_top_n_cell_types, axis=1)\n",
    "adata.obs['top_cell_types'] = adata.obs['top_cell_types'].astype('category')"
   ]
  },
  {
   "cell_type": "code",
   "execution_count": 94,
   "metadata": {},
   "outputs": [
    {
     "name": "stdout",
     "output_type": "stream",
     "text": [
      "Creating graph using `grid` coordinates and `None` transform and `1` libraries.\n",
      "Adding `adata.obsp['spatial_connectivities']`\n",
      "       `adata.obsp['spatial_distances']`\n",
      "       `adata.uns['spatial_neighbors']`\n",
      "Finish (0:00:00)\n",
      "Calculating neighborhood enrichment using `1` core(s)\n"
     ]
    },
    {
     "name": "stderr",
     "output_type": "stream",
     "text": [
      "100%|██████████████████████████████████████████████████████████| 1000/1000 [00:00<00:00, 5156.19/s]\n"
     ]
    },
    {
     "name": "stdout",
     "output_type": "stream",
     "text": [
      "Adding `adata.uns['top_cell_types_nhood_enrichment']`\n",
      "Finish (0:00:00)\n"
     ]
    },
    {
     "name": "stderr",
     "output_type": "stream",
     "text": [
      "/home/amaguza/miniforge3/envs/squidpy_env/lib/python3.9/site-packages/squidpy/gr/_nhood.py:188: RuntimeWarning: invalid value encountered in divide\n",
      "  zscore = (count - perms.mean(axis=0)) / perms.std(axis=0)\n"
     ]
    }
   ],
   "source": [
    "sq.gr.spatial_neighbors(adata, n_rings=2, coord_type=\"grid\", n_neighs=6)\n",
    "sq.gr.nhood_enrichment(adata, cluster_key=\"top_cell_types\")"
   ]
  },
  {
   "cell_type": "code",
   "execution_count": 95,
   "metadata": {},
   "outputs": [
    {
     "name": "stderr",
     "output_type": "stream",
     "text": [
      "/home/amaguza/miniforge3/envs/squidpy_env/lib/python3.9/site-packages/anndata/_core/anndata.py:522: FutureWarning: The dtype argument is deprecated and will be removed in late 2024.\n",
      "  warnings.warn(\n",
      "/home/amaguza/miniforge3/envs/squidpy_env/lib/python3.9/site-packages/squidpy/pl/_utils.py:556: FutureWarning: Series.__getitem__ treating keys as positions is deprecated. In a future version, integer keys will always be treated as labels (consistent with DataFrame behavior). To access a value by position, use `ser.iloc[pos]`\n",
      "  row_labels = adata.obs[key][row_order]\n"
     ]
    }
   ],
   "source": [
    "with plt.rc_context():\n",
    "    sc.set_figure_params(dpi=300, figsize=(4.5, 5))\n",
    "    sq.pl.nhood_enrichment(adata, cluster_key=\"top_cell_types\", figsize=(10, 10))\n",
    "    plt.savefig( f\"{dir_path}/{sample}/{sample}_nhood_enrichment.png\", bbox_inches=\"tight\")\n",
    "    plt.close()    "
   ]
  },
  {
   "cell_type": "code",
   "execution_count": 96,
   "metadata": {},
   "outputs": [
    {
     "name": "stdout",
     "output_type": "stream",
     "text": [
      "Calculating co-occurrence probabilities for `50` intervals `1` split combinations using `1` core(s)\n"
     ]
    },
    {
     "name": "stderr",
     "output_type": "stream",
     "text": [
      "100%|██████████████████████████████████████████████████████████████████| 1/1 [00:00<00:00,  3.09/s]"
     ]
    },
    {
     "name": "stdout",
     "output_type": "stream",
     "text": [
      "Adding `adata.uns['top_cell_types_co_occurrence']`\n",
      "Finish (0:00:00)\n",
      "ERROR: Unable to fetch palette, reason: 'top_cell_types_colors'. Using `None`.\n"
     ]
    },
    {
     "name": "stderr",
     "output_type": "stream",
     "text": [
      "\n"
     ]
    }
   ],
   "source": [
    "sq.gr.co_occurrence(adata, cluster_key=\"top_cell_types\")\n",
    "with plt.rc_context():\n",
    "    sc.set_figure_params(dpi=300, figsize=(4.5, 5))\n",
    "    sq.pl.co_occurrence(adata, cluster_key=\"top_cell_types\", clusters=\"FXYD3+_CKB+_SC\", figsize=(10, 10))\n",
    "    plt.savefig( f\"{dir_path}/{sample}/{sample}_co_occurrence_FXYD3+_CKB+_SC.png\", bbox_inches=\"tight\")\n",
    "    plt.close() "
   ]
  },
  {
   "cell_type": "code",
   "execution_count": 97,
   "metadata": {},
   "outputs": [
    {
     "name": "stdout",
     "output_type": "stream",
     "text": [
      "Calculating co-occurrence probabilities for `50` intervals `1` split combinations using `1` core(s)\n"
     ]
    },
    {
     "name": "stderr",
     "output_type": "stream",
     "text": [
      "100%|██████████████████████████████████████████████████████████████████| 1/1 [00:00<00:00,  2.51/s]"
     ]
    },
    {
     "name": "stdout",
     "output_type": "stream",
     "text": [
      "Adding `adata.uns['top_cell_types_co_occurrence']`\n",
      "Finish (0:00:00)\n",
      "ERROR: Unable to fetch palette, reason: 'top_cell_types_colors'. Using `None`.\n"
     ]
    },
    {
     "name": "stderr",
     "output_type": "stream",
     "text": [
      "\n"
     ]
    }
   ],
   "source": [
    "sq.gr.co_occurrence(adata, cluster_key=\"top_cell_types\")\n",
    "with plt.rc_context():\n",
    "    sc.set_figure_params(dpi=300, figsize=(4.5, 5))\n",
    "    sq.pl.co_occurrence(adata, cluster_key=\"top_cell_types\", clusters=\"RPS10+_RPS17+_SC\", figsize=(10, 10))\n",
    "    plt.savefig( f\"{dir_path}/{sample}/{sample}_co_occurrence_RPS10+_RPS17+_SC.png\", bbox_inches=\"tight\")\n",
    "    plt.close() "
   ]
  },
  {
   "cell_type": "code",
   "execution_count": 98,
   "metadata": {},
   "outputs": [
    {
     "name": "stdout",
     "output_type": "stream",
     "text": [
      "Calculating co-occurrence probabilities for `50` intervals `1` split combinations using `1` core(s)\n"
     ]
    },
    {
     "name": "stderr",
     "output_type": "stream",
     "text": [
      "100%|██████████████████████████████████████████████████████████████████| 1/1 [00:00<00:00,  3.66/s]"
     ]
    },
    {
     "name": "stdout",
     "output_type": "stream",
     "text": [
      "Adding `adata.uns['top_cell_types_co_occurrence']`\n",
      "Finish (0:00:00)\n",
      "ERROR: Unable to fetch palette, reason: 'top_cell_types_colors'. Using `None`.\n"
     ]
    },
    {
     "name": "stderr",
     "output_type": "stream",
     "text": [
      "\n"
     ]
    }
   ],
   "source": [
    "sq.gr.co_occurrence(adata, cluster_key=\"top_cell_types\")\n",
    "with plt.rc_context():\n",
    "    sc.set_figure_params(dpi=300, figsize=(4.5, 5))\n",
    "    sq.pl.co_occurrence(adata, cluster_key=\"top_cell_types\", clusters=\"MTRNR2L12+ASS1+_SC\", figsize=(10, 10))\n",
    "    plt.savefig( f\"{dir_path}/{sample}/{sample}_co_occurrence_MTRNR2L12+ASS1+_SC.png\", bbox_inches=\"tight\")\n",
    "    plt.close() "
   ]
  },
  {
   "cell_type": "code",
   "execution_count": 99,
   "metadata": {},
   "outputs": [
    {
     "name": "stderr",
     "output_type": "stream",
     "text": [
      "/home/amaguza/miniforge3/envs/squidpy_env/lib/python3.9/site-packages/anndata/_core/anndata.py:1906: UserWarning: Observation names are not unique. To make them unique, call `.obs_names_make_unique`.\n",
      "  utils.warn_names_duplicates(\"obs\")\n"
     ]
    }
   ],
   "source": [
    "new_adata = create_expanded_anndata(adata)"
   ]
  },
  {
   "cell_type": "code",
   "execution_count": 100,
   "metadata": {},
   "outputs": [],
   "source": [
    "new_adata.obs[\"cell_type\"] = new_adata.obs[\"cell_type\"].astype(\"category\")"
   ]
  },
  {
   "cell_type": "code",
   "execution_count": 101,
   "metadata": {},
   "outputs": [
    {
     "name": "stdout",
     "output_type": "stream",
     "text": [
      "Creating graph using `grid` coordinates and `None` transform and `1` libraries.\n",
      "Adding `adata.obsp['spatial_connectivities']`\n",
      "       `adata.obsp['spatial_distances']`\n",
      "       `adata.uns['spatial_neighbors']`\n",
      "Finish (0:00:00)\n",
      "Calculating neighborhood enrichment using `1` core(s)\n"
     ]
    },
    {
     "name": "stderr",
     "output_type": "stream",
     "text": [
      "100%|██████████████████████████████████████████████████████████| 1000/1000 [00:00<00:00, 1129.73/s]\n"
     ]
    },
    {
     "name": "stdout",
     "output_type": "stream",
     "text": [
      "Adding `adata.uns['cell_type_nhood_enrichment']`\n",
      "Finish (0:00:00)\n"
     ]
    },
    {
     "name": "stderr",
     "output_type": "stream",
     "text": [
      "/home/amaguza/miniforge3/envs/squidpy_env/lib/python3.9/site-packages/squidpy/gr/_nhood.py:188: RuntimeWarning: invalid value encountered in divide\n",
      "  zscore = (count - perms.mean(axis=0)) / perms.std(axis=0)\n"
     ]
    }
   ],
   "source": [
    "sq.gr.spatial_neighbors(new_adata, n_rings=2, coord_type=\"grid\", n_neighs=6)\n",
    "sq.gr.nhood_enrichment(new_adata, cluster_key=\"cell_type\")"
   ]
  },
  {
   "cell_type": "code",
   "execution_count": 102,
   "metadata": {},
   "outputs": [
    {
     "name": "stderr",
     "output_type": "stream",
     "text": [
      "/home/amaguza/miniforge3/envs/squidpy_env/lib/python3.9/site-packages/anndata/_core/anndata.py:522: FutureWarning: The dtype argument is deprecated and will be removed in late 2024.\n",
      "  warnings.warn(\n",
      "/home/amaguza/miniforge3/envs/squidpy_env/lib/python3.9/site-packages/squidpy/pl/_utils.py:556: FutureWarning: Series.__getitem__ treating keys as positions is deprecated. In a future version, integer keys will always be treated as labels (consistent with DataFrame behavior). To access a value by position, use `ser.iloc[pos]`\n",
      "  row_labels = adata.obs[key][row_order]\n",
      "/home/amaguza/miniforge3/envs/squidpy_env/lib/python3.9/site-packages/squidpy/pl/_utils.py:564: RuntimeWarning: All-NaN axis encountered\n",
      "  norm = mpl.colors.Normalize(vmin=kwargs.pop(\"vmin\", np.nanmin(data)), vmax=kwargs.pop(\"vmax\", np.nanmax(data)))\n"
     ]
    }
   ],
   "source": [
    "with plt.rc_context():\n",
    "    sc.set_figure_params(dpi=300, figsize=(17, 17))\n",
    "    sq.pl.nhood_enrichment(new_adata, cluster_key=\"cell_type\", figsize=(17, 17))\n",
    "    plt.savefig( f\"{dir_path}/{sample}/{sample}_nhood_enrichment2.png\", bbox_inches=\"tight\")\n",
    "    plt.close()   "
   ]
  },
  {
   "cell_type": "markdown",
   "metadata": {},
   "source": [
    "### A8"
   ]
  },
  {
   "cell_type": "code",
   "execution_count": 103,
   "metadata": {},
   "outputs": [],
   "source": [
    "adata_path = 'CoLocatedComb/CoLocatedGroupsSklearnNMF_2600locations_95factors/anndata/sp.h5ad'"
   ]
  },
  {
   "cell_type": "code",
   "execution_count": 104,
   "metadata": {},
   "outputs": [],
   "source": [
    "sample = 'A8'"
   ]
  },
  {
   "cell_type": "code",
   "execution_count": 105,
   "metadata": {},
   "outputs": [],
   "source": [
    "adata = sc.read_h5ad(f'{dir_path}/{sample}/{adata_path}')"
   ]
  },
  {
   "cell_type": "code",
   "execution_count": 106,
   "metadata": {},
   "outputs": [],
   "source": [
    "adata.obs['top_cell_types'] = adata.obsm['means_cell_abundance_w_sf'].apply(get_top_n_cell_types, axis=1)\n",
    "adata.obs['top_cell_types'] = adata.obs['top_cell_types'].astype('category')"
   ]
  },
  {
   "cell_type": "code",
   "execution_count": 107,
   "metadata": {},
   "outputs": [
    {
     "name": "stdout",
     "output_type": "stream",
     "text": [
      "Creating graph using `grid` coordinates and `None` transform and `1` libraries.\n",
      "Adding `adata.obsp['spatial_connectivities']`\n",
      "       `adata.obsp['spatial_distances']`\n",
      "       `adata.uns['spatial_neighbors']`\n",
      "Finish (0:00:00)\n",
      "Calculating neighborhood enrichment using `1` core(s)\n"
     ]
    },
    {
     "name": "stderr",
     "output_type": "stream",
     "text": [
      "100%|██████████████████████████████████████████████████████████| 1000/1000 [00:00<00:00, 4352.60/s]"
     ]
    },
    {
     "name": "stdout",
     "output_type": "stream",
     "text": [
      "Adding `adata.uns['top_cell_types_nhood_enrichment']`\n",
      "Finish (0:00:00)\n"
     ]
    },
    {
     "name": "stderr",
     "output_type": "stream",
     "text": [
      "\n",
      "/home/amaguza/miniforge3/envs/squidpy_env/lib/python3.9/site-packages/squidpy/gr/_nhood.py:188: RuntimeWarning: invalid value encountered in divide\n",
      "  zscore = (count - perms.mean(axis=0)) / perms.std(axis=0)\n"
     ]
    }
   ],
   "source": [
    "sq.gr.spatial_neighbors(adata, n_rings=2, coord_type=\"grid\", n_neighs=6)\n",
    "sq.gr.nhood_enrichment(adata, cluster_key=\"top_cell_types\")"
   ]
  },
  {
   "cell_type": "code",
   "execution_count": 108,
   "metadata": {},
   "outputs": [
    {
     "name": "stderr",
     "output_type": "stream",
     "text": [
      "/home/amaguza/miniforge3/envs/squidpy_env/lib/python3.9/site-packages/anndata/_core/anndata.py:522: FutureWarning: The dtype argument is deprecated and will be removed in late 2024.\n",
      "  warnings.warn(\n",
      "/home/amaguza/miniforge3/envs/squidpy_env/lib/python3.9/site-packages/squidpy/pl/_utils.py:556: FutureWarning: Series.__getitem__ treating keys as positions is deprecated. In a future version, integer keys will always be treated as labels (consistent with DataFrame behavior). To access a value by position, use `ser.iloc[pos]`\n",
      "  row_labels = adata.obs[key][row_order]\n"
     ]
    }
   ],
   "source": [
    "with plt.rc_context():\n",
    "    sc.set_figure_params(dpi=300, figsize=(4.5, 5))\n",
    "    sq.pl.nhood_enrichment(adata, cluster_key=\"top_cell_types\", figsize=(10, 10))\n",
    "    plt.savefig( f\"{dir_path}/{sample}/{sample}_nhood_enrichment.png\", bbox_inches=\"tight\")\n",
    "    plt.close()    "
   ]
  },
  {
   "cell_type": "code",
   "execution_count": 109,
   "metadata": {},
   "outputs": [
    {
     "name": "stdout",
     "output_type": "stream",
     "text": [
      "Calculating co-occurrence probabilities for `50` intervals `1` split combinations using `1` core(s)\n"
     ]
    },
    {
     "name": "stderr",
     "output_type": "stream",
     "text": [
      "100%|██████████████████████████████████████████████████████████████████| 1/1 [00:00<00:00,  1.83/s]"
     ]
    },
    {
     "name": "stdout",
     "output_type": "stream",
     "text": [
      "Adding `adata.uns['top_cell_types_co_occurrence']`\n",
      "Finish (0:00:00)\n",
      "ERROR: Unable to fetch palette, reason: 'top_cell_types_colors'. Using `None`.\n"
     ]
    },
    {
     "name": "stderr",
     "output_type": "stream",
     "text": [
      "\n"
     ]
    }
   ],
   "source": [
    "sq.gr.co_occurrence(adata, cluster_key=\"top_cell_types\")\n",
    "with plt.rc_context():\n",
    "    sc.set_figure_params(dpi=300, figsize=(4.5, 5))\n",
    "    sq.pl.co_occurrence(adata, cluster_key=\"top_cell_types\", clusters=\"FXYD3+_CKB+_SC\", figsize=(10, 10))\n",
    "    plt.savefig( f\"{dir_path}/{sample}/{sample}_co_occurrence.png\", bbox_inches=\"tight\")\n",
    "    plt.close() "
   ]
  },
  {
   "cell_type": "code",
   "execution_count": 110,
   "metadata": {},
   "outputs": [
    {
     "name": "stderr",
     "output_type": "stream",
     "text": [
      "/home/amaguza/miniforge3/envs/squidpy_env/lib/python3.9/site-packages/anndata/_core/anndata.py:1906: UserWarning: Observation names are not unique. To make them unique, call `.obs_names_make_unique`.\n",
      "  utils.warn_names_duplicates(\"obs\")\n"
     ]
    }
   ],
   "source": [
    "new_adata = create_expanded_anndata(adata)"
   ]
  },
  {
   "cell_type": "code",
   "execution_count": 111,
   "metadata": {},
   "outputs": [],
   "source": [
    "new_adata.obs[\"cell_type\"] = new_adata.obs[\"cell_type\"].astype(\"category\")"
   ]
  },
  {
   "cell_type": "code",
   "execution_count": 112,
   "metadata": {},
   "outputs": [
    {
     "name": "stdout",
     "output_type": "stream",
     "text": [
      "Creating graph using `grid` coordinates and `None` transform and `1` libraries.\n",
      "Adding `adata.obsp['spatial_connectivities']`\n",
      "       `adata.obsp['spatial_distances']`\n",
      "       `adata.uns['spatial_neighbors']`\n",
      "Finish (0:00:00)\n",
      "Calculating neighborhood enrichment using `1` core(s)\n"
     ]
    },
    {
     "name": "stderr",
     "output_type": "stream",
     "text": [
      "100%|███████████████████████████████████████████████████████████| 1000/1000 [00:01<00:00, 790.71/s]\n"
     ]
    },
    {
     "name": "stdout",
     "output_type": "stream",
     "text": [
      "Adding `adata.uns['cell_type_nhood_enrichment']`\n",
      "Finish (0:00:01)\n"
     ]
    },
    {
     "name": "stderr",
     "output_type": "stream",
     "text": [
      "/home/amaguza/miniforge3/envs/squidpy_env/lib/python3.9/site-packages/squidpy/gr/_nhood.py:188: RuntimeWarning: invalid value encountered in divide\n",
      "  zscore = (count - perms.mean(axis=0)) / perms.std(axis=0)\n"
     ]
    }
   ],
   "source": [
    "sq.gr.spatial_neighbors(new_adata, n_rings=2, coord_type=\"grid\", n_neighs=6)\n",
    "sq.gr.nhood_enrichment(new_adata, cluster_key=\"cell_type\")"
   ]
  },
  {
   "cell_type": "code",
   "execution_count": 113,
   "metadata": {},
   "outputs": [
    {
     "name": "stderr",
     "output_type": "stream",
     "text": [
      "/home/amaguza/miniforge3/envs/squidpy_env/lib/python3.9/site-packages/anndata/_core/anndata.py:522: FutureWarning: The dtype argument is deprecated and will be removed in late 2024.\n",
      "  warnings.warn(\n",
      "/home/amaguza/miniforge3/envs/squidpy_env/lib/python3.9/site-packages/squidpy/pl/_utils.py:556: FutureWarning: Series.__getitem__ treating keys as positions is deprecated. In a future version, integer keys will always be treated as labels (consistent with DataFrame behavior). To access a value by position, use `ser.iloc[pos]`\n",
      "  row_labels = adata.obs[key][row_order]\n",
      "/home/amaguza/miniforge3/envs/squidpy_env/lib/python3.9/site-packages/squidpy/pl/_utils.py:564: RuntimeWarning: All-NaN axis encountered\n",
      "  norm = mpl.colors.Normalize(vmin=kwargs.pop(\"vmin\", np.nanmin(data)), vmax=kwargs.pop(\"vmax\", np.nanmax(data)))\n"
     ]
    }
   ],
   "source": [
    "with plt.rc_context():\n",
    "    sc.set_figure_params(dpi=300, figsize=(17, 17))\n",
    "    sq.pl.nhood_enrichment(new_adata, cluster_key=\"cell_type\", figsize=(17, 17))\n",
    "    plt.savefig( f\"{dir_path}/{sample}/{sample}_nhood_enrichment2.png\", bbox_inches=\"tight\")\n",
    "    plt.close()   "
   ]
  },
  {
   "cell_type": "markdown",
   "metadata": {},
   "source": [
    "### A9"
   ]
  },
  {
   "cell_type": "code",
   "execution_count": 114,
   "metadata": {},
   "outputs": [],
   "source": [
    "adata_path = 'CoLocatedComb/CoLocatedGroupsSklearnNMF_2255locations_95factors/anndata/sp.h5ad'"
   ]
  },
  {
   "cell_type": "code",
   "execution_count": 115,
   "metadata": {},
   "outputs": [],
   "source": [
    "sample = 'A9'"
   ]
  },
  {
   "cell_type": "code",
   "execution_count": 116,
   "metadata": {},
   "outputs": [],
   "source": [
    "adata = sc.read_h5ad(f'{dir_path}/{sample}/{adata_path}')"
   ]
  },
  {
   "cell_type": "code",
   "execution_count": 117,
   "metadata": {},
   "outputs": [],
   "source": [
    "adata.obs['top_cell_types'] = adata.obsm['means_cell_abundance_w_sf'].apply(get_top_n_cell_types, axis=1)\n",
    "adata.obs['top_cell_types'] = adata.obs['top_cell_types'].astype('category')"
   ]
  },
  {
   "cell_type": "code",
   "execution_count": 118,
   "metadata": {},
   "outputs": [
    {
     "data": {
      "text/plain": [
       "top_cell_types\n",
       "Stromal 3 (C7+)                1044\n",
       "Colonocyte                      878\n",
       "SMC (PART1/CAPN3+)              272\n",
       "SMC (PLPP2+)                     15\n",
       "Enterocyte                       14\n",
       "Stromal 2 (CH25H+)                7\n",
       "SELL+ CD8 T                       5\n",
       "cycling stromal                   4\n",
       "Stromal 2 (NPY+)                  4\n",
       "Contractile pericyte (PLN+)       3\n",
       "FXYD3+_CKB+_SC                    2\n",
       "Branch A2 (IPAN/IN)               1\n",
       "Mesoderm 2 (ZEB2+)                1\n",
       "Branch A3 (IPAN/IN)               1\n",
       "LEC4 (STAB2+)                     1\n",
       "Glia 1 (DHH+)                     1\n",
       "Branch B2 (eMN)                   1\n",
       "myofibroblast (RSPO2+)            1\n",
       "Name: count, dtype: int64"
      ]
     },
     "execution_count": 118,
     "metadata": {},
     "output_type": "execute_result"
    }
   ],
   "source": [
    "adata.obs['top_cell_types'].value_counts()"
   ]
  },
  {
   "cell_type": "code",
   "execution_count": 119,
   "metadata": {},
   "outputs": [
    {
     "name": "stdout",
     "output_type": "stream",
     "text": [
      "Creating graph using `grid` coordinates and `None` transform and `1` libraries.\n",
      "Adding `adata.obsp['spatial_connectivities']`\n",
      "       `adata.obsp['spatial_distances']`\n",
      "       `adata.uns['spatial_neighbors']`\n",
      "Finish (0:00:00)\n",
      "Calculating neighborhood enrichment using `1` core(s)\n"
     ]
    },
    {
     "name": "stderr",
     "output_type": "stream",
     "text": [
      "100%|██████████████████████████████████████████████████████████| 1000/1000 [00:00<00:00, 4773.62/s]"
     ]
    },
    {
     "name": "stdout",
     "output_type": "stream",
     "text": [
      "Adding `adata.uns['top_cell_types_nhood_enrichment']`\n",
      "Finish (0:00:00)\n"
     ]
    },
    {
     "name": "stderr",
     "output_type": "stream",
     "text": [
      "\n",
      "/home/amaguza/miniforge3/envs/squidpy_env/lib/python3.9/site-packages/squidpy/gr/_nhood.py:188: RuntimeWarning: invalid value encountered in divide\n",
      "  zscore = (count - perms.mean(axis=0)) / perms.std(axis=0)\n"
     ]
    }
   ],
   "source": [
    "sq.gr.spatial_neighbors(adata, n_rings=2, coord_type=\"grid\", n_neighs=6)\n",
    "sq.gr.nhood_enrichment(adata, cluster_key=\"top_cell_types\")"
   ]
  },
  {
   "cell_type": "code",
   "execution_count": 120,
   "metadata": {},
   "outputs": [
    {
     "name": "stderr",
     "output_type": "stream",
     "text": [
      "/home/amaguza/miniforge3/envs/squidpy_env/lib/python3.9/site-packages/anndata/_core/anndata.py:522: FutureWarning: The dtype argument is deprecated and will be removed in late 2024.\n",
      "  warnings.warn(\n",
      "/home/amaguza/miniforge3/envs/squidpy_env/lib/python3.9/site-packages/squidpy/pl/_utils.py:556: FutureWarning: Series.__getitem__ treating keys as positions is deprecated. In a future version, integer keys will always be treated as labels (consistent with DataFrame behavior). To access a value by position, use `ser.iloc[pos]`\n",
      "  row_labels = adata.obs[key][row_order]\n"
     ]
    }
   ],
   "source": [
    "with plt.rc_context():\n",
    "    sc.set_figure_params(dpi=300, figsize=(4.5, 5))\n",
    "    sq.pl.nhood_enrichment(adata, cluster_key=\"top_cell_types\", figsize=(10, 10))\n",
    "    plt.savefig( f\"{dir_path}/{sample}/{sample}_nhood_enrichment.png\", bbox_inches=\"tight\")\n",
    "    plt.close()    "
   ]
  },
  {
   "cell_type": "code",
   "execution_count": 121,
   "metadata": {},
   "outputs": [
    {
     "name": "stdout",
     "output_type": "stream",
     "text": [
      "Calculating co-occurrence probabilities for `50` intervals `1` split combinations using `1` core(s)\n"
     ]
    },
    {
     "name": "stderr",
     "output_type": "stream",
     "text": [
      "100%|██████████████████████████████████████████████████████████████████| 1/1 [00:00<00:00,  2.28/s]"
     ]
    },
    {
     "name": "stdout",
     "output_type": "stream",
     "text": [
      "Adding `adata.uns['top_cell_types_co_occurrence']`\n",
      "Finish (0:00:00)\n",
      "ERROR: Unable to fetch palette, reason: 'top_cell_types_colors'. Using `None`.\n"
     ]
    },
    {
     "name": "stderr",
     "output_type": "stream",
     "text": [
      "\n"
     ]
    }
   ],
   "source": [
    "sq.gr.co_occurrence(adata, cluster_key=\"top_cell_types\")\n",
    "with plt.rc_context():\n",
    "    sc.set_figure_params(dpi=300, figsize=(4.5, 5))\n",
    "    sq.pl.co_occurrence(adata, cluster_key=\"top_cell_types\", clusters=\"FXYD3+_CKB+_SC\", figsize=(10, 10))\n",
    "    plt.savefig( f\"{dir_path}/{sample}/{sample}_co_occurrence.png\", bbox_inches=\"tight\")\n",
    "    plt.close() "
   ]
  },
  {
   "cell_type": "code",
   "execution_count": 122,
   "metadata": {},
   "outputs": [
    {
     "name": "stderr",
     "output_type": "stream",
     "text": [
      "/home/amaguza/miniforge3/envs/squidpy_env/lib/python3.9/site-packages/anndata/_core/anndata.py:1906: UserWarning: Observation names are not unique. To make them unique, call `.obs_names_make_unique`.\n",
      "  utils.warn_names_duplicates(\"obs\")\n"
     ]
    }
   ],
   "source": [
    "new_adata = create_expanded_anndata(adata)"
   ]
  },
  {
   "cell_type": "code",
   "execution_count": 123,
   "metadata": {},
   "outputs": [],
   "source": [
    "new_adata.obs[\"cell_type\"] = new_adata.obs[\"cell_type\"].astype(\"category\")"
   ]
  },
  {
   "cell_type": "code",
   "execution_count": 124,
   "metadata": {},
   "outputs": [
    {
     "name": "stdout",
     "output_type": "stream",
     "text": [
      "Creating graph using `grid` coordinates and `None` transform and `1` libraries.\n",
      "Adding `adata.obsp['spatial_connectivities']`\n",
      "       `adata.obsp['spatial_distances']`\n",
      "       `adata.uns['spatial_neighbors']`\n",
      "Finish (0:00:00)\n",
      "Calculating neighborhood enrichment using `1` core(s)\n"
     ]
    },
    {
     "name": "stderr",
     "output_type": "stream",
     "text": [
      "100%|███████████████████████████████████████████████████████████| 1000/1000 [00:01<00:00, 953.79/s]\n"
     ]
    },
    {
     "name": "stdout",
     "output_type": "stream",
     "text": [
      "Adding `adata.uns['cell_type_nhood_enrichment']`\n",
      "Finish (0:00:01)\n"
     ]
    },
    {
     "name": "stderr",
     "output_type": "stream",
     "text": [
      "/home/amaguza/miniforge3/envs/squidpy_env/lib/python3.9/site-packages/squidpy/gr/_nhood.py:188: RuntimeWarning: invalid value encountered in divide\n",
      "  zscore = (count - perms.mean(axis=0)) / perms.std(axis=0)\n"
     ]
    }
   ],
   "source": [
    "sq.gr.spatial_neighbors(new_adata, n_rings=2, coord_type=\"grid\", n_neighs=6)\n",
    "sq.gr.nhood_enrichment(new_adata, cluster_key=\"cell_type\")"
   ]
  },
  {
   "cell_type": "code",
   "execution_count": 125,
   "metadata": {},
   "outputs": [
    {
     "name": "stderr",
     "output_type": "stream",
     "text": [
      "/home/amaguza/miniforge3/envs/squidpy_env/lib/python3.9/site-packages/anndata/_core/anndata.py:522: FutureWarning: The dtype argument is deprecated and will be removed in late 2024.\n",
      "  warnings.warn(\n",
      "/home/amaguza/miniforge3/envs/squidpy_env/lib/python3.9/site-packages/squidpy/pl/_utils.py:556: FutureWarning: Series.__getitem__ treating keys as positions is deprecated. In a future version, integer keys will always be treated as labels (consistent with DataFrame behavior). To access a value by position, use `ser.iloc[pos]`\n",
      "  row_labels = adata.obs[key][row_order]\n",
      "/home/amaguza/miniforge3/envs/squidpy_env/lib/python3.9/site-packages/squidpy/pl/_utils.py:564: RuntimeWarning: All-NaN axis encountered\n",
      "  norm = mpl.colors.Normalize(vmin=kwargs.pop(\"vmin\", np.nanmin(data)), vmax=kwargs.pop(\"vmax\", np.nanmax(data)))\n"
     ]
    }
   ],
   "source": [
    "with plt.rc_context():\n",
    "    sc.set_figure_params(dpi=300, figsize=(17, 17))\n",
    "    sq.pl.nhood_enrichment(new_adata, cluster_key=\"cell_type\", figsize=(17, 17))\n",
    "    plt.savefig( f\"{dir_path}/{sample}/{sample}_nhood_enrichment2.png\", bbox_inches=\"tight\")\n",
    "    plt.close()   "
   ]
  }
 ],
 "metadata": {
  "kernelspec": {
   "display_name": "Python (squidpy_env)",
   "language": "python",
   "name": "squidpy_env"
  },
  "language_info": {
   "codemirror_mode": {
    "name": "ipython",
    "version": 3
   },
   "file_extension": ".py",
   "mimetype": "text/x-python",
   "name": "python",
   "nbconvert_exporter": "python",
   "pygments_lexer": "ipython3",
   "version": "3.9.18"
  }
 },
 "nbformat": 4,
 "nbformat_minor": 2
}
