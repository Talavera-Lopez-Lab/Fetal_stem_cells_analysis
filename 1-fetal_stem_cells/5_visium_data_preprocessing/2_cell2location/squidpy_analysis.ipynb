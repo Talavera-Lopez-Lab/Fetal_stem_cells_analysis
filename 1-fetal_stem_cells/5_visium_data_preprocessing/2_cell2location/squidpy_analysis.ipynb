{
 "cells": [
  {
   "cell_type": "markdown",
   "metadata": {},
   "source": [
    "### Notebook for the of Fawkner-Corbett_2021 Visium data with `squidpy`\n",
    "\n",
    "- **Developed by:** Anna Maguza\n",
    "- **Affilation:** Faculty of Medicine, Würzburg University\n",
    "- **Created date:** 22nd August 2024\n",
    "- **Last modified date:** 13th October 2024"
   ]
  },
  {
   "cell_type": "markdown",
   "metadata": {},
   "source": [
    "#### Load packages"
   ]
  },
  {
   "cell_type": "code",
   "execution_count": 66,
   "metadata": {},
   "outputs": [],
   "source": [
    "import anndata as ad\n",
    "import scanpy as sc\n",
    "import squidpy as sq\n",
    "import pandas as pd\n",
    "import matplotlib.pyplot as plt\n",
    "import numpy as np\n",
    "import seaborn as sns\n",
    "from scipy.stats import rankdata\n",
    "import os"
   ]
  },
  {
   "cell_type": "markdown",
   "metadata": {},
   "source": [
    "#### Set up cells"
   ]
  },
  {
   "cell_type": "code",
   "execution_count": 67,
   "metadata": {},
   "outputs": [
    {
     "name": "stdout",
     "output_type": "stream",
     "text": [
      "-----\n",
      "anndata     0.10.5.post1\n",
      "scanpy      1.9.8\n",
      "-----\n",
      "PIL                         10.2.0\n",
      "anyio                       NA\n",
      "arrow                       1.3.0\n",
      "asciitree                   NA\n",
      "asttokens                   NA\n",
      "attr                        23.2.0\n",
      "attrs                       23.2.0\n",
      "babel                       2.14.0\n",
      "backcall                    0.2.0\n",
      "beta_ufunc                  NA\n",
      "binom_ufunc                 NA\n",
      "brotli                      1.1.0\n",
      "certifi                     2023.11.17\n",
      "cffi                        1.16.0\n",
      "charset_normalizer          3.3.2\n",
      "cloudpickle                 3.0.0\n",
      "comm                        0.2.1\n",
      "cycler                      0.12.1\n",
      "cython_runtime              NA\n",
      "dask                        2024.1.1\n",
      "dask_image                  2023.08.1\n",
      "datashader                  0.16.0\n",
      "datatree                    0.0.13\n",
      "dateutil                    2.8.2\n",
      "debugpy                     1.8.0\n",
      "decorator                   5.1.1\n",
      "defusedxml                  0.7.1\n",
      "docrep                      0.3.2\n",
      "exceptiongroup              1.2.0\n",
      "executing                   2.0.1\n",
      "fasteners                   0.19\n",
      "fastjsonschema              NA\n",
      "fqdn                        NA\n",
      "fsspec                      2023.6.0\n",
      "geopandas                   0.14.3\n",
      "h5py                        3.10.0\n",
      "hypergeom_ufunc             NA\n",
      "idna                        3.6\n",
      "igraph                      0.11.3\n",
      "imagecodecs                 2024.1.1\n",
      "imageio                     2.33.1\n",
      "importlib_resources         NA\n",
      "ipykernel                   6.29.0\n",
      "isoduration                 NA\n",
      "jedi                        0.19.1\n",
      "jinja2                      3.1.3\n",
      "joblib                      1.3.2\n",
      "json5                       NA\n",
      "jsonpointer                 2.4\n",
      "jsonschema                  4.21.1\n",
      "jsonschema_specifications   NA\n",
      "jupyter_events              0.9.0\n",
      "jupyter_server              2.12.5\n",
      "jupyterlab_server           2.25.2\n",
      "kiwisolver                  1.4.5\n",
      "lazy_loader                 NA\n",
      "leidenalg                   0.10.2\n",
      "llvmlite                    0.42.0\n",
      "markupsafe                  2.1.4\n",
      "matplotlib                  3.8.2\n",
      "matplotlib_inline           0.1.6\n",
      "matplotlib_scalebar         0.8.1\n",
      "mpl_toolkits                NA\n",
      "msgpack                     1.0.7\n",
      "multipledispatch            0.6.0\n",
      "multiscale_spatial_image    0.11.2\n",
      "natsort                     8.4.0\n",
      "nbformat                    5.9.2\n",
      "nbinom_ufunc                NA\n",
      "ncf_ufunc                   NA\n",
      "networkx                    3.2.1\n",
      "numba                       0.59.0\n",
      "numcodecs                   0.12.1\n",
      "numpy                       1.23.4\n",
      "ome_zarr                    NA\n",
      "overrides                   NA\n",
      "packaging                   23.2\n",
      "pandas                      2.2.0\n",
      "param                       2.0.2\n",
      "parso                       0.8.3\n",
      "patsy                       0.5.6\n",
      "pexpect                     4.9.0\n",
      "pickleshare                 0.7.5\n",
      "pkg_resources               NA\n",
      "platformdirs                4.2.0\n",
      "prometheus_client           NA\n",
      "prompt_toolkit              3.0.42\n",
      "psutil                      5.9.8\n",
      "ptyprocess                  0.7.0\n",
      "pure_eval                   0.2.2\n",
      "pyarrow                     15.0.0\n",
      "pycparser                   2.21\n",
      "pyct                        0.5.0\n",
      "pydev_ipython               NA\n",
      "pydevconsole                NA\n",
      "pydevd                      2.9.5\n",
      "pydevd_file_utils           NA\n",
      "pydevd_plugins              NA\n",
      "pydevd_tracing              NA\n",
      "pygeos                      0.14\n",
      "pygments                    2.17.2\n",
      "pyparsing                   3.1.1\n",
      "pyproj                      3.6.1\n",
      "pythonjsonlogger            NA\n",
      "pytz                        2023.4\n",
      "pywt                        1.5.0\n",
      "referencing                 NA\n",
      "requests                    2.31.0\n",
      "rfc3339_validator           0.1.4\n",
      "rfc3986_validator           0.1.1\n",
      "rich                        NA\n",
      "rpds                        NA\n",
      "scipy                       1.9.1\n",
      "seaborn                     0.13.2\n",
      "send2trash                  NA\n",
      "session_info                1.0.0\n",
      "setuptools                  69.0.3\n",
      "shapely                     2.0.2\n",
      "six                         1.16.0\n",
      "skimage                     0.20.0\n",
      "sklearn                     1.4.0\n",
      "sniffio                     1.3.0\n",
      "socks                       1.7.1\n",
      "spatial_image               0.3.0\n",
      "spatialdata                 0.0.15\n",
      "squidpy                     1.3.1\n",
      "stack_data                  0.6.2\n",
      "statsmodels                 0.14.1\n",
      "tblib                       3.0.0\n",
      "texttable                   1.7.0\n",
      "threadpoolctl               3.2.0\n",
      "tifffile                    2024.1.30\n",
      "tlz                         0.12.1\n",
      "toolz                       0.12.1\n",
      "tornado                     6.3.3\n",
      "tqdm                        4.66.1\n",
      "traitlets                   5.14.1\n",
      "typing_extensions           NA\n",
      "uri_template                NA\n",
      "urllib3                     1.26.18\n",
      "validators                  0.22.0\n",
      "vscode                      NA\n",
      "wcwidth                     0.2.13\n",
      "webcolors                   1.13\n",
      "websocket                   1.7.0\n",
      "xarray                      2023.12.0\n",
      "xarray_dataclasses          1.7.0\n",
      "xarray_schema               0.0.3\n",
      "xrspatial                   0.3.7\n",
      "yaml                        6.0.1\n",
      "zarr                        2.16.1\n",
      "zipp                        NA\n",
      "zmq                         25.1.2\n",
      "zoneinfo                    NA\n",
      "-----\n",
      "IPython             8.12.0\n",
      "jupyter_client      8.6.0\n",
      "jupyter_core        5.7.1\n",
      "jupyterlab          4.0.12\n",
      "notebook            7.0.7\n",
      "-----\n",
      "Python 3.9.18 | packaged by conda-forge | (main, Dec 23 2023, 16:33:10) [GCC 12.3.0]\n",
      "Linux-6.10.11-100.fc39.x86_64-x86_64-with-glibc2.38\n",
      "-----\n",
      "Session information updated at 2024-10-13 15:54\n"
     ]
    }
   ],
   "source": [
    "sc.settings.verbosity = 3\n",
    "sc.logging.print_versions()\n",
    "sc.settings.set_figure_params(dpi = 160, color_map = 'RdPu', dpi_save = 180, vector_friendly = True, format = 'svg')"
   ]
  },
  {
   "cell_type": "markdown",
   "metadata": {},
   "source": [
    "+ Define functions"
   ]
  },
  {
   "cell_type": "code",
   "execution_count": 68,
   "metadata": {},
   "outputs": [],
   "source": [
    "def get_top_n_cell_types(row, n=1):\n",
    "    sorted_types = row.sort_values(ascending=False)\n",
    "    top_n = sorted_types.head(n)\n",
    "    return ', '.join(top_n.index.str.replace('meanscell_abundance_w_sf_', ''))"
   ]
  },
  {
   "cell_type": "code",
   "execution_count": 69,
   "metadata": {},
   "outputs": [],
   "source": [
    "def create_expanded_anndata(adata, n_cells_per_spot=10):\n",
    "    # Get cell type abundances\n",
    "    abundances = adata.obsm['means_cell_abundance_w_sf']\n",
    "    \n",
    "    # Create a list to store new observations\n",
    "    new_obs = []\n",
    "    new_obs_names = []\n",
    "    \n",
    "    for idx, row in abundances.iterrows():\n",
    "        # Normalize abundances to sum to 1\n",
    "        normalized_abundances = row / row.sum()\n",
    "        \n",
    "        # Calculate the number of cells for each type\n",
    "        cell_counts = np.random.multinomial(n_cells_per_spot, normalized_abundances)\n",
    "        \n",
    "        for cell_type, count in zip(row.index, cell_counts):\n",
    "            for i in range(count):\n",
    "                new_obs.append({\n",
    "                    'original_barcode': idx,\n",
    "                    'cell_type': cell_type.replace('meanscell_abundance_w_sf_', '')\n",
    "                })\n",
    "                new_obs_names.append(f\"{idx}-{str(i+1).zfill(2)}\")\n",
    "    \n",
    "    # Create a new AnnData object\n",
    "    new_adata = sc.AnnData(\n",
    "        X=np.zeros((len(new_obs), adata.n_vars)),\n",
    "        obs=pd.DataFrame(new_obs, index=new_obs_names)\n",
    "    )\n",
    "    \n",
    "    # Add spatial coordinates\n",
    "    original_coords = adata.obsm['spatial']\n",
    "    new_coords = np.zeros((len(new_obs), original_coords.shape[1]))\n",
    "    \n",
    "    for i, obs in enumerate(new_obs):\n",
    "        orig_idx = adata.obs_names.get_loc(obs['original_barcode'])\n",
    "        new_coords[i] = original_coords[orig_idx]\n",
    "    \n",
    "    new_adata.obsm['spatial'] = new_coords\n",
    "    \n",
    "    return new_adata"
   ]
  },
  {
   "cell_type": "markdown",
   "metadata": {},
   "source": [
    "## Adult colon samples"
   ]
  },
  {
   "cell_type": "markdown",
   "metadata": {},
   "source": [
    "#### Sample A1"
   ]
  },
  {
   "cell_type": "code",
   "execution_count": 70,
   "metadata": {},
   "outputs": [],
   "source": [
    "dir_path = 'data/Visium_fawkner_corbett'"
   ]
  },
  {
   "cell_type": "code",
   "execution_count": 71,
   "metadata": {},
   "outputs": [],
   "source": [
    "samples = ['A1_sp', 'A2_sp', 'A3_sp', 'A4_sp', 'A6_sp', 'A7_sp', 'A8_sp', 'A9_sp']"
   ]
  },
  {
   "cell_type": "code",
   "execution_count": 72,
   "metadata": {},
   "outputs": [],
   "source": [
    "anndata_objects = {}\n",
    "\n",
    "# Loop through the samples and load each .h5ad file\n",
    "for sample in samples:\n",
    "    file_path = os.path.join(dir_path, f'{sample}.h5ad')\n",
    "    if os.path.exists(file_path):\n",
    "        anndata_objects[sample] = ad.read_h5ad(file_path)\n",
    "    else:\n",
    "        print(f'File {file_path} does not exist.')"
   ]
  },
  {
   "cell_type": "code",
   "execution_count": 73,
   "metadata": {},
   "outputs": [],
   "source": [
    "for sample, ad_obj in anndata_objects.items():\n",
    "    globals()[sample] = ad_obj"
   ]
  },
  {
   "cell_type": "markdown",
   "metadata": {},
   "source": [
    "### Adult colon slides"
   ]
  },
  {
   "cell_type": "code",
   "execution_count": 74,
   "metadata": {},
   "outputs": [],
   "source": [
    "A1_sp.obs['top_cell_types'] = A1_sp.obsm['means_cell_abundance_w_sf'].apply(get_top_n_cell_types, axis=1)\n",
    "A1_sp.obs['top_cell_types'] = A1_sp.obs['top_cell_types'].astype('category')\n",
    "\n",
    "A2_sp.obs['top_cell_types'] = A2_sp.obsm['means_cell_abundance_w_sf'].apply(get_top_n_cell_types, axis=1)\n",
    "A2_sp.obs['top_cell_types'] = A2_sp.obs['top_cell_types'].astype('category')"
   ]
  },
  {
   "cell_type": "code",
   "execution_count": 75,
   "metadata": {},
   "outputs": [],
   "source": [
    "adult_colon_adata = ad.concat([A1_sp, A2_sp])"
   ]
  },
  {
   "cell_type": "code",
   "execution_count": 76,
   "metadata": {},
   "outputs": [
    {
     "name": "stdout",
     "output_type": "stream",
     "text": [
      "Creating graph using `grid` coordinates and `None` transform and `1` libraries.\n",
      "Adding `adata.obsp['spatial_connectivities']`\n",
      "       `adata.obsp['spatial_distances']`\n",
      "       `adata.uns['spatial_neighbors']`\n",
      "Finish (0:00:00)\n",
      "Calculating neighborhood enrichment using `1` core(s)\n"
     ]
    },
    {
     "name": "stderr",
     "output_type": "stream",
     "text": [
      "100%|█████████████████████████████████████████████████| 1000/1000 [00:00<00:00, 2005.01/s]\n"
     ]
    },
    {
     "name": "stdout",
     "output_type": "stream",
     "text": [
      "Adding `adata.uns['top_cell_types_nhood_enrichment']`\n",
      "Finish (0:00:00)\n"
     ]
    },
    {
     "name": "stderr",
     "output_type": "stream",
     "text": [
      "/home/amaguza/miniforge3/envs/squidpy_env/lib/python3.9/site-packages/squidpy/gr/_nhood.py:188: RuntimeWarning: invalid value encountered in divide\n",
      "  zscore = (count - perms.mean(axis=0)) / perms.std(axis=0)\n"
     ]
    }
   ],
   "source": [
    "sq.gr.spatial_neighbors(adult_colon_adata, n_rings=2, coord_type=\"grid\", n_neighs=6)\n",
    "sq.gr.nhood_enrichment(adult_colon_adata, cluster_key=\"top_cell_types\") "
   ]
  },
  {
   "cell_type": "code",
   "execution_count": 78,
   "metadata": {},
   "outputs": [
    {
     "name": "stderr",
     "output_type": "stream",
     "text": [
      "/home/amaguza/miniforge3/envs/squidpy_env/lib/python3.9/site-packages/anndata/_core/anndata.py:522: FutureWarning: The dtype argument is deprecated and will be removed in late 2024.\n",
      "  warnings.warn(\n",
      "/home/amaguza/miniforge3/envs/squidpy_env/lib/python3.9/site-packages/squidpy/pl/_utils.py:556: FutureWarning: Series.__getitem__ treating keys as positions is deprecated. In a future version, integer keys will always be treated as labels (consistent with DataFrame behavior). To access a value by position, use `ser.iloc[pos]`\n",
      "  row_labels = adata.obs[key][row_order]\n"
     ]
    }
   ],
   "source": [
    "with plt.rc_context():\n",
    "    sc.set_figure_params(dpi=300, figsize=(4.5, 5))\n",
    "    sq.pl.nhood_enrichment(adult_colon_adata, cluster_key=\"top_cell_types\", figsize=(10, 10), cmap=\"RdYlBu_r\")\n",
    "    plt.savefig( f\"{dir_path}/adult_colon_adata_nhood_enrichment.png\", bbox_inches=\"tight\")\n",
    "    plt.close()"
   ]
  },
  {
   "cell_type": "code",
   "execution_count": 34,
   "metadata": {},
   "outputs": [
    {
     "name": "stdout",
     "output_type": "stream",
     "text": [
      "Calculating co-occurrence probabilities for `50` intervals `1` split combinations using `1` core(s)\n"
     ]
    },
    {
     "name": "stderr",
     "output_type": "stream",
     "text": [
      "100%|█████████████████████████████████████████████████████████| 1/1 [00:01<00:00,  1.98s/]"
     ]
    },
    {
     "name": "stdout",
     "output_type": "stream",
     "text": [
      "Adding `adata.uns['top_cell_types_co_occurrence']`\n",
      "Finish (0:00:02)\n",
      "ERROR: Unable to fetch palette, reason: 'top_cell_types_colors'. Using `None`.\n"
     ]
    },
    {
     "name": "stderr",
     "output_type": "stream",
     "text": [
      "\n"
     ]
    }
   ],
   "source": [
    "sq.gr.co_occurrence(adult_colon_adata, cluster_key=\"top_cell_types\")\n",
    "with plt.rc_context():\n",
    "    sc.set_figure_params(dpi=300, figsize=(4.5, 5))\n",
    "    sq.pl.co_occurrence(adult_colon_adata, cluster_key=\"top_cell_types\", clusters=\"Stem cells\", figsize=(10, 10))\n",
    "    plt.savefig( f\"{dir_path}/adult_colon_adata_co_occurrence_Stem.png\", bbox_inches=\"tight\")\n",
    "    plt.close() "
   ]
  },
  {
   "cell_type": "markdown",
   "metadata": {},
   "source": [
    "### 12 PCW whole colon slides (A3, A8, A9)"
   ]
  },
  {
   "cell_type": "code",
   "execution_count": 79,
   "metadata": {},
   "outputs": [],
   "source": [
    "A3_sp.obs['top_cell_types'] = A3_sp.obsm['means_cell_abundance_w_sf'].apply(get_top_n_cell_types, axis=1)\n",
    "A3_sp.obs['top_cell_types'] = A3_sp.obs['top_cell_types'].astype('category')\n",
    "\n",
    "A8_sp.obs['top_cell_types'] = A8_sp.obsm['means_cell_abundance_w_sf'].apply(get_top_n_cell_types, axis=1)\n",
    "A8_sp.obs['top_cell_types'] = A8_sp.obs['top_cell_types'].astype('category')\n",
    "\n",
    "A9_sp.obs['top_cell_types'] = A9_sp.obsm['means_cell_abundance_w_sf'].apply(get_top_n_cell_types, axis=1)\n",
    "A9_sp.obs['top_cell_types'] = A9_sp.obs['top_cell_types'].astype('category')"
   ]
  },
  {
   "cell_type": "code",
   "execution_count": 80,
   "metadata": {},
   "outputs": [],
   "source": [
    "pcw12_colon_adata = ad.concat([A3_sp, A8_sp, A9_sp])"
   ]
  },
  {
   "cell_type": "code",
   "execution_count": 81,
   "metadata": {},
   "outputs": [
    {
     "name": "stdout",
     "output_type": "stream",
     "text": [
      "Creating graph using `grid` coordinates and `None` transform and `1` libraries.\n",
      "Adding `adata.obsp['spatial_connectivities']`\n",
      "       `adata.obsp['spatial_distances']`\n",
      "       `adata.uns['spatial_neighbors']`\n",
      "Finish (0:00:00)\n",
      "Calculating neighborhood enrichment using `1` core(s)\n"
     ]
    },
    {
     "name": "stderr",
     "output_type": "stream",
     "text": [
      "100%|█████████████████████████████████████████████████| 1000/1000 [00:00<00:00, 1828.10/s]\n"
     ]
    },
    {
     "name": "stdout",
     "output_type": "stream",
     "text": [
      "Adding `adata.uns['top_cell_types_nhood_enrichment']`\n",
      "Finish (0:00:00)\n"
     ]
    },
    {
     "name": "stderr",
     "output_type": "stream",
     "text": [
      "/home/amaguza/miniforge3/envs/squidpy_env/lib/python3.9/site-packages/squidpy/gr/_nhood.py:188: RuntimeWarning: invalid value encountered in divide\n",
      "  zscore = (count - perms.mean(axis=0)) / perms.std(axis=0)\n"
     ]
    }
   ],
   "source": [
    "sq.gr.spatial_neighbors(pcw12_colon_adata, n_rings=2, coord_type=\"grid\", n_neighs=6)\n",
    "sq.gr.nhood_enrichment(pcw12_colon_adata, cluster_key=\"top_cell_types\") "
   ]
  },
  {
   "cell_type": "code",
   "execution_count": 82,
   "metadata": {},
   "outputs": [
    {
     "name": "stderr",
     "output_type": "stream",
     "text": [
      "/home/amaguza/miniforge3/envs/squidpy_env/lib/python3.9/site-packages/anndata/_core/anndata.py:522: FutureWarning: The dtype argument is deprecated and will be removed in late 2024.\n",
      "  warnings.warn(\n",
      "/home/amaguza/miniforge3/envs/squidpy_env/lib/python3.9/site-packages/squidpy/pl/_utils.py:556: FutureWarning: Series.__getitem__ treating keys as positions is deprecated. In a future version, integer keys will always be treated as labels (consistent with DataFrame behavior). To access a value by position, use `ser.iloc[pos]`\n",
      "  row_labels = adata.obs[key][row_order]\n"
     ]
    }
   ],
   "source": [
    "with plt.rc_context():\n",
    "    sc.set_figure_params(dpi=300, figsize=(4.5, 5))\n",
    "    sq.pl.nhood_enrichment(pcw12_colon_adata, cluster_key=\"top_cell_types\", figsize=(10, 10), cmap=\"RdYlBu_r\")\n",
    "    plt.savefig( f\"{dir_path}/pcw12_colon_adata_nhood_enrichment.png\", bbox_inches=\"tight\")\n",
    "    plt.close()"
   ]
  },
  {
   "cell_type": "code",
   "execution_count": 43,
   "metadata": {},
   "outputs": [
    {
     "name": "stdout",
     "output_type": "stream",
     "text": [
      "Calculating co-occurrence probabilities for `50` intervals `1` split combinations using `1` core(s)\n"
     ]
    },
    {
     "name": "stderr",
     "output_type": "stream",
     "text": [
      "100%|█████████████████████████████████████████████████████████| 1/1 [00:04<00:00,  4.05s/]"
     ]
    },
    {
     "name": "stdout",
     "output_type": "stream",
     "text": [
      "Adding `adata.uns['top_cell_types_co_occurrence']`\n",
      "Finish (0:00:04)\n",
      "ERROR: Unable to fetch palette, reason: 'top_cell_types_colors'. Using `None`.\n"
     ]
    },
    {
     "name": "stderr",
     "output_type": "stream",
     "text": [
      "\n"
     ]
    }
   ],
   "source": [
    "sq.gr.co_occurrence(pcw12_colon_adata, cluster_key=\"top_cell_types\")\n",
    "with plt.rc_context():\n",
    "    sc.set_figure_params(dpi=300, figsize=(4.5, 5))\n",
    "    sq.pl.co_occurrence(pcw12_colon_adata, cluster_key=\"top_cell_types\", clusters=\"FXYD3+_CKB+_SC\", figsize=(10, 10))\n",
    "    plt.savefig( f\"{dir_path}/pcw12_colon_adata_co_occurrence_FXYD3+_CKB+_SC.png\", bbox_inches=\"tight\")\n",
    "    plt.close() "
   ]
  },
  {
   "cell_type": "markdown",
   "metadata": {},
   "source": [
    "### 12 PCW whole intestine slides (A6, A7)"
   ]
  },
  {
   "cell_type": "code",
   "execution_count": 83,
   "metadata": {},
   "outputs": [],
   "source": [
    "A6_sp.obs['top_cell_types'] = A6_sp.obsm['means_cell_abundance_w_sf'].apply(get_top_n_cell_types, axis=1)\n",
    "A6_sp.obs['top_cell_types'] = A6_sp.obs['top_cell_types'].astype('category')\n",
    "\n",
    "A7_sp.obs['top_cell_types'] = A7_sp.obsm['means_cell_abundance_w_sf'].apply(get_top_n_cell_types, axis=1)\n",
    "A7_sp.obs['top_cell_types'] = A7_sp.obs['top_cell_types'].astype('category')"
   ]
  },
  {
   "cell_type": "code",
   "execution_count": 84,
   "metadata": {},
   "outputs": [],
   "source": [
    "pcw12_intestine_adata = ad.concat([A6_sp, A7_sp])"
   ]
  },
  {
   "cell_type": "code",
   "execution_count": 85,
   "metadata": {},
   "outputs": [
    {
     "name": "stdout",
     "output_type": "stream",
     "text": [
      "Creating graph using `grid` coordinates and `None` transform and `1` libraries.\n",
      "Adding `adata.obsp['spatial_connectivities']`\n",
      "       `adata.obsp['spatial_distances']`\n",
      "       `adata.uns['spatial_neighbors']`\n",
      "Finish (0:00:00)\n",
      "Calculating neighborhood enrichment using `1` core(s)\n"
     ]
    },
    {
     "name": "stderr",
     "output_type": "stream",
     "text": [
      "100%|█████████████████████████████████████████████████| 1000/1000 [00:00<00:00, 2415.46/s]\n"
     ]
    },
    {
     "name": "stdout",
     "output_type": "stream",
     "text": [
      "Adding `adata.uns['top_cell_types_nhood_enrichment']`\n",
      "Finish (0:00:00)\n"
     ]
    },
    {
     "name": "stderr",
     "output_type": "stream",
     "text": [
      "/home/amaguza/miniforge3/envs/squidpy_env/lib/python3.9/site-packages/squidpy/gr/_nhood.py:188: RuntimeWarning: invalid value encountered in divide\n",
      "  zscore = (count - perms.mean(axis=0)) / perms.std(axis=0)\n"
     ]
    }
   ],
   "source": [
    "sq.gr.spatial_neighbors(pcw12_intestine_adata, n_rings=2, coord_type=\"grid\", n_neighs=6)\n",
    "sq.gr.nhood_enrichment(pcw12_intestine_adata, cluster_key=\"top_cell_types\") "
   ]
  },
  {
   "cell_type": "code",
   "execution_count": 86,
   "metadata": {},
   "outputs": [
    {
     "name": "stderr",
     "output_type": "stream",
     "text": [
      "/home/amaguza/miniforge3/envs/squidpy_env/lib/python3.9/site-packages/anndata/_core/anndata.py:522: FutureWarning: The dtype argument is deprecated and will be removed in late 2024.\n",
      "  warnings.warn(\n",
      "/home/amaguza/miniforge3/envs/squidpy_env/lib/python3.9/site-packages/squidpy/pl/_utils.py:556: FutureWarning: Series.__getitem__ treating keys as positions is deprecated. In a future version, integer keys will always be treated as labels (consistent with DataFrame behavior). To access a value by position, use `ser.iloc[pos]`\n",
      "  row_labels = adata.obs[key][row_order]\n"
     ]
    }
   ],
   "source": [
    "with plt.rc_context():\n",
    "    sc.set_figure_params(dpi=300, figsize=(4.5, 5))\n",
    "    sq.pl.nhood_enrichment(pcw12_intestine_adata, cluster_key=\"top_cell_types\", figsize=(10, 10), cmap=\"RdYlBu_r\")\n",
    "    plt.savefig( f\"{dir_path}/pcw12_intestine_adata_nhood_enrichment.png\", bbox_inches=\"tight\")\n",
    "    plt.close()"
   ]
  },
  {
   "cell_type": "code",
   "execution_count": 48,
   "metadata": {},
   "outputs": [
    {
     "name": "stdout",
     "output_type": "stream",
     "text": [
      "Calculating co-occurrence probabilities for `50` intervals `1` split combinations using `1` core(s)\n"
     ]
    },
    {
     "name": "stderr",
     "output_type": "stream",
     "text": [
      "100%|█████████████████████████████████████████████████████████| 1/1 [00:00<00:00,  1.41/s]"
     ]
    },
    {
     "name": "stdout",
     "output_type": "stream",
     "text": [
      "Adding `adata.uns['top_cell_types_co_occurrence']`\n",
      "Finish (0:00:00)\n",
      "ERROR: Unable to fetch palette, reason: 'top_cell_types_colors'. Using `None`.\n"
     ]
    },
    {
     "name": "stderr",
     "output_type": "stream",
     "text": [
      "\n"
     ]
    }
   ],
   "source": [
    "sq.gr.co_occurrence(pcw12_intestine_adata, cluster_key=\"top_cell_types\")\n",
    "with plt.rc_context():\n",
    "    sc.set_figure_params(dpi=300, figsize=(4.5, 5))\n",
    "    sq.pl.co_occurrence(pcw12_intestine_adata, cluster_key=\"top_cell_types\", clusters=\"FXYD3+_CKB+_SC\", figsize=(10, 10))\n",
    "    plt.savefig( f\"{dir_path}/pcw12_intestine_adata_co_occurrence_FXYD3+_CKB+_SC.png\", bbox_inches=\"tight\")\n",
    "    plt.close() "
   ]
  },
  {
   "cell_type": "code",
   "execution_count": 50,
   "metadata": {},
   "outputs": [
    {
     "name": "stdout",
     "output_type": "stream",
     "text": [
      "Calculating co-occurrence probabilities for `50` intervals `1` split combinations using `1` core(s)\n"
     ]
    },
    {
     "name": "stderr",
     "output_type": "stream",
     "text": [
      "100%|█████████████████████████████████████████████████████████| 1/1 [00:00<00:00,  1.43/s]"
     ]
    },
    {
     "name": "stdout",
     "output_type": "stream",
     "text": [
      "Adding `adata.uns['top_cell_types_co_occurrence']`\n",
      "Finish (0:00:00)\n",
      "ERROR: Unable to fetch palette, reason: 'top_cell_types_colors'. Using `None`.\n"
     ]
    },
    {
     "name": "stderr",
     "output_type": "stream",
     "text": [
      "\n"
     ]
    }
   ],
   "source": [
    "sq.gr.co_occurrence(pcw12_intestine_adata, cluster_key=\"top_cell_types\")\n",
    "with plt.rc_context():\n",
    "    sc.set_figure_params(dpi=300, figsize=(4.5, 5))\n",
    "    sq.pl.co_occurrence(pcw12_intestine_adata, cluster_key=\"top_cell_types\", clusters=\"MTRNR2L12+ASS1+_SC\", figsize=(10, 10))\n",
    "    plt.savefig( f\"{dir_path}/pcw12_intestine_adata_co_occurrence_MTRNR2L12+ASS1+_SC.png\", bbox_inches=\"tight\")\n",
    "    plt.close() "
   ]
  },
  {
   "cell_type": "code",
   "execution_count": 51,
   "metadata": {},
   "outputs": [
    {
     "name": "stdout",
     "output_type": "stream",
     "text": [
      "Calculating co-occurrence probabilities for `50` intervals `1` split combinations using `1` core(s)\n"
     ]
    },
    {
     "name": "stderr",
     "output_type": "stream",
     "text": [
      "100%|█████████████████████████████████████████████████████████| 1/1 [00:00<00:00,  1.50/s]"
     ]
    },
    {
     "name": "stdout",
     "output_type": "stream",
     "text": [
      "Adding `adata.uns['top_cell_types_co_occurrence']`\n",
      "Finish (0:00:00)\n",
      "ERROR: Unable to fetch palette, reason: 'top_cell_types_colors'. Using `None`.\n"
     ]
    },
    {
     "name": "stderr",
     "output_type": "stream",
     "text": [
      "\n"
     ]
    }
   ],
   "source": [
    "sq.gr.co_occurrence(pcw12_intestine_adata, cluster_key=\"top_cell_types\")\n",
    "with plt.rc_context():\n",
    "    sc.set_figure_params(dpi=300, figsize=(4.5, 5))\n",
    "    sq.pl.co_occurrence(pcw12_intestine_adata, cluster_key=\"top_cell_types\", clusters=\"RPS10+_RPS17+_SC\", figsize=(10, 10))\n",
    "    plt.savefig( f\"{dir_path}/pcw12_intestine_adata_co_occurrence_RPS10+_RPS17+_SC.png\", bbox_inches=\"tight\")\n",
    "    plt.close() "
   ]
  },
  {
   "cell_type": "markdown",
   "metadata": {},
   "source": [
    "### 19 PCW whole colon slide (A4)"
   ]
  },
  {
   "cell_type": "code",
   "execution_count": 87,
   "metadata": {},
   "outputs": [],
   "source": [
    "A4_sp.obs['top_cell_types'] = A4_sp.obsm['means_cell_abundance_w_sf'].apply(get_top_n_cell_types, axis=1)\n",
    "A4_sp.obs['top_cell_types'] = A4_sp.obs['top_cell_types'].astype('category')"
   ]
  },
  {
   "cell_type": "code",
   "execution_count": 88,
   "metadata": {},
   "outputs": [
    {
     "name": "stdout",
     "output_type": "stream",
     "text": [
      "Creating graph using `grid` coordinates and `None` transform and `1` libraries.\n",
      "Adding `adata.obsp['spatial_connectivities']`\n",
      "       `adata.obsp['spatial_distances']`\n",
      "       `adata.uns['spatial_neighbors']`\n",
      "Finish (0:00:00)\n",
      "Calculating neighborhood enrichment using `1` core(s)\n"
     ]
    },
    {
     "name": "stderr",
     "output_type": "stream",
     "text": [
      "100%|█████████████████████████████████████████████████| 1000/1000 [00:00<00:00, 3105.89/s]\n"
     ]
    },
    {
     "name": "stdout",
     "output_type": "stream",
     "text": [
      "Adding `adata.uns['top_cell_types_nhood_enrichment']`\n",
      "Finish (0:00:00)\n"
     ]
    },
    {
     "name": "stderr",
     "output_type": "stream",
     "text": [
      "/home/amaguza/miniforge3/envs/squidpy_env/lib/python3.9/site-packages/squidpy/gr/_nhood.py:188: RuntimeWarning: invalid value encountered in divide\n",
      "  zscore = (count - perms.mean(axis=0)) / perms.std(axis=0)\n"
     ]
    }
   ],
   "source": [
    "sq.gr.spatial_neighbors(A4_sp, n_rings=2, coord_type=\"grid\", n_neighs=6)\n",
    "sq.gr.nhood_enrichment(A4_sp, cluster_key=\"top_cell_types\") "
   ]
  },
  {
   "cell_type": "code",
   "execution_count": 89,
   "metadata": {},
   "outputs": [
    {
     "name": "stderr",
     "output_type": "stream",
     "text": [
      "/home/amaguza/miniforge3/envs/squidpy_env/lib/python3.9/site-packages/anndata/_core/anndata.py:522: FutureWarning: The dtype argument is deprecated and will be removed in late 2024.\n",
      "  warnings.warn(\n",
      "/home/amaguza/miniforge3/envs/squidpy_env/lib/python3.9/site-packages/squidpy/pl/_utils.py:556: FutureWarning: Series.__getitem__ treating keys as positions is deprecated. In a future version, integer keys will always be treated as labels (consistent with DataFrame behavior). To access a value by position, use `ser.iloc[pos]`\n",
      "  row_labels = adata.obs[key][row_order]\n"
     ]
    }
   ],
   "source": [
    "with plt.rc_context():\n",
    "    sc.set_figure_params(dpi=300, figsize=(4.5, 5))\n",
    "    sq.pl.nhood_enrichment(A4_sp, cluster_key=\"top_cell_types\", figsize=(10, 10), cmap=\"RdYlBu_r\")\n",
    "    plt.savefig( f\"{dir_path}/pcw19_colon_adata_nhood_enrichment.png\", bbox_inches=\"tight\")\n",
    "    plt.close()"
   ]
  },
  {
   "cell_type": "code",
   "execution_count": 55,
   "metadata": {},
   "outputs": [
    {
     "name": "stdout",
     "output_type": "stream",
     "text": [
      "Calculating co-occurrence probabilities for `50` intervals `1` split combinations using `1` core(s)\n"
     ]
    },
    {
     "name": "stderr",
     "output_type": "stream",
     "text": [
      "100%|█████████████████████████████████████████████████████████| 1/1 [00:00<00:00,  2.27/s]"
     ]
    },
    {
     "name": "stdout",
     "output_type": "stream",
     "text": [
      "Adding `adata.uns['top_cell_types_co_occurrence']`\n",
      "Finish (0:00:00)\n",
      "ERROR: Unable to fetch palette, reason: 'top_cell_types_colors'. Using `None`.\n"
     ]
    },
    {
     "name": "stderr",
     "output_type": "stream",
     "text": [
      "\n"
     ]
    }
   ],
   "source": [
    "sq.gr.co_occurrence(A4_sp, cluster_key=\"top_cell_types\")\n",
    "with plt.rc_context():\n",
    "    sc.set_figure_params(dpi=300, figsize=(4.5, 5))\n",
    "    sq.pl.co_occurrence(A4_sp, cluster_key=\"top_cell_types\", clusters=\"FXYD3+_CKB+_SC\", figsize=(10, 10))\n",
    "    plt.savefig( f\"{dir_path}/pcw19_colon_co_occurrence_FXYD3+_CKB+_SC.png\", bbox_inches=\"tight\")\n",
    "    plt.close() "
   ]
  }
 ],
 "metadata": {
  "kernelspec": {
   "display_name": "Python (squidpy_env)",
   "language": "python",
   "name": "squidpy_env"
  },
  "language_info": {
   "codemirror_mode": {
    "name": "ipython",
    "version": 3
   },
   "file_extension": ".py",
   "mimetype": "text/x-python",
   "name": "python",
   "nbconvert_exporter": "python",
   "pygments_lexer": "ipython3",
   "version": "3.9.18"
  }
 },
 "nbformat": 4,
 "nbformat_minor": 2
}
