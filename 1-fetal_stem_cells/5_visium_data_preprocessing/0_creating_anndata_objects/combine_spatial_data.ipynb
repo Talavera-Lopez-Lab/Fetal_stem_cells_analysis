{
 "cells": [
  {
   "cell_type": "markdown",
   "metadata": {},
   "source": [
    "### Notebook for the creation of the full anndata objects for each sample from Fawkner-Corbett_2021 Visium data \n",
    "\n",
    "- **Developed by:** Anna Maguza\n",
    "- **Affilation:** Wuerzburg Institute for System Immunology\n",
    "- **Date:** 27th January 2024\n",
    "- **Last modified date:** 5th August 2024"
   ]
  },
  {
   "cell_type": "markdown",
   "metadata": {},
   "source": [
    "#### Import packages"
   ]
  },
  {
   "cell_type": "code",
   "execution_count": 14,
   "metadata": {},
   "outputs": [],
   "source": [
    "import anndata as ad\n",
    "import scanpy as sc\n",
    "import squidpy as sq\n",
    "import pandas as pd\n",
    "from scipy.io import mmread\n",
    "import matplotlib.pyplot as plt\n",
    "import numpy as np\n",
    "import scipy as sci\n",
    "from scipy.sparse import coo_matrix\n",
    "from PIL import Image"
   ]
  },
  {
   "cell_type": "markdown",
   "metadata": {},
   "source": [
    "#### Set up cells"
   ]
  },
  {
   "cell_type": "code",
   "execution_count": 15,
   "metadata": {},
   "outputs": [
    {
     "name": "stdout",
     "output_type": "stream",
     "text": [
      "-----\n",
      "anndata     0.10.5.post1\n",
      "scanpy      1.9.8\n",
      "-----\n",
      "PIL                         10.2.0\n",
      "anyio                       NA\n",
      "arrow                       1.3.0\n",
      "asciitree                   NA\n",
      "asttokens                   NA\n",
      "attr                        23.2.0\n",
      "attrs                       23.2.0\n",
      "babel                       2.14.0\n",
      "backcall                    0.2.0\n",
      "beta_ufunc                  NA\n",
      "binom_ufunc                 NA\n",
      "brotli                      1.1.0\n",
      "certifi                     2023.11.17\n",
      "cffi                        1.16.0\n",
      "charset_normalizer          3.3.2\n",
      "cloudpickle                 3.0.0\n",
      "comm                        0.2.1\n",
      "cycler                      0.12.1\n",
      "cython_runtime              NA\n",
      "dask                        2024.1.1\n",
      "dask_image                  2023.08.1\n",
      "datashader                  0.16.0\n",
      "datatree                    0.0.13\n",
      "dateutil                    2.8.2\n",
      "debugpy                     1.8.0\n",
      "decorator                   5.1.1\n",
      "defusedxml                  0.7.1\n",
      "docrep                      0.3.2\n",
      "exceptiongroup              1.2.0\n",
      "executing                   2.0.1\n",
      "fasteners                   0.19\n",
      "fastjsonschema              NA\n",
      "fqdn                        NA\n",
      "fsspec                      2023.6.0\n",
      "geopandas                   0.14.3\n",
      "h5py                        3.10.0\n",
      "hypergeom_ufunc             NA\n",
      "idna                        3.6\n",
      "igraph                      0.11.3\n",
      "imagecodecs                 2024.1.1\n",
      "imageio                     2.33.1\n",
      "importlib_resources         NA\n",
      "ipykernel                   6.29.0\n",
      "isoduration                 NA\n",
      "jedi                        0.19.1\n",
      "jinja2                      3.1.3\n",
      "joblib                      1.3.2\n",
      "json5                       NA\n",
      "jsonpointer                 2.4\n",
      "jsonschema                  4.21.1\n",
      "jsonschema_specifications   NA\n",
      "jupyter_events              0.9.0\n",
      "jupyter_server              2.12.5\n",
      "jupyterlab_server           2.25.2\n",
      "kiwisolver                  1.4.5\n",
      "lazy_loader                 NA\n",
      "leidenalg                   0.10.2\n",
      "llvmlite                    0.42.0\n",
      "markupsafe                  2.1.4\n",
      "matplotlib                  3.8.2\n",
      "matplotlib_scalebar         0.8.1\n",
      "mpl_toolkits                NA\n",
      "msgpack                     1.0.7\n",
      "multipledispatch            0.6.0\n",
      "multiscale_spatial_image    0.11.2\n",
      "natsort                     8.4.0\n",
      "nbformat                    5.9.2\n",
      "nbinom_ufunc                NA\n",
      "ncf_ufunc                   NA\n",
      "networkx                    3.2.1\n",
      "numba                       0.59.0\n",
      "numcodecs                   0.12.1\n",
      "numpy                       1.23.4\n",
      "ome_zarr                    NA\n",
      "overrides                   NA\n",
      "packaging                   23.2\n",
      "pandas                      2.2.0\n",
      "param                       2.0.2\n",
      "parso                       0.8.3\n",
      "patsy                       0.5.6\n",
      "pexpect                     4.9.0\n",
      "pickleshare                 0.7.5\n",
      "pkg_resources               NA\n",
      "platformdirs                4.2.0\n",
      "prometheus_client           NA\n",
      "prompt_toolkit              3.0.42\n",
      "psutil                      5.9.8\n",
      "ptyprocess                  0.7.0\n",
      "pure_eval                   0.2.2\n",
      "pyarrow                     15.0.0\n",
      "pycparser                   2.21\n",
      "pyct                        0.5.0\n",
      "pydev_ipython               NA\n",
      "pydevconsole                NA\n",
      "pydevd                      2.9.5\n",
      "pydevd_file_utils           NA\n",
      "pydevd_plugins              NA\n",
      "pydevd_tracing              NA\n",
      "pygeos                      0.14\n",
      "pygments                    2.17.2\n",
      "pyparsing                   3.1.1\n",
      "pyproj                      3.6.1\n",
      "pythonjsonlogger            NA\n",
      "pytz                        2023.4\n",
      "pywt                        1.5.0\n",
      "referencing                 NA\n",
      "requests                    2.31.0\n",
      "rfc3339_validator           0.1.4\n",
      "rfc3986_validator           0.1.1\n",
      "rich                        NA\n",
      "rpds                        NA\n",
      "scipy                       1.9.1\n",
      "seaborn                     0.13.2\n",
      "send2trash                  NA\n",
      "session_info                1.0.0\n",
      "setuptools                  69.0.3\n",
      "shapely                     2.0.2\n",
      "six                         1.16.0\n",
      "skimage                     0.20.0\n",
      "sklearn                     1.4.0\n",
      "sniffio                     1.3.0\n",
      "socks                       1.7.1\n",
      "spatial_image               0.3.0\n",
      "spatialdata                 0.0.15\n",
      "squidpy                     1.3.1\n",
      "stack_data                  0.6.2\n",
      "statsmodels                 0.14.1\n",
      "tblib                       3.0.0\n",
      "texttable                   1.7.0\n",
      "threadpoolctl               3.2.0\n",
      "tifffile                    2024.1.30\n",
      "tlz                         0.12.1\n",
      "toolz                       0.12.1\n",
      "tornado                     6.3.3\n",
      "tqdm                        4.66.1\n",
      "traitlets                   5.14.1\n",
      "typing_extensions           NA\n",
      "uri_template                NA\n",
      "urllib3                     1.26.18\n",
      "validators                  0.22.0\n",
      "vscode                      NA\n",
      "wcwidth                     0.2.13\n",
      "webcolors                   1.13\n",
      "websocket                   1.7.0\n",
      "xarray                      2023.12.0\n",
      "xarray_dataclasses          1.7.0\n",
      "xarray_schema               0.0.3\n",
      "xrspatial                   0.3.7\n",
      "yaml                        6.0.1\n",
      "zarr                        2.16.1\n",
      "zipp                        NA\n",
      "zmq                         25.1.2\n",
      "zoneinfo                    NA\n",
      "-----\n",
      "IPython             8.12.0\n",
      "jupyter_client      8.6.0\n",
      "jupyter_core        5.7.1\n",
      "jupyterlab          4.0.12\n",
      "notebook            7.0.7\n",
      "-----\n",
      "Python 3.9.18 | packaged by conda-forge | (main, Dec 23 2023, 16:33:10) [GCC 12.3.0]\n",
      "Linux-6.9.7-100.fc39.x86_64-x86_64-with-glibc2.38\n",
      "-----\n",
      "Session information updated at 2024-08-05 13:30\n"
     ]
    }
   ],
   "source": [
    "sc.settings.verbosity = 3\n",
    "sc.logging.print_versions()\n",
    "sc.settings.set_figure_params(dpi = 160, color_map = 'RdPu', dpi_save = 180, vector_friendly = True, format = 'svg')"
   ]
  },
  {
   "cell_type": "markdown",
   "metadata": {},
   "source": [
    "#### Load anndata object"
   ]
  },
  {
   "cell_type": "code",
   "execution_count": 16,
   "metadata": {},
   "outputs": [],
   "source": [
    "data_dir = '/../../../gut_project/raw_data/Fawkner-Corbett_2021/Visium_data/'\n",
    "images_dir = '/../../../gut_project/raw_data/Fawkner-Corbett_2021/Visium_data/Downloaded_metadata_and_countmatrix'\n",
    "results_dir = '/../../../gut_project/Processed_data/Gut_data/Visium_fawkner_corbett/slides_anndata_objects'"
   ]
  },
  {
   "cell_type": "code",
   "execution_count": 17,
   "metadata": {},
   "outputs": [],
   "source": [
    "adata = sc.read_h5ad(f'{data_dir}/Fawkner_Corbett_2021_raw_all_samples_with_QC.h5ad')"
   ]
  },
  {
   "cell_type": "markdown",
   "metadata": {},
   "source": [
    "#### Create full object for each sample"
   ]
  },
  {
   "cell_type": "markdown",
   "metadata": {},
   "source": [
    "##### Sample A1"
   ]
  },
  {
   "cell_type": "markdown",
   "metadata": {},
   "source": [
    "+ Filter sample"
   ]
  },
  {
   "cell_type": "code",
   "execution_count": 18,
   "metadata": {},
   "outputs": [],
   "source": [
    "a1 = adata[adata.obs['Sample_ID'] == 'A1', :]"
   ]
  },
  {
   "cell_type": "markdown",
   "metadata": {},
   "source": [
    "+ Upload images"
   ]
  },
  {
   "cell_type": "code",
   "execution_count": 19,
   "metadata": {},
   "outputs": [],
   "source": [
    "hires = np.asarray(Image.open(f'{images_dir}/GSM4797916_A1/A1/spatial/tissue_hires_image.png'))\n",
    "lowres = np.asarray(Image.open(f'{images_dir}//GSM4797916_A1/A1/spatial/tissue_lowres_image.png'))"
   ]
  },
  {
   "cell_type": "markdown",
   "metadata": {},
   "source": [
    "+ Upload coordinates"
   ]
  },
  {
   "cell_type": "code",
   "execution_count": 20,
   "metadata": {},
   "outputs": [],
   "source": [
    "coords = pd.read_csv(\n",
    "        f'{images_dir}/GSM4797916_A1/A1/spatial/tissue_positions_list.csv',\n",
    "        header=None)\n",
    "\n",
    "coords.columns = ['barcode', \"in_tissue\", \"array_row\", \"array_col\", \"pxl_col_in_fullres\", \"pxl_row_in_fullres\"]"
   ]
  },
  {
   "cell_type": "markdown",
   "metadata": {},
   "source": [
    "+ Adjust barcodes in coordinates"
   ]
  },
  {
   "cell_type": "code",
   "execution_count": 21,
   "metadata": {},
   "outputs": [],
   "source": [
    "# split barcode column into two columns by '-' \n",
    "coords[['barcode', 'barcode2']] = coords.barcode.str.split(\"-\",expand=True)\n",
    "\n",
    "# delete barcode_2 column\n",
    "coords = coords.drop(['barcode2'], axis=1)\n",
    "\n",
    "# add '_A1' to the end of each barcode\n",
    "coords['barcode'] = coords['barcode'] + '_A1'"
   ]
  },
  {
   "cell_type": "markdown",
   "metadata": {},
   "source": [
    "+ Filter out cells that are not present in spatial_coords or anndata object"
   ]
  },
  {
   "cell_type": "code",
   "execution_count": 22,
   "metadata": {},
   "outputs": [],
   "source": [
    "# leave only barcodes that are in adata\n",
    "coords = coords[coords['barcode'].isin(a1.obs_names)]\n",
    "\n",
    "# delete cells from a1 that are not in spatial_coords\n",
    "a1 = a1[a1.obs_names.isin(coords['barcode'])]\n",
    "\n",
    "# Set the index of spatial_coords to 'barcode'\n",
    "coords.set_index('barcode', inplace=True)"
   ]
  },
  {
   "cell_type": "code",
   "execution_count": 23,
   "metadata": {},
   "outputs": [
    {
     "name": "stderr",
     "output_type": "stream",
     "text": [
      "/tmp/ipykernel_1715648/2594470106.py:6: ImplicitModificationWarning: Setting element `.obsm['spatial']` of view, initializing view as actual.\n",
      "  a1.obsm['spatial'] = coords[[\"pxl_row_in_fullres\", \"pxl_col_in_fullres\"]].values\n"
     ]
    }
   ],
   "source": [
    "# The reindex method aligns the DataFrame to the specified index\n",
    "coords = coords.reindex(a1.obs.index)\n",
    "\n",
    "# Now, ordered_spatial_coords has the same order as adata.obs\n",
    "# You can then assign its values to adata.obsm\n",
    "a1.obsm['spatial'] = coords[[\"pxl_row_in_fullres\", \"pxl_col_in_fullres\"]].values"
   ]
  },
  {
   "cell_type": "code",
   "execution_count": 24,
   "metadata": {},
   "outputs": [],
   "source": [
    "spatial_key = \"spatial\"\n",
    "library_id = \"tissue42\"\n",
    "a1.uns[spatial_key] = {library_id: {}}\n",
    "a1.uns[spatial_key][library_id][\"images\"] = {}\n",
    "a1.uns[spatial_key][library_id][\"images\"] = {\"hires\": hires, \"lowres\": lowres}\n",
    "a1.uns[spatial_key][library_id][\"scalefactors\"] = {\"spot_diameter_fullres\": 54.37959101469902, \"tissue_hires_scalef\": 0.28401023, \"fiducial_diameter_fullres\": 87.84395471605225, \"tissue_lowres_scalef\": 0.08520307}"
   ]
  },
  {
   "cell_type": "markdown",
   "metadata": {},
   "source": [
    "+ Write anndata object"
   ]
  },
  {
   "cell_type": "code",
   "execution_count": 25,
   "metadata": {},
   "outputs": [],
   "source": [
    "a1.write_h5ad(f'{results_dir}/A1_raw.h5ad')"
   ]
  },
  {
   "cell_type": "markdown",
   "metadata": {},
   "source": [
    "##### Sample A2"
   ]
  },
  {
   "cell_type": "markdown",
   "metadata": {},
   "source": [
    "+ Filter sample"
   ]
  },
  {
   "cell_type": "code",
   "execution_count": 26,
   "metadata": {},
   "outputs": [],
   "source": [
    "a2 = adata[adata.obs['Sample_ID'] == 'A2', :]"
   ]
  },
  {
   "cell_type": "markdown",
   "metadata": {},
   "source": [
    "+ Upload images"
   ]
  },
  {
   "cell_type": "code",
   "execution_count": 27,
   "metadata": {},
   "outputs": [],
   "source": [
    "hires = np.asarray(Image.open(f'{images_dir}/GSM4797917_A2/A2/spatial/tissue_hires_image.png'))\n",
    "lowres = np.asarray(Image.open(f'{images_dir}/GSM4797917_A2/A2/spatial/tissue_lowres_image.png'))"
   ]
  },
  {
   "cell_type": "markdown",
   "metadata": {},
   "source": [
    "+ Upload coordinates"
   ]
  },
  {
   "cell_type": "code",
   "execution_count": 28,
   "metadata": {},
   "outputs": [],
   "source": [
    "coords = pd.read_csv(\n",
    "        f'{images_dir}/GSM4797917_A2/A2/spatial/tissue_positions_list.csv',\n",
    "        header=None)\n",
    "\n",
    "coords.columns = ['barcode', \"in_tissue\", \"array_row\", \"array_col\", \"pxl_col_in_fullres\", \"pxl_row_in_fullres\"]"
   ]
  },
  {
   "cell_type": "markdown",
   "metadata": {},
   "source": [
    "+ Adjust barcodes in coordinates"
   ]
  },
  {
   "cell_type": "code",
   "execution_count": 29,
   "metadata": {},
   "outputs": [],
   "source": [
    "# split barcode column into two columns by '-' \n",
    "coords[['barcode', 'barcode2']] = coords.barcode.str.split(\"-\",expand=True)\n",
    "\n",
    "# delete barcode_2 column\n",
    "coords = coords.drop(['barcode2'], axis=1)\n",
    "\n",
    "# add '_A2' to the end of each barcode\n",
    "coords['barcode'] = coords['barcode'] + '_A2'"
   ]
  },
  {
   "cell_type": "markdown",
   "metadata": {},
   "source": [
    "+ Filter out cells that are not present in spatial_coords or anndata object"
   ]
  },
  {
   "cell_type": "code",
   "execution_count": 30,
   "metadata": {},
   "outputs": [],
   "source": [
    "# leave only barcodes that are in adata\n",
    "coords = coords[coords['barcode'].isin(a2.obs_names)]\n",
    "\n",
    "# delete cells from a1 that are not in spatial_coords\n",
    "a2 = a2[a2.obs_names.isin(coords['barcode'])]\n",
    "\n",
    "# Set the index of spatial_coords to 'barcode'\n",
    "coords.set_index('barcode', inplace=True)"
   ]
  },
  {
   "cell_type": "code",
   "execution_count": 31,
   "metadata": {},
   "outputs": [
    {
     "name": "stderr",
     "output_type": "stream",
     "text": [
      "/tmp/ipykernel_1715648/558153215.py:6: ImplicitModificationWarning: Setting element `.obsm['spatial']` of view, initializing view as actual.\n",
      "  a2.obsm['spatial'] = coords[[\"pxl_row_in_fullres\", \"pxl_col_in_fullres\"]].values\n"
     ]
    }
   ],
   "source": [
    "# The reindex method aligns the DataFrame to the specified index\n",
    "coords = coords.reindex(a2.obs.index)\n",
    "\n",
    "# Now, ordered_spatial_coords has the same order as adata.obs\n",
    "# You can then assign its values to adata.obsm\n",
    "a2.obsm['spatial'] = coords[[\"pxl_row_in_fullres\", \"pxl_col_in_fullres\"]].values"
   ]
  },
  {
   "cell_type": "code",
   "execution_count": 32,
   "metadata": {},
   "outputs": [],
   "source": [
    "spatial_key = \"spatial\"\n",
    "library_id = \"tissue42\"\n",
    "a2.uns[spatial_key] = {library_id: {}}\n",
    "a2.uns[spatial_key][library_id][\"images\"] = {}\n",
    "a2.uns[spatial_key][library_id][\"images\"] = {\"hires\": hires, \"lowres\": lowres}\n",
    "a2.uns[spatial_key][library_id][\"scalefactors\"] = {\"spot_diameter_fullres\": 54.039344274655456, \"tissue_hires_scalef\": 0.28236622, \"fiducial_diameter_fullres\": 87.29432536675112, \"tissue_lowres_scalef\": 0.08470987}"
   ]
  },
  {
   "cell_type": "markdown",
   "metadata": {},
   "source": [
    "+ Write anndata object"
   ]
  },
  {
   "cell_type": "code",
   "execution_count": 33,
   "metadata": {},
   "outputs": [],
   "source": [
    "a2.write_h5ad(f'{results_dir}/A2_raw.h5ad')"
   ]
  },
  {
   "cell_type": "markdown",
   "metadata": {},
   "source": [
    "##### Sample A3"
   ]
  },
  {
   "cell_type": "markdown",
   "metadata": {},
   "source": [
    "+ Filter sample"
   ]
  },
  {
   "cell_type": "code",
   "execution_count": 34,
   "metadata": {},
   "outputs": [],
   "source": [
    "a3 = adata[adata.obs['Sample_ID'] == 'A3', :]"
   ]
  },
  {
   "cell_type": "markdown",
   "metadata": {},
   "source": [
    "+ Upload images"
   ]
  },
  {
   "cell_type": "code",
   "execution_count": 38,
   "metadata": {},
   "outputs": [],
   "source": [
    "hires = np.asarray(Image.open(f'{images_dir}/GSM4797918_A3/A3/spatial/tissue_hires_image.png'))\n",
    "lowres = np.asarray(Image.open(f'{images_dir}/GSM4797918_A3/A3/spatial/tissue_lowres_image.png'))"
   ]
  },
  {
   "cell_type": "markdown",
   "metadata": {},
   "source": [
    "+ Upload coordinates"
   ]
  },
  {
   "cell_type": "code",
   "execution_count": 39,
   "metadata": {},
   "outputs": [],
   "source": [
    "coords = pd.read_csv(\n",
    "        f'{images_dir}/GSM4797918_A3/A3/spatial/tissue_positions_list.csv',\n",
    "        header=None)\n",
    "\n",
    "coords.columns = ['barcode', \"in_tissue\", \"array_row\", \"array_col\", \"pxl_col_in_fullres\", \"pxl_row_in_fullres\"]"
   ]
  },
  {
   "cell_type": "markdown",
   "metadata": {},
   "source": [
    "+ Adjust barcodes in coordinates"
   ]
  },
  {
   "cell_type": "code",
   "execution_count": 40,
   "metadata": {},
   "outputs": [],
   "source": [
    "# split barcode column into two columns by '-' \n",
    "coords[['barcode', 'barcode2']] = coords.barcode.str.split(\"-\",expand=True)\n",
    "\n",
    "# delete barcode_2 column\n",
    "coords = coords.drop(['barcode2'], axis=1)\n",
    "\n",
    "# add '_A3' to the end of each barcode\n",
    "coords['barcode'] = coords['barcode'] + '_A3'"
   ]
  },
  {
   "cell_type": "markdown",
   "metadata": {},
   "source": [
    "+ Filter out cells that are not present in spatial_coords or anndata object"
   ]
  },
  {
   "cell_type": "code",
   "execution_count": 41,
   "metadata": {},
   "outputs": [],
   "source": [
    "# leave only barcodes that are in adata\n",
    "coords = coords[coords['barcode'].isin(a3.obs_names)]\n",
    "\n",
    "# delete cells from a1 that are not in spatial_coords\n",
    "a3 = a3[a3.obs_names.isin(coords['barcode'])]\n",
    "\n",
    "# Set the index of spatial_coords to 'barcode'\n",
    "coords.set_index('barcode', inplace=True)"
   ]
  },
  {
   "cell_type": "code",
   "execution_count": 42,
   "metadata": {},
   "outputs": [
    {
     "name": "stderr",
     "output_type": "stream",
     "text": [
      "/tmp/ipykernel_1715648/1312770315.py:6: ImplicitModificationWarning: Setting element `.obsm['spatial']` of view, initializing view as actual.\n",
      "  a3.obsm['spatial'] = coords[[\"pxl_row_in_fullres\", \"pxl_col_in_fullres\"]].values\n"
     ]
    }
   ],
   "source": [
    "# The reindex method aligns the DataFrame to the specified index\n",
    "coords = coords.reindex(a3.obs.index)\n",
    "\n",
    "# Now, ordered_spatial_coords has the same order as adata.obs\n",
    "# You can then assign its values to adata.obsm\n",
    "a3.obsm['spatial'] = coords[[\"pxl_row_in_fullres\", \"pxl_col_in_fullres\"]].values"
   ]
  },
  {
   "cell_type": "code",
   "execution_count": 43,
   "metadata": {},
   "outputs": [],
   "source": [
    "spatial_key = \"spatial\"\n",
    "library_id = \"tissue42\"\n",
    "a3.uns[spatial_key] = {library_id: {}}\n",
    "a3.uns[spatial_key][library_id][\"images\"] = {}\n",
    "a3.uns[spatial_key][library_id][\"images\"] = {\"hires\": hires, \"lowres\": lowres}\n",
    "a3.uns[spatial_key][library_id][\"scalefactors\"] = {\"spot_diameter_fullres\": 54.03811058939226, \"tissue_hires_scalef\": 0.28236622, \"fiducial_diameter_fullres\": 87.29233249055673, \"tissue_lowres_scalef\": 0.08470987}"
   ]
  },
  {
   "cell_type": "markdown",
   "metadata": {},
   "source": [
    "+ Write anndata object"
   ]
  },
  {
   "cell_type": "code",
   "execution_count": 44,
   "metadata": {},
   "outputs": [],
   "source": [
    "a3.write_h5ad(f'{results_dir}/A3_raw.h5ad')"
   ]
  },
  {
   "cell_type": "markdown",
   "metadata": {},
   "source": [
    "##### Sample A4"
   ]
  },
  {
   "cell_type": "markdown",
   "metadata": {},
   "source": [
    "+ Filter sample"
   ]
  },
  {
   "cell_type": "code",
   "execution_count": 45,
   "metadata": {},
   "outputs": [],
   "source": [
    "a4 = adata[adata.obs['Sample_ID'] == 'A4', :]"
   ]
  },
  {
   "cell_type": "markdown",
   "metadata": {},
   "source": [
    "+ Upload images"
   ]
  },
  {
   "cell_type": "code",
   "execution_count": 46,
   "metadata": {},
   "outputs": [],
   "source": [
    "hires = np.asarray(Image.open(f'{images_dir}/GSM4797919_A4/A4/spatial/tissue_hires_image.png'))\n",
    "lowres = np.asarray(Image.open(f'{images_dir}/GSM4797919_A4/A4/spatial/tissue_lowres_image.png'))"
   ]
  },
  {
   "cell_type": "markdown",
   "metadata": {},
   "source": [
    "+ Upload coordinates"
   ]
  },
  {
   "cell_type": "code",
   "execution_count": 47,
   "metadata": {},
   "outputs": [],
   "source": [
    "coords = pd.read_csv(\n",
    "        f'{images_dir}/GSM4797919_A4/A4/spatial/tissue_positions_list.csv',\n",
    "        header=None)\n",
    "\n",
    "coords.columns = ['barcode', \"in_tissue\", \"array_row\", \"array_col\", \"pxl_col_in_fullres\", \"pxl_row_in_fullres\"]"
   ]
  },
  {
   "cell_type": "markdown",
   "metadata": {},
   "source": [
    "+ Adjust barcodes in coordinates"
   ]
  },
  {
   "cell_type": "code",
   "execution_count": 48,
   "metadata": {},
   "outputs": [],
   "source": [
    "# split barcode column into two columns by '-' \n",
    "coords[['barcode', 'barcode2']] = coords.barcode.str.split(\"-\",expand=True)\n",
    "\n",
    "# delete barcode_2 column\n",
    "coords = coords.drop(['barcode2'], axis=1)\n",
    "\n",
    "# add '_A3' to the end of each barcode\n",
    "coords['barcode'] = coords['barcode'] + '_A4'"
   ]
  },
  {
   "cell_type": "markdown",
   "metadata": {},
   "source": [
    "+ Filter out cells that are not present in spatial_coords or anndata object"
   ]
  },
  {
   "cell_type": "code",
   "execution_count": 49,
   "metadata": {},
   "outputs": [],
   "source": [
    "# leave only barcodes that are in adata\n",
    "coords = coords[coords['barcode'].isin(a4.obs_names)]\n",
    "\n",
    "# delete cells from a1 that are not in spatial_coords\n",
    "a4 = a4[a4.obs_names.isin(coords['barcode'])]\n",
    "\n",
    "# Set the index of spatial_coords to 'barcode'\n",
    "coords.set_index('barcode', inplace=True)"
   ]
  },
  {
   "cell_type": "code",
   "execution_count": 50,
   "metadata": {},
   "outputs": [
    {
     "name": "stderr",
     "output_type": "stream",
     "text": [
      "/tmp/ipykernel_1715648/3996702912.py:6: ImplicitModificationWarning: Setting element `.obsm['spatial']` of view, initializing view as actual.\n",
      "  a4.obsm['spatial'] = coords[[\"pxl_row_in_fullres\", \"pxl_col_in_fullres\"]].values\n"
     ]
    }
   ],
   "source": [
    "# The reindex method aligns the DataFrame to the specified index\n",
    "coords = coords.reindex(a4.obs.index)\n",
    "\n",
    "# Now, ordered_spatial_coords has the same order as adata.obs\n",
    "# You can then assign its values to adata.obsm\n",
    "a4.obsm['spatial'] = coords[[\"pxl_row_in_fullres\", \"pxl_col_in_fullres\"]].values"
   ]
  },
  {
   "cell_type": "code",
   "execution_count": 51,
   "metadata": {},
   "outputs": [],
   "source": [
    "spatial_key = \"spatial\"\n",
    "library_id = \"tissue42\"\n",
    "a4.uns[spatial_key] = {library_id: {}}\n",
    "a4.uns[spatial_key][library_id][\"images\"] = {}\n",
    "a4.uns[spatial_key][library_id][\"images\"] = {\"hires\": hires, \"lowres\": lowres}\n",
    "a4.uns[spatial_key][library_id][\"scalefactors\"] = {\"spot_diameter_fullres\": 54.380229959942206, \"tissue_hires_scalef\": 0.28058362, \"fiducial_diameter_fullres\": 87.84498685836817, \"tissue_lowres_scalef\": 0.08417509}"
   ]
  },
  {
   "cell_type": "markdown",
   "metadata": {},
   "source": [
    "+ Write anndata object"
   ]
  },
  {
   "cell_type": "code",
   "execution_count": 52,
   "metadata": {},
   "outputs": [],
   "source": [
    "a4.write_h5ad(f'{results_dir}/A4_raw.h5ad')"
   ]
  },
  {
   "cell_type": "markdown",
   "metadata": {},
   "source": [
    "##### Sample A6"
   ]
  },
  {
   "cell_type": "markdown",
   "metadata": {},
   "source": [
    "+ Filter sample"
   ]
  },
  {
   "cell_type": "code",
   "execution_count": 53,
   "metadata": {},
   "outputs": [],
   "source": [
    "a5 = adata[adata.obs['Sample_ID'] == 'A6', :]"
   ]
  },
  {
   "cell_type": "markdown",
   "metadata": {},
   "source": [
    "+ Upload images"
   ]
  },
  {
   "cell_type": "code",
   "execution_count": 54,
   "metadata": {},
   "outputs": [],
   "source": [
    "hires = np.asarray(Image.open(f'{images_dir}/GSM4797920_A6/A6/spatial/tissue_hires_image.png'))\n",
    "lowres = np.asarray(Image.open(f'{images_dir}/GSM4797920_A6/A6/spatial/tissue_lowres_image.png'))"
   ]
  },
  {
   "cell_type": "markdown",
   "metadata": {},
   "source": [
    "+ Upload coordinates"
   ]
  },
  {
   "cell_type": "code",
   "execution_count": 55,
   "metadata": {},
   "outputs": [],
   "source": [
    "coords = pd.read_csv(\n",
    "        f'{images_dir}/GSM4797920_A6/A6/spatial/tissue_positions_list.csv',\n",
    "        header=None)\n",
    "\n",
    "coords.columns = ['barcode', \"in_tissue\", \"array_row\", \"array_col\", \"pxl_col_in_fullres\", \"pxl_row_in_fullres\"]"
   ]
  },
  {
   "cell_type": "markdown",
   "metadata": {},
   "source": [
    "+ Adjust barcodes in coordinates"
   ]
  },
  {
   "cell_type": "code",
   "execution_count": 56,
   "metadata": {},
   "outputs": [],
   "source": [
    "# split barcode column into two columns by '-' \n",
    "coords[['barcode', 'barcode2']] = coords.barcode.str.split(\"-\",expand=True)\n",
    "\n",
    "# delete barcode_2 column\n",
    "coords = coords.drop(['barcode2'], axis=1)\n",
    "\n",
    "# add '_A5' to the end of each barcode\n",
    "coords['barcode'] = coords['barcode'] + '_A6'"
   ]
  },
  {
   "cell_type": "markdown",
   "metadata": {},
   "source": [
    "+ Filter out cells that are not present in spatial_coords or anndata object"
   ]
  },
  {
   "cell_type": "code",
   "execution_count": 57,
   "metadata": {},
   "outputs": [],
   "source": [
    "# leave only barcodes that are in adata\n",
    "coords = coords[coords['barcode'].isin(a5.obs_names)]\n",
    "\n",
    "# delete cells from a1 that are not in spatial_coords\n",
    "a5 = a5[a5.obs_names.isin(coords['barcode'])]\n",
    "\n",
    "# Set the index of spatial_coords to 'barcode'\n",
    "coords.set_index('barcode', inplace=True)"
   ]
  },
  {
   "cell_type": "code",
   "execution_count": 58,
   "metadata": {},
   "outputs": [
    {
     "name": "stderr",
     "output_type": "stream",
     "text": [
      "/tmp/ipykernel_1715648/3013871389.py:6: ImplicitModificationWarning: Setting element `.obsm['spatial']` of view, initializing view as actual.\n",
      "  a5.obsm['spatial'] = coords[[\"pxl_row_in_fullres\", \"pxl_col_in_fullres\"]].values\n"
     ]
    }
   ],
   "source": [
    "# The reindex method aligns the DataFrame to the specified index\n",
    "coords = coords.reindex(a5.obs.index)\n",
    "\n",
    "# Now, ordered_spatial_coords has the same order as adata.obs\n",
    "# You can then assign its values to adata.obsm\n",
    "a5.obsm['spatial'] = coords[[\"pxl_row_in_fullres\", \"pxl_col_in_fullres\"]].values"
   ]
  },
  {
   "cell_type": "code",
   "execution_count": 59,
   "metadata": {},
   "outputs": [],
   "source": [
    "spatial_key = \"spatial\"\n",
    "library_id = \"tissue42\"\n",
    "a5.uns[spatial_key] = {library_id: {}}\n",
    "a5.uns[spatial_key][library_id][\"images\"] = {}\n",
    "a5.uns[spatial_key][library_id][\"images\"] = {\"hires\": hires, \"lowres\": lowres}\n",
    "a5.uns[spatial_key][library_id][\"scalefactors\"] = {\"spot_diameter_fullres\": 71.75987296531034, \"tissue_hires_scalef\": 0.20080322, \"fiducial_diameter_fullres\": 115.9197947901167, \"tissue_lowres_scalef\": 0.060240965}"
   ]
  },
  {
   "cell_type": "markdown",
   "metadata": {},
   "source": [
    "+ Write anndata object"
   ]
  },
  {
   "cell_type": "code",
   "execution_count": 60,
   "metadata": {},
   "outputs": [],
   "source": [
    "a5.write_h5ad(f'{results_dir}/A6_raw.h5ad')"
   ]
  },
  {
   "cell_type": "markdown",
   "metadata": {},
   "source": [
    "##### Sample A7"
   ]
  },
  {
   "cell_type": "markdown",
   "metadata": {},
   "source": [
    "+ Filter sample"
   ]
  },
  {
   "cell_type": "code",
   "execution_count": 61,
   "metadata": {},
   "outputs": [],
   "source": [
    "a7 = adata[adata.obs['Sample_ID'] == 'A7', :]"
   ]
  },
  {
   "cell_type": "markdown",
   "metadata": {},
   "source": [
    "+ Upload images"
   ]
  },
  {
   "cell_type": "code",
   "execution_count": 62,
   "metadata": {},
   "outputs": [],
   "source": [
    "hires = np.asarray(Image.open(f'{images_dir}/GSM4797921_A7/A7/spatial/tissue_hires_image.png'))\n",
    "lowres = np.asarray(Image.open(f'{images_dir}/GSM4797921_A7/A7/spatial/tissue_lowres_image.png'))"
   ]
  },
  {
   "cell_type": "markdown",
   "metadata": {},
   "source": [
    "+ Upload coordinates"
   ]
  },
  {
   "cell_type": "code",
   "execution_count": 63,
   "metadata": {},
   "outputs": [],
   "source": [
    "coords = pd.read_csv(\n",
    "        f'{images_dir}/GSM4797921_A7/A7/spatial/tissue_positions_list.csv',\n",
    "        header=None)\n",
    "\n",
    "coords.columns = ['barcode', \"in_tissue\", \"array_row\", \"array_col\", \"pxl_col_in_fullres\", \"pxl_row_in_fullres\"]"
   ]
  },
  {
   "cell_type": "markdown",
   "metadata": {},
   "source": [
    "+ Adjust barcodes in coordinates"
   ]
  },
  {
   "cell_type": "code",
   "execution_count": 64,
   "metadata": {},
   "outputs": [],
   "source": [
    "# split barcode column into two columns by '-' \n",
    "coords[['barcode', 'barcode2']] = coords.barcode.str.split(\"-\",expand=True)\n",
    "\n",
    "# delete barcode_2 column\n",
    "coords = coords.drop(['barcode2'], axis=1)\n",
    "\n",
    "# add '_A5' to the end of each barcode\n",
    "coords['barcode'] = coords['barcode'] + '_A7'"
   ]
  },
  {
   "cell_type": "markdown",
   "metadata": {},
   "source": [
    "+ Filter out cells that are not present in spatial_coords or anndata object"
   ]
  },
  {
   "cell_type": "code",
   "execution_count": 65,
   "metadata": {},
   "outputs": [],
   "source": [
    "# leave only barcodes that are in adata\n",
    "coords = coords[coords['barcode'].isin(a7.obs_names)]\n",
    "\n",
    "# delete cells from a1 that are not in spatial_coords\n",
    "a7 = a7[a7.obs_names.isin(coords['barcode'])]\n",
    "\n",
    "# Set the index of spatial_coords to 'barcode'\n",
    "coords.set_index('barcode', inplace=True)"
   ]
  },
  {
   "cell_type": "code",
   "execution_count": 66,
   "metadata": {},
   "outputs": [
    {
     "name": "stderr",
     "output_type": "stream",
     "text": [
      "/tmp/ipykernel_1715648/1242931248.py:6: ImplicitModificationWarning: Setting element `.obsm['spatial']` of view, initializing view as actual.\n",
      "  a7.obsm['spatial'] = coords[[\"pxl_row_in_fullres\", \"pxl_col_in_fullres\"]].values\n"
     ]
    }
   ],
   "source": [
    "# The reindex method aligns the DataFrame to the specified index\n",
    "coords = coords.reindex(a7.obs.index)\n",
    "\n",
    "# Now, ordered_spatial_coords has the same order as adata.obs\n",
    "# You can then assign its values to adata.obsm\n",
    "a7.obsm['spatial'] = coords[[\"pxl_row_in_fullres\", \"pxl_col_in_fullres\"]].values"
   ]
  },
  {
   "cell_type": "code",
   "execution_count": 67,
   "metadata": {},
   "outputs": [],
   "source": [
    "spatial_key = \"spatial\"\n",
    "library_id = \"tissue42\"\n",
    "a7.uns[spatial_key] = {library_id: {}}\n",
    "a7.uns[spatial_key][library_id][\"images\"] = {}\n",
    "a7.uns[spatial_key][library_id][\"images\"] = {\"hires\": hires, \"lowres\": lowres}\n",
    "a7.uns[spatial_key][library_id][\"scalefactors\"] = {\"spot_diameter_fullres\": 73.76498465185034, \"tissue_hires_scalef\": 0.1996805, \"fiducial_diameter_fullres\": 119.15882136068132, \"tissue_lowres_scalef\": 0.059904154}"
   ]
  },
  {
   "cell_type": "markdown",
   "metadata": {},
   "source": [
    "+ Write anndata object"
   ]
  },
  {
   "cell_type": "code",
   "execution_count": 68,
   "metadata": {},
   "outputs": [],
   "source": [
    "a7.write_h5ad(f'{results_dir}/A7_raw.h5ad')"
   ]
  },
  {
   "cell_type": "markdown",
   "metadata": {},
   "source": [
    "##### Sample A8"
   ]
  },
  {
   "cell_type": "markdown",
   "metadata": {},
   "source": [
    "+ Filter sample"
   ]
  },
  {
   "cell_type": "code",
   "execution_count": 69,
   "metadata": {},
   "outputs": [],
   "source": [
    "a8 = adata[adata.obs['Sample_ID'] == 'A8', :]"
   ]
  },
  {
   "cell_type": "markdown",
   "metadata": {},
   "source": [
    "+ Upload images"
   ]
  },
  {
   "cell_type": "code",
   "execution_count": 70,
   "metadata": {},
   "outputs": [],
   "source": [
    "hires = np.asarray(Image.open(f'{images_dir}/GSM4797922_A8/A8/spatial/tissue_hires_image.png'))\n",
    "lowres = np.asarray(Image.open(f'{images_dir}/GSM4797922_A8/A8/spatial/tissue_lowres_image.png'))"
   ]
  },
  {
   "cell_type": "markdown",
   "metadata": {},
   "source": [
    "+ Upload coordinates"
   ]
  },
  {
   "cell_type": "code",
   "execution_count": 71,
   "metadata": {},
   "outputs": [],
   "source": [
    "coords = pd.read_csv(\n",
    "        f'{images_dir}/GSM4797922_A8/A8/spatial/tissue_positions_list.csv',\n",
    "        header=None)\n",
    "\n",
    "coords.columns = ['barcode', \"in_tissue\", \"array_row\", \"array_col\", \"pxl_col_in_fullres\", \"pxl_row_in_fullres\"]"
   ]
  },
  {
   "cell_type": "markdown",
   "metadata": {},
   "source": [
    "+ Adjust barcodes in coordinates"
   ]
  },
  {
   "cell_type": "code",
   "execution_count": 72,
   "metadata": {},
   "outputs": [],
   "source": [
    "# split barcode column into two columns by '-' \n",
    "coords[['barcode', 'barcode2']] = coords.barcode.str.split(\"-\",expand=True)\n",
    "\n",
    "# delete barcode_2 column\n",
    "coords = coords.drop(['barcode2'], axis=1)\n",
    "\n",
    "# add '_A5' to the end of each barcode\n",
    "coords['barcode'] = coords['barcode'] + '_A8'"
   ]
  },
  {
   "cell_type": "markdown",
   "metadata": {},
   "source": [
    "+ Filter out cells that are not present in spatial_coords or anndata object"
   ]
  },
  {
   "cell_type": "code",
   "execution_count": 73,
   "metadata": {},
   "outputs": [],
   "source": [
    "# leave only barcodes that are in adata\n",
    "coords = coords[coords['barcode'].isin(a8.obs_names)]\n",
    "\n",
    "# delete cells from a1 that are not in spatial_coords\n",
    "a8 = a8[a8.obs_names.isin(coords['barcode'])]\n",
    "\n",
    "# Set the index of spatial_coords to 'barcode'\n",
    "coords.set_index('barcode', inplace=True)"
   ]
  },
  {
   "cell_type": "code",
   "execution_count": 74,
   "metadata": {},
   "outputs": [
    {
     "name": "stderr",
     "output_type": "stream",
     "text": [
      "/tmp/ipykernel_1715648/1603977187.py:6: ImplicitModificationWarning: Setting element `.obsm['spatial']` of view, initializing view as actual.\n",
      "  a8.obsm['spatial'] = coords[[\"pxl_row_in_fullres\", \"pxl_col_in_fullres\"]].values\n"
     ]
    }
   ],
   "source": [
    "# The reindex method aligns the DataFrame to the specified index\n",
    "coords = coords.reindex(a8.obs.index)\n",
    "\n",
    "# Now, ordered_spatial_coords has the same order as adata.obs\n",
    "# You can then assign its values to adata.obsm\n",
    "a8.obsm['spatial'] = coords[[\"pxl_row_in_fullres\", \"pxl_col_in_fullres\"]].values"
   ]
  },
  {
   "cell_type": "code",
   "execution_count": 75,
   "metadata": {},
   "outputs": [],
   "source": [
    "spatial_key = \"spatial\"\n",
    "library_id = \"tissue42\"\n",
    "a8.uns[spatial_key] = {library_id: {}}\n",
    "a8.uns[spatial_key][library_id][\"images\"] = {}\n",
    "a8.uns[spatial_key][library_id][\"images\"] = {\"hires\": hires, \"lowres\": lowres}\n",
    "a8.uns[spatial_key][library_id][\"scalefactors\"] = {\"spot_diameter_fullres\": 78.27009331746386, \"tissue_hires_scalef\": 0.19922303, \"fiducial_diameter_fullres\": 126.43630458974931, \"tissue_lowres_scalef\": 0.059766907}"
   ]
  },
  {
   "cell_type": "markdown",
   "metadata": {},
   "source": [
    "+ Write anndata object"
   ]
  },
  {
   "cell_type": "code",
   "execution_count": 76,
   "metadata": {},
   "outputs": [],
   "source": [
    "a8.write_h5ad(f'{results_dir}/A8_raw.h5ad')"
   ]
  },
  {
   "cell_type": "markdown",
   "metadata": {},
   "source": [
    "##### Sample A9"
   ]
  },
  {
   "cell_type": "markdown",
   "metadata": {},
   "source": [
    "+ Filter sample"
   ]
  },
  {
   "cell_type": "code",
   "execution_count": 77,
   "metadata": {},
   "outputs": [],
   "source": [
    "a9 = adata[adata.obs['Sample_ID'] == 'A9', :]"
   ]
  },
  {
   "cell_type": "markdown",
   "metadata": {},
   "source": [
    "+ Upload images"
   ]
  },
  {
   "cell_type": "code",
   "execution_count": 78,
   "metadata": {},
   "outputs": [],
   "source": [
    "hires = np.asarray(Image.open(f'{images_dir}/GSM4797923_A9/A9/spatial/tissue_hires_image.png'))\n",
    "lowres = np.asarray(Image.open(f'{images_dir}/GSM4797923_A9/A9/spatial/tissue_lowres_image.png'))"
   ]
  },
  {
   "cell_type": "markdown",
   "metadata": {},
   "source": [
    "+ Upload coordinates"
   ]
  },
  {
   "cell_type": "code",
   "execution_count": 79,
   "metadata": {},
   "outputs": [],
   "source": [
    "coords = pd.read_csv(\n",
    "        f'{images_dir}/GSM4797923_A9/A9/spatial/tissue_positions_list.csv',\n",
    "        header=None)\n",
    "\n",
    "coords.columns = ['barcode', \"in_tissue\", \"array_row\", \"array_col\", \"pxl_col_in_fullres\", \"pxl_row_in_fullres\"]"
   ]
  },
  {
   "cell_type": "markdown",
   "metadata": {},
   "source": [
    "+ Adjust barcodes in coordinates"
   ]
  },
  {
   "cell_type": "code",
   "execution_count": 80,
   "metadata": {},
   "outputs": [],
   "source": [
    "# split barcode column into two columns by '-' \n",
    "coords[['barcode', 'barcode2']] = coords.barcode.str.split(\"-\",expand=True)\n",
    "\n",
    "# delete barcode_2 column\n",
    "coords = coords.drop(['barcode2'], axis=1)\n",
    "\n",
    "# merge '_A9' to the barcode\n",
    "coords['barcode'] = coords['barcode'].astype(str) + '_A9'"
   ]
  },
  {
   "cell_type": "markdown",
   "metadata": {},
   "source": [
    "+ Filter out cells that are not present in spatial_coords or anndata object"
   ]
  },
  {
   "cell_type": "code",
   "execution_count": 81,
   "metadata": {},
   "outputs": [],
   "source": [
    "# leave only barcodes that are in adata\n",
    "coords = coords[coords['barcode'].isin(a9.obs_names)]\n",
    "\n",
    "# delete cells from a1 that are not in spatial_coords\n",
    "a9 = a9[a9.obs_names.isin(coords['barcode'])]\n",
    "\n",
    "# Set the index of spatial_coords to 'barcode'\n",
    "coords.set_index('barcode', inplace=True)"
   ]
  },
  {
   "cell_type": "code",
   "execution_count": 82,
   "metadata": {},
   "outputs": [
    {
     "name": "stderr",
     "output_type": "stream",
     "text": [
      "/tmp/ipykernel_1715648/1416747564.py:6: ImplicitModificationWarning: Setting element `.obsm['spatial']` of view, initializing view as actual.\n",
      "  a9.obsm['spatial'] = coords[[\"pxl_row_in_fullres\", \"pxl_col_in_fullres\"]].values\n"
     ]
    }
   ],
   "source": [
    "# The reindex method aligns the DataFrame to the specified index\n",
    "coords = coords.reindex(a9.obs.index)\n",
    "\n",
    "# Now, ordered_spatial_coords has the same order as adata.obs\n",
    "# You can then assign its values to adata.obsm\n",
    "a9.obsm['spatial'] = coords[[\"pxl_row_in_fullres\", \"pxl_col_in_fullres\"]].values"
   ]
  },
  {
   "cell_type": "code",
   "execution_count": 83,
   "metadata": {},
   "outputs": [],
   "source": [
    "spatial_key = \"spatial\"\n",
    "library_id = \"tissue42\"\n",
    "a9.uns[spatial_key] = {library_id: {}}\n",
    "a9.uns[spatial_key][library_id][\"images\"] = {}\n",
    "a9.uns[spatial_key][library_id][\"images\"] = {\"hires\": hires, \"lowres\": lowres}\n",
    "a9.uns[spatial_key][library_id][\"scalefactors\"] = {\"spot_diameter_fullres\": 73.99311369743836, \"tissue_hires_scalef\": 0.20671834, \"fiducial_diameter_fullres\": 119.52733751124659, \"tissue_lowres_scalef\": 0.062015504}"
   ]
  },
  {
   "cell_type": "markdown",
   "metadata": {},
   "source": [
    "+ Write anndata object"
   ]
  },
  {
   "cell_type": "code",
   "execution_count": 84,
   "metadata": {},
   "outputs": [],
   "source": [
    "a9.write_h5ad(f'{results_dir}/A9_raw.h5ad')"
   ]
  }
 ],
 "metadata": {
  "kernelspec": {
   "display_name": "Python (squidpy_env)",
   "language": "python",
   "name": "squidpy_env"
  }
 },
 "nbformat": 4,
 "nbformat_minor": 2
}
