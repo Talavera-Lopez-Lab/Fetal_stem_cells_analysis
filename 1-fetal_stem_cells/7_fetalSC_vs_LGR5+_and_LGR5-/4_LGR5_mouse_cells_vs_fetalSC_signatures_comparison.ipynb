{
 "cells": [
  {
   "cell_type": "markdown",
   "metadata": {},
   "source": [
    "#### Comparing the gene signatures across three fetal stem cells populations and LGR5+/- cells \n",
    "- **Developed by:** Anna Maguza\n",
    "- **Affilation:** Faculty of Medicine, Würzburg University\n",
    "- **Date of creation:** 10th September 2024\n",
    "- **Last modified date:** 10th September 2024\n",
    "\n",
    "This notebook is created to compare three fetal stem cells populations and LGR5+/- cells to identify are there some shared gene signatures.\n",
    "It contains from three parts:\n",
    "* Extraction of LGR5+/- signatures (DEGs) from Haber, 2017 dataset and scoring them to fetal stem cells. In this part the common set of genes was obtained using macrogenes derived from `SATURN`.\n",
    "* Using the list of Lgr5 intestinal stem cell signatures created in Muñoz, 2012 dataset and scoring them to fetal stem cells. In this part the common set of genes was obtained using `ensembl`orthologues.\n",
    "* Compare and score signatures of adult ISCs subsets identified in Biton, 2018 to fetal stem cells. In this part the common set of genes was obtained using `ensembl`orthologues. \n",
    "+ Score the most highly expressed genes from Grün, 2016 LGR5+ cells to fetal stem cells. In this part the common set of genes was obtained using `ensembl`orthologues. \n"
   ]
  },
  {
   "cell_type": "markdown",
   "metadata": {},
   "source": [
    "+ Import packages"
   ]
  },
  {
   "cell_type": "code",
   "execution_count": 1,
   "metadata": {},
   "outputs": [],
   "source": [
    "import scanpy as sc\n",
    "import pandas as pd\n",
    "import numpy as np"
   ]
  },
  {
   "cell_type": "markdown",
   "metadata": {},
   "source": [
    "+ Load fetal cells"
   ]
  },
  {
   "cell_type": "code",
   "execution_count": 2,
   "metadata": {},
   "outputs": [],
   "source": [
    "fetal_adata = sc.read_h5ad(\"data/Fetal_cells_filtered_raw.h5ad\")"
   ]
  },
  {
   "cell_type": "markdown",
   "metadata": {},
   "source": [
    "+ Normalize fetal cells"
   ]
  },
  {
   "cell_type": "code",
   "execution_count": 3,
   "metadata": {},
   "outputs": [],
   "source": [
    "fetal_adata_log = fetal_adata.copy()\n",
    "sc.pp.normalize_total(fetal_adata_log, target_sum = 1e6, exclude_highly_expressed = True) #1e6 because it is 10X\n",
    "sc.pp.log1p(fetal_adata_log)"
   ]
  },
  {
   "cell_type": "code",
   "execution_count": 4,
   "metadata": {},
   "outputs": [
    {
     "name": "stderr",
     "output_type": "stream",
     "text": [
      "/home/amaguza/miniforge3/envs/scanpy_env/lib/python3.11/site-packages/anndata/_core/anndata.py:1113: FutureWarning: is_categorical_dtype is deprecated and will be removed in a future version. Use isinstance(dtype, CategoricalDtype) instead\n",
      "  if not is_categorical_dtype(df_full[k]):\n"
     ]
    }
   ],
   "source": [
    "fetal_adata_log = fetal_adata_log[fetal_adata_log.obs['Cell States'].isin(['MTRNR2L12+ASS1+_SC', 'TA', 'RPS10+_RPS17+_SC',\n",
    "                                                                           'FXYD3+_CKB+_SC'])]"
   ]
  },
  {
   "cell_type": "code",
   "execution_count": 5,
   "metadata": {},
   "outputs": [],
   "source": [
    "fetal_adata_log_copy = fetal_adata_log.copy()"
   ]
  },
  {
   "cell_type": "markdown",
   "metadata": {},
   "source": [
    "### Score signatures from Haber, 2017 cells"
   ]
  },
  {
   "cell_type": "markdown",
   "metadata": {},
   "source": [
    "* Load mouse cells"
   ]
  },
  {
   "cell_type": "code",
   "execution_count": 5,
   "metadata": {},
   "outputs": [
    {
     "name": "stderr",
     "output_type": "stream",
     "text": [
      "/home/amaguza/miniforge3/envs/scanpy_env/lib/python3.11/site-packages/anndata/_core/anndata.py:1840: UserWarning: Variable names are not unique. To make them unique, call `.var_names_make_unique`.\n",
      "  utils.warn_names_duplicates(\"var\")\n"
     ]
    }
   ],
   "source": [
    "mouse_adata = sc.read_h5ad(\"data/Haber_2017_Smartseq_stem_cells_remapped.h5ad\")"
   ]
  },
  {
   "cell_type": "markdown",
   "metadata": {},
   "source": [
    "+ Normalize dataset"
   ]
  },
  {
   "cell_type": "code",
   "execution_count": 6,
   "metadata": {},
   "outputs": [],
   "source": [
    "mouse_adata_log = mouse_adata.copy()\n",
    "sc.pp.normalize_total(mouse_adata_log, target_sum = 1e4, exclude_highly_expressed = True) #1e4 because it is SmartSeq2\n",
    "sc.pp.log1p(mouse_adata_log)"
   ]
  },
  {
   "cell_type": "markdown",
   "metadata": {},
   "source": [
    "* Create common set of genes from macrogenes"
   ]
  },
  {
   "cell_type": "code",
   "execution_count": 7,
   "metadata": {},
   "outputs": [],
   "source": [
    "orthologues = pd.read_csv(\"data/saturn_results/macrogenes_derived_human_mouse_orthologues_10K.csv\")"
   ]
  },
  {
   "cell_type": "code",
   "execution_count": 8,
   "metadata": {},
   "outputs": [],
   "source": [
    "orthologues = orthologues.drop_duplicates(subset=['Top Mouse Gene', 'Top Human Gene'])"
   ]
  },
  {
   "cell_type": "code",
   "execution_count": 9,
   "metadata": {},
   "outputs": [],
   "source": [
    "human_genes_in_ortho = set(orthologues['Top Human Gene'])\n",
    "mouse_genes_in_ortho = set(orthologues['Top Mouse Gene'])"
   ]
  },
  {
   "cell_type": "code",
   "execution_count": 10,
   "metadata": {},
   "outputs": [
    {
     "name": "stderr",
     "output_type": "stream",
     "text": [
      "/home/amaguza/miniforge3/envs/scanpy_env/lib/python3.11/site-packages/anndata/_core/anndata.py:1113: FutureWarning: is_categorical_dtype is deprecated and will be removed in a future version. Use isinstance(dtype, CategoricalDtype) instead\n",
      "  if not is_categorical_dtype(df_full[k]):\n"
     ]
    }
   ],
   "source": [
    "fetal_adata_log = fetal_adata_log[:, ~fetal_adata_log.var_names.duplicated()].copy()\n",
    "fetal_adata_log = fetal_adata_log[:, fetal_adata_log.var_names.isin(human_genes_in_ortho)].copy()"
   ]
  },
  {
   "cell_type": "code",
   "execution_count": 11,
   "metadata": {},
   "outputs": [
    {
     "data": {
      "text/plain": [
       "AnnData object with n_obs × n_vars = 231646 × 6798\n",
       "    obs: 'Sample_ID', 'Cell Type', 'Study_name', 'Donor_ID', 'Diagnosis', 'Age', 'Region code', 'Fraction', 'Sex', 'Library_Preparation_Protocol', 'batch', 'Age_group', 'Location', 'Cell States', 'Cell States GCA', 'Chem', 'Layer', 'Cell States Kong', 'dataset', 'n_genes_by_counts', 'total_counts', 'total_counts_mito', 'pct_counts_mito', 'total_counts_ribo', 'pct_counts_ribo', 'Cell_ID', '_scvi_batch', '_scvi_labels', 'n_genes', 'n_counts'\n",
       "    var: 'feature_types-0-0-0', 'gene_name-1-0-0', 'gene_id-0-0', 'GENE-1-0', 'n_counts', 'n_cells'\n",
       "    uns: 'log1p'"
      ]
     },
     "execution_count": 11,
     "metadata": {},
     "output_type": "execute_result"
    }
   ],
   "source": [
    "fetal_adata_log"
   ]
  },
  {
   "cell_type": "code",
   "execution_count": 12,
   "metadata": {},
   "outputs": [
    {
     "name": "stderr",
     "output_type": "stream",
     "text": [
      "/home/amaguza/miniforge3/envs/scanpy_env/lib/python3.11/site-packages/anndata/_core/anndata.py:1113: FutureWarning: is_categorical_dtype is deprecated and will be removed in a future version. Use isinstance(dtype, CategoricalDtype) instead\n",
      "  if not is_categorical_dtype(df_full[k]):\n",
      "/home/amaguza/miniforge3/envs/scanpy_env/lib/python3.11/site-packages/anndata/_core/anndata.py:1840: UserWarning: Variable names are not unique. To make them unique, call `.var_names_make_unique`.\n",
      "  utils.warn_names_duplicates(\"var\")\n",
      "/home/amaguza/miniforge3/envs/scanpy_env/lib/python3.11/site-packages/anndata/_core/anndata.py:1113: FutureWarning: is_categorical_dtype is deprecated and will be removed in a future version. Use isinstance(dtype, CategoricalDtype) instead\n",
      "  if not is_categorical_dtype(df_full[k]):\n"
     ]
    }
   ],
   "source": [
    "mouse_adata_log = mouse_adata_log[:, ~mouse_adata_log.var_names.isin(['nan'])].copy()\n",
    "mouse_adata_log = mouse_adata_log[:, ~mouse_adata_log.var_names.duplicated()].copy()\n",
    "mouse_adata_log = mouse_adata_log[:, mouse_adata_log.var_names.isin(mouse_genes_in_ortho)].copy()"
   ]
  },
  {
   "cell_type": "code",
   "execution_count": 13,
   "metadata": {},
   "outputs": [],
   "source": [
    "mouse_to_human = dict(zip(orthologues['Top Mouse Gene'], orthologues['Top Human Gene']))"
   ]
  },
  {
   "cell_type": "code",
   "execution_count": 14,
   "metadata": {},
   "outputs": [
    {
     "name": "stderr",
     "output_type": "stream",
     "text": [
      "/home/amaguza/miniforge3/envs/scanpy_env/lib/python3.11/site-packages/anndata/_core/anndata.py:1113: FutureWarning: is_categorical_dtype is deprecated and will be removed in a future version. Use isinstance(dtype, CategoricalDtype) instead\n",
      "  if not is_categorical_dtype(df_full[k]):\n"
     ]
    }
   ],
   "source": [
    "mouse_adata_log.var['human_gene'] = mouse_adata_log.var_names.map(mouse_to_human)\n",
    "mouse_adata_log.var_names = mouse_adata_log.var['human_gene']\n",
    "mouse_adata_log = mouse_adata_log[:, ~mouse_adata_log.var_names.duplicated()].copy()"
   ]
  },
  {
   "cell_type": "code",
   "execution_count": 15,
   "metadata": {},
   "outputs": [
    {
     "name": "stderr",
     "output_type": "stream",
     "text": [
      "/home/amaguza/miniforge3/envs/scanpy_env/lib/python3.11/site-packages/anndata/_core/anndata.py:1113: FutureWarning: is_categorical_dtype is deprecated and will be removed in a future version. Use isinstance(dtype, CategoricalDtype) instead\n",
      "  if not is_categorical_dtype(df_full[k]):\n"
     ]
    }
   ],
   "source": [
    "common_genes = set(fetal_adata_log.var_names) & set(mouse_adata_log.var_names)\n",
    "fetal_adata_log = fetal_adata_log[:, fetal_adata_log.var_names.isin(common_genes)].copy()\n",
    "mouse_adata_log = mouse_adata_log[:, mouse_adata_log.var_names.isin(common_genes)].copy()"
   ]
  },
  {
   "cell_type": "code",
   "execution_count": 16,
   "metadata": {},
   "outputs": [
    {
     "name": "stdout",
     "output_type": "stream",
     "text": [
      "Number of genes in human dataset: 5066\n",
      "Number of genes in mouse dataset: 5066\n",
      "Number of common genes: 5066\n"
     ]
    }
   ],
   "source": [
    "print(f\"Number of genes in human dataset: {fetal_adata_log.n_vars}\")\n",
    "print(f\"Number of genes in mouse dataset: {mouse_adata_log.n_vars}\")\n",
    "print(f\"Number of common genes: {len(common_genes)}\")"
   ]
  },
  {
   "cell_type": "markdown",
   "metadata": {},
   "source": [
    "* Extract signatures using DEGs"
   ]
  },
  {
   "cell_type": "code",
   "execution_count": 18,
   "metadata": {},
   "outputs": [
    {
     "name": "stderr",
     "output_type": "stream",
     "text": [
      "/home/amaguza/miniforge3/envs/scanpy_env/lib/python3.11/site-packages/numpy/core/fromnumeric.py:84: FutureWarning: The behavior of DataFrame.sum with axis=None is deprecated, in a future version this will reduce over both axes and return a scalar. To retain the old behavior, pass axis=0 (or do not pass axis)\n",
      "  return reduction(axis=axis, out=out, **passkwargs)\n"
     ]
    }
   ],
   "source": [
    "sc.tl.rank_genes_groups(mouse_adata_log, groupby=\"cell_type\", method='wilcoxon', n_genes=100)\n",
    "mouse_df = sc.get.rank_genes_groups_df(mouse_adata_log, group=None)"
   ]
  },
  {
   "cell_type": "markdown",
   "metadata": {},
   "source": [
    "+ Score LGR5+ signatures to fetal stem cells"
   ]
  },
  {
   "cell_type": "code",
   "execution_count": 19,
   "metadata": {},
   "outputs": [],
   "source": [
    "lgr5_positive_signature = mouse_df[mouse_df[\"group\"] == 'LGR5+ stem cell']\n",
    "lgr5_positive_signature = lgr5_positive_signature['names'].tolist()"
   ]
  },
  {
   "cell_type": "code",
   "execution_count": 20,
   "metadata": {},
   "outputs": [
    {
     "name": "stderr",
     "output_type": "stream",
     "text": [
      "/home/amaguza/miniforge3/envs/scanpy_env/lib/python3.11/site-packages/anndata/_core/anndata.py:1113: FutureWarning: is_categorical_dtype is deprecated and will be removed in a future version. Use isinstance(dtype, CategoricalDtype) instead\n",
      "  if not is_categorical_dtype(df_full[k]):\n",
      "/home/amaguza/miniforge3/envs/scanpy_env/lib/python3.11/site-packages/anndata/_core/anndata.py:1113: FutureWarning: is_categorical_dtype is deprecated and will be removed in a future version. Use isinstance(dtype, CategoricalDtype) instead\n",
      "  if not is_categorical_dtype(df_full[k]):\n"
     ]
    }
   ],
   "source": [
    "sc.tl.score_genes(fetal_adata_log, gene_list=lgr5_positive_signature, score_name='lgr5_positive_score')"
   ]
  },
  {
   "cell_type": "code",
   "execution_count": null,
   "metadata": {},
   "outputs": [],
   "source": [
    "sc.set_figure_params(dpi=300, figsize=(10, 10))\n",
    "sc.pl.violin(fetal_adata_log, keys='lgr5_positive_score', groupby='Cell States', stripplot=True, inner=\"quartile\")"
   ]
  },
  {
   "cell_type": "markdown",
   "metadata": {},
   "source": [
    "+ Score LGR5- signatures to fetal stem cells"
   ]
  },
  {
   "cell_type": "code",
   "execution_count": 24,
   "metadata": {},
   "outputs": [],
   "source": [
    "lgr5_negative_signature = mouse_df[mouse_df[\"group\"] == 'LGR5- stem cell']\n",
    "lgr5_negative_signature = lgr5_negative_signature['names'].tolist()"
   ]
  },
  {
   "cell_type": "code",
   "execution_count": 25,
   "metadata": {},
   "outputs": [
    {
     "name": "stderr",
     "output_type": "stream",
     "text": [
      "/home/amaguza/miniforge3/envs/scanpy_env/lib/python3.11/site-packages/anndata/_core/anndata.py:1113: FutureWarning: is_categorical_dtype is deprecated and will be removed in a future version. Use isinstance(dtype, CategoricalDtype) instead\n",
      "  if not is_categorical_dtype(df_full[k]):\n",
      "/home/amaguza/miniforge3/envs/scanpy_env/lib/python3.11/site-packages/anndata/_core/anndata.py:1113: FutureWarning: is_categorical_dtype is deprecated and will be removed in a future version. Use isinstance(dtype, CategoricalDtype) instead\n",
      "  if not is_categorical_dtype(df_full[k]):\n"
     ]
    }
   ],
   "source": [
    "sc.tl.score_genes(fetal_adata_log, gene_list=lgr5_negative_signature, score_name='lgr5_negative_score')"
   ]
  },
  {
   "cell_type": "code",
   "execution_count": null,
   "metadata": {},
   "outputs": [],
   "source": [
    "sc.set_figure_params(dpi=300, figsize=(10, 10))\n",
    "sc.pl.violin(fetal_adata_log, keys='lgr5_negative_score', groupby='Cell States', stripplot=True, inner=\"quartile\")"
   ]
  },
  {
   "cell_type": "markdown",
   "metadata": {},
   "source": [
    "### Score LGR5+ signatures from Muñoz, 2012 paper"
   ]
  },
  {
   "cell_type": "markdown",
   "metadata": {},
   "source": [
    "+ Create a common set of genes using `ensembl`orthologues database"
   ]
  },
  {
   "cell_type": "code",
   "execution_count": 27,
   "metadata": {},
   "outputs": [],
   "source": [
    "orthologues_ensembl = pd.read_csv(\"database_data/ensembl_data/mouse_to_human_orthologues_ensembl.txt\", sep = \"\\t\")"
   ]
  },
  {
   "cell_type": "code",
   "execution_count": 29,
   "metadata": {},
   "outputs": [],
   "source": [
    "munoz_signatures= pd.read_excel(\"data/Muñoz_2012/embj2012166-sup-0002.xls\", sheet_name = \"S12\")"
   ]
  },
  {
   "cell_type": "code",
   "execution_count": 30,
   "metadata": {},
   "outputs": [],
   "source": [
    "munoz_signatures = munoz_signatures.iloc[2:]"
   ]
  },
  {
   "cell_type": "code",
   "execution_count": 31,
   "metadata": {},
   "outputs": [],
   "source": [
    "munoz_signatures = munoz_signatures.rename(columns = {munoz_signatures.columns[1]: 'Description'})"
   ]
  },
  {
   "cell_type": "markdown",
   "metadata": {},
   "source": [
    "+ Score all genes from Muñoz, 2012 dataset"
   ]
  },
  {
   "cell_type": "code",
   "execution_count": 32,
   "metadata": {},
   "outputs": [],
   "source": [
    "merged = pd.merge(munoz_signatures['The intestinal stem cell signature'], orthologues_ensembl, left_on='The intestinal stem cell signature', right_on='Gene name', how='left')"
   ]
  },
  {
   "cell_type": "code",
   "execution_count": 37,
   "metadata": {},
   "outputs": [],
   "source": [
    "munoz_signatures_genes = set(merged['Human gene name'].dropna().unique())"
   ]
  },
  {
   "cell_type": "code",
   "execution_count": 38,
   "metadata": {},
   "outputs": [
    {
     "data": {
      "text/plain": [
       "454"
      ]
     },
     "execution_count": 38,
     "metadata": {},
     "output_type": "execute_result"
    }
   ],
   "source": [
    "len(munoz_signatures_genes)"
   ]
  },
  {
   "cell_type": "code",
   "execution_count": 35,
   "metadata": {},
   "outputs": [],
   "source": [
    "fetal_adata_log = fetal_adata_log_copy.copy()"
   ]
  },
  {
   "cell_type": "code",
   "execution_count": 36,
   "metadata": {},
   "outputs": [
    {
     "data": {
      "text/plain": [
       "AnnData object with n_obs × n_vars = 231646 × 25445\n",
       "    obs: 'Sample_ID', 'Cell Type', 'Study_name', 'Donor_ID', 'Diagnosis', 'Age', 'Region code', 'Fraction', 'Sex', 'Library_Preparation_Protocol', 'batch', 'Age_group', 'Location', 'Cell States', 'Cell States GCA', 'Chem', 'Layer', 'Cell States Kong', 'dataset', 'n_genes_by_counts', 'total_counts', 'total_counts_mito', 'pct_counts_mito', 'total_counts_ribo', 'pct_counts_ribo', 'Cell_ID', '_scvi_batch', '_scvi_labels', 'n_genes', 'n_counts'\n",
       "    var: 'feature_types-0-0-0', 'gene_name-1-0-0', 'gene_id-0-0', 'GENE-1-0', 'n_counts', 'n_cells'\n",
       "    uns: 'log1p'"
      ]
     },
     "execution_count": 36,
     "metadata": {},
     "output_type": "execute_result"
    }
   ],
   "source": [
    "fetal_adata_log"
   ]
  },
  {
   "cell_type": "code",
   "execution_count": 39,
   "metadata": {},
   "outputs": [
    {
     "name": "stdout",
     "output_type": "stream",
     "text": [
      "WARNING: genes are not in var_names and ignored: ['CASP12', 'SYCN', 'ARMCX5-GPRASP2', 'GTF2I', 'DACH1', 'GPRASP3', 'NR2E3', 'SEMA3B', 'RASSF5']\n"
     ]
    },
    {
     "name": "stderr",
     "output_type": "stream",
     "text": [
      "/home/amaguza/miniforge3/envs/scanpy_env/lib/python3.11/site-packages/anndata/_core/anndata.py:1113: FutureWarning: is_categorical_dtype is deprecated and will be removed in a future version. Use isinstance(dtype, CategoricalDtype) instead\n",
      "  if not is_categorical_dtype(df_full[k]):\n",
      "/home/amaguza/miniforge3/envs/scanpy_env/lib/python3.11/site-packages/anndata/_core/anndata.py:1113: FutureWarning: is_categorical_dtype is deprecated and will be removed in a future version. Use isinstance(dtype, CategoricalDtype) instead\n",
      "  if not is_categorical_dtype(df_full[k]):\n"
     ]
    }
   ],
   "source": [
    "sc.tl.score_genes(fetal_adata_log, gene_list=munoz_signatures_genes, score_name='lgr5_positive_score')"
   ]
  },
  {
   "cell_type": "code",
   "execution_count": null,
   "metadata": {},
   "outputs": [],
   "source": [
    "sc.set_figure_params(dpi=300, figsize=(10, 10))\n",
    "sc.pl.violin(fetal_adata_log, keys='lgr5_positive_score', groupby='Cell States', stripplot=True, inner=\"quartile\")"
   ]
  },
  {
   "cell_type": "markdown",
   "metadata": {},
   "source": [
    "+ Score genes that are enriched in both transcriptomics and proteomics profiles"
   ]
  },
  {
   "cell_type": "code",
   "execution_count": 42,
   "metadata": {},
   "outputs": [
    {
     "data": {
      "text/plain": [
       "Description\n",
       "enriched in Mass Spec, enriched in either Agilent, Affymetrix or both    147\n",
       "overlap Agilent Affymetrix                                               122\n",
       "significant in Affy, enriched in Agilent                                 119\n",
       "significant in Agilent, enriched in Affy                                  50\n",
       "overlap Agilent Affymetrix MassSpec                                       33\n",
       "significant in Affy, enriched in Agilent and MassSpec                     28\n",
       "significant in Agilent, enriched in Affy and MassSpec                      5\n",
       "significant in Affy, enriched in MassSpec                                  3\n",
       "significant in Agilent, enriched in MassSpec                               3\n",
       "Name: count, dtype: int64"
      ]
     },
     "execution_count": 42,
     "metadata": {},
     "output_type": "execute_result"
    }
   ],
   "source": [
    "munoz_signatures['Description'].value_counts()"
   ]
  },
  {
   "cell_type": "code",
   "execution_count": 43,
   "metadata": {},
   "outputs": [],
   "source": [
    "munoz_signatures_transcriptomics_and_proteomics = munoz_signatures[munoz_signatures['Description'].str.contains(\"enriched in Mass Spec, enriched in either Agilent, Affymetrix or both\")]"
   ]
  },
  {
   "cell_type": "code",
   "execution_count": 44,
   "metadata": {},
   "outputs": [],
   "source": [
    "merged = pd.merge(munoz_signatures_transcriptomics_and_proteomics['The intestinal stem cell signature'], orthologues_ensembl, left_on='The intestinal stem cell signature', right_on='Gene name', how='left')"
   ]
  },
  {
   "cell_type": "code",
   "execution_count": 45,
   "metadata": {},
   "outputs": [],
   "source": [
    "munoz_signatures_genes_transcriptomics_and_proteomics = set(merged['Human gene name'].dropna().unique())"
   ]
  },
  {
   "cell_type": "code",
   "execution_count": 46,
   "metadata": {},
   "outputs": [
    {
     "data": {
      "text/plain": [
       "135"
      ]
     },
     "execution_count": 46,
     "metadata": {},
     "output_type": "execute_result"
    }
   ],
   "source": [
    "len(munoz_signatures_genes_transcriptomics_and_proteomics)"
   ]
  },
  {
   "cell_type": "code",
   "execution_count": 47,
   "metadata": {},
   "outputs": [
    {
     "name": "stdout",
     "output_type": "stream",
     "text": [
      "WARNING: genes are not in var_names and ignored: ['GTF2I']\n"
     ]
    },
    {
     "name": "stderr",
     "output_type": "stream",
     "text": [
      "/home/amaguza/miniforge3/envs/scanpy_env/lib/python3.11/site-packages/anndata/_core/anndata.py:1113: FutureWarning: is_categorical_dtype is deprecated and will be removed in a future version. Use isinstance(dtype, CategoricalDtype) instead\n",
      "  if not is_categorical_dtype(df_full[k]):\n",
      "/home/amaguza/miniforge3/envs/scanpy_env/lib/python3.11/site-packages/anndata/_core/anndata.py:1113: FutureWarning: is_categorical_dtype is deprecated and will be removed in a future version. Use isinstance(dtype, CategoricalDtype) instead\n",
      "  if not is_categorical_dtype(df_full[k]):\n"
     ]
    }
   ],
   "source": [
    "sc.tl.score_genes(fetal_adata_log, gene_list=munoz_signatures_genes_transcriptomics_and_proteomics, score_name='lgr5_positive_score')"
   ]
  },
  {
   "cell_type": "code",
   "execution_count": null,
   "metadata": {},
   "outputs": [],
   "source": [
    "sc.set_figure_params(dpi=300, figsize=(10, 10))\n",
    "sc.pl.violin(fetal_adata_log, keys='lgr5_positive_score', groupby='Cell States', stripplot=True, inner=\"quartile\")"
   ]
  },
  {
   "cell_type": "markdown",
   "metadata": {},
   "source": [
    "### Compare with ISC populations from Biton, 2018"
   ]
  },
  {
   "cell_type": "code",
   "execution_count": 59,
   "metadata": {},
   "outputs": [],
   "source": [
    "orthologues_ensembl = pd.read_csv(\"database_data/ensembl_data/mouse_to_human_orthologues_ensembl.txt\", sep = \"\\t\")"
   ]
  },
  {
   "cell_type": "code",
   "execution_count": 50,
   "metadata": {},
   "outputs": [],
   "source": [
    "isc_1 = pd.read_excel(\"data/Biton_2018/1-s2.0-S0092867418313163-mmc1.xlsx\", sheet_name = \"ISC-I\")\n",
    "isc_2 = pd.read_excel(\"data/Biton_2018/1-s2.0-S0092867418313163-mmc1.xlsx\", sheet_name = \"ISC-II\")\n",
    "isc_3 = pd.read_excel(\"data/Biton_2018/1-s2.0-S0092867418313163-mmc1.xlsx\", sheet_name = \"ISC-III\")"
   ]
  },
  {
   "cell_type": "code",
   "execution_count": 51,
   "metadata": {},
   "outputs": [],
   "source": [
    "isc_1.columns = isc_1.iloc[4]\n",
    "isc_1 = isc_1.iloc[5:]\n",
    "\n",
    "isc_2.columns = isc_2.iloc[4]\n",
    "isc_2 = isc_2.iloc[5:]\n",
    "\n",
    "isc_3.columns = isc_3.iloc[4]\n",
    "isc_3 = isc_3.iloc[5:]"
   ]
  },
  {
   "cell_type": "code",
   "execution_count": 52,
   "metadata": {},
   "outputs": [],
   "source": [
    "isc_datasets = [isc_1, isc_2, isc_3]\n",
    "isc_human_sets = []\n",
    "\n",
    "for isc_df in isc_datasets:\n",
    "    merged = pd.merge(isc_df['Gene symbol'], orthologues_ensembl, left_on='Gene symbol', right_on='Gene name', how='left')\n",
    "    human_orthologs = set(merged['Human gene name'].dropna().unique())\n",
    "    isc_human_sets.append(human_orthologs)\n"
   ]
  },
  {
   "cell_type": "code",
   "execution_count": 53,
   "metadata": {},
   "outputs": [
    {
     "data": {
      "text/plain": [
       "759"
      ]
     },
     "execution_count": 53,
     "metadata": {},
     "output_type": "execute_result"
    }
   ],
   "source": [
    "len(isc_human_sets[0])"
   ]
  },
  {
   "cell_type": "code",
   "execution_count": 54,
   "metadata": {},
   "outputs": [
    {
     "data": {
      "text/plain": [
       "718"
      ]
     },
     "execution_count": 54,
     "metadata": {},
     "output_type": "execute_result"
    }
   ],
   "source": [
    "len(isc_human_sets[1])"
   ]
  },
  {
   "cell_type": "code",
   "execution_count": 55,
   "metadata": {},
   "outputs": [
    {
     "data": {
      "text/plain": [
       "859"
      ]
     },
     "execution_count": 55,
     "metadata": {},
     "output_type": "execute_result"
    }
   ],
   "source": [
    "len(isc_human_sets[2])"
   ]
  },
  {
   "cell_type": "code",
   "execution_count": 63,
   "metadata": {},
   "outputs": [],
   "source": [
    "isc_1_genes = list(isc_human_sets[0])\n",
    "isc_1_genes = isc_1_genes[:100]\n",
    "\n",
    "isc_2_genes = list(isc_human_sets[1])\n",
    "isc_2_genes = isc_2_genes[:100]\n",
    "\n",
    "isc_3_genes = list(isc_human_sets[2])\n",
    "isc_3_genes = isc_3_genes[:100]"
   ]
  },
  {
   "cell_type": "code",
   "execution_count": 56,
   "metadata": {},
   "outputs": [
    {
     "data": {
      "text/plain": [
       "AnnData object with n_obs × n_vars = 231646 × 25445\n",
       "    obs: 'Sample_ID', 'Cell Type', 'Study_name', 'Donor_ID', 'Diagnosis', 'Age', 'Region code', 'Fraction', 'Sex', 'Library_Preparation_Protocol', 'batch', 'Age_group', 'Location', 'Cell States', 'Cell States GCA', 'Chem', 'Layer', 'Cell States Kong', 'dataset', 'n_genes_by_counts', 'total_counts', 'total_counts_mito', 'pct_counts_mito', 'total_counts_ribo', 'pct_counts_ribo', 'Cell_ID', '_scvi_batch', '_scvi_labels', 'n_genes', 'n_counts'\n",
       "    var: 'feature_types-0-0-0', 'gene_name-1-0-0', 'gene_id-0-0', 'GENE-1-0', 'n_counts', 'n_cells'\n",
       "    uns: 'log1p'"
      ]
     },
     "execution_count": 56,
     "metadata": {},
     "output_type": "execute_result"
    }
   ],
   "source": [
    "fetal_adata_log = fetal_adata_log_copy.copy()\n",
    "fetal_adata_log"
   ]
  },
  {
   "cell_type": "code",
   "execution_count": 64,
   "metadata": {},
   "outputs": [
    {
     "name": "stdout",
     "output_type": "stream",
     "text": [
      "WARNING: genes are not in var_names and ignored: ['CASP12']\n"
     ]
    },
    {
     "name": "stderr",
     "output_type": "stream",
     "text": [
      "/home/amaguza/miniforge3/envs/scanpy_env/lib/python3.11/site-packages/anndata/_core/anndata.py:1113: FutureWarning: is_categorical_dtype is deprecated and will be removed in a future version. Use isinstance(dtype, CategoricalDtype) instead\n",
      "  if not is_categorical_dtype(df_full[k]):\n",
      "/home/amaguza/miniforge3/envs/scanpy_env/lib/python3.11/site-packages/anndata/_core/anndata.py:1113: FutureWarning: is_categorical_dtype is deprecated and will be removed in a future version. Use isinstance(dtype, CategoricalDtype) instead\n",
      "  if not is_categorical_dtype(df_full[k]):\n"
     ]
    },
    {
     "name": "stdout",
     "output_type": "stream",
     "text": [
      "WARNING: genes are not in var_names and ignored: ['SNORA78', 'CYP4A22', 'CASP12', 'TRIM43']\n"
     ]
    },
    {
     "name": "stderr",
     "output_type": "stream",
     "text": [
      "/home/amaguza/miniforge3/envs/scanpy_env/lib/python3.11/site-packages/anndata/_core/anndata.py:1113: FutureWarning: is_categorical_dtype is deprecated and will be removed in a future version. Use isinstance(dtype, CategoricalDtype) instead\n",
      "  if not is_categorical_dtype(df_full[k]):\n",
      "/home/amaguza/miniforge3/envs/scanpy_env/lib/python3.11/site-packages/anndata/_core/anndata.py:1113: FutureWarning: is_categorical_dtype is deprecated and will be removed in a future version. Use isinstance(dtype, CategoricalDtype) instead\n",
      "  if not is_categorical_dtype(df_full[k]):\n"
     ]
    },
    {
     "name": "stdout",
     "output_type": "stream",
     "text": [
      "WARNING: genes are not in var_names and ignored: ['C11orf98']\n"
     ]
    },
    {
     "name": "stderr",
     "output_type": "stream",
     "text": [
      "/home/amaguza/miniforge3/envs/scanpy_env/lib/python3.11/site-packages/anndata/_core/anndata.py:1113: FutureWarning: is_categorical_dtype is deprecated and will be removed in a future version. Use isinstance(dtype, CategoricalDtype) instead\n",
      "  if not is_categorical_dtype(df_full[k]):\n",
      "/home/amaguza/miniforge3/envs/scanpy_env/lib/python3.11/site-packages/anndata/_core/anndata.py:1113: FutureWarning: is_categorical_dtype is deprecated and will be removed in a future version. Use isinstance(dtype, CategoricalDtype) instead\n",
      "  if not is_categorical_dtype(df_full[k]):\n"
     ]
    }
   ],
   "source": [
    "sc.tl.score_genes(fetal_adata_log, gene_list=isc_1_genes, score_name='ISC1_score')\n",
    "sc.tl.score_genes(fetal_adata_log, gene_list=isc_2_genes, score_name='ISC2_score')\n",
    "sc.tl.score_genes(fetal_adata_log, gene_list=isc_3_genes, score_name='ISC3_score')"
   ]
  },
  {
   "cell_type": "code",
   "execution_count": null,
   "metadata": {},
   "outputs": [],
   "source": [
    "sc.set_figure_params(dpi=300, figsize=(10, 10))\n",
    "sc.pl.violin(fetal_adata_log, keys='ISC1_score', groupby='Cell States', stripplot=True, inner=\"quartile\")"
   ]
  },
  {
   "cell_type": "code",
   "execution_count": null,
   "metadata": {},
   "outputs": [],
   "source": [
    "sc.set_figure_params(dpi=300, figsize=(10, 10))\n",
    "sc.pl.violin(fetal_adata_log, keys='ISC2_score', groupby='Cell States', stripplot=True, inner=\"quartile\")"
   ]
  },
  {
   "cell_type": "code",
   "execution_count": null,
   "metadata": {},
   "outputs": [],
   "source": [
    "sc.set_figure_params(dpi=300, figsize=(10, 10))\n",
    "sc.pl.violin(fetal_adata_log, keys='ISC3_score', groupby='Cell States', stripplot=True, inner=\"quartile\")"
   ]
  },
  {
   "cell_type": "markdown",
   "metadata": {},
   "source": [
    "#### Score for Grün, 2016 signatures "
   ]
  },
  {
   "cell_type": "code",
   "execution_count": 187,
   "metadata": {},
   "outputs": [],
   "source": [
    "grun_2016 = sc.read_h5ad(\"/mnt/LaCIE/annaM/gut_project/raw_data/Grun_2016/Grün_2016_all_cells.h5ad\")"
   ]
  },
  {
   "cell_type": "code",
   "execution_count": 188,
   "metadata": {},
   "outputs": [
    {
     "data": {
      "text/plain": [
       "gsm_description\n",
       "Extracted RNA 3-week CD24+ control cells, non-traced                   96\n",
       "Extracted RNA 3-week traced Lgr5+ cells, CD24+ fraction                96\n",
       "Extracted RNA 5-day traced Lgr5+ cells replicate 1                     96\n",
       "Extracted RNA 5-day traced Lgr5+ cells replicate 2                     96\n",
       "Extracted RNA 5-day traced Lgr5+ cells replicate 3                     96\n",
       "Extracted RNA 5-day traced Lgr5+ cells replicate 4                     96\n",
       "Extracted RNA 5-day traced Lgr5+ cells replicate 5                     96\n",
       "Extracted RNA 8-week CD24+ control cells, non-traced replicate 1       96\n",
       "Extracted RNA 8-week CD24+ control cells, non-traced replicate 2       96\n",
       "Extracted RNA 8-week traced Lgr5+ cells                                96\n",
       "Extracted RNA 8-week traced Lgr5+ cells, CD24+ fraction replicate 1    96\n",
       "Extracted RNA 8-week traced Lgr5+ cells, CD24+ fraction replicate 2    96\n",
       "Extracted RNA 8-week traced Lgr5+ cells, CD24+ fraction replicate 3    96\n",
       "Name: count, dtype: int64"
      ]
     },
     "execution_count": 188,
     "metadata": {},
     "output_type": "execute_result"
    }
   ],
   "source": [
    "grun_2016.obs['gsm_description'].value_counts() "
   ]
  },
  {
   "cell_type": "code",
   "execution_count": 189,
   "metadata": {},
   "outputs": [
    {
     "name": "stderr",
     "output_type": "stream",
     "text": [
      "/home/amaguza/miniforge3/envs/scanpy_env/lib/python3.11/site-packages/anndata/_core/anndata.py:1113: FutureWarning: is_categorical_dtype is deprecated and will be removed in a future version. Use isinstance(dtype, CategoricalDtype) instead\n",
      "  if not is_categorical_dtype(df_full[k]):\n"
     ]
    }
   ],
   "source": [
    "grun_2016 = grun_2016[grun_2016.obs['gsm_description'].str.contains(\"Lgr5+\")]"
   ]
  },
  {
   "cell_type": "code",
   "execution_count": 190,
   "metadata": {},
   "outputs": [
    {
     "name": "stderr",
     "output_type": "stream",
     "text": [
      "/tmp/ipykernel_294841/2476610837.py:1: ImplicitModificationWarning: Trying to modify attribute `.var` of view, initializing view as actual.\n",
      "  grun_2016.var['gene_name'] = grun_2016.var_names.str.split(\"__\").str[0]\n"
     ]
    }
   ],
   "source": [
    "grun_2016.var['gene_name'] = grun_2016.var_names.str.split(\"__\").str[0]\n",
    "grun_2016.var['chromosome'] = grun_2016.var_names.str.split(\"__\").str[1]\n",
    "\n",
    "grun_2016.var.index = grun_2016.var['gene_name']\n",
    "grun_2016.var.index.name = 'gene_id'"
   ]
  },
  {
   "cell_type": "code",
   "execution_count": 191,
   "metadata": {},
   "outputs": [],
   "source": [
    "mean_counts = grun_2016.X.mean(axis=0)\n",
    "grun_2016.var['mean_counts'] = mean_counts\n",
    "\n",
    "grun_genes = grun_2016.var.sort_values('mean_counts', ascending=False)"
   ]
  },
  {
   "cell_type": "code",
   "execution_count": 192,
   "metadata": {},
   "outputs": [],
   "source": [
    "grun_genes = pd.DataFrame(grun_genes)"
   ]
  },
  {
   "cell_type": "code",
   "execution_count": 193,
   "metadata": {},
   "outputs": [],
   "source": [
    "grun_genes = pd.merge(grun_genes['gene_name'], orthologues_ensembl, left_on='gene_name', right_on='Gene name', how='left')"
   ]
  },
  {
   "cell_type": "code",
   "execution_count": 194,
   "metadata": {},
   "outputs": [],
   "source": [
    "grun_genes = grun_genes['Human gene name'].dropna().unique()"
   ]
  },
  {
   "cell_type": "code",
   "execution_count": 195,
   "metadata": {},
   "outputs": [],
   "source": [
    "signature_genes = grun_genes[:100]"
   ]
  },
  {
   "cell_type": "markdown",
   "metadata": {},
   "source": [
    "+ Score genes"
   ]
  },
  {
   "cell_type": "code",
   "execution_count": 196,
   "metadata": {},
   "outputs": [],
   "source": [
    "fetal_adata_log = fetal_adata_log_copy.copy()"
   ]
  },
  {
   "cell_type": "code",
   "execution_count": 197,
   "metadata": {},
   "outputs": [
    {
     "name": "stdout",
     "output_type": "stream",
     "text": [
      "WARNING: genes are not in var_names and ignored: ['DEFA1', 'DEFA1B', 'RPSA2', 'ADH1C', 'H3-3B', 'GPX1', 'CD24']\n"
     ]
    },
    {
     "name": "stderr",
     "output_type": "stream",
     "text": [
      "/home/amaguza/miniforge3/envs/scanpy_env/lib/python3.11/site-packages/anndata/_core/anndata.py:1113: FutureWarning: is_categorical_dtype is deprecated and will be removed in a future version. Use isinstance(dtype, CategoricalDtype) instead\n",
      "  if not is_categorical_dtype(df_full[k]):\n",
      "/home/amaguza/miniforge3/envs/scanpy_env/lib/python3.11/site-packages/anndata/_core/anndata.py:1113: FutureWarning: is_categorical_dtype is deprecated and will be removed in a future version. Use isinstance(dtype, CategoricalDtype) instead\n",
      "  if not is_categorical_dtype(df_full[k]):\n"
     ]
    }
   ],
   "source": [
    "sc.tl.score_genes(fetal_adata_log, gene_list=signature_genes, score_name='LGR5+_score')"
   ]
  },
  {
   "cell_type": "code",
   "execution_count": null,
   "metadata": {},
   "outputs": [],
   "source": [
    "sc.set_figure_params(dpi=300, figsize=(10, 10))\n",
    "sc.pl.violin(fetal_adata_log, keys='LGR5+_score', groupby='Cell States', stripplot=True, inner=\"quartile\")"
   ]
  },
  {
   "cell_type": "markdown",
   "metadata": {},
   "source": [
    "+ Score populations from different cell age"
   ]
  },
  {
   "cell_type": "code",
   "execution_count": 199,
   "metadata": {},
   "outputs": [
    {
     "name": "stderr",
     "output_type": "stream",
     "text": [
      "/home/amaguza/miniforge3/envs/scanpy_env/lib/python3.11/site-packages/anndata/_core/anndata.py:1113: FutureWarning: is_categorical_dtype is deprecated and will be removed in a future version. Use isinstance(dtype, CategoricalDtype) instead\n",
      "  if not is_categorical_dtype(df_full[k]):\n"
     ]
    }
   ],
   "source": [
    "grun_2016_3_week = grun_2016[grun_2016.obs['gsm_description'].str.contains(\"3-week\")]\n",
    "grun_2016_5_day = grun_2016[grun_2016.obs['gsm_description'].str.contains(\"5-day\")]\n",
    "grun_2016_8_week = grun_2016[grun_2016.obs['gsm_description'].str.contains(\"8-week\")]"
   ]
  },
  {
   "cell_type": "code",
   "execution_count": 200,
   "metadata": {},
   "outputs": [
    {
     "name": "stderr",
     "output_type": "stream",
     "text": [
      "/tmp/ipykernel_294841/3895890168.py:2: ImplicitModificationWarning: Trying to modify attribute `.var` of view, initializing view as actual.\n",
      "  grun_2016_3_week.var['mean_counts'] = mean_counts\n",
      "/home/amaguza/miniforge3/envs/scanpy_env/lib/python3.11/site-packages/anndata/_core/anndata.py:1840: UserWarning: Variable names are not unique. To make them unique, call `.var_names_make_unique`.\n",
      "  utils.warn_names_duplicates(\"var\")\n"
     ]
    }
   ],
   "source": [
    "mean_counts = grun_2016_3_week.X.mean(axis=0)\n",
    "grun_2016_3_week.var['mean_counts'] = mean_counts\n",
    "grun_2016_3_week = grun_2016_3_week.var.sort_values('mean_counts', ascending=False)"
   ]
  },
  {
   "cell_type": "code",
   "execution_count": 201,
   "metadata": {},
   "outputs": [
    {
     "name": "stderr",
     "output_type": "stream",
     "text": [
      "/tmp/ipykernel_294841/3086603238.py:2: ImplicitModificationWarning: Trying to modify attribute `.var` of view, initializing view as actual.\n",
      "  grun_2016_5_day.var['mean_counts'] = mean_counts\n",
      "/home/amaguza/miniforge3/envs/scanpy_env/lib/python3.11/site-packages/anndata/_core/anndata.py:1840: UserWarning: Variable names are not unique. To make them unique, call `.var_names_make_unique`.\n",
      "  utils.warn_names_duplicates(\"var\")\n"
     ]
    }
   ],
   "source": [
    "mean_counts = grun_2016_5_day.X.mean(axis=0)\n",
    "grun_2016_5_day.var['mean_counts'] = mean_counts\n",
    "grun_2016_5_day = grun_2016_5_day.var.sort_values('mean_counts', ascending=False)"
   ]
  },
  {
   "cell_type": "code",
   "execution_count": 202,
   "metadata": {},
   "outputs": [
    {
     "name": "stderr",
     "output_type": "stream",
     "text": [
      "/tmp/ipykernel_294841/3971722715.py:2: ImplicitModificationWarning: Trying to modify attribute `.var` of view, initializing view as actual.\n",
      "  grun_2016_8_week.var['mean_counts'] = mean_counts\n",
      "/home/amaguza/miniforge3/envs/scanpy_env/lib/python3.11/site-packages/anndata/_core/anndata.py:1840: UserWarning: Variable names are not unique. To make them unique, call `.var_names_make_unique`.\n",
      "  utils.warn_names_duplicates(\"var\")\n"
     ]
    }
   ],
   "source": [
    "mean_counts = grun_2016_8_week.X.mean(axis=0)\n",
    "grun_2016_8_week.var['mean_counts'] = mean_counts\n",
    "grun_2016_8_week = grun_2016_8_week.var.sort_values('mean_counts', ascending=False)"
   ]
  },
  {
   "cell_type": "code",
   "execution_count": null,
   "metadata": {},
   "outputs": [],
   "source": [
    "grun_genes_3_week = pd.merge(grun_2016_3_week['gene_name'], orthologues_ensembl, left_on='gene_name', right_on='Gene name', how='left')\n",
    "grun_genes_3_week = grun_genes_3_week['Human gene name'].dropna().unique()\n",
    "signature_genes3_week = grun_genes_3_week[:100]\n",
    "\n",
    "sc.tl.score_genes(fetal_adata_log, gene_list=signature_genes3_week, score_name='LGR5+_score_3_weeks_cells')\n",
    "sc.set_figure_params(dpi=300, figsize=(10, 10))\n",
    "sc.pl.violin(fetal_adata_log, keys='LGR5+_score_3_weeks_cells', groupby='Cell States', stripplot=True, inner=\"quartile\")"
   ]
  },
  {
   "cell_type": "code",
   "execution_count": null,
   "metadata": {},
   "outputs": [],
   "source": [
    "grun_2016_5_day = pd.merge(grun_2016_5_day['gene_name'], orthologues_ensembl, left_on='gene_name', right_on='Gene name', how='left')\n",
    "grun_genes_5_day = grun_2016_5_day['Human gene name'].dropna().unique()\n",
    "signature_genes5_day = grun_genes_5_day[:100]\n",
    "\n",
    "sc.tl.score_genes(fetal_adata_log, gene_list=signature_genes5_day, score_name='LGR5+_score_5_days_cells')\n",
    "sc.set_figure_params(dpi=300, figsize=(10, 10))\n",
    "sc.pl.violin(fetal_adata_log, keys='LGR5+_score_5_days_cells', groupby='Cell States', stripplot=True, inner=\"quartile\")"
   ]
  },
  {
   "cell_type": "code",
   "execution_count": null,
   "metadata": {},
   "outputs": [],
   "source": [
    "grun_2016_8_week = pd.merge(grun_2016_8_week['gene_name'], orthologues_ensembl, left_on='gene_name', right_on='Gene name', how='left')\n",
    "grun_2016_8_week = grun_2016_8_week['Human gene name'].dropna().unique()\n",
    "signature_genes8_week = grun_2016_8_week[:100]\n",
    "\n",
    "sc.tl.score_genes(fetal_adata_log, gene_list=signature_genes8_week, score_name='LGR5+_score_8_weeks_cells')\n",
    "sc.set_figure_params(dpi=300, figsize=(10, 10))\n",
    "sc.pl.violin(fetal_adata_log, keys='LGR5+_score_8_weeks_cells', groupby='Cell States', stripplot=True, inner=\"quartile\")"
   ]
  },
  {
   "cell_type": "code",
   "execution_count": 210,
   "metadata": {},
   "outputs": [
    {
     "data": {
      "text/html": [
       "<div>\n",
       "<style scoped>\n",
       "    .dataframe tbody tr th:only-of-type {\n",
       "        vertical-align: middle;\n",
       "    }\n",
       "\n",
       "    .dataframe tbody tr th {\n",
       "        vertical-align: top;\n",
       "    }\n",
       "\n",
       "    .dataframe thead th {\n",
       "        text-align: right;\n",
       "    }\n",
       "</style>\n",
       "<table border=\"1\" class=\"dataframe\">\n",
       "  <thead>\n",
       "    <tr style=\"text-align: right;\">\n",
       "      <th></th>\n",
       "      <th>Sample_ID</th>\n",
       "      <th>Cell Type</th>\n",
       "      <th>Study_name</th>\n",
       "      <th>Donor_ID</th>\n",
       "      <th>Diagnosis</th>\n",
       "      <th>Age</th>\n",
       "      <th>Region code</th>\n",
       "      <th>Fraction</th>\n",
       "      <th>Sex</th>\n",
       "      <th>Library_Preparation_Protocol</th>\n",
       "      <th>...</th>\n",
       "      <th>pct_counts_ribo</th>\n",
       "      <th>Cell_ID</th>\n",
       "      <th>_scvi_batch</th>\n",
       "      <th>_scvi_labels</th>\n",
       "      <th>n_genes</th>\n",
       "      <th>n_counts</th>\n",
       "      <th>LGR5+_score</th>\n",
       "      <th>LGR5+_score_3_weeks_cells</th>\n",
       "      <th>LGR5+_score_5_days_cells</th>\n",
       "      <th>LGR5+_score_8_weeks_cells</th>\n",
       "    </tr>\n",
       "    <tr>\n",
       "      <th>cell_id</th>\n",
       "      <th></th>\n",
       "      <th></th>\n",
       "      <th></th>\n",
       "      <th></th>\n",
       "      <th></th>\n",
       "      <th></th>\n",
       "      <th></th>\n",
       "      <th></th>\n",
       "      <th></th>\n",
       "      <th></th>\n",
       "      <th></th>\n",
       "      <th></th>\n",
       "      <th></th>\n",
       "      <th></th>\n",
       "      <th></th>\n",
       "      <th></th>\n",
       "      <th></th>\n",
       "      <th></th>\n",
       "      <th></th>\n",
       "      <th></th>\n",
       "      <th></th>\n",
       "    </tr>\n",
       "  </thead>\n",
       "  <tbody>\n",
       "    <tr>\n",
       "      <th>AAACCTGCATCTACGA-1-Human_colon_16S8159182</th>\n",
       "      <td>F72-FPIL-0-SC-1</td>\n",
       "      <td>Epithelial</td>\n",
       "      <td>Elmentaite, 2021</td>\n",
       "      <td>F72</td>\n",
       "      <td>Fetal Healthy</td>\n",
       "      <td>16Wk</td>\n",
       "      <td>FPIL</td>\n",
       "      <td>SC</td>\n",
       "      <td>Female</td>\n",
       "      <td>10x 5' v1</td>\n",
       "      <td>...</td>\n",
       "      <td>41.668846</td>\n",
       "      <td>AAACCTGCATCTACGA-1-Human_colon_16S8159182</td>\n",
       "      <td>0</td>\n",
       "      <td>2</td>\n",
       "      <td>2965</td>\n",
       "      <td>11787.0</td>\n",
       "      <td>5.774283</td>\n",
       "      <td>5.966382</td>\n",
       "      <td>5.785009</td>\n",
       "      <td>5.666526</td>\n",
       "    </tr>\n",
       "    <tr>\n",
       "      <th>AAACGGGCAGGTTTCA-1-Human_colon_16S8159182</th>\n",
       "      <td>F72-FPIL-0-SC-1</td>\n",
       "      <td>Epithelial</td>\n",
       "      <td>Elmentaite, 2021</td>\n",
       "      <td>F72</td>\n",
       "      <td>Fetal Healthy</td>\n",
       "      <td>16Wk</td>\n",
       "      <td>FPIL</td>\n",
       "      <td>SC</td>\n",
       "      <td>Female</td>\n",
       "      <td>10x 5' v1</td>\n",
       "      <td>...</td>\n",
       "      <td>26.177607</td>\n",
       "      <td>AAACGGGCAGGTTTCA-1-Human_colon_16S8159182</td>\n",
       "      <td>0</td>\n",
       "      <td>2</td>\n",
       "      <td>1789</td>\n",
       "      <td>5313.0</td>\n",
       "      <td>5.731415</td>\n",
       "      <td>5.801635</td>\n",
       "      <td>5.758357</td>\n",
       "      <td>5.566543</td>\n",
       "    </tr>\n",
       "    <tr>\n",
       "      <th>AAACGGGTCGGCGCAT-1-Human_colon_16S8159182</th>\n",
       "      <td>F72-FPIL-0-SC-1</td>\n",
       "      <td>Epithelial</td>\n",
       "      <td>Elmentaite, 2021</td>\n",
       "      <td>F72</td>\n",
       "      <td>Fetal Healthy</td>\n",
       "      <td>16Wk</td>\n",
       "      <td>FPIL</td>\n",
       "      <td>SC</td>\n",
       "      <td>Female</td>\n",
       "      <td>10x 5' v1</td>\n",
       "      <td>...</td>\n",
       "      <td>46.285980</td>\n",
       "      <td>AAACGGGTCGGCGCAT-1-Human_colon_16S8159182</td>\n",
       "      <td>0</td>\n",
       "      <td>2</td>\n",
       "      <td>1355</td>\n",
       "      <td>4433.0</td>\n",
       "      <td>5.972621</td>\n",
       "      <td>5.962759</td>\n",
       "      <td>6.063978</td>\n",
       "      <td>5.842376</td>\n",
       "    </tr>\n",
       "    <tr>\n",
       "      <th>AAACGGGTCTTACCGC-1-Human_colon_16S8159182</th>\n",
       "      <td>F72-FPIL-0-SC-1</td>\n",
       "      <td>Epithelial</td>\n",
       "      <td>Elmentaite, 2021</td>\n",
       "      <td>F72</td>\n",
       "      <td>Fetal Healthy</td>\n",
       "      <td>16Wk</td>\n",
       "      <td>FPIL</td>\n",
       "      <td>SC</td>\n",
       "      <td>Female</td>\n",
       "      <td>10x 5' v1</td>\n",
       "      <td>...</td>\n",
       "      <td>38.484421</td>\n",
       "      <td>AAACGGGTCTTACCGC-1-Human_colon_16S8159182</td>\n",
       "      <td>0</td>\n",
       "      <td>2</td>\n",
       "      <td>3327</td>\n",
       "      <td>12475.0</td>\n",
       "      <td>5.789801</td>\n",
       "      <td>5.967800</td>\n",
       "      <td>5.726458</td>\n",
       "      <td>5.670891</td>\n",
       "    </tr>\n",
       "    <tr>\n",
       "      <th>AAAGATGAGATATACG-1-Human_colon_16S8159182</th>\n",
       "      <td>F72-FPIL-0-SC-1</td>\n",
       "      <td>Epithelial</td>\n",
       "      <td>Elmentaite, 2021</td>\n",
       "      <td>F72</td>\n",
       "      <td>Fetal Healthy</td>\n",
       "      <td>16Wk</td>\n",
       "      <td>FPIL</td>\n",
       "      <td>SC</td>\n",
       "      <td>Female</td>\n",
       "      <td>10x 5' v1</td>\n",
       "      <td>...</td>\n",
       "      <td>32.269676</td>\n",
       "      <td>AAAGATGAGATATACG-1-Human_colon_16S8159182</td>\n",
       "      <td>0</td>\n",
       "      <td>2</td>\n",
       "      <td>4638</td>\n",
       "      <td>23113.0</td>\n",
       "      <td>5.524420</td>\n",
       "      <td>5.780106</td>\n",
       "      <td>5.724367</td>\n",
       "      <td>5.326749</td>\n",
       "    </tr>\n",
       "    <tr>\n",
       "      <th>...</th>\n",
       "      <td>...</td>\n",
       "      <td>...</td>\n",
       "      <td>...</td>\n",
       "      <td>...</td>\n",
       "      <td>...</td>\n",
       "      <td>...</td>\n",
       "      <td>...</td>\n",
       "      <td>...</td>\n",
       "      <td>...</td>\n",
       "      <td>...</td>\n",
       "      <td>...</td>\n",
       "      <td>...</td>\n",
       "      <td>...</td>\n",
       "      <td>...</td>\n",
       "      <td>...</td>\n",
       "      <td>...</td>\n",
       "      <td>...</td>\n",
       "      <td>...</td>\n",
       "      <td>...</td>\n",
       "      <td>...</td>\n",
       "      <td>...</td>\n",
       "    </tr>\n",
       "    <tr>\n",
       "      <th>TGGCGCACAAGAGGCT-1-4918STDY7718977</th>\n",
       "      <td>BRC2134_10Wk_FLI_SC-EPCAMP</td>\n",
       "      <td>Epithelial</td>\n",
       "      <td>Elmentaite, 2021</td>\n",
       "      <td>BRC2134</td>\n",
       "      <td>Fetal Healthy</td>\n",
       "      <td>10Wk</td>\n",
       "      <td>FLI</td>\n",
       "      <td>SC-EPCAMP</td>\n",
       "      <td>Male</td>\n",
       "      <td>10x 3' v1</td>\n",
       "      <td>...</td>\n",
       "      <td>24.357601</td>\n",
       "      <td>TGGCGCACAAGAGGCT-1-4918STDY7718977</td>\n",
       "      <td>0</td>\n",
       "      <td>2</td>\n",
       "      <td>1094</td>\n",
       "      <td>1916.0</td>\n",
       "      <td>5.113906</td>\n",
       "      <td>5.339201</td>\n",
       "      <td>4.959648</td>\n",
       "      <td>5.047567</td>\n",
       "    </tr>\n",
       "    <tr>\n",
       "      <th>TGTCCCAGTAGCGCAA-1-4918STDY7718977</th>\n",
       "      <td>BRC2134_10Wk_FLI_SC-EPCAMP</td>\n",
       "      <td>Epithelial</td>\n",
       "      <td>Elmentaite, 2021</td>\n",
       "      <td>BRC2134</td>\n",
       "      <td>Fetal Healthy</td>\n",
       "      <td>10Wk</td>\n",
       "      <td>FLI</td>\n",
       "      <td>SC-EPCAMP</td>\n",
       "      <td>Male</td>\n",
       "      <td>10x 3' v1</td>\n",
       "      <td>...</td>\n",
       "      <td>38.328430</td>\n",
       "      <td>TGTCCCAGTAGCGCAA-1-4918STDY7718977</td>\n",
       "      <td>0</td>\n",
       "      <td>2</td>\n",
       "      <td>3934</td>\n",
       "      <td>17848.0</td>\n",
       "      <td>5.742250</td>\n",
       "      <td>5.857681</td>\n",
       "      <td>5.714561</td>\n",
       "      <td>5.606768</td>\n",
       "    </tr>\n",
       "    <tr>\n",
       "      <th>TTCTCAAGTGGGTATG-1-4918STDY7718977</th>\n",
       "      <td>BRC2134_10Wk_FLI_SC-EPCAMP</td>\n",
       "      <td>Epithelial</td>\n",
       "      <td>Elmentaite, 2021</td>\n",
       "      <td>BRC2134</td>\n",
       "      <td>Fetal Healthy</td>\n",
       "      <td>10Wk</td>\n",
       "      <td>FLI</td>\n",
       "      <td>SC-EPCAMP</td>\n",
       "      <td>Male</td>\n",
       "      <td>10x 3' v1</td>\n",
       "      <td>...</td>\n",
       "      <td>34.307201</td>\n",
       "      <td>TTCTCAAGTGGGTATG-1-4918STDY7718977</td>\n",
       "      <td>0</td>\n",
       "      <td>2</td>\n",
       "      <td>2459</td>\n",
       "      <td>7096.0</td>\n",
       "      <td>5.906542</td>\n",
       "      <td>5.891854</td>\n",
       "      <td>5.792131</td>\n",
       "      <td>5.748943</td>\n",
       "    </tr>\n",
       "    <tr>\n",
       "      <th>TTTATGCAGTTCGATC-1-4918STDY7718977</th>\n",
       "      <td>BRC2134_10Wk_FLI_SC-EPCAMP</td>\n",
       "      <td>Epithelial</td>\n",
       "      <td>Elmentaite, 2021</td>\n",
       "      <td>BRC2134</td>\n",
       "      <td>Fetal Healthy</td>\n",
       "      <td>10Wk</td>\n",
       "      <td>FLI</td>\n",
       "      <td>SC-EPCAMP</td>\n",
       "      <td>Male</td>\n",
       "      <td>10x 3' v1</td>\n",
       "      <td>...</td>\n",
       "      <td>37.516468</td>\n",
       "      <td>TTTATGCAGTTCGATC-1-4918STDY7718977</td>\n",
       "      <td>0</td>\n",
       "      <td>2</td>\n",
       "      <td>2036</td>\n",
       "      <td>6234.0</td>\n",
       "      <td>5.965969</td>\n",
       "      <td>6.151877</td>\n",
       "      <td>6.054246</td>\n",
       "      <td>5.784997</td>\n",
       "    </tr>\n",
       "    <tr>\n",
       "      <th>TTTCCTCGTCGACTGC-1-4918STDY7718977</th>\n",
       "      <td>BRC2134_10Wk_FLI_SC-EPCAMP</td>\n",
       "      <td>Epithelial</td>\n",
       "      <td>Elmentaite, 2021</td>\n",
       "      <td>BRC2134</td>\n",
       "      <td>Fetal Healthy</td>\n",
       "      <td>10Wk</td>\n",
       "      <td>FLI</td>\n",
       "      <td>SC-EPCAMP</td>\n",
       "      <td>Male</td>\n",
       "      <td>10x 3' v1</td>\n",
       "      <td>...</td>\n",
       "      <td>36.482819</td>\n",
       "      <td>TTTCCTCGTCGACTGC-1-4918STDY7718977</td>\n",
       "      <td>0</td>\n",
       "      <td>2</td>\n",
       "      <td>991</td>\n",
       "      <td>2280.0</td>\n",
       "      <td>5.931938</td>\n",
       "      <td>5.739588</td>\n",
       "      <td>5.921095</td>\n",
       "      <td>5.842739</td>\n",
       "    </tr>\n",
       "  </tbody>\n",
       "</table>\n",
       "<p>11684 rows × 34 columns</p>\n",
       "</div>"
      ],
      "text/plain": [
       "                                                            Sample_ID  \\\n",
       "cell_id                                                                 \n",
       "AAACCTGCATCTACGA-1-Human_colon_16S8159182             F72-FPIL-0-SC-1   \n",
       "AAACGGGCAGGTTTCA-1-Human_colon_16S8159182             F72-FPIL-0-SC-1   \n",
       "AAACGGGTCGGCGCAT-1-Human_colon_16S8159182             F72-FPIL-0-SC-1   \n",
       "AAACGGGTCTTACCGC-1-Human_colon_16S8159182             F72-FPIL-0-SC-1   \n",
       "AAAGATGAGATATACG-1-Human_colon_16S8159182             F72-FPIL-0-SC-1   \n",
       "...                                                               ...   \n",
       "TGGCGCACAAGAGGCT-1-4918STDY7718977         BRC2134_10Wk_FLI_SC-EPCAMP   \n",
       "TGTCCCAGTAGCGCAA-1-4918STDY7718977         BRC2134_10Wk_FLI_SC-EPCAMP   \n",
       "TTCTCAAGTGGGTATG-1-4918STDY7718977         BRC2134_10Wk_FLI_SC-EPCAMP   \n",
       "TTTATGCAGTTCGATC-1-4918STDY7718977         BRC2134_10Wk_FLI_SC-EPCAMP   \n",
       "TTTCCTCGTCGACTGC-1-4918STDY7718977         BRC2134_10Wk_FLI_SC-EPCAMP   \n",
       "\n",
       "                                            Cell Type        Study_name  \\\n",
       "cell_id                                                                   \n",
       "AAACCTGCATCTACGA-1-Human_colon_16S8159182  Epithelial  Elmentaite, 2021   \n",
       "AAACGGGCAGGTTTCA-1-Human_colon_16S8159182  Epithelial  Elmentaite, 2021   \n",
       "AAACGGGTCGGCGCAT-1-Human_colon_16S8159182  Epithelial  Elmentaite, 2021   \n",
       "AAACGGGTCTTACCGC-1-Human_colon_16S8159182  Epithelial  Elmentaite, 2021   \n",
       "AAAGATGAGATATACG-1-Human_colon_16S8159182  Epithelial  Elmentaite, 2021   \n",
       "...                                               ...               ...   \n",
       "TGGCGCACAAGAGGCT-1-4918STDY7718977         Epithelial  Elmentaite, 2021   \n",
       "TGTCCCAGTAGCGCAA-1-4918STDY7718977         Epithelial  Elmentaite, 2021   \n",
       "TTCTCAAGTGGGTATG-1-4918STDY7718977         Epithelial  Elmentaite, 2021   \n",
       "TTTATGCAGTTCGATC-1-4918STDY7718977         Epithelial  Elmentaite, 2021   \n",
       "TTTCCTCGTCGACTGC-1-4918STDY7718977         Epithelial  Elmentaite, 2021   \n",
       "\n",
       "                                          Donor_ID      Diagnosis   Age  \\\n",
       "cell_id                                                                   \n",
       "AAACCTGCATCTACGA-1-Human_colon_16S8159182      F72  Fetal Healthy  16Wk   \n",
       "AAACGGGCAGGTTTCA-1-Human_colon_16S8159182      F72  Fetal Healthy  16Wk   \n",
       "AAACGGGTCGGCGCAT-1-Human_colon_16S8159182      F72  Fetal Healthy  16Wk   \n",
       "AAACGGGTCTTACCGC-1-Human_colon_16S8159182      F72  Fetal Healthy  16Wk   \n",
       "AAAGATGAGATATACG-1-Human_colon_16S8159182      F72  Fetal Healthy  16Wk   \n",
       "...                                            ...            ...   ...   \n",
       "TGGCGCACAAGAGGCT-1-4918STDY7718977         BRC2134  Fetal Healthy  10Wk   \n",
       "TGTCCCAGTAGCGCAA-1-4918STDY7718977         BRC2134  Fetal Healthy  10Wk   \n",
       "TTCTCAAGTGGGTATG-1-4918STDY7718977         BRC2134  Fetal Healthy  10Wk   \n",
       "TTTATGCAGTTCGATC-1-4918STDY7718977         BRC2134  Fetal Healthy  10Wk   \n",
       "TTTCCTCGTCGACTGC-1-4918STDY7718977         BRC2134  Fetal Healthy  10Wk   \n",
       "\n",
       "                                          Region code   Fraction     Sex  \\\n",
       "cell_id                                                                    \n",
       "AAACCTGCATCTACGA-1-Human_colon_16S8159182        FPIL         SC  Female   \n",
       "AAACGGGCAGGTTTCA-1-Human_colon_16S8159182        FPIL         SC  Female   \n",
       "AAACGGGTCGGCGCAT-1-Human_colon_16S8159182        FPIL         SC  Female   \n",
       "AAACGGGTCTTACCGC-1-Human_colon_16S8159182        FPIL         SC  Female   \n",
       "AAAGATGAGATATACG-1-Human_colon_16S8159182        FPIL         SC  Female   \n",
       "...                                               ...        ...     ...   \n",
       "TGGCGCACAAGAGGCT-1-4918STDY7718977                FLI  SC-EPCAMP    Male   \n",
       "TGTCCCAGTAGCGCAA-1-4918STDY7718977                FLI  SC-EPCAMP    Male   \n",
       "TTCTCAAGTGGGTATG-1-4918STDY7718977                FLI  SC-EPCAMP    Male   \n",
       "TTTATGCAGTTCGATC-1-4918STDY7718977                FLI  SC-EPCAMP    Male   \n",
       "TTTCCTCGTCGACTGC-1-4918STDY7718977                FLI  SC-EPCAMP    Male   \n",
       "\n",
       "                                          Library_Preparation_Protocol  ...  \\\n",
       "cell_id                                                                 ...   \n",
       "AAACCTGCATCTACGA-1-Human_colon_16S8159182                    10x 5' v1  ...   \n",
       "AAACGGGCAGGTTTCA-1-Human_colon_16S8159182                    10x 5' v1  ...   \n",
       "AAACGGGTCGGCGCAT-1-Human_colon_16S8159182                    10x 5' v1  ...   \n",
       "AAACGGGTCTTACCGC-1-Human_colon_16S8159182                    10x 5' v1  ...   \n",
       "AAAGATGAGATATACG-1-Human_colon_16S8159182                    10x 5' v1  ...   \n",
       "...                                                                ...  ...   \n",
       "TGGCGCACAAGAGGCT-1-4918STDY7718977                           10x 3' v1  ...   \n",
       "TGTCCCAGTAGCGCAA-1-4918STDY7718977                           10x 3' v1  ...   \n",
       "TTCTCAAGTGGGTATG-1-4918STDY7718977                           10x 3' v1  ...   \n",
       "TTTATGCAGTTCGATC-1-4918STDY7718977                           10x 3' v1  ...   \n",
       "TTTCCTCGTCGACTGC-1-4918STDY7718977                           10x 3' v1  ...   \n",
       "\n",
       "                                          pct_counts_ribo  \\\n",
       "cell_id                                                     \n",
       "AAACCTGCATCTACGA-1-Human_colon_16S8159182       41.668846   \n",
       "AAACGGGCAGGTTTCA-1-Human_colon_16S8159182       26.177607   \n",
       "AAACGGGTCGGCGCAT-1-Human_colon_16S8159182       46.285980   \n",
       "AAACGGGTCTTACCGC-1-Human_colon_16S8159182       38.484421   \n",
       "AAAGATGAGATATACG-1-Human_colon_16S8159182       32.269676   \n",
       "...                                                   ...   \n",
       "TGGCGCACAAGAGGCT-1-4918STDY7718977              24.357601   \n",
       "TGTCCCAGTAGCGCAA-1-4918STDY7718977              38.328430   \n",
       "TTCTCAAGTGGGTATG-1-4918STDY7718977              34.307201   \n",
       "TTTATGCAGTTCGATC-1-4918STDY7718977              37.516468   \n",
       "TTTCCTCGTCGACTGC-1-4918STDY7718977              36.482819   \n",
       "\n",
       "                                                                             Cell_ID  \\\n",
       "cell_id                                                                                \n",
       "AAACCTGCATCTACGA-1-Human_colon_16S8159182  AAACCTGCATCTACGA-1-Human_colon_16S8159182   \n",
       "AAACGGGCAGGTTTCA-1-Human_colon_16S8159182  AAACGGGCAGGTTTCA-1-Human_colon_16S8159182   \n",
       "AAACGGGTCGGCGCAT-1-Human_colon_16S8159182  AAACGGGTCGGCGCAT-1-Human_colon_16S8159182   \n",
       "AAACGGGTCTTACCGC-1-Human_colon_16S8159182  AAACGGGTCTTACCGC-1-Human_colon_16S8159182   \n",
       "AAAGATGAGATATACG-1-Human_colon_16S8159182  AAAGATGAGATATACG-1-Human_colon_16S8159182   \n",
       "...                                                                              ...   \n",
       "TGGCGCACAAGAGGCT-1-4918STDY7718977                TGGCGCACAAGAGGCT-1-4918STDY7718977   \n",
       "TGTCCCAGTAGCGCAA-1-4918STDY7718977                TGTCCCAGTAGCGCAA-1-4918STDY7718977   \n",
       "TTCTCAAGTGGGTATG-1-4918STDY7718977                TTCTCAAGTGGGTATG-1-4918STDY7718977   \n",
       "TTTATGCAGTTCGATC-1-4918STDY7718977                TTTATGCAGTTCGATC-1-4918STDY7718977   \n",
       "TTTCCTCGTCGACTGC-1-4918STDY7718977                TTTCCTCGTCGACTGC-1-4918STDY7718977   \n",
       "\n",
       "                                          _scvi_batch _scvi_labels n_genes  \\\n",
       "cell_id                                                                      \n",
       "AAACCTGCATCTACGA-1-Human_colon_16S8159182           0            2    2965   \n",
       "AAACGGGCAGGTTTCA-1-Human_colon_16S8159182           0            2    1789   \n",
       "AAACGGGTCGGCGCAT-1-Human_colon_16S8159182           0            2    1355   \n",
       "AAACGGGTCTTACCGC-1-Human_colon_16S8159182           0            2    3327   \n",
       "AAAGATGAGATATACG-1-Human_colon_16S8159182           0            2    4638   \n",
       "...                                               ...          ...     ...   \n",
       "TGGCGCACAAGAGGCT-1-4918STDY7718977                  0            2    1094   \n",
       "TGTCCCAGTAGCGCAA-1-4918STDY7718977                  0            2    3934   \n",
       "TTCTCAAGTGGGTATG-1-4918STDY7718977                  0            2    2459   \n",
       "TTTATGCAGTTCGATC-1-4918STDY7718977                  0            2    2036   \n",
       "TTTCCTCGTCGACTGC-1-4918STDY7718977                  0            2     991   \n",
       "\n",
       "                                          n_counts LGR5+_score  \\\n",
       "cell_id                                                          \n",
       "AAACCTGCATCTACGA-1-Human_colon_16S8159182  11787.0    5.774283   \n",
       "AAACGGGCAGGTTTCA-1-Human_colon_16S8159182   5313.0    5.731415   \n",
       "AAACGGGTCGGCGCAT-1-Human_colon_16S8159182   4433.0    5.972621   \n",
       "AAACGGGTCTTACCGC-1-Human_colon_16S8159182  12475.0    5.789801   \n",
       "AAAGATGAGATATACG-1-Human_colon_16S8159182  23113.0    5.524420   \n",
       "...                                            ...         ...   \n",
       "TGGCGCACAAGAGGCT-1-4918STDY7718977          1916.0    5.113906   \n",
       "TGTCCCAGTAGCGCAA-1-4918STDY7718977         17848.0    5.742250   \n",
       "TTCTCAAGTGGGTATG-1-4918STDY7718977          7096.0    5.906542   \n",
       "TTTATGCAGTTCGATC-1-4918STDY7718977          6234.0    5.965969   \n",
       "TTTCCTCGTCGACTGC-1-4918STDY7718977          2280.0    5.931938   \n",
       "\n",
       "                                          LGR5+_score_3_weeks_cells  \\\n",
       "cell_id                                                               \n",
       "AAACCTGCATCTACGA-1-Human_colon_16S8159182                  5.966382   \n",
       "AAACGGGCAGGTTTCA-1-Human_colon_16S8159182                  5.801635   \n",
       "AAACGGGTCGGCGCAT-1-Human_colon_16S8159182                  5.962759   \n",
       "AAACGGGTCTTACCGC-1-Human_colon_16S8159182                  5.967800   \n",
       "AAAGATGAGATATACG-1-Human_colon_16S8159182                  5.780106   \n",
       "...                                                             ...   \n",
       "TGGCGCACAAGAGGCT-1-4918STDY7718977                         5.339201   \n",
       "TGTCCCAGTAGCGCAA-1-4918STDY7718977                         5.857681   \n",
       "TTCTCAAGTGGGTATG-1-4918STDY7718977                         5.891854   \n",
       "TTTATGCAGTTCGATC-1-4918STDY7718977                         6.151877   \n",
       "TTTCCTCGTCGACTGC-1-4918STDY7718977                         5.739588   \n",
       "\n",
       "                                          LGR5+_score_5_days_cells  \\\n",
       "cell_id                                                              \n",
       "AAACCTGCATCTACGA-1-Human_colon_16S8159182                 5.785009   \n",
       "AAACGGGCAGGTTTCA-1-Human_colon_16S8159182                 5.758357   \n",
       "AAACGGGTCGGCGCAT-1-Human_colon_16S8159182                 6.063978   \n",
       "AAACGGGTCTTACCGC-1-Human_colon_16S8159182                 5.726458   \n",
       "AAAGATGAGATATACG-1-Human_colon_16S8159182                 5.724367   \n",
       "...                                                            ...   \n",
       "TGGCGCACAAGAGGCT-1-4918STDY7718977                        4.959648   \n",
       "TGTCCCAGTAGCGCAA-1-4918STDY7718977                        5.714561   \n",
       "TTCTCAAGTGGGTATG-1-4918STDY7718977                        5.792131   \n",
       "TTTATGCAGTTCGATC-1-4918STDY7718977                        6.054246   \n",
       "TTTCCTCGTCGACTGC-1-4918STDY7718977                        5.921095   \n",
       "\n",
       "                                           LGR5+_score_8_weeks_cells  \n",
       "cell_id                                                               \n",
       "AAACCTGCATCTACGA-1-Human_colon_16S8159182                   5.666526  \n",
       "AAACGGGCAGGTTTCA-1-Human_colon_16S8159182                   5.566543  \n",
       "AAACGGGTCGGCGCAT-1-Human_colon_16S8159182                   5.842376  \n",
       "AAACGGGTCTTACCGC-1-Human_colon_16S8159182                   5.670891  \n",
       "AAAGATGAGATATACG-1-Human_colon_16S8159182                   5.326749  \n",
       "...                                                              ...  \n",
       "TGGCGCACAAGAGGCT-1-4918STDY7718977                          5.047567  \n",
       "TGTCCCAGTAGCGCAA-1-4918STDY7718977                          5.606768  \n",
       "TTCTCAAGTGGGTATG-1-4918STDY7718977                          5.748943  \n",
       "TTTATGCAGTTCGATC-1-4918STDY7718977                          5.784997  \n",
       "TTTCCTCGTCGACTGC-1-4918STDY7718977                          5.842739  \n",
       "\n",
       "[11684 rows x 34 columns]"
      ]
     },
     "execution_count": 210,
     "metadata": {},
     "output_type": "execute_result"
    }
   ],
   "source": [
    "fetal_adata_log.obs"
   ]
  }
 ],
 "metadata": {
  "kernelspec": {
   "display_name": "Scanpy",
   "language": "python",
   "name": "scnapy-server"
  },
  "language_info": {
   "codemirror_mode": {
    "name": "ipython",
    "version": 3
   },
   "file_extension": ".py",
   "mimetype": "text/x-python",
   "name": "python",
   "nbconvert_exporter": "python",
   "pygments_lexer": "ipython3",
   "version": "3.11.5"
  }
 },
 "nbformat": 4,
 "nbformat_minor": 2
}
