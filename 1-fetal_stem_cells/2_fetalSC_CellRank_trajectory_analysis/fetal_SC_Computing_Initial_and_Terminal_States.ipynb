{
 "cells": [
  {
   "cell_type": "markdown",
   "metadata": {},
   "source": [
    "### Notebook for the fetal stem cells initial and terminal states identification with CellRank\n",
    "- **Developed by:** Anna Maguza\n",
    "- **Place:** Wuerzburg Institute for System Immunology\n",
    "- **Date:** 6th November 2023"
   ]
  },
  {
   "cell_type": "markdown",
   "metadata": {},
   "source": [
    "### Import packages"
   ]
  },
  {
   "cell_type": "code",
   "execution_count": 1,
   "metadata": {},
   "outputs": [],
   "source": [
    "import numpy as np\n",
    "import pandas as pd\n",
    "\n",
    "import cellrank as cr\n",
    "import scanpy as sc\n",
    "from cellrank.kernels import RealTimeKernel\n",
    "\n",
    "from moscot.problems.time import TemporalProblem\n"
   ]
  },
  {
   "cell_type": "code",
   "execution_count": 2,
   "metadata": {},
   "outputs": [],
   "source": [
    "import matplotlib.pyplot as plt"
   ]
  },
  {
   "cell_type": "markdown",
   "metadata": {},
   "source": [
    "### Set up the cells"
   ]
  },
  {
   "cell_type": "code",
   "execution_count": 3,
   "metadata": {},
   "outputs": [],
   "source": [
    "%matplotlib inline"
   ]
  },
  {
   "cell_type": "code",
   "execution_count": 4,
   "metadata": {},
   "outputs": [
    {
     "name": "stdout",
     "output_type": "stream",
     "text": [
      "-----\n",
      "anndata     0.10.3\n",
      "scanpy      1.9.6\n",
      "-----\n",
      "PIL                         10.1.0\n",
      "absl                        NA\n",
      "anyio                       NA\n",
      "arrow                       1.3.0\n",
      "asttokens                   NA\n",
      "attr                        23.1.0\n",
      "attrs                       23.1.0\n",
      "babel                       2.13.1\n",
      "brotli                      1.1.0\n",
      "cellrank                    2.0.0\n",
      "certifi                     2023.07.22\n",
      "cffi                        1.16.0\n",
      "charset_normalizer          3.3.2\n",
      "chex                        0.1.8\n",
      "cloudpickle                 3.0.0\n",
      "colorama                    0.4.6\n",
      "comm                        0.1.4\n",
      "cycler                      0.12.1\n",
      "cython_runtime              NA\n",
      "dateutil                    2.8.2\n",
      "debugpy                     1.8.0\n",
      "decorator                   5.1.1\n",
      "defusedxml                  0.7.1\n",
      "docrep                      0.3.2\n",
      "etils                       1.5.1\n",
      "executing                   2.0.1\n",
      "fastjsonschema              NA\n",
      "flax                        0.7.5\n",
      "fqdn                        NA\n",
      "gmpy2                       2.1.2\n",
      "google                      NA\n",
      "h5py                        3.10.0\n",
      "idna                        3.4\n",
      "importlib_resources         NA\n",
      "ipykernel                   6.26.0\n",
      "isoduration                 NA\n",
      "jax                         0.4.19\n",
      "jaxlib                      0.4.19.dev20231024\n",
      "jaxopt                      NA\n",
      "jedi                        0.19.1\n",
      "jinja2                      3.0.3\n",
      "joblib                      1.3.2\n",
      "json5                       NA\n",
      "jsonpointer                 2.4\n",
      "jsonschema                  4.19.2\n",
      "jsonschema_specifications   NA\n",
      "jupyter_events              0.9.0\n",
      "jupyter_server              2.10.0\n",
      "jupyterlab_server           2.25.1\n",
      "kiwisolver                  1.4.5\n",
      "llvmlite                    0.41.1\n",
      "markupsafe                  2.1.3\n",
      "matplotlib                  3.5.0\n",
      "matplotlib_inline           0.1.6\n",
      "ml_dtypes                   0.3.1\n",
      "moscot                      0.3.3\n",
      "mpl_toolkits                NA\n",
      "mpmath                      1.3.0\n",
      "msgpack                     1.0.6\n",
      "natsort                     8.4.0\n",
      "nbformat                    5.9.2\n",
      "networkx                    3.2.1\n",
      "numba                       0.58.1\n",
      "numpy                       1.24.4\n",
      "opt_einsum                  v3.3.0\n",
      "optax                       0.1.7\n",
      "ott                         0.4.4\n",
      "overrides                   NA\n",
      "packaging                   23.2\n",
      "pandas                      1.3.5\n",
      "parso                       0.8.3\n",
      "patsy                       0.5.3\n",
      "petsc4py                    3.20.1\n",
      "pexpect                     4.8.0\n",
      "pickleshare                 0.7.5\n",
      "platformdirs                3.11.0\n",
      "progressbar                 4.2.0\n",
      "prometheus_client           NA\n",
      "prompt_toolkit              3.0.41\n",
      "psutil                      5.9.5\n",
      "ptyprocess                  0.7.0\n",
      "pure_eval                   0.2.2\n",
      "pydev_ipython               NA\n",
      "pydevconsole                NA\n",
      "pydevd                      2.9.5\n",
      "pydevd_file_utils           NA\n",
      "pydevd_plugins              NA\n",
      "pydevd_tracing              NA\n",
      "pygam                       0.8.0\n",
      "pygments                    2.16.1\n",
      "pygpcca                     1.0.4\n",
      "pyparsing                   3.1.1\n",
      "python_utils                NA\n",
      "pythonjsonlogger            NA\n",
      "pytz                        2023.3.post1\n",
      "referencing                 NA\n",
      "requests                    2.31.0\n",
      "rfc3339_validator           0.1.4\n",
      "rfc3986_validator           0.1.1\n",
      "rich                        NA\n",
      "rpds                        NA\n",
      "scipy                       1.11.3\n",
      "scvelo                      0.2.5\n",
      "seaborn                     0.12.2\n",
      "send2trash                  NA\n",
      "session_info                1.0.0\n",
      "six                         1.16.0\n",
      "sklearn                     1.3.2\n",
      "slepc4py                    3.20.0\n",
      "sniffio                     1.3.0\n",
      "socks                       1.7.1\n",
      "stack_data                  0.6.2\n",
      "statsmodels                 0.14.0\n",
      "sympy                       1.12\n",
      "threadpoolctl               3.2.0\n",
      "toolz                       0.12.0\n",
      "torch                       2.0.0.post3\n",
      "tornado                     6.3.3\n",
      "tqdm                        4.66.1\n",
      "traitlets                   5.13.0\n",
      "tree                        0.1.8\n",
      "typing_extensions           NA\n",
      "uri_template                NA\n",
      "urllib3                     2.0.7\n",
      "wcwidth                     0.2.9\n",
      "webcolors                   1.13\n",
      "websocket                   1.6.4\n",
      "wrapt                       1.16.0\n",
      "yaml                        6.0.1\n",
      "zipp                        NA\n",
      "zmq                         25.1.1\n",
      "-----\n",
      "IPython             8.17.2\n",
      "jupyter_client      8.6.0\n",
      "jupyter_core        5.5.0\n",
      "jupyterlab          4.0.8\n",
      "notebook            7.0.6\n",
      "-----\n",
      "Python 3.11.6 | packaged by conda-forge | (main, Oct  3 2023, 10:40:35) [GCC 12.3.0]\n",
      "Linux-6.5.10-200.fc38.x86_64-x86_64-with-glibc2.37\n",
      "-----\n",
      "Session information updated at 2023-11-14 16:04\n"
     ]
    }
   ],
   "source": [
    "sc.settings.verbosity = 3\n",
    "sc.logging.print_versions()\n",
    "\n",
    "sc.settings.set_figure_params(frameon=False, dpi=100)\n",
    "cr.settings.verbosity = 2"
   ]
  },
  {
   "cell_type": "code",
   "execution_count": 5,
   "metadata": {},
   "outputs": [],
   "source": [
    "import warnings\n",
    "\n",
    "warnings.simplefilter(\"ignore\", category=UserWarning)"
   ]
  },
  {
   "cell_type": "markdown",
   "metadata": {},
   "source": [
    "### Data Upload"
   ]
  },
  {
   "cell_type": "code",
   "execution_count": 6,
   "metadata": {},
   "outputs": [],
   "source": [
    "# upload anndata file\n",
    "input = 'FetalSC_data/Fetal_healthy_stem_cells_CellRank_experimental_time.h5ad'\n",
    "adata = sc.read_h5ad(input)"
   ]
  },
  {
   "cell_type": "markdown",
   "metadata": {},
   "source": [
    "# Identify initial and terminal states"
   ]
  },
  {
   "cell_type": "markdown",
   "metadata": {},
   "source": [
    "### Initialize an estimator"
   ]
  },
  {
   "cell_type": "code",
   "execution_count": 7,
   "metadata": {},
   "outputs": [],
   "source": [
    "vk = cr.kernels.RealTimeKernel.from_adata(adata, key=\"T_fwd\")"
   ]
  },
  {
   "cell_type": "code",
   "execution_count": 8,
   "metadata": {},
   "outputs": [
    {
     "name": "stdout",
     "output_type": "stream",
     "text": [
      "GPCCA[kernel=RealTimeKernel[n=7817], initial_states=None, terminal_states=None]\n"
     ]
    }
   ],
   "source": [
    "g = cr.estimators.GPCCA(vk)\n",
    "print(g)"
   ]
  },
  {
   "cell_type": "code",
   "execution_count": 9,
   "metadata": {},
   "outputs": [
    {
     "name": "stdout",
     "output_type": "stream",
     "text": [
      "Computing Schur decomposition\n",
      "Adding `adata.uns['eigendecomposition_fwd']`\n",
      "       `.schur_vectors`\n",
      "       `.schur_matrix`\n",
      "       `.eigendecomposition`\n",
      "    Finish (0:00:00)\n",
      "Calculating minChi criterion in interval `[4, 12]`\n",
      "Computing `6` macrostates\n",
      "Adding `.macrostates`\n",
      "       `.macrostates_memberships`\n",
      "       `.coarse_T`\n",
      "       `.coarse_initial_distribution\n",
      "       `.coarse_stationary_distribution`\n",
      "       `.schur_vectors`\n",
      "       `.schur_matrix`\n",
      "       `.eigendecomposition`\n",
      "    Finish (0:00:00)\n"
     ]
    },
    {
     "data": {
      "text/plain": [
       "GPCCA[kernel=RealTimeKernel[n=7817], initial_states=None, terminal_states=None]"
      ]
     },
     "execution_count": 9,
     "metadata": {},
     "output_type": "execute_result"
    }
   ],
   "source": [
    "# Identify macrostates\n",
    "g.fit(cluster_key=\"cluster\", n_states=[4, 12])"
   ]
  },
  {
   "cell_type": "code",
   "execution_count": null,
   "metadata": {},
   "outputs": [],
   "source": [
    "# Identify macrostates\n",
    "g.plot_macrostates(which=\"all\", discrete=True, legend_loc=\"right\", s=100)"
   ]
  },
  {
   "cell_type": "code",
   "execution_count": null,
   "metadata": {},
   "outputs": [],
   "source": [
    "# identify terminal macrostates\n",
    "g.predict_terminal_states()\n",
    "g.plot_macrostates(which=\"terminal\", legend_loc=\"right\", s=100)"
   ]
  },
  {
   "cell_type": "code",
   "execution_count": null,
   "metadata": {},
   "outputs": [],
   "source": [
    "#While the plot above just shows the cells most confidently assigned to each terminal state, \n",
    "#we can also plot the underlying continuous distribution for each macrostate.\n",
    "g.plot_macrostates(which=\"terminal\", discrete=False)\n",
    "#Each cell is colored according to the terminal state it most likely belongs to; higher color intensity reflects greater confidence in the assignment."
   ]
  },
  {
   "cell_type": "code",
   "execution_count": null,
   "metadata": {},
   "outputs": [],
   "source": [
    "#identify initial states\n",
    "g.predict_initial_states(allow_overlap=True)\n",
    "g.plot_macrostates(which=\"initial\", legend_loc=\"right\", s=100)"
   ]
  },
  {
   "cell_type": "code",
   "execution_count": 14,
   "metadata": {},
   "outputs": [
    {
     "data": {
      "text/plain": [
       "GPCCA[kernel=RealTimeKernel[n=7817], initial_states=['ASS1+_SLC40A1+_SC_4'], terminal_states=['ASS1+_SLC40A1+_SC_1', 'ASS1+_SLC40A1+_SC_3', 'RPS10+_RPS17+_SC_2']]"
      ]
     },
     "execution_count": 14,
     "metadata": {},
     "output_type": "execute_result"
    }
   ],
   "source": [
    "#print the estimator\n",
    "g"
   ]
  },
  {
   "cell_type": "code",
   "execution_count": null,
   "metadata": {},
   "outputs": [],
   "source": [
    "# Plot  coarse grained transition matrix, that classifies cells into macrostates\n",
    "g.plot_coarse_T()"
   ]
  }
 ],
 "metadata": {
  "kernelspec": {
   "display_name": "Python (CellRank2)",
   "language": "python",
   "name": "cellrank2"
  },
  "language_info": {
   "codemirror_mode": {
    "name": "ipython",
    "version": 3
   },
   "file_extension": ".py",
   "mimetype": "text/x-python",
   "name": "python",
   "nbconvert_exporter": "python",
   "pygments_lexer": "ipython3",
   "version": "3.11.6"
  }
 },
 "nbformat": 4,
 "nbformat_minor": 2
}
